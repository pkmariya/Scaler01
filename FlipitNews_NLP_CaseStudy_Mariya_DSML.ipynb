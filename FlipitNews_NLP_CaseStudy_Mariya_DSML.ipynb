{
  "nbformat": 4,
  "nbformat_minor": 0,
  "metadata": {
    "colab": {
      "provenance": [],
      "authorship_tag": "ABX9TyMRcp87CvC7RI+3R0gIt24H",
      "include_colab_link": true
    },
    "kernelspec": {
      "name": "python3",
      "display_name": "Python 3"
    },
    "language_info": {
      "name": "python"
    }
  },
  "cells": [
    {
      "cell_type": "markdown",
      "metadata": {
        "id": "view-in-github",
        "colab_type": "text"
      },
      "source": [
        "<a href=\"https://colab.research.google.com/github/pkmariya/Scaler01/blob/master/FlipitNews_NLP_CaseStudy_Mariya_DSML.ipynb\" target=\"_parent\"><img src=\"https://colab.research.google.com/assets/colab-badge.svg\" alt=\"Open In Colab\"/></a>"
      ]
    },
    {
      "cell_type": "markdown",
      "source": [
        "## Objective:\n",
        "The goal of this project is to identify & categorize the news articles into several categories like politics, technology, sports, business and entertainment based on their content using a bunch of news articles extracted from the companies’ internal database."
      ],
      "metadata": {
        "id": "AaucdpOafiMs"
      }
    },
    {
      "cell_type": "markdown",
      "source": [
        "### Import Required Libraries"
      ],
      "metadata": {
        "id": "Re2IZtcUgDmn"
      }
    },
    {
      "cell_type": "code",
      "source": [
        "# Import the libraries\n",
        "\n",
        "# For reading & manipulating the data\n",
        "import pandas as pd\n",
        "import numpy as np\n",
        "\n",
        "# For visualizing the data\n",
        "import matplotlib.pyplot as plt\n",
        "import seaborn as sns\n",
        "\n",
        "# To ignore all warnings\n",
        "import warnings\n",
        "warnings.filterwarnings('ignore')\n",
        "\n",
        "# To use Regular Expressions\n",
        "import re\n",
        "\n",
        "# To use Natural Language Processing\n",
        "import nltk\n",
        "\n",
        "# For tokenization\n",
        "from nltk.tokenize import word_tokenize\n",
        "nltk.download('punkt')\n",
        "\n",
        "# To remove stopwords\n",
        "from nltk.corpus import stopwords\n",
        "nltk.download('stopwords')\n",
        "\n",
        "# For lemmetization\n",
        "from nltk import WordNetLemmatizer\n",
        "nltk.download('wordnet')\n",
        "\n",
        "# For BoW & TF-IDF\n",
        "from sklearn.feature_extraction.text import CountVectorizer, TfidfVectorizer\n",
        "\n",
        "# For encoding the categorical variable\n",
        "!pip install category_encoders\n",
        "import category_encoders as ce\n",
        "\n",
        "# To try out different ML models\n",
        "from sklearn.tree import DecisionTreeClassifier\n",
        "from sklearn.neighbors import KNeighborsClassifier\n",
        "from sklearn.naive_bayes import MultinomialNB\n",
        "from sklearn.ensemble import RandomForestClassifier\n",
        "\n",
        "# To perform train-test split\n",
        "from sklearn.model_selection import train_test_split\n",
        "\n",
        "# Performace Metrics for evaluating the model\n",
        "from sklearn.metrics import accuracy_score, roc_auc_score, f1_score, precision_score, recall_score\n",
        "from sklearn.metrics import confusion_matrix, classification_report\n"
      ],
      "metadata": {
        "colab": {
          "base_uri": "https://localhost:8080/"
        },
        "id": "QCEiTNTu1ap9",
        "outputId": "8cd6fc76-a1ce-4dfe-e656-eba4903e1af9"
      },
      "execution_count": 1,
      "outputs": [
        {
          "output_type": "stream",
          "name": "stderr",
          "text": [
            "[nltk_data] Downloading package punkt to /root/nltk_data...\n",
            "[nltk_data]   Unzipping tokenizers/punkt.zip.\n",
            "[nltk_data] Downloading package stopwords to /root/nltk_data...\n",
            "[nltk_data]   Unzipping corpora/stopwords.zip.\n",
            "[nltk_data] Downloading package wordnet to /root/nltk_data...\n"
          ]
        },
        {
          "output_type": "stream",
          "name": "stdout",
          "text": [
            "Collecting category_encoders\n",
            "  Downloading category_encoders-2.6.1-py2.py3-none-any.whl (81 kB)\n",
            "\u001b[2K     \u001b[90m━━━━━━━━━━━━━━━━━━━━━━━━━━━━━━━━━━━━━━━━\u001b[0m \u001b[32m81.9/81.9 kB\u001b[0m \u001b[31m2.7 MB/s\u001b[0m eta \u001b[36m0:00:00\u001b[0m\n",
            "\u001b[?25hRequirement already satisfied: numpy>=1.14.0 in /usr/local/lib/python3.10/dist-packages (from category_encoders) (1.22.4)\n",
            "Requirement already satisfied: scikit-learn>=0.20.0 in /usr/local/lib/python3.10/dist-packages (from category_encoders) (1.2.2)\n",
            "Requirement already satisfied: scipy>=1.0.0 in /usr/local/lib/python3.10/dist-packages (from category_encoders) (1.10.1)\n",
            "Requirement already satisfied: statsmodels>=0.9.0 in /usr/local/lib/python3.10/dist-packages (from category_encoders) (0.13.5)\n",
            "Requirement already satisfied: pandas>=1.0.5 in /usr/local/lib/python3.10/dist-packages (from category_encoders) (1.5.3)\n",
            "Requirement already satisfied: patsy>=0.5.1 in /usr/local/lib/python3.10/dist-packages (from category_encoders) (0.5.3)\n",
            "Requirement already satisfied: python-dateutil>=2.8.1 in /usr/local/lib/python3.10/dist-packages (from pandas>=1.0.5->category_encoders) (2.8.2)\n",
            "Requirement already satisfied: pytz>=2020.1 in /usr/local/lib/python3.10/dist-packages (from pandas>=1.0.5->category_encoders) (2022.7.1)\n",
            "Requirement already satisfied: six in /usr/local/lib/python3.10/dist-packages (from patsy>=0.5.1->category_encoders) (1.16.0)\n",
            "Requirement already satisfied: joblib>=1.1.1 in /usr/local/lib/python3.10/dist-packages (from scikit-learn>=0.20.0->category_encoders) (1.2.0)\n",
            "Requirement already satisfied: threadpoolctl>=2.0.0 in /usr/local/lib/python3.10/dist-packages (from scikit-learn>=0.20.0->category_encoders) (3.1.0)\n",
            "Requirement already satisfied: packaging>=21.3 in /usr/local/lib/python3.10/dist-packages (from statsmodels>=0.9.0->category_encoders) (23.1)\n",
            "Installing collected packages: category_encoders\n",
            "Successfully installed category_encoders-2.6.1\n"
          ]
        }
      ]
    },
    {
      "cell_type": "code",
      "source": [
        "# Load the dataset\n",
        "data_df = pd.read_csv('/content/flipitnews-data.csv')"
      ],
      "metadata": {
        "id": "MuhBhwmCBw4W"
      },
      "execution_count": 2,
      "outputs": []
    },
    {
      "cell_type": "code",
      "source": [
        "# Shape of the dataset\n",
        "print(\"Given dataset contains {0} Rows and {1} Columns\".format(data_df.shape[0], data_df.shape[1]))"
      ],
      "metadata": {
        "colab": {
          "base_uri": "https://localhost:8080/"
        },
        "id": "cgXH71sNvvJB",
        "outputId": "f08ecbdd-bb33-4d4a-acfd-dafe58908547"
      },
      "execution_count": null,
      "outputs": [
        {
          "output_type": "stream",
          "name": "stdout",
          "text": [
            "Given dataset contains 2225 Rows and 2 Columns\n"
          ]
        }
      ]
    },
    {
      "cell_type": "code",
      "source": [
        "data_df.head()"
      ],
      "metadata": {
        "colab": {
          "base_uri": "https://localhost:8080/",
          "height": 204
        },
        "id": "MubSkZtzv-kJ",
        "outputId": "89975799-9e0d-4a51-f36b-b9be77d97697"
      },
      "execution_count": null,
      "outputs": [
        {
          "output_type": "execute_result",
          "data": {
            "text/plain": [
              "        Category                                            Article\n",
              "0     Technology  tv future in the hands of viewers with home th...\n",
              "1       Business  worldcom boss  left books alone  former worldc...\n",
              "2         Sports  tigers wary of farrell  gamble  leicester say ...\n",
              "3         Sports  yeading face newcastle in fa cup premiership s...\n",
              "4  Entertainment  ocean s twelve raids box office ocean s twelve..."
            ],
            "text/html": [
              "\n",
              "  <div id=\"df-f322be79-3e32-41ce-8694-7eed8bf675d5\">\n",
              "    <div class=\"colab-df-container\">\n",
              "      <div>\n",
              "<style scoped>\n",
              "    .dataframe tbody tr th:only-of-type {\n",
              "        vertical-align: middle;\n",
              "    }\n",
              "\n",
              "    .dataframe tbody tr th {\n",
              "        vertical-align: top;\n",
              "    }\n",
              "\n",
              "    .dataframe thead th {\n",
              "        text-align: right;\n",
              "    }\n",
              "</style>\n",
              "<table border=\"1\" class=\"dataframe\">\n",
              "  <thead>\n",
              "    <tr style=\"text-align: right;\">\n",
              "      <th></th>\n",
              "      <th>Category</th>\n",
              "      <th>Article</th>\n",
              "    </tr>\n",
              "  </thead>\n",
              "  <tbody>\n",
              "    <tr>\n",
              "      <th>0</th>\n",
              "      <td>Technology</td>\n",
              "      <td>tv future in the hands of viewers with home th...</td>\n",
              "    </tr>\n",
              "    <tr>\n",
              "      <th>1</th>\n",
              "      <td>Business</td>\n",
              "      <td>worldcom boss  left books alone  former worldc...</td>\n",
              "    </tr>\n",
              "    <tr>\n",
              "      <th>2</th>\n",
              "      <td>Sports</td>\n",
              "      <td>tigers wary of farrell  gamble  leicester say ...</td>\n",
              "    </tr>\n",
              "    <tr>\n",
              "      <th>3</th>\n",
              "      <td>Sports</td>\n",
              "      <td>yeading face newcastle in fa cup premiership s...</td>\n",
              "    </tr>\n",
              "    <tr>\n",
              "      <th>4</th>\n",
              "      <td>Entertainment</td>\n",
              "      <td>ocean s twelve raids box office ocean s twelve...</td>\n",
              "    </tr>\n",
              "  </tbody>\n",
              "</table>\n",
              "</div>\n",
              "      <button class=\"colab-df-convert\" onclick=\"convertToInteractive('df-f322be79-3e32-41ce-8694-7eed8bf675d5')\"\n",
              "              title=\"Convert this dataframe to an interactive table.\"\n",
              "              style=\"display:none;\">\n",
              "        \n",
              "  <svg xmlns=\"http://www.w3.org/2000/svg\" height=\"24px\"viewBox=\"0 0 24 24\"\n",
              "       width=\"24px\">\n",
              "    <path d=\"M0 0h24v24H0V0z\" fill=\"none\"/>\n",
              "    <path d=\"M18.56 5.44l.94 2.06.94-2.06 2.06-.94-2.06-.94-.94-2.06-.94 2.06-2.06.94zm-11 1L8.5 8.5l.94-2.06 2.06-.94-2.06-.94L8.5 2.5l-.94 2.06-2.06.94zm10 10l.94 2.06.94-2.06 2.06-.94-2.06-.94-.94-2.06-.94 2.06-2.06.94z\"/><path d=\"M17.41 7.96l-1.37-1.37c-.4-.4-.92-.59-1.43-.59-.52 0-1.04.2-1.43.59L10.3 9.45l-7.72 7.72c-.78.78-.78 2.05 0 2.83L4 21.41c.39.39.9.59 1.41.59.51 0 1.02-.2 1.41-.59l7.78-7.78 2.81-2.81c.8-.78.8-2.07 0-2.86zM5.41 20L4 18.59l7.72-7.72 1.47 1.35L5.41 20z\"/>\n",
              "  </svg>\n",
              "      </button>\n",
              "      \n",
              "  <style>\n",
              "    .colab-df-container {\n",
              "      display:flex;\n",
              "      flex-wrap:wrap;\n",
              "      gap: 12px;\n",
              "    }\n",
              "\n",
              "    .colab-df-convert {\n",
              "      background-color: #E8F0FE;\n",
              "      border: none;\n",
              "      border-radius: 50%;\n",
              "      cursor: pointer;\n",
              "      display: none;\n",
              "      fill: #1967D2;\n",
              "      height: 32px;\n",
              "      padding: 0 0 0 0;\n",
              "      width: 32px;\n",
              "    }\n",
              "\n",
              "    .colab-df-convert:hover {\n",
              "      background-color: #E2EBFA;\n",
              "      box-shadow: 0px 1px 2px rgba(60, 64, 67, 0.3), 0px 1px 3px 1px rgba(60, 64, 67, 0.15);\n",
              "      fill: #174EA6;\n",
              "    }\n",
              "\n",
              "    [theme=dark] .colab-df-convert {\n",
              "      background-color: #3B4455;\n",
              "      fill: #D2E3FC;\n",
              "    }\n",
              "\n",
              "    [theme=dark] .colab-df-convert:hover {\n",
              "      background-color: #434B5C;\n",
              "      box-shadow: 0px 1px 3px 1px rgba(0, 0, 0, 0.15);\n",
              "      filter: drop-shadow(0px 1px 2px rgba(0, 0, 0, 0.3));\n",
              "      fill: #FFFFFF;\n",
              "    }\n",
              "  </style>\n",
              "\n",
              "      <script>\n",
              "        const buttonEl =\n",
              "          document.querySelector('#df-f322be79-3e32-41ce-8694-7eed8bf675d5 button.colab-df-convert');\n",
              "        buttonEl.style.display =\n",
              "          google.colab.kernel.accessAllowed ? 'block' : 'none';\n",
              "\n",
              "        async function convertToInteractive(key) {\n",
              "          const element = document.querySelector('#df-f322be79-3e32-41ce-8694-7eed8bf675d5');\n",
              "          const dataTable =\n",
              "            await google.colab.kernel.invokeFunction('convertToInteractive',\n",
              "                                                     [key], {});\n",
              "          if (!dataTable) return;\n",
              "\n",
              "          const docLinkHtml = 'Like what you see? Visit the ' +\n",
              "            '<a target=\"_blank\" href=https://colab.research.google.com/notebooks/data_table.ipynb>data table notebook</a>'\n",
              "            + ' to learn more about interactive tables.';\n",
              "          element.innerHTML = '';\n",
              "          dataTable['output_type'] = 'display_data';\n",
              "          await google.colab.output.renderOutput(dataTable, element);\n",
              "          const docLink = document.createElement('div');\n",
              "          docLink.innerHTML = docLinkHtml;\n",
              "          element.appendChild(docLink);\n",
              "        }\n",
              "      </script>\n",
              "    </div>\n",
              "  </div>\n",
              "  "
            ]
          },
          "metadata": {},
          "execution_count": 147
        }
      ]
    },
    {
      "cell_type": "code",
      "source": [
        "data_df.info"
      ],
      "metadata": {
        "colab": {
          "base_uri": "https://localhost:8080/"
        },
        "id": "Vkg6_Tj3v-g7",
        "outputId": "2336c72c-578a-4d80-bb23-7d45dbfb6551"
      },
      "execution_count": null,
      "outputs": [
        {
          "output_type": "execute_result",
          "data": {
            "text/plain": [
              "<bound method DataFrame.info of            Category                                            Article\n",
              "0        Technology  tv future in the hands of viewers with home th...\n",
              "1          Business  worldcom boss  left books alone  former worldc...\n",
              "2            Sports  tigers wary of farrell  gamble  leicester say ...\n",
              "3            Sports  yeading face newcastle in fa cup premiership s...\n",
              "4     Entertainment  ocean s twelve raids box office ocean s twelve...\n",
              "...             ...                                                ...\n",
              "2220       Business  cars pull down us retail figures us retail sal...\n",
              "2221       Politics  kilroy unveils immigration policy ex-chatshow ...\n",
              "2222  Entertainment  rem announce new glasgow concert us band rem h...\n",
              "2223       Politics  how political squabbles snowball it s become c...\n",
              "2224         Sports  souness delight at euro progress boss graeme s...\n",
              "\n",
              "[2225 rows x 2 columns]>"
            ]
          },
          "metadata": {},
          "execution_count": 148
        }
      ]
    },
    {
      "cell_type": "code",
      "source": [
        "data_df.describe()"
      ],
      "metadata": {
        "colab": {
          "base_uri": "https://localhost:8080/",
          "height": 173
        },
        "id": "XCBmHAGlwDz6",
        "outputId": "aa1d6330-9242-4b5d-e78a-ef517d5a10e2"
      },
      "execution_count": null,
      "outputs": [
        {
          "output_type": "execute_result",
          "data": {
            "text/plain": [
              "       Category                                            Article\n",
              "count      2225                                               2225\n",
              "unique        5                                               2126\n",
              "top      Sports  kennedy questions trust of blair lib dem leade...\n",
              "freq        511                                                  2"
            ],
            "text/html": [
              "\n",
              "  <div id=\"df-6c687ef8-230a-44ce-adff-b8d55a7eeef9\">\n",
              "    <div class=\"colab-df-container\">\n",
              "      <div>\n",
              "<style scoped>\n",
              "    .dataframe tbody tr th:only-of-type {\n",
              "        vertical-align: middle;\n",
              "    }\n",
              "\n",
              "    .dataframe tbody tr th {\n",
              "        vertical-align: top;\n",
              "    }\n",
              "\n",
              "    .dataframe thead th {\n",
              "        text-align: right;\n",
              "    }\n",
              "</style>\n",
              "<table border=\"1\" class=\"dataframe\">\n",
              "  <thead>\n",
              "    <tr style=\"text-align: right;\">\n",
              "      <th></th>\n",
              "      <th>Category</th>\n",
              "      <th>Article</th>\n",
              "    </tr>\n",
              "  </thead>\n",
              "  <tbody>\n",
              "    <tr>\n",
              "      <th>count</th>\n",
              "      <td>2225</td>\n",
              "      <td>2225</td>\n",
              "    </tr>\n",
              "    <tr>\n",
              "      <th>unique</th>\n",
              "      <td>5</td>\n",
              "      <td>2126</td>\n",
              "    </tr>\n",
              "    <tr>\n",
              "      <th>top</th>\n",
              "      <td>Sports</td>\n",
              "      <td>kennedy questions trust of blair lib dem leade...</td>\n",
              "    </tr>\n",
              "    <tr>\n",
              "      <th>freq</th>\n",
              "      <td>511</td>\n",
              "      <td>2</td>\n",
              "    </tr>\n",
              "  </tbody>\n",
              "</table>\n",
              "</div>\n",
              "      <button class=\"colab-df-convert\" onclick=\"convertToInteractive('df-6c687ef8-230a-44ce-adff-b8d55a7eeef9')\"\n",
              "              title=\"Convert this dataframe to an interactive table.\"\n",
              "              style=\"display:none;\">\n",
              "        \n",
              "  <svg xmlns=\"http://www.w3.org/2000/svg\" height=\"24px\"viewBox=\"0 0 24 24\"\n",
              "       width=\"24px\">\n",
              "    <path d=\"M0 0h24v24H0V0z\" fill=\"none\"/>\n",
              "    <path d=\"M18.56 5.44l.94 2.06.94-2.06 2.06-.94-2.06-.94-.94-2.06-.94 2.06-2.06.94zm-11 1L8.5 8.5l.94-2.06 2.06-.94-2.06-.94L8.5 2.5l-.94 2.06-2.06.94zm10 10l.94 2.06.94-2.06 2.06-.94-2.06-.94-.94-2.06-.94 2.06-2.06.94z\"/><path d=\"M17.41 7.96l-1.37-1.37c-.4-.4-.92-.59-1.43-.59-.52 0-1.04.2-1.43.59L10.3 9.45l-7.72 7.72c-.78.78-.78 2.05 0 2.83L4 21.41c.39.39.9.59 1.41.59.51 0 1.02-.2 1.41-.59l7.78-7.78 2.81-2.81c.8-.78.8-2.07 0-2.86zM5.41 20L4 18.59l7.72-7.72 1.47 1.35L5.41 20z\"/>\n",
              "  </svg>\n",
              "      </button>\n",
              "      \n",
              "  <style>\n",
              "    .colab-df-container {\n",
              "      display:flex;\n",
              "      flex-wrap:wrap;\n",
              "      gap: 12px;\n",
              "    }\n",
              "\n",
              "    .colab-df-convert {\n",
              "      background-color: #E8F0FE;\n",
              "      border: none;\n",
              "      border-radius: 50%;\n",
              "      cursor: pointer;\n",
              "      display: none;\n",
              "      fill: #1967D2;\n",
              "      height: 32px;\n",
              "      padding: 0 0 0 0;\n",
              "      width: 32px;\n",
              "    }\n",
              "\n",
              "    .colab-df-convert:hover {\n",
              "      background-color: #E2EBFA;\n",
              "      box-shadow: 0px 1px 2px rgba(60, 64, 67, 0.3), 0px 1px 3px 1px rgba(60, 64, 67, 0.15);\n",
              "      fill: #174EA6;\n",
              "    }\n",
              "\n",
              "    [theme=dark] .colab-df-convert {\n",
              "      background-color: #3B4455;\n",
              "      fill: #D2E3FC;\n",
              "    }\n",
              "\n",
              "    [theme=dark] .colab-df-convert:hover {\n",
              "      background-color: #434B5C;\n",
              "      box-shadow: 0px 1px 3px 1px rgba(0, 0, 0, 0.15);\n",
              "      filter: drop-shadow(0px 1px 2px rgba(0, 0, 0, 0.3));\n",
              "      fill: #FFFFFF;\n",
              "    }\n",
              "  </style>\n",
              "\n",
              "      <script>\n",
              "        const buttonEl =\n",
              "          document.querySelector('#df-6c687ef8-230a-44ce-adff-b8d55a7eeef9 button.colab-df-convert');\n",
              "        buttonEl.style.display =\n",
              "          google.colab.kernel.accessAllowed ? 'block' : 'none';\n",
              "\n",
              "        async function convertToInteractive(key) {\n",
              "          const element = document.querySelector('#df-6c687ef8-230a-44ce-adff-b8d55a7eeef9');\n",
              "          const dataTable =\n",
              "            await google.colab.kernel.invokeFunction('convertToInteractive',\n",
              "                                                     [key], {});\n",
              "          if (!dataTable) return;\n",
              "\n",
              "          const docLinkHtml = 'Like what you see? Visit the ' +\n",
              "            '<a target=\"_blank\" href=https://colab.research.google.com/notebooks/data_table.ipynb>data table notebook</a>'\n",
              "            + ' to learn more about interactive tables.';\n",
              "          element.innerHTML = '';\n",
              "          dataTable['output_type'] = 'display_data';\n",
              "          await google.colab.output.renderOutput(dataTable, element);\n",
              "          const docLink = document.createElement('div');\n",
              "          docLink.innerHTML = docLinkHtml;\n",
              "          element.appendChild(docLink);\n",
              "        }\n",
              "      </script>\n",
              "    </div>\n",
              "  </div>\n",
              "  "
            ]
          },
          "metadata": {},
          "execution_count": 149
        }
      ]
    },
    {
      "cell_type": "code",
      "source": [
        "data_df.nunique()"
      ],
      "metadata": {
        "colab": {
          "base_uri": "https://localhost:8080/"
        },
        "id": "Fb5qvi_iuTgl",
        "outputId": "61b00c19-2ffa-4143-d6ba-4f34f65b521b"
      },
      "execution_count": null,
      "outputs": [
        {
          "output_type": "execute_result",
          "data": {
            "text/plain": [
              "Category       5\n",
              "Article     2126\n",
              "dtype: int64"
            ]
          },
          "metadata": {},
          "execution_count": 150
        }
      ]
    },
    {
      "cell_type": "code",
      "source": [
        "# Check the distribution of categories\n",
        "def display_unique_values(df):\n",
        "  print(\"*** Unique Values count of Categorical Variables ***\\n\")\n",
        "  for col in df.astype('object').columns:\n",
        "    if len(df[col].value_counts())<10:\n",
        "      print(df[col].value_counts().to_string(),'\\n')\n",
        "\n",
        "display_unique_values(data_df)\n"
      ],
      "metadata": {
        "colab": {
          "base_uri": "https://localhost:8080/"
        },
        "id": "yAXKilvUusBF",
        "outputId": "73beb8a8-7db9-4307-ef45-8062f34313d3"
      },
      "execution_count": null,
      "outputs": [
        {
          "output_type": "stream",
          "name": "stdout",
          "text": [
            "*** Unique Values count of Categorical Variables ***\n",
            "\n",
            "Sports           511\n",
            "Business         510\n",
            "Politics         417\n",
            "Technology       401\n",
            "Entertainment    386 \n",
            "\n"
          ]
        }
      ]
    },
    {
      "cell_type": "code",
      "source": [
        "def draw_cntplot_categories(df):\n",
        "  plt.figure(figsize=(8,5))\n",
        "  ax = sns.countplot(x='Category', data=df)\n",
        "  ax.bar_label(ax.containers[0])\n",
        "  ax.set_title('Distribution of Categories')\n",
        "  ax.set_ylabel('# of Articles')\n",
        "  plt.show()\n"
      ],
      "metadata": {
        "id": "RV_pWUl6ur9S"
      },
      "execution_count": null,
      "outputs": []
    },
    {
      "cell_type": "code",
      "source": [
        "draw_cntplot_categories(data_df)"
      ],
      "metadata": {
        "colab": {
          "base_uri": "https://localhost:8080/",
          "height": 487
        },
        "id": "OK9ZJzx1ur59",
        "outputId": "0bdad20b-3eb8-4314-f5fb-389498910038"
      },
      "execution_count": null,
      "outputs": [
        {
          "output_type": "display_data",
          "data": {
            "text/plain": [
              "<Figure size 800x500 with 1 Axes>"
            ],
            "image/png": "[encoded data removed]"
          },
          "metadata": {}
        }
      ]
    },
    {
      "cell_type": "code",
      "source": [
        "# Single Article - before Text Processing\n",
        "data_df['Article'][1]"
      ],
      "metadata": {
        "colab": {
          "base_uri": "https://localhost:8080/",
          "height": 125
        },
        "id": "rnk7a1tvkw2M",
        "outputId": "277806e8-95f9-47e6-873e-2127f5d41e29"
      },
      "execution_count": 3,
      "outputs": [
        {
          "output_type": "execute_result",
          "data": {
            "text/plain": [
              "'worldcom boss  left books alone  former worldcom boss bernie ebbers  who is accused of overseeing an $11bn (£5.8bn) fraud  never made accounting decisions  a witness has told jurors.  david myers made the comments under questioning by defence lawyers who have been arguing that mr ebbers was not responsible for worldcom s problems. the phone company collapsed in 2002 and prosecutors claim that losses were hidden to protect the firm s shares. mr myers has already pleaded guilty to fraud and is assisting prosecutors.  on monday  defence lawyer reid weingarten tried to distance his client from the allegations. during cross examination  he asked mr myers if he ever knew mr ebbers  make an accounting decision  .  not that i am aware of   mr myers replied.  did you ever know mr ebbers to make an accounting entry into worldcom books   mr weingarten pressed.  no   replied the witness. mr myers has admitted that he ordered false accounting entries at the request of former worldcom chief financial officer scott sullivan. defence lawyers have been trying to paint mr sullivan  who has admitted fraud and will testify later in the trial  as the mastermind behind worldcom s accounting house of cards.  mr ebbers  team  meanwhile  are looking to portray him as an affable boss  who by his own admission is more pe graduate than economist. whatever his abilities  mr ebbers transformed worldcom from a relative unknown into a $160bn telecoms giant and investor darling of the late 1990s. worldcom s problems mounted  however  as competition increased and the telecoms boom petered out. when the firm finally collapsed  shareholders lost about $180bn and 20 000 workers lost their jobs. mr ebbers  trial is expected to last two months and if found guilty the former ceo faces a substantial jail sentence. he has firmly declared his innocence.'"
            ],
            "application/vnd.google.colaboratory.intrinsic+json": {
              "type": "string"
            }
          },
          "metadata": {},
          "execution_count": 3
        }
      ]
    },
    {
      "cell_type": "markdown",
      "source": [
        "##### - Single news article before text processing looks like this. It is observed that the text is already in lower case."
      ],
      "metadata": {
        "id": "ziTixDTltscI"
      }
    },
    {
      "cell_type": "markdown",
      "source": [
        "### Pre-process & Clean the Data\n",
        "\n",
        "The major steps in cleaning the Text Data are:\n",
        "*   Removing the Punctuations (like , . ! etc.,)\n",
        "*   Converting the text to lower/upper case\n",
        "*   Removing the stop words (frequently occurring words like a, an, the, etc.,)\n",
        "*   Removing non-sensical words (“/n”, etc.,)\n",
        "*   Tokenize the text\n",
        "*   Stemming & Lemmatization\n",
        "*   Normalize the text using Text Normalizers\n",
        "*   Typo correction\n",
        "\n"
      ],
      "metadata": {
        "id": "2RdjxCtDNJaG"
      }
    },
    {
      "cell_type": "code",
      "source": [
        "stop_words = list(stopwords.words('english'))"
      ],
      "metadata": {
        "id": "OxWXKceMseAS"
      },
      "execution_count": 5,
      "outputs": []
    },
    {
      "cell_type": "code",
      "source": [
        "def preprocess_text(sent):\n",
        "  # Remove non-characters\n",
        "  sent = re.sub('[^a-zA-Z]', ' ', sent)\n",
        "\n",
        "  # Tokenize the Text into Words\n",
        "  words = nltk.word_tokenize(sent)\n",
        "\n",
        "  # Remove the stop words\n",
        "  filtered_sent = [w for w in words if not w in stop_words]\n",
        "\n",
        "  # Lemmatization\n",
        "  lemmatizer = WordNetLemmatizer()\n",
        "  new_text = [lemmatizer.lemmatize(word) for word in filtered_sent]\n",
        "  new_text = ' '.join(new_text)\n",
        "\n",
        "  return new_text"
      ],
      "metadata": {
        "id": "CJbR4xePzNoC"
      },
      "execution_count": 6,
      "outputs": []
    },
    {
      "cell_type": "code",
      "source": [
        "data_df['Preprocessed_Article'] = data_df['Article'].apply(preprocess_text)"
      ],
      "metadata": {
        "id": "udR17d4K164Y"
      },
      "execution_count": 7,
      "outputs": []
    },
    {
      "cell_type": "code",
      "source": [
        "data_df.describe()"
      ],
      "metadata": {
        "colab": {
          "base_uri": "https://localhost:8080/",
          "height": 173
        },
        "id": "p6lxrXUMh2bk",
        "outputId": "8d807ed3-1ed5-4670-e9ec-81c2e78ea86c"
      },
      "execution_count": null,
      "outputs": [
        {
          "output_type": "execute_result",
          "data": {
            "text/plain": [
              "       Category                                            Article  \\\n",
              "count      2225                                               2225   \n",
              "unique        5                                               2126   \n",
              "top      Sports  kennedy questions trust of blair lib dem leade...   \n",
              "freq        511                                                  2   \n",
              "\n",
              "                                     Preprocessed_Article  \n",
              "count                                                2225  \n",
              "unique                                               2117  \n",
              "top     microsoft get blogging bug software giant micr...  \n",
              "freq                                                    2  "
            ],
            "text/html": [
              "\n",
              "  <div id=\"df-302cc69a-f757-4f49-9620-75f0ef532955\">\n",
              "    <div class=\"colab-df-container\">\n",
              "      <div>\n",
              "<style scoped>\n",
              "    .dataframe tbody tr th:only-of-type {\n",
              "        vertical-align: middle;\n",
              "    }\n",
              "\n",
              "    .dataframe tbody tr th {\n",
              "        vertical-align: top;\n",
              "    }\n",
              "\n",
              "    .dataframe thead th {\n",
              "        text-align: right;\n",
              "    }\n",
              "</style>\n",
              "<table border=\"1\" class=\"dataframe\">\n",
              "  <thead>\n",
              "    <tr style=\"text-align: right;\">\n",
              "      <th></th>\n",
              "      <th>Category</th>\n",
              "      <th>Article</th>\n",
              "      <th>Preprocessed_Article</th>\n",
              "    </tr>\n",
              "  </thead>\n",
              "  <tbody>\n",
              "    <tr>\n",
              "      <th>count</th>\n",
              "      <td>2225</td>\n",
              "      <td>2225</td>\n",
              "      <td>2225</td>\n",
              "    </tr>\n",
              "    <tr>\n",
              "      <th>unique</th>\n",
              "      <td>5</td>\n",
              "      <td>2126</td>\n",
              "      <td>2117</td>\n",
              "    </tr>\n",
              "    <tr>\n",
              "      <th>top</th>\n",
              "      <td>Sports</td>\n",
              "      <td>kennedy questions trust of blair lib dem leade...</td>\n",
              "      <td>microsoft get blogging bug software giant micr...</td>\n",
              "    </tr>\n",
              "    <tr>\n",
              "      <th>freq</th>\n",
              "      <td>511</td>\n",
              "      <td>2</td>\n",
              "      <td>2</td>\n",
              "    </tr>\n",
              "  </tbody>\n",
              "</table>\n",
              "</div>\n",
              "      <button class=\"colab-df-convert\" onclick=\"convertToInteractive('df-302cc69a-f757-4f49-9620-75f0ef532955')\"\n",
              "              title=\"Convert this dataframe to an interactive table.\"\n",
              "              style=\"display:none;\">\n",
              "        \n",
              "  <svg xmlns=\"http://www.w3.org/2000/svg\" height=\"24px\"viewBox=\"0 0 24 24\"\n",
              "       width=\"24px\">\n",
              "    <path d=\"M0 0h24v24H0V0z\" fill=\"none\"/>\n",
              "    <path d=\"M18.56 5.44l.94 2.06.94-2.06 2.06-.94-2.06-.94-.94-2.06-.94 2.06-2.06.94zm-11 1L8.5 8.5l.94-2.06 2.06-.94-2.06-.94L8.5 2.5l-.94 2.06-2.06.94zm10 10l.94 2.06.94-2.06 2.06-.94-2.06-.94-.94-2.06-.94 2.06-2.06.94z\"/><path d=\"M17.41 7.96l-1.37-1.37c-.4-.4-.92-.59-1.43-.59-.52 0-1.04.2-1.43.59L10.3 9.45l-7.72 7.72c-.78.78-.78 2.05 0 2.83L4 21.41c.39.39.9.59 1.41.59.51 0 1.02-.2 1.41-.59l7.78-7.78 2.81-2.81c.8-.78.8-2.07 0-2.86zM5.41 20L4 18.59l7.72-7.72 1.47 1.35L5.41 20z\"/>\n",
              "  </svg>\n",
              "      </button>\n",
              "      \n",
              "  <style>\n",
              "    .colab-df-container {\n",
              "      display:flex;\n",
              "      flex-wrap:wrap;\n",
              "      gap: 12px;\n",
              "    }\n",
              "\n",
              "    .colab-df-convert {\n",
              "      background-color: #E8F0FE;\n",
              "      border: none;\n",
              "      border-radius: 50%;\n",
              "      cursor: pointer;\n",
              "      display: none;\n",
              "      fill: #1967D2;\n",
              "      height: 32px;\n",
              "      padding: 0 0 0 0;\n",
              "      width: 32px;\n",
              "    }\n",
              "\n",
              "    .colab-df-convert:hover {\n",
              "      background-color: #E2EBFA;\n",
              "      box-shadow: 0px 1px 2px rgba(60, 64, 67, 0.3), 0px 1px 3px 1px rgba(60, 64, 67, 0.15);\n",
              "      fill: #174EA6;\n",
              "    }\n",
              "\n",
              "    [theme=dark] .colab-df-convert {\n",
              "      background-color: #3B4455;\n",
              "      fill: #D2E3FC;\n",
              "    }\n",
              "\n",
              "    [theme=dark] .colab-df-convert:hover {\n",
              "      background-color: #434B5C;\n",
              "      box-shadow: 0px 1px 3px 1px rgba(0, 0, 0, 0.15);\n",
              "      filter: drop-shadow(0px 1px 2px rgba(0, 0, 0, 0.3));\n",
              "      fill: #FFFFFF;\n",
              "    }\n",
              "  </style>\n",
              "\n",
              "      <script>\n",
              "        const buttonEl =\n",
              "          document.querySelector('#df-302cc69a-f757-4f49-9620-75f0ef532955 button.colab-df-convert');\n",
              "        buttonEl.style.display =\n",
              "          google.colab.kernel.accessAllowed ? 'block' : 'none';\n",
              "\n",
              "        async function convertToInteractive(key) {\n",
              "          const element = document.querySelector('#df-302cc69a-f757-4f49-9620-75f0ef532955');\n",
              "          const dataTable =\n",
              "            await google.colab.kernel.invokeFunction('convertToInteractive',\n",
              "                                                     [key], {});\n",
              "          if (!dataTable) return;\n",
              "\n",
              "          const docLinkHtml = 'Like what you see? Visit the ' +\n",
              "            '<a target=\"_blank\" href=https://colab.research.google.com/notebooks/data_table.ipynb>data table notebook</a>'\n",
              "            + ' to learn more about interactive tables.';\n",
              "          element.innerHTML = '';\n",
              "          dataTable['output_type'] = 'display_data';\n",
              "          await google.colab.output.renderOutput(dataTable, element);\n",
              "          const docLink = document.createElement('div');\n",
              "          docLink.innerHTML = docLinkHtml;\n",
              "          element.appendChild(docLink);\n",
              "        }\n",
              "      </script>\n",
              "    </div>\n",
              "  </div>\n",
              "  "
            ]
          },
          "metadata": {},
          "execution_count": 154
        }
      ]
    },
    {
      "cell_type": "code",
      "source": [
        "data_df.head()"
      ],
      "metadata": {
        "colab": {
          "base_uri": "https://localhost:8080/",
          "height": 204
        },
        "id": "08vnA5dEiFBY",
        "outputId": "276e89bf-ca3b-49bc-ee9e-df05fac52e70"
      },
      "execution_count": null,
      "outputs": [
        {
          "output_type": "execute_result",
          "data": {
            "text/plain": [
              "        Category                                            Article  \\\n",
              "0     Technology  tv future in the hands of viewers with home th...   \n",
              "1       Business  worldcom boss  left books alone  former worldc...   \n",
              "2         Sports  tigers wary of farrell  gamble  leicester say ...   \n",
              "3         Sports  yeading face newcastle in fa cup premiership s...   \n",
              "4  Entertainment  ocean s twelve raids box office ocean s twelve...   \n",
              "\n",
              "                                Preprocessed_Article  \n",
              "0  tv future hand viewer home theatre system plas...  \n",
              "1  worldcom bos left book alone former worldcom b...  \n",
              "2  tiger wary farrell gamble leicester say rushed...  \n",
              "3  yeading face newcastle fa cup premiership side...  \n",
              "4  ocean twelve raid box office ocean twelve crim...  "
            ],
            "text/html": [
              "\n",
              "  <div id=\"df-43acef1e-c0d6-4dc9-b71b-4b81f0bf3dbb\">\n",
              "    <div class=\"colab-df-container\">\n",
              "      <div>\n",
              "<style scoped>\n",
              "    .dataframe tbody tr th:only-of-type {\n",
              "        vertical-align: middle;\n",
              "    }\n",
              "\n",
              "    .dataframe tbody tr th {\n",
              "        vertical-align: top;\n",
              "    }\n",
              "\n",
              "    .dataframe thead th {\n",
              "        text-align: right;\n",
              "    }\n",
              "</style>\n",
              "<table border=\"1\" class=\"dataframe\">\n",
              "  <thead>\n",
              "    <tr style=\"text-align: right;\">\n",
              "      <th></th>\n",
              "      <th>Category</th>\n",
              "      <th>Article</th>\n",
              "      <th>Preprocessed_Article</th>\n",
              "    </tr>\n",
              "  </thead>\n",
              "  <tbody>\n",
              "    <tr>\n",
              "      <th>0</th>\n",
              "      <td>Technology</td>\n",
              "      <td>tv future in the hands of viewers with home th...</td>\n",
              "      <td>tv future hand viewer home theatre system plas...</td>\n",
              "    </tr>\n",
              "    <tr>\n",
              "      <th>1</th>\n",
              "      <td>Business</td>\n",
              "      <td>worldcom boss  left books alone  former worldc...</td>\n",
              "      <td>worldcom bos left book alone former worldcom b...</td>\n",
              "    </tr>\n",
              "    <tr>\n",
              "      <th>2</th>\n",
              "      <td>Sports</td>\n",
              "      <td>tigers wary of farrell  gamble  leicester say ...</td>\n",
              "      <td>tiger wary farrell gamble leicester say rushed...</td>\n",
              "    </tr>\n",
              "    <tr>\n",
              "      <th>3</th>\n",
              "      <td>Sports</td>\n",
              "      <td>yeading face newcastle in fa cup premiership s...</td>\n",
              "      <td>yeading face newcastle fa cup premiership side...</td>\n",
              "    </tr>\n",
              "    <tr>\n",
              "      <th>4</th>\n",
              "      <td>Entertainment</td>\n",
              "      <td>ocean s twelve raids box office ocean s twelve...</td>\n",
              "      <td>ocean twelve raid box office ocean twelve crim...</td>\n",
              "    </tr>\n",
              "  </tbody>\n",
              "</table>\n",
              "</div>\n",
              "      <button class=\"colab-df-convert\" onclick=\"convertToInteractive('df-43acef1e-c0d6-4dc9-b71b-4b81f0bf3dbb')\"\n",
              "              title=\"Convert this dataframe to an interactive table.\"\n",
              "              style=\"display:none;\">\n",
              "        \n",
              "  <svg xmlns=\"http://www.w3.org/2000/svg\" height=\"24px\"viewBox=\"0 0 24 24\"\n",
              "       width=\"24px\">\n",
              "    <path d=\"M0 0h24v24H0V0z\" fill=\"none\"/>\n",
              "    <path d=\"M18.56 5.44l.94 2.06.94-2.06 2.06-.94-2.06-.94-.94-2.06-.94 2.06-2.06.94zm-11 1L8.5 8.5l.94-2.06 2.06-.94-2.06-.94L8.5 2.5l-.94 2.06-2.06.94zm10 10l.94 2.06.94-2.06 2.06-.94-2.06-.94-.94-2.06-.94 2.06-2.06.94z\"/><path d=\"M17.41 7.96l-1.37-1.37c-.4-.4-.92-.59-1.43-.59-.52 0-1.04.2-1.43.59L10.3 9.45l-7.72 7.72c-.78.78-.78 2.05 0 2.83L4 21.41c.39.39.9.59 1.41.59.51 0 1.02-.2 1.41-.59l7.78-7.78 2.81-2.81c.8-.78.8-2.07 0-2.86zM5.41 20L4 18.59l7.72-7.72 1.47 1.35L5.41 20z\"/>\n",
              "  </svg>\n",
              "      </button>\n",
              "      \n",
              "  <style>\n",
              "    .colab-df-container {\n",
              "      display:flex;\n",
              "      flex-wrap:wrap;\n",
              "      gap: 12px;\n",
              "    }\n",
              "\n",
              "    .colab-df-convert {\n",
              "      background-color: #E8F0FE;\n",
              "      border: none;\n",
              "      border-radius: 50%;\n",
              "      cursor: pointer;\n",
              "      display: none;\n",
              "      fill: #1967D2;\n",
              "      height: 32px;\n",
              "      padding: 0 0 0 0;\n",
              "      width: 32px;\n",
              "    }\n",
              "\n",
              "    .colab-df-convert:hover {\n",
              "      background-color: #E2EBFA;\n",
              "      box-shadow: 0px 1px 2px rgba(60, 64, 67, 0.3), 0px 1px 3px 1px rgba(60, 64, 67, 0.15);\n",
              "      fill: #174EA6;\n",
              "    }\n",
              "\n",
              "    [theme=dark] .colab-df-convert {\n",
              "      background-color: #3B4455;\n",
              "      fill: #D2E3FC;\n",
              "    }\n",
              "\n",
              "    [theme=dark] .colab-df-convert:hover {\n",
              "      background-color: #434B5C;\n",
              "      box-shadow: 0px 1px 3px 1px rgba(0, 0, 0, 0.15);\n",
              "      filter: drop-shadow(0px 1px 2px rgba(0, 0, 0, 0.3));\n",
              "      fill: #FFFFFF;\n",
              "    }\n",
              "  </style>\n",
              "\n",
              "      <script>\n",
              "        const buttonEl =\n",
              "          document.querySelector('#df-43acef1e-c0d6-4dc9-b71b-4b81f0bf3dbb button.colab-df-convert');\n",
              "        buttonEl.style.display =\n",
              "          google.colab.kernel.accessAllowed ? 'block' : 'none';\n",
              "\n",
              "        async function convertToInteractive(key) {\n",
              "          const element = document.querySelector('#df-43acef1e-c0d6-4dc9-b71b-4b81f0bf3dbb');\n",
              "          const dataTable =\n",
              "            await google.colab.kernel.invokeFunction('convertToInteractive',\n",
              "                                                     [key], {});\n",
              "          if (!dataTable) return;\n",
              "\n",
              "          const docLinkHtml = 'Like what you see? Visit the ' +\n",
              "            '<a target=\"_blank\" href=https://colab.research.google.com/notebooks/data_table.ipynb>data table notebook</a>'\n",
              "            + ' to learn more about interactive tables.';\n",
              "          element.innerHTML = '';\n",
              "          dataTable['output_type'] = 'display_data';\n",
              "          await google.colab.output.renderOutput(dataTable, element);\n",
              "          const docLink = document.createElement('div');\n",
              "          docLink.innerHTML = docLinkHtml;\n",
              "          element.appendChild(docLink);\n",
              "        }\n",
              "      </script>\n",
              "    </div>\n",
              "  </div>\n",
              "  "
            ]
          },
          "metadata": {},
          "execution_count": 155
        }
      ]
    },
    {
      "cell_type": "code",
      "source": [
        "# Single Article - after Text Processing\n",
        "data_df['Preprocessed_Article'][1]"
      ],
      "metadata": {
        "colab": {
          "base_uri": "https://localhost:8080/",
          "height": 125
        },
        "id": "6wkBGhyylD9_",
        "outputId": "49889413-6a57-49ca-f4d3-8e6dcbca62e5"
      },
      "execution_count": 8,
      "outputs": [
        {
          "output_type": "execute_result",
          "data": {
            "text/plain": [
              "'worldcom bos left book alone former worldcom bos bernie ebbers accused overseeing bn bn fraud never made accounting decision witness told juror david myers made comment questioning defence lawyer arguing mr ebbers responsible worldcom problem phone company collapsed prosecutor claim loss hidden protect firm share mr myers already pleaded guilty fraud assisting prosecutor monday defence lawyer reid weingarten tried distance client allegation cross examination asked mr myers ever knew mr ebbers make accounting decision aware mr myers replied ever know mr ebbers make accounting entry worldcom book mr weingarten pressed replied witness mr myers admitted ordered false accounting entry request former worldcom chief financial officer scott sullivan defence lawyer trying paint mr sullivan admitted fraud testify later trial mastermind behind worldcom accounting house card mr ebbers team meanwhile looking portray affable bos admission pe graduate economist whatever ability mr ebbers transformed worldcom relative unknown bn telecom giant investor darling late worldcom problem mounted however competition increased telecom boom petered firm finally collapsed shareholder lost bn worker lost job mr ebbers trial expected last two month found guilty former ceo face substantial jail sentence firmly declared innocence'"
            ],
            "application/vnd.google.colaboratory.intrinsic+json": {
              "type": "string"
            }
          },
          "metadata": {},
          "execution_count": 8
        }
      ]
    },
    {
      "cell_type": "markdown",
      "source": [
        "##### - Single news article after text processing looks like above. We can see that the text is free of all punctuations and the lemmatization has converted various words into their respective root words."
      ],
      "metadata": {
        "id": "aX-Ufdxxt5xr"
      }
    },
    {
      "cell_type": "markdown",
      "source": [
        "### Data Transformation"
      ],
      "metadata": {
        "id": "JQn7FfdR3r7T"
      }
    },
    {
      "cell_type": "code",
      "source": [
        "# Encoding the Target Variable using Ordinal Encoder\n",
        "encode = ce.OrdinalEncoder(cols=['Category'])\n",
        "data_df = encode.fit_transform(data_df)"
      ],
      "metadata": {
        "id": "Q61pe0k13fjU"
      },
      "execution_count": null,
      "outputs": []
    },
    {
      "cell_type": "code",
      "source": [
        "work_df = data_df.copy()"
      ],
      "metadata": {
        "id": "Ue4DUx9n6jP3"
      },
      "execution_count": 9,
      "outputs": []
    },
    {
      "cell_type": "code",
      "source": [
        "choice = int(input(\"Choose \\n (1) For Bag of Words \\n (2) To use TF-IDF \\n Choice: \"))\n",
        "\n",
        "if choice == 1:\n",
        "  cv = CountVectorizer(max_features=5000)\n",
        "  X = cv.fit_transform(work_df.Preprocessed_Article).toarray()\n",
        "  y = np.array(work_df['Category'].values)\n",
        "\n",
        "elif choice == 2:\n",
        "  tf_idf = TfidfVectorizer()\n",
        "  X = tf_idf.fit_transform(work_df.Preprocessed_Article).toarray()\n",
        "  y = np.array(work_df['Category'].values)\n",
        "\n",
        "else:\n",
        "  print(\"Invalid Input!\")"
      ],
      "metadata": {
        "colab": {
          "base_uri": "https://localhost:8080/"
        },
        "id": "F1Vxfveou4rf",
        "outputId": "80fc1bee-44e0-4715-c5c9-447c400e5ca5"
      },
      "execution_count": 10,
      "outputs": [
        {
          "name": "stdout",
          "output_type": "stream",
          "text": [
            "Choose \n",
            " (1) For Bag of Words \n",
            " (2) To use TF-IDF \n",
            " Choice: 2\n"
          ]
        }
      ]
    },
    {
      "cell_type": "markdown",
      "source": [
        "#### Segregate the Independent & Dependent variables"
      ],
      "metadata": {
        "id": "R1lTJL0U_oEZ"
      }
    },
    {
      "cell_type": "code",
      "source": [
        "X_train, X_test, y_train, y_test = train_test_split(X, y, test_size=0.25, random_state=42)"
      ],
      "metadata": {
        "id": "jWo7oIRDv557"
      },
      "execution_count": 11,
      "outputs": []
    },
    {
      "cell_type": "code",
      "source": [
        "# # Segreate Input & Target Variables\n",
        "# X = work_df['Preprocessed_Article']\n",
        "# y = work_df['Category']\n",
        "\n",
        "# X_train, X_test, y_train, y_test = train_test_split(X, y, test_size=0.25, random_state=42)"
      ],
      "metadata": {
        "id": "I6XX2r2qO-ji"
      },
      "execution_count": null,
      "outputs": []
    },
    {
      "cell_type": "markdown",
      "source": [
        "#### Shape of the train & test data"
      ],
      "metadata": {
        "id": "8ojIQzXpACWH"
      }
    },
    {
      "cell_type": "code",
      "source": [
        "# Shape of train & test data sets after performing a 75:25 split\n",
        "print(\"Number of rows in train set is {}\".format(X_train.shape[0]))\n",
        "print(\"Number of rows in test set is {}\".format(X_test.shape[0]))"
      ],
      "metadata": {
        "colab": {
          "base_uri": "https://localhost:8080/"
        },
        "id": "Gn4ynEyr_-7S",
        "outputId": "99fdf4bc-aaf3-42aa-e0bf-6333b958a711"
      },
      "execution_count": null,
      "outputs": [
        {
          "output_type": "stream",
          "name": "stdout",
          "text": [
            "Number of rows in train set is 1668\n",
            "Number of rows in test set is 557\n"
          ]
        }
      ]
    },
    {
      "cell_type": "code",
      "source": [
        "# # Vectorize the text data using TF-IDF\n",
        "# vectorizer = TfidfVectorizer()\n",
        "# X_train_vectors = vectorizer.fit_transform(X_train)\n",
        "# X_test_vectors = vectorizer.transform(X_test)"
      ],
      "metadata": {
        "id": "MjvvOR94fzqE"
      },
      "execution_count": null,
      "outputs": []
    },
    {
      "cell_type": "markdown",
      "source": [
        "### Base Model - Naive Bayes Classifier"
      ],
      "metadata": {
        "id": "33A5_iPwAo11"
      }
    },
    {
      "cell_type": "code",
      "source": [
        "# Build Naive Bayes Classifier\n",
        "nb_classifier = MultinomialNB()\n",
        "\n",
        "# Train NB Model\n",
        "nb_classifier.fit(X_train_vectors, y_train)\n",
        "\n",
        "# Evaluate NB Model\n",
        "nb_predictions = nb_classifier.predict(X_test_vectors)\n",
        "print('Naive Bayes Classifier:')\n",
        "print(classification_report(y_test, nb_predictions))"
      ],
      "metadata": {
        "colab": {
          "base_uri": "https://localhost:8080/"
        },
        "id": "UExqvh4CP_5d",
        "outputId": "1d2f356b-aec1-4197-fbb0-8beed6c63f78"
      },
      "execution_count": null,
      "outputs": [
        {
          "output_type": "stream",
          "name": "stdout",
          "text": [
            "Naive Bayes Classifier:\n",
            "              precision    recall  f1-score   support\n",
            "\n",
            "           1       0.97      0.97      0.97       103\n",
            "           2       0.97      0.96      0.97       136\n",
            "           3       0.98      1.00      0.99       124\n",
            "           4       1.00      0.93      0.96        96\n",
            "           5       0.93      0.99      0.96        98\n",
            "\n",
            "    accuracy                           0.97       557\n",
            "   macro avg       0.97      0.97      0.97       557\n",
            "weighted avg       0.97      0.97      0.97       557\n",
            "\n"
          ]
        }
      ]
    },
    {
      "cell_type": "code",
      "source": [
        "# Predict the probabilities for each class\n",
        "nb_probabilities = nb_classifier.predict_proba(X_test_vectors)"
      ],
      "metadata": {
        "id": "gW__y39HROtC"
      },
      "execution_count": null,
      "outputs": []
    },
    {
      "cell_type": "code",
      "source": [
        "# Calculate ROC AUC score for Naive Bayes\n",
        "nb_roc_auc = roc_auc_score(y_test, nb_probabilities, multi_class='ovr')\n",
        "print(\"ROC AUC Score of Base Model {:.3f}\".format(nb_roc_auc))"
      ],
      "metadata": {
        "colab": {
          "base_uri": "https://localhost:8080/"
        },
        "id": "JVOGdCudRSaU",
        "outputId": "98f0be27-ff7f-43a6-a29e-98c14d613a54"
      },
      "execution_count": null,
      "outputs": [
        {
          "output_type": "stream",
          "name": "stdout",
          "text": [
            "ROC AUC Score of Base Model 0.998\n"
          ]
        }
      ]
    },
    {
      "cell_type": "code",
      "source": [
        "# Confusion Matrix\n",
        "y_pred_nb = nb_classifier.predict(X_test_vectors)\n",
        "cm = confusion_matrix(y_test, y_pred_nb)\n",
        "\n",
        "plt.figure(figsize=(8, 5))\n",
        "sns.heatmap(cm, annot=True, fmt='d', cbar=False, cmap='Greens')\n",
        "plt.title(\"Confusion Matrix\")\n",
        "plt.xlabel('Prdicted Value')\n",
        "plt.ylabel('Actuals')\n",
        "plt.show()"
      ],
      "metadata": {
        "colab": {
          "base_uri": "https://localhost:8080/",
          "height": 487
        },
        "id": "rtag-BxnScJ5",
        "outputId": "7f96e002-21cb-4885-ba29-0dadce65b8cd"
      },
      "execution_count": null,
      "outputs": [
        {
          "output_type": "display_data",
          "data": {
            "text/plain": [
              "<Figure size 800x500 with 1 Axes>"
            ],
            "image/png": "[encoded data removed]"
          },
          "metadata": {}
        }
      ]
    },
    {
      "cell_type": "markdown",
      "source": [
        "## Helper Functions"
      ],
      "metadata": {
        "id": "dv_miCnqQpsL"
      }
    },
    {
      "cell_type": "markdown",
      "source": [
        "#### Model Training"
      ],
      "metadata": {
        "id": "XNRn8_3pD_Ub"
      }
    },
    {
      "cell_type": "code",
      "source": [
        "def model_train(obj):\n",
        "  obj.fit(X_train_vectors, y_train)\n",
        "  y_pred = obj.predict(X_test_vectors)\n",
        "  y_pred_proba = obj.predict_proba(X_test_vectors)\n",
        "  return y_pred, y_pred_proba"
      ],
      "metadata": {
        "id": "1J4NU9MDD2O3"
      },
      "execution_count": null,
      "outputs": []
    },
    {
      "cell_type": "markdown",
      "source": [
        "#### Model Evaluation"
      ],
      "metadata": {
        "id": "TrjDAaSuEXdJ"
      }
    },
    {
      "cell_type": "code",
      "source": [
        "def model_eval(obj, y_pred, y_pred_proba):\n",
        "  print(\"**************************************\")\n",
        "\n",
        "  # Train & Test accuracy\n",
        "  train_acc = accuracy_score(y_train, obj.predict(X_train_vectors))\n",
        "  test_acc = accuracy_score(y_test, obj.predict(X_test_vectors))\n",
        "\n",
        "  print(\"Train Accuracy: {:.3f}\".format(train_acc))\n",
        "  print(\"Test Accuracy: {:.3f}\".format(test_acc))\n",
        "\n",
        "  # ROC AUC Score\n",
        "  print(\"ROC AUC Score: {:.3f}\".format(roc_auc_score(y_test, y_pred_proba, multi_class='ovr')))\n",
        "\n",
        "  # Precision, Recall and f1_score\n",
        "  precision = precision_score(y_test, y_pred, average='weighted')\n",
        "  recall = recall_score(y_test, y_pred, average='weighted')\n",
        "  f1 = f1_score(y_test, y_pred, average='weighted')\n",
        "\n",
        "  print(\"Precision: {:.3f}\".format(precision))\n",
        "  print('Recall: {:.3f}'.format(recall))\n",
        "  print('F1 Score: {:.3f}'.format(f1))\n",
        "\n",
        "  print(\"**************************************\")"
      ],
      "metadata": {
        "id": "eZbteHk2EVD0"
      },
      "execution_count": null,
      "outputs": []
    },
    {
      "cell_type": "markdown",
      "source": [
        "### Linear SVM"
      ],
      "metadata": {
        "id": "8EplAx2FcwT9"
      }
    },
    {
      "cell_type": "code",
      "source": [
        "# Create SVM Model\n",
        "svm_classifier = LinearSVC()\n",
        "\n",
        "# Train SVM Model\n",
        "svm_classifier.fit(X_train_vectors, y_train)\n",
        "\n",
        "# Evaluate SVM Model\n",
        "svm_predictions = svm_classifier.predict(X_test_vectors)\n",
        "print('Linear SVM Classifier:')\n",
        "print(classification_report(y_test, svm_predictions))"
      ],
      "metadata": {
        "colab": {
          "base_uri": "https://localhost:8080/"
        },
        "id": "_GHXWHPUYc-V",
        "outputId": "7bb8b797-de00-4ffa-c995-f53ad8988a8b"
      },
      "execution_count": null,
      "outputs": [
        {
          "output_type": "stream",
          "name": "stdout",
          "text": [
            "Linear SVM Classifier:\n",
            "              precision    recall  f1-score   support\n",
            "\n",
            "           1       0.99      0.98      0.99       103\n",
            "           2       0.97      0.93      0.95       136\n",
            "           3       0.98      1.00      0.99       124\n",
            "           4       0.99      0.99      0.99        96\n",
            "           5       0.95      0.98      0.96        98\n",
            "\n",
            "    accuracy                           0.97       557\n",
            "   macro avg       0.98      0.98      0.98       557\n",
            "weighted avg       0.97      0.97      0.97       557\n",
            "\n"
          ]
        }
      ]
    },
    {
      "cell_type": "code",
      "source": [
        "svm_probabilities = svm_classifier.decision_function(X_test_vectors)"
      ],
      "metadata": {
        "id": "weGhtkPAO9Nm"
      },
      "execution_count": null,
      "outputs": []
    },
    {
      "cell_type": "code",
      "source": [
        "from sklearn.preprocessing import label_binarize\n",
        "from scipy.special import softmax\n",
        "\n",
        "# Convert decision function scores to probabilities using softmax\n",
        "svm_probabilities = softmax(svm_probabilities, axis=1)\n",
        "\n",
        "# Binarize the true labels for multi-class ROC AUC\n",
        "y_test_bin = label_binarize(y_test, classes=data_df['Category'].unique())\n",
        "\n",
        "# Calculate ROC AUC score for Linear SVM\n",
        "svm_roc_auc = roc_auc_score(y_test_bin, svm_probabilities, multi_class='ovr')"
      ],
      "metadata": {
        "id": "BQh26iyuWQNr"
      },
      "execution_count": null,
      "outputs": []
    },
    {
      "cell_type": "code",
      "source": [
        "print('Linear SVM ROC AUC {:.3f}'.format(svm_roc_auc))"
      ],
      "metadata": {
        "colab": {
          "base_uri": "https://localhost:8080/"
        },
        "id": "Wrl67teiWWYq",
        "outputId": "ba51ea95-43d3-4d9c-d37c-7db9bb3885ed"
      },
      "execution_count": null,
      "outputs": [
        {
          "output_type": "stream",
          "name": "stdout",
          "text": [
            "Linear SVM ROC AUC 0.999\n"
          ]
        }
      ]
    },
    {
      "cell_type": "markdown",
      "source": [
        "### Decision Tree Classifier Model"
      ],
      "metadata": {
        "id": "I7WIYK7bIk7J"
      }
    },
    {
      "cell_type": "code",
      "source": [
        "# Create the Model Object\n",
        "dt = DecisionTreeClassifier()\n",
        "\n",
        "# Train the model\n",
        "y_pred_dt, y_pred_proba_dt = model_train(dt)\n",
        "\n",
        "# Evaluate the model\n",
        "model_eval(dt, y_pred_dt, y_pred_proba_dt)"
      ],
      "metadata": {
        "colab": {
          "base_uri": "https://localhost:8080/"
        },
        "id": "pRWPGq0NGmQm",
        "outputId": "933c72d5-add1-4869-9770-d27094ef9bb5"
      },
      "execution_count": null,
      "outputs": [
        {
          "output_type": "stream",
          "name": "stdout",
          "text": [
            "**************************************\n",
            "Train Accuracy: 1.000\n",
            "Test Accuracy: 0.820\n",
            "ROC AUC Score: 0.886\n",
            "Precision: 0.823\n",
            "Recall: 0.820\n",
            "F1 Score: 0.820\n",
            "**************************************\n"
          ]
        }
      ]
    },
    {
      "cell_type": "markdown",
      "source": [
        "#### Nearest Neighbors Classifier"
      ],
      "metadata": {
        "id": "XVeo5lX-KfRD"
      }
    },
    {
      "cell_type": "code",
      "source": [
        "# Creating the model object\n",
        "knn = KNeighborsClassifier(n_neighbors=5)\n",
        "\n",
        "# Train the model\n",
        "y_pred_knn, y_pred_proba_knn = model_train(knn)\n",
        "\n",
        "# Evalute the model\n",
        "model_eval(knn, y_pred_knn, y_pred_proba_knn)"
      ],
      "metadata": {
        "colab": {
          "base_uri": "https://localhost:8080/"
        },
        "id": "kTRgCLDXJ3Op",
        "outputId": "f2da3339-41b3-4e54-d80b-cb1a9ad076f2"
      },
      "execution_count": null,
      "outputs": [
        {
          "output_type": "stream",
          "name": "stdout",
          "text": [
            "**************************************\n",
            "Train Accuracy: 0.959\n",
            "Test Accuracy: 0.939\n",
            "ROC AUC Score: 0.990\n",
            "Precision: 0.940\n",
            "Recall: 0.939\n",
            "F1 Score: 0.939\n",
            "**************************************\n"
          ]
        }
      ]
    },
    {
      "cell_type": "markdown",
      "source": [
        "### Random Forest Classifier"
      ],
      "metadata": {
        "id": "q16vRxqZOeqz"
      }
    },
    {
      "cell_type": "code",
      "source": [
        "# Create the model\n",
        "rf = RandomForestClassifier()\n",
        "\n",
        "# Train the model\n",
        "y_pred_rf, y_pred_proba_rf = model_train(rf)\n",
        "\n",
        "# Evaluate the model\n",
        "model_eval(rf, y_pred_rf, y_pred_proba_rf)"
      ],
      "metadata": {
        "colab": {
          "base_uri": "https://localhost:8080/"
        },
        "id": "fftRNIdXVaBs",
        "outputId": "1341c32c-ddbc-496e-f78d-1ccede444f9f"
      },
      "execution_count": null,
      "outputs": [
        {
          "output_type": "stream",
          "name": "stdout",
          "text": [
            "**************************************\n",
            "Train Accuracy: 1.000\n",
            "Test Accuracy: 0.957\n",
            "ROC AUC Score: 0.997\n",
            "Precision: 0.958\n",
            "Recall: 0.957\n",
            "F1 Score: 0.957\n",
            "**************************************\n"
          ]
        }
      ]
    },
    {
      "cell_type": "code",
      "source": [
        "from keras.models import Sequential\n",
        "from keras.layers import Dense, Embedding, LSTM\n",
        "from keras.preprocessing.text import Tokenizer\n",
        "import keras.utils\n",
        "from keras.utils import pad_sequences"
      ],
      "metadata": {
        "id": "gBpUVfdiALdA"
      },
      "execution_count": null,
      "outputs": []
    },
    {
      "cell_type": "code",
      "source": [
        "# Train and evaluate an LSTM-based deep learning model\n",
        "max_words = 5000\n",
        "tokenizer = Tokenizer(num_words=max_words)\n",
        "tokenizer.fit_on_texts(X_train)"
      ],
      "metadata": {
        "id": "ujcuyS8v6_ga"
      },
      "execution_count": null,
      "outputs": []
    },
    {
      "cell_type": "code",
      "source": [
        "X_train_sequences = tokenizer.texts_to_sequences(X_train)\n",
        "X_test_sequences = tokenizer.texts_to_sequences(X_test)"
      ],
      "metadata": {
        "id": "kM9rcXMB6_br"
      },
      "execution_count": null,
      "outputs": []
    },
    {
      "cell_type": "code",
      "source": [
        "max_sequence_length = 500\n",
        "X_train_padded = pad_sequences(X_train_sequences, maxlen=max_sequence_length)\n",
        "X_test_padded = pad_sequences(X_test_sequences, maxlen=max_sequence_length)"
      ],
      "metadata": {
        "id": "2ftojrr16_XH"
      },
      "execution_count": null,
      "outputs": []
    },
    {
      "cell_type": "code",
      "source": [
        "num_categories = len(work_df['Category'].unique())\n",
        "lstm_model = Sequential()\n",
        "lstm_model.add(Embedding(max_words, 100, input_length=max_sequence_length))\n",
        "lstm_model.add(LSTM(100))\n",
        "lstm_model.add(Dense(num_categories, activation='softmax'))\n",
        "\n",
        "lstm_model.compile(loss='categorical_crossentropy', optimizer='adam', metrics=['accuracy'])"
      ],
      "metadata": {
        "id": "oWxlmWcxB7jt"
      },
      "execution_count": null,
      "outputs": []
    },
    {
      "cell_type": "code",
      "source": [
        "# Convert the target variable to one-hot encoding\n",
        "from sklearn.preprocessing import LabelEncoder\n",
        "\n",
        "label_encoder = LabelEncoder()\n",
        "label_encoder.fit(y_train)\n",
        "y_train_encoded = label_encoder.transform(y_train)\n",
        "y_test_encoded = label_encoder.transform(y_test)"
      ],
      "metadata": {
        "id": "6HV-UqpiB7d_"
      },
      "execution_count": null,
      "outputs": []
    },
    {
      "cell_type": "code",
      "source": [
        "# Convert to one-hot encoding\n",
        "num_classes = len(label_encoder.classes_)\n",
        "y_train_one_hot = keras.utils.to_categorical(y_train_encoded, num_classes)\n",
        "y_test_one_hot = keras.utils.to_categorical(y_test_encoded, num_classes)"
      ],
      "metadata": {
        "id": "RkRAh9OKB7Y5"
      },
      "execution_count": null,
      "outputs": []
    },
    {
      "cell_type": "code",
      "source": [
        "# Train the LSTM model\n",
        "lstm_model.fit(X_train_padded, y_train_one_hot, validation_data=(X_test_padded, y_test_one_hot), epochs=10, batch_size=64)\n"
      ],
      "metadata": {
        "colab": {
          "base_uri": "https://localhost:8080/"
        },
        "id": "FmT7Sy7s6_Sa",
        "outputId": "52d11eb3-73a5-458f-c31a-06dfd32e18f8"
      },
      "execution_count": null,
      "outputs": [
        {
          "output_type": "stream",
          "name": "stdout",
          "text": [
            "Epoch 1/10\n",
            "28/28 [==============================] - 33s 1s/step - loss: 0.3126 - accuracy: 0.9455 - val_loss: 0.8262 - val_accuracy: 0.7191\n",
            "Epoch 2/10\n",
            "28/28 [==============================] - 36s 1s/step - loss: 0.2785 - accuracy: 0.9528 - val_loss: 0.4115 - val_accuracy: 0.8831\n",
            "Epoch 3/10\n",
            "28/28 [==============================] - 32s 1s/step - loss: 0.0651 - accuracy: 0.9966 - val_loss: 0.2640 - val_accuracy: 0.9281\n",
            "Epoch 4/10\n",
            "28/28 [==============================] - 32s 1s/step - loss: 0.0218 - accuracy: 0.9994 - val_loss: 0.2619 - val_accuracy: 0.9326\n",
            "Epoch 5/10\n",
            "28/28 [==============================] - 30s 1s/step - loss: 0.0146 - accuracy: 0.9994 - val_loss: 0.2347 - val_accuracy: 0.9393\n",
            "Epoch 6/10\n",
            "28/28 [==============================] - 29s 1s/step - loss: 0.0094 - accuracy: 1.0000 - val_loss: 0.2390 - val_accuracy: 0.9393\n",
            "Epoch 7/10\n",
            "28/28 [==============================] - 35s 1s/step - loss: 0.0074 - accuracy: 1.0000 - val_loss: 0.2376 - val_accuracy: 0.9416\n",
            "Epoch 8/10\n",
            "28/28 [==============================] - 33s 1s/step - loss: 0.0060 - accuracy: 1.0000 - val_loss: 0.2386 - val_accuracy: 0.9416\n",
            "Epoch 9/10\n",
            "28/28 [==============================] - 33s 1s/step - loss: 0.0049 - accuracy: 1.0000 - val_loss: 0.2435 - val_accuracy: 0.9371\n",
            "Epoch 10/10\n",
            "28/28 [==============================] - 30s 1s/step - loss: 0.0041 - accuracy: 1.0000 - val_loss: 0.2430 - val_accuracy: 0.9416\n"
          ]
        },
        {
          "output_type": "execute_result",
          "data": {
            "text/plain": [
              "<keras.callbacks.History at 0x7f3e7da01d80>"
            ]
          },
          "metadata": {},
          "execution_count": 143
        }
      ]
    },
    {
      "cell_type": "code",
      "source": [
        "# Evaluate the LSTM model\n",
        "lstm_predictions = lstm_model.predict(X_test_padded)\n",
        "# Extract the predicted class labels\n",
        "lstm_predictions = np.argmax(lstm_predictions, axis=1)\n",
        "lstm_predictions_labels = label_encoder.inverse_transform(lstm_predictions)\n"
      ],
      "metadata": {
        "colab": {
          "base_uri": "https://localhost:8080/"
        },
        "id": "Z8P2LrOFEIj7",
        "outputId": "637e2ed2-963f-4685-ce0c-92aafb8c4a0c"
      },
      "execution_count": null,
      "outputs": [
        {
          "output_type": "stream",
          "name": "stdout",
          "text": [
            "14/14 [==============================] - 3s 226ms/step\n"
          ]
        }
      ]
    },
    {
      "cell_type": "code",
      "source": [
        "print('LSTM Model:')\n",
        "print(classification_report(y_test, lstm_predictions_labels))"
      ],
      "metadata": {
        "colab": {
          "base_uri": "https://localhost:8080/"
        },
        "id": "Kga0DjJLCo57",
        "outputId": "96f46045-a13a-4f46-de37-cac0f509a557"
      },
      "execution_count": null,
      "outputs": [
        {
          "output_type": "stream",
          "name": "stdout",
          "text": [
            "LSTM Model:\n",
            "               precision    recall  f1-score   support\n",
            "\n",
            "     Business       0.94      0.90      0.92       101\n",
            "Entertainment       0.92      0.90      0.91        81\n",
            "     Politics       0.95      0.92      0.93        83\n",
            "       Sports       0.95      0.98      0.96        98\n",
            "   Technology       0.89      0.95      0.92        82\n",
            "\n",
            "     accuracy                           0.93       445\n",
            "    macro avg       0.93      0.93      0.93       445\n",
            " weighted avg       0.93      0.93      0.93       445\n",
            "\n"
          ]
        }
      ]
    },
    {
      "cell_type": "markdown",
      "source": [
        "### Summary:\n",
        "Here's a final comparative summary of the three models (Naive Bayes, Linear SVM, and LSTM) for news article categorization:\n",
        "\n",
        "**Naive Bayes Classifier**:\n",
        "\n",
        "Pros:\n",
        "Fast training and prediction times.\n",
        "Works well with high-dimensional data and performs well with limited training data.\n",
        "Cons:\n",
        "Assumes independence between features, which may not hold true for text data.\n",
        "May struggle with capturing complex relationships in the data.\n",
        "Performance Metrics (example values):\n",
        "Accuracy: 0.85\n",
        "Precision: 0.86\n",
        "Recall: 0.84\n",
        "F1-score: 0.85\n",
        "\n",
        "**Linear SVM Classifier**:\n",
        "\n",
        "Pros:\n",
        "Effective for high-dimensional data and works well with limited training data.\n",
        "Can handle non-linear relationships through the kernel trick.\n",
        "Cons:\n",
        "Training and prediction times can be relatively slower compared to Naive Bayes.\n",
        "Requires careful selection of hyperparameters, such as the choice of the kernel.\n",
        "Performance Metrics (example values):\n",
        "Accuracy: 0.88\n",
        "Precision: 0.89\n",
        "Recall: 0.88\n",
        "F1-score: 0.88\n",
        "\n",
        "**LSTM-based Deep Learning Model**:\n",
        "\n",
        "Pros:\n",
        "Can capture complex relationships in sequential data like text.\n",
        "Can learn and generalize from large amounts of training data.\n",
        "Cons:\n",
        "Requires more computational resources and longer training times compared to traditional models.\n",
        "May overfit with limited training data.\n",
        "Performance Metrics (example values):\n",
        "Accuracy: 0.92\n",
        "Precision: 0.92\n",
        "Recall: 0.92\n",
        "F1-score: 0.92\n",
        "\n",
        "Based on the example values, we can see that the LSTM-based deep learning model performs the best in terms of accuracy, precision, recall, and F1-score. However, the choice of the model ultimately depends on various factors such as the size of the dataset, available computational resources, and the specific requirements of the application. It is recommended to experiment with different models and evaluate their performance on your specific dataset to make an informed decision."
      ],
      "metadata": {
        "id": "lmib4ooUIIvv"
      }
    },
    {
      "cell_type": "markdown",
      "source": [
        "### Summary Table\n",
        "\n",
        "The final comparative summary of the three models (Naive Bayes, Linear SVM, and LSTM) for news article categorization is:\n",
        "\n",
        "![Screenshot 2023-07-06 at 10.28.20 PM.png](data:image/png;base64,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)\n",
        "\n",
        "In the table, each model is evaluated based on various performance metrics such as accuracy, precision, recall, and F1-score. The metrics provide an indication of how well the models perform in categorizing news articles based on their content."
      ],
      "metadata": {
        "id": "mCIhPn7hInD1"
      }
    },
    {
      "cell_type": "markdown",
      "source": [
        "**Observation**: *Out of all the models tested till now, Naive Bayes Classifier seems to be the best performing one since it gives good train & test accuracy, more than satisfactory precision & recall and almost non-significant overfitting.*"
      ],
      "metadata": {
        "id": "kiT3EXlvQYRi"
      }
    },
    {
      "cell_type": "code",
      "source": [],
      "metadata": {
        "id": "sB2LGb62YIii"
      },
      "execution_count": null,
      "outputs": []
    }
  ]
}
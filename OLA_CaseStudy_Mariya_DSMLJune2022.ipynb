{
  "nbformat": 4,
  "nbformat_minor": 0,
  "metadata": {
    "colab": {
      "provenance": [],
      "authorship_tag": "ABX9TyMmSEo0Xal9r542doDbEMT2",
      "include_colab_link": true
    },
    "kernelspec": {
      "name": "python3",
      "display_name": "Python 3"
    },
    "language_info": {
      "name": "python"
    }
  },
  "cells": [
    {
      "cell_type": "markdown",
      "metadata": {
        "id": "view-in-github",
        "colab_type": "text"
      },
      "source": [
        "<a href=\"https://colab.research.google.com/github/pkmariya/Scaler01/blob/master/OLA_CaseStudy_Mariya_DSMLJune2022.ipynb\" target=\"_parent\"><img src=\"https://colab.research.google.com/assets/colab-badge.svg\" alt=\"Open In Colab\"/></a>"
      ]
    },
    {
      "cell_type": "markdown",
      "source": [
        "# OLA Driver Churn Prediction Using Ensemble Models"
      ],
      "metadata": {
        "id": "10sjFKLm7Jcs"
      }
    },
    {
      "cell_type": "markdown",
      "source": [
        "### **Objective**:\n",
        "Based on the below attributes, OLA wants to find out if a drive would leave the company or not?  \n",
        "\n",
        "*   Demographics (city, age, gender etc.)\n",
        "*   Tenure information (joining date, Last Date)\n",
        "*   Historical data regarding the performance of the driver (Quarterly rating, *   Monthly business acquired, grade, Income)"
      ],
      "metadata": {
        "id": "VH0S3TFwSDvG"
      }
    },
    {
      "cell_type": "markdown",
      "source": [
        "### **Import the Libraries**"
      ],
      "metadata": {
        "id": "uuFEM2ilSqVp"
      }
    },
    {
      "cell_type": "code",
      "execution_count": 9,
      "metadata": {
        "id": "PM4crf8q6upg"
      },
      "outputs": [],
      "source": [
        "# Import the required libraries\n",
        "import numpy as np\n",
        "import pandas as pd\n",
        "import matplotlib.pyplot as plt\n",
        "import seaborn as sns\n",
        "from IPython.display import display\n",
        "\n",
        "import warnings\n",
        "warnings.filterwarnings('ignore')\n"
      ]
    },
    {
      "cell_type": "code",
      "source": [
        "!pip install simple_colors"
      ],
      "metadata": {
        "colab": {
          "base_uri": "https://localhost:8080/"
        },
        "id": "dgMnE0PEGXZt",
        "outputId": "c2eeb12b-d26e-4884-9501-de4244b40666"
      },
      "execution_count": 83,
      "outputs": [
        {
          "output_type": "stream",
          "name": "stdout",
          "text": [
            "Looking in indexes: https://pypi.org/simple, https://us-python.pkg.dev/colab-wheels/public/simple/\n",
            "Collecting simple_colors\n",
            "  Downloading simple_colors-0.1.5-py3-none-any.whl (2.8 kB)\n",
            "Installing collected packages: simple_colors\n",
            "Successfully installed simple_colors-0.1.5\n"
          ]
        }
      ]
    },
    {
      "cell_type": "code",
      "source": [
        "from simple_colors import *"
      ],
      "metadata": {
        "id": "pe66CXLDGfe7"
      },
      "execution_count": 84,
      "outputs": []
    },
    {
      "cell_type": "markdown",
      "source": [
        "### **Load the Data**"
      ],
      "metadata": {
        "id": "-AxLzCAFS18s"
      }
    },
    {
      "cell_type": "code",
      "source": [
        "data_df = pd.read_csv('https://d2beiqkhq929f0.cloudfront.net/public_assets/assets/000/002/492/original/ola_driver_scaler.csv')"
      ],
      "metadata": {
        "id": "DRhlYVpa7obs"
      },
      "execution_count": 12,
      "outputs": []
    },
    {
      "cell_type": "markdown",
      "source": [
        "### **Statistical Summary** "
      ],
      "metadata": {
        "id": "nIwvqkipTCQV"
      }
    },
    {
      "cell_type": "markdown",
      "source": [
        "#### Basic information about the Data"
      ],
      "metadata": {
        "id": "cHUaKMSoTLt9"
      }
    },
    {
      "cell_type": "code",
      "source": [
        "data_df.info()"
      ],
      "metadata": {
        "colab": {
          "base_uri": "https://localhost:8080/"
        },
        "id": "WCufFLDL76BP",
        "outputId": "0b2c7562-3763-490a-82c1-cfa4195b5210"
      },
      "execution_count": 4,
      "outputs": [
        {
          "output_type": "stream",
          "name": "stdout",
          "text": [
            "<class 'pandas.core.frame.DataFrame'>\n",
            "RangeIndex: 19104 entries, 0 to 19103\n",
            "Data columns (total 14 columns):\n",
            " #   Column                Non-Null Count  Dtype  \n",
            "---  ------                --------------  -----  \n",
            " 0   Unnamed: 0            19104 non-null  int64  \n",
            " 1   MMM-YY                19104 non-null  object \n",
            " 2   Driver_ID             19104 non-null  int64  \n",
            " 3   Age                   19043 non-null  float64\n",
            " 4   Gender                19052 non-null  float64\n",
            " 5   City                  19104 non-null  object \n",
            " 6   Education_Level       19104 non-null  int64  \n",
            " 7   Income                19104 non-null  int64  \n",
            " 8   Dateofjoining         19104 non-null  object \n",
            " 9   LastWorkingDate       1616 non-null   object \n",
            " 10  Joining Designation   19104 non-null  int64  \n",
            " 11  Grade                 19104 non-null  int64  \n",
            " 12  Total Business Value  19104 non-null  int64  \n",
            " 13  Quarterly Rating      19104 non-null  int64  \n",
            "dtypes: float64(2), int64(8), object(4)\n",
            "memory usage: 2.0+ MB\n"
          ]
        }
      ]
    },
    {
      "cell_type": "markdown",
      "source": [
        "#### Shape of the Data"
      ],
      "metadata": {
        "id": "sYT-km9mTPdH"
      }
    },
    {
      "cell_type": "code",
      "source": [
        "# Shape of the data\n",
        "print(\"Given dataset contains {0} Rows and {1} Columns\".format(data_df.shape[0], data_df.shape[1]))"
      ],
      "metadata": {
        "colab": {
          "base_uri": "https://localhost:8080/"
        },
        "id": "IQqHMw4C79YT",
        "outputId": "0392f1af-4eb2-4b0b-ee54-a26e60586448"
      },
      "execution_count": 4,
      "outputs": [
        {
          "output_type": "stream",
          "name": "stdout",
          "text": [
            "Given dataset contains 19104 Rows and 14 Columns\n"
          ]
        }
      ]
    },
    {
      "cell_type": "markdown",
      "source": [
        "#### Missing Values"
      ],
      "metadata": {
        "id": "JQ-3LeBjT3be"
      }
    },
    {
      "cell_type": "code",
      "source": [
        "# Check for Missing Values\n",
        "count = data_df.isna().sum()\n",
        "missing_values_df = pd.DataFrame(count, columns=['Count'])\n",
        "missing_values_df['Percentage'] = (data_df.isna().sum() / len(data_df) * 100).round(1)\n",
        "missing_values_df.sort_values(by='Percentage', ascending=False, inplace=True)\n",
        "print(\"Missing Values in the Given Data Set\")\n",
        "display(missing_values_df)\n",
        "sns.barplot(y=missing_values_df.index, x='Count', data=missing_values_df)\n",
        "# plt.xlim(0, 2000)"
      ],
      "metadata": {
        "colab": {
          "base_uri": "https://localhost:8080/",
          "height": 785
        },
        "id": "-E_TWL2mEM8E",
        "outputId": "f2a1bfa7-da29-49a9-e849-92b602e78f93"
      },
      "execution_count": 46,
      "outputs": [
        {
          "output_type": "stream",
          "name": "stdout",
          "text": [
            "Missing Values in the Given Data Set\n"
          ]
        },
        {
          "output_type": "display_data",
          "data": {
            "text/plain": [
              "                      Count  Percentage\n",
              "LastWorkingDate       17488        91.5\n",
              "Age                      61         0.3\n",
              "Gender                   52         0.3\n",
              "Unnamed: 0                0         0.0\n",
              "MMM-YY                    0         0.0\n",
              "Driver_ID                 0         0.0\n",
              "City                      0         0.0\n",
              "Education_Level           0         0.0\n",
              "Income                    0         0.0\n",
              "Dateofjoining             0         0.0\n",
              "Joining Designation       0         0.0\n",
              "Grade                     0         0.0\n",
              "Total Business Value      0         0.0\n",
              "Quarterly Rating          0         0.0"
            ],
            "text/html": [
              "\n",
              "  <div id=\"df-2ccacf8e-a846-4666-a932-9c8d8c0c56eb\">\n",
              "    <div class=\"colab-df-container\">\n",
              "      <div>\n",
              "<style scoped>\n",
              "    .dataframe tbody tr th:only-of-type {\n",
              "        vertical-align: middle;\n",
              "    }\n",
              "\n",
              "    .dataframe tbody tr th {\n",
              "        vertical-align: top;\n",
              "    }\n",
              "\n",
              "    .dataframe thead th {\n",
              "        text-align: right;\n",
              "    }\n",
              "</style>\n",
              "<table border=\"1\" class=\"dataframe\">\n",
              "  <thead>\n",
              "    <tr style=\"text-align: right;\">\n",
              "      <th></th>\n",
              "      <th>Count</th>\n",
              "      <th>Percentage</th>\n",
              "    </tr>\n",
              "  </thead>\n",
              "  <tbody>\n",
              "    <tr>\n",
              "      <th>LastWorkingDate</th>\n",
              "      <td>17488</td>\n",
              "      <td>91.5</td>\n",
              "    </tr>\n",
              "    <tr>\n",
              "      <th>Age</th>\n",
              "      <td>61</td>\n",
              "      <td>0.3</td>\n",
              "    </tr>\n",
              "    <tr>\n",
              "      <th>Gender</th>\n",
              "      <td>52</td>\n",
              "      <td>0.3</td>\n",
              "    </tr>\n",
              "    <tr>\n",
              "      <th>Unnamed: 0</th>\n",
              "      <td>0</td>\n",
              "      <td>0.0</td>\n",
              "    </tr>\n",
              "    <tr>\n",
              "      <th>MMM-YY</th>\n",
              "      <td>0</td>\n",
              "      <td>0.0</td>\n",
              "    </tr>\n",
              "    <tr>\n",
              "      <th>Driver_ID</th>\n",
              "      <td>0</td>\n",
              "      <td>0.0</td>\n",
              "    </tr>\n",
              "    <tr>\n",
              "      <th>City</th>\n",
              "      <td>0</td>\n",
              "      <td>0.0</td>\n",
              "    </tr>\n",
              "    <tr>\n",
              "      <th>Education_Level</th>\n",
              "      <td>0</td>\n",
              "      <td>0.0</td>\n",
              "    </tr>\n",
              "    <tr>\n",
              "      <th>Income</th>\n",
              "      <td>0</td>\n",
              "      <td>0.0</td>\n",
              "    </tr>\n",
              "    <tr>\n",
              "      <th>Dateofjoining</th>\n",
              "      <td>0</td>\n",
              "      <td>0.0</td>\n",
              "    </tr>\n",
              "    <tr>\n",
              "      <th>Joining Designation</th>\n",
              "      <td>0</td>\n",
              "      <td>0.0</td>\n",
              "    </tr>\n",
              "    <tr>\n",
              "      <th>Grade</th>\n",
              "      <td>0</td>\n",
              "      <td>0.0</td>\n",
              "    </tr>\n",
              "    <tr>\n",
              "      <th>Total Business Value</th>\n",
              "      <td>0</td>\n",
              "      <td>0.0</td>\n",
              "    </tr>\n",
              "    <tr>\n",
              "      <th>Quarterly Rating</th>\n",
              "      <td>0</td>\n",
              "      <td>0.0</td>\n",
              "    </tr>\n",
              "  </tbody>\n",
              "</table>\n",
              "</div>\n",
              "      <button class=\"colab-df-convert\" onclick=\"convertToInteractive('df-2ccacf8e-a846-4666-a932-9c8d8c0c56eb')\"\n",
              "              title=\"Convert this dataframe to an interactive table.\"\n",
              "              style=\"display:none;\">\n",
              "        \n",
              "  <svg xmlns=\"http://www.w3.org/2000/svg\" height=\"24px\"viewBox=\"0 0 24 24\"\n",
              "       width=\"24px\">\n",
              "    <path d=\"M0 0h24v24H0V0z\" fill=\"none\"/>\n",
              "    <path d=\"M18.56 5.44l.94 2.06.94-2.06 2.06-.94-2.06-.94-.94-2.06-.94 2.06-2.06.94zm-11 1L8.5 8.5l.94-2.06 2.06-.94-2.06-.94L8.5 2.5l-.94 2.06-2.06.94zm10 10l.94 2.06.94-2.06 2.06-.94-2.06-.94-.94-2.06-.94 2.06-2.06.94z\"/><path d=\"M17.41 7.96l-1.37-1.37c-.4-.4-.92-.59-1.43-.59-.52 0-1.04.2-1.43.59L10.3 9.45l-7.72 7.72c-.78.78-.78 2.05 0 2.83L4 21.41c.39.39.9.59 1.41.59.51 0 1.02-.2 1.41-.59l7.78-7.78 2.81-2.81c.8-.78.8-2.07 0-2.86zM5.41 20L4 18.59l7.72-7.72 1.47 1.35L5.41 20z\"/>\n",
              "  </svg>\n",
              "      </button>\n",
              "      \n",
              "  <style>\n",
              "    .colab-df-container {\n",
              "      display:flex;\n",
              "      flex-wrap:wrap;\n",
              "      gap: 12px;\n",
              "    }\n",
              "\n",
              "    .colab-df-convert {\n",
              "      background-color: #E8F0FE;\n",
              "      border: none;\n",
              "      border-radius: 50%;\n",
              "      cursor: pointer;\n",
              "      display: none;\n",
              "      fill: #1967D2;\n",
              "      height: 32px;\n",
              "      padding: 0 0 0 0;\n",
              "      width: 32px;\n",
              "    }\n",
              "\n",
              "    .colab-df-convert:hover {\n",
              "      background-color: #E2EBFA;\n",
              "      box-shadow: 0px 1px 2px rgba(60, 64, 67, 0.3), 0px 1px 3px 1px rgba(60, 64, 67, 0.15);\n",
              "      fill: #174EA6;\n",
              "    }\n",
              "\n",
              "    [theme=dark] .colab-df-convert {\n",
              "      background-color: #3B4455;\n",
              "      fill: #D2E3FC;\n",
              "    }\n",
              "\n",
              "    [theme=dark] .colab-df-convert:hover {\n",
              "      background-color: #434B5C;\n",
              "      box-shadow: 0px 1px 3px 1px rgba(0, 0, 0, 0.15);\n",
              "      filter: drop-shadow(0px 1px 2px rgba(0, 0, 0, 0.3));\n",
              "      fill: #FFFFFF;\n",
              "    }\n",
              "  </style>\n",
              "\n",
              "      <script>\n",
              "        const buttonEl =\n",
              "          document.querySelector('#df-2ccacf8e-a846-4666-a932-9c8d8c0c56eb button.colab-df-convert');\n",
              "        buttonEl.style.display =\n",
              "          google.colab.kernel.accessAllowed ? 'block' : 'none';\n",
              "\n",
              "        async function convertToInteractive(key) {\n",
              "          const element = document.querySelector('#df-2ccacf8e-a846-4666-a932-9c8d8c0c56eb');\n",
              "          const dataTable =\n",
              "            await google.colab.kernel.invokeFunction('convertToInteractive',\n",
              "                                                     [key], {});\n",
              "          if (!dataTable) return;\n",
              "\n",
              "          const docLinkHtml = 'Like what you see? Visit the ' +\n",
              "            '<a target=\"_blank\" href=https://colab.research.google.com/notebooks/data_table.ipynb>data table notebook</a>'\n",
              "            + ' to learn more about interactive tables.';\n",
              "          element.innerHTML = '';\n",
              "          dataTable['output_type'] = 'display_data';\n",
              "          await google.colab.output.renderOutput(dataTable, element);\n",
              "          const docLink = document.createElement('div');\n",
              "          docLink.innerHTML = docLinkHtml;\n",
              "          element.appendChild(docLink);\n",
              "        }\n",
              "      </script>\n",
              "    </div>\n",
              "  </div>\n",
              "  "
            ]
          },
          "metadata": {}
        },
        {
          "output_type": "execute_result",
          "data": {
            "text/plain": [
              "<matplotlib.axes._subplots.AxesSubplot at 0x7f70419753d0>"
            ]
          },
          "metadata": {},
          "execution_count": 46
        },
        {
          "output_type": "display_data",
          "data": {
            "text/plain": [
              "<Figure size 432x288 with 1 Axes>"
            ],
            "image/png": "[encoded data removed]"
          },
          "metadata": {
            "needs_background": "light"
          }
        }
      ]
    },
    {
      "cell_type": "code",
      "source": [
        "# Sparcity of Missing Values\n",
        "data_df.isna().sum(axis=1).value_counts()"
      ],
      "metadata": {
        "colab": {
          "base_uri": "https://localhost:8080/"
        },
        "id": "4z-qYgBSLOp6",
        "outputId": "055f7fde-2a07-4a72-c36b-04b22f659f57"
      },
      "execution_count": 47,
      "outputs": [
        {
          "output_type": "execute_result",
          "data": {
            "text/plain": [
              "1    17395\n",
              "0     1606\n",
              "2      103\n",
              "dtype: int64"
            ]
          },
          "metadata": {},
          "execution_count": 47
        }
      ]
    },
    {
      "cell_type": "code",
      "source": [
        "import missingno as msng"
      ],
      "metadata": {
        "id": "uPYKpKcMtjUN"
      },
      "execution_count": 54,
      "outputs": []
    },
    {
      "cell_type": "code",
      "source": [
        "msng.matrix(data_df)"
      ],
      "metadata": {
        "colab": {
          "base_uri": "https://localhost:8080/",
          "height": 736
        },
        "id": "Ye4hfnZ5unsb",
        "outputId": "146468a2-c0f6-452f-8eee-5639d6f88979"
      },
      "execution_count": 58,
      "outputs": [
        {
          "output_type": "execute_result",
          "data": {
            "text/plain": [
              "<matplotlib.axes._subplots.AxesSubplot at 0x7f7041c8ba30>"
            ]
          },
          "metadata": {},
          "execution_count": 58
        },
        {
          "output_type": "display_data",
          "data": {
            "text/plain": [
              "<Figure size 1800x720 with 2 Axes>"
            ],
            "image/png": "[encoded data removed]"
          },
          "metadata": {
            "needs_background": "light"
          }
        }
      ]
    },
    {
      "cell_type": "code",
      "source": [
        "data_df.describe(include='all')"
      ],
      "metadata": {
        "colab": {
          "base_uri": "https://localhost:8080/",
          "height": 456
        },
        "id": "ci702DzTusv5",
        "outputId": "9229ad4c-5731-40cf-dad8-f0eeca9ca8f5"
      },
      "execution_count": 62,
      "outputs": [
        {
          "output_type": "execute_result",
          "data": {
            "text/plain": [
              "          Unnamed: 0    MMM-YY     Driver_ID           Age        Gender  \\\n",
              "count   19104.000000     19104  19104.000000  19043.000000  19052.000000   \n",
              "unique           NaN        24           NaN           NaN           NaN   \n",
              "top              NaN  01/01/19           NaN           NaN           NaN   \n",
              "freq             NaN      1022           NaN           NaN           NaN   \n",
              "mean     9551.500000       NaN   1415.591133     34.668435      0.418749   \n",
              "std      5514.994107       NaN    810.705321      6.257912      0.493367   \n",
              "min         0.000000       NaN      1.000000     21.000000      0.000000   \n",
              "25%      4775.750000       NaN    710.000000     30.000000      0.000000   \n",
              "50%      9551.500000       NaN   1417.000000     34.000000      0.000000   \n",
              "75%     14327.250000       NaN   2137.000000     39.000000      1.000000   \n",
              "max     19103.000000       NaN   2788.000000     58.000000      1.000000   \n",
              "\n",
              "         City  Education_Level         Income Dateofjoining LastWorkingDate  \\\n",
              "count   19104     19104.000000   19104.000000         19104            1616   \n",
              "unique     29              NaN            NaN           869             493   \n",
              "top       C20              NaN            NaN      23/07/15        29/07/20   \n",
              "freq     1008              NaN            NaN           192              70   \n",
              "mean      NaN         1.021671   65652.025126           NaN             NaN   \n",
              "std       NaN         0.800167   30914.515344           NaN             NaN   \n",
              "min       NaN         0.000000   10747.000000           NaN             NaN   \n",
              "25%       NaN         0.000000   42383.000000           NaN             NaN   \n",
              "50%       NaN         1.000000   60087.000000           NaN             NaN   \n",
              "75%       NaN         2.000000   83969.000000           NaN             NaN   \n",
              "max       NaN         2.000000  188418.000000           NaN             NaN   \n",
              "\n",
              "        Joining Designation         Grade  Total Business Value  \\\n",
              "count          19104.000000  19104.000000          1.910400e+04   \n",
              "unique                  NaN           NaN                   NaN   \n",
              "top                     NaN           NaN                   NaN   \n",
              "freq                    NaN           NaN                   NaN   \n",
              "mean               1.690536      2.252670          5.716621e+05   \n",
              "std                0.836984      1.026512          1.128312e+06   \n",
              "min                1.000000      1.000000         -6.000000e+06   \n",
              "25%                1.000000      1.000000          0.000000e+00   \n",
              "50%                1.000000      2.000000          2.500000e+05   \n",
              "75%                2.000000      3.000000          6.997000e+05   \n",
              "max                5.000000      5.000000          3.374772e+07   \n",
              "\n",
              "        Quarterly Rating  \n",
              "count       19104.000000  \n",
              "unique               NaN  \n",
              "top                  NaN  \n",
              "freq                 NaN  \n",
              "mean            2.008899  \n",
              "std             1.009832  \n",
              "min             1.000000  \n",
              "25%             1.000000  \n",
              "50%             2.000000  \n",
              "75%             3.000000  \n",
              "max             4.000000  "
            ],
            "text/html": [
              "\n",
              "  <div id=\"df-1cda8f94-81ed-4382-8b1f-793147f81d41\">\n",
              "    <div class=\"colab-df-container\">\n",
              "      <div>\n",
              "<style scoped>\n",
              "    .dataframe tbody tr th:only-of-type {\n",
              "        vertical-align: middle;\n",
              "    }\n",
              "\n",
              "    .dataframe tbody tr th {\n",
              "        vertical-align: top;\n",
              "    }\n",
              "\n",
              "    .dataframe thead th {\n",
              "        text-align: right;\n",
              "    }\n",
              "</style>\n",
              "<table border=\"1\" class=\"dataframe\">\n",
              "  <thead>\n",
              "    <tr style=\"text-align: right;\">\n",
              "      <th></th>\n",
              "      <th>Unnamed: 0</th>\n",
              "      <th>MMM-YY</th>\n",
              "      <th>Driver_ID</th>\n",
              "      <th>Age</th>\n",
              "      <th>Gender</th>\n",
              "      <th>City</th>\n",
              "      <th>Education_Level</th>\n",
              "      <th>Income</th>\n",
              "      <th>Dateofjoining</th>\n",
              "      <th>LastWorkingDate</th>\n",
              "      <th>Joining Designation</th>\n",
              "      <th>Grade</th>\n",
              "      <th>Total Business Value</th>\n",
              "      <th>Quarterly Rating</th>\n",
              "    </tr>\n",
              "  </thead>\n",
              "  <tbody>\n",
              "    <tr>\n",
              "      <th>count</th>\n",
              "      <td>19104.000000</td>\n",
              "      <td>19104</td>\n",
              "      <td>19104.000000</td>\n",
              "      <td>19043.000000</td>\n",
              "      <td>19052.000000</td>\n",
              "      <td>19104</td>\n",
              "      <td>19104.000000</td>\n",
              "      <td>19104.000000</td>\n",
              "      <td>19104</td>\n",
              "      <td>1616</td>\n",
              "      <td>19104.000000</td>\n",
              "      <td>19104.000000</td>\n",
              "      <td>1.910400e+04</td>\n",
              "      <td>19104.000000</td>\n",
              "    </tr>\n",
              "    <tr>\n",
              "      <th>unique</th>\n",
              "      <td>NaN</td>\n",
              "      <td>24</td>\n",
              "      <td>NaN</td>\n",
              "      <td>NaN</td>\n",
              "      <td>NaN</td>\n",
              "      <td>29</td>\n",
              "      <td>NaN</td>\n",
              "      <td>NaN</td>\n",
              "      <td>869</td>\n",
              "      <td>493</td>\n",
              "      <td>NaN</td>\n",
              "      <td>NaN</td>\n",
              "      <td>NaN</td>\n",
              "      <td>NaN</td>\n",
              "    </tr>\n",
              "    <tr>\n",
              "      <th>top</th>\n",
              "      <td>NaN</td>\n",
              "      <td>01/01/19</td>\n",
              "      <td>NaN</td>\n",
              "      <td>NaN</td>\n",
              "      <td>NaN</td>\n",
              "      <td>C20</td>\n",
              "      <td>NaN</td>\n",
              "      <td>NaN</td>\n",
              "      <td>23/07/15</td>\n",
              "      <td>29/07/20</td>\n",
              "      <td>NaN</td>\n",
              "      <td>NaN</td>\n",
              "      <td>NaN</td>\n",
              "      <td>NaN</td>\n",
              "    </tr>\n",
              "    <tr>\n",
              "      <th>freq</th>\n",
              "      <td>NaN</td>\n",
              "      <td>1022</td>\n",
              "      <td>NaN</td>\n",
              "      <td>NaN</td>\n",
              "      <td>NaN</td>\n",
              "      <td>1008</td>\n",
              "      <td>NaN</td>\n",
              "      <td>NaN</td>\n",
              "      <td>192</td>\n",
              "      <td>70</td>\n",
              "      <td>NaN</td>\n",
              "      <td>NaN</td>\n",
              "      <td>NaN</td>\n",
              "      <td>NaN</td>\n",
              "    </tr>\n",
              "    <tr>\n",
              "      <th>mean</th>\n",
              "      <td>9551.500000</td>\n",
              "      <td>NaN</td>\n",
              "      <td>1415.591133</td>\n",
              "      <td>34.668435</td>\n",
              "      <td>0.418749</td>\n",
              "      <td>NaN</td>\n",
              "      <td>1.021671</td>\n",
              "      <td>65652.025126</td>\n",
              "      <td>NaN</td>\n",
              "      <td>NaN</td>\n",
              "      <td>1.690536</td>\n",
              "      <td>2.252670</td>\n",
              "      <td>5.716621e+05</td>\n",
              "      <td>2.008899</td>\n",
              "    </tr>\n",
              "    <tr>\n",
              "      <th>std</th>\n",
              "      <td>5514.994107</td>\n",
              "      <td>NaN</td>\n",
              "      <td>810.705321</td>\n",
              "      <td>6.257912</td>\n",
              "      <td>0.493367</td>\n",
              "      <td>NaN</td>\n",
              "      <td>0.800167</td>\n",
              "      <td>30914.515344</td>\n",
              "      <td>NaN</td>\n",
              "      <td>NaN</td>\n",
              "      <td>0.836984</td>\n",
              "      <td>1.026512</td>\n",
              "      <td>1.128312e+06</td>\n",
              "      <td>1.009832</td>\n",
              "    </tr>\n",
              "    <tr>\n",
              "      <th>min</th>\n",
              "      <td>0.000000</td>\n",
              "      <td>NaN</td>\n",
              "      <td>1.000000</td>\n",
              "      <td>21.000000</td>\n",
              "      <td>0.000000</td>\n",
              "      <td>NaN</td>\n",
              "      <td>0.000000</td>\n",
              "      <td>10747.000000</td>\n",
              "      <td>NaN</td>\n",
              "      <td>NaN</td>\n",
              "      <td>1.000000</td>\n",
              "      <td>1.000000</td>\n",
              "      <td>-6.000000e+06</td>\n",
              "      <td>1.000000</td>\n",
              "    </tr>\n",
              "    <tr>\n",
              "      <th>25%</th>\n",
              "      <td>4775.750000</td>\n",
              "      <td>NaN</td>\n",
              "      <td>710.000000</td>\n",
              "      <td>30.000000</td>\n",
              "      <td>0.000000</td>\n",
              "      <td>NaN</td>\n",
              "      <td>0.000000</td>\n",
              "      <td>42383.000000</td>\n",
              "      <td>NaN</td>\n",
              "      <td>NaN</td>\n",
              "      <td>1.000000</td>\n",
              "      <td>1.000000</td>\n",
              "      <td>0.000000e+00</td>\n",
              "      <td>1.000000</td>\n",
              "    </tr>\n",
              "    <tr>\n",
              "      <th>50%</th>\n",
              "      <td>9551.500000</td>\n",
              "      <td>NaN</td>\n",
              "      <td>1417.000000</td>\n",
              "      <td>34.000000</td>\n",
              "      <td>0.000000</td>\n",
              "      <td>NaN</td>\n",
              "      <td>1.000000</td>\n",
              "      <td>60087.000000</td>\n",
              "      <td>NaN</td>\n",
              "      <td>NaN</td>\n",
              "      <td>1.000000</td>\n",
              "      <td>2.000000</td>\n",
              "      <td>2.500000e+05</td>\n",
              "      <td>2.000000</td>\n",
              "    </tr>\n",
              "    <tr>\n",
              "      <th>75%</th>\n",
              "      <td>14327.250000</td>\n",
              "      <td>NaN</td>\n",
              "      <td>2137.000000</td>\n",
              "      <td>39.000000</td>\n",
              "      <td>1.000000</td>\n",
              "      <td>NaN</td>\n",
              "      <td>2.000000</td>\n",
              "      <td>83969.000000</td>\n",
              "      <td>NaN</td>\n",
              "      <td>NaN</td>\n",
              "      <td>2.000000</td>\n",
              "      <td>3.000000</td>\n",
              "      <td>6.997000e+05</td>\n",
              "      <td>3.000000</td>\n",
              "    </tr>\n",
              "    <tr>\n",
              "      <th>max</th>\n",
              "      <td>19103.000000</td>\n",
              "      <td>NaN</td>\n",
              "      <td>2788.000000</td>\n",
              "      <td>58.000000</td>\n",
              "      <td>1.000000</td>\n",
              "      <td>NaN</td>\n",
              "      <td>2.000000</td>\n",
              "      <td>188418.000000</td>\n",
              "      <td>NaN</td>\n",
              "      <td>NaN</td>\n",
              "      <td>5.000000</td>\n",
              "      <td>5.000000</td>\n",
              "      <td>3.374772e+07</td>\n",
              "      <td>4.000000</td>\n",
              "    </tr>\n",
              "  </tbody>\n",
              "</table>\n",
              "</div>\n",
              "      <button class=\"colab-df-convert\" onclick=\"convertToInteractive('df-1cda8f94-81ed-4382-8b1f-793147f81d41')\"\n",
              "              title=\"Convert this dataframe to an interactive table.\"\n",
              "              style=\"display:none;\">\n",
              "        \n",
              "  <svg xmlns=\"http://www.w3.org/2000/svg\" height=\"24px\"viewBox=\"0 0 24 24\"\n",
              "       width=\"24px\">\n",
              "    <path d=\"M0 0h24v24H0V0z\" fill=\"none\"/>\n",
              "    <path d=\"M18.56 5.44l.94 2.06.94-2.06 2.06-.94-2.06-.94-.94-2.06-.94 2.06-2.06.94zm-11 1L8.5 8.5l.94-2.06 2.06-.94-2.06-.94L8.5 2.5l-.94 2.06-2.06.94zm10 10l.94 2.06.94-2.06 2.06-.94-2.06-.94-.94-2.06-.94 2.06-2.06.94z\"/><path d=\"M17.41 7.96l-1.37-1.37c-.4-.4-.92-.59-1.43-.59-.52 0-1.04.2-1.43.59L10.3 9.45l-7.72 7.72c-.78.78-.78 2.05 0 2.83L4 21.41c.39.39.9.59 1.41.59.51 0 1.02-.2 1.41-.59l7.78-7.78 2.81-2.81c.8-.78.8-2.07 0-2.86zM5.41 20L4 18.59l7.72-7.72 1.47 1.35L5.41 20z\"/>\n",
              "  </svg>\n",
              "      </button>\n",
              "      \n",
              "  <style>\n",
              "    .colab-df-container {\n",
              "      display:flex;\n",
              "      flex-wrap:wrap;\n",
              "      gap: 12px;\n",
              "    }\n",
              "\n",
              "    .colab-df-convert {\n",
              "      background-color: #E8F0FE;\n",
              "      border: none;\n",
              "      border-radius: 50%;\n",
              "      cursor: pointer;\n",
              "      display: none;\n",
              "      fill: #1967D2;\n",
              "      height: 32px;\n",
              "      padding: 0 0 0 0;\n",
              "      width: 32px;\n",
              "    }\n",
              "\n",
              "    .colab-df-convert:hover {\n",
              "      background-color: #E2EBFA;\n",
              "      box-shadow: 0px 1px 2px rgba(60, 64, 67, 0.3), 0px 1px 3px 1px rgba(60, 64, 67, 0.15);\n",
              "      fill: #174EA6;\n",
              "    }\n",
              "\n",
              "    [theme=dark] .colab-df-convert {\n",
              "      background-color: #3B4455;\n",
              "      fill: #D2E3FC;\n",
              "    }\n",
              "\n",
              "    [theme=dark] .colab-df-convert:hover {\n",
              "      background-color: #434B5C;\n",
              "      box-shadow: 0px 1px 3px 1px rgba(0, 0, 0, 0.15);\n",
              "      filter: drop-shadow(0px 1px 2px rgba(0, 0, 0, 0.3));\n",
              "      fill: #FFFFFF;\n",
              "    }\n",
              "  </style>\n",
              "\n",
              "      <script>\n",
              "        const buttonEl =\n",
              "          document.querySelector('#df-1cda8f94-81ed-4382-8b1f-793147f81d41 button.colab-df-convert');\n",
              "        buttonEl.style.display =\n",
              "          google.colab.kernel.accessAllowed ? 'block' : 'none';\n",
              "\n",
              "        async function convertToInteractive(key) {\n",
              "          const element = document.querySelector('#df-1cda8f94-81ed-4382-8b1f-793147f81d41');\n",
              "          const dataTable =\n",
              "            await google.colab.kernel.invokeFunction('convertToInteractive',\n",
              "                                                     [key], {});\n",
              "          if (!dataTable) return;\n",
              "\n",
              "          const docLinkHtml = 'Like what you see? Visit the ' +\n",
              "            '<a target=\"_blank\" href=https://colab.research.google.com/notebooks/data_table.ipynb>data table notebook</a>'\n",
              "            + ' to learn more about interactive tables.';\n",
              "          element.innerHTML = '';\n",
              "          dataTable['output_type'] = 'display_data';\n",
              "          await google.colab.output.renderOutput(dataTable, element);\n",
              "          const docLink = document.createElement('div');\n",
              "          docLink.innerHTML = docLinkHtml;\n",
              "          element.appendChild(docLink);\n",
              "        }\n",
              "      </script>\n",
              "    </div>\n",
              "  </div>\n",
              "  "
            ]
          },
          "metadata": {},
          "execution_count": 62
        }
      ]
    },
    {
      "cell_type": "markdown",
      "source": [
        "### **Feature Engineering**"
      ],
      "metadata": {
        "id": "oO4MRhZCUBop"
      }
    },
    {
      "cell_type": "markdown",
      "source": [
        "#### Drop the un-used/irrelevant column(s)"
      ],
      "metadata": {
        "id": "bu2DQ4juULyg"
      }
    },
    {
      "cell_type": "code",
      "source": [
        "# Drop the Unnamed column \n",
        "data_df.drop(['Unnamed: 0'], axis=1, inplace=True)"
      ],
      "metadata": {
        "id": "BmbJiFGH1cQK"
      },
      "execution_count": 63,
      "outputs": []
    },
    {
      "cell_type": "code",
      "source": [
        "data_df.describe()"
      ],
      "metadata": {
        "colab": {
          "base_uri": "https://localhost:8080/",
          "height": 300
        },
        "id": "ZbcDna6311-9",
        "outputId": "750b9682-3b98-444a-ee7e-c65b3a99a393"
      },
      "execution_count": 64,
      "outputs": [
        {
          "output_type": "execute_result",
          "data": {
            "text/plain": [
              "          Driver_ID           Age        Gender  Education_Level  \\\n",
              "count  19104.000000  19043.000000  19052.000000     19104.000000   \n",
              "mean    1415.591133     34.668435      0.418749         1.021671   \n",
              "std      810.705321      6.257912      0.493367         0.800167   \n",
              "min        1.000000     21.000000      0.000000         0.000000   \n",
              "25%      710.000000     30.000000      0.000000         0.000000   \n",
              "50%     1417.000000     34.000000      0.000000         1.000000   \n",
              "75%     2137.000000     39.000000      1.000000         2.000000   \n",
              "max     2788.000000     58.000000      1.000000         2.000000   \n",
              "\n",
              "              Income  Joining Designation         Grade  Total Business Value  \\\n",
              "count   19104.000000         19104.000000  19104.000000          1.910400e+04   \n",
              "mean    65652.025126             1.690536      2.252670          5.716621e+05   \n",
              "std     30914.515344             0.836984      1.026512          1.128312e+06   \n",
              "min     10747.000000             1.000000      1.000000         -6.000000e+06   \n",
              "25%     42383.000000             1.000000      1.000000          0.000000e+00   \n",
              "50%     60087.000000             1.000000      2.000000          2.500000e+05   \n",
              "75%     83969.000000             2.000000      3.000000          6.997000e+05   \n",
              "max    188418.000000             5.000000      5.000000          3.374772e+07   \n",
              "\n",
              "       Quarterly Rating  \n",
              "count      19104.000000  \n",
              "mean           2.008899  \n",
              "std            1.009832  \n",
              "min            1.000000  \n",
              "25%            1.000000  \n",
              "50%            2.000000  \n",
              "75%            3.000000  \n",
              "max            4.000000  "
            ],
            "text/html": [
              "\n",
              "  <div id=\"df-844821d8-fb6e-4f85-bf2d-a33de9f12bff\">\n",
              "    <div class=\"colab-df-container\">\n",
              "      <div>\n",
              "<style scoped>\n",
              "    .dataframe tbody tr th:only-of-type {\n",
              "        vertical-align: middle;\n",
              "    }\n",
              "\n",
              "    .dataframe tbody tr th {\n",
              "        vertical-align: top;\n",
              "    }\n",
              "\n",
              "    .dataframe thead th {\n",
              "        text-align: right;\n",
              "    }\n",
              "</style>\n",
              "<table border=\"1\" class=\"dataframe\">\n",
              "  <thead>\n",
              "    <tr style=\"text-align: right;\">\n",
              "      <th></th>\n",
              "      <th>Driver_ID</th>\n",
              "      <th>Age</th>\n",
              "      <th>Gender</th>\n",
              "      <th>Education_Level</th>\n",
              "      <th>Income</th>\n",
              "      <th>Joining Designation</th>\n",
              "      <th>Grade</th>\n",
              "      <th>Total Business Value</th>\n",
              "      <th>Quarterly Rating</th>\n",
              "    </tr>\n",
              "  </thead>\n",
              "  <tbody>\n",
              "    <tr>\n",
              "      <th>count</th>\n",
              "      <td>19104.000000</td>\n",
              "      <td>19043.000000</td>\n",
              "      <td>19052.000000</td>\n",
              "      <td>19104.000000</td>\n",
              "      <td>19104.000000</td>\n",
              "      <td>19104.000000</td>\n",
              "      <td>19104.000000</td>\n",
              "      <td>1.910400e+04</td>\n",
              "      <td>19104.000000</td>\n",
              "    </tr>\n",
              "    <tr>\n",
              "      <th>mean</th>\n",
              "      <td>1415.591133</td>\n",
              "      <td>34.668435</td>\n",
              "      <td>0.418749</td>\n",
              "      <td>1.021671</td>\n",
              "      <td>65652.025126</td>\n",
              "      <td>1.690536</td>\n",
              "      <td>2.252670</td>\n",
              "      <td>5.716621e+05</td>\n",
              "      <td>2.008899</td>\n",
              "    </tr>\n",
              "    <tr>\n",
              "      <th>std</th>\n",
              "      <td>810.705321</td>\n",
              "      <td>6.257912</td>\n",
              "      <td>0.493367</td>\n",
              "      <td>0.800167</td>\n",
              "      <td>30914.515344</td>\n",
              "      <td>0.836984</td>\n",
              "      <td>1.026512</td>\n",
              "      <td>1.128312e+06</td>\n",
              "      <td>1.009832</td>\n",
              "    </tr>\n",
              "    <tr>\n",
              "      <th>min</th>\n",
              "      <td>1.000000</td>\n",
              "      <td>21.000000</td>\n",
              "      <td>0.000000</td>\n",
              "      <td>0.000000</td>\n",
              "      <td>10747.000000</td>\n",
              "      <td>1.000000</td>\n",
              "      <td>1.000000</td>\n",
              "      <td>-6.000000e+06</td>\n",
              "      <td>1.000000</td>\n",
              "    </tr>\n",
              "    <tr>\n",
              "      <th>25%</th>\n",
              "      <td>710.000000</td>\n",
              "      <td>30.000000</td>\n",
              "      <td>0.000000</td>\n",
              "      <td>0.000000</td>\n",
              "      <td>42383.000000</td>\n",
              "      <td>1.000000</td>\n",
              "      <td>1.000000</td>\n",
              "      <td>0.000000e+00</td>\n",
              "      <td>1.000000</td>\n",
              "    </tr>\n",
              "    <tr>\n",
              "      <th>50%</th>\n",
              "      <td>1417.000000</td>\n",
              "      <td>34.000000</td>\n",
              "      <td>0.000000</td>\n",
              "      <td>1.000000</td>\n",
              "      <td>60087.000000</td>\n",
              "      <td>1.000000</td>\n",
              "      <td>2.000000</td>\n",
              "      <td>2.500000e+05</td>\n",
              "      <td>2.000000</td>\n",
              "    </tr>\n",
              "    <tr>\n",
              "      <th>75%</th>\n",
              "      <td>2137.000000</td>\n",
              "      <td>39.000000</td>\n",
              "      <td>1.000000</td>\n",
              "      <td>2.000000</td>\n",
              "      <td>83969.000000</td>\n",
              "      <td>2.000000</td>\n",
              "      <td>3.000000</td>\n",
              "      <td>6.997000e+05</td>\n",
              "      <td>3.000000</td>\n",
              "    </tr>\n",
              "    <tr>\n",
              "      <th>max</th>\n",
              "      <td>2788.000000</td>\n",
              "      <td>58.000000</td>\n",
              "      <td>1.000000</td>\n",
              "      <td>2.000000</td>\n",
              "      <td>188418.000000</td>\n",
              "      <td>5.000000</td>\n",
              "      <td>5.000000</td>\n",
              "      <td>3.374772e+07</td>\n",
              "      <td>4.000000</td>\n",
              "    </tr>\n",
              "  </tbody>\n",
              "</table>\n",
              "</div>\n",
              "      <button class=\"colab-df-convert\" onclick=\"convertToInteractive('df-844821d8-fb6e-4f85-bf2d-a33de9f12bff')\"\n",
              "              title=\"Convert this dataframe to an interactive table.\"\n",
              "              style=\"display:none;\">\n",
              "        \n",
              "  <svg xmlns=\"http://www.w3.org/2000/svg\" height=\"24px\"viewBox=\"0 0 24 24\"\n",
              "       width=\"24px\">\n",
              "    <path d=\"M0 0h24v24H0V0z\" fill=\"none\"/>\n",
              "    <path d=\"M18.56 5.44l.94 2.06.94-2.06 2.06-.94-2.06-.94-.94-2.06-.94 2.06-2.06.94zm-11 1L8.5 8.5l.94-2.06 2.06-.94-2.06-.94L8.5 2.5l-.94 2.06-2.06.94zm10 10l.94 2.06.94-2.06 2.06-.94-2.06-.94-.94-2.06-.94 2.06-2.06.94z\"/><path d=\"M17.41 7.96l-1.37-1.37c-.4-.4-.92-.59-1.43-.59-.52 0-1.04.2-1.43.59L10.3 9.45l-7.72 7.72c-.78.78-.78 2.05 0 2.83L4 21.41c.39.39.9.59 1.41.59.51 0 1.02-.2 1.41-.59l7.78-7.78 2.81-2.81c.8-.78.8-2.07 0-2.86zM5.41 20L4 18.59l7.72-7.72 1.47 1.35L5.41 20z\"/>\n",
              "  </svg>\n",
              "      </button>\n",
              "      \n",
              "  <style>\n",
              "    .colab-df-container {\n",
              "      display:flex;\n",
              "      flex-wrap:wrap;\n",
              "      gap: 12px;\n",
              "    }\n",
              "\n",
              "    .colab-df-convert {\n",
              "      background-color: #E8F0FE;\n",
              "      border: none;\n",
              "      border-radius: 50%;\n",
              "      cursor: pointer;\n",
              "      display: none;\n",
              "      fill: #1967D2;\n",
              "      height: 32px;\n",
              "      padding: 0 0 0 0;\n",
              "      width: 32px;\n",
              "    }\n",
              "\n",
              "    .colab-df-convert:hover {\n",
              "      background-color: #E2EBFA;\n",
              "      box-shadow: 0px 1px 2px rgba(60, 64, 67, 0.3), 0px 1px 3px 1px rgba(60, 64, 67, 0.15);\n",
              "      fill: #174EA6;\n",
              "    }\n",
              "\n",
              "    [theme=dark] .colab-df-convert {\n",
              "      background-color: #3B4455;\n",
              "      fill: #D2E3FC;\n",
              "    }\n",
              "\n",
              "    [theme=dark] .colab-df-convert:hover {\n",
              "      background-color: #434B5C;\n",
              "      box-shadow: 0px 1px 3px 1px rgba(0, 0, 0, 0.15);\n",
              "      filter: drop-shadow(0px 1px 2px rgba(0, 0, 0, 0.3));\n",
              "      fill: #FFFFFF;\n",
              "    }\n",
              "  </style>\n",
              "\n",
              "      <script>\n",
              "        const buttonEl =\n",
              "          document.querySelector('#df-844821d8-fb6e-4f85-bf2d-a33de9f12bff button.colab-df-convert');\n",
              "        buttonEl.style.display =\n",
              "          google.colab.kernel.accessAllowed ? 'block' : 'none';\n",
              "\n",
              "        async function convertToInteractive(key) {\n",
              "          const element = document.querySelector('#df-844821d8-fb6e-4f85-bf2d-a33de9f12bff');\n",
              "          const dataTable =\n",
              "            await google.colab.kernel.invokeFunction('convertToInteractive',\n",
              "                                                     [key], {});\n",
              "          if (!dataTable) return;\n",
              "\n",
              "          const docLinkHtml = 'Like what you see? Visit the ' +\n",
              "            '<a target=\"_blank\" href=https://colab.research.google.com/notebooks/data_table.ipynb>data table notebook</a>'\n",
              "            + ' to learn more about interactive tables.';\n",
              "          element.innerHTML = '';\n",
              "          dataTable['output_type'] = 'display_data';\n",
              "          await google.colab.output.renderOutput(dataTable, element);\n",
              "          const docLink = document.createElement('div');\n",
              "          docLink.innerHTML = docLinkHtml;\n",
              "          element.appendChild(docLink);\n",
              "        }\n",
              "      </script>\n",
              "    </div>\n",
              "  </div>\n",
              "  "
            ]
          },
          "metadata": {},
          "execution_count": 64
        }
      ]
    },
    {
      "cell_type": "code",
      "source": [
        "data_df.shape"
      ],
      "metadata": {
        "colab": {
          "base_uri": "https://localhost:8080/"
        },
        "id": "kyDLc6rg14zo",
        "outputId": "f5cfafd8-9f4a-4af9-94b1-4a881d0aed63"
      },
      "execution_count": 66,
      "outputs": [
        {
          "output_type": "execute_result",
          "data": {
            "text/plain": [
              "(19104, 13)"
            ]
          },
          "metadata": {},
          "execution_count": 66
        }
      ]
    },
    {
      "cell_type": "code",
      "source": [
        "data_df.nunique()"
      ],
      "metadata": {
        "colab": {
          "base_uri": "https://localhost:8080/"
        },
        "id": "2vVDSpbN2BUC",
        "outputId": "0e5dd82d-16f9-4510-de44-057e0227d061"
      },
      "execution_count": 79,
      "outputs": [
        {
          "output_type": "execute_result",
          "data": {
            "text/plain": [
              "MMM-YY                     24\n",
              "Driver_ID                2381\n",
              "Age                        36\n",
              "Gender                      2\n",
              "City                       29\n",
              "Education_Level             3\n",
              "Income                   2383\n",
              "Dateofjoining             869\n",
              "LastWorkingDate           493\n",
              "Joining Designation         5\n",
              "Grade                       5\n",
              "Total Business Value    10181\n",
              "Quarterly Rating            4\n",
              "dtype: int64"
            ]
          },
          "metadata": {},
          "execution_count": 79
        }
      ]
    },
    {
      "cell_type": "markdown",
      "source": [
        "##### **Observation**: There are 2381 drivers and the whole dataset is around these 2381 drivers. For further analysis we have to aggregate the data based on unique driver id."
      ],
      "metadata": {
        "id": "r87ncY-WPfZs"
      }
    },
    {
      "cell_type": "code",
      "source": [
        "data_df['Gender'].replace({0.0:\"Male\", 1.0:\"Female\"}, inplace=True)"
      ],
      "metadata": {
        "id": "bYrm2kmd2OSe"
      },
      "execution_count": 80,
      "outputs": []
    },
    {
      "cell_type": "code",
      "source": [
        "data_df.nunique()"
      ],
      "metadata": {
        "colab": {
          "base_uri": "https://localhost:8080/"
        },
        "id": "IrfBbsVJ3JbJ",
        "outputId": "9de78350-774a-478f-980e-19cf4454a45f"
      },
      "execution_count": 81,
      "outputs": [
        {
          "output_type": "execute_result",
          "data": {
            "text/plain": [
              "MMM-YY                     24\n",
              "Driver_ID                2381\n",
              "Age                        36\n",
              "Gender                      2\n",
              "City                       29\n",
              "Education_Level             3\n",
              "Income                   2383\n",
              "Dateofjoining             869\n",
              "LastWorkingDate           493\n",
              "Joining Designation         5\n",
              "Grade                       5\n",
              "Total Business Value    10181\n",
              "Quarterly Rating            4\n",
              "dtype: int64"
            ]
          },
          "metadata": {},
          "execution_count": 81
        }
      ]
    },
    {
      "cell_type": "code",
      "source": [
        "# Value types and their unique counts of Categorical Variables\n",
        "def display_unique_values(df):\n",
        "  print(\"*** Unique Values count of Categorical Variables ***\\n\")\n",
        "  for col in df.astype('object').columns:\n",
        "    if len(df[col].value_counts())<10:\n",
        "      print(blue(col, ['bold']))\n",
        "      print(df[col].value_counts().to_string(),'\\n')"
      ],
      "metadata": {
        "id": "sQ0uF1u_3LNC"
      },
      "execution_count": 89,
      "outputs": []
    },
    {
      "cell_type": "code",
      "source": [
        "display_unique_values(data_df)"
      ],
      "metadata": {
        "colab": {
          "base_uri": "https://localhost:8080/"
        },
        "id": "IqnXsAE4FbKi",
        "outputId": "2d986d6c-0bc1-4671-cda9-0e4ddaae9e22"
      },
      "execution_count": 90,
      "outputs": [
        {
          "output_type": "stream",
          "name": "stdout",
          "text": [
            "*** Unique Values count of Categorical Variables ***\n",
            "\n",
            "\u001b[1;34mGender\u001b[0m\n",
            "Male      11074\n",
            "Female     7978 \n",
            "\n",
            "\u001b[1;34mEducation_Level\u001b[0m\n",
            "1    6864\n",
            "2    6327\n",
            "0    5913 \n",
            "\n",
            "\u001b[1;34mJoining Designation\u001b[0m\n",
            "1    9831\n",
            "2    5955\n",
            "3    2847\n",
            "4     341\n",
            "5     130 \n",
            "\n",
            "\u001b[1;34mGrade\u001b[0m\n",
            "2    6627\n",
            "1    5202\n",
            "3    4826\n",
            "4    2144\n",
            "5     305 \n",
            "\n",
            "\u001b[1;34mQuarterly Rating\u001b[0m\n",
            "1    7679\n",
            "2    5553\n",
            "3    3895\n",
            "4    1977 \n",
            "\n"
          ]
        }
      ]
    },
    {
      "cell_type": "code",
      "source": [
        "# Take a working copy of the dataset\n",
        "work_df = data_df.copy()"
      ],
      "metadata": {
        "id": "ndQQoXPBHFsR"
      },
      "execution_count": 91,
      "outputs": []
    },
    {
      "cell_type": "code",
      "source": [
        "work_df.nunique()"
      ],
      "metadata": {
        "colab": {
          "base_uri": "https://localhost:8080/"
        },
        "id": "lkSHkSlURIYs",
        "outputId": "42ed7132-1794-49a5-97e3-eee7e103557e"
      },
      "execution_count": 93,
      "outputs": [
        {
          "output_type": "execute_result",
          "data": {
            "text/plain": [
              "MMM-YY                     24\n",
              "Driver_ID                2381\n",
              "Age                        36\n",
              "Gender                      2\n",
              "City                       29\n",
              "Education_Level             3\n",
              "Income                   2383\n",
              "Dateofjoining             869\n",
              "LastWorkingDate           493\n",
              "Joining Designation         5\n",
              "Grade                       5\n",
              "Total Business Value    10181\n",
              "Quarterly Rating            4\n",
              "dtype: int64"
            ]
          },
          "metadata": {},
          "execution_count": 93
        }
      ]
    },
    {
      "cell_type": "code",
      "source": [],
      "metadata": {
        "id": "Y3o9DTptRN1J"
      },
      "execution_count": null,
      "outputs": []
    }
  ]
}
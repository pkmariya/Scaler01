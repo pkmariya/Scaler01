{
  "nbformat": 4,
  "nbformat_minor": 0,
  "metadata": {
    "colab": {
      "provenance": [],
      "authorship_tag": "ABX9TyODZXqgECuHe1EGDRHIVCGe",
      "include_colab_link": true
    },
    "kernelspec": {
      "name": "python3",
      "display_name": "Python 3"
    },
    "language_info": {
      "name": "python"
    }
  },
  "cells": [
    {
      "cell_type": "markdown",
      "metadata": {
        "id": "view-in-github",
        "colab_type": "text"
      },
      "source": [
        "<a href=\"https://colab.research.google.com/github/pkmariya/Scaler01/blob/master/Delhivery_CaseStudy_Mariya_DSMLJune22.ipynb\" target=\"_parent\"><img src=\"https://colab.research.google.com/assets/colab-badge.svg\" alt=\"Open In Colab\"/></a>"
      ]
    },
    {
      "cell_type": "markdown",
      "source": [
        "# Objective\n",
        "\n",
        "##### Delhivery Team wants to process the data from data engineering pipeline to,\n",
        "*   get useful features out of raw fields\n",
        "*   make sense out of the data to enable data science team to build forecasting models\n",
        "\n"
      ],
      "metadata": {
        "id": "xBi8gq1Ohu1r"
      }
    },
    {
      "cell_type": "markdown",
      "source": [
        "#### Importing requied libraries"
      ],
      "metadata": {
        "id": "9EJj5jr7h5n1"
      }
    },
    {
      "cell_type": "code",
      "execution_count": 6,
      "metadata": {
        "id": "d_1JepeWhiI-"
      },
      "outputs": [],
      "source": [
        "# Import libraries\n",
        "import numpy as np\n",
        "import pandas as pd\n",
        "import seaborn as sns\n",
        "import matplotlib.pyplot as plt\n",
        "from scipy import stats\n",
        "from scipy.stats import shapiro\n",
        "from datetime import datetime\n",
        "import warnings\n",
        "warnings.filterwarnings('ignore')"
      ]
    },
    {
      "cell_type": "markdown",
      "source": [
        "#### Read the Data"
      ],
      "metadata": {
        "id": "ApBTS8UskCIZ"
      }
    },
    {
      "cell_type": "code",
      "source": [
        "# Read the dataset\n",
        "dvery_df = pd.read_csv(\"https://d2beiqkhq929f0.cloudfront.net/public_assets/assets/000/001/551/original/delhivery_data.csv?1642751181\")"
      ],
      "metadata": {
        "id": "OWj-hu1jhtsp"
      },
      "execution_count": 7,
      "outputs": []
    },
    {
      "cell_type": "markdown",
      "source": [
        "#### Metadata of Delhivery Data"
      ],
      "metadata": {
        "id": "iV5NF5xjkGoJ"
      }
    },
    {
      "cell_type": "code",
      "source": [
        "# Description of the dataset\n",
        "dvery_df.describe(include='all')"
      ],
      "metadata": {
        "colab": {
          "base_uri": "https://localhost:8080/",
          "height": 522
        },
        "id": "nsRPWCuFjWxY",
        "outputId": "429f258a-4d2b-4fee-f69d-f3b388755e2f"
      },
      "execution_count": 8,
      "outputs": [
        {
          "output_type": "execute_result",
          "data": {
            "text/plain": [
              "            data          trip_creation_time  \\\n",
              "count     144867                      144867   \n",
              "unique         2                       14817   \n",
              "top     training  2018-09-28 05:23:15.359220   \n",
              "freq      104858                         101   \n",
              "mean         NaN                         NaN   \n",
              "std          NaN                         NaN   \n",
              "min          NaN                         NaN   \n",
              "25%          NaN                         NaN   \n",
              "50%          NaN                         NaN   \n",
              "75%          NaN                         NaN   \n",
              "max          NaN                         NaN   \n",
              "\n",
              "                                      route_schedule_uuid route_type  \\\n",
              "count                                              144867     144867   \n",
              "unique                                               1504          2   \n",
              "top     thanos::sroute:4029a8a2-6c74-4b7e-a6d8-f9e069f...        FTL   \n",
              "freq                                                 1812      99660   \n",
              "mean                                                  NaN        NaN   \n",
              "std                                                   NaN        NaN   \n",
              "min                                                   NaN        NaN   \n",
              "25%                                                   NaN        NaN   \n",
              "50%                                                   NaN        NaN   \n",
              "75%                                                   NaN        NaN   \n",
              "max                                                   NaN        NaN   \n",
              "\n",
              "                      trip_uuid source_center                    source_name  \\\n",
              "count                    144867        144867                         144574   \n",
              "unique                    14817          1508                           1498   \n",
              "top     trip-153811219535896559  IND000000ACB  Gurgaon_Bilaspur_HB (Haryana)   \n",
              "freq                        101         23347                          23347   \n",
              "mean                        NaN           NaN                            NaN   \n",
              "std                         NaN           NaN                            NaN   \n",
              "min                         NaN           NaN                            NaN   \n",
              "25%                         NaN           NaN                            NaN   \n",
              "50%                         NaN           NaN                            NaN   \n",
              "75%                         NaN           NaN                            NaN   \n",
              "max                         NaN           NaN                            NaN   \n",
              "\n",
              "       destination_center               destination_name  \\\n",
              "count              144867                         144606   \n",
              "unique               1481                           1468   \n",
              "top          IND000000ACB  Gurgaon_Bilaspur_HB (Haryana)   \n",
              "freq                15192                          15192   \n",
              "mean                  NaN                            NaN   \n",
              "std                   NaN                            NaN   \n",
              "min                   NaN                            NaN   \n",
              "25%                   NaN                            NaN   \n",
              "50%                   NaN                            NaN   \n",
              "75%                   NaN                            NaN   \n",
              "max                   NaN                            NaN   \n",
              "\n",
              "                     od_start_time  ...     cutoff_timestamp  \\\n",
              "count                       144867  ...               144867   \n",
              "unique                       26369  ...                93180   \n",
              "top     2018-09-21 18:37:09.322207  ...  2018-09-24 05:19:20   \n",
              "freq                            81  ...                   40   \n",
              "mean                           NaN  ...                  NaN   \n",
              "std                            NaN  ...                  NaN   \n",
              "min                            NaN  ...                  NaN   \n",
              "25%                            NaN  ...                  NaN   \n",
              "50%                            NaN  ...                  NaN   \n",
              "75%                            NaN  ...                  NaN   \n",
              "max                            NaN  ...                  NaN   \n",
              "\n",
              "        actual_distance_to_destination    actual_time      osrm_time  \\\n",
              "count                    144867.000000  144867.000000  144867.000000   \n",
              "unique                             NaN            NaN            NaN   \n",
              "top                                NaN            NaN            NaN   \n",
              "freq                               NaN            NaN            NaN   \n",
              "mean                        234.073372     416.927527     213.868272   \n",
              "std                         344.990009     598.103621     308.011085   \n",
              "min                           9.000045       9.000000       6.000000   \n",
              "25%                          23.355874      51.000000      27.000000   \n",
              "50%                          66.126571     132.000000      64.000000   \n",
              "75%                         286.708875     513.000000     257.000000   \n",
              "max                        1927.447705    4532.000000    1686.000000   \n",
              "\n",
              "        osrm_distance         factor  segment_actual_time  segment_osrm_time  \\\n",
              "count   144867.000000  144867.000000        144867.000000      144867.000000   \n",
              "unique            NaN            NaN                  NaN                NaN   \n",
              "top               NaN            NaN                  NaN                NaN   \n",
              "freq              NaN            NaN                  NaN                NaN   \n",
              "mean       284.771297       2.120107            36.196111          18.507548   \n",
              "std        421.119294       1.715421            53.571158          14.775960   \n",
              "min          9.008200       0.144000          -244.000000           0.000000   \n",
              "25%         29.914700       1.604264            20.000000          11.000000   \n",
              "50%         78.525800       1.857143            29.000000          17.000000   \n",
              "75%        343.193250       2.213483            40.000000          22.000000   \n",
              "max       2326.199100      77.387097          3051.000000        1611.000000   \n",
              "\n",
              "        segment_osrm_distance  segment_factor  \n",
              "count            144867.00000   144867.000000  \n",
              "unique                    NaN             NaN  \n",
              "top                       NaN             NaN  \n",
              "freq                      NaN             NaN  \n",
              "mean                 22.82902        2.218368  \n",
              "std                  17.86066        4.847530  \n",
              "min                   0.00000      -23.444444  \n",
              "25%                  12.07010        1.347826  \n",
              "50%                  23.51300        1.684211  \n",
              "75%                  27.81325        2.250000  \n",
              "max                2191.40370      574.250000  \n",
              "\n",
              "[11 rows x 24 columns]"
            ],
            "text/html": [
              "\n",
              "  <div id=\"df-785e69d9-f876-4fa0-9107-692a98dca6a6\">\n",
              "    <div class=\"colab-df-container\">\n",
              "      <div>\n",
              "<style scoped>\n",
              "    .dataframe tbody tr th:only-of-type {\n",
              "        vertical-align: middle;\n",
              "    }\n",
              "\n",
              "    .dataframe tbody tr th {\n",
              "        vertical-align: top;\n",
              "    }\n",
              "\n",
              "    .dataframe thead th {\n",
              "        text-align: right;\n",
              "    }\n",
              "</style>\n",
              "<table border=\"1\" class=\"dataframe\">\n",
              "  <thead>\n",
              "    <tr style=\"text-align: right;\">\n",
              "      <th></th>\n",
              "      <th>data</th>\n",
              "      <th>trip_creation_time</th>\n",
              "      <th>route_schedule_uuid</th>\n",
              "      <th>route_type</th>\n",
              "      <th>trip_uuid</th>\n",
              "      <th>source_center</th>\n",
              "      <th>source_name</th>\n",
              "      <th>destination_center</th>\n",
              "      <th>destination_name</th>\n",
              "      <th>od_start_time</th>\n",
              "      <th>...</th>\n",
              "      <th>cutoff_timestamp</th>\n",
              "      <th>actual_distance_to_destination</th>\n",
              "      <th>actual_time</th>\n",
              "      <th>osrm_time</th>\n",
              "      <th>osrm_distance</th>\n",
              "      <th>factor</th>\n",
              "      <th>segment_actual_time</th>\n",
              "      <th>segment_osrm_time</th>\n",
              "      <th>segment_osrm_distance</th>\n",
              "      <th>segment_factor</th>\n",
              "    </tr>\n",
              "  </thead>\n",
              "  <tbody>\n",
              "    <tr>\n",
              "      <th>count</th>\n",
              "      <td>144867</td>\n",
              "      <td>144867</td>\n",
              "      <td>144867</td>\n",
              "      <td>144867</td>\n",
              "      <td>144867</td>\n",
              "      <td>144867</td>\n",
              "      <td>144574</td>\n",
              "      <td>144867</td>\n",
              "      <td>144606</td>\n",
              "      <td>144867</td>\n",
              "      <td>...</td>\n",
              "      <td>144867</td>\n",
              "      <td>144867.000000</td>\n",
              "      <td>144867.000000</td>\n",
              "      <td>144867.000000</td>\n",
              "      <td>144867.000000</td>\n",
              "      <td>144867.000000</td>\n",
              "      <td>144867.000000</td>\n",
              "      <td>144867.000000</td>\n",
              "      <td>144867.00000</td>\n",
              "      <td>144867.000000</td>\n",
              "    </tr>\n",
              "    <tr>\n",
              "      <th>unique</th>\n",
              "      <td>2</td>\n",
              "      <td>14817</td>\n",
              "      <td>1504</td>\n",
              "      <td>2</td>\n",
              "      <td>14817</td>\n",
              "      <td>1508</td>\n",
              "      <td>1498</td>\n",
              "      <td>1481</td>\n",
              "      <td>1468</td>\n",
              "      <td>26369</td>\n",
              "      <td>...</td>\n",
              "      <td>93180</td>\n",
              "      <td>NaN</td>\n",
              "      <td>NaN</td>\n",
              "      <td>NaN</td>\n",
              "      <td>NaN</td>\n",
              "      <td>NaN</td>\n",
              "      <td>NaN</td>\n",
              "      <td>NaN</td>\n",
              "      <td>NaN</td>\n",
              "      <td>NaN</td>\n",
              "    </tr>\n",
              "    <tr>\n",
              "      <th>top</th>\n",
              "      <td>training</td>\n",
              "      <td>2018-09-28 05:23:15.359220</td>\n",
              "      <td>thanos::sroute:4029a8a2-6c74-4b7e-a6d8-f9e069f...</td>\n",
              "      <td>FTL</td>\n",
              "      <td>trip-153811219535896559</td>\n",
              "      <td>IND000000ACB</td>\n",
              "      <td>Gurgaon_Bilaspur_HB (Haryana)</td>\n",
              "      <td>IND000000ACB</td>\n",
              "      <td>Gurgaon_Bilaspur_HB (Haryana)</td>\n",
              "      <td>2018-09-21 18:37:09.322207</td>\n",
              "      <td>...</td>\n",
              "      <td>2018-09-24 05:19:20</td>\n",
              "      <td>NaN</td>\n",
              "      <td>NaN</td>\n",
              "      <td>NaN</td>\n",
              "      <td>NaN</td>\n",
              "      <td>NaN</td>\n",
              "      <td>NaN</td>\n",
              "      <td>NaN</td>\n",
              "      <td>NaN</td>\n",
              "      <td>NaN</td>\n",
              "    </tr>\n",
              "    <tr>\n",
              "      <th>freq</th>\n",
              "      <td>104858</td>\n",
              "      <td>101</td>\n",
              "      <td>1812</td>\n",
              "      <td>99660</td>\n",
              "      <td>101</td>\n",
              "      <td>23347</td>\n",
              "      <td>23347</td>\n",
              "      <td>15192</td>\n",
              "      <td>15192</td>\n",
              "      <td>81</td>\n",
              "      <td>...</td>\n",
              "      <td>40</td>\n",
              "      <td>NaN</td>\n",
              "      <td>NaN</td>\n",
              "      <td>NaN</td>\n",
              "      <td>NaN</td>\n",
              "      <td>NaN</td>\n",
              "      <td>NaN</td>\n",
              "      <td>NaN</td>\n",
              "      <td>NaN</td>\n",
              "      <td>NaN</td>\n",
              "    </tr>\n",
              "    <tr>\n",
              "      <th>mean</th>\n",
              "      <td>NaN</td>\n",
              "      <td>NaN</td>\n",
              "      <td>NaN</td>\n",
              "      <td>NaN</td>\n",
              "      <td>NaN</td>\n",
              "      <td>NaN</td>\n",
              "      <td>NaN</td>\n",
              "      <td>NaN</td>\n",
              "      <td>NaN</td>\n",
              "      <td>NaN</td>\n",
              "      <td>...</td>\n",
              "      <td>NaN</td>\n",
              "      <td>234.073372</td>\n",
              "      <td>416.927527</td>\n",
              "      <td>213.868272</td>\n",
              "      <td>284.771297</td>\n",
              "      <td>2.120107</td>\n",
              "      <td>36.196111</td>\n",
              "      <td>18.507548</td>\n",
              "      <td>22.82902</td>\n",
              "      <td>2.218368</td>\n",
              "    </tr>\n",
              "    <tr>\n",
              "      <th>std</th>\n",
              "      <td>NaN</td>\n",
              "      <td>NaN</td>\n",
              "      <td>NaN</td>\n",
              "      <td>NaN</td>\n",
              "      <td>NaN</td>\n",
              "      <td>NaN</td>\n",
              "      <td>NaN</td>\n",
              "      <td>NaN</td>\n",
              "      <td>NaN</td>\n",
              "      <td>NaN</td>\n",
              "      <td>...</td>\n",
              "      <td>NaN</td>\n",
              "      <td>344.990009</td>\n",
              "      <td>598.103621</td>\n",
              "      <td>308.011085</td>\n",
              "      <td>421.119294</td>\n",
              "      <td>1.715421</td>\n",
              "      <td>53.571158</td>\n",
              "      <td>14.775960</td>\n",
              "      <td>17.86066</td>\n",
              "      <td>4.847530</td>\n",
              "    </tr>\n",
              "    <tr>\n",
              "      <th>min</th>\n",
              "      <td>NaN</td>\n",
              "      <td>NaN</td>\n",
              "      <td>NaN</td>\n",
              "      <td>NaN</td>\n",
              "      <td>NaN</td>\n",
              "      <td>NaN</td>\n",
              "      <td>NaN</td>\n",
              "      <td>NaN</td>\n",
              "      <td>NaN</td>\n",
              "      <td>NaN</td>\n",
              "      <td>...</td>\n",
              "      <td>NaN</td>\n",
              "      <td>9.000045</td>\n",
              "      <td>9.000000</td>\n",
              "      <td>6.000000</td>\n",
              "      <td>9.008200</td>\n",
              "      <td>0.144000</td>\n",
              "      <td>-244.000000</td>\n",
              "      <td>0.000000</td>\n",
              "      <td>0.00000</td>\n",
              "      <td>-23.444444</td>\n",
              "    </tr>\n",
              "    <tr>\n",
              "      <th>25%</th>\n",
              "      <td>NaN</td>\n",
              "      <td>NaN</td>\n",
              "      <td>NaN</td>\n",
              "      <td>NaN</td>\n",
              "      <td>NaN</td>\n",
              "      <td>NaN</td>\n",
              "      <td>NaN</td>\n",
              "      <td>NaN</td>\n",
              "      <td>NaN</td>\n",
              "      <td>NaN</td>\n",
              "      <td>...</td>\n",
              "      <td>NaN</td>\n",
              "      <td>23.355874</td>\n",
              "      <td>51.000000</td>\n",
              "      <td>27.000000</td>\n",
              "      <td>29.914700</td>\n",
              "      <td>1.604264</td>\n",
              "      <td>20.000000</td>\n",
              "      <td>11.000000</td>\n",
              "      <td>12.07010</td>\n",
              "      <td>1.347826</td>\n",
              "    </tr>\n",
              "    <tr>\n",
              "      <th>50%</th>\n",
              "      <td>NaN</td>\n",
              "      <td>NaN</td>\n",
              "      <td>NaN</td>\n",
              "      <td>NaN</td>\n",
              "      <td>NaN</td>\n",
              "      <td>NaN</td>\n",
              "      <td>NaN</td>\n",
              "      <td>NaN</td>\n",
              "      <td>NaN</td>\n",
              "      <td>NaN</td>\n",
              "      <td>...</td>\n",
              "      <td>NaN</td>\n",
              "      <td>66.126571</td>\n",
              "      <td>132.000000</td>\n",
              "      <td>64.000000</td>\n",
              "      <td>78.525800</td>\n",
              "      <td>1.857143</td>\n",
              "      <td>29.000000</td>\n",
              "      <td>17.000000</td>\n",
              "      <td>23.51300</td>\n",
              "      <td>1.684211</td>\n",
              "    </tr>\n",
              "    <tr>\n",
              "      <th>75%</th>\n",
              "      <td>NaN</td>\n",
              "      <td>NaN</td>\n",
              "      <td>NaN</td>\n",
              "      <td>NaN</td>\n",
              "      <td>NaN</td>\n",
              "      <td>NaN</td>\n",
              "      <td>NaN</td>\n",
              "      <td>NaN</td>\n",
              "      <td>NaN</td>\n",
              "      <td>NaN</td>\n",
              "      <td>...</td>\n",
              "      <td>NaN</td>\n",
              "      <td>286.708875</td>\n",
              "      <td>513.000000</td>\n",
              "      <td>257.000000</td>\n",
              "      <td>343.193250</td>\n",
              "      <td>2.213483</td>\n",
              "      <td>40.000000</td>\n",
              "      <td>22.000000</td>\n",
              "      <td>27.81325</td>\n",
              "      <td>2.250000</td>\n",
              "    </tr>\n",
              "    <tr>\n",
              "      <th>max</th>\n",
              "      <td>NaN</td>\n",
              "      <td>NaN</td>\n",
              "      <td>NaN</td>\n",
              "      <td>NaN</td>\n",
              "      <td>NaN</td>\n",
              "      <td>NaN</td>\n",
              "      <td>NaN</td>\n",
              "      <td>NaN</td>\n",
              "      <td>NaN</td>\n",
              "      <td>NaN</td>\n",
              "      <td>...</td>\n",
              "      <td>NaN</td>\n",
              "      <td>1927.447705</td>\n",
              "      <td>4532.000000</td>\n",
              "      <td>1686.000000</td>\n",
              "      <td>2326.199100</td>\n",
              "      <td>77.387097</td>\n",
              "      <td>3051.000000</td>\n",
              "      <td>1611.000000</td>\n",
              "      <td>2191.40370</td>\n",
              "      <td>574.250000</td>\n",
              "    </tr>\n",
              "  </tbody>\n",
              "</table>\n",
              "<p>11 rows × 24 columns</p>\n",
              "</div>\n",
              "      <button class=\"colab-df-convert\" onclick=\"convertToInteractive('df-785e69d9-f876-4fa0-9107-692a98dca6a6')\"\n",
              "              title=\"Convert this dataframe to an interactive table.\"\n",
              "              style=\"display:none;\">\n",
              "        \n",
              "  <svg xmlns=\"http://www.w3.org/2000/svg\" height=\"24px\"viewBox=\"0 0 24 24\"\n",
              "       width=\"24px\">\n",
              "    <path d=\"M0 0h24v24H0V0z\" fill=\"none\"/>\n",
              "    <path d=\"M18.56 5.44l.94 2.06.94-2.06 2.06-.94-2.06-.94-.94-2.06-.94 2.06-2.06.94zm-11 1L8.5 8.5l.94-2.06 2.06-.94-2.06-.94L8.5 2.5l-.94 2.06-2.06.94zm10 10l.94 2.06.94-2.06 2.06-.94-2.06-.94-.94-2.06-.94 2.06-2.06.94z\"/><path d=\"M17.41 7.96l-1.37-1.37c-.4-.4-.92-.59-1.43-.59-.52 0-1.04.2-1.43.59L10.3 9.45l-7.72 7.72c-.78.78-.78 2.05 0 2.83L4 21.41c.39.39.9.59 1.41.59.51 0 1.02-.2 1.41-.59l7.78-7.78 2.81-2.81c.8-.78.8-2.07 0-2.86zM5.41 20L4 18.59l7.72-7.72 1.47 1.35L5.41 20z\"/>\n",
              "  </svg>\n",
              "      </button>\n",
              "      \n",
              "  <style>\n",
              "    .colab-df-container {\n",
              "      display:flex;\n",
              "      flex-wrap:wrap;\n",
              "      gap: 12px;\n",
              "    }\n",
              "\n",
              "    .colab-df-convert {\n",
              "      background-color: #E8F0FE;\n",
              "      border: none;\n",
              "      border-radius: 50%;\n",
              "      cursor: pointer;\n",
              "      display: none;\n",
              "      fill: #1967D2;\n",
              "      height: 32px;\n",
              "      padding: 0 0 0 0;\n",
              "      width: 32px;\n",
              "    }\n",
              "\n",
              "    .colab-df-convert:hover {\n",
              "      background-color: #E2EBFA;\n",
              "      box-shadow: 0px 1px 2px rgba(60, 64, 67, 0.3), 0px 1px 3px 1px rgba(60, 64, 67, 0.15);\n",
              "      fill: #174EA6;\n",
              "    }\n",
              "\n",
              "    [theme=dark] .colab-df-convert {\n",
              "      background-color: #3B4455;\n",
              "      fill: #D2E3FC;\n",
              "    }\n",
              "\n",
              "    [theme=dark] .colab-df-convert:hover {\n",
              "      background-color: #434B5C;\n",
              "      box-shadow: 0px 1px 3px 1px rgba(0, 0, 0, 0.15);\n",
              "      filter: drop-shadow(0px 1px 2px rgba(0, 0, 0, 0.3));\n",
              "      fill: #FFFFFF;\n",
              "    }\n",
              "  </style>\n",
              "\n",
              "      <script>\n",
              "        const buttonEl =\n",
              "          document.querySelector('#df-785e69d9-f876-4fa0-9107-692a98dca6a6 button.colab-df-convert');\n",
              "        buttonEl.style.display =\n",
              "          google.colab.kernel.accessAllowed ? 'block' : 'none';\n",
              "\n",
              "        async function convertToInteractive(key) {\n",
              "          const element = document.querySelector('#df-785e69d9-f876-4fa0-9107-692a98dca6a6');\n",
              "          const dataTable =\n",
              "            await google.colab.kernel.invokeFunction('convertToInteractive',\n",
              "                                                     [key], {});\n",
              "          if (!dataTable) return;\n",
              "\n",
              "          const docLinkHtml = 'Like what you see? Visit the ' +\n",
              "            '<a target=\"_blank\" href=https://colab.research.google.com/notebooks/data_table.ipynb>data table notebook</a>'\n",
              "            + ' to learn more about interactive tables.';\n",
              "          element.innerHTML = '';\n",
              "          dataTable['output_type'] = 'display_data';\n",
              "          await google.colab.output.renderOutput(dataTable, element);\n",
              "          const docLink = document.createElement('div');\n",
              "          docLink.innerHTML = docLinkHtml;\n",
              "          element.appendChild(docLink);\n",
              "        }\n",
              "      </script>\n",
              "    </div>\n",
              "  </div>\n",
              "  "
            ]
          },
          "metadata": {},
          "execution_count": 8
        }
      ]
    },
    {
      "cell_type": "code",
      "source": [
        "# Meta data of the dataset\n",
        "dvery_df.info"
      ],
      "metadata": {
        "colab": {
          "base_uri": "https://localhost:8080/"
        },
        "id": "f49SOZPNjlCm",
        "outputId": "95f71729-8a74-4393-d904-35b94be922a6"
      },
      "execution_count": 9,
      "outputs": [
        {
          "output_type": "execute_result",
          "data": {
            "text/plain": [
              "<bound method DataFrame.info of             data          trip_creation_time  \\\n",
              "0       training  2018-09-20 02:35:36.476840   \n",
              "1       training  2018-09-20 02:35:36.476840   \n",
              "2       training  2018-09-20 02:35:36.476840   \n",
              "3       training  2018-09-20 02:35:36.476840   \n",
              "4       training  2018-09-20 02:35:36.476840   \n",
              "...          ...                         ...   \n",
              "144862  training  2018-09-20 16:24:28.436231   \n",
              "144863  training  2018-09-20 16:24:28.436231   \n",
              "144864  training  2018-09-20 16:24:28.436231   \n",
              "144865  training  2018-09-20 16:24:28.436231   \n",
              "144866  training  2018-09-20 16:24:28.436231   \n",
              "\n",
              "                                      route_schedule_uuid route_type  \\\n",
              "0       thanos::sroute:eb7bfc78-b351-4c0e-a951-fa3d5c3...    Carting   \n",
              "1       thanos::sroute:eb7bfc78-b351-4c0e-a951-fa3d5c3...    Carting   \n",
              "2       thanos::sroute:eb7bfc78-b351-4c0e-a951-fa3d5c3...    Carting   \n",
              "3       thanos::sroute:eb7bfc78-b351-4c0e-a951-fa3d5c3...    Carting   \n",
              "4       thanos::sroute:eb7bfc78-b351-4c0e-a951-fa3d5c3...    Carting   \n",
              "...                                                   ...        ...   \n",
              "144862  thanos::sroute:f0569d2f-4e20-4c31-8542-67b86d5...    Carting   \n",
              "144863  thanos::sroute:f0569d2f-4e20-4c31-8542-67b86d5...    Carting   \n",
              "144864  thanos::sroute:f0569d2f-4e20-4c31-8542-67b86d5...    Carting   \n",
              "144865  thanos::sroute:f0569d2f-4e20-4c31-8542-67b86d5...    Carting   \n",
              "144866  thanos::sroute:f0569d2f-4e20-4c31-8542-67b86d5...    Carting   \n",
              "\n",
              "                      trip_uuid source_center                 source_name  \\\n",
              "0       trip-153741093647649320  IND388121AAA  Anand_VUNagar_DC (Gujarat)   \n",
              "1       trip-153741093647649320  IND388121AAA  Anand_VUNagar_DC (Gujarat)   \n",
              "2       trip-153741093647649320  IND388121AAA  Anand_VUNagar_DC (Gujarat)   \n",
              "3       trip-153741093647649320  IND388121AAA  Anand_VUNagar_DC (Gujarat)   \n",
              "4       trip-153741093647649320  IND388121AAA  Anand_VUNagar_DC (Gujarat)   \n",
              "...                         ...           ...                         ...   \n",
              "144862  trip-153746066843555182  IND131028AAB  Sonipat_Kundli_H (Haryana)   \n",
              "144863  trip-153746066843555182  IND131028AAB  Sonipat_Kundli_H (Haryana)   \n",
              "144864  trip-153746066843555182  IND131028AAB  Sonipat_Kundli_H (Haryana)   \n",
              "144865  trip-153746066843555182  IND131028AAB  Sonipat_Kundli_H (Haryana)   \n",
              "144866  trip-153746066843555182  IND131028AAB  Sonipat_Kundli_H (Haryana)   \n",
              "\n",
              "       destination_center               destination_name  \\\n",
              "0            IND388620AAB  Khambhat_MotvdDPP_D (Gujarat)   \n",
              "1            IND388620AAB  Khambhat_MotvdDPP_D (Gujarat)   \n",
              "2            IND388620AAB  Khambhat_MotvdDPP_D (Gujarat)   \n",
              "3            IND388620AAB  Khambhat_MotvdDPP_D (Gujarat)   \n",
              "4            IND388620AAB  Khambhat_MotvdDPP_D (Gujarat)   \n",
              "...                   ...                            ...   \n",
              "144862       IND000000ACB  Gurgaon_Bilaspur_HB (Haryana)   \n",
              "144863       IND000000ACB  Gurgaon_Bilaspur_HB (Haryana)   \n",
              "144864       IND000000ACB  Gurgaon_Bilaspur_HB (Haryana)   \n",
              "144865       IND000000ACB  Gurgaon_Bilaspur_HB (Haryana)   \n",
              "144866       IND000000ACB  Gurgaon_Bilaspur_HB (Haryana)   \n",
              "\n",
              "                     od_start_time  ...            cutoff_timestamp  \\\n",
              "0       2018-09-20 03:21:32.418600  ...         2018-09-20 04:27:55   \n",
              "1       2018-09-20 03:21:32.418600  ...         2018-09-20 04:17:55   \n",
              "2       2018-09-20 03:21:32.418600  ...  2018-09-20 04:01:19.505586   \n",
              "3       2018-09-20 03:21:32.418600  ...         2018-09-20 03:39:57   \n",
              "4       2018-09-20 03:21:32.418600  ...         2018-09-20 03:33:55   \n",
              "...                            ...  ...                         ...   \n",
              "144862  2018-09-20 16:24:28.436231  ...         2018-09-20 21:57:20   \n",
              "144863  2018-09-20 16:24:28.436231  ...         2018-09-20 21:31:18   \n",
              "144864  2018-09-20 16:24:28.436231  ...         2018-09-20 21:11:18   \n",
              "144865  2018-09-20 16:24:28.436231  ...         2018-09-20 20:53:19   \n",
              "144866  2018-09-20 16:24:28.436231  ...  2018-09-20 16:24:28.436231   \n",
              "\n",
              "        actual_distance_to_destination  actual_time  osrm_time osrm_distance  \\\n",
              "0                            10.435660         14.0       11.0       11.9653   \n",
              "1                            18.936842         24.0       20.0       21.7243   \n",
              "2                            27.637279         40.0       28.0       32.5395   \n",
              "3                            36.118028         62.0       40.0       45.5620   \n",
              "4                            39.386040         68.0       44.0       54.2181   \n",
              "...                                ...          ...        ...           ...   \n",
              "144862                       45.258278         94.0       60.0       67.9280   \n",
              "144863                       54.092531        120.0       76.0       85.6829   \n",
              "144864                       66.163591        140.0       88.0       97.0933   \n",
              "144865                       73.680667        158.0       98.0      111.2709   \n",
              "144866                       70.039010        426.0       95.0       88.7319   \n",
              "\n",
              "          factor  segment_actual_time  segment_osrm_time  \\\n",
              "0       1.272727                 14.0               11.0   \n",
              "1       1.200000                 10.0                9.0   \n",
              "2       1.428571                 16.0                7.0   \n",
              "3       1.550000                 21.0               12.0   \n",
              "4       1.545455                  6.0                5.0   \n",
              "...          ...                  ...                ...   \n",
              "144862  1.566667                 12.0               12.0   \n",
              "144863  1.578947                 26.0               21.0   \n",
              "144864  1.590909                 20.0               34.0   \n",
              "144865  1.612245                 17.0               27.0   \n",
              "144866  4.484211                268.0                9.0   \n",
              "\n",
              "        segment_osrm_distance  segment_factor  \n",
              "0                     11.9653        1.272727  \n",
              "1                      9.7590        1.111111  \n",
              "2                     10.8152        2.285714  \n",
              "3                     13.0224        1.750000  \n",
              "4                      3.9153        1.200000  \n",
              "...                       ...             ...  \n",
              "144862                 8.1858        1.000000  \n",
              "144863                17.3725        1.238095  \n",
              "144864                20.7053        0.588235  \n",
              "144865                18.8885        0.629630  \n",
              "144866                 8.8088       29.777778  \n",
              "\n",
              "[144867 rows x 24 columns]>"
            ]
          },
          "metadata": {},
          "execution_count": 9
        }
      ]
    },
    {
      "cell_type": "code",
      "source": [
        "# Top 5 rows of the dataset\n",
        "dvery_df.head()"
      ],
      "metadata": {
        "colab": {
          "base_uri": "https://localhost:8080/",
          "height": 473
        },
        "id": "tENdOSd2jPnD",
        "outputId": "395ae4c2-36f5-4c5f-8534-23f4588d0889"
      },
      "execution_count": 10,
      "outputs": [
        {
          "output_type": "execute_result",
          "data": {
            "text/plain": [
              "       data          trip_creation_time  \\\n",
              "0  training  2018-09-20 02:35:36.476840   \n",
              "1  training  2018-09-20 02:35:36.476840   \n",
              "2  training  2018-09-20 02:35:36.476840   \n",
              "3  training  2018-09-20 02:35:36.476840   \n",
              "4  training  2018-09-20 02:35:36.476840   \n",
              "\n",
              "                                 route_schedule_uuid route_type  \\\n",
              "0  thanos::sroute:eb7bfc78-b351-4c0e-a951-fa3d5c3...    Carting   \n",
              "1  thanos::sroute:eb7bfc78-b351-4c0e-a951-fa3d5c3...    Carting   \n",
              "2  thanos::sroute:eb7bfc78-b351-4c0e-a951-fa3d5c3...    Carting   \n",
              "3  thanos::sroute:eb7bfc78-b351-4c0e-a951-fa3d5c3...    Carting   \n",
              "4  thanos::sroute:eb7bfc78-b351-4c0e-a951-fa3d5c3...    Carting   \n",
              "\n",
              "                 trip_uuid source_center                 source_name  \\\n",
              "0  trip-153741093647649320  IND388121AAA  Anand_VUNagar_DC (Gujarat)   \n",
              "1  trip-153741093647649320  IND388121AAA  Anand_VUNagar_DC (Gujarat)   \n",
              "2  trip-153741093647649320  IND388121AAA  Anand_VUNagar_DC (Gujarat)   \n",
              "3  trip-153741093647649320  IND388121AAA  Anand_VUNagar_DC (Gujarat)   \n",
              "4  trip-153741093647649320  IND388121AAA  Anand_VUNagar_DC (Gujarat)   \n",
              "\n",
              "  destination_center               destination_name  \\\n",
              "0       IND388620AAB  Khambhat_MotvdDPP_D (Gujarat)   \n",
              "1       IND388620AAB  Khambhat_MotvdDPP_D (Gujarat)   \n",
              "2       IND388620AAB  Khambhat_MotvdDPP_D (Gujarat)   \n",
              "3       IND388620AAB  Khambhat_MotvdDPP_D (Gujarat)   \n",
              "4       IND388620AAB  Khambhat_MotvdDPP_D (Gujarat)   \n",
              "\n",
              "                od_start_time  ...            cutoff_timestamp  \\\n",
              "0  2018-09-20 03:21:32.418600  ...         2018-09-20 04:27:55   \n",
              "1  2018-09-20 03:21:32.418600  ...         2018-09-20 04:17:55   \n",
              "2  2018-09-20 03:21:32.418600  ...  2018-09-20 04:01:19.505586   \n",
              "3  2018-09-20 03:21:32.418600  ...         2018-09-20 03:39:57   \n",
              "4  2018-09-20 03:21:32.418600  ...         2018-09-20 03:33:55   \n",
              "\n",
              "   actual_distance_to_destination  actual_time  osrm_time osrm_distance  \\\n",
              "0                       10.435660         14.0       11.0       11.9653   \n",
              "1                       18.936842         24.0       20.0       21.7243   \n",
              "2                       27.637279         40.0       28.0       32.5395   \n",
              "3                       36.118028         62.0       40.0       45.5620   \n",
              "4                       39.386040         68.0       44.0       54.2181   \n",
              "\n",
              "     factor  segment_actual_time  segment_osrm_time  segment_osrm_distance  \\\n",
              "0  1.272727                 14.0               11.0                11.9653   \n",
              "1  1.200000                 10.0                9.0                 9.7590   \n",
              "2  1.428571                 16.0                7.0                10.8152   \n",
              "3  1.550000                 21.0               12.0                13.0224   \n",
              "4  1.545455                  6.0                5.0                 3.9153   \n",
              "\n",
              "   segment_factor  \n",
              "0        1.272727  \n",
              "1        1.111111  \n",
              "2        2.285714  \n",
              "3        1.750000  \n",
              "4        1.200000  \n",
              "\n",
              "[5 rows x 24 columns]"
            ],
            "text/html": [
              "\n",
              "  <div id=\"df-c9a1d083-3f7b-49da-8721-dc4ae2171b75\">\n",
              "    <div class=\"colab-df-container\">\n",
              "      <div>\n",
              "<style scoped>\n",
              "    .dataframe tbody tr th:only-of-type {\n",
              "        vertical-align: middle;\n",
              "    }\n",
              "\n",
              "    .dataframe tbody tr th {\n",
              "        vertical-align: top;\n",
              "    }\n",
              "\n",
              "    .dataframe thead th {\n",
              "        text-align: right;\n",
              "    }\n",
              "</style>\n",
              "<table border=\"1\" class=\"dataframe\">\n",
              "  <thead>\n",
              "    <tr style=\"text-align: right;\">\n",
              "      <th></th>\n",
              "      <th>data</th>\n",
              "      <th>trip_creation_time</th>\n",
              "      <th>route_schedule_uuid</th>\n",
              "      <th>route_type</th>\n",
              "      <th>trip_uuid</th>\n",
              "      <th>source_center</th>\n",
              "      <th>source_name</th>\n",
              "      <th>destination_center</th>\n",
              "      <th>destination_name</th>\n",
              "      <th>od_start_time</th>\n",
              "      <th>...</th>\n",
              "      <th>cutoff_timestamp</th>\n",
              "      <th>actual_distance_to_destination</th>\n",
              "      <th>actual_time</th>\n",
              "      <th>osrm_time</th>\n",
              "      <th>osrm_distance</th>\n",
              "      <th>factor</th>\n",
              "      <th>segment_actual_time</th>\n",
              "      <th>segment_osrm_time</th>\n",
              "      <th>segment_osrm_distance</th>\n",
              "      <th>segment_factor</th>\n",
              "    </tr>\n",
              "  </thead>\n",
              "  <tbody>\n",
              "    <tr>\n",
              "      <th>0</th>\n",
              "      <td>training</td>\n",
              "      <td>2018-09-20 02:35:36.476840</td>\n",
              "      <td>thanos::sroute:eb7bfc78-b351-4c0e-a951-fa3d5c3...</td>\n",
              "      <td>Carting</td>\n",
              "      <td>trip-153741093647649320</td>\n",
              "      <td>IND388121AAA</td>\n",
              "      <td>Anand_VUNagar_DC (Gujarat)</td>\n",
              "      <td>IND388620AAB</td>\n",
              "      <td>Khambhat_MotvdDPP_D (Gujarat)</td>\n",
              "      <td>2018-09-20 03:21:32.418600</td>\n",
              "      <td>...</td>\n",
              "      <td>2018-09-20 04:27:55</td>\n",
              "      <td>10.435660</td>\n",
              "      <td>14.0</td>\n",
              "      <td>11.0</td>\n",
              "      <td>11.9653</td>\n",
              "      <td>1.272727</td>\n",
              "      <td>14.0</td>\n",
              "      <td>11.0</td>\n",
              "      <td>11.9653</td>\n",
              "      <td>1.272727</td>\n",
              "    </tr>\n",
              "    <tr>\n",
              "      <th>1</th>\n",
              "      <td>training</td>\n",
              "      <td>2018-09-20 02:35:36.476840</td>\n",
              "      <td>thanos::sroute:eb7bfc78-b351-4c0e-a951-fa3d5c3...</td>\n",
              "      <td>Carting</td>\n",
              "      <td>trip-153741093647649320</td>\n",
              "      <td>IND388121AAA</td>\n",
              "      <td>Anand_VUNagar_DC (Gujarat)</td>\n",
              "      <td>IND388620AAB</td>\n",
              "      <td>Khambhat_MotvdDPP_D (Gujarat)</td>\n",
              "      <td>2018-09-20 03:21:32.418600</td>\n",
              "      <td>...</td>\n",
              "      <td>2018-09-20 04:17:55</td>\n",
              "      <td>18.936842</td>\n",
              "      <td>24.0</td>\n",
              "      <td>20.0</td>\n",
              "      <td>21.7243</td>\n",
              "      <td>1.200000</td>\n",
              "      <td>10.0</td>\n",
              "      <td>9.0</td>\n",
              "      <td>9.7590</td>\n",
              "      <td>1.111111</td>\n",
              "    </tr>\n",
              "    <tr>\n",
              "      <th>2</th>\n",
              "      <td>training</td>\n",
              "      <td>2018-09-20 02:35:36.476840</td>\n",
              "      <td>thanos::sroute:eb7bfc78-b351-4c0e-a951-fa3d5c3...</td>\n",
              "      <td>Carting</td>\n",
              "      <td>trip-153741093647649320</td>\n",
              "      <td>IND388121AAA</td>\n",
              "      <td>Anand_VUNagar_DC (Gujarat)</td>\n",
              "      <td>IND388620AAB</td>\n",
              "      <td>Khambhat_MotvdDPP_D (Gujarat)</td>\n",
              "      <td>2018-09-20 03:21:32.418600</td>\n",
              "      <td>...</td>\n",
              "      <td>2018-09-20 04:01:19.505586</td>\n",
              "      <td>27.637279</td>\n",
              "      <td>40.0</td>\n",
              "      <td>28.0</td>\n",
              "      <td>32.5395</td>\n",
              "      <td>1.428571</td>\n",
              "      <td>16.0</td>\n",
              "      <td>7.0</td>\n",
              "      <td>10.8152</td>\n",
              "      <td>2.285714</td>\n",
              "    </tr>\n",
              "    <tr>\n",
              "      <th>3</th>\n",
              "      <td>training</td>\n",
              "      <td>2018-09-20 02:35:36.476840</td>\n",
              "      <td>thanos::sroute:eb7bfc78-b351-4c0e-a951-fa3d5c3...</td>\n",
              "      <td>Carting</td>\n",
              "      <td>trip-153741093647649320</td>\n",
              "      <td>IND388121AAA</td>\n",
              "      <td>Anand_VUNagar_DC (Gujarat)</td>\n",
              "      <td>IND388620AAB</td>\n",
              "      <td>Khambhat_MotvdDPP_D (Gujarat)</td>\n",
              "      <td>2018-09-20 03:21:32.418600</td>\n",
              "      <td>...</td>\n",
              "      <td>2018-09-20 03:39:57</td>\n",
              "      <td>36.118028</td>\n",
              "      <td>62.0</td>\n",
              "      <td>40.0</td>\n",
              "      <td>45.5620</td>\n",
              "      <td>1.550000</td>\n",
              "      <td>21.0</td>\n",
              "      <td>12.0</td>\n",
              "      <td>13.0224</td>\n",
              "      <td>1.750000</td>\n",
              "    </tr>\n",
              "    <tr>\n",
              "      <th>4</th>\n",
              "      <td>training</td>\n",
              "      <td>2018-09-20 02:35:36.476840</td>\n",
              "      <td>thanos::sroute:eb7bfc78-b351-4c0e-a951-fa3d5c3...</td>\n",
              "      <td>Carting</td>\n",
              "      <td>trip-153741093647649320</td>\n",
              "      <td>IND388121AAA</td>\n",
              "      <td>Anand_VUNagar_DC (Gujarat)</td>\n",
              "      <td>IND388620AAB</td>\n",
              "      <td>Khambhat_MotvdDPP_D (Gujarat)</td>\n",
              "      <td>2018-09-20 03:21:32.418600</td>\n",
              "      <td>...</td>\n",
              "      <td>2018-09-20 03:33:55</td>\n",
              "      <td>39.386040</td>\n",
              "      <td>68.0</td>\n",
              "      <td>44.0</td>\n",
              "      <td>54.2181</td>\n",
              "      <td>1.545455</td>\n",
              "      <td>6.0</td>\n",
              "      <td>5.0</td>\n",
              "      <td>3.9153</td>\n",
              "      <td>1.200000</td>\n",
              "    </tr>\n",
              "  </tbody>\n",
              "</table>\n",
              "<p>5 rows × 24 columns</p>\n",
              "</div>\n",
              "      <button class=\"colab-df-convert\" onclick=\"convertToInteractive('df-c9a1d083-3f7b-49da-8721-dc4ae2171b75')\"\n",
              "              title=\"Convert this dataframe to an interactive table.\"\n",
              "              style=\"display:none;\">\n",
              "        \n",
              "  <svg xmlns=\"http://www.w3.org/2000/svg\" height=\"24px\"viewBox=\"0 0 24 24\"\n",
              "       width=\"24px\">\n",
              "    <path d=\"M0 0h24v24H0V0z\" fill=\"none\"/>\n",
              "    <path d=\"M18.56 5.44l.94 2.06.94-2.06 2.06-.94-2.06-.94-.94-2.06-.94 2.06-2.06.94zm-11 1L8.5 8.5l.94-2.06 2.06-.94-2.06-.94L8.5 2.5l-.94 2.06-2.06.94zm10 10l.94 2.06.94-2.06 2.06-.94-2.06-.94-.94-2.06-.94 2.06-2.06.94z\"/><path d=\"M17.41 7.96l-1.37-1.37c-.4-.4-.92-.59-1.43-.59-.52 0-1.04.2-1.43.59L10.3 9.45l-7.72 7.72c-.78.78-.78 2.05 0 2.83L4 21.41c.39.39.9.59 1.41.59.51 0 1.02-.2 1.41-.59l7.78-7.78 2.81-2.81c.8-.78.8-2.07 0-2.86zM5.41 20L4 18.59l7.72-7.72 1.47 1.35L5.41 20z\"/>\n",
              "  </svg>\n",
              "      </button>\n",
              "      \n",
              "  <style>\n",
              "    .colab-df-container {\n",
              "      display:flex;\n",
              "      flex-wrap:wrap;\n",
              "      gap: 12px;\n",
              "    }\n",
              "\n",
              "    .colab-df-convert {\n",
              "      background-color: #E8F0FE;\n",
              "      border: none;\n",
              "      border-radius: 50%;\n",
              "      cursor: pointer;\n",
              "      display: none;\n",
              "      fill: #1967D2;\n",
              "      height: 32px;\n",
              "      padding: 0 0 0 0;\n",
              "      width: 32px;\n",
              "    }\n",
              "\n",
              "    .colab-df-convert:hover {\n",
              "      background-color: #E2EBFA;\n",
              "      box-shadow: 0px 1px 2px rgba(60, 64, 67, 0.3), 0px 1px 3px 1px rgba(60, 64, 67, 0.15);\n",
              "      fill: #174EA6;\n",
              "    }\n",
              "\n",
              "    [theme=dark] .colab-df-convert {\n",
              "      background-color: #3B4455;\n",
              "      fill: #D2E3FC;\n",
              "    }\n",
              "\n",
              "    [theme=dark] .colab-df-convert:hover {\n",
              "      background-color: #434B5C;\n",
              "      box-shadow: 0px 1px 3px 1px rgba(0, 0, 0, 0.15);\n",
              "      filter: drop-shadow(0px 1px 2px rgba(0, 0, 0, 0.3));\n",
              "      fill: #FFFFFF;\n",
              "    }\n",
              "  </style>\n",
              "\n",
              "      <script>\n",
              "        const buttonEl =\n",
              "          document.querySelector('#df-c9a1d083-3f7b-49da-8721-dc4ae2171b75 button.colab-df-convert');\n",
              "        buttonEl.style.display =\n",
              "          google.colab.kernel.accessAllowed ? 'block' : 'none';\n",
              "\n",
              "        async function convertToInteractive(key) {\n",
              "          const element = document.querySelector('#df-c9a1d083-3f7b-49da-8721-dc4ae2171b75');\n",
              "          const dataTable =\n",
              "            await google.colab.kernel.invokeFunction('convertToInteractive',\n",
              "                                                     [key], {});\n",
              "          if (!dataTable) return;\n",
              "\n",
              "          const docLinkHtml = 'Like what you see? Visit the ' +\n",
              "            '<a target=\"_blank\" href=https://colab.research.google.com/notebooks/data_table.ipynb>data table notebook</a>'\n",
              "            + ' to learn more about interactive tables.';\n",
              "          element.innerHTML = '';\n",
              "          dataTable['output_type'] = 'display_data';\n",
              "          await google.colab.output.renderOutput(dataTable, element);\n",
              "          const docLink = document.createElement('div');\n",
              "          docLink.innerHTML = docLinkHtml;\n",
              "          element.appendChild(docLink);\n",
              "        }\n",
              "      </script>\n",
              "    </div>\n",
              "  </div>\n",
              "  "
            ]
          },
          "metadata": {},
          "execution_count": 10
        }
      ]
    },
    {
      "cell_type": "code",
      "source": [
        "# List of columns in the dataset\n",
        "dvery_df.columns"
      ],
      "metadata": {
        "colab": {
          "base_uri": "https://localhost:8080/"
        },
        "id": "y7APOqb2jS0z",
        "outputId": "6e8df74b-042b-44d9-98e3-6c3811cea68e"
      },
      "execution_count": 11,
      "outputs": [
        {
          "output_type": "execute_result",
          "data": {
            "text/plain": [
              "Index(['data', 'trip_creation_time', 'route_schedule_uuid', 'route_type',\n",
              "       'trip_uuid', 'source_center', 'source_name', 'destination_center',\n",
              "       'destination_name', 'od_start_time', 'od_end_time',\n",
              "       'start_scan_to_end_scan', 'is_cutoff', 'cutoff_factor',\n",
              "       'cutoff_timestamp', 'actual_distance_to_destination', 'actual_time',\n",
              "       'osrm_time', 'osrm_distance', 'factor', 'segment_actual_time',\n",
              "       'segment_osrm_time', 'segment_osrm_distance', 'segment_factor'],\n",
              "      dtype='object')"
            ]
          },
          "metadata": {},
          "execution_count": 11
        }
      ]
    },
    {
      "cell_type": "code",
      "source": [
        "# Datatypes of the columns\n",
        "dvery_df.dtypes"
      ],
      "metadata": {
        "colab": {
          "base_uri": "https://localhost:8080/"
        },
        "id": "npqxxfV9odu_",
        "outputId": "16d97591-d98d-40c4-c4e6-ff82b8b5e152"
      },
      "execution_count": 12,
      "outputs": [
        {
          "output_type": "execute_result",
          "data": {
            "text/plain": [
              "data                               object\n",
              "trip_creation_time                 object\n",
              "route_schedule_uuid                object\n",
              "route_type                         object\n",
              "trip_uuid                          object\n",
              "source_center                      object\n",
              "source_name                        object\n",
              "destination_center                 object\n",
              "destination_name                   object\n",
              "od_start_time                      object\n",
              "od_end_time                        object\n",
              "start_scan_to_end_scan            float64\n",
              "is_cutoff                            bool\n",
              "cutoff_factor                       int64\n",
              "cutoff_timestamp                   object\n",
              "actual_distance_to_destination    float64\n",
              "actual_time                       float64\n",
              "osrm_time                         float64\n",
              "osrm_distance                     float64\n",
              "factor                            float64\n",
              "segment_actual_time               float64\n",
              "segment_osrm_time                 float64\n",
              "segment_osrm_distance             float64\n",
              "segment_factor                    float64\n",
              "dtype: object"
            ]
          },
          "metadata": {},
          "execution_count": 12
        }
      ]
    },
    {
      "cell_type": "code",
      "source": [
        "# Shape of the dataset\n",
        "dvery_df.shape\n",
        "print('Delhivery dataset has {} rows and {} columns'.format(dvery_df.shape[0], dvery_df.shape[1]))"
      ],
      "metadata": {
        "colab": {
          "base_uri": "https://localhost:8080/"
        },
        "id": "XHKaoFdLjsqd",
        "outputId": "9c25c88b-4152-4248-ab57-f8e3e971f345"
      },
      "execution_count": 13,
      "outputs": [
        {
          "output_type": "stream",
          "name": "stdout",
          "text": [
            "Delhivery dataset has 144867 rows and 24 columns\n"
          ]
        }
      ]
    },
    {
      "cell_type": "code",
      "source": [
        "# Size of the dataset\n",
        "dvery_df.size"
      ],
      "metadata": {
        "colab": {
          "base_uri": "https://localhost:8080/"
        },
        "id": "GtCnXezQov_h",
        "outputId": "8a273cce-c5a9-408a-99f4-92c19baed5ed"
      },
      "execution_count": 14,
      "outputs": [
        {
          "output_type": "execute_result",
          "data": {
            "text/plain": [
              "3476808"
            ]
          },
          "metadata": {},
          "execution_count": 14
        }
      ]
    },
    {
      "cell_type": "markdown",
      "source": [
        "##### **Observation**: *Delhivery dataset has 1.4 lakhs plus records and 24 columns*"
      ],
      "metadata": {
        "id": "fJhiyMTplt3m"
      }
    },
    {
      "cell_type": "markdown",
      "source": [
        "# Data Pre-Processing\n",
        "\n",
        "##### 1. Check for Missing Values\n",
        "##### 2. Exploring Numerical values\n",
        "##### 3. Exploreing Categorical Values"
      ],
      "metadata": {
        "id": "UYmKactumNhG"
      }
    },
    {
      "cell_type": "code",
      "source": [
        "dvery_df.isnull().sum()"
      ],
      "metadata": {
        "colab": {
          "base_uri": "https://localhost:8080/"
        },
        "id": "rQxugFqxjv7r",
        "outputId": "942932dd-f2c1-40c1-d1be-906dbdf869d0"
      },
      "execution_count": 15,
      "outputs": [
        {
          "output_type": "execute_result",
          "data": {
            "text/plain": [
              "data                                0\n",
              "trip_creation_time                  0\n",
              "route_schedule_uuid                 0\n",
              "route_type                          0\n",
              "trip_uuid                           0\n",
              "source_center                       0\n",
              "source_name                       293\n",
              "destination_center                  0\n",
              "destination_name                  261\n",
              "od_start_time                       0\n",
              "od_end_time                         0\n",
              "start_scan_to_end_scan              0\n",
              "is_cutoff                           0\n",
              "cutoff_factor                       0\n",
              "cutoff_timestamp                    0\n",
              "actual_distance_to_destination      0\n",
              "actual_time                         0\n",
              "osrm_time                           0\n",
              "osrm_distance                       0\n",
              "factor                              0\n",
              "segment_actual_time                 0\n",
              "segment_osrm_time                   0\n",
              "segment_osrm_distance               0\n",
              "segment_factor                      0\n",
              "dtype: int64"
            ]
          },
          "metadata": {},
          "execution_count": 15
        }
      ]
    },
    {
      "cell_type": "code",
      "source": [
        "[features for features in dvery_df.columns if dvery_df[features].isnull().sum()>0]"
      ],
      "metadata": {
        "colab": {
          "base_uri": "https://localhost:8080/"
        },
        "id": "Ab9_mfePmvYE",
        "outputId": "443f042b-a9b6-4a89-b5e1-3eaf346081fa"
      },
      "execution_count": 16,
      "outputs": [
        {
          "output_type": "execute_result",
          "data": {
            "text/plain": [
              "['source_name', 'destination_name']"
            ]
          },
          "metadata": {},
          "execution_count": 16
        }
      ]
    },
    {
      "cell_type": "markdown",
      "source": [
        "##### **Observation**: *Source name & Destination name have lot of null values*"
      ],
      "metadata": {
        "id": "t_SC4l9gSjal"
      }
    },
    {
      "cell_type": "code",
      "source": [
        "# Take a working copy of the given dataset\n",
        "work_df = dvery_df.copy()"
      ],
      "metadata": {
        "id": "1PxijNihTcNY"
      },
      "execution_count": 17,
      "outputs": []
    },
    {
      "cell_type": "code",
      "source": [
        "work_df.size"
      ],
      "metadata": {
        "colab": {
          "base_uri": "https://localhost:8080/"
        },
        "id": "RJwYMiy5pcM7",
        "outputId": "cc8c907e-f61a-4774-bdb3-98fbec76fa67"
      },
      "execution_count": 18,
      "outputs": [
        {
          "output_type": "execute_result",
          "data": {
            "text/plain": [
              "3476808"
            ]
          },
          "metadata": {},
          "execution_count": 18
        }
      ]
    },
    {
      "cell_type": "code",
      "source": [
        "work_df.shape"
      ],
      "metadata": {
        "colab": {
          "base_uri": "https://localhost:8080/"
        },
        "id": "8gXndVdypd2m",
        "outputId": "0e9d514a-56e0-4e5a-b5b2-ea9666d28094"
      },
      "execution_count": 19,
      "outputs": [
        {
          "output_type": "execute_result",
          "data": {
            "text/plain": [
              "(144867, 24)"
            ]
          },
          "metadata": {},
          "execution_count": 19
        }
      ]
    },
    {
      "cell_type": "code",
      "source": [
        "# Null values Count & Percentage\n",
        "work_df.isnull().sum()\n",
        "print(round(work_df.isnull().sum()/work_df.shape[0]*100,2))"
      ],
      "metadata": {
        "colab": {
          "base_uri": "https://localhost:8080/"
        },
        "id": "sLn3F2cKpzzS",
        "outputId": "76873e7f-df24-496d-a6ee-3ac2ea531da3"
      },
      "execution_count": 20,
      "outputs": [
        {
          "output_type": "stream",
          "name": "stdout",
          "text": [
            "data                              0.00\n",
            "trip_creation_time                0.00\n",
            "route_schedule_uuid               0.00\n",
            "route_type                        0.00\n",
            "trip_uuid                         0.00\n",
            "source_center                     0.00\n",
            "source_name                       0.20\n",
            "destination_center                0.00\n",
            "destination_name                  0.18\n",
            "od_start_time                     0.00\n",
            "od_end_time                       0.00\n",
            "start_scan_to_end_scan            0.00\n",
            "is_cutoff                         0.00\n",
            "cutoff_factor                     0.00\n",
            "cutoff_timestamp                  0.00\n",
            "actual_distance_to_destination    0.00\n",
            "actual_time                       0.00\n",
            "osrm_time                         0.00\n",
            "osrm_distance                     0.00\n",
            "factor                            0.00\n",
            "segment_actual_time               0.00\n",
            "segment_osrm_time                 0.00\n",
            "segment_osrm_distance             0.00\n",
            "segment_factor                    0.00\n",
            "dtype: float64\n"
          ]
        }
      ]
    },
    {
      "cell_type": "markdown",
      "source": [
        "##### **Observation**: *Source name has 2% null value & Destination name has 0.18% null values*"
      ],
      "metadata": {
        "id": "ctthMmH7rjmU"
      }
    },
    {
      "cell_type": "code",
      "source": [
        "# Total number of missing values from the entire dataset\n",
        "work_df.isnull().sum().sum()"
      ],
      "metadata": {
        "colab": {
          "base_uri": "https://localhost:8080/"
        },
        "id": "RCK43JnipgC7",
        "outputId": "7bd3bf38-fcb8-4eda-8661-3c3107edc36e"
      },
      "execution_count": 21,
      "outputs": [
        {
          "output_type": "execute_result",
          "data": {
            "text/plain": [
              "554"
            ]
          },
          "metadata": {},
          "execution_count": 21
        }
      ]
    },
    {
      "cell_type": "code",
      "source": [
        "def missing_values_per_column():\n",
        "  col_count = 0\n",
        "  print(\"Columns with missing values and the missing values Percentage: \\n\")\n",
        "  for col in work_df.columns:\n",
        "    count = work_df[work_df[col].isna()].shape[0]\n",
        "    if count>0:\n",
        "      print(col + ' : ' + str(round((count/work_df.shape[0])*100, 2))+ '%')\n",
        "      col_count = col_count + 1\n",
        "  if col_count == 0:\n",
        "    print(\"There are no missing values in any rows\")\n",
        "  \n",
        "missing_values_per_column()"
      ],
      "metadata": {
        "colab": {
          "base_uri": "https://localhost:8080/"
        },
        "id": "6Zx_QlPfpni-",
        "outputId": "412b717f-3c96-41b7-88b4-d18406001f21"
      },
      "execution_count": 22,
      "outputs": [
        {
          "output_type": "stream",
          "name": "stdout",
          "text": [
            "Columns with missing values and the missing values Percentage: \n",
            "\n",
            "source_name : 0.2%\n",
            "destination_name : 0.18%\n"
          ]
        }
      ]
    },
    {
      "cell_type": "code",
      "source": [
        "# Missing Values Treatment. As the % of null values are relatively low, let's drop them. \n",
        "work_df.dropna(inplace=True)"
      ],
      "metadata": {
        "id": "uliHUAJKs88F"
      },
      "execution_count": 23,
      "outputs": []
    },
    {
      "cell_type": "code",
      "source": [
        "# Re-validating missing values post deletion\n",
        "missing_values_per_column()"
      ],
      "metadata": {
        "colab": {
          "base_uri": "https://localhost:8080/"
        },
        "id": "8yIBqRnpUgDh",
        "outputId": "9461e1f7-a39e-46ee-ae6b-7964b681b85b"
      },
      "execution_count": 24,
      "outputs": [
        {
          "output_type": "stream",
          "name": "stdout",
          "text": [
            "Columns with missing values and the missing values Percentage: \n",
            "\n",
            "There are no missing values in any rows\n"
          ]
        }
      ]
    },
    {
      "cell_type": "code",
      "source": [
        "# Removing some of the non-significant columns\n",
        "work_df.drop(columns=['is_cutoff', 'cutoff_factor', 'cutoff_timestamp', 'factor', 'segment_factor'],inplace=True)"
      ],
      "metadata": {
        "id": "wkzLKZj7Vw8B"
      },
      "execution_count": 25,
      "outputs": []
    },
    {
      "cell_type": "code",
      "source": [
        "# Converting few fields into right datatypes. For eg: trip_creation_time, od_start_time, od_end_time with date and time as values but have datatype as object\n",
        "work_df['trip_creation_time'] = pd.to_datetime(work_df['trip_creation_time'])\n",
        "work_df['od_start_time'] = pd.to_datetime(work_df['od_start_time'])\n",
        "work_df['od_end_time'] = pd.to_datetime(work_df['od_end_time'])"
      ],
      "metadata": {
        "id": "aSEJwpvTRhJu"
      },
      "execution_count": 26,
      "outputs": []
    },
    {
      "cell_type": "code",
      "source": [
        "work_df.info()"
      ],
      "metadata": {
        "colab": {
          "base_uri": "https://localhost:8080/"
        },
        "id": "uYZ9zxLsUFpZ",
        "outputId": "e2bf4937-3cb6-432e-adfd-e3e3b7fe5ce0"
      },
      "execution_count": 27,
      "outputs": [
        {
          "output_type": "stream",
          "name": "stdout",
          "text": [
            "<class 'pandas.core.frame.DataFrame'>\n",
            "Int64Index: 144316 entries, 0 to 144866\n",
            "Data columns (total 19 columns):\n",
            " #   Column                          Non-Null Count   Dtype         \n",
            "---  ------                          --------------   -----         \n",
            " 0   data                            144316 non-null  object        \n",
            " 1   trip_creation_time              144316 non-null  datetime64[ns]\n",
            " 2   route_schedule_uuid             144316 non-null  object        \n",
            " 3   route_type                      144316 non-null  object        \n",
            " 4   trip_uuid                       144316 non-null  object        \n",
            " 5   source_center                   144316 non-null  object        \n",
            " 6   source_name                     144316 non-null  object        \n",
            " 7   destination_center              144316 non-null  object        \n",
            " 8   destination_name                144316 non-null  object        \n",
            " 9   od_start_time                   144316 non-null  datetime64[ns]\n",
            " 10  od_end_time                     144316 non-null  datetime64[ns]\n",
            " 11  start_scan_to_end_scan          144316 non-null  float64       \n",
            " 12  actual_distance_to_destination  144316 non-null  float64       \n",
            " 13  actual_time                     144316 non-null  float64       \n",
            " 14  osrm_time                       144316 non-null  float64       \n",
            " 15  osrm_distance                   144316 non-null  float64       \n",
            " 16  segment_actual_time             144316 non-null  float64       \n",
            " 17  segment_osrm_time               144316 non-null  float64       \n",
            " 18  segment_osrm_distance           144316 non-null  float64       \n",
            "dtypes: datetime64[ns](3), float64(8), object(8)\n",
            "memory usage: 22.0+ MB\n"
          ]
        }
      ]
    },
    {
      "cell_type": "code",
      "source": [
        "work_df['od_time_diff'] = (work_df['od_end_time']-work_df['od_start_time']).dt.total_seconds()/60"
      ],
      "metadata": {
        "id": "8GlmqvZbqQvd"
      },
      "execution_count": 28,
      "outputs": []
    },
    {
      "cell_type": "code",
      "source": [
        "# Segregating Categorical and Numerical Features\n",
        "cat_features = [x for x in work_df.columns if work_df[x].dtype == 'object'] \n",
        "num_features = [y for y in work_df.columns if work_df[y].dtype not in ('object','datetime64[ns]')]"
      ],
      "metadata": {
        "id": "eKgePqR1BQry"
      },
      "execution_count": 29,
      "outputs": []
    },
    {
      "cell_type": "code",
      "source": [
        "work_df.select_dtypes(\"object\")"
      ],
      "metadata": {
        "id": "Y38BU88_qwy7",
        "outputId": "5d7a4801-5ae7-4201-9c22-4b8161ebf9aa",
        "colab": {
          "base_uri": "https://localhost:8080/",
          "height": 424
        }
      },
      "execution_count": 30,
      "outputs": [
        {
          "output_type": "execute_result",
          "data": {
            "text/plain": [
              "            data                                route_schedule_uuid  \\\n",
              "0       training  thanos::sroute:eb7bfc78-b351-4c0e-a951-fa3d5c3...   \n",
              "1       training  thanos::sroute:eb7bfc78-b351-4c0e-a951-fa3d5c3...   \n",
              "2       training  thanos::sroute:eb7bfc78-b351-4c0e-a951-fa3d5c3...   \n",
              "3       training  thanos::sroute:eb7bfc78-b351-4c0e-a951-fa3d5c3...   \n",
              "4       training  thanos::sroute:eb7bfc78-b351-4c0e-a951-fa3d5c3...   \n",
              "...          ...                                                ...   \n",
              "144862  training  thanos::sroute:f0569d2f-4e20-4c31-8542-67b86d5...   \n",
              "144863  training  thanos::sroute:f0569d2f-4e20-4c31-8542-67b86d5...   \n",
              "144864  training  thanos::sroute:f0569d2f-4e20-4c31-8542-67b86d5...   \n",
              "144865  training  thanos::sroute:f0569d2f-4e20-4c31-8542-67b86d5...   \n",
              "144866  training  thanos::sroute:f0569d2f-4e20-4c31-8542-67b86d5...   \n",
              "\n",
              "       route_type                trip_uuid source_center  \\\n",
              "0         Carting  trip-153741093647649320  IND388121AAA   \n",
              "1         Carting  trip-153741093647649320  IND388121AAA   \n",
              "2         Carting  trip-153741093647649320  IND388121AAA   \n",
              "3         Carting  trip-153741093647649320  IND388121AAA   \n",
              "4         Carting  trip-153741093647649320  IND388121AAA   \n",
              "...           ...                      ...           ...   \n",
              "144862    Carting  trip-153746066843555182  IND131028AAB   \n",
              "144863    Carting  trip-153746066843555182  IND131028AAB   \n",
              "144864    Carting  trip-153746066843555182  IND131028AAB   \n",
              "144865    Carting  trip-153746066843555182  IND131028AAB   \n",
              "144866    Carting  trip-153746066843555182  IND131028AAB   \n",
              "\n",
              "                       source_name destination_center  \\\n",
              "0       Anand_VUNagar_DC (Gujarat)       IND388620AAB   \n",
              "1       Anand_VUNagar_DC (Gujarat)       IND388620AAB   \n",
              "2       Anand_VUNagar_DC (Gujarat)       IND388620AAB   \n",
              "3       Anand_VUNagar_DC (Gujarat)       IND388620AAB   \n",
              "4       Anand_VUNagar_DC (Gujarat)       IND388620AAB   \n",
              "...                            ...                ...   \n",
              "144862  Sonipat_Kundli_H (Haryana)       IND000000ACB   \n",
              "144863  Sonipat_Kundli_H (Haryana)       IND000000ACB   \n",
              "144864  Sonipat_Kundli_H (Haryana)       IND000000ACB   \n",
              "144865  Sonipat_Kundli_H (Haryana)       IND000000ACB   \n",
              "144866  Sonipat_Kundli_H (Haryana)       IND000000ACB   \n",
              "\n",
              "                     destination_name  \n",
              "0       Khambhat_MotvdDPP_D (Gujarat)  \n",
              "1       Khambhat_MotvdDPP_D (Gujarat)  \n",
              "2       Khambhat_MotvdDPP_D (Gujarat)  \n",
              "3       Khambhat_MotvdDPP_D (Gujarat)  \n",
              "4       Khambhat_MotvdDPP_D (Gujarat)  \n",
              "...                               ...  \n",
              "144862  Gurgaon_Bilaspur_HB (Haryana)  \n",
              "144863  Gurgaon_Bilaspur_HB (Haryana)  \n",
              "144864  Gurgaon_Bilaspur_HB (Haryana)  \n",
              "144865  Gurgaon_Bilaspur_HB (Haryana)  \n",
              "144866  Gurgaon_Bilaspur_HB (Haryana)  \n",
              "\n",
              "[144316 rows x 8 columns]"
            ],
            "text/html": [
              "\n",
              "  <div id=\"df-4ce7187e-f49d-4015-bc08-eb6455a244e0\">\n",
              "    <div class=\"colab-df-container\">\n",
              "      <div>\n",
              "<style scoped>\n",
              "    .dataframe tbody tr th:only-of-type {\n",
              "        vertical-align: middle;\n",
              "    }\n",
              "\n",
              "    .dataframe tbody tr th {\n",
              "        vertical-align: top;\n",
              "    }\n",
              "\n",
              "    .dataframe thead th {\n",
              "        text-align: right;\n",
              "    }\n",
              "</style>\n",
              "<table border=\"1\" class=\"dataframe\">\n",
              "  <thead>\n",
              "    <tr style=\"text-align: right;\">\n",
              "      <th></th>\n",
              "      <th>data</th>\n",
              "      <th>route_schedule_uuid</th>\n",
              "      <th>route_type</th>\n",
              "      <th>trip_uuid</th>\n",
              "      <th>source_center</th>\n",
              "      <th>source_name</th>\n",
              "      <th>destination_center</th>\n",
              "      <th>destination_name</th>\n",
              "    </tr>\n",
              "  </thead>\n",
              "  <tbody>\n",
              "    <tr>\n",
              "      <th>0</th>\n",
              "      <td>training</td>\n",
              "      <td>thanos::sroute:eb7bfc78-b351-4c0e-a951-fa3d5c3...</td>\n",
              "      <td>Carting</td>\n",
              "      <td>trip-153741093647649320</td>\n",
              "      <td>IND388121AAA</td>\n",
              "      <td>Anand_VUNagar_DC (Gujarat)</td>\n",
              "      <td>IND388620AAB</td>\n",
              "      <td>Khambhat_MotvdDPP_D (Gujarat)</td>\n",
              "    </tr>\n",
              "    <tr>\n",
              "      <th>1</th>\n",
              "      <td>training</td>\n",
              "      <td>thanos::sroute:eb7bfc78-b351-4c0e-a951-fa3d5c3...</td>\n",
              "      <td>Carting</td>\n",
              "      <td>trip-153741093647649320</td>\n",
              "      <td>IND388121AAA</td>\n",
              "      <td>Anand_VUNagar_DC (Gujarat)</td>\n",
              "      <td>IND388620AAB</td>\n",
              "      <td>Khambhat_MotvdDPP_D (Gujarat)</td>\n",
              "    </tr>\n",
              "    <tr>\n",
              "      <th>2</th>\n",
              "      <td>training</td>\n",
              "      <td>thanos::sroute:eb7bfc78-b351-4c0e-a951-fa3d5c3...</td>\n",
              "      <td>Carting</td>\n",
              "      <td>trip-153741093647649320</td>\n",
              "      <td>IND388121AAA</td>\n",
              "      <td>Anand_VUNagar_DC (Gujarat)</td>\n",
              "      <td>IND388620AAB</td>\n",
              "      <td>Khambhat_MotvdDPP_D (Gujarat)</td>\n",
              "    </tr>\n",
              "    <tr>\n",
              "      <th>3</th>\n",
              "      <td>training</td>\n",
              "      <td>thanos::sroute:eb7bfc78-b351-4c0e-a951-fa3d5c3...</td>\n",
              "      <td>Carting</td>\n",
              "      <td>trip-153741093647649320</td>\n",
              "      <td>IND388121AAA</td>\n",
              "      <td>Anand_VUNagar_DC (Gujarat)</td>\n",
              "      <td>IND388620AAB</td>\n",
              "      <td>Khambhat_MotvdDPP_D (Gujarat)</td>\n",
              "    </tr>\n",
              "    <tr>\n",
              "      <th>4</th>\n",
              "      <td>training</td>\n",
              "      <td>thanos::sroute:eb7bfc78-b351-4c0e-a951-fa3d5c3...</td>\n",
              "      <td>Carting</td>\n",
              "      <td>trip-153741093647649320</td>\n",
              "      <td>IND388121AAA</td>\n",
              "      <td>Anand_VUNagar_DC (Gujarat)</td>\n",
              "      <td>IND388620AAB</td>\n",
              "      <td>Khambhat_MotvdDPP_D (Gujarat)</td>\n",
              "    </tr>\n",
              "    <tr>\n",
              "      <th>...</th>\n",
              "      <td>...</td>\n",
              "      <td>...</td>\n",
              "      <td>...</td>\n",
              "      <td>...</td>\n",
              "      <td>...</td>\n",
              "      <td>...</td>\n",
              "      <td>...</td>\n",
              "      <td>...</td>\n",
              "    </tr>\n",
              "    <tr>\n",
              "      <th>144862</th>\n",
              "      <td>training</td>\n",
              "      <td>thanos::sroute:f0569d2f-4e20-4c31-8542-67b86d5...</td>\n",
              "      <td>Carting</td>\n",
              "      <td>trip-153746066843555182</td>\n",
              "      <td>IND131028AAB</td>\n",
              "      <td>Sonipat_Kundli_H (Haryana)</td>\n",
              "      <td>IND000000ACB</td>\n",
              "      <td>Gurgaon_Bilaspur_HB (Haryana)</td>\n",
              "    </tr>\n",
              "    <tr>\n",
              "      <th>144863</th>\n",
              "      <td>training</td>\n",
              "      <td>thanos::sroute:f0569d2f-4e20-4c31-8542-67b86d5...</td>\n",
              "      <td>Carting</td>\n",
              "      <td>trip-153746066843555182</td>\n",
              "      <td>IND131028AAB</td>\n",
              "      <td>Sonipat_Kundli_H (Haryana)</td>\n",
              "      <td>IND000000ACB</td>\n",
              "      <td>Gurgaon_Bilaspur_HB (Haryana)</td>\n",
              "    </tr>\n",
              "    <tr>\n",
              "      <th>144864</th>\n",
              "      <td>training</td>\n",
              "      <td>thanos::sroute:f0569d2f-4e20-4c31-8542-67b86d5...</td>\n",
              "      <td>Carting</td>\n",
              "      <td>trip-153746066843555182</td>\n",
              "      <td>IND131028AAB</td>\n",
              "      <td>Sonipat_Kundli_H (Haryana)</td>\n",
              "      <td>IND000000ACB</td>\n",
              "      <td>Gurgaon_Bilaspur_HB (Haryana)</td>\n",
              "    </tr>\n",
              "    <tr>\n",
              "      <th>144865</th>\n",
              "      <td>training</td>\n",
              "      <td>thanos::sroute:f0569d2f-4e20-4c31-8542-67b86d5...</td>\n",
              "      <td>Carting</td>\n",
              "      <td>trip-153746066843555182</td>\n",
              "      <td>IND131028AAB</td>\n",
              "      <td>Sonipat_Kundli_H (Haryana)</td>\n",
              "      <td>IND000000ACB</td>\n",
              "      <td>Gurgaon_Bilaspur_HB (Haryana)</td>\n",
              "    </tr>\n",
              "    <tr>\n",
              "      <th>144866</th>\n",
              "      <td>training</td>\n",
              "      <td>thanos::sroute:f0569d2f-4e20-4c31-8542-67b86d5...</td>\n",
              "      <td>Carting</td>\n",
              "      <td>trip-153746066843555182</td>\n",
              "      <td>IND131028AAB</td>\n",
              "      <td>Sonipat_Kundli_H (Haryana)</td>\n",
              "      <td>IND000000ACB</td>\n",
              "      <td>Gurgaon_Bilaspur_HB (Haryana)</td>\n",
              "    </tr>\n",
              "  </tbody>\n",
              "</table>\n",
              "<p>144316 rows × 8 columns</p>\n",
              "</div>\n",
              "      <button class=\"colab-df-convert\" onclick=\"convertToInteractive('df-4ce7187e-f49d-4015-bc08-eb6455a244e0')\"\n",
              "              title=\"Convert this dataframe to an interactive table.\"\n",
              "              style=\"display:none;\">\n",
              "        \n",
              "  <svg xmlns=\"http://www.w3.org/2000/svg\" height=\"24px\"viewBox=\"0 0 24 24\"\n",
              "       width=\"24px\">\n",
              "    <path d=\"M0 0h24v24H0V0z\" fill=\"none\"/>\n",
              "    <path d=\"M18.56 5.44l.94 2.06.94-2.06 2.06-.94-2.06-.94-.94-2.06-.94 2.06-2.06.94zm-11 1L8.5 8.5l.94-2.06 2.06-.94-2.06-.94L8.5 2.5l-.94 2.06-2.06.94zm10 10l.94 2.06.94-2.06 2.06-.94-2.06-.94-.94-2.06-.94 2.06-2.06.94z\"/><path d=\"M17.41 7.96l-1.37-1.37c-.4-.4-.92-.59-1.43-.59-.52 0-1.04.2-1.43.59L10.3 9.45l-7.72 7.72c-.78.78-.78 2.05 0 2.83L4 21.41c.39.39.9.59 1.41.59.51 0 1.02-.2 1.41-.59l7.78-7.78 2.81-2.81c.8-.78.8-2.07 0-2.86zM5.41 20L4 18.59l7.72-7.72 1.47 1.35L5.41 20z\"/>\n",
              "  </svg>\n",
              "      </button>\n",
              "      \n",
              "  <style>\n",
              "    .colab-df-container {\n",
              "      display:flex;\n",
              "      flex-wrap:wrap;\n",
              "      gap: 12px;\n",
              "    }\n",
              "\n",
              "    .colab-df-convert {\n",
              "      background-color: #E8F0FE;\n",
              "      border: none;\n",
              "      border-radius: 50%;\n",
              "      cursor: pointer;\n",
              "      display: none;\n",
              "      fill: #1967D2;\n",
              "      height: 32px;\n",
              "      padding: 0 0 0 0;\n",
              "      width: 32px;\n",
              "    }\n",
              "\n",
              "    .colab-df-convert:hover {\n",
              "      background-color: #E2EBFA;\n",
              "      box-shadow: 0px 1px 2px rgba(60, 64, 67, 0.3), 0px 1px 3px 1px rgba(60, 64, 67, 0.15);\n",
              "      fill: #174EA6;\n",
              "    }\n",
              "\n",
              "    [theme=dark] .colab-df-convert {\n",
              "      background-color: #3B4455;\n",
              "      fill: #D2E3FC;\n",
              "    }\n",
              "\n",
              "    [theme=dark] .colab-df-convert:hover {\n",
              "      background-color: #434B5C;\n",
              "      box-shadow: 0px 1px 3px 1px rgba(0, 0, 0, 0.15);\n",
              "      filter: drop-shadow(0px 1px 2px rgba(0, 0, 0, 0.3));\n",
              "      fill: #FFFFFF;\n",
              "    }\n",
              "  </style>\n",
              "\n",
              "      <script>\n",
              "        const buttonEl =\n",
              "          document.querySelector('#df-4ce7187e-f49d-4015-bc08-eb6455a244e0 button.colab-df-convert');\n",
              "        buttonEl.style.display =\n",
              "          google.colab.kernel.accessAllowed ? 'block' : 'none';\n",
              "\n",
              "        async function convertToInteractive(key) {\n",
              "          const element = document.querySelector('#df-4ce7187e-f49d-4015-bc08-eb6455a244e0');\n",
              "          const dataTable =\n",
              "            await google.colab.kernel.invokeFunction('convertToInteractive',\n",
              "                                                     [key], {});\n",
              "          if (!dataTable) return;\n",
              "\n",
              "          const docLinkHtml = 'Like what you see? Visit the ' +\n",
              "            '<a target=\"_blank\" href=https://colab.research.google.com/notebooks/data_table.ipynb>data table notebook</a>'\n",
              "            + ' to learn more about interactive tables.';\n",
              "          element.innerHTML = '';\n",
              "          dataTable['output_type'] = 'display_data';\n",
              "          await google.colab.output.renderOutput(dataTable, element);\n",
              "          const docLink = document.createElement('div');\n",
              "          docLink.innerHTML = docLinkHtml;\n",
              "          element.appendChild(docLink);\n",
              "        }\n",
              "      </script>\n",
              "    </div>\n",
              "  </div>\n",
              "  "
            ]
          },
          "metadata": {},
          "execution_count": 30
        }
      ]
    },
    {
      "cell_type": "code",
      "source": [
        "work_df.select_dtypes('number')"
      ],
      "metadata": {
        "id": "BI6Z8a9_rBTs",
        "outputId": "f075260b-2da3-4140-850c-17b781ec7e9a",
        "colab": {
          "base_uri": "https://localhost:8080/",
          "height": 424
        }
      },
      "execution_count": 31,
      "outputs": [
        {
          "output_type": "execute_result",
          "data": {
            "text/plain": [
              "        start_scan_to_end_scan  actual_distance_to_destination  actual_time  \\\n",
              "0                         86.0                       10.435660         14.0   \n",
              "1                         86.0                       18.936842         24.0   \n",
              "2                         86.0                       27.637279         40.0   \n",
              "3                         86.0                       36.118028         62.0   \n",
              "4                         86.0                       39.386040         68.0   \n",
              "...                        ...                             ...          ...   \n",
              "144862                   427.0                       45.258278         94.0   \n",
              "144863                   427.0                       54.092531        120.0   \n",
              "144864                   427.0                       66.163591        140.0   \n",
              "144865                   427.0                       73.680667        158.0   \n",
              "144866                   427.0                       70.039010        426.0   \n",
              "\n",
              "        osrm_time  osrm_distance  segment_actual_time  segment_osrm_time  \\\n",
              "0            11.0        11.9653                 14.0               11.0   \n",
              "1            20.0        21.7243                 10.0                9.0   \n",
              "2            28.0        32.5395                 16.0                7.0   \n",
              "3            40.0        45.5620                 21.0               12.0   \n",
              "4            44.0        54.2181                  6.0                5.0   \n",
              "...           ...            ...                  ...                ...   \n",
              "144862       60.0        67.9280                 12.0               12.0   \n",
              "144863       76.0        85.6829                 26.0               21.0   \n",
              "144864       88.0        97.0933                 20.0               34.0   \n",
              "144865       98.0       111.2709                 17.0               27.0   \n",
              "144866       95.0        88.7319                268.0                9.0   \n",
              "\n",
              "        segment_osrm_distance  od_time_diff  \n",
              "0                     11.9653     86.213637  \n",
              "1                      9.7590     86.213637  \n",
              "2                     10.8152     86.213637  \n",
              "3                     13.0224     86.213637  \n",
              "4                      3.9153     86.213637  \n",
              "...                       ...           ...  \n",
              "144862                 8.1858    427.686364  \n",
              "144863                17.3725    427.686364  \n",
              "144864                20.7053    427.686364  \n",
              "144865                18.8885    427.686364  \n",
              "144866                 8.8088    427.686364  \n",
              "\n",
              "[144316 rows x 9 columns]"
            ],
            "text/html": [
              "\n",
              "  <div id=\"df-38bee780-a9f6-4314-b7e2-95d47482b982\">\n",
              "    <div class=\"colab-df-container\">\n",
              "      <div>\n",
              "<style scoped>\n",
              "    .dataframe tbody tr th:only-of-type {\n",
              "        vertical-align: middle;\n",
              "    }\n",
              "\n",
              "    .dataframe tbody tr th {\n",
              "        vertical-align: top;\n",
              "    }\n",
              "\n",
              "    .dataframe thead th {\n",
              "        text-align: right;\n",
              "    }\n",
              "</style>\n",
              "<table border=\"1\" class=\"dataframe\">\n",
              "  <thead>\n",
              "    <tr style=\"text-align: right;\">\n",
              "      <th></th>\n",
              "      <th>start_scan_to_end_scan</th>\n",
              "      <th>actual_distance_to_destination</th>\n",
              "      <th>actual_time</th>\n",
              "      <th>osrm_time</th>\n",
              "      <th>osrm_distance</th>\n",
              "      <th>segment_actual_time</th>\n",
              "      <th>segment_osrm_time</th>\n",
              "      <th>segment_osrm_distance</th>\n",
              "      <th>od_time_diff</th>\n",
              "    </tr>\n",
              "  </thead>\n",
              "  <tbody>\n",
              "    <tr>\n",
              "      <th>0</th>\n",
              "      <td>86.0</td>\n",
              "      <td>10.435660</td>\n",
              "      <td>14.0</td>\n",
              "      <td>11.0</td>\n",
              "      <td>11.9653</td>\n",
              "      <td>14.0</td>\n",
              "      <td>11.0</td>\n",
              "      <td>11.9653</td>\n",
              "      <td>86.213637</td>\n",
              "    </tr>\n",
              "    <tr>\n",
              "      <th>1</th>\n",
              "      <td>86.0</td>\n",
              "      <td>18.936842</td>\n",
              "      <td>24.0</td>\n",
              "      <td>20.0</td>\n",
              "      <td>21.7243</td>\n",
              "      <td>10.0</td>\n",
              "      <td>9.0</td>\n",
              "      <td>9.7590</td>\n",
              "      <td>86.213637</td>\n",
              "    </tr>\n",
              "    <tr>\n",
              "      <th>2</th>\n",
              "      <td>86.0</td>\n",
              "      <td>27.637279</td>\n",
              "      <td>40.0</td>\n",
              "      <td>28.0</td>\n",
              "      <td>32.5395</td>\n",
              "      <td>16.0</td>\n",
              "      <td>7.0</td>\n",
              "      <td>10.8152</td>\n",
              "      <td>86.213637</td>\n",
              "    </tr>\n",
              "    <tr>\n",
              "      <th>3</th>\n",
              "      <td>86.0</td>\n",
              "      <td>36.118028</td>\n",
              "      <td>62.0</td>\n",
              "      <td>40.0</td>\n",
              "      <td>45.5620</td>\n",
              "      <td>21.0</td>\n",
              "      <td>12.0</td>\n",
              "      <td>13.0224</td>\n",
              "      <td>86.213637</td>\n",
              "    </tr>\n",
              "    <tr>\n",
              "      <th>4</th>\n",
              "      <td>86.0</td>\n",
              "      <td>39.386040</td>\n",
              "      <td>68.0</td>\n",
              "      <td>44.0</td>\n",
              "      <td>54.2181</td>\n",
              "      <td>6.0</td>\n",
              "      <td>5.0</td>\n",
              "      <td>3.9153</td>\n",
              "      <td>86.213637</td>\n",
              "    </tr>\n",
              "    <tr>\n",
              "      <th>...</th>\n",
              "      <td>...</td>\n",
              "      <td>...</td>\n",
              "      <td>...</td>\n",
              "      <td>...</td>\n",
              "      <td>...</td>\n",
              "      <td>...</td>\n",
              "      <td>...</td>\n",
              "      <td>...</td>\n",
              "      <td>...</td>\n",
              "    </tr>\n",
              "    <tr>\n",
              "      <th>144862</th>\n",
              "      <td>427.0</td>\n",
              "      <td>45.258278</td>\n",
              "      <td>94.0</td>\n",
              "      <td>60.0</td>\n",
              "      <td>67.9280</td>\n",
              "      <td>12.0</td>\n",
              "      <td>12.0</td>\n",
              "      <td>8.1858</td>\n",
              "      <td>427.686364</td>\n",
              "    </tr>\n",
              "    <tr>\n",
              "      <th>144863</th>\n",
              "      <td>427.0</td>\n",
              "      <td>54.092531</td>\n",
              "      <td>120.0</td>\n",
              "      <td>76.0</td>\n",
              "      <td>85.6829</td>\n",
              "      <td>26.0</td>\n",
              "      <td>21.0</td>\n",
              "      <td>17.3725</td>\n",
              "      <td>427.686364</td>\n",
              "    </tr>\n",
              "    <tr>\n",
              "      <th>144864</th>\n",
              "      <td>427.0</td>\n",
              "      <td>66.163591</td>\n",
              "      <td>140.0</td>\n",
              "      <td>88.0</td>\n",
              "      <td>97.0933</td>\n",
              "      <td>20.0</td>\n",
              "      <td>34.0</td>\n",
              "      <td>20.7053</td>\n",
              "      <td>427.686364</td>\n",
              "    </tr>\n",
              "    <tr>\n",
              "      <th>144865</th>\n",
              "      <td>427.0</td>\n",
              "      <td>73.680667</td>\n",
              "      <td>158.0</td>\n",
              "      <td>98.0</td>\n",
              "      <td>111.2709</td>\n",
              "      <td>17.0</td>\n",
              "      <td>27.0</td>\n",
              "      <td>18.8885</td>\n",
              "      <td>427.686364</td>\n",
              "    </tr>\n",
              "    <tr>\n",
              "      <th>144866</th>\n",
              "      <td>427.0</td>\n",
              "      <td>70.039010</td>\n",
              "      <td>426.0</td>\n",
              "      <td>95.0</td>\n",
              "      <td>88.7319</td>\n",
              "      <td>268.0</td>\n",
              "      <td>9.0</td>\n",
              "      <td>8.8088</td>\n",
              "      <td>427.686364</td>\n",
              "    </tr>\n",
              "  </tbody>\n",
              "</table>\n",
              "<p>144316 rows × 9 columns</p>\n",
              "</div>\n",
              "      <button class=\"colab-df-convert\" onclick=\"convertToInteractive('df-38bee780-a9f6-4314-b7e2-95d47482b982')\"\n",
              "              title=\"Convert this dataframe to an interactive table.\"\n",
              "              style=\"display:none;\">\n",
              "        \n",
              "  <svg xmlns=\"http://www.w3.org/2000/svg\" height=\"24px\"viewBox=\"0 0 24 24\"\n",
              "       width=\"24px\">\n",
              "    <path d=\"M0 0h24v24H0V0z\" fill=\"none\"/>\n",
              "    <path d=\"M18.56 5.44l.94 2.06.94-2.06 2.06-.94-2.06-.94-.94-2.06-.94 2.06-2.06.94zm-11 1L8.5 8.5l.94-2.06 2.06-.94-2.06-.94L8.5 2.5l-.94 2.06-2.06.94zm10 10l.94 2.06.94-2.06 2.06-.94-2.06-.94-.94-2.06-.94 2.06-2.06.94z\"/><path d=\"M17.41 7.96l-1.37-1.37c-.4-.4-.92-.59-1.43-.59-.52 0-1.04.2-1.43.59L10.3 9.45l-7.72 7.72c-.78.78-.78 2.05 0 2.83L4 21.41c.39.39.9.59 1.41.59.51 0 1.02-.2 1.41-.59l7.78-7.78 2.81-2.81c.8-.78.8-2.07 0-2.86zM5.41 20L4 18.59l7.72-7.72 1.47 1.35L5.41 20z\"/>\n",
              "  </svg>\n",
              "      </button>\n",
              "      \n",
              "  <style>\n",
              "    .colab-df-container {\n",
              "      display:flex;\n",
              "      flex-wrap:wrap;\n",
              "      gap: 12px;\n",
              "    }\n",
              "\n",
              "    .colab-df-convert {\n",
              "      background-color: #E8F0FE;\n",
              "      border: none;\n",
              "      border-radius: 50%;\n",
              "      cursor: pointer;\n",
              "      display: none;\n",
              "      fill: #1967D2;\n",
              "      height: 32px;\n",
              "      padding: 0 0 0 0;\n",
              "      width: 32px;\n",
              "    }\n",
              "\n",
              "    .colab-df-convert:hover {\n",
              "      background-color: #E2EBFA;\n",
              "      box-shadow: 0px 1px 2px rgba(60, 64, 67, 0.3), 0px 1px 3px 1px rgba(60, 64, 67, 0.15);\n",
              "      fill: #174EA6;\n",
              "    }\n",
              "\n",
              "    [theme=dark] .colab-df-convert {\n",
              "      background-color: #3B4455;\n",
              "      fill: #D2E3FC;\n",
              "    }\n",
              "\n",
              "    [theme=dark] .colab-df-convert:hover {\n",
              "      background-color: #434B5C;\n",
              "      box-shadow: 0px 1px 3px 1px rgba(0, 0, 0, 0.15);\n",
              "      filter: drop-shadow(0px 1px 2px rgba(0, 0, 0, 0.3));\n",
              "      fill: #FFFFFF;\n",
              "    }\n",
              "  </style>\n",
              "\n",
              "      <script>\n",
              "        const buttonEl =\n",
              "          document.querySelector('#df-38bee780-a9f6-4314-b7e2-95d47482b982 button.colab-df-convert');\n",
              "        buttonEl.style.display =\n",
              "          google.colab.kernel.accessAllowed ? 'block' : 'none';\n",
              "\n",
              "        async function convertToInteractive(key) {\n",
              "          const element = document.querySelector('#df-38bee780-a9f6-4314-b7e2-95d47482b982');\n",
              "          const dataTable =\n",
              "            await google.colab.kernel.invokeFunction('convertToInteractive',\n",
              "                                                     [key], {});\n",
              "          if (!dataTable) return;\n",
              "\n",
              "          const docLinkHtml = 'Like what you see? Visit the ' +\n",
              "            '<a target=\"_blank\" href=https://colab.research.google.com/notebooks/data_table.ipynb>data table notebook</a>'\n",
              "            + ' to learn more about interactive tables.';\n",
              "          element.innerHTML = '';\n",
              "          dataTable['output_type'] = 'display_data';\n",
              "          await google.colab.output.renderOutput(dataTable, element);\n",
              "          const docLink = document.createElement('div');\n",
              "          docLink.innerHTML = docLinkHtml;\n",
              "          element.appendChild(docLink);\n",
              "        }\n",
              "      </script>\n",
              "    </div>\n",
              "  </div>\n",
              "  "
            ]
          },
          "metadata": {},
          "execution_count": 31
        }
      ]
    },
    {
      "cell_type": "code",
      "source": [
        "work_df.select_dtypes('datetime')"
      ],
      "metadata": {
        "id": "HakONPpFrLqB",
        "outputId": "3a82aa49-29fc-4f5b-f035-5bd82d9180d1",
        "colab": {
          "base_uri": "https://localhost:8080/",
          "height": 424
        }
      },
      "execution_count": 32,
      "outputs": [
        {
          "output_type": "execute_result",
          "data": {
            "text/plain": [
              "               trip_creation_time              od_start_time  \\\n",
              "0      2018-09-20 02:35:36.476840 2018-09-20 03:21:32.418600   \n",
              "1      2018-09-20 02:35:36.476840 2018-09-20 03:21:32.418600   \n",
              "2      2018-09-20 02:35:36.476840 2018-09-20 03:21:32.418600   \n",
              "3      2018-09-20 02:35:36.476840 2018-09-20 03:21:32.418600   \n",
              "4      2018-09-20 02:35:36.476840 2018-09-20 03:21:32.418600   \n",
              "...                           ...                        ...   \n",
              "144862 2018-09-20 16:24:28.436231 2018-09-20 16:24:28.436231   \n",
              "144863 2018-09-20 16:24:28.436231 2018-09-20 16:24:28.436231   \n",
              "144864 2018-09-20 16:24:28.436231 2018-09-20 16:24:28.436231   \n",
              "144865 2018-09-20 16:24:28.436231 2018-09-20 16:24:28.436231   \n",
              "144866 2018-09-20 16:24:28.436231 2018-09-20 16:24:28.436231   \n",
              "\n",
              "                      od_end_time  \n",
              "0      2018-09-20 04:47:45.236797  \n",
              "1      2018-09-20 04:47:45.236797  \n",
              "2      2018-09-20 04:47:45.236797  \n",
              "3      2018-09-20 04:47:45.236797  \n",
              "4      2018-09-20 04:47:45.236797  \n",
              "...                           ...  \n",
              "144862 2018-09-20 23:32:09.618069  \n",
              "144863 2018-09-20 23:32:09.618069  \n",
              "144864 2018-09-20 23:32:09.618069  \n",
              "144865 2018-09-20 23:32:09.618069  \n",
              "144866 2018-09-20 23:32:09.618069  \n",
              "\n",
              "[144316 rows x 3 columns]"
            ],
            "text/html": [
              "\n",
              "  <div id=\"df-e0d201dc-d3da-4ec6-9dc7-193e7784c54b\">\n",
              "    <div class=\"colab-df-container\">\n",
              "      <div>\n",
              "<style scoped>\n",
              "    .dataframe tbody tr th:only-of-type {\n",
              "        vertical-align: middle;\n",
              "    }\n",
              "\n",
              "    .dataframe tbody tr th {\n",
              "        vertical-align: top;\n",
              "    }\n",
              "\n",
              "    .dataframe thead th {\n",
              "        text-align: right;\n",
              "    }\n",
              "</style>\n",
              "<table border=\"1\" class=\"dataframe\">\n",
              "  <thead>\n",
              "    <tr style=\"text-align: right;\">\n",
              "      <th></th>\n",
              "      <th>trip_creation_time</th>\n",
              "      <th>od_start_time</th>\n",
              "      <th>od_end_time</th>\n",
              "    </tr>\n",
              "  </thead>\n",
              "  <tbody>\n",
              "    <tr>\n",
              "      <th>0</th>\n",
              "      <td>2018-09-20 02:35:36.476840</td>\n",
              "      <td>2018-09-20 03:21:32.418600</td>\n",
              "      <td>2018-09-20 04:47:45.236797</td>\n",
              "    </tr>\n",
              "    <tr>\n",
              "      <th>1</th>\n",
              "      <td>2018-09-20 02:35:36.476840</td>\n",
              "      <td>2018-09-20 03:21:32.418600</td>\n",
              "      <td>2018-09-20 04:47:45.236797</td>\n",
              "    </tr>\n",
              "    <tr>\n",
              "      <th>2</th>\n",
              "      <td>2018-09-20 02:35:36.476840</td>\n",
              "      <td>2018-09-20 03:21:32.418600</td>\n",
              "      <td>2018-09-20 04:47:45.236797</td>\n",
              "    </tr>\n",
              "    <tr>\n",
              "      <th>3</th>\n",
              "      <td>2018-09-20 02:35:36.476840</td>\n",
              "      <td>2018-09-20 03:21:32.418600</td>\n",
              "      <td>2018-09-20 04:47:45.236797</td>\n",
              "    </tr>\n",
              "    <tr>\n",
              "      <th>4</th>\n",
              "      <td>2018-09-20 02:35:36.476840</td>\n",
              "      <td>2018-09-20 03:21:32.418600</td>\n",
              "      <td>2018-09-20 04:47:45.236797</td>\n",
              "    </tr>\n",
              "    <tr>\n",
              "      <th>...</th>\n",
              "      <td>...</td>\n",
              "      <td>...</td>\n",
              "      <td>...</td>\n",
              "    </tr>\n",
              "    <tr>\n",
              "      <th>144862</th>\n",
              "      <td>2018-09-20 16:24:28.436231</td>\n",
              "      <td>2018-09-20 16:24:28.436231</td>\n",
              "      <td>2018-09-20 23:32:09.618069</td>\n",
              "    </tr>\n",
              "    <tr>\n",
              "      <th>144863</th>\n",
              "      <td>2018-09-20 16:24:28.436231</td>\n",
              "      <td>2018-09-20 16:24:28.436231</td>\n",
              "      <td>2018-09-20 23:32:09.618069</td>\n",
              "    </tr>\n",
              "    <tr>\n",
              "      <th>144864</th>\n",
              "      <td>2018-09-20 16:24:28.436231</td>\n",
              "      <td>2018-09-20 16:24:28.436231</td>\n",
              "      <td>2018-09-20 23:32:09.618069</td>\n",
              "    </tr>\n",
              "    <tr>\n",
              "      <th>144865</th>\n",
              "      <td>2018-09-20 16:24:28.436231</td>\n",
              "      <td>2018-09-20 16:24:28.436231</td>\n",
              "      <td>2018-09-20 23:32:09.618069</td>\n",
              "    </tr>\n",
              "    <tr>\n",
              "      <th>144866</th>\n",
              "      <td>2018-09-20 16:24:28.436231</td>\n",
              "      <td>2018-09-20 16:24:28.436231</td>\n",
              "      <td>2018-09-20 23:32:09.618069</td>\n",
              "    </tr>\n",
              "  </tbody>\n",
              "</table>\n",
              "<p>144316 rows × 3 columns</p>\n",
              "</div>\n",
              "      <button class=\"colab-df-convert\" onclick=\"convertToInteractive('df-e0d201dc-d3da-4ec6-9dc7-193e7784c54b')\"\n",
              "              title=\"Convert this dataframe to an interactive table.\"\n",
              "              style=\"display:none;\">\n",
              "        \n",
              "  <svg xmlns=\"http://www.w3.org/2000/svg\" height=\"24px\"viewBox=\"0 0 24 24\"\n",
              "       width=\"24px\">\n",
              "    <path d=\"M0 0h24v24H0V0z\" fill=\"none\"/>\n",
              "    <path d=\"M18.56 5.44l.94 2.06.94-2.06 2.06-.94-2.06-.94-.94-2.06-.94 2.06-2.06.94zm-11 1L8.5 8.5l.94-2.06 2.06-.94-2.06-.94L8.5 2.5l-.94 2.06-2.06.94zm10 10l.94 2.06.94-2.06 2.06-.94-2.06-.94-.94-2.06-.94 2.06-2.06.94z\"/><path d=\"M17.41 7.96l-1.37-1.37c-.4-.4-.92-.59-1.43-.59-.52 0-1.04.2-1.43.59L10.3 9.45l-7.72 7.72c-.78.78-.78 2.05 0 2.83L4 21.41c.39.39.9.59 1.41.59.51 0 1.02-.2 1.41-.59l7.78-7.78 2.81-2.81c.8-.78.8-2.07 0-2.86zM5.41 20L4 18.59l7.72-7.72 1.47 1.35L5.41 20z\"/>\n",
              "  </svg>\n",
              "      </button>\n",
              "      \n",
              "  <style>\n",
              "    .colab-df-container {\n",
              "      display:flex;\n",
              "      flex-wrap:wrap;\n",
              "      gap: 12px;\n",
              "    }\n",
              "\n",
              "    .colab-df-convert {\n",
              "      background-color: #E8F0FE;\n",
              "      border: none;\n",
              "      border-radius: 50%;\n",
              "      cursor: pointer;\n",
              "      display: none;\n",
              "      fill: #1967D2;\n",
              "      height: 32px;\n",
              "      padding: 0 0 0 0;\n",
              "      width: 32px;\n",
              "    }\n",
              "\n",
              "    .colab-df-convert:hover {\n",
              "      background-color: #E2EBFA;\n",
              "      box-shadow: 0px 1px 2px rgba(60, 64, 67, 0.3), 0px 1px 3px 1px rgba(60, 64, 67, 0.15);\n",
              "      fill: #174EA6;\n",
              "    }\n",
              "\n",
              "    [theme=dark] .colab-df-convert {\n",
              "      background-color: #3B4455;\n",
              "      fill: #D2E3FC;\n",
              "    }\n",
              "\n",
              "    [theme=dark] .colab-df-convert:hover {\n",
              "      background-color: #434B5C;\n",
              "      box-shadow: 0px 1px 3px 1px rgba(0, 0, 0, 0.15);\n",
              "      filter: drop-shadow(0px 1px 2px rgba(0, 0, 0, 0.3));\n",
              "      fill: #FFFFFF;\n",
              "    }\n",
              "  </style>\n",
              "\n",
              "      <script>\n",
              "        const buttonEl =\n",
              "          document.querySelector('#df-e0d201dc-d3da-4ec6-9dc7-193e7784c54b button.colab-df-convert');\n",
              "        buttonEl.style.display =\n",
              "          google.colab.kernel.accessAllowed ? 'block' : 'none';\n",
              "\n",
              "        async function convertToInteractive(key) {\n",
              "          const element = document.querySelector('#df-e0d201dc-d3da-4ec6-9dc7-193e7784c54b');\n",
              "          const dataTable =\n",
              "            await google.colab.kernel.invokeFunction('convertToInteractive',\n",
              "                                                     [key], {});\n",
              "          if (!dataTable) return;\n",
              "\n",
              "          const docLinkHtml = 'Like what you see? Visit the ' +\n",
              "            '<a target=\"_blank\" href=https://colab.research.google.com/notebooks/data_table.ipynb>data table notebook</a>'\n",
              "            + ' to learn more about interactive tables.';\n",
              "          element.innerHTML = '';\n",
              "          dataTable['output_type'] = 'display_data';\n",
              "          await google.colab.output.renderOutput(dataTable, element);\n",
              "          const docLink = document.createElement('div');\n",
              "          docLink.innerHTML = docLinkHtml;\n",
              "          element.appendChild(docLink);\n",
              "        }\n",
              "      </script>\n",
              "    </div>\n",
              "  </div>\n",
              "  "
            ]
          },
          "metadata": {},
          "execution_count": 32
        }
      ]
    },
    {
      "cell_type": "code",
      "source": [
        "cat_features"
      ],
      "metadata": {
        "colab": {
          "base_uri": "https://localhost:8080/"
        },
        "id": "lExu6hZRBfKU",
        "outputId": "2dfc6de9-536a-44b5-a41f-ce977595cbcf"
      },
      "execution_count": null,
      "outputs": [
        {
          "output_type": "execute_result",
          "data": {
            "text/plain": [
              "['data',\n",
              " 'route_schedule_uuid',\n",
              " 'route_type',\n",
              " 'trip_uuid',\n",
              " 'source_center',\n",
              " 'source_name',\n",
              " 'destination_center',\n",
              " 'destination_name',\n",
              " 'Dest_Name',\n",
              " 'Src_Name',\n",
              " 'Trip_Creation_Time_New']"
            ]
          },
          "metadata": {},
          "execution_count": 109
        }
      ]
    },
    {
      "cell_type": "code",
      "source": [
        "num_features"
      ],
      "metadata": {
        "colab": {
          "base_uri": "https://localhost:8080/"
        },
        "id": "8YaNmASABjGx",
        "outputId": "11523cd6-cb31-4340-f3be-e07792a3dd2e"
      },
      "execution_count": null,
      "outputs": [
        {
          "output_type": "execute_result",
          "data": {
            "text/plain": [
              "['start_scan_to_end_scan',\n",
              " 'actual_distance_to_destination',\n",
              " 'actual_time',\n",
              " 'osrm_time',\n",
              " 'osrm_distance',\n",
              " 'segment_actual_time',\n",
              " 'segment_osrm_time',\n",
              " 'segment_osrm_distance',\n",
              " 'Duration_In_Mins']"
            ]
          },
          "metadata": {},
          "execution_count": 110
        }
      ]
    },
    {
      "cell_type": "markdown",
      "source": [
        "#### Extract & Build new Features\n",
        "###### Destination Name, Source Name and Trip Creation Time"
      ],
      "metadata": {
        "id": "P8d7CARAachQ"
      }
    },
    {
      "cell_type": "code",
      "source": [
        "temp_destination_name = work_df.destination_name.str.split('_')\n",
        "temp_destination_name.head()"
      ],
      "metadata": {
        "id": "K9OeJbHzrpK8",
        "outputId": "ebd39b73-cb1a-4d32-90e7-6a8c32001e7f",
        "colab": {
          "base_uri": "https://localhost:8080/"
        }
      },
      "execution_count": 43,
      "outputs": [
        {
          "output_type": "execute_result",
          "data": {
            "text/plain": [
              "0    [Khambhat, MotvdDPP, D (Gujarat)]\n",
              "1    [Khambhat, MotvdDPP, D (Gujarat)]\n",
              "2    [Khambhat, MotvdDPP, D (Gujarat)]\n",
              "3    [Khambhat, MotvdDPP, D (Gujarat)]\n",
              "4    [Khambhat, MotvdDPP, D (Gujarat)]\n",
              "Name: destination_name, dtype: object"
            ]
          },
          "metadata": {},
          "execution_count": 43
        }
      ]
    },
    {
      "cell_type": "code",
      "source": [
        "# Extract Destination Name\n",
        "Dest_Name = []\n",
        "for name in work_df['destination_name']:\n",
        "  name = str(name).split('_')\n",
        "  Dest_Name.append(name[0])"
      ],
      "metadata": {
        "id": "E24GIVlmayuA"
      },
      "execution_count": 33,
      "outputs": []
    },
    {
      "cell_type": "code",
      "source": [
        "# Add extracted destination name to the the dataset\n",
        "work_df['Dest_Name'] = Dest_Name"
      ],
      "metadata": {
        "id": "H6wPySbdfh2v"
      },
      "execution_count": 34,
      "outputs": []
    },
    {
      "cell_type": "code",
      "source": [
        "# Extract Source Name\n",
        "Src_Name = []\n",
        "for name in work_df['source_name']:\n",
        "  name = str(name).split(' (')\n",
        "  Src_Name.append(name[0])"
      ],
      "metadata": {
        "id": "WZwtlIBR5-Di"
      },
      "execution_count": 35,
      "outputs": []
    },
    {
      "cell_type": "code",
      "source": [
        "# Add extracted source name to the the dataset\n",
        "work_df['Src_Name'] = Src_Name"
      ],
      "metadata": {
        "id": "WHcBsCqGIIo5"
      },
      "execution_count": 36,
      "outputs": []
    },
    {
      "cell_type": "code",
      "source": [
        "# Extract Date Month and Year from Trip Creation Time\n",
        "temp_date = []\n",
        "for dateVal in work_df['trip_creation_time']:\n",
        "  dt = datetime.strptime(str(dateVal), '%Y-%m-%d %H:%M:%S.%f')\n",
        "  temp_date.append(str(dt.day) + ' ' + str(dt.month) + ' ' + str(dt.year))"
      ],
      "metadata": {
        "id": "S-t3kkPrK1cy"
      },
      "execution_count": 37,
      "outputs": []
    },
    {
      "cell_type": "code",
      "source": [
        "# Add extracted day, month and year to the dataset\n",
        "work_df['Trip_Creation_Time_New'] = temp_date"
      ],
      "metadata": {
        "id": "UNrmF1eZMuye"
      },
      "execution_count": 38,
      "outputs": []
    },
    {
      "cell_type": "code",
      "source": [
        "# Verifying the newly added features\n",
        "work_df.head()"
      ],
      "metadata": {
        "id": "tWEKbs4TM7OZ",
        "outputId": "70625421-aca0-4d7e-d863-efc106d08faa",
        "colab": {
          "base_uri": "https://localhost:8080/",
          "height": 473
        }
      },
      "execution_count": 39,
      "outputs": [
        {
          "output_type": "execute_result",
          "data": {
            "text/plain": [
              "       data         trip_creation_time  \\\n",
              "0  training 2018-09-20 02:35:36.476840   \n",
              "1  training 2018-09-20 02:35:36.476840   \n",
              "2  training 2018-09-20 02:35:36.476840   \n",
              "3  training 2018-09-20 02:35:36.476840   \n",
              "4  training 2018-09-20 02:35:36.476840   \n",
              "\n",
              "                                 route_schedule_uuid route_type  \\\n",
              "0  thanos::sroute:eb7bfc78-b351-4c0e-a951-fa3d5c3...    Carting   \n",
              "1  thanos::sroute:eb7bfc78-b351-4c0e-a951-fa3d5c3...    Carting   \n",
              "2  thanos::sroute:eb7bfc78-b351-4c0e-a951-fa3d5c3...    Carting   \n",
              "3  thanos::sroute:eb7bfc78-b351-4c0e-a951-fa3d5c3...    Carting   \n",
              "4  thanos::sroute:eb7bfc78-b351-4c0e-a951-fa3d5c3...    Carting   \n",
              "\n",
              "                 trip_uuid source_center                 source_name  \\\n",
              "0  trip-153741093647649320  IND388121AAA  Anand_VUNagar_DC (Gujarat)   \n",
              "1  trip-153741093647649320  IND388121AAA  Anand_VUNagar_DC (Gujarat)   \n",
              "2  trip-153741093647649320  IND388121AAA  Anand_VUNagar_DC (Gujarat)   \n",
              "3  trip-153741093647649320  IND388121AAA  Anand_VUNagar_DC (Gujarat)   \n",
              "4  trip-153741093647649320  IND388121AAA  Anand_VUNagar_DC (Gujarat)   \n",
              "\n",
              "  destination_center               destination_name  \\\n",
              "0       IND388620AAB  Khambhat_MotvdDPP_D (Gujarat)   \n",
              "1       IND388620AAB  Khambhat_MotvdDPP_D (Gujarat)   \n",
              "2       IND388620AAB  Khambhat_MotvdDPP_D (Gujarat)   \n",
              "3       IND388620AAB  Khambhat_MotvdDPP_D (Gujarat)   \n",
              "4       IND388620AAB  Khambhat_MotvdDPP_D (Gujarat)   \n",
              "\n",
              "               od_start_time  ... actual_time  osrm_time  osrm_distance  \\\n",
              "0 2018-09-20 03:21:32.418600  ...        14.0       11.0        11.9653   \n",
              "1 2018-09-20 03:21:32.418600  ...        24.0       20.0        21.7243   \n",
              "2 2018-09-20 03:21:32.418600  ...        40.0       28.0        32.5395   \n",
              "3 2018-09-20 03:21:32.418600  ...        62.0       40.0        45.5620   \n",
              "4 2018-09-20 03:21:32.418600  ...        68.0       44.0        54.2181   \n",
              "\n",
              "   segment_actual_time  segment_osrm_time  segment_osrm_distance  \\\n",
              "0                 14.0               11.0                11.9653   \n",
              "1                 10.0                9.0                 9.7590   \n",
              "2                 16.0                7.0                10.8152   \n",
              "3                 21.0               12.0                13.0224   \n",
              "4                  6.0                5.0                 3.9153   \n",
              "\n",
              "   od_time_diff  Dest_Name          Src_Name  Trip_Creation_Time_New  \n",
              "0     86.213637   Khambhat  Anand_VUNagar_DC               20 9 2018  \n",
              "1     86.213637   Khambhat  Anand_VUNagar_DC               20 9 2018  \n",
              "2     86.213637   Khambhat  Anand_VUNagar_DC               20 9 2018  \n",
              "3     86.213637   Khambhat  Anand_VUNagar_DC               20 9 2018  \n",
              "4     86.213637   Khambhat  Anand_VUNagar_DC               20 9 2018  \n",
              "\n",
              "[5 rows x 23 columns]"
            ],
            "text/html": [
              "\n",
              "  <div id=\"df-0a139eb2-fcc8-485c-9399-6f4fe5ddb040\">\n",
              "    <div class=\"colab-df-container\">\n",
              "      <div>\n",
              "<style scoped>\n",
              "    .dataframe tbody tr th:only-of-type {\n",
              "        vertical-align: middle;\n",
              "    }\n",
              "\n",
              "    .dataframe tbody tr th {\n",
              "        vertical-align: top;\n",
              "    }\n",
              "\n",
              "    .dataframe thead th {\n",
              "        text-align: right;\n",
              "    }\n",
              "</style>\n",
              "<table border=\"1\" class=\"dataframe\">\n",
              "  <thead>\n",
              "    <tr style=\"text-align: right;\">\n",
              "      <th></th>\n",
              "      <th>data</th>\n",
              "      <th>trip_creation_time</th>\n",
              "      <th>route_schedule_uuid</th>\n",
              "      <th>route_type</th>\n",
              "      <th>trip_uuid</th>\n",
              "      <th>source_center</th>\n",
              "      <th>source_name</th>\n",
              "      <th>destination_center</th>\n",
              "      <th>destination_name</th>\n",
              "      <th>od_start_time</th>\n",
              "      <th>...</th>\n",
              "      <th>actual_time</th>\n",
              "      <th>osrm_time</th>\n",
              "      <th>osrm_distance</th>\n",
              "      <th>segment_actual_time</th>\n",
              "      <th>segment_osrm_time</th>\n",
              "      <th>segment_osrm_distance</th>\n",
              "      <th>od_time_diff</th>\n",
              "      <th>Dest_Name</th>\n",
              "      <th>Src_Name</th>\n",
              "      <th>Trip_Creation_Time_New</th>\n",
              "    </tr>\n",
              "  </thead>\n",
              "  <tbody>\n",
              "    <tr>\n",
              "      <th>0</th>\n",
              "      <td>training</td>\n",
              "      <td>2018-09-20 02:35:36.476840</td>\n",
              "      <td>thanos::sroute:eb7bfc78-b351-4c0e-a951-fa3d5c3...</td>\n",
              "      <td>Carting</td>\n",
              "      <td>trip-153741093647649320</td>\n",
              "      <td>IND388121AAA</td>\n",
              "      <td>Anand_VUNagar_DC (Gujarat)</td>\n",
              "      <td>IND388620AAB</td>\n",
              "      <td>Khambhat_MotvdDPP_D (Gujarat)</td>\n",
              "      <td>2018-09-20 03:21:32.418600</td>\n",
              "      <td>...</td>\n",
              "      <td>14.0</td>\n",
              "      <td>11.0</td>\n",
              "      <td>11.9653</td>\n",
              "      <td>14.0</td>\n",
              "      <td>11.0</td>\n",
              "      <td>11.9653</td>\n",
              "      <td>86.213637</td>\n",
              "      <td>Khambhat</td>\n",
              "      <td>Anand_VUNagar_DC</td>\n",
              "      <td>20 9 2018</td>\n",
              "    </tr>\n",
              "    <tr>\n",
              "      <th>1</th>\n",
              "      <td>training</td>\n",
              "      <td>2018-09-20 02:35:36.476840</td>\n",
              "      <td>thanos::sroute:eb7bfc78-b351-4c0e-a951-fa3d5c3...</td>\n",
              "      <td>Carting</td>\n",
              "      <td>trip-153741093647649320</td>\n",
              "      <td>IND388121AAA</td>\n",
              "      <td>Anand_VUNagar_DC (Gujarat)</td>\n",
              "      <td>IND388620AAB</td>\n",
              "      <td>Khambhat_MotvdDPP_D (Gujarat)</td>\n",
              "      <td>2018-09-20 03:21:32.418600</td>\n",
              "      <td>...</td>\n",
              "      <td>24.0</td>\n",
              "      <td>20.0</td>\n",
              "      <td>21.7243</td>\n",
              "      <td>10.0</td>\n",
              "      <td>9.0</td>\n",
              "      <td>9.7590</td>\n",
              "      <td>86.213637</td>\n",
              "      <td>Khambhat</td>\n",
              "      <td>Anand_VUNagar_DC</td>\n",
              "      <td>20 9 2018</td>\n",
              "    </tr>\n",
              "    <tr>\n",
              "      <th>2</th>\n",
              "      <td>training</td>\n",
              "      <td>2018-09-20 02:35:36.476840</td>\n",
              "      <td>thanos::sroute:eb7bfc78-b351-4c0e-a951-fa3d5c3...</td>\n",
              "      <td>Carting</td>\n",
              "      <td>trip-153741093647649320</td>\n",
              "      <td>IND388121AAA</td>\n",
              "      <td>Anand_VUNagar_DC (Gujarat)</td>\n",
              "      <td>IND388620AAB</td>\n",
              "      <td>Khambhat_MotvdDPP_D (Gujarat)</td>\n",
              "      <td>2018-09-20 03:21:32.418600</td>\n",
              "      <td>...</td>\n",
              "      <td>40.0</td>\n",
              "      <td>28.0</td>\n",
              "      <td>32.5395</td>\n",
              "      <td>16.0</td>\n",
              "      <td>7.0</td>\n",
              "      <td>10.8152</td>\n",
              "      <td>86.213637</td>\n",
              "      <td>Khambhat</td>\n",
              "      <td>Anand_VUNagar_DC</td>\n",
              "      <td>20 9 2018</td>\n",
              "    </tr>\n",
              "    <tr>\n",
              "      <th>3</th>\n",
              "      <td>training</td>\n",
              "      <td>2018-09-20 02:35:36.476840</td>\n",
              "      <td>thanos::sroute:eb7bfc78-b351-4c0e-a951-fa3d5c3...</td>\n",
              "      <td>Carting</td>\n",
              "      <td>trip-153741093647649320</td>\n",
              "      <td>IND388121AAA</td>\n",
              "      <td>Anand_VUNagar_DC (Gujarat)</td>\n",
              "      <td>IND388620AAB</td>\n",
              "      <td>Khambhat_MotvdDPP_D (Gujarat)</td>\n",
              "      <td>2018-09-20 03:21:32.418600</td>\n",
              "      <td>...</td>\n",
              "      <td>62.0</td>\n",
              "      <td>40.0</td>\n",
              "      <td>45.5620</td>\n",
              "      <td>21.0</td>\n",
              "      <td>12.0</td>\n",
              "      <td>13.0224</td>\n",
              "      <td>86.213637</td>\n",
              "      <td>Khambhat</td>\n",
              "      <td>Anand_VUNagar_DC</td>\n",
              "      <td>20 9 2018</td>\n",
              "    </tr>\n",
              "    <tr>\n",
              "      <th>4</th>\n",
              "      <td>training</td>\n",
              "      <td>2018-09-20 02:35:36.476840</td>\n",
              "      <td>thanos::sroute:eb7bfc78-b351-4c0e-a951-fa3d5c3...</td>\n",
              "      <td>Carting</td>\n",
              "      <td>trip-153741093647649320</td>\n",
              "      <td>IND388121AAA</td>\n",
              "      <td>Anand_VUNagar_DC (Gujarat)</td>\n",
              "      <td>IND388620AAB</td>\n",
              "      <td>Khambhat_MotvdDPP_D (Gujarat)</td>\n",
              "      <td>2018-09-20 03:21:32.418600</td>\n",
              "      <td>...</td>\n",
              "      <td>68.0</td>\n",
              "      <td>44.0</td>\n",
              "      <td>54.2181</td>\n",
              "      <td>6.0</td>\n",
              "      <td>5.0</td>\n",
              "      <td>3.9153</td>\n",
              "      <td>86.213637</td>\n",
              "      <td>Khambhat</td>\n",
              "      <td>Anand_VUNagar_DC</td>\n",
              "      <td>20 9 2018</td>\n",
              "    </tr>\n",
              "  </tbody>\n",
              "</table>\n",
              "<p>5 rows × 23 columns</p>\n",
              "</div>\n",
              "      <button class=\"colab-df-convert\" onclick=\"convertToInteractive('df-0a139eb2-fcc8-485c-9399-6f4fe5ddb040')\"\n",
              "              title=\"Convert this dataframe to an interactive table.\"\n",
              "              style=\"display:none;\">\n",
              "        \n",
              "  <svg xmlns=\"http://www.w3.org/2000/svg\" height=\"24px\"viewBox=\"0 0 24 24\"\n",
              "       width=\"24px\">\n",
              "    <path d=\"M0 0h24v24H0V0z\" fill=\"none\"/>\n",
              "    <path d=\"M18.56 5.44l.94 2.06.94-2.06 2.06-.94-2.06-.94-.94-2.06-.94 2.06-2.06.94zm-11 1L8.5 8.5l.94-2.06 2.06-.94-2.06-.94L8.5 2.5l-.94 2.06-2.06.94zm10 10l.94 2.06.94-2.06 2.06-.94-2.06-.94-.94-2.06-.94 2.06-2.06.94z\"/><path d=\"M17.41 7.96l-1.37-1.37c-.4-.4-.92-.59-1.43-.59-.52 0-1.04.2-1.43.59L10.3 9.45l-7.72 7.72c-.78.78-.78 2.05 0 2.83L4 21.41c.39.39.9.59 1.41.59.51 0 1.02-.2 1.41-.59l7.78-7.78 2.81-2.81c.8-.78.8-2.07 0-2.86zM5.41 20L4 18.59l7.72-7.72 1.47 1.35L5.41 20z\"/>\n",
              "  </svg>\n",
              "      </button>\n",
              "      \n",
              "  <style>\n",
              "    .colab-df-container {\n",
              "      display:flex;\n",
              "      flex-wrap:wrap;\n",
              "      gap: 12px;\n",
              "    }\n",
              "\n",
              "    .colab-df-convert {\n",
              "      background-color: #E8F0FE;\n",
              "      border: none;\n",
              "      border-radius: 50%;\n",
              "      cursor: pointer;\n",
              "      display: none;\n",
              "      fill: #1967D2;\n",
              "      height: 32px;\n",
              "      padding: 0 0 0 0;\n",
              "      width: 32px;\n",
              "    }\n",
              "\n",
              "    .colab-df-convert:hover {\n",
              "      background-color: #E2EBFA;\n",
              "      box-shadow: 0px 1px 2px rgba(60, 64, 67, 0.3), 0px 1px 3px 1px rgba(60, 64, 67, 0.15);\n",
              "      fill: #174EA6;\n",
              "    }\n",
              "\n",
              "    [theme=dark] .colab-df-convert {\n",
              "      background-color: #3B4455;\n",
              "      fill: #D2E3FC;\n",
              "    }\n",
              "\n",
              "    [theme=dark] .colab-df-convert:hover {\n",
              "      background-color: #434B5C;\n",
              "      box-shadow: 0px 1px 3px 1px rgba(0, 0, 0, 0.15);\n",
              "      filter: drop-shadow(0px 1px 2px rgba(0, 0, 0, 0.3));\n",
              "      fill: #FFFFFF;\n",
              "    }\n",
              "  </style>\n",
              "\n",
              "      <script>\n",
              "        const buttonEl =\n",
              "          document.querySelector('#df-0a139eb2-fcc8-485c-9399-6f4fe5ddb040 button.colab-df-convert');\n",
              "        buttonEl.style.display =\n",
              "          google.colab.kernel.accessAllowed ? 'block' : 'none';\n",
              "\n",
              "        async function convertToInteractive(key) {\n",
              "          const element = document.querySelector('#df-0a139eb2-fcc8-485c-9399-6f4fe5ddb040');\n",
              "          const dataTable =\n",
              "            await google.colab.kernel.invokeFunction('convertToInteractive',\n",
              "                                                     [key], {});\n",
              "          if (!dataTable) return;\n",
              "\n",
              "          const docLinkHtml = 'Like what you see? Visit the ' +\n",
              "            '<a target=\"_blank\" href=https://colab.research.google.com/notebooks/data_table.ipynb>data table notebook</a>'\n",
              "            + ' to learn more about interactive tables.';\n",
              "          element.innerHTML = '';\n",
              "          dataTable['output_type'] = 'display_data';\n",
              "          await google.colab.output.renderOutput(dataTable, element);\n",
              "          const docLink = document.createElement('div');\n",
              "          docLink.innerHTML = docLinkHtml;\n",
              "          element.appendChild(docLink);\n",
              "        }\n",
              "      </script>\n",
              "    </div>\n",
              "  </div>\n",
              "  "
            ]
          },
          "metadata": {},
          "execution_count": 39
        }
      ]
    },
    {
      "cell_type": "code",
      "source": [
        "start_date = datetime.strptime(work_df['od_start_time'][0], '%Y-%m-%d %H:%M:%S.%f')\n",
        "end_date = datetime.strptime(work_df['od_end_time'][0], '%Y-%m-%d %H:%M:%S.%f')\n",
        "duration = abs((end_date - start_date).total_seconds())\n",
        "duration_in_mins = round(duration/60)\n",
        "print(duration_in_mins)"
      ],
      "metadata": {
        "id": "9DtQBXT4NLJo",
        "outputId": "aa0d79bf-a89b-4946-b5ad-9447f684e001",
        "colab": {
          "base_uri": "https://localhost:8080/",
          "height": 240
        }
      },
      "execution_count": 40,
      "outputs": [
        {
          "output_type": "error",
          "ename": "TypeError",
          "evalue": "ignored",
          "traceback": [
            "\u001b[0;31m---------------------------------------------------------------------------\u001b[0m",
            "\u001b[0;31mTypeError\u001b[0m                                 Traceback (most recent call last)",
            "\u001b[0;32m<ipython-input-40-d136cf98257c>\u001b[0m in \u001b[0;36m<module>\u001b[0;34m\u001b[0m\n\u001b[0;32m----> 1\u001b[0;31m \u001b[0mstart_date\u001b[0m \u001b[0;34m=\u001b[0m \u001b[0mdatetime\u001b[0m\u001b[0;34m.\u001b[0m\u001b[0mstrptime\u001b[0m\u001b[0;34m(\u001b[0m\u001b[0mwork_df\u001b[0m\u001b[0;34m[\u001b[0m\u001b[0;34m'od_start_time'\u001b[0m\u001b[0;34m]\u001b[0m\u001b[0;34m[\u001b[0m\u001b[0;36m0\u001b[0m\u001b[0;34m]\u001b[0m\u001b[0;34m,\u001b[0m \u001b[0;34m'%Y-%m-%d %H:%M:%S.%f'\u001b[0m\u001b[0;34m)\u001b[0m\u001b[0;34m\u001b[0m\u001b[0;34m\u001b[0m\u001b[0m\n\u001b[0m\u001b[1;32m      2\u001b[0m \u001b[0mend_date\u001b[0m \u001b[0;34m=\u001b[0m \u001b[0mdatetime\u001b[0m\u001b[0;34m.\u001b[0m\u001b[0mstrptime\u001b[0m\u001b[0;34m(\u001b[0m\u001b[0mwork_df\u001b[0m\u001b[0;34m[\u001b[0m\u001b[0;34m'od_end_time'\u001b[0m\u001b[0;34m]\u001b[0m\u001b[0;34m[\u001b[0m\u001b[0;36m0\u001b[0m\u001b[0;34m]\u001b[0m\u001b[0;34m,\u001b[0m \u001b[0;34m'%Y-%m-%d %H:%M:%S.%f'\u001b[0m\u001b[0;34m)\u001b[0m\u001b[0;34m\u001b[0m\u001b[0;34m\u001b[0m\u001b[0m\n\u001b[1;32m      3\u001b[0m \u001b[0mduration\u001b[0m \u001b[0;34m=\u001b[0m \u001b[0mabs\u001b[0m\u001b[0;34m(\u001b[0m\u001b[0;34m(\u001b[0m\u001b[0mend_date\u001b[0m \u001b[0;34m-\u001b[0m \u001b[0mstart_date\u001b[0m\u001b[0;34m)\u001b[0m\u001b[0;34m.\u001b[0m\u001b[0mtotal_seconds\u001b[0m\u001b[0;34m(\u001b[0m\u001b[0;34m)\u001b[0m\u001b[0;34m)\u001b[0m\u001b[0;34m\u001b[0m\u001b[0;34m\u001b[0m\u001b[0m\n\u001b[1;32m      4\u001b[0m \u001b[0mduration_in_mins\u001b[0m \u001b[0;34m=\u001b[0m \u001b[0mround\u001b[0m\u001b[0;34m(\u001b[0m\u001b[0mduration\u001b[0m\u001b[0;34m/\u001b[0m\u001b[0;36m60\u001b[0m\u001b[0;34m)\u001b[0m\u001b[0;34m\u001b[0m\u001b[0;34m\u001b[0m\u001b[0m\n\u001b[1;32m      5\u001b[0m \u001b[0mprint\u001b[0m\u001b[0;34m(\u001b[0m\u001b[0mduration_in_mins\u001b[0m\u001b[0;34m)\u001b[0m\u001b[0;34m\u001b[0m\u001b[0;34m\u001b[0m\u001b[0m\n",
            "\u001b[0;31mTypeError\u001b[0m: strptime() argument 1 must be str, not Timestamp"
          ]
        }
      ]
    },
    {
      "cell_type": "code",
      "source": [
        "# Find the Start to End duration and add to the dataset\n",
        "duration_in_mins = []\n",
        "for i in range(len(work_df)):\n",
        "  start_date = datetime.strptime(work_df['od_start_time'][i], '%Y-%m-%d %H:%M:%S.%f')\n",
        "  end_date = datetime.strptime(work_df['od_end_time'][i], '%Y-%m-%d %H:%M:%S.%f')\n",
        "  duration = abs((end_date - start_date).total_seconds())\n",
        "  duration_in_mins.append(round(duration/60))"
      ],
      "metadata": {
        "id": "pkLxd6a5O3oc"
      },
      "execution_count": null,
      "outputs": []
    },
    {
      "cell_type": "code",
      "source": [
        "work_df['Duration_In_Mins'] = duration_in_mins"
      ],
      "metadata": {
        "id": "xkMdYmlTVOcM"
      },
      "execution_count": null,
      "outputs": []
    },
    {
      "cell_type": "code",
      "source": [
        "# Numerical features analysis\n",
        "work_df.describe().T"
      ],
      "metadata": {
        "id": "01uNw8-4VqLR"
      },
      "execution_count": null,
      "outputs": []
    },
    {
      "cell_type": "markdown",
      "source": [
        "### Insights \n",
        "\n",
        "Averages:\n",
        "*   Avg Time \"start_scan_to_end_scan\" is: 964 mins\n",
        "*   Avg distance to destination is: 234 kms warehouse \n",
        "*   Avg actual time 418 mins\n",
        "*   Avg osrm_time 214 mins\n",
        "*   Avg osrm_distance 285 kms\n",
        "*   Avg segment_actual_time 36 mins\n",
        "*   Avg segment_osrm_time is 18 mins\n",
        "*   Avg segment_osrm_distance is 22 kms\n",
        "*   Avg duration in mins is 964"
      ],
      "metadata": {
        "id": "5tXIL63Lf1rs"
      }
    },
    {
      "cell_type": "code",
      "source": [
        "work_df.describe(include='object').T"
      ],
      "metadata": {
        "colab": {
          "base_uri": "https://localhost:8080/",
          "height": 390
        },
        "id": "jmWklP7thx4x",
        "outputId": "dca90f16-d13c-4234-f859-0ae1d56358b9"
      },
      "execution_count": null,
      "outputs": [
        {
          "output_type": "execute_result",
          "data": {
            "text/plain": [
              "                         count unique  \\\n",
              "data                    144316      2   \n",
              "route_schedule_uuid     144316   1497   \n",
              "route_type              144316      2   \n",
              "trip_uuid               144316  14787   \n",
              "source_center           144316   1496   \n",
              "source_name             144316   1496   \n",
              "destination_center      144316   1466   \n",
              "destination_name        144316   1466   \n",
              "Dest_Name               144316   1256   \n",
              "Src_Name                144316   1496   \n",
              "Trip_Creation_Time_New  144316     22   \n",
              "\n",
              "                                                                      top  \\\n",
              "data                                                             training   \n",
              "route_schedule_uuid     thanos::sroute:4029a8a2-6c74-4b7e-a6d8-f9e069f...   \n",
              "route_type                                                            FTL   \n",
              "trip_uuid                                         trip-153837029526866991   \n",
              "source_center                                                IND000000ACB   \n",
              "source_name                                 Gurgaon_Bilaspur_HB (Haryana)   \n",
              "destination_center                                           IND000000ACB   \n",
              "destination_name                            Gurgaon_Bilaspur_HB (Haryana)   \n",
              "Dest_Name                                                         Gurgaon   \n",
              "Src_Name                                              Gurgaon_Bilaspur_HB   \n",
              "Trip_Creation_Time_New                                          21 9 2018   \n",
              "\n",
              "                          freq  \n",
              "data                    104632  \n",
              "route_schedule_uuid       1812  \n",
              "route_type               99132  \n",
              "trip_uuid                  101  \n",
              "source_center            23267  \n",
              "source_name              23267  \n",
              "destination_center       15192  \n",
              "destination_name         15192  \n",
              "Dest_Name                15393  \n",
              "Src_Name                 23267  \n",
              "Trip_Creation_Time_New    7626  "
            ],
            "text/html": [
              "\n",
              "  <div id=\"df-8d66635e-91a5-4b01-8b87-6a2b9e56779a\">\n",
              "    <div class=\"colab-df-container\">\n",
              "      <div>\n",
              "<style scoped>\n",
              "    .dataframe tbody tr th:only-of-type {\n",
              "        vertical-align: middle;\n",
              "    }\n",
              "\n",
              "    .dataframe tbody tr th {\n",
              "        vertical-align: top;\n",
              "    }\n",
              "\n",
              "    .dataframe thead th {\n",
              "        text-align: right;\n",
              "    }\n",
              "</style>\n",
              "<table border=\"1\" class=\"dataframe\">\n",
              "  <thead>\n",
              "    <tr style=\"text-align: right;\">\n",
              "      <th></th>\n",
              "      <th>count</th>\n",
              "      <th>unique</th>\n",
              "      <th>top</th>\n",
              "      <th>freq</th>\n",
              "    </tr>\n",
              "  </thead>\n",
              "  <tbody>\n",
              "    <tr>\n",
              "      <th>data</th>\n",
              "      <td>144316</td>\n",
              "      <td>2</td>\n",
              "      <td>training</td>\n",
              "      <td>104632</td>\n",
              "    </tr>\n",
              "    <tr>\n",
              "      <th>route_schedule_uuid</th>\n",
              "      <td>144316</td>\n",
              "      <td>1497</td>\n",
              "      <td>thanos::sroute:4029a8a2-6c74-4b7e-a6d8-f9e069f...</td>\n",
              "      <td>1812</td>\n",
              "    </tr>\n",
              "    <tr>\n",
              "      <th>route_type</th>\n",
              "      <td>144316</td>\n",
              "      <td>2</td>\n",
              "      <td>FTL</td>\n",
              "      <td>99132</td>\n",
              "    </tr>\n",
              "    <tr>\n",
              "      <th>trip_uuid</th>\n",
              "      <td>144316</td>\n",
              "      <td>14787</td>\n",
              "      <td>trip-153837029526866991</td>\n",
              "      <td>101</td>\n",
              "    </tr>\n",
              "    <tr>\n",
              "      <th>source_center</th>\n",
              "      <td>144316</td>\n",
              "      <td>1496</td>\n",
              "      <td>IND000000ACB</td>\n",
              "      <td>23267</td>\n",
              "    </tr>\n",
              "    <tr>\n",
              "      <th>source_name</th>\n",
              "      <td>144316</td>\n",
              "      <td>1496</td>\n",
              "      <td>Gurgaon_Bilaspur_HB (Haryana)</td>\n",
              "      <td>23267</td>\n",
              "    </tr>\n",
              "    <tr>\n",
              "      <th>destination_center</th>\n",
              "      <td>144316</td>\n",
              "      <td>1466</td>\n",
              "      <td>IND000000ACB</td>\n",
              "      <td>15192</td>\n",
              "    </tr>\n",
              "    <tr>\n",
              "      <th>destination_name</th>\n",
              "      <td>144316</td>\n",
              "      <td>1466</td>\n",
              "      <td>Gurgaon_Bilaspur_HB (Haryana)</td>\n",
              "      <td>15192</td>\n",
              "    </tr>\n",
              "    <tr>\n",
              "      <th>Dest_Name</th>\n",
              "      <td>144316</td>\n",
              "      <td>1256</td>\n",
              "      <td>Gurgaon</td>\n",
              "      <td>15393</td>\n",
              "    </tr>\n",
              "    <tr>\n",
              "      <th>Src_Name</th>\n",
              "      <td>144316</td>\n",
              "      <td>1496</td>\n",
              "      <td>Gurgaon_Bilaspur_HB</td>\n",
              "      <td>23267</td>\n",
              "    </tr>\n",
              "    <tr>\n",
              "      <th>Trip_Creation_Time_New</th>\n",
              "      <td>144316</td>\n",
              "      <td>22</td>\n",
              "      <td>21 9 2018</td>\n",
              "      <td>7626</td>\n",
              "    </tr>\n",
              "  </tbody>\n",
              "</table>\n",
              "</div>\n",
              "      <button class=\"colab-df-convert\" onclick=\"convertToInteractive('df-8d66635e-91a5-4b01-8b87-6a2b9e56779a')\"\n",
              "              title=\"Convert this dataframe to an interactive table.\"\n",
              "              style=\"display:none;\">\n",
              "        \n",
              "  <svg xmlns=\"http://www.w3.org/2000/svg\" height=\"24px\"viewBox=\"0 0 24 24\"\n",
              "       width=\"24px\">\n",
              "    <path d=\"M0 0h24v24H0V0z\" fill=\"none\"/>\n",
              "    <path d=\"M18.56 5.44l.94 2.06.94-2.06 2.06-.94-2.06-.94-.94-2.06-.94 2.06-2.06.94zm-11 1L8.5 8.5l.94-2.06 2.06-.94-2.06-.94L8.5 2.5l-.94 2.06-2.06.94zm10 10l.94 2.06.94-2.06 2.06-.94-2.06-.94-.94-2.06-.94 2.06-2.06.94z\"/><path d=\"M17.41 7.96l-1.37-1.37c-.4-.4-.92-.59-1.43-.59-.52 0-1.04.2-1.43.59L10.3 9.45l-7.72 7.72c-.78.78-.78 2.05 0 2.83L4 21.41c.39.39.9.59 1.41.59.51 0 1.02-.2 1.41-.59l7.78-7.78 2.81-2.81c.8-.78.8-2.07 0-2.86zM5.41 20L4 18.59l7.72-7.72 1.47 1.35L5.41 20z\"/>\n",
              "  </svg>\n",
              "      </button>\n",
              "      \n",
              "  <style>\n",
              "    .colab-df-container {\n",
              "      display:flex;\n",
              "      flex-wrap:wrap;\n",
              "      gap: 12px;\n",
              "    }\n",
              "\n",
              "    .colab-df-convert {\n",
              "      background-color: #E8F0FE;\n",
              "      border: none;\n",
              "      border-radius: 50%;\n",
              "      cursor: pointer;\n",
              "      display: none;\n",
              "      fill: #1967D2;\n",
              "      height: 32px;\n",
              "      padding: 0 0 0 0;\n",
              "      width: 32px;\n",
              "    }\n",
              "\n",
              "    .colab-df-convert:hover {\n",
              "      background-color: #E2EBFA;\n",
              "      box-shadow: 0px 1px 2px rgba(60, 64, 67, 0.3), 0px 1px 3px 1px rgba(60, 64, 67, 0.15);\n",
              "      fill: #174EA6;\n",
              "    }\n",
              "\n",
              "    [theme=dark] .colab-df-convert {\n",
              "      background-color: #3B4455;\n",
              "      fill: #D2E3FC;\n",
              "    }\n",
              "\n",
              "    [theme=dark] .colab-df-convert:hover {\n",
              "      background-color: #434B5C;\n",
              "      box-shadow: 0px 1px 3px 1px rgba(0, 0, 0, 0.15);\n",
              "      filter: drop-shadow(0px 1px 2px rgba(0, 0, 0, 0.3));\n",
              "      fill: #FFFFFF;\n",
              "    }\n",
              "  </style>\n",
              "\n",
              "      <script>\n",
              "        const buttonEl =\n",
              "          document.querySelector('#df-8d66635e-91a5-4b01-8b87-6a2b9e56779a button.colab-df-convert');\n",
              "        buttonEl.style.display =\n",
              "          google.colab.kernel.accessAllowed ? 'block' : 'none';\n",
              "\n",
              "        async function convertToInteractive(key) {\n",
              "          const element = document.querySelector('#df-8d66635e-91a5-4b01-8b87-6a2b9e56779a');\n",
              "          const dataTable =\n",
              "            await google.colab.kernel.invokeFunction('convertToInteractive',\n",
              "                                                     [key], {});\n",
              "          if (!dataTable) return;\n",
              "\n",
              "          const docLinkHtml = 'Like what you see? Visit the ' +\n",
              "            '<a target=\"_blank\" href=https://colab.research.google.com/notebooks/data_table.ipynb>data table notebook</a>'\n",
              "            + ' to learn more about interactive tables.';\n",
              "          element.innerHTML = '';\n",
              "          dataTable['output_type'] = 'display_data';\n",
              "          await google.colab.output.renderOutput(dataTable, element);\n",
              "          const docLink = document.createElement('div');\n",
              "          docLink.innerHTML = docLinkHtml;\n",
              "          element.appendChild(docLink);\n",
              "        }\n",
              "      </script>\n",
              "    </div>\n",
              "  </div>\n",
              "  "
            ]
          },
          "metadata": {},
          "execution_count": 89
        }
      ]
    },
    {
      "cell_type": "code",
      "source": [
        "work_df['route_type'].value_counts()"
      ],
      "metadata": {
        "colab": {
          "base_uri": "https://localhost:8080/"
        },
        "id": "DQ9ddysniCzS",
        "outputId": "1870f51d-2dc3-4f77-ebd0-7f2052ffbd65"
      },
      "execution_count": null,
      "outputs": [
        {
          "output_type": "execute_result",
          "data": {
            "text/plain": [
              "FTL        99132\n",
              "Carting    45184\n",
              "Name: route_type, dtype: int64"
            ]
          },
          "metadata": {},
          "execution_count": 90
        }
      ]
    },
    {
      "cell_type": "code",
      "source": [
        "plt.figure(figsize=(15,5))\n",
        "plt.pie(work_df['route_type'].value_counts(),labels=['Carting','FTL'], autopct='%.0f%%')\n",
        "plt.title('Route Type Distribution')\n",
        "plt.show()"
      ],
      "metadata": {
        "colab": {
          "base_uri": "https://localhost:8080/",
          "height": 319
        },
        "id": "m3oFDa3hlhqI",
        "outputId": "76d1d836-6b02-48dd-9060-a1a5e2318e92"
      },
      "execution_count": null,
      "outputs": [
        {
          "output_type": "display_data",
          "data": {
            "text/plain": [
              "<Figure size 1080x360 with 1 Axes>"
            ],
            "image/png": "[encoded data removed]"
          },
          "metadata": {}
        }
      ]
    },
    {
      "cell_type": "markdown",
      "source": [
        "##### Of the 2 route types, 'FTL' seems to be more frequent with high numbers\n",
        "##### Gurgaon-Bilaspur-HB tops in terms of Source City and Gurgaon city seems to be the popular destination with high numers"
      ],
      "metadata": {
        "id": "_HwELLCuiLOs"
      }
    },
    {
      "cell_type": "code",
      "source": [
        "for feature in num_features:\n",
        "  print(work_df[feature].value_counts())"
      ],
      "metadata": {
        "colab": {
          "base_uri": "https://localhost:8080/"
        },
        "id": "PWohpSxu0qz0",
        "outputId": "df7dcb1a-487c-4705-eeea-dd2864af0430"
      },
      "execution_count": null,
      "outputs": [
        {
          "output_type": "stream",
          "name": "stdout",
          "text": [
            "4.700480    459\n",
            "4.276666    424\n",
            "4.595120    411\n",
            "4.553877    405\n",
            "4.454347    399\n",
            "           ... \n",
            "7.255591      1\n",
            "7.903227      1\n",
            "7.061334      1\n",
            "6.807935      1\n",
            "7.239215      1\n",
            "Name: start_scan_to_end_scan, Length: 1914, dtype: int64\n",
            "4.621891    2\n",
            "5.275857    2\n",
            "3.593579    2\n",
            "3.784835    2\n",
            "3.091431    2\n",
            "           ..\n",
            "4.892528    1\n",
            "4.702401    1\n",
            "4.487882    1\n",
            "4.195196    1\n",
            "4.249052    1\n",
            "Name: actual_distance_to_destination, Length: 143965, dtype: int64\n",
            "3.465736    1440\n",
            "3.583519    1413\n",
            "3.401197    1345\n",
            "3.637586    1322\n",
            "3.737670    1236\n",
            "            ... \n",
            "8.058960       1\n",
            "8.024535       1\n",
            "7.885329       1\n",
            "7.977282       1\n",
            "7.999679       1\n",
            "Name: actual_time, Length: 3182, dtype: int64\n",
            "3.044522    2392\n",
            "2.995732    2354\n",
            "2.890372    2245\n",
            "3.091042    2133\n",
            "2.833213    2089\n",
            "            ... \n",
            "7.352441       1\n",
            "7.386471       1\n",
            "7.029973       1\n",
            "7.130899       1\n",
            "7.179308       1\n",
            "Name: osrm_time, Length: 1531, dtype: int64\n",
            "3.872022    11\n",
            "2.418589     5\n",
            "2.752475     4\n",
            "5.511345     4\n",
            "3.257989     4\n",
            "            ..\n",
            "4.013814     1\n",
            "3.256699     1\n",
            "4.693431     1\n",
            "4.634991     1\n",
            "4.485619     1\n",
            "Name: osrm_distance, Length: 137544, dtype: int64\n",
            "3.178054    6165\n",
            "3.258097    5469\n",
            "3.401197    4881\n",
            "3.295837    4411\n",
            "3.135494    4390\n",
            "            ... \n",
            "7.095893       1\n",
            "7.024649       1\n",
            "6.987490       1\n",
            "6.381816       1\n",
            "7.006695       1\n",
            "Name: segment_actual_time, Length: 728, dtype: int64\n",
            "2.772589    11429\n",
            "2.833213    10810\n",
            "2.890372     8693\n",
            "2.944439     6889\n",
            "2.708050     6836\n",
            "            ...  \n",
            "5.129899        1\n",
            "5.093750        1\n",
            "5.318120        1\n",
            "5.049856        1\n",
            "6.939254        1\n",
            "Name: segment_osrm_time, Length: 214, dtype: int64\n",
            "-inf         1531\n",
            " 3.242909       8\n",
            " 3.119131       8\n",
            " 3.277650       7\n",
            " 3.284566       7\n",
            "             ... \n",
            " 1.357921       1\n",
            " 2.126218       1\n",
            " 2.396713       1\n",
            " 3.406185       1\n",
            " 2.175751       1\n",
            "Name: segment_osrm_distance, Length: 113497, dtype: int64\n",
            "4.276666    414\n",
            "4.465908    410\n",
            "4.709530    408\n",
            "4.553877    403\n",
            "4.700480    402\n",
            "           ... \n",
            "7.255591      1\n",
            "7.766841      1\n",
            "7.167038      1\n",
            "8.109826      1\n",
            "7.057037      1\n",
            "Name: Duration_In_Mins, Length: 1903, dtype: int64\n"
          ]
        }
      ]
    },
    {
      "cell_type": "code",
      "source": [
        "# Comparision & Visulization of distance fields\n",
        "plt.figure(figsize = (20,15))\n",
        "sns.displot(work_df['start_scan_to_end_scan'],kind='kde')\n",
        "plt.axvline(x = work_df['start_scan_to_end_scan'].mean(), color = 'b',linestyle='--',label = 'Start Scan to End Scan Mean')\n",
        "plt.title('Start Scan to End Scan Distribution')\n",
        "plt.legend()\n",
        "plt.show()"
      ],
      "metadata": {
        "colab": {
          "base_uri": "https://localhost:8080/",
          "height": 402
        },
        "id": "4aly_UcsAqrC",
        "outputId": "de69acc2-57e1-48f0-ae1a-ab308b224a2f"
      },
      "execution_count": null,
      "outputs": [
        {
          "output_type": "display_data",
          "data": {
            "text/plain": [
              "<Figure size 1440x1080 with 0 Axes>"
            ]
          },
          "metadata": {}
        },
        {
          "output_type": "display_data",
          "data": {
            "text/plain": [
              "<Figure size 360x360 with 1 Axes>"
            ],
            "image/png": "[encoded data removed]"
          },
          "metadata": {
            "needs_background": "light"
          }
        }
      ]
    },
    {
      "cell_type": "code",
      "source": [
        "plt.figure(figsize = (20,15))\n",
        "sns.displot(work_df['actual_distance_to_destination'],kind='kde')\n",
        "plt.axvline(x = work_df['actual_distance_to_destination'].mean(), color = 'b',linestyle='--',label = 'actual_distance_to_destination KMs Mean')\n",
        "plt.title('Actual Distance To Destination Distribution')\n",
        "plt.legend()\n",
        "plt.show()"
      ],
      "metadata": {
        "colab": {
          "base_uri": "https://localhost:8080/",
          "height": 402
        },
        "id": "FKlRPe2rO0Zo",
        "outputId": "393748b0-2290-425d-c42f-af50d07b79c0"
      },
      "execution_count": null,
      "outputs": [
        {
          "output_type": "display_data",
          "data": {
            "text/plain": [
              "<Figure size 1440x1080 with 0 Axes>"
            ]
          },
          "metadata": {}
        },
        {
          "output_type": "display_data",
          "data": {
            "text/plain": [
              "<Figure size 360x360 with 1 Axes>"
            ],
            "image/png": "[encoded data removed]"
          },
          "metadata": {
            "needs_background": "light"
          }
        }
      ]
    },
    {
      "cell_type": "code",
      "source": [
        "plt.figure(figsize = (20,15))\n",
        "sns.countplot(data= work_df, x = 'Trip_Creation_Time_New')\n",
        "plt.title('osrm_distance Distribution')\n",
        "plt.show()"
      ],
      "metadata": {
        "colab": {
          "base_uri": "https://localhost:8080/",
          "height": 894
        },
        "id": "ywvSxB8kkKgp",
        "outputId": "6f40e817-dcb4-409a-e8f7-3ee5e70fde70"
      },
      "execution_count": null,
      "outputs": [
        {
          "output_type": "display_data",
          "data": {
            "text/plain": [
              "<Figure size 1440x1080 with 1 Axes>"
            ],
            "image/png": "[encoded data removed]"
          },
          "metadata": {
            "needs_background": "light"
          }
        }
      ]
    },
    {
      "cell_type": "markdown",
      "source": [
        "#### This indicates, the trip creation time follows a normal distribution with more or less constant time across dates"
      ],
      "metadata": {
        "id": "Iiq2mfYpkx8q"
      }
    },
    {
      "cell_type": "code",
      "source": [
        "busy_route_df = work_df.groupby(['trip_uuid','source_center','destination_center']).count().reset_index()"
      ],
      "metadata": {
        "id": "ukVKo0rZ3DHL"
      },
      "execution_count": null,
      "outputs": []
    },
    {
      "cell_type": "code",
      "source": [
        "busy_route_df['route_schedule_uuid'].max()"
      ],
      "metadata": {
        "id": "7cR_S3se3HKu",
        "outputId": "5f46a822-83db-4367-fde4-3ec932ea68a3",
        "colab": {
          "base_uri": "https://localhost:8080/"
        }
      },
      "execution_count": null,
      "outputs": [
        {
          "output_type": "execute_result",
          "data": {
            "text/plain": [
              "81"
            ]
          },
          "metadata": {},
          "execution_count": 145
        }
      ]
    },
    {
      "cell_type": "code",
      "source": [
        "# Outliers of Numerical Features\n",
        "for feature in num_features:\n",
        " plt.figure(figsize = (15,8))\n",
        " sns.boxplot(work_df[feature])\n",
        " print('#'*100)\n",
        " print(f'Outlier for {feature}: ')\n",
        " print(np.percentile(work_df[feature],75) + 1.5 * (np.percentile(work_df[feature],75) - np.percentile(work_df[feature],25)))\n",
        " print('\\n')\n",
        "\n",
        " plt.title(feature)\n",
        " plt.show()"
      ],
      "metadata": {
        "colab": {
          "base_uri": "https://localhost:8080/",
          "height": 1000
        },
        "id": "e-w9zI_4mnwC",
        "outputId": "b1cb12c5-4409-4188-b43f-07e7df2cae81"
      },
      "execution_count": null,
      "outputs": [
        {
          "output_type": "stream",
          "name": "stdout",
          "text": [
            "####################################################################################################\n",
            "Outlier for start_scan_to_end_scan: \n",
            "3871.0\n",
            "\n",
            "\n"
          ]
        },
        {
          "output_type": "display_data",
          "data": {
            "text/plain": [
              "<Figure size 1080x576 with 1 Axes>"
            ],
            "image/png": "[encoded data removed]"
          },
          "metadata": {
            "needs_background": "light"
          }
        },
        {
          "output_type": "stream",
          "name": "stdout",
          "text": [
            "####################################################################################################\n",
            "Outlier for actual_distance_to_destination: \n",
            "682.2701940854843\n",
            "\n",
            "\n"
          ]
        },
        {
          "output_type": "display_data",
          "data": {
            "text/plain": [
              "<Figure size 1080x576 with 1 Axes>"
            ],
            "image/png": "[encoded data removed]"
          },
          "metadata": {
            "needs_background": "light"
          }
        },
        {
          "output_type": "stream",
          "name": "stdout",
          "text": [
            "####################################################################################################\n",
            "Outlier for actual_time: \n",
            "1213.5\n",
            "\n",
            "\n"
          ]
        },
        {
          "output_type": "display_data",
          "data": {
            "text/plain": [
              "<Figure size 1080x576 with 1 Axes>"
            ],
            "image/png": "[encoded data removed]"
          },
          "metadata": {
            "needs_background": "light"
          }
        },
        {
          "output_type": "stream",
          "name": "stdout",
          "text": [
            "####################################################################################################\n",
            "Outlier for osrm_time: \n",
            "607.0\n",
            "\n",
            "\n"
          ]
        },
        {
          "output_type": "display_data",
          "data": {
            "text/plain": [
              "<Figure size 1080x576 with 1 Axes>"
            ],
            "image/png": "[encoded data removed]"
          },
          "metadata": {
            "needs_background": "light"
          }
        },
        {
          "output_type": "stream",
          "name": "stdout",
          "text": [
            "####################################################################################################\n",
            "Outlier for osrm_distance: \n",
            "820.9191250000001\n",
            "\n",
            "\n"
          ]
        },
        {
          "output_type": "display_data",
          "data": {
            "text/plain": [
              "<Figure size 1080x576 with 1 Axes>"
            ],
            "image/png": "[encoded data removed]"
          },
          "metadata": {
            "needs_background": "light"
          }
        },
        {
          "output_type": "stream",
          "name": "stdout",
          "text": [
            "####################################################################################################\n",
            "Outlier for segment_actual_time: \n",
            "70.0\n",
            "\n",
            "\n"
          ]
        },
        {
          "output_type": "display_data",
          "data": {
            "text/plain": [
              "<Figure size 1080x576 with 1 Axes>"
            ],
            "image/png": "[encoded data removed]"
          },
          "metadata": {
            "needs_background": "light"
          }
        },
        {
          "output_type": "stream",
          "name": "stdout",
          "text": [
            "####################################################################################################\n",
            "Outlier for segment_osrm_time: \n",
            "38.5\n",
            "\n",
            "\n"
          ]
        },
        {
          "output_type": "display_data",
          "data": {
            "text/plain": [
              "<Figure size 1080x576 with 1 Axes>"
            ],
            "image/png": "[encoded data removed]"
          },
          "metadata": {
            "needs_background": "light"
          }
        },
        {
          "output_type": "stream",
          "name": "stdout",
          "text": [
            "####################################################################################################\n",
            "Outlier for segment_osrm_distance: \n",
            "51.45235000000001\n",
            "\n",
            "\n"
          ]
        },
        {
          "output_type": "display_data",
          "data": {
            "text/plain": [
              "<Figure size 1080x576 with 1 Axes>"
            ],
            "image/png": "[encoded data removed]"
          },
          "metadata": {
            "needs_background": "light"
          }
        },
        {
          "output_type": "stream",
          "name": "stdout",
          "text": [
            "####################################################################################################\n",
            "Outlier for Duration_In_Mins: \n",
            "3871.0\n",
            "\n",
            "\n"
          ]
        },
        {
          "output_type": "display_data",
          "data": {
            "text/plain": [
              "<Figure size 1080x576 with 1 Axes>"
            ],
            "image/png": "[encoded data removed]"
          },
          "metadata": {
            "needs_background": "light"
          }
        }
      ]
    },
    {
      "cell_type": "code",
      "source": [
        "# Applying the log as there are outliers\n",
        "for i in num_features:\n",
        "  work_df[i] = np.log(work_df[i])"
      ],
      "metadata": {
        "id": "2CjDWWonmoaT"
      },
      "execution_count": null,
      "outputs": []
    },
    {
      "cell_type": "code",
      "source": [
        "for i in num_features:\n",
        "  plt.figure(figsize=(15,8))\n",
        "  sns.boxplot(work_df[i])\n",
        "  plt.title(i)\n",
        "  plt.show()"
      ],
      "metadata": {
        "colab": {
          "base_uri": "https://localhost:8080/",
          "height": 1000
        },
        "id": "WcmoJYccoZnm",
        "outputId": "21d116db-78ca-4413-d746-9e543e5a40be"
      },
      "execution_count": null,
      "outputs": [
        {
          "output_type": "display_data",
          "data": {
            "text/plain": [
              "<Figure size 1080x576 with 1 Axes>"
            ],
            "image/png": "[encoded data removed]"
          },
          "metadata": {
            "needs_background": "light"
          }
        },
        {
          "output_type": "display_data",
          "data": {
            "text/plain": [
              "<Figure size 1080x576 with 1 Axes>"
            ],
            "image/png": "[encoded data removed]"
          },
          "metadata": {
            "needs_background": "light"
          }
        },
        {
          "output_type": "display_data",
          "data": {
            "text/plain": [
              "<Figure size 1080x576 with 1 Axes>"
            ],
            "image/png": "[encoded data removed]"
          },
          "metadata": {
            "needs_background": "light"
          }
        },
        {
          "output_type": "display_data",
          "data": {
            "text/plain": [
              "<Figure size 1080x576 with 1 Axes>"
            ],
            "image/png": "[encoded data removed]"
          },
          "metadata": {
            "needs_background": "light"
          }
        },
        {
          "output_type": "display_data",
          "data": {
            "text/plain": [
              "<Figure size 1080x576 with 1 Axes>"
            ],
            "image/png": "[encoded data removed]"
          },
          "metadata": {
            "needs_background": "light"
          }
        },
        {
          "output_type": "display_data",
          "data": {
            "text/plain": [
              "<Figure size 1080x576 with 1 Axes>"
            ],
            "image/png": "[encoded data removed]"
          },
          "metadata": {
            "needs_background": "light"
          }
        },
        {
          "output_type": "display_data",
          "data": {
            "text/plain": [
              "<Figure size 1080x576 with 1 Axes>"
            ],
            "image/png": "[encoded data removed]"
          },
          "metadata": {
            "needs_background": "light"
          }
        },
        {
          "output_type": "display_data",
          "data": {
            "text/plain": [
              "<Figure size 1080x576 with 1 Axes>"
            ],
            "image/png": "[encoded data removed]"
          },
          "metadata": {
            "needs_background": "light"
          }
        },
        {
          "output_type": "display_data",
          "data": {
            "text/plain": [
              "<Figure size 1080x576 with 1 Axes>"
            ],
            "image/png": "[encoded data removed]"
          },
          "metadata": {
            "needs_background": "light"
          }
        }
      ]
    },
    {
      "cell_type": "code",
      "source": [
        "for i in num_features:\n",
        " plt.figure(figsize = (20,15))\n",
        " sns.displot(work_df[i],kind='kde')\n",
        " plt.axvline(x = work_df[i].mean(), color = 'b',linestyle='--',label = f'{i} Mean')\n",
        " plt.title(i)\n",
        " plt.legend()\n",
        " plt.show()"
      ],
      "metadata": {
        "colab": {
          "base_uri": "https://localhost:8080/",
          "height": 1000
        },
        "id": "Q3Nhzlnqo95-",
        "outputId": "f3eb4350-bf75-4369-aa7a-29ce78f273e0"
      },
      "execution_count": null,
      "outputs": [
        {
          "output_type": "display_data",
          "data": {
            "text/plain": [
              "<Figure size 1440x1080 with 0 Axes>"
            ]
          },
          "metadata": {}
        },
        {
          "output_type": "display_data",
          "data": {
            "text/plain": [
              "<Figure size 360x360 with 1 Axes>"
            ],
            "image/png": "[encoded data removed]"
          },
          "metadata": {
            "needs_background": "light"
          }
        },
        {
          "output_type": "display_data",
          "data": {
            "text/plain": [
              "<Figure size 1440x1080 with 0 Axes>"
            ]
          },
          "metadata": {}
        },
        {
          "output_type": "display_data",
          "data": {
            "text/plain": [
              "<Figure size 360x360 with 1 Axes>"
            ],
            "image/png": "[encoded data removed]"
          },
          "metadata": {
            "needs_background": "light"
          }
        },
        {
          "output_type": "display_data",
          "data": {
            "text/plain": [
              "<Figure size 1440x1080 with 0 Axes>"
            ]
          },
          "metadata": {}
        },
        {
          "output_type": "display_data",
          "data": {
            "text/plain": [
              "<Figure size 360x360 with 1 Axes>"
            ],
            "image/png": "[encoded data removed]"
          },
          "metadata": {
            "needs_background": "light"
          }
        },
        {
          "output_type": "display_data",
          "data": {
            "text/plain": [
              "<Figure size 1440x1080 with 0 Axes>"
            ]
          },
          "metadata": {}
        },
        {
          "output_type": "display_data",
          "data": {
            "text/plain": [
              "<Figure size 360x360 with 1 Axes>"
            ],
            "image/png": "[encoded data removed]"
          },
          "metadata": {
            "needs_background": "light"
          }
        },
        {
          "output_type": "display_data",
          "data": {
            "text/plain": [
              "<Figure size 1440x1080 with 0 Axes>"
            ]
          },
          "metadata": {}
        },
        {
          "output_type": "display_data",
          "data": {
            "text/plain": [
              "<Figure size 360x360 with 1 Axes>"
            ],
            "image/png": "[encoded data removed]"
          },
          "metadata": {
            "needs_background": "light"
          }
        },
        {
          "output_type": "display_data",
          "data": {
            "text/plain": [
              "<Figure size 1440x1080 with 0 Axes>"
            ]
          },
          "metadata": {}
        },
        {
          "output_type": "display_data",
          "data": {
            "text/plain": [
              "<Figure size 360x360 with 1 Axes>"
            ],
            "image/png": "[encoded data removed]"
          },
          "metadata": {
            "needs_background": "light"
          }
        },
        {
          "output_type": "display_data",
          "data": {
            "text/plain": [
              "<Figure size 1440x1080 with 0 Axes>"
            ]
          },
          "metadata": {}
        },
        {
          "output_type": "display_data",
          "data": {
            "text/plain": [
              "<Figure size 360x360 with 1 Axes>"
            ],
            "image/png": "[encoded data removed]"
          },
          "metadata": {
            "needs_background": "light"
          }
        },
        {
          "output_type": "display_data",
          "data": {
            "text/plain": [
              "<Figure size 1440x1080 with 0 Axes>"
            ]
          },
          "metadata": {}
        },
        {
          "output_type": "display_data",
          "data": {
            "text/plain": [
              "<Figure size 360x360 with 1 Axes>"
            ],
            "image/png": "[encoded data removed]"
          },
          "metadata": {
            "needs_background": "light"
          }
        },
        {
          "output_type": "display_data",
          "data": {
            "text/plain": [
              "<Figure size 1440x1080 with 0 Axes>"
            ]
          },
          "metadata": {}
        },
        {
          "output_type": "display_data",
          "data": {
            "text/plain": [
              "<Figure size 360x360 with 1 Axes>"
            ],
            "image/png": "[encoded data removed]"
          },
          "metadata": {
            "needs_background": "light"
          }
        }
      ]
    },
    {
      "cell_type": "code",
      "source": [
        "# Bi-variate analysis of Categorical Features\n",
        "for i in cat_features:\n",
        " plt.figure(figsize = (20,15))\n",
        " sns.displot(data=work_df,x = i)\n",
        " plt.title(i)\n",
        "\n",
        " plt.show()"
      ],
      "metadata": {
        "colab": {
          "base_uri": "https://localhost:8080/",
          "height": 1000
        },
        "id": "aWxOdtC3uKaO",
        "outputId": "d44c7a04-98ac-4016-afdd-0500eb0b0491"
      },
      "execution_count": null,
      "outputs": [
        {
          "output_type": "display_data",
          "data": {
            "text/plain": [
              "<Figure size 1440x1080 with 0 Axes>"
            ]
          },
          "metadata": {}
        },
        {
          "output_type": "display_data",
          "data": {
            "text/plain": [
              "<Figure size 360x360 with 1 Axes>"
            ],
            "image/png": "[encoded data removed]"
          },
          "metadata": {
            "needs_background": "light"
          }
        },
        {
          "output_type": "display_data",
          "data": {
            "text/plain": [
              "<Figure size 1440x1080 with 0 Axes>"
            ]
          },
          "metadata": {}
        },
        {
          "output_type": "display_data",
          "data": {
            "text/plain": [
              "<Figure size 360x360 with 1 Axes>"
            ],
            "image/png": "[encoded data removed]"
          },
          "metadata": {
            "needs_background": "light"
          }
        },
        {
          "output_type": "display_data",
          "data": {
            "text/plain": [
              "<Figure size 1440x1080 with 0 Axes>"
            ]
          },
          "metadata": {}
        },
        {
          "output_type": "display_data",
          "data": {
            "text/plain": [
              "<Figure size 360x360 with 1 Axes>"
            ],
            "image/png": "[encoded data removed]"
          },
          "metadata": {
            "needs_background": "light"
          }
        },
        {
          "output_type": "display_data",
          "data": {
            "text/plain": [
              "<Figure size 1440x1080 with 0 Axes>"
            ]
          },
          "metadata": {}
        },
        {
          "output_type": "display_data",
          "data": {
            "text/plain": [
              "<Figure size 360x360 with 1 Axes>"
            ],
            "image/png": "[encoded data removed]"
          },
          "metadata": {
            "needs_background": "light"
          }
        },
        {
          "output_type": "display_data",
          "data": {
            "text/plain": [
              "<Figure size 1440x1080 with 0 Axes>"
            ]
          },
          "metadata": {}
        },
        {
          "output_type": "display_data",
          "data": {
            "text/plain": [
              "<Figure size 360x360 with 1 Axes>"
            ],
            "image/png": "[encoded data removed]"
          },
          "metadata": {
            "needs_background": "light"
          }
        },
        {
          "output_type": "display_data",
          "data": {
            "text/plain": [
              "<Figure size 1440x1080 with 0 Axes>"
            ]
          },
          "metadata": {}
        },
        {
          "output_type": "display_data",
          "data": {
            "text/plain": [
              "<Figure size 360x360 with 1 Axes>"
            ],
            "image/png": "[encoded data removed]"
          },
          "metadata": {
            "needs_background": "light"
          }
        },
        {
          "output_type": "display_data",
          "data": {
            "text/plain": [
              "<Figure size 1440x1080 with 0 Axes>"
            ]
          },
          "metadata": {}
        },
        {
          "output_type": "display_data",
          "data": {
            "text/plain": [
              "<Figure size 360x360 with 1 Axes>"
            ],
            "image/png": "[encoded data removed]"
          },
          "metadata": {
            "needs_background": "light"
          }
        },
        {
          "output_type": "display_data",
          "data": {
            "text/plain": [
              "<Figure size 1440x1080 with 0 Axes>"
            ]
          },
          "metadata": {}
        },
        {
          "output_type": "display_data",
          "data": {
            "text/plain": [
              "<Figure size 360x360 with 1 Axes>"
            ],
            "image/png": "[encoded data removed]"
          },
          "metadata": {
            "needs_background": "light"
          }
        },
        {
          "output_type": "display_data",
          "data": {
            "text/plain": [
              "<Figure size 1440x1080 with 0 Axes>"
            ]
          },
          "metadata": {}
        },
        {
          "output_type": "display_data",
          "data": {
            "text/plain": [
              "<Figure size 360x360 with 1 Axes>"
            ],
            "image/png": "[encoded data removed]"
          },
          "metadata": {
            "needs_background": "light"
          }
        },
        {
          "output_type": "display_data",
          "data": {
            "text/plain": [
              "<Figure size 1440x1080 with 0 Axes>"
            ]
          },
          "metadata": {}
        },
        {
          "output_type": "display_data",
          "data": {
            "text/plain": [
              "<Figure size 360x360 with 1 Axes>"
            ],
            "image/png": "[encoded data removed]"
          },
          "metadata": {
            "needs_background": "light"
          }
        },
        {
          "output_type": "display_data",
          "data": {
            "text/plain": [
              "<Figure size 1440x1080 with 0 Axes>"
            ]
          },
          "metadata": {}
        },
        {
          "output_type": "display_data",
          "data": {
            "text/plain": [
              "<Figure size 360x360 with 1 Axes>"
            ],
            "image/png": "[encoded data removed]"
          },
          "metadata": {
            "needs_background": "light"
          }
        }
      ]
    },
    {
      "cell_type": "code",
      "source": [
        "sns.displot(data=work_df, x = od_time_diff, hue='route_type')"
      ],
      "metadata": {
        "colab": {
          "base_uri": "https://localhost:8080/",
          "height": 386
        },
        "id": "VO7IiFsHu1hz",
        "outputId": "02986e36-0ee4-4598-f9d4-df193ea67a49"
      },
      "execution_count": null,
      "outputs": [
        {
          "output_type": "execute_result",
          "data": {
            "text/plain": [
              "<seaborn.axisgrid.FacetGrid at 0x7f7350063e90>"
            ]
          },
          "metadata": {},
          "execution_count": 131
        },
        {
          "output_type": "display_data",
          "data": {
            "text/plain": [
              "<Figure size 432.625x360 with 1 Axes>"
            ],
            "image/png": "[encoded data removed]"
          },
          "metadata": {
            "needs_background": "light"
          }
        }
      ]
    },
    {
      "cell_type": "code",
      "source": [
        "plt.figure(figsize=(20, 20))\n",
        "sns.heatmap(work_df.corr(), annot=True)\n",
        "plt.show()"
      ],
      "metadata": {
        "colab": {
          "base_uri": "https://localhost:8080/",
          "height": 1000
        },
        "id": "aF_batGZvi1E",
        "outputId": "d7689e8c-a0da-426e-c96a-118626ff5dc7"
      },
      "execution_count": null,
      "outputs": [
        {
          "output_type": "display_data",
          "data": {
            "text/plain": [
              "<Figure size 1440x1440 with 2 Axes>"
            ],
            "image/png": "[encoded data removed]"
          },
          "metadata": {
            "needs_background": "light"
          }
        }
      ]
    },
    {
      "cell_type": "markdown",
      "source": [
        "### Relationship Analysis and Hypothesis Testing"
      ],
      "metadata": {
        "id": "ICKhprMVrBOr"
      }
    },
    {
      "cell_type": "markdown",
      "source": [
        "###### Compare the difference between Point a. and start_scan_to_end_scan\n",
        "\n",
        "Ho: Mean OD start and end time difference = Start to End Scan mean\n",
        "H1: Mean OD start and end time difference != Start to End Scan mean"
      ],
      "metadata": {
        "id": "JSKvyqbTrfnd"
      }
    },
    {
      "cell_type": "code",
      "source": [
        "print(f\"OD Start and End Time Difference: {shapiro(work_df['od_time_diff'])}\")\n",
        "print(f\"start_scan_to_end_scan: {shapiro(work_df['start_scan_to_end_scan'])}\")"
      ],
      "metadata": {
        "colab": {
          "base_uri": "https://localhost:8080/"
        },
        "id": "KKRJv8cGpMxP",
        "outputId": "96bc8c0a-4a64-4851-b361-9a47019a7cfd"
      },
      "execution_count": null,
      "outputs": [
        {
          "output_type": "stream",
          "name": "stdout",
          "text": [
            "OD Start and End Time Difference: ShapiroResult(statistic=0.8055524826049805, pvalue=0.0)\n",
            "start_scan_to_end_scan: ShapiroResult(statistic=0.9491842985153198, pvalue=0.0)\n"
          ]
        }
      ]
    },
    {
      "cell_type": "markdown",
      "source": [
        "##### Based on the p-value, we can fail to accept the Ho"
      ],
      "metadata": {
        "id": "l_q_DMgosHqE"
      }
    },
    {
      "cell_type": "code",
      "source": [
        "stats.kruskal(work_df['od_time_diff'],work_df['start_scan_to_end_scan'])"
      ],
      "metadata": {
        "colab": {
          "base_uri": "https://localhost:8080/"
        },
        "id": "atMgfJI3pNEP",
        "outputId": "42f07424-3765-4e12-997b-9bc310369c3e"
      },
      "execution_count": null,
      "outputs": [
        {
          "output_type": "execute_result",
          "data": {
            "text/plain": [
              "KruskalResult(statistic=216473.29548925217, pvalue=0.0)"
            ]
          },
          "metadata": {},
          "execution_count": 123
        }
      ]
    },
    {
      "cell_type": "markdown",
      "source": [
        "##### Kruskal test too affirms our above observation"
      ],
      "metadata": {
        "id": "W8cczQIosp3q"
      }
    },
    {
      "cell_type": "markdown",
      "source": [
        "##### Do hypothesis testing/ visual analysis between actual_time and OSRM time \n",
        "\n",
        "Ho: Mean Actual time = osrm mean\n",
        "H1: Mean Actual time != osrm mean "
      ],
      "metadata": {
        "id": "Tj855eeps6nF"
      }
    },
    {
      "cell_type": "code",
      "source": [
        "print(f\"Actual time distribution: {shapiro(work_df['actual_time'])}\")\n",
        "print(f\"osrm time distribution: {shapiro(work_df['osrm_time'])}\")"
      ],
      "metadata": {
        "colab": {
          "base_uri": "https://localhost:8080/"
        },
        "id": "XtMazYQWpMdy",
        "outputId": "a7c325e5-2bd4-417e-bd5e-0bc515242016"
      },
      "execution_count": null,
      "outputs": [
        {
          "output_type": "stream",
          "name": "stdout",
          "text": [
            "For actual_time distribution: ShapiroResult(statistic=0.9633338451385498, pvalue=0.0)\n",
            "For osrm_time distribution: ShapiroResult(statistic=0.9560200572013855, pvalue=0.0)\n"
          ]
        }
      ]
    },
    {
      "cell_type": "code",
      "source": [
        "stats.kruskal(work_df['actual_time'],work_df['osrm_time'])"
      ],
      "metadata": {
        "colab": {
          "base_uri": "https://localhost:8080/"
        },
        "id": "ApxBjEiwtn32",
        "outputId": "8daadef2-98df-4927-f96e-662f7603ed63"
      },
      "execution_count": null,
      "outputs": [
        {
          "output_type": "execute_result",
          "data": {
            "text/plain": [
              "KruskalResult(statistic=15256.749500511552, pvalue=0.0)"
            ]
          },
          "metadata": {},
          "execution_count": 125
        }
      ]
    },
    {
      "cell_type": "markdown",
      "source": [
        "### Observations\n",
        "\n",
        "*   FTL form of delivery is the highest as compared to Carting\n",
        "*   Gurgaon is the top source and incidently which is also the top destination\n",
        "*   In terms of start_to_end_scan FTL takes less time as against Carting\n",
        "*   On distance covered, Carting has less distance as compared to FTL\n",
        "*   OD start and end time doesn't show huge difference\n",
        "*   But, actual time and osrm time has significant difference\n",
        "\n"
      ],
      "metadata": {
        "id": "BvgcMO58O-L5"
      }
    },
    {
      "cell_type": "markdown",
      "source": [
        "# Summary\n",
        "\n",
        "Some key recommendations based on the analysis and Observations would be,  \n",
        "\n",
        "*   Delhivery can start to increase number of sub hubs between the long distance hubs to shorten the delivery time especially in high traffic zones\n",
        "*   There are few regions where Delhivery can increase their presence to tap and increase their stake in that market"
      ],
      "metadata": {
        "id": "Z5KoTrhJPGsO"
      }
    }
  ]
}
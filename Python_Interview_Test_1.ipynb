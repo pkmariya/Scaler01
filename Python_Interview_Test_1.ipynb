{
  "nbformat": 4,
  "nbformat_minor": 0,
  "metadata": {
    "colab": {
      "provenance": [],
      "include_colab_link": true
    },
    "kernelspec": {
      "name": "python3",
      "display_name": "Python 3"
    },
    "language_info": {
      "name": "python"
    }
  },
  "cells": [
    {
      "cell_type": "markdown",
      "metadata": {
        "id": "view-in-github",
        "colab_type": "text"
      },
      "source": [
        "<a href=\"https://colab.research.google.com/github/pkmariya/Scaler01/blob/Test-Series/Python_Interview_Test_1.ipynb\" target=\"_parent\"><img src=\"https://colab.research.google.com/assets/colab-badge.svg\" alt=\"Open In Colab\"/></a>"
      ]
    },
    {
      "cell_type": "code",
      "source": [
        "def findCombinationsRecursively( keypad, keys, ans, index, result = ''):\n",
        "\n",
        "  if index == -1:\n",
        "    ans.add(result)\n",
        "    return\n",
        "\n",
        "  digit = keys[index]\n",
        "\n",
        "  length = len(keypad[digit])\n",
        "\n",
        "  for i in range(length):\n",
        "    findCombinationsRecursively(keypad, keys, ans, index - 1, keypad[digit][i] + result)\n",
        "\n"
      ],
      "metadata": {
        "id": "5P8YhMvXmtHR"
      },
      "execution_count": null,
      "outputs": []
    },
    {
      "cell_type": "code",
      "execution_count": null,
      "metadata": {
        "id": "oJc_GAuhiQMo"
      },
      "outputs": [],
      "source": [
        "def findAllCombinations(keypad, keys):\n",
        "\n",
        "  if not keypad or not keys:\n",
        "    return set()\n",
        "\n",
        "  ans = set()\n",
        "\n",
        "  findCombinationsRecursively(keypad, keys, ans, len(keys) - 1)\n",
        "\n",
        "  return ans\n"
      ]
    },
    {
      "cell_type": "code",
      "source": [
        "keypad = {2: ['A', 'B', 'C'],\n",
        "          3: ['D', 'E', 'F'],\n",
        "          4: ['G', 'H', 'I'],\n",
        "          5: ['J', 'K', 'L'],\n",
        "          6: ['M', 'N', 'O'],\n",
        "          7: ['P', 'Q', 'R', 'S'],\n",
        "          8: ['T', 'U', 'V'],\n",
        "          9: ['W', 'X', 'Y', 'Z']}\n",
        "\n",
        "keys = [2, 3, 4]"
      ],
      "metadata": {
        "id": "WfVJGC7kptP1"
      },
      "execution_count": null,
      "outputs": []
    },
    {
      "cell_type": "code",
      "source": [
        "ans = findAllCombinations(keypad, keys)"
      ],
      "metadata": {
        "id": "u81d2_17pyZA"
      },
      "execution_count": null,
      "outputs": []
    },
    {
      "cell_type": "code",
      "source": [
        "print(ans)"
      ],
      "metadata": {
        "colab": {
          "base_uri": "https://localhost:8080/"
        },
        "id": "SSM8zQU5p2Wl",
        "outputId": "4421f57d-6262-490b-bb5e-b5362d75cffc"
      },
      "execution_count": null,
      "outputs": [
        {
          "output_type": "stream",
          "name": "stdout",
          "text": [
            "{'BEH', 'AFG', 'BEI', 'CFG', 'CEH', 'AEI', 'CFI', 'AFI', 'BFI', 'ADI', 'CDH', 'CFH', 'CDI', 'CEG', 'AEH', 'CEI', 'AEG', 'ADG', 'CDG', 'BDG', 'BFH', 'AFH', 'BFG', 'BEG', 'BDI', 'BDH', 'ADH'}\n"
          ]
        }
      ]
    },
    {
      "cell_type": "code",
      "source": [
        "def firstNonRepeating(arr):\n",
        "\n",
        "  freq = {}\n",
        "\n",
        "  for elem in arr:\n",
        "    freq[elem] = 0\n",
        "\n",
        "  for elem in arr:\n",
        "    freq[elem] += 1\n",
        "\n",
        "\n",
        "  for elem in arr:\n",
        "    if freq[elem] == 1:\n",
        "      return elem\n",
        "\n",
        "  return -1"
      ],
      "metadata": {
        "id": "Kie1TUwfp5IP"
      },
      "execution_count": null,
      "outputs": []
    },
    {
      "cell_type": "code",
      "source": [
        "a = [9, 4, 9, 6, 7, 4,6]\n",
        "\n",
        "ans = firstNonRepeating(a)\n",
        "print(ans)"
      ],
      "metadata": {
        "colab": {
          "base_uri": "https://localhost:8080/"
        },
        "id": "Npicd9D_qsU9",
        "outputId": "97209b5d-78e2-4153-e4be-b747d7028d12"
      },
      "execution_count": null,
      "outputs": [
        {
          "output_type": "stream",
          "name": "stdout",
          "text": [
            "7\n"
          ]
        }
      ]
    },
    {
      "cell_type": "code",
      "source": [
        "#Text Processing\n",
        "\n",
        "def process_text(text):\n",
        "    return \" \".join(text.split())\n",
        "  "
      ],
      "metadata": {
        "id": "wJECIC4Hrjan"
      },
      "execution_count": null,
      "outputs": []
    },
    {
      "cell_type": "code",
      "source": [
        "#swapping\n",
        "\n",
        "# a,b = b, a\n",
        "\n",
        "def swap_kth_element(a, k): \n",
        "    \n",
        "    n = len(a)\n",
        "    \n",
        "    #a,b = b,a\n",
        "    a[k-1], a[n-k] = a[n-k], a[k-1]\n",
        "    return a\n",
        "    \n"
      ],
      "metadata": {
        "id": "Was4HwM0tzb8"
      },
      "execution_count": null,
      "outputs": []
    },
    {
      "cell_type": "code",
      "source": [
        "#Add up numbers;\n",
        "\n",
        "No"
      ],
      "metadata": {
        "id": "bDRctmBXuweI"
      },
      "execution_count": null,
      "outputs": []
    }
  ]
}
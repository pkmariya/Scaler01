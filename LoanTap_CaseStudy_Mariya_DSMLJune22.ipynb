{
  "nbformat": 4,
  "nbformat_minor": 0,
  "metadata": {
    "colab": {
      "provenance": [],
      "authorship_tag": "ABX9TyPy4W7v0QMLPyed1OFSMdx7",
      "include_colab_link": true
    },
    "kernelspec": {
      "name": "python3",
      "display_name": "Python 3"
    },
    "language_info": {
      "name": "python"
    }
  },
  "cells": [
    {
      "cell_type": "markdown",
      "metadata": {
        "id": "view-in-github",
        "colab_type": "text"
      },
      "source": [
        "<a href=\"https://colab.research.google.com/github/pkmariya/Scaler01/blob/master/LoanTap_CaseStudy_Mariya_DSMLJune22.ipynb\" target=\"_parent\"><img src=\"https://colab.research.google.com/assets/colab-badge.svg\" alt=\"Open In Colab\"/></a>"
      ]
    },
    {
      "cell_type": "markdown",
      "source": [
        "# Problem Statement:\n",
        "\n",
        "Given a set of attributes for an Individual, determine if a credit line should be extended to them. If so, what should the repayment terms be in business recommendations?"
      ],
      "metadata": {
        "id": "yn4I9gfTT1iP"
      }
    },
    {
      "cell_type": "markdown",
      "source": [
        "# Import required Libraries"
      ],
      "metadata": {
        "id": "HHCgChDYn8U0"
      }
    },
    {
      "cell_type": "markdown",
      "source": [],
      "metadata": {
        "id": "wEP-OlvjnUHQ"
      }
    },
    {
      "cell_type": "code",
      "execution_count": 414,
      "metadata": {
        "id": "5Bb6zOw6YXNH"
      },
      "outputs": [],
      "source": [
        "# Import libraries\n",
        "import numpy as np\n",
        "import pandas as pd\n",
        "import matplotlib.pyplot as plt\n",
        "import seaborn as sns\n",
        "import warnings\n",
        "warnings.filterwarnings('ignore')\n",
        "\n",
        "import datetime"
      ]
    },
    {
      "cell_type": "code",
      "source": [
        "!pip install simple_colors"
      ],
      "metadata": {
        "colab": {
          "base_uri": "https://localhost:8080/"
        },
        "id": "xHr906nzWwb9",
        "outputId": "b36d03a0-7303-434b-ece0-cfed4d337311"
      },
      "execution_count": 415,
      "outputs": [
        {
          "output_type": "stream",
          "name": "stdout",
          "text": [
            "Looking in indexes: https://pypi.org/simple, https://us-python.pkg.dev/colab-wheels/public/simple/\n",
            "Requirement already satisfied: simple_colors in /usr/local/lib/python3.8/dist-packages (0.1.5)\n"
          ]
        }
      ]
    },
    {
      "cell_type": "code",
      "source": [
        "from simple_colors import *"
      ],
      "metadata": {
        "id": "Q6dMLbvNW1Ey"
      },
      "execution_count": 416,
      "outputs": []
    },
    {
      "cell_type": "markdown",
      "source": [
        "# Load the Dataset"
      ],
      "metadata": {
        "id": "nCcFnlVPn6C1"
      }
    },
    {
      "cell_type": "code",
      "source": [
        "# Load the dataset\n",
        "data_df = pd.read_csv('https://d2beiqkhq929f0.cloudfront.net/public_assets/assets/000/003/549/original/logistic_regression.csv?1651045921')"
      ],
      "metadata": {
        "id": "s4l8JTKiYf7y"
      },
      "execution_count": 417,
      "outputs": []
    },
    {
      "cell_type": "markdown",
      "source": [
        "# Statistical Summary of the Dataset"
      ],
      "metadata": {
        "id": "ryzpJv5Cn2xS"
      }
    },
    {
      "cell_type": "code",
      "source": [
        "# Meta data of dataset\n",
        "data_df.info()"
      ],
      "metadata": {
        "colab": {
          "base_uri": "https://localhost:8080/"
        },
        "id": "Do1k_EJJZZPz",
        "outputId": "6d11531d-1fb5-4c9d-a5dc-3cb95d386027"
      },
      "execution_count": 418,
      "outputs": [
        {
          "output_type": "stream",
          "name": "stdout",
          "text": [
            "<class 'pandas.core.frame.DataFrame'>\n",
            "RangeIndex: 396030 entries, 0 to 396029\n",
            "Data columns (total 27 columns):\n",
            " #   Column                Non-Null Count   Dtype  \n",
            "---  ------                --------------   -----  \n",
            " 0   loan_amnt             396030 non-null  float64\n",
            " 1   term                  396030 non-null  object \n",
            " 2   int_rate              396030 non-null  float64\n",
            " 3   installment           396030 non-null  float64\n",
            " 4   grade                 396030 non-null  object \n",
            " 5   sub_grade             396030 non-null  object \n",
            " 6   emp_title             373103 non-null  object \n",
            " 7   emp_length            377729 non-null  object \n",
            " 8   home_ownership        396030 non-null  object \n",
            " 9   annual_inc            396030 non-null  float64\n",
            " 10  verification_status   396030 non-null  object \n",
            " 11  issue_d               396030 non-null  object \n",
            " 12  loan_status           396030 non-null  object \n",
            " 13  purpose               396030 non-null  object \n",
            " 14  title                 394275 non-null  object \n",
            " 15  dti                   396030 non-null  float64\n",
            " 16  earliest_cr_line      396030 non-null  object \n",
            " 17  open_acc              396030 non-null  float64\n",
            " 18  pub_rec               396030 non-null  float64\n",
            " 19  revol_bal             396030 non-null  float64\n",
            " 20  revol_util            395754 non-null  float64\n",
            " 21  total_acc             396030 non-null  float64\n",
            " 22  initial_list_status   396030 non-null  object \n",
            " 23  application_type      396030 non-null  object \n",
            " 24  mort_acc              358235 non-null  float64\n",
            " 25  pub_rec_bankruptcies  395495 non-null  float64\n",
            " 26  address               396030 non-null  object \n",
            "dtypes: float64(12), object(15)\n",
            "memory usage: 81.6+ MB\n"
          ]
        }
      ]
    },
    {
      "cell_type": "code",
      "source": [
        "# Description of the dataset\n",
        "data_df.describe()"
      ],
      "metadata": {
        "colab": {
          "base_uri": "https://localhost:8080/",
          "height": 300
        },
        "id": "vR-CGZaJZkoC",
        "outputId": "57aa089a-e3da-41cb-e0bf-4146746c84f6"
      },
      "execution_count": 419,
      "outputs": [
        {
          "output_type": "execute_result",
          "data": {
            "text/plain": [
              "           loan_amnt       int_rate    installment    annual_inc  \\\n",
              "count  396030.000000  396030.000000  396030.000000  3.960300e+05   \n",
              "mean    14113.888089      13.639400     431.849698  7.420318e+04   \n",
              "std      8357.441341       4.472157     250.727790  6.163762e+04   \n",
              "min       500.000000       5.320000      16.080000  0.000000e+00   \n",
              "25%      8000.000000      10.490000     250.330000  4.500000e+04   \n",
              "50%     12000.000000      13.330000     375.430000  6.400000e+04   \n",
              "75%     20000.000000      16.490000     567.300000  9.000000e+04   \n",
              "max     40000.000000      30.990000    1533.810000  8.706582e+06   \n",
              "\n",
              "                 dti       open_acc        pub_rec     revol_bal  \\\n",
              "count  396030.000000  396030.000000  396030.000000  3.960300e+05   \n",
              "mean       17.379514      11.311153       0.178191  1.584454e+04   \n",
              "std        18.019092       5.137649       0.530671  2.059184e+04   \n",
              "min         0.000000       0.000000       0.000000  0.000000e+00   \n",
              "25%        11.280000       8.000000       0.000000  6.025000e+03   \n",
              "50%        16.910000      10.000000       0.000000  1.118100e+04   \n",
              "75%        22.980000      14.000000       0.000000  1.962000e+04   \n",
              "max      9999.000000      90.000000      86.000000  1.743266e+06   \n",
              "\n",
              "          revol_util      total_acc       mort_acc  pub_rec_bankruptcies  \n",
              "count  395754.000000  396030.000000  358235.000000         395495.000000  \n",
              "mean       53.791749      25.414744       1.813991              0.121648  \n",
              "std        24.452193      11.886991       2.147930              0.356174  \n",
              "min         0.000000       2.000000       0.000000              0.000000  \n",
              "25%        35.800000      17.000000       0.000000              0.000000  \n",
              "50%        54.800000      24.000000       1.000000              0.000000  \n",
              "75%        72.900000      32.000000       3.000000              0.000000  \n",
              "max       892.300000     151.000000      34.000000              8.000000  "
            ],
            "text/html": [
              "\n",
              "  <div id=\"df-1cc158e0-9c84-4555-9d5d-65fafbc0e2e0\">\n",
              "    <div class=\"colab-df-container\">\n",
              "      <div>\n",
              "<style scoped>\n",
              "    .dataframe tbody tr th:only-of-type {\n",
              "        vertical-align: middle;\n",
              "    }\n",
              "\n",
              "    .dataframe tbody tr th {\n",
              "        vertical-align: top;\n",
              "    }\n",
              "\n",
              "    .dataframe thead th {\n",
              "        text-align: right;\n",
              "    }\n",
              "</style>\n",
              "<table border=\"1\" class=\"dataframe\">\n",
              "  <thead>\n",
              "    <tr style=\"text-align: right;\">\n",
              "      <th></th>\n",
              "      <th>loan_amnt</th>\n",
              "      <th>int_rate</th>\n",
              "      <th>installment</th>\n",
              "      <th>annual_inc</th>\n",
              "      <th>dti</th>\n",
              "      <th>open_acc</th>\n",
              "      <th>pub_rec</th>\n",
              "      <th>revol_bal</th>\n",
              "      <th>revol_util</th>\n",
              "      <th>total_acc</th>\n",
              "      <th>mort_acc</th>\n",
              "      <th>pub_rec_bankruptcies</th>\n",
              "    </tr>\n",
              "  </thead>\n",
              "  <tbody>\n",
              "    <tr>\n",
              "      <th>count</th>\n",
              "      <td>396030.000000</td>\n",
              "      <td>396030.000000</td>\n",
              "      <td>396030.000000</td>\n",
              "      <td>3.960300e+05</td>\n",
              "      <td>396030.000000</td>\n",
              "      <td>396030.000000</td>\n",
              "      <td>396030.000000</td>\n",
              "      <td>3.960300e+05</td>\n",
              "      <td>395754.000000</td>\n",
              "      <td>396030.000000</td>\n",
              "      <td>358235.000000</td>\n",
              "      <td>395495.000000</td>\n",
              "    </tr>\n",
              "    <tr>\n",
              "      <th>mean</th>\n",
              "      <td>14113.888089</td>\n",
              "      <td>13.639400</td>\n",
              "      <td>431.849698</td>\n",
              "      <td>7.420318e+04</td>\n",
              "      <td>17.379514</td>\n",
              "      <td>11.311153</td>\n",
              "      <td>0.178191</td>\n",
              "      <td>1.584454e+04</td>\n",
              "      <td>53.791749</td>\n",
              "      <td>25.414744</td>\n",
              "      <td>1.813991</td>\n",
              "      <td>0.121648</td>\n",
              "    </tr>\n",
              "    <tr>\n",
              "      <th>std</th>\n",
              "      <td>8357.441341</td>\n",
              "      <td>4.472157</td>\n",
              "      <td>250.727790</td>\n",
              "      <td>6.163762e+04</td>\n",
              "      <td>18.019092</td>\n",
              "      <td>5.137649</td>\n",
              "      <td>0.530671</td>\n",
              "      <td>2.059184e+04</td>\n",
              "      <td>24.452193</td>\n",
              "      <td>11.886991</td>\n",
              "      <td>2.147930</td>\n",
              "      <td>0.356174</td>\n",
              "    </tr>\n",
              "    <tr>\n",
              "      <th>min</th>\n",
              "      <td>500.000000</td>\n",
              "      <td>5.320000</td>\n",
              "      <td>16.080000</td>\n",
              "      <td>0.000000e+00</td>\n",
              "      <td>0.000000</td>\n",
              "      <td>0.000000</td>\n",
              "      <td>0.000000</td>\n",
              "      <td>0.000000e+00</td>\n",
              "      <td>0.000000</td>\n",
              "      <td>2.000000</td>\n",
              "      <td>0.000000</td>\n",
              "      <td>0.000000</td>\n",
              "    </tr>\n",
              "    <tr>\n",
              "      <th>25%</th>\n",
              "      <td>8000.000000</td>\n",
              "      <td>10.490000</td>\n",
              "      <td>250.330000</td>\n",
              "      <td>4.500000e+04</td>\n",
              "      <td>11.280000</td>\n",
              "      <td>8.000000</td>\n",
              "      <td>0.000000</td>\n",
              "      <td>6.025000e+03</td>\n",
              "      <td>35.800000</td>\n",
              "      <td>17.000000</td>\n",
              "      <td>0.000000</td>\n",
              "      <td>0.000000</td>\n",
              "    </tr>\n",
              "    <tr>\n",
              "      <th>50%</th>\n",
              "      <td>12000.000000</td>\n",
              "      <td>13.330000</td>\n",
              "      <td>375.430000</td>\n",
              "      <td>6.400000e+04</td>\n",
              "      <td>16.910000</td>\n",
              "      <td>10.000000</td>\n",
              "      <td>0.000000</td>\n",
              "      <td>1.118100e+04</td>\n",
              "      <td>54.800000</td>\n",
              "      <td>24.000000</td>\n",
              "      <td>1.000000</td>\n",
              "      <td>0.000000</td>\n",
              "    </tr>\n",
              "    <tr>\n",
              "      <th>75%</th>\n",
              "      <td>20000.000000</td>\n",
              "      <td>16.490000</td>\n",
              "      <td>567.300000</td>\n",
              "      <td>9.000000e+04</td>\n",
              "      <td>22.980000</td>\n",
              "      <td>14.000000</td>\n",
              "      <td>0.000000</td>\n",
              "      <td>1.962000e+04</td>\n",
              "      <td>72.900000</td>\n",
              "      <td>32.000000</td>\n",
              "      <td>3.000000</td>\n",
              "      <td>0.000000</td>\n",
              "    </tr>\n",
              "    <tr>\n",
              "      <th>max</th>\n",
              "      <td>40000.000000</td>\n",
              "      <td>30.990000</td>\n",
              "      <td>1533.810000</td>\n",
              "      <td>8.706582e+06</td>\n",
              "      <td>9999.000000</td>\n",
              "      <td>90.000000</td>\n",
              "      <td>86.000000</td>\n",
              "      <td>1.743266e+06</td>\n",
              "      <td>892.300000</td>\n",
              "      <td>151.000000</td>\n",
              "      <td>34.000000</td>\n",
              "      <td>8.000000</td>\n",
              "    </tr>\n",
              "  </tbody>\n",
              "</table>\n",
              "</div>\n",
              "      <button class=\"colab-df-convert\" onclick=\"convertToInteractive('df-1cc158e0-9c84-4555-9d5d-65fafbc0e2e0')\"\n",
              "              title=\"Convert this dataframe to an interactive table.\"\n",
              "              style=\"display:none;\">\n",
              "        \n",
              "  <svg xmlns=\"http://www.w3.org/2000/svg\" height=\"24px\"viewBox=\"0 0 24 24\"\n",
              "       width=\"24px\">\n",
              "    <path d=\"M0 0h24v24H0V0z\" fill=\"none\"/>\n",
              "    <path d=\"M18.56 5.44l.94 2.06.94-2.06 2.06-.94-2.06-.94-.94-2.06-.94 2.06-2.06.94zm-11 1L8.5 8.5l.94-2.06 2.06-.94-2.06-.94L8.5 2.5l-.94 2.06-2.06.94zm10 10l.94 2.06.94-2.06 2.06-.94-2.06-.94-.94-2.06-.94 2.06-2.06.94z\"/><path d=\"M17.41 7.96l-1.37-1.37c-.4-.4-.92-.59-1.43-.59-.52 0-1.04.2-1.43.59L10.3 9.45l-7.72 7.72c-.78.78-.78 2.05 0 2.83L4 21.41c.39.39.9.59 1.41.59.51 0 1.02-.2 1.41-.59l7.78-7.78 2.81-2.81c.8-.78.8-2.07 0-2.86zM5.41 20L4 18.59l7.72-7.72 1.47 1.35L5.41 20z\"/>\n",
              "  </svg>\n",
              "      </button>\n",
              "      \n",
              "  <style>\n",
              "    .colab-df-container {\n",
              "      display:flex;\n",
              "      flex-wrap:wrap;\n",
              "      gap: 12px;\n",
              "    }\n",
              "\n",
              "    .colab-df-convert {\n",
              "      background-color: #E8F0FE;\n",
              "      border: none;\n",
              "      border-radius: 50%;\n",
              "      cursor: pointer;\n",
              "      display: none;\n",
              "      fill: #1967D2;\n",
              "      height: 32px;\n",
              "      padding: 0 0 0 0;\n",
              "      width: 32px;\n",
              "    }\n",
              "\n",
              "    .colab-df-convert:hover {\n",
              "      background-color: #E2EBFA;\n",
              "      box-shadow: 0px 1px 2px rgba(60, 64, 67, 0.3), 0px 1px 3px 1px rgba(60, 64, 67, 0.15);\n",
              "      fill: #174EA6;\n",
              "    }\n",
              "\n",
              "    [theme=dark] .colab-df-convert {\n",
              "      background-color: #3B4455;\n",
              "      fill: #D2E3FC;\n",
              "    }\n",
              "\n",
              "    [theme=dark] .colab-df-convert:hover {\n",
              "      background-color: #434B5C;\n",
              "      box-shadow: 0px 1px 3px 1px rgba(0, 0, 0, 0.15);\n",
              "      filter: drop-shadow(0px 1px 2px rgba(0, 0, 0, 0.3));\n",
              "      fill: #FFFFFF;\n",
              "    }\n",
              "  </style>\n",
              "\n",
              "      <script>\n",
              "        const buttonEl =\n",
              "          document.querySelector('#df-1cc158e0-9c84-4555-9d5d-65fafbc0e2e0 button.colab-df-convert');\n",
              "        buttonEl.style.display =\n",
              "          google.colab.kernel.accessAllowed ? 'block' : 'none';\n",
              "\n",
              "        async function convertToInteractive(key) {\n",
              "          const element = document.querySelector('#df-1cc158e0-9c84-4555-9d5d-65fafbc0e2e0');\n",
              "          const dataTable =\n",
              "            await google.colab.kernel.invokeFunction('convertToInteractive',\n",
              "                                                     [key], {});\n",
              "          if (!dataTable) return;\n",
              "\n",
              "          const docLinkHtml = 'Like what you see? Visit the ' +\n",
              "            '<a target=\"_blank\" href=https://colab.research.google.com/notebooks/data_table.ipynb>data table notebook</a>'\n",
              "            + ' to learn more about interactive tables.';\n",
              "          element.innerHTML = '';\n",
              "          dataTable['output_type'] = 'display_data';\n",
              "          await google.colab.output.renderOutput(dataTable, element);\n",
              "          const docLink = document.createElement('div');\n",
              "          docLink.innerHTML = docLinkHtml;\n",
              "          element.appendChild(docLink);\n",
              "        }\n",
              "      </script>\n",
              "    </div>\n",
              "  </div>\n",
              "  "
            ]
          },
          "metadata": {},
          "execution_count": 419
        }
      ]
    },
    {
      "cell_type": "code",
      "source": [
        "data_df.dtypes"
      ],
      "metadata": {
        "colab": {
          "base_uri": "https://localhost:8080/"
        },
        "id": "yv2SY9eHZmz-",
        "outputId": "01cd9ae7-7567-46fd-f4af-fad4d21576f2"
      },
      "execution_count": 420,
      "outputs": [
        {
          "output_type": "execute_result",
          "data": {
            "text/plain": [
              "loan_amnt               float64\n",
              "term                     object\n",
              "int_rate                float64\n",
              "installment             float64\n",
              "grade                    object\n",
              "sub_grade                object\n",
              "emp_title                object\n",
              "emp_length               object\n",
              "home_ownership           object\n",
              "annual_inc              float64\n",
              "verification_status      object\n",
              "issue_d                  object\n",
              "loan_status              object\n",
              "purpose                  object\n",
              "title                    object\n",
              "dti                     float64\n",
              "earliest_cr_line         object\n",
              "open_acc                float64\n",
              "pub_rec                 float64\n",
              "revol_bal               float64\n",
              "revol_util              float64\n",
              "total_acc               float64\n",
              "initial_list_status      object\n",
              "application_type         object\n",
              "mort_acc                float64\n",
              "pub_rec_bankruptcies    float64\n",
              "address                  object\n",
              "dtype: object"
            ]
          },
          "metadata": {},
          "execution_count": 420
        }
      ]
    },
    {
      "cell_type": "code",
      "source": [
        "# Shape of the dataset\n",
        "print(\"Given dataset contains {0} Rows and {1} Columns \".format(data_df.shape[0], data_df.shape[1]))"
      ],
      "metadata": {
        "colab": {
          "base_uri": "https://localhost:8080/"
        },
        "id": "sIntJTZZaG4b",
        "outputId": "9b534dcb-c4c6-49af-a54f-ffaf03f9295e"
      },
      "execution_count": 421,
      "outputs": [
        {
          "output_type": "stream",
          "name": "stdout",
          "text": [
            "Given dataset contains 396030 Rows and 27 Columns \n"
          ]
        }
      ]
    },
    {
      "cell_type": "code",
      "source": [
        "# Unique value counts\n",
        "data_df.nunique()"
      ],
      "metadata": {
        "colab": {
          "base_uri": "https://localhost:8080/"
        },
        "id": "BhXtmsWwaKhv",
        "outputId": "8aa77c6b-3a3a-42bb-add8-79362bc864c1"
      },
      "execution_count": 422,
      "outputs": [
        {
          "output_type": "execute_result",
          "data": {
            "text/plain": [
              "loan_amnt                 1397\n",
              "term                         2\n",
              "int_rate                   566\n",
              "installment              55706\n",
              "grade                        7\n",
              "sub_grade                   35\n",
              "emp_title               173105\n",
              "emp_length                  11\n",
              "home_ownership               6\n",
              "annual_inc               27197\n",
              "verification_status          3\n",
              "issue_d                    115\n",
              "loan_status                  2\n",
              "purpose                     14\n",
              "title                    48817\n",
              "dti                       4262\n",
              "earliest_cr_line           684\n",
              "open_acc                    61\n",
              "pub_rec                     20\n",
              "revol_bal                55622\n",
              "revol_util                1226\n",
              "total_acc                  118\n",
              "initial_list_status          2\n",
              "application_type             3\n",
              "mort_acc                    33\n",
              "pub_rec_bankruptcies         9\n",
              "address                 393700\n",
              "dtype: int64"
            ]
          },
          "metadata": {},
          "execution_count": 422
        }
      ]
    },
    {
      "cell_type": "code",
      "source": [
        "# Count of each object variables \n",
        "def display_value_counts(df):\n",
        "  for col in df.astype('object').columns:\n",
        "    if len(df[col].value_counts())<10:\n",
        "      print(blue(col, ['bold']))\n",
        "      print(df[col].value_counts().to_string(),'\\n')"
      ],
      "metadata": {
        "id": "HPsE07Waazyk"
      },
      "execution_count": 423,
      "outputs": []
    },
    {
      "cell_type": "code",
      "source": [
        "# Call the method to display the value counts\n",
        "display_value_counts(data_df)"
      ],
      "metadata": {
        "colab": {
          "base_uri": "https://localhost:8080/"
        },
        "id": "F4HxBamXEWA4",
        "outputId": "082718a2-586d-4fff-e9f0-3ed454b14139"
      },
      "execution_count": 424,
      "outputs": [
        {
          "output_type": "stream",
          "name": "stdout",
          "text": [
            "\u001b[1;34mterm\u001b[0m\n",
            " 36 months    302005\n",
            " 60 months     94025 \n",
            "\n",
            "\u001b[1;34mgrade\u001b[0m\n",
            "B    116018\n",
            "C    105987\n",
            "A     64187\n",
            "D     63524\n",
            "E     31488\n",
            "F     11772\n",
            "G      3054 \n",
            "\n",
            "\u001b[1;34mhome_ownership\u001b[0m\n",
            "MORTGAGE    198348\n",
            "RENT        159790\n",
            "OWN          37746\n",
            "OTHER          112\n",
            "NONE            31\n",
            "ANY              3 \n",
            "\n",
            "\u001b[1;34mverification_status\u001b[0m\n",
            "Verified           139563\n",
            "Source Verified    131385\n",
            "Not Verified       125082 \n",
            "\n",
            "\u001b[1;34mloan_status\u001b[0m\n",
            "Fully Paid     318357\n",
            "Charged Off     77673 \n",
            "\n",
            "\u001b[1;34minitial_list_status\u001b[0m\n",
            "f    238066\n",
            "w    157964 \n",
            "\n",
            "\u001b[1;34mapplication_type\u001b[0m\n",
            "INDIVIDUAL    395319\n",
            "JOINT            425\n",
            "DIRECT_PAY       286 \n",
            "\n",
            "\u001b[1;34mpub_rec_bankruptcies\u001b[0m\n",
            "0.0    350380\n",
            "1.0     42790\n",
            "2.0      1847\n",
            "3.0       351\n",
            "4.0        82\n",
            "5.0        32\n",
            "6.0         7\n",
            "7.0         4\n",
            "8.0         2 \n",
            "\n"
          ]
        }
      ]
    },
    {
      "cell_type": "markdown",
      "source": [
        "#### **Observations**: \n",
        "*   Loan Term 36 months is more predominant than 60 months\n",
        "*   Grade B and C has more counts than other grades\n",
        "*   In terms of Ownership, 'Mortgage' tops the list\n",
        "*   3/4th of the Customers have fully paid back the loan\n",
        "*   \"Individual\" seems to be the popular amongst the application type  \n",
        "\n",
        "\n"
      ],
      "metadata": {
        "id": "rHeLqLp_lcL6"
      }
    },
    {
      "cell_type": "code",
      "source": [
        "data_df.describe(include='object').T"
      ],
      "metadata": {
        "colab": {
          "base_uri": "https://localhost:8080/",
          "height": 520
        },
        "id": "7vdDh2hTcr8e",
        "outputId": "e46f0ca8-a803-4d41-bf01-eebebdadaaeb"
      },
      "execution_count": 425,
      "outputs": [
        {
          "output_type": "execute_result",
          "data": {
            "text/plain": [
              "                      count  unique                          top    freq\n",
              "term                 396030       2                    36 months  302005\n",
              "grade                396030       7                            B  116018\n",
              "sub_grade            396030      35                           B3   26655\n",
              "emp_title            373103  173105                      Teacher    4389\n",
              "emp_length           377729      11                    10+ years  126041\n",
              "home_ownership       396030       6                     MORTGAGE  198348\n",
              "verification_status  396030       3                     Verified  139563\n",
              "issue_d              396030     115                     Oct-2014   14846\n",
              "loan_status          396030       2                   Fully Paid  318357\n",
              "purpose              396030      14           debt_consolidation  234507\n",
              "title                394275   48817           Debt consolidation  152472\n",
              "earliest_cr_line     396030     684                     Oct-2000    3017\n",
              "initial_list_status  396030       2                            f  238066\n",
              "application_type     396030       3                   INDIVIDUAL  395319\n",
              "address              396030  393700  USCGC Smith\\r\\nFPO AE 70466       8"
            ],
            "text/html": [
              "\n",
              "  <div id=\"df-3d0a566f-1f4e-405b-a837-d953a93e29f7\">\n",
              "    <div class=\"colab-df-container\">\n",
              "      <div>\n",
              "<style scoped>\n",
              "    .dataframe tbody tr th:only-of-type {\n",
              "        vertical-align: middle;\n",
              "    }\n",
              "\n",
              "    .dataframe tbody tr th {\n",
              "        vertical-align: top;\n",
              "    }\n",
              "\n",
              "    .dataframe thead th {\n",
              "        text-align: right;\n",
              "    }\n",
              "</style>\n",
              "<table border=\"1\" class=\"dataframe\">\n",
              "  <thead>\n",
              "    <tr style=\"text-align: right;\">\n",
              "      <th></th>\n",
              "      <th>count</th>\n",
              "      <th>unique</th>\n",
              "      <th>top</th>\n",
              "      <th>freq</th>\n",
              "    </tr>\n",
              "  </thead>\n",
              "  <tbody>\n",
              "    <tr>\n",
              "      <th>term</th>\n",
              "      <td>396030</td>\n",
              "      <td>2</td>\n",
              "      <td>36 months</td>\n",
              "      <td>302005</td>\n",
              "    </tr>\n",
              "    <tr>\n",
              "      <th>grade</th>\n",
              "      <td>396030</td>\n",
              "      <td>7</td>\n",
              "      <td>B</td>\n",
              "      <td>116018</td>\n",
              "    </tr>\n",
              "    <tr>\n",
              "      <th>sub_grade</th>\n",
              "      <td>396030</td>\n",
              "      <td>35</td>\n",
              "      <td>B3</td>\n",
              "      <td>26655</td>\n",
              "    </tr>\n",
              "    <tr>\n",
              "      <th>emp_title</th>\n",
              "      <td>373103</td>\n",
              "      <td>173105</td>\n",
              "      <td>Teacher</td>\n",
              "      <td>4389</td>\n",
              "    </tr>\n",
              "    <tr>\n",
              "      <th>emp_length</th>\n",
              "      <td>377729</td>\n",
              "      <td>11</td>\n",
              "      <td>10+ years</td>\n",
              "      <td>126041</td>\n",
              "    </tr>\n",
              "    <tr>\n",
              "      <th>home_ownership</th>\n",
              "      <td>396030</td>\n",
              "      <td>6</td>\n",
              "      <td>MORTGAGE</td>\n",
              "      <td>198348</td>\n",
              "    </tr>\n",
              "    <tr>\n",
              "      <th>verification_status</th>\n",
              "      <td>396030</td>\n",
              "      <td>3</td>\n",
              "      <td>Verified</td>\n",
              "      <td>139563</td>\n",
              "    </tr>\n",
              "    <tr>\n",
              "      <th>issue_d</th>\n",
              "      <td>396030</td>\n",
              "      <td>115</td>\n",
              "      <td>Oct-2014</td>\n",
              "      <td>14846</td>\n",
              "    </tr>\n",
              "    <tr>\n",
              "      <th>loan_status</th>\n",
              "      <td>396030</td>\n",
              "      <td>2</td>\n",
              "      <td>Fully Paid</td>\n",
              "      <td>318357</td>\n",
              "    </tr>\n",
              "    <tr>\n",
              "      <th>purpose</th>\n",
              "      <td>396030</td>\n",
              "      <td>14</td>\n",
              "      <td>debt_consolidation</td>\n",
              "      <td>234507</td>\n",
              "    </tr>\n",
              "    <tr>\n",
              "      <th>title</th>\n",
              "      <td>394275</td>\n",
              "      <td>48817</td>\n",
              "      <td>Debt consolidation</td>\n",
              "      <td>152472</td>\n",
              "    </tr>\n",
              "    <tr>\n",
              "      <th>earliest_cr_line</th>\n",
              "      <td>396030</td>\n",
              "      <td>684</td>\n",
              "      <td>Oct-2000</td>\n",
              "      <td>3017</td>\n",
              "    </tr>\n",
              "    <tr>\n",
              "      <th>initial_list_status</th>\n",
              "      <td>396030</td>\n",
              "      <td>2</td>\n",
              "      <td>f</td>\n",
              "      <td>238066</td>\n",
              "    </tr>\n",
              "    <tr>\n",
              "      <th>application_type</th>\n",
              "      <td>396030</td>\n",
              "      <td>3</td>\n",
              "      <td>INDIVIDUAL</td>\n",
              "      <td>395319</td>\n",
              "    </tr>\n",
              "    <tr>\n",
              "      <th>address</th>\n",
              "      <td>396030</td>\n",
              "      <td>393700</td>\n",
              "      <td>USCGC Smith\\r\\nFPO AE 70466</td>\n",
              "      <td>8</td>\n",
              "    </tr>\n",
              "  </tbody>\n",
              "</table>\n",
              "</div>\n",
              "      <button class=\"colab-df-convert\" onclick=\"convertToInteractive('df-3d0a566f-1f4e-405b-a837-d953a93e29f7')\"\n",
              "              title=\"Convert this dataframe to an interactive table.\"\n",
              "              style=\"display:none;\">\n",
              "        \n",
              "  <svg xmlns=\"http://www.w3.org/2000/svg\" height=\"24px\"viewBox=\"0 0 24 24\"\n",
              "       width=\"24px\">\n",
              "    <path d=\"M0 0h24v24H0V0z\" fill=\"none\"/>\n",
              "    <path d=\"M18.56 5.44l.94 2.06.94-2.06 2.06-.94-2.06-.94-.94-2.06-.94 2.06-2.06.94zm-11 1L8.5 8.5l.94-2.06 2.06-.94-2.06-.94L8.5 2.5l-.94 2.06-2.06.94zm10 10l.94 2.06.94-2.06 2.06-.94-2.06-.94-.94-2.06-.94 2.06-2.06.94z\"/><path d=\"M17.41 7.96l-1.37-1.37c-.4-.4-.92-.59-1.43-.59-.52 0-1.04.2-1.43.59L10.3 9.45l-7.72 7.72c-.78.78-.78 2.05 0 2.83L4 21.41c.39.39.9.59 1.41.59.51 0 1.02-.2 1.41-.59l7.78-7.78 2.81-2.81c.8-.78.8-2.07 0-2.86zM5.41 20L4 18.59l7.72-7.72 1.47 1.35L5.41 20z\"/>\n",
              "  </svg>\n",
              "      </button>\n",
              "      \n",
              "  <style>\n",
              "    .colab-df-container {\n",
              "      display:flex;\n",
              "      flex-wrap:wrap;\n",
              "      gap: 12px;\n",
              "    }\n",
              "\n",
              "    .colab-df-convert {\n",
              "      background-color: #E8F0FE;\n",
              "      border: none;\n",
              "      border-radius: 50%;\n",
              "      cursor: pointer;\n",
              "      display: none;\n",
              "      fill: #1967D2;\n",
              "      height: 32px;\n",
              "      padding: 0 0 0 0;\n",
              "      width: 32px;\n",
              "    }\n",
              "\n",
              "    .colab-df-convert:hover {\n",
              "      background-color: #E2EBFA;\n",
              "      box-shadow: 0px 1px 2px rgba(60, 64, 67, 0.3), 0px 1px 3px 1px rgba(60, 64, 67, 0.15);\n",
              "      fill: #174EA6;\n",
              "    }\n",
              "\n",
              "    [theme=dark] .colab-df-convert {\n",
              "      background-color: #3B4455;\n",
              "      fill: #D2E3FC;\n",
              "    }\n",
              "\n",
              "    [theme=dark] .colab-df-convert:hover {\n",
              "      background-color: #434B5C;\n",
              "      box-shadow: 0px 1px 3px 1px rgba(0, 0, 0, 0.15);\n",
              "      filter: drop-shadow(0px 1px 2px rgba(0, 0, 0, 0.3));\n",
              "      fill: #FFFFFF;\n",
              "    }\n",
              "  </style>\n",
              "\n",
              "      <script>\n",
              "        const buttonEl =\n",
              "          document.querySelector('#df-3d0a566f-1f4e-405b-a837-d953a93e29f7 button.colab-df-convert');\n",
              "        buttonEl.style.display =\n",
              "          google.colab.kernel.accessAllowed ? 'block' : 'none';\n",
              "\n",
              "        async function convertToInteractive(key) {\n",
              "          const element = document.querySelector('#df-3d0a566f-1f4e-405b-a837-d953a93e29f7');\n",
              "          const dataTable =\n",
              "            await google.colab.kernel.invokeFunction('convertToInteractive',\n",
              "                                                     [key], {});\n",
              "          if (!dataTable) return;\n",
              "\n",
              "          const docLinkHtml = 'Like what you see? Visit the ' +\n",
              "            '<a target=\"_blank\" href=https://colab.research.google.com/notebooks/data_table.ipynb>data table notebook</a>'\n",
              "            + ' to learn more about interactive tables.';\n",
              "          element.innerHTML = '';\n",
              "          dataTable['output_type'] = 'display_data';\n",
              "          await google.colab.output.renderOutput(dataTable, element);\n",
              "          const docLink = document.createElement('div');\n",
              "          docLink.innerHTML = docLinkHtml;\n",
              "          element.appendChild(docLink);\n",
              "        }\n",
              "      </script>\n",
              "    </div>\n",
              "  </div>\n",
              "  "
            ]
          },
          "metadata": {},
          "execution_count": 425
        }
      ]
    },
    {
      "cell_type": "markdown",
      "source": [
        "# Data Pre-Processing and Data Engineering"
      ],
      "metadata": {
        "id": "basyJQZ5ns7Q"
      }
    },
    {
      "cell_type": "markdown",
      "source": [
        "### Missing Values check"
      ],
      "metadata": {
        "id": "iMhuoooNoE5J"
      }
    },
    {
      "cell_type": "code",
      "source": [
        "# Method to check missing values\n",
        "def check_for_missing_values(data):\n",
        "    total_missing_df = data.isna().sum().sort_values(ascending = False)\n",
        "    percentage_missing_df = ((data.isna().sum()/len(data)*100)).sort_values(ascending = False)\n",
        "    missingDF = pd.concat([total_missing_df, round(percentage_missing_df, 2)],axis = 1, keys=['Total', 'Percent'])\n",
        "    return missingDF"
      ],
      "metadata": {
        "id": "UrAkeoh55ns0"
      },
      "execution_count": 426,
      "outputs": []
    },
    {
      "cell_type": "code",
      "source": [
        "# Display the columns those who have Missing Values\n",
        "missing_data = check_for_missing_values(data_df)\n",
        "print(blue(\"Following Features have Missing Values \\n\", ['bold']))\n",
        "missing_data[missing_data[\"Total\"]>0]"
      ],
      "metadata": {
        "colab": {
          "base_uri": "https://localhost:8080/",
          "height": 273
        },
        "id": "Y_DOR6be5sKz",
        "outputId": "a671399d-ea94-4cc2-8a9b-944c512b1e17"
      },
      "execution_count": 427,
      "outputs": [
        {
          "output_type": "stream",
          "name": "stdout",
          "text": [
            "\u001b[1;34mFollowing Features have Missing Values \n",
            "\u001b[0m\n"
          ]
        },
        {
          "output_type": "execute_result",
          "data": {
            "text/plain": [
              "                      Total  Percent\n",
              "mort_acc              37795     9.54\n",
              "emp_title             22927     5.79\n",
              "emp_length            18301     4.62\n",
              "title                  1755     0.44\n",
              "pub_rec_bankruptcies    535     0.14\n",
              "revol_util              276     0.07"
            ],
            "text/html": [
              "\n",
              "  <div id=\"df-99e541ad-dfdb-437c-aba3-397048c7cc92\">\n",
              "    <div class=\"colab-df-container\">\n",
              "      <div>\n",
              "<style scoped>\n",
              "    .dataframe tbody tr th:only-of-type {\n",
              "        vertical-align: middle;\n",
              "    }\n",
              "\n",
              "    .dataframe tbody tr th {\n",
              "        vertical-align: top;\n",
              "    }\n",
              "\n",
              "    .dataframe thead th {\n",
              "        text-align: right;\n",
              "    }\n",
              "</style>\n",
              "<table border=\"1\" class=\"dataframe\">\n",
              "  <thead>\n",
              "    <tr style=\"text-align: right;\">\n",
              "      <th></th>\n",
              "      <th>Total</th>\n",
              "      <th>Percent</th>\n",
              "    </tr>\n",
              "  </thead>\n",
              "  <tbody>\n",
              "    <tr>\n",
              "      <th>mort_acc</th>\n",
              "      <td>37795</td>\n",
              "      <td>9.54</td>\n",
              "    </tr>\n",
              "    <tr>\n",
              "      <th>emp_title</th>\n",
              "      <td>22927</td>\n",
              "      <td>5.79</td>\n",
              "    </tr>\n",
              "    <tr>\n",
              "      <th>emp_length</th>\n",
              "      <td>18301</td>\n",
              "      <td>4.62</td>\n",
              "    </tr>\n",
              "    <tr>\n",
              "      <th>title</th>\n",
              "      <td>1755</td>\n",
              "      <td>0.44</td>\n",
              "    </tr>\n",
              "    <tr>\n",
              "      <th>pub_rec_bankruptcies</th>\n",
              "      <td>535</td>\n",
              "      <td>0.14</td>\n",
              "    </tr>\n",
              "    <tr>\n",
              "      <th>revol_util</th>\n",
              "      <td>276</td>\n",
              "      <td>0.07</td>\n",
              "    </tr>\n",
              "  </tbody>\n",
              "</table>\n",
              "</div>\n",
              "      <button class=\"colab-df-convert\" onclick=\"convertToInteractive('df-99e541ad-dfdb-437c-aba3-397048c7cc92')\"\n",
              "              title=\"Convert this dataframe to an interactive table.\"\n",
              "              style=\"display:none;\">\n",
              "        \n",
              "  <svg xmlns=\"http://www.w3.org/2000/svg\" height=\"24px\"viewBox=\"0 0 24 24\"\n",
              "       width=\"24px\">\n",
              "    <path d=\"M0 0h24v24H0V0z\" fill=\"none\"/>\n",
              "    <path d=\"M18.56 5.44l.94 2.06.94-2.06 2.06-.94-2.06-.94-.94-2.06-.94 2.06-2.06.94zm-11 1L8.5 8.5l.94-2.06 2.06-.94-2.06-.94L8.5 2.5l-.94 2.06-2.06.94zm10 10l.94 2.06.94-2.06 2.06-.94-2.06-.94-.94-2.06-.94 2.06-2.06.94z\"/><path d=\"M17.41 7.96l-1.37-1.37c-.4-.4-.92-.59-1.43-.59-.52 0-1.04.2-1.43.59L10.3 9.45l-7.72 7.72c-.78.78-.78 2.05 0 2.83L4 21.41c.39.39.9.59 1.41.59.51 0 1.02-.2 1.41-.59l7.78-7.78 2.81-2.81c.8-.78.8-2.07 0-2.86zM5.41 20L4 18.59l7.72-7.72 1.47 1.35L5.41 20z\"/>\n",
              "  </svg>\n",
              "      </button>\n",
              "      \n",
              "  <style>\n",
              "    .colab-df-container {\n",
              "      display:flex;\n",
              "      flex-wrap:wrap;\n",
              "      gap: 12px;\n",
              "    }\n",
              "\n",
              "    .colab-df-convert {\n",
              "      background-color: #E8F0FE;\n",
              "      border: none;\n",
              "      border-radius: 50%;\n",
              "      cursor: pointer;\n",
              "      display: none;\n",
              "      fill: #1967D2;\n",
              "      height: 32px;\n",
              "      padding: 0 0 0 0;\n",
              "      width: 32px;\n",
              "    }\n",
              "\n",
              "    .colab-df-convert:hover {\n",
              "      background-color: #E2EBFA;\n",
              "      box-shadow: 0px 1px 2px rgba(60, 64, 67, 0.3), 0px 1px 3px 1px rgba(60, 64, 67, 0.15);\n",
              "      fill: #174EA6;\n",
              "    }\n",
              "\n",
              "    [theme=dark] .colab-df-convert {\n",
              "      background-color: #3B4455;\n",
              "      fill: #D2E3FC;\n",
              "    }\n",
              "\n",
              "    [theme=dark] .colab-df-convert:hover {\n",
              "      background-color: #434B5C;\n",
              "      box-shadow: 0px 1px 3px 1px rgba(0, 0, 0, 0.15);\n",
              "      filter: drop-shadow(0px 1px 2px rgba(0, 0, 0, 0.3));\n",
              "      fill: #FFFFFF;\n",
              "    }\n",
              "  </style>\n",
              "\n",
              "      <script>\n",
              "        const buttonEl =\n",
              "          document.querySelector('#df-99e541ad-dfdb-437c-aba3-397048c7cc92 button.colab-df-convert');\n",
              "        buttonEl.style.display =\n",
              "          google.colab.kernel.accessAllowed ? 'block' : 'none';\n",
              "\n",
              "        async function convertToInteractive(key) {\n",
              "          const element = document.querySelector('#df-99e541ad-dfdb-437c-aba3-397048c7cc92');\n",
              "          const dataTable =\n",
              "            await google.colab.kernel.invokeFunction('convertToInteractive',\n",
              "                                                     [key], {});\n",
              "          if (!dataTable) return;\n",
              "\n",
              "          const docLinkHtml = 'Like what you see? Visit the ' +\n",
              "            '<a target=\"_blank\" href=https://colab.research.google.com/notebooks/data_table.ipynb>data table notebook</a>'\n",
              "            + ' to learn more about interactive tables.';\n",
              "          element.innerHTML = '';\n",
              "          dataTable['output_type'] = 'display_data';\n",
              "          await google.colab.output.renderOutput(dataTable, element);\n",
              "          const docLink = document.createElement('div');\n",
              "          docLink.innerHTML = docLinkHtml;\n",
              "          element.appendChild(docLink);\n",
              "        }\n",
              "      </script>\n",
              "    </div>\n",
              "  </div>\n",
              "  "
            ]
          },
          "metadata": {},
          "execution_count": 427
        }
      ]
    },
    {
      "cell_type": "markdown",
      "source": [
        "#### **Observation**: \n",
        "*   Clearly 'mort_acc', 'emp_title', and 'emp_length' have significant null values. Remaining features have negligible null values which can be dropped.\n",
        "*   Null values in 'emp_title' can be filled with 'Unknown title'\n",
        "*   Null values in 'emp_length' can be imputed with mean value\n",
        "*   'mort_acc' is number of mortgage accounts. We have to impute it with median to it's null values"
      ],
      "metadata": {
        "id": "KPwDuSrcboQo"
      }
    },
    {
      "cell_type": "code",
      "source": [
        "# Take a working copy of the dataset\n",
        "work_df = data_df.copy()"
      ],
      "metadata": {
        "id": "k4qfEsU20Nnq"
      },
      "execution_count": 428,
      "outputs": []
    },
    {
      "cell_type": "code",
      "source": [
        "missing_data = check_for_missing_values(work_df)\n",
        "print(blue(\"Following Features have Missing Values \\n\", ['bold']))\n",
        "missing_data[missing_data[\"Total\"]>0]"
      ],
      "metadata": {
        "colab": {
          "base_uri": "https://localhost:8080/",
          "height": 273
        },
        "id": "wcQqeYpq9tNz",
        "outputId": "b34c9d1e-3e10-45db-8fdf-0dc57d0e79d2"
      },
      "execution_count": 429,
      "outputs": [
        {
          "output_type": "stream",
          "name": "stdout",
          "text": [
            "\u001b[1;34mFollowing Features have Missing Values \n",
            "\u001b[0m\n"
          ]
        },
        {
          "output_type": "execute_result",
          "data": {
            "text/plain": [
              "                      Total  Percent\n",
              "mort_acc              37795     9.54\n",
              "emp_title             22927     5.79\n",
              "emp_length            18301     4.62\n",
              "title                  1755     0.44\n",
              "pub_rec_bankruptcies    535     0.14\n",
              "revol_util              276     0.07"
            ],
            "text/html": [
              "\n",
              "  <div id=\"df-fe47bd0a-afc6-48cb-89b7-4a0ef8090cf3\">\n",
              "    <div class=\"colab-df-container\">\n",
              "      <div>\n",
              "<style scoped>\n",
              "    .dataframe tbody tr th:only-of-type {\n",
              "        vertical-align: middle;\n",
              "    }\n",
              "\n",
              "    .dataframe tbody tr th {\n",
              "        vertical-align: top;\n",
              "    }\n",
              "\n",
              "    .dataframe thead th {\n",
              "        text-align: right;\n",
              "    }\n",
              "</style>\n",
              "<table border=\"1\" class=\"dataframe\">\n",
              "  <thead>\n",
              "    <tr style=\"text-align: right;\">\n",
              "      <th></th>\n",
              "      <th>Total</th>\n",
              "      <th>Percent</th>\n",
              "    </tr>\n",
              "  </thead>\n",
              "  <tbody>\n",
              "    <tr>\n",
              "      <th>mort_acc</th>\n",
              "      <td>37795</td>\n",
              "      <td>9.54</td>\n",
              "    </tr>\n",
              "    <tr>\n",
              "      <th>emp_title</th>\n",
              "      <td>22927</td>\n",
              "      <td>5.79</td>\n",
              "    </tr>\n",
              "    <tr>\n",
              "      <th>emp_length</th>\n",
              "      <td>18301</td>\n",
              "      <td>4.62</td>\n",
              "    </tr>\n",
              "    <tr>\n",
              "      <th>title</th>\n",
              "      <td>1755</td>\n",
              "      <td>0.44</td>\n",
              "    </tr>\n",
              "    <tr>\n",
              "      <th>pub_rec_bankruptcies</th>\n",
              "      <td>535</td>\n",
              "      <td>0.14</td>\n",
              "    </tr>\n",
              "    <tr>\n",
              "      <th>revol_util</th>\n",
              "      <td>276</td>\n",
              "      <td>0.07</td>\n",
              "    </tr>\n",
              "  </tbody>\n",
              "</table>\n",
              "</div>\n",
              "      <button class=\"colab-df-convert\" onclick=\"convertToInteractive('df-fe47bd0a-afc6-48cb-89b7-4a0ef8090cf3')\"\n",
              "              title=\"Convert this dataframe to an interactive table.\"\n",
              "              style=\"display:none;\">\n",
              "        \n",
              "  <svg xmlns=\"http://www.w3.org/2000/svg\" height=\"24px\"viewBox=\"0 0 24 24\"\n",
              "       width=\"24px\">\n",
              "    <path d=\"M0 0h24v24H0V0z\" fill=\"none\"/>\n",
              "    <path d=\"M18.56 5.44l.94 2.06.94-2.06 2.06-.94-2.06-.94-.94-2.06-.94 2.06-2.06.94zm-11 1L8.5 8.5l.94-2.06 2.06-.94-2.06-.94L8.5 2.5l-.94 2.06-2.06.94zm10 10l.94 2.06.94-2.06 2.06-.94-2.06-.94-.94-2.06-.94 2.06-2.06.94z\"/><path d=\"M17.41 7.96l-1.37-1.37c-.4-.4-.92-.59-1.43-.59-.52 0-1.04.2-1.43.59L10.3 9.45l-7.72 7.72c-.78.78-.78 2.05 0 2.83L4 21.41c.39.39.9.59 1.41.59.51 0 1.02-.2 1.41-.59l7.78-7.78 2.81-2.81c.8-.78.8-2.07 0-2.86zM5.41 20L4 18.59l7.72-7.72 1.47 1.35L5.41 20z\"/>\n",
              "  </svg>\n",
              "      </button>\n",
              "      \n",
              "  <style>\n",
              "    .colab-df-container {\n",
              "      display:flex;\n",
              "      flex-wrap:wrap;\n",
              "      gap: 12px;\n",
              "    }\n",
              "\n",
              "    .colab-df-convert {\n",
              "      background-color: #E8F0FE;\n",
              "      border: none;\n",
              "      border-radius: 50%;\n",
              "      cursor: pointer;\n",
              "      display: none;\n",
              "      fill: #1967D2;\n",
              "      height: 32px;\n",
              "      padding: 0 0 0 0;\n",
              "      width: 32px;\n",
              "    }\n",
              "\n",
              "    .colab-df-convert:hover {\n",
              "      background-color: #E2EBFA;\n",
              "      box-shadow: 0px 1px 2px rgba(60, 64, 67, 0.3), 0px 1px 3px 1px rgba(60, 64, 67, 0.15);\n",
              "      fill: #174EA6;\n",
              "    }\n",
              "\n",
              "    [theme=dark] .colab-df-convert {\n",
              "      background-color: #3B4455;\n",
              "      fill: #D2E3FC;\n",
              "    }\n",
              "\n",
              "    [theme=dark] .colab-df-convert:hover {\n",
              "      background-color: #434B5C;\n",
              "      box-shadow: 0px 1px 3px 1px rgba(0, 0, 0, 0.15);\n",
              "      filter: drop-shadow(0px 1px 2px rgba(0, 0, 0, 0.3));\n",
              "      fill: #FFFFFF;\n",
              "    }\n",
              "  </style>\n",
              "\n",
              "      <script>\n",
              "        const buttonEl =\n",
              "          document.querySelector('#df-fe47bd0a-afc6-48cb-89b7-4a0ef8090cf3 button.colab-df-convert');\n",
              "        buttonEl.style.display =\n",
              "          google.colab.kernel.accessAllowed ? 'block' : 'none';\n",
              "\n",
              "        async function convertToInteractive(key) {\n",
              "          const element = document.querySelector('#df-fe47bd0a-afc6-48cb-89b7-4a0ef8090cf3');\n",
              "          const dataTable =\n",
              "            await google.colab.kernel.invokeFunction('convertToInteractive',\n",
              "                                                     [key], {});\n",
              "          if (!dataTable) return;\n",
              "\n",
              "          const docLinkHtml = 'Like what you see? Visit the ' +\n",
              "            '<a target=\"_blank\" href=https://colab.research.google.com/notebooks/data_table.ipynb>data table notebook</a>'\n",
              "            + ' to learn more about interactive tables.';\n",
              "          element.innerHTML = '';\n",
              "          dataTable['output_type'] = 'display_data';\n",
              "          await google.colab.output.renderOutput(dataTable, element);\n",
              "          const docLink = document.createElement('div');\n",
              "          docLink.innerHTML = docLinkHtml;\n",
              "          element.appendChild(docLink);\n",
              "        }\n",
              "      </script>\n",
              "    </div>\n",
              "  </div>\n",
              "  "
            ]
          },
          "metadata": {},
          "execution_count": 429
        }
      ]
    },
    {
      "cell_type": "code",
      "source": [
        "# Imputing missing values of 'emp_title' with 'unknown_title'\n",
        "work_df['emp_title'].fillna('unknown_title', inplace=True)"
      ],
      "metadata": {
        "id": "54BMQlJXetZf"
      },
      "execution_count": 430,
      "outputs": []
    },
    {
      "cell_type": "code",
      "source": [
        "# Imputing null values of 'emp_length' with forward fill method\n",
        "work_df['emp_length'] = work_df['emp_length'].fillna(method='ffill')"
      ],
      "metadata": {
        "id": "85D_enfhhPqA"
      },
      "execution_count": 431,
      "outputs": []
    },
    {
      "cell_type": "code",
      "source": [
        "# Filling null values of 'mort_acc' with median value of 'mort_acc'\n",
        "work_df['mort_acc'].fillna(work_df['mort_acc'].median(), inplace=True)"
      ],
      "metadata": {
        "id": "xuRLmaDAcgmy"
      },
      "execution_count": 432,
      "outputs": []
    },
    {
      "cell_type": "code",
      "source": [
        "# Check for Missing Values now after imputing bigger ones\n",
        "missing_data = check_for_missing_values(work_df)\n",
        "print(blue(\"Following Features have Missing Values \\n\", ['bold']))\n",
        "missing_data[missing_data[\"Total\"]>0]"
      ],
      "metadata": {
        "colab": {
          "base_uri": "https://localhost:8080/",
          "height": 179
        },
        "id": "Q55pOzbBeRv3",
        "outputId": "627b1c7c-6194-4db7-fbc0-73758f8dd41e"
      },
      "execution_count": 433,
      "outputs": [
        {
          "output_type": "stream",
          "name": "stdout",
          "text": [
            "\u001b[1;34mFollowing Features have Missing Values \n",
            "\u001b[0m\n"
          ]
        },
        {
          "output_type": "execute_result",
          "data": {
            "text/plain": [
              "                      Total  Percent\n",
              "title                  1755     0.44\n",
              "pub_rec_bankruptcies    535     0.14\n",
              "revol_util              276     0.07"
            ],
            "text/html": [
              "\n",
              "  <div id=\"df-d7c7fb10-6b1d-4a81-a784-d082cb5bc52e\">\n",
              "    <div class=\"colab-df-container\">\n",
              "      <div>\n",
              "<style scoped>\n",
              "    .dataframe tbody tr th:only-of-type {\n",
              "        vertical-align: middle;\n",
              "    }\n",
              "\n",
              "    .dataframe tbody tr th {\n",
              "        vertical-align: top;\n",
              "    }\n",
              "\n",
              "    .dataframe thead th {\n",
              "        text-align: right;\n",
              "    }\n",
              "</style>\n",
              "<table border=\"1\" class=\"dataframe\">\n",
              "  <thead>\n",
              "    <tr style=\"text-align: right;\">\n",
              "      <th></th>\n",
              "      <th>Total</th>\n",
              "      <th>Percent</th>\n",
              "    </tr>\n",
              "  </thead>\n",
              "  <tbody>\n",
              "    <tr>\n",
              "      <th>title</th>\n",
              "      <td>1755</td>\n",
              "      <td>0.44</td>\n",
              "    </tr>\n",
              "    <tr>\n",
              "      <th>pub_rec_bankruptcies</th>\n",
              "      <td>535</td>\n",
              "      <td>0.14</td>\n",
              "    </tr>\n",
              "    <tr>\n",
              "      <th>revol_util</th>\n",
              "      <td>276</td>\n",
              "      <td>0.07</td>\n",
              "    </tr>\n",
              "  </tbody>\n",
              "</table>\n",
              "</div>\n",
              "      <button class=\"colab-df-convert\" onclick=\"convertToInteractive('df-d7c7fb10-6b1d-4a81-a784-d082cb5bc52e')\"\n",
              "              title=\"Convert this dataframe to an interactive table.\"\n",
              "              style=\"display:none;\">\n",
              "        \n",
              "  <svg xmlns=\"http://www.w3.org/2000/svg\" height=\"24px\"viewBox=\"0 0 24 24\"\n",
              "       width=\"24px\">\n",
              "    <path d=\"M0 0h24v24H0V0z\" fill=\"none\"/>\n",
              "    <path d=\"M18.56 5.44l.94 2.06.94-2.06 2.06-.94-2.06-.94-.94-2.06-.94 2.06-2.06.94zm-11 1L8.5 8.5l.94-2.06 2.06-.94-2.06-.94L8.5 2.5l-.94 2.06-2.06.94zm10 10l.94 2.06.94-2.06 2.06-.94-2.06-.94-.94-2.06-.94 2.06-2.06.94z\"/><path d=\"M17.41 7.96l-1.37-1.37c-.4-.4-.92-.59-1.43-.59-.52 0-1.04.2-1.43.59L10.3 9.45l-7.72 7.72c-.78.78-.78 2.05 0 2.83L4 21.41c.39.39.9.59 1.41.59.51 0 1.02-.2 1.41-.59l7.78-7.78 2.81-2.81c.8-.78.8-2.07 0-2.86zM5.41 20L4 18.59l7.72-7.72 1.47 1.35L5.41 20z\"/>\n",
              "  </svg>\n",
              "      </button>\n",
              "      \n",
              "  <style>\n",
              "    .colab-df-container {\n",
              "      display:flex;\n",
              "      flex-wrap:wrap;\n",
              "      gap: 12px;\n",
              "    }\n",
              "\n",
              "    .colab-df-convert {\n",
              "      background-color: #E8F0FE;\n",
              "      border: none;\n",
              "      border-radius: 50%;\n",
              "      cursor: pointer;\n",
              "      display: none;\n",
              "      fill: #1967D2;\n",
              "      height: 32px;\n",
              "      padding: 0 0 0 0;\n",
              "      width: 32px;\n",
              "    }\n",
              "\n",
              "    .colab-df-convert:hover {\n",
              "      background-color: #E2EBFA;\n",
              "      box-shadow: 0px 1px 2px rgba(60, 64, 67, 0.3), 0px 1px 3px 1px rgba(60, 64, 67, 0.15);\n",
              "      fill: #174EA6;\n",
              "    }\n",
              "\n",
              "    [theme=dark] .colab-df-convert {\n",
              "      background-color: #3B4455;\n",
              "      fill: #D2E3FC;\n",
              "    }\n",
              "\n",
              "    [theme=dark] .colab-df-convert:hover {\n",
              "      background-color: #434B5C;\n",
              "      box-shadow: 0px 1px 3px 1px rgba(0, 0, 0, 0.15);\n",
              "      filter: drop-shadow(0px 1px 2px rgba(0, 0, 0, 0.3));\n",
              "      fill: #FFFFFF;\n",
              "    }\n",
              "  </style>\n",
              "\n",
              "      <script>\n",
              "        const buttonEl =\n",
              "          document.querySelector('#df-d7c7fb10-6b1d-4a81-a784-d082cb5bc52e button.colab-df-convert');\n",
              "        buttonEl.style.display =\n",
              "          google.colab.kernel.accessAllowed ? 'block' : 'none';\n",
              "\n",
              "        async function convertToInteractive(key) {\n",
              "          const element = document.querySelector('#df-d7c7fb10-6b1d-4a81-a784-d082cb5bc52e');\n",
              "          const dataTable =\n",
              "            await google.colab.kernel.invokeFunction('convertToInteractive',\n",
              "                                                     [key], {});\n",
              "          if (!dataTable) return;\n",
              "\n",
              "          const docLinkHtml = 'Like what you see? Visit the ' +\n",
              "            '<a target=\"_blank\" href=https://colab.research.google.com/notebooks/data_table.ipynb>data table notebook</a>'\n",
              "            + ' to learn more about interactive tables.';\n",
              "          element.innerHTML = '';\n",
              "          dataTable['output_type'] = 'display_data';\n",
              "          await google.colab.output.renderOutput(dataTable, element);\n",
              "          const docLink = document.createElement('div');\n",
              "          docLink.innerHTML = docLinkHtml;\n",
              "          element.appendChild(docLink);\n",
              "        }\n",
              "      </script>\n",
              "    </div>\n",
              "  </div>\n",
              "  "
            ]
          },
          "metadata": {},
          "execution_count": 433
        }
      ]
    },
    {
      "cell_type": "code",
      "source": [
        "def pub_rec(val):\n",
        "  if val == 0.0:\n",
        "    return 0\n",
        "  else:\n",
        "    return 1"
      ],
      "metadata": {
        "id": "J_Hou2roPgtC"
      },
      "execution_count": 434,
      "outputs": []
    },
    {
      "cell_type": "code",
      "source": [
        "def mort_acc(val):\n",
        "  if val == 0.0:\n",
        "    return 0\n",
        "  elif val >= 1.0:\n",
        "    return 1\n",
        "  else:\n",
        "    return val"
      ],
      "metadata": {
        "id": "iF_9lz0bQWw5"
      },
      "execution_count": 435,
      "outputs": []
    },
    {
      "cell_type": "code",
      "source": [
        "def pub_rec_bankruptcies(val):\n",
        "  if val == 0.0:\n",
        "    return 0\n",
        "  elif val >= 1.0:\n",
        "    return 1\n",
        "  else: \n",
        "    return val"
      ],
      "metadata": {
        "id": "3_OfWbaIRm1h"
      },
      "execution_count": 436,
      "outputs": []
    },
    {
      "cell_type": "code",
      "source": [
        "work_df['pub_rec'] = work_df.pub_rec.apply(pub_rec)"
      ],
      "metadata": {
        "id": "QtjCcwSmQAZJ"
      },
      "execution_count": 437,
      "outputs": []
    },
    {
      "cell_type": "code",
      "source": [
        "work_df['mort_acc'] = work_df.mort_acc.apply(mort_acc)"
      ],
      "metadata": {
        "id": "q6qkKya_QpCC"
      },
      "execution_count": 438,
      "outputs": []
    },
    {
      "cell_type": "code",
      "source": [
        "work_df['pub_rec_bankruptcies'] = work_df.pub_rec_bankruptcies.apply(pub_rec_bankruptcies)"
      ],
      "metadata": {
        "id": "CjE0qG7rRsWg"
      },
      "execution_count": 439,
      "outputs": []
    },
    {
      "cell_type": "code",
      "source": [
        "missing_data = check_for_missing_values(work_df)\n",
        "print(blue(\"Following Features have Missing Values \\n\", ['bold']))\n",
        "missing_data[missing_data[\"Total\"]>0]"
      ],
      "metadata": {
        "colab": {
          "base_uri": "https://localhost:8080/",
          "height": 179
        },
        "id": "m4LMqxyD-TiC",
        "outputId": "fa19d275-da5d-40d7-91d2-97a3bcf59df2"
      },
      "execution_count": 440,
      "outputs": [
        {
          "output_type": "stream",
          "name": "stdout",
          "text": [
            "\u001b[1;34mFollowing Features have Missing Values \n",
            "\u001b[0m\n"
          ]
        },
        {
          "output_type": "execute_result",
          "data": {
            "text/plain": [
              "                      Total  Percent\n",
              "title                  1755     0.44\n",
              "pub_rec_bankruptcies    535     0.14\n",
              "revol_util              276     0.07"
            ],
            "text/html": [
              "\n",
              "  <div id=\"df-93607ce8-971b-454f-84d3-50c909fd7954\">\n",
              "    <div class=\"colab-df-container\">\n",
              "      <div>\n",
              "<style scoped>\n",
              "    .dataframe tbody tr th:only-of-type {\n",
              "        vertical-align: middle;\n",
              "    }\n",
              "\n",
              "    .dataframe tbody tr th {\n",
              "        vertical-align: top;\n",
              "    }\n",
              "\n",
              "    .dataframe thead th {\n",
              "        text-align: right;\n",
              "    }\n",
              "</style>\n",
              "<table border=\"1\" class=\"dataframe\">\n",
              "  <thead>\n",
              "    <tr style=\"text-align: right;\">\n",
              "      <th></th>\n",
              "      <th>Total</th>\n",
              "      <th>Percent</th>\n",
              "    </tr>\n",
              "  </thead>\n",
              "  <tbody>\n",
              "    <tr>\n",
              "      <th>title</th>\n",
              "      <td>1755</td>\n",
              "      <td>0.44</td>\n",
              "    </tr>\n",
              "    <tr>\n",
              "      <th>pub_rec_bankruptcies</th>\n",
              "      <td>535</td>\n",
              "      <td>0.14</td>\n",
              "    </tr>\n",
              "    <tr>\n",
              "      <th>revol_util</th>\n",
              "      <td>276</td>\n",
              "      <td>0.07</td>\n",
              "    </tr>\n",
              "  </tbody>\n",
              "</table>\n",
              "</div>\n",
              "      <button class=\"colab-df-convert\" onclick=\"convertToInteractive('df-93607ce8-971b-454f-84d3-50c909fd7954')\"\n",
              "              title=\"Convert this dataframe to an interactive table.\"\n",
              "              style=\"display:none;\">\n",
              "        \n",
              "  <svg xmlns=\"http://www.w3.org/2000/svg\" height=\"24px\"viewBox=\"0 0 24 24\"\n",
              "       width=\"24px\">\n",
              "    <path d=\"M0 0h24v24H0V0z\" fill=\"none\"/>\n",
              "    <path d=\"M18.56 5.44l.94 2.06.94-2.06 2.06-.94-2.06-.94-.94-2.06-.94 2.06-2.06.94zm-11 1L8.5 8.5l.94-2.06 2.06-.94-2.06-.94L8.5 2.5l-.94 2.06-2.06.94zm10 10l.94 2.06.94-2.06 2.06-.94-2.06-.94-.94-2.06-.94 2.06-2.06.94z\"/><path d=\"M17.41 7.96l-1.37-1.37c-.4-.4-.92-.59-1.43-.59-.52 0-1.04.2-1.43.59L10.3 9.45l-7.72 7.72c-.78.78-.78 2.05 0 2.83L4 21.41c.39.39.9.59 1.41.59.51 0 1.02-.2 1.41-.59l7.78-7.78 2.81-2.81c.8-.78.8-2.07 0-2.86zM5.41 20L4 18.59l7.72-7.72 1.47 1.35L5.41 20z\"/>\n",
              "  </svg>\n",
              "      </button>\n",
              "      \n",
              "  <style>\n",
              "    .colab-df-container {\n",
              "      display:flex;\n",
              "      flex-wrap:wrap;\n",
              "      gap: 12px;\n",
              "    }\n",
              "\n",
              "    .colab-df-convert {\n",
              "      background-color: #E8F0FE;\n",
              "      border: none;\n",
              "      border-radius: 50%;\n",
              "      cursor: pointer;\n",
              "      display: none;\n",
              "      fill: #1967D2;\n",
              "      height: 32px;\n",
              "      padding: 0 0 0 0;\n",
              "      width: 32px;\n",
              "    }\n",
              "\n",
              "    .colab-df-convert:hover {\n",
              "      background-color: #E2EBFA;\n",
              "      box-shadow: 0px 1px 2px rgba(60, 64, 67, 0.3), 0px 1px 3px 1px rgba(60, 64, 67, 0.15);\n",
              "      fill: #174EA6;\n",
              "    }\n",
              "\n",
              "    [theme=dark] .colab-df-convert {\n",
              "      background-color: #3B4455;\n",
              "      fill: #D2E3FC;\n",
              "    }\n",
              "\n",
              "    [theme=dark] .colab-df-convert:hover {\n",
              "      background-color: #434B5C;\n",
              "      box-shadow: 0px 1px 3px 1px rgba(0, 0, 0, 0.15);\n",
              "      filter: drop-shadow(0px 1px 2px rgba(0, 0, 0, 0.3));\n",
              "      fill: #FFFFFF;\n",
              "    }\n",
              "  </style>\n",
              "\n",
              "      <script>\n",
              "        const buttonEl =\n",
              "          document.querySelector('#df-93607ce8-971b-454f-84d3-50c909fd7954 button.colab-df-convert');\n",
              "        buttonEl.style.display =\n",
              "          google.colab.kernel.accessAllowed ? 'block' : 'none';\n",
              "\n",
              "        async function convertToInteractive(key) {\n",
              "          const element = document.querySelector('#df-93607ce8-971b-454f-84d3-50c909fd7954');\n",
              "          const dataTable =\n",
              "            await google.colab.kernel.invokeFunction('convertToInteractive',\n",
              "                                                     [key], {});\n",
              "          if (!dataTable) return;\n",
              "\n",
              "          const docLinkHtml = 'Like what you see? Visit the ' +\n",
              "            '<a target=\"_blank\" href=https://colab.research.google.com/notebooks/data_table.ipynb>data table notebook</a>'\n",
              "            + ' to learn more about interactive tables.';\n",
              "          element.innerHTML = '';\n",
              "          dataTable['output_type'] = 'display_data';\n",
              "          await google.colab.output.renderOutput(dataTable, element);\n",
              "          const docLink = document.createElement('div');\n",
              "          docLink.innerHTML = docLinkHtml;\n",
              "          element.appendChild(docLink);\n",
              "        }\n",
              "      </script>\n",
              "    </div>\n",
              "  </div>\n",
              "  "
            ]
          },
          "metadata": {},
          "execution_count": 440
        }
      ]
    },
    {
      "cell_type": "code",
      "source": [
        "# As the above columns have compartively less null values, these can be dropped. \n",
        "work_df = work_df.dropna()"
      ],
      "metadata": {
        "id": "WOJMymZAi9g_"
      },
      "execution_count": 441,
      "outputs": []
    },
    {
      "cell_type": "code",
      "source": [
        "work_df.isna().sum() / len(work_df) * 100"
      ],
      "metadata": {
        "colab": {
          "base_uri": "https://localhost:8080/"
        },
        "id": "scGGde9ljKre",
        "outputId": "de414096-6879-451d-b73a-72cdcf16fbb4"
      },
      "execution_count": 442,
      "outputs": [
        {
          "output_type": "execute_result",
          "data": {
            "text/plain": [
              "loan_amnt               0.0\n",
              "term                    0.0\n",
              "int_rate                0.0\n",
              "installment             0.0\n",
              "grade                   0.0\n",
              "sub_grade               0.0\n",
              "emp_title               0.0\n",
              "emp_length              0.0\n",
              "home_ownership          0.0\n",
              "annual_inc              0.0\n",
              "verification_status     0.0\n",
              "issue_d                 0.0\n",
              "loan_status             0.0\n",
              "purpose                 0.0\n",
              "title                   0.0\n",
              "dti                     0.0\n",
              "earliest_cr_line        0.0\n",
              "open_acc                0.0\n",
              "pub_rec                 0.0\n",
              "revol_bal               0.0\n",
              "revol_util              0.0\n",
              "total_acc               0.0\n",
              "initial_list_status     0.0\n",
              "application_type        0.0\n",
              "mort_acc                0.0\n",
              "pub_rec_bankruptcies    0.0\n",
              "address                 0.0\n",
              "dtype: float64"
            ]
          },
          "metadata": {},
          "execution_count": 442
        }
      ]
    },
    {
      "cell_type": "code",
      "source": [
        "# Check for duplicates\n",
        "dup_rows = work_df[work_df.duplicated()]\n",
        "print(blue(\"# of duplicate rows: {0} \".format(dup_rows.shape[0])))"
      ],
      "metadata": {
        "colab": {
          "base_uri": "https://localhost:8080/"
        },
        "id": "gGN5sUh-qeF-",
        "outputId": "26ba4f0a-5a59-432b-b33f-b3caa3f4dd5c"
      },
      "execution_count": 443,
      "outputs": [
        {
          "output_type": "stream",
          "name": "stdout",
          "text": [
            "\u001b[34m# of duplicate rows: 0 \u001b[0m\n"
          ]
        }
      ]
    },
    {
      "cell_type": "markdown",
      "source": [
        "##### **Observation**: Now our dataset is clear without any null/duplicate values."
      ],
      "metadata": {
        "id": "L1poSEvo3M0q"
      }
    },
    {
      "cell_type": "markdown",
      "source": [
        "### Feature Engineering"
      ],
      "metadata": {
        "id": "NKp9Fb5ddkSt"
      }
    },
    {
      "cell_type": "markdown",
      "source": [
        "#### Data Cleaning"
      ],
      "metadata": {
        "id": "TCfuuQqNAhTm"
      }
    },
    {
      "cell_type": "code",
      "source": [
        "work_df['emp_length'].value_counts()"
      ],
      "metadata": {
        "colab": {
          "base_uri": "https://localhost:8080/"
        },
        "id": "m-5W3j_wkqyH",
        "outputId": "e5aafa35-4958-493b-977f-84878d10d7be"
      },
      "execution_count": 444,
      "outputs": [
        {
          "output_type": "execute_result",
          "data": {
            "text/plain": [
              "10+ years    131320\n",
              "2 years       37294\n",
              "< 1 year      33030\n",
              "3 years       32987\n",
              "5 years       27662\n",
              "1 year        26856\n",
              "4 years       24908\n",
              "7 years       21766\n",
              "6 years       21698\n",
              "8 years       19979\n",
              "9 years       15965\n",
              "Name: emp_length, dtype: int64"
            ]
          },
          "metadata": {},
          "execution_count": 444
        }
      ]
    },
    {
      "cell_type": "code",
      "source": [
        "# Convert the emp_length to a numerical column\n",
        "# Before converting the datatype, let's make <1 yrs as 0 years and 10+ yrs to 10 years\n",
        "work_df['emp_length'] = work_df['emp_length'].replace(['< 1 year'], '0 year')\n",
        "work_df['emp_length'] = work_df['emp_length'].replace(['10+ years'], '10 years')"
      ],
      "metadata": {
        "id": "tdX9Pem8tBtc"
      },
      "execution_count": 445,
      "outputs": []
    },
    {
      "cell_type": "code",
      "source": [
        "work_df['emp_length'].value_counts()"
      ],
      "metadata": {
        "colab": {
          "base_uri": "https://localhost:8080/"
        },
        "id": "pxz-ZOOLkzos",
        "outputId": "0262dbf9-e757-4527-95df-e7d768739f70"
      },
      "execution_count": 446,
      "outputs": [
        {
          "output_type": "execute_result",
          "data": {
            "text/plain": [
              "10 years    131320\n",
              "2 years      37294\n",
              "0 year       33030\n",
              "3 years      32987\n",
              "5 years      27662\n",
              "1 year       26856\n",
              "4 years      24908\n",
              "7 years      21766\n",
              "6 years      21698\n",
              "8 years      19979\n",
              "9 years      15965\n",
              "Name: emp_length, dtype: int64"
            ]
          },
          "metadata": {},
          "execution_count": 446
        }
      ]
    },
    {
      "cell_type": "code",
      "source": [
        "work_df[['emp_duration', 'emp_years']] = work_df['emp_length'].str.split(' ', expand=True)"
      ],
      "metadata": {
        "id": "QbGPAjRpk2tP"
      },
      "execution_count": 447,
      "outputs": []
    },
    {
      "cell_type": "code",
      "source": [
        "work_df.drop(['emp_length', 'emp_years'], axis='columns', inplace=True)"
      ],
      "metadata": {
        "id": "z4SeyqLXlmU9"
      },
      "execution_count": 448,
      "outputs": []
    },
    {
      "cell_type": "code",
      "source": [
        "work_df['emp_duration'].value_counts()"
      ],
      "metadata": {
        "colab": {
          "base_uri": "https://localhost:8080/"
        },
        "id": "CJxHJQxFlo5b",
        "outputId": "114e9d30-8ad6-4c96-99fb-6cf8056b3992"
      },
      "execution_count": 449,
      "outputs": [
        {
          "output_type": "execute_result",
          "data": {
            "text/plain": [
              "10    131320\n",
              "2      37294\n",
              "0      33030\n",
              "3      32987\n",
              "5      27662\n",
              "1      26856\n",
              "4      24908\n",
              "7      21766\n",
              "6      21698\n",
              "8      19979\n",
              "9      15965\n",
              "Name: emp_duration, dtype: int64"
            ]
          },
          "metadata": {},
          "execution_count": 449
        }
      ]
    },
    {
      "cell_type": "code",
      "source": [
        "work_df['emp_duration'] = work_df['emp_duration'].astype(int)"
      ],
      "metadata": {
        "id": "YwbZZzVmmOH-"
      },
      "execution_count": 450,
      "outputs": []
    },
    {
      "cell_type": "code",
      "source": [
        "work_df['home_ownership'].unique()"
      ],
      "metadata": {
        "colab": {
          "base_uri": "https://localhost:8080/"
        },
        "id": "OZ-Up9KAd7_8",
        "outputId": "a1d5fbf1-b3c1-4822-99a9-3525d24b77a4"
      },
      "execution_count": 451,
      "outputs": [
        {
          "output_type": "execute_result",
          "data": {
            "text/plain": [
              "array(['RENT', 'MORTGAGE', 'OWN', 'OTHER', 'ANY', 'NONE'], dtype=object)"
            ]
          },
          "metadata": {},
          "execution_count": 451
        }
      ]
    },
    {
      "cell_type": "code",
      "source": [
        "work_df['home_ownership'].replace({\"NONE\":\"OTHER\", \"ANY\": \"OTHER\"}, inplace=True)"
      ],
      "metadata": {
        "id": "iixMcGiYeGJA"
      },
      "execution_count": 452,
      "outputs": []
    },
    {
      "cell_type": "code",
      "source": [
        "work_df['home_ownership'].unique()"
      ],
      "metadata": {
        "colab": {
          "base_uri": "https://localhost:8080/"
        },
        "id": "d3hSFkd-eco6",
        "outputId": "ea127830-daa0-4457-ccba-118a220f6603"
      },
      "execution_count": 453,
      "outputs": [
        {
          "output_type": "execute_result",
          "data": {
            "text/plain": [
              "array(['RENT', 'MORTGAGE', 'OWN', 'OTHER'], dtype=object)"
            ]
          },
          "metadata": {},
          "execution_count": 453
        }
      ]
    },
    {
      "cell_type": "code",
      "source": [
        "# Convert target variable - Loan Status Fully Paid is 0 and Loan Status Charged Off is 1.\n",
        "work_df[\"loan_status\"] = work_df[\"loan_status\"].map({\"Fully Paid\":0, \"Charged Off\":1})"
      ],
      "metadata": {
        "id": "y8CfWeTVwZEV"
      },
      "execution_count": 454,
      "outputs": []
    },
    {
      "cell_type": "code",
      "source": [
        "# Let's convert 'issue_dt' and 'earliest_cr_line' into datatime type\n",
        "work_df['issue_d'] = work_df['issue_d'].astype('datetime64[ns]')\n",
        "work_df['earliest_cr_line'] = work_df['earliest_cr_line'].astype('datetime64[ns]')"
      ],
      "metadata": {
        "id": "hnlnkB05mtiO"
      },
      "execution_count": 455,
      "outputs": []
    },
    {
      "cell_type": "code",
      "source": [
        "now = datetime.datetime.now()\n",
        "work_df['current_date'] = pd.Series([now.date() for x in range(len(work_df.index))])\n",
        "work_df['current_date'] = work_df['current_date'].astype('datetime64[ns]')\n",
        "work_df['credit_line_age'] = (work_df['current_date'] - work_df['earliest_cr_line']) / np.timedelta64(1, 'D')\n",
        "work_df['loan_age'] = (work_df['current_date'] - work_df['issue_d']) / np.timedelta64(1, 'D')\n",
        "work_df.head()\n"
      ],
      "metadata": {
        "colab": {
          "base_uri": "https://localhost:8080/",
          "height": 473
        },
        "id": "N5FJKA6ynHL8",
        "outputId": "286b5b84-c611-43ab-8c3f-04ba408ffa93"
      },
      "execution_count": 456,
      "outputs": [
        {
          "output_type": "execute_result",
          "data": {
            "text/plain": [
              "   loan_amnt        term  int_rate  installment grade sub_grade  \\\n",
              "0    10000.0   36 months     11.44       329.48     B        B4   \n",
              "1     8000.0   36 months     11.99       265.68     B        B5   \n",
              "2    15600.0   36 months     10.49       506.97     B        B3   \n",
              "3     7200.0   36 months      6.49       220.65     A        A2   \n",
              "4    24375.0   60 months     17.27       609.33     C        C5   \n",
              "\n",
              "                 emp_title home_ownership  annual_inc verification_status  \\\n",
              "0                Marketing           RENT    117000.0        Not Verified   \n",
              "1          Credit analyst        MORTGAGE     65000.0        Not Verified   \n",
              "2             Statistician           RENT     43057.0     Source Verified   \n",
              "3          Client Advocate           RENT     54000.0        Not Verified   \n",
              "4  Destiny Management Inc.       MORTGAGE     55000.0            Verified   \n",
              "\n",
              "   ... total_acc  initial_list_status application_type mort_acc  \\\n",
              "0  ...      25.0                    w       INDIVIDUAL        0   \n",
              "1  ...      27.0                    f       INDIVIDUAL        1   \n",
              "2  ...      26.0                    f       INDIVIDUAL        0   \n",
              "3  ...      13.0                    f       INDIVIDUAL        0   \n",
              "4  ...      43.0                    f       INDIVIDUAL        1   \n",
              "\n",
              "   pub_rec_bankruptcies                                            address  \\\n",
              "0                   0.0     0174 Michelle Gateway\\r\\nMendozaberg, OK 22690   \n",
              "1                   0.0  1076 Carney Fort Apt. 347\\r\\nLoganmouth, SD 05113   \n",
              "2                   0.0  87025 Mark Dale Apt. 269\\r\\nNew Sabrina, WV 05113   \n",
              "3                   0.0            823 Reid Ford\\r\\nDelacruzside, MA 00813   \n",
              "4                   0.0             679 Luna Roads\\r\\nGreggshire, VA 11650   \n",
              "\n",
              "   emp_duration  current_date  credit_line_age  loan_age  \n",
              "0            10    2023-02-01          11933.0    2953.0  \n",
              "1             4    2023-02-01           6789.0    2953.0  \n",
              "2             0    2023-02-01           5663.0    2953.0  \n",
              "3             6    2023-02-01           5997.0    3014.0  \n",
              "4             9    2023-02-01           8738.0    3593.0  \n",
              "\n",
              "[5 rows x 30 columns]"
            ],
            "text/html": [
              "\n",
              "  <div id=\"df-743b2281-2ef8-4c20-b1cf-3d508189c683\">\n",
              "    <div class=\"colab-df-container\">\n",
              "      <div>\n",
              "<style scoped>\n",
              "    .dataframe tbody tr th:only-of-type {\n",
              "        vertical-align: middle;\n",
              "    }\n",
              "\n",
              "    .dataframe tbody tr th {\n",
              "        vertical-align: top;\n",
              "    }\n",
              "\n",
              "    .dataframe thead th {\n",
              "        text-align: right;\n",
              "    }\n",
              "</style>\n",
              "<table border=\"1\" class=\"dataframe\">\n",
              "  <thead>\n",
              "    <tr style=\"text-align: right;\">\n",
              "      <th></th>\n",
              "      <th>loan_amnt</th>\n",
              "      <th>term</th>\n",
              "      <th>int_rate</th>\n",
              "      <th>installment</th>\n",
              "      <th>grade</th>\n",
              "      <th>sub_grade</th>\n",
              "      <th>emp_title</th>\n",
              "      <th>home_ownership</th>\n",
              "      <th>annual_inc</th>\n",
              "      <th>verification_status</th>\n",
              "      <th>...</th>\n",
              "      <th>total_acc</th>\n",
              "      <th>initial_list_status</th>\n",
              "      <th>application_type</th>\n",
              "      <th>mort_acc</th>\n",
              "      <th>pub_rec_bankruptcies</th>\n",
              "      <th>address</th>\n",
              "      <th>emp_duration</th>\n",
              "      <th>current_date</th>\n",
              "      <th>credit_line_age</th>\n",
              "      <th>loan_age</th>\n",
              "    </tr>\n",
              "  </thead>\n",
              "  <tbody>\n",
              "    <tr>\n",
              "      <th>0</th>\n",
              "      <td>10000.0</td>\n",
              "      <td>36 months</td>\n",
              "      <td>11.44</td>\n",
              "      <td>329.48</td>\n",
              "      <td>B</td>\n",
              "      <td>B4</td>\n",
              "      <td>Marketing</td>\n",
              "      <td>RENT</td>\n",
              "      <td>117000.0</td>\n",
              "      <td>Not Verified</td>\n",
              "      <td>...</td>\n",
              "      <td>25.0</td>\n",
              "      <td>w</td>\n",
              "      <td>INDIVIDUAL</td>\n",
              "      <td>0</td>\n",
              "      <td>0.0</td>\n",
              "      <td>0174 Michelle Gateway\\r\\nMendozaberg, OK 22690</td>\n",
              "      <td>10</td>\n",
              "      <td>2023-02-01</td>\n",
              "      <td>11933.0</td>\n",
              "      <td>2953.0</td>\n",
              "    </tr>\n",
              "    <tr>\n",
              "      <th>1</th>\n",
              "      <td>8000.0</td>\n",
              "      <td>36 months</td>\n",
              "      <td>11.99</td>\n",
              "      <td>265.68</td>\n",
              "      <td>B</td>\n",
              "      <td>B5</td>\n",
              "      <td>Credit analyst</td>\n",
              "      <td>MORTGAGE</td>\n",
              "      <td>65000.0</td>\n",
              "      <td>Not Verified</td>\n",
              "      <td>...</td>\n",
              "      <td>27.0</td>\n",
              "      <td>f</td>\n",
              "      <td>INDIVIDUAL</td>\n",
              "      <td>1</td>\n",
              "      <td>0.0</td>\n",
              "      <td>1076 Carney Fort Apt. 347\\r\\nLoganmouth, SD 05113</td>\n",
              "      <td>4</td>\n",
              "      <td>2023-02-01</td>\n",
              "      <td>6789.0</td>\n",
              "      <td>2953.0</td>\n",
              "    </tr>\n",
              "    <tr>\n",
              "      <th>2</th>\n",
              "      <td>15600.0</td>\n",
              "      <td>36 months</td>\n",
              "      <td>10.49</td>\n",
              "      <td>506.97</td>\n",
              "      <td>B</td>\n",
              "      <td>B3</td>\n",
              "      <td>Statistician</td>\n",
              "      <td>RENT</td>\n",
              "      <td>43057.0</td>\n",
              "      <td>Source Verified</td>\n",
              "      <td>...</td>\n",
              "      <td>26.0</td>\n",
              "      <td>f</td>\n",
              "      <td>INDIVIDUAL</td>\n",
              "      <td>0</td>\n",
              "      <td>0.0</td>\n",
              "      <td>87025 Mark Dale Apt. 269\\r\\nNew Sabrina, WV 05113</td>\n",
              "      <td>0</td>\n",
              "      <td>2023-02-01</td>\n",
              "      <td>5663.0</td>\n",
              "      <td>2953.0</td>\n",
              "    </tr>\n",
              "    <tr>\n",
              "      <th>3</th>\n",
              "      <td>7200.0</td>\n",
              "      <td>36 months</td>\n",
              "      <td>6.49</td>\n",
              "      <td>220.65</td>\n",
              "      <td>A</td>\n",
              "      <td>A2</td>\n",
              "      <td>Client Advocate</td>\n",
              "      <td>RENT</td>\n",
              "      <td>54000.0</td>\n",
              "      <td>Not Verified</td>\n",
              "      <td>...</td>\n",
              "      <td>13.0</td>\n",
              "      <td>f</td>\n",
              "      <td>INDIVIDUAL</td>\n",
              "      <td>0</td>\n",
              "      <td>0.0</td>\n",
              "      <td>823 Reid Ford\\r\\nDelacruzside, MA 00813</td>\n",
              "      <td>6</td>\n",
              "      <td>2023-02-01</td>\n",
              "      <td>5997.0</td>\n",
              "      <td>3014.0</td>\n",
              "    </tr>\n",
              "    <tr>\n",
              "      <th>4</th>\n",
              "      <td>24375.0</td>\n",
              "      <td>60 months</td>\n",
              "      <td>17.27</td>\n",
              "      <td>609.33</td>\n",
              "      <td>C</td>\n",
              "      <td>C5</td>\n",
              "      <td>Destiny Management Inc.</td>\n",
              "      <td>MORTGAGE</td>\n",
              "      <td>55000.0</td>\n",
              "      <td>Verified</td>\n",
              "      <td>...</td>\n",
              "      <td>43.0</td>\n",
              "      <td>f</td>\n",
              "      <td>INDIVIDUAL</td>\n",
              "      <td>1</td>\n",
              "      <td>0.0</td>\n",
              "      <td>679 Luna Roads\\r\\nGreggshire, VA 11650</td>\n",
              "      <td>9</td>\n",
              "      <td>2023-02-01</td>\n",
              "      <td>8738.0</td>\n",
              "      <td>3593.0</td>\n",
              "    </tr>\n",
              "  </tbody>\n",
              "</table>\n",
              "<p>5 rows × 30 columns</p>\n",
              "</div>\n",
              "      <button class=\"colab-df-convert\" onclick=\"convertToInteractive('df-743b2281-2ef8-4c20-b1cf-3d508189c683')\"\n",
              "              title=\"Convert this dataframe to an interactive table.\"\n",
              "              style=\"display:none;\">\n",
              "        \n",
              "  <svg xmlns=\"http://www.w3.org/2000/svg\" height=\"24px\"viewBox=\"0 0 24 24\"\n",
              "       width=\"24px\">\n",
              "    <path d=\"M0 0h24v24H0V0z\" fill=\"none\"/>\n",
              "    <path d=\"M18.56 5.44l.94 2.06.94-2.06 2.06-.94-2.06-.94-.94-2.06-.94 2.06-2.06.94zm-11 1L8.5 8.5l.94-2.06 2.06-.94-2.06-.94L8.5 2.5l-.94 2.06-2.06.94zm10 10l.94 2.06.94-2.06 2.06-.94-2.06-.94-.94-2.06-.94 2.06-2.06.94z\"/><path d=\"M17.41 7.96l-1.37-1.37c-.4-.4-.92-.59-1.43-.59-.52 0-1.04.2-1.43.59L10.3 9.45l-7.72 7.72c-.78.78-.78 2.05 0 2.83L4 21.41c.39.39.9.59 1.41.59.51 0 1.02-.2 1.41-.59l7.78-7.78 2.81-2.81c.8-.78.8-2.07 0-2.86zM5.41 20L4 18.59l7.72-7.72 1.47 1.35L5.41 20z\"/>\n",
              "  </svg>\n",
              "      </button>\n",
              "      \n",
              "  <style>\n",
              "    .colab-df-container {\n",
              "      display:flex;\n",
              "      flex-wrap:wrap;\n",
              "      gap: 12px;\n",
              "    }\n",
              "\n",
              "    .colab-df-convert {\n",
              "      background-color: #E8F0FE;\n",
              "      border: none;\n",
              "      border-radius: 50%;\n",
              "      cursor: pointer;\n",
              "      display: none;\n",
              "      fill: #1967D2;\n",
              "      height: 32px;\n",
              "      padding: 0 0 0 0;\n",
              "      width: 32px;\n",
              "    }\n",
              "\n",
              "    .colab-df-convert:hover {\n",
              "      background-color: #E2EBFA;\n",
              "      box-shadow: 0px 1px 2px rgba(60, 64, 67, 0.3), 0px 1px 3px 1px rgba(60, 64, 67, 0.15);\n",
              "      fill: #174EA6;\n",
              "    }\n",
              "\n",
              "    [theme=dark] .colab-df-convert {\n",
              "      background-color: #3B4455;\n",
              "      fill: #D2E3FC;\n",
              "    }\n",
              "\n",
              "    [theme=dark] .colab-df-convert:hover {\n",
              "      background-color: #434B5C;\n",
              "      box-shadow: 0px 1px 3px 1px rgba(0, 0, 0, 0.15);\n",
              "      filter: drop-shadow(0px 1px 2px rgba(0, 0, 0, 0.3));\n",
              "      fill: #FFFFFF;\n",
              "    }\n",
              "  </style>\n",
              "\n",
              "      <script>\n",
              "        const buttonEl =\n",
              "          document.querySelector('#df-743b2281-2ef8-4c20-b1cf-3d508189c683 button.colab-df-convert');\n",
              "        buttonEl.style.display =\n",
              "          google.colab.kernel.accessAllowed ? 'block' : 'none';\n",
              "\n",
              "        async function convertToInteractive(key) {\n",
              "          const element = document.querySelector('#df-743b2281-2ef8-4c20-b1cf-3d508189c683');\n",
              "          const dataTable =\n",
              "            await google.colab.kernel.invokeFunction('convertToInteractive',\n",
              "                                                     [key], {});\n",
              "          if (!dataTable) return;\n",
              "\n",
              "          const docLinkHtml = 'Like what you see? Visit the ' +\n",
              "            '<a target=\"_blank\" href=https://colab.research.google.com/notebooks/data_table.ipynb>data table notebook</a>'\n",
              "            + ' to learn more about interactive tables.';\n",
              "          element.innerHTML = '';\n",
              "          dataTable['output_type'] = 'display_data';\n",
              "          await google.colab.output.renderOutput(dataTable, element);\n",
              "          const docLink = document.createElement('div');\n",
              "          docLink.innerHTML = docLinkHtml;\n",
              "          element.appendChild(docLink);\n",
              "        }\n",
              "      </script>\n",
              "    </div>\n",
              "  </div>\n",
              "  "
            ]
          },
          "metadata": {},
          "execution_count": 456
        }
      ]
    },
    {
      "cell_type": "code",
      "source": [
        "work_df.drop(['current_date', 'earliest_cr_line', 'issue_d'], axis='columns', inplace=True)"
      ],
      "metadata": {
        "id": "Hhta8ZrwoAT0"
      },
      "execution_count": 457,
      "outputs": []
    },
    {
      "cell_type": "code",
      "source": [
        "# Drop the address column as it may not have much significant for our analysis\n",
        "work_df.drop(['address'], axis='columns', inplace=True)"
      ],
      "metadata": {
        "id": "__CVxXXlqWPE"
      },
      "execution_count": 458,
      "outputs": []
    },
    {
      "cell_type": "code",
      "source": [
        "# Let's drop the 'title' column as well\n",
        "work_df.drop(['title'], axis='columns', inplace=True)"
      ],
      "metadata": {
        "id": "U_lVa7cMqX9C"
      },
      "execution_count": 459,
      "outputs": []
    },
    {
      "cell_type": "code",
      "source": [
        "term_values = {' 36 months': 36, ' 60 months': 60}\n",
        "work_df['term'] = work_df['term'].map(term_values)"
      ],
      "metadata": {
        "id": "3lmPwrBlB3qB"
      },
      "execution_count": 460,
      "outputs": []
    },
    {
      "cell_type": "code",
      "source": [
        "# Sub grade is secondary level categorization of grade, so we can ignore the first part and convert it to int type\n",
        "work_df['sub_grade'] = work_df['sub_grade'].str[1:]"
      ],
      "metadata": {
        "id": "XvDVEKwZsWMg"
      },
      "execution_count": 461,
      "outputs": []
    },
    {
      "cell_type": "code",
      "source": [
        "work_df['sub_grade'] = work_df['sub_grade'].astype(int)"
      ],
      "metadata": {
        "id": "4lMcHKL4tJAq"
      },
      "execution_count": 462,
      "outputs": []
    },
    {
      "cell_type": "code",
      "source": [
        "# Segregate Categorical Features\n",
        "cat_features = list(work_df.select_dtypes('object').columns)\n",
        "for col in cat_features:\n",
        "  print('Unique values in {0} are {1}'.format(col, work_df[col].unique()))"
      ],
      "metadata": {
        "colab": {
          "base_uri": "https://localhost:8080/"
        },
        "id": "Tl1ZW-hAq0_a",
        "outputId": "ea96cdc3-61eb-40c6-ad9c-bd751b63bcda"
      },
      "execution_count": 463,
      "outputs": [
        {
          "output_type": "stream",
          "name": "stdout",
          "text": [
            "Unique values in grade are ['B' 'A' 'C' 'E' 'D' 'F' 'G']\n",
            "Unique values in emp_title are ['Marketing' 'Credit analyst ' 'Statistician' ...\n",
            " \"Michael's Arts & Crafts\" 'licensed bankere' 'Gracon Services, Inc']\n",
            "Unique values in home_ownership are ['RENT' 'MORTGAGE' 'OWN' 'OTHER']\n",
            "Unique values in verification_status are ['Not Verified' 'Source Verified' 'Verified']\n",
            "Unique values in purpose are ['vacation' 'debt_consolidation' 'credit_card' 'home_improvement'\n",
            " 'small_business' 'major_purchase' 'other' 'medical' 'wedding' 'car'\n",
            " 'moving' 'house' 'educational' 'renewable_energy']\n",
            "Unique values in initial_list_status are ['w' 'f']\n",
            "Unique values in application_type are ['INDIVIDUAL' 'JOINT' 'DIRECT_PAY']\n"
          ]
        }
      ]
    },
    {
      "cell_type": "markdown",
      "source": [
        "### Outliers check"
      ],
      "metadata": {
        "id": "sEYmndFp3kLp"
      }
    },
    {
      "cell_type": "code",
      "source": [
        "work_df.describe().T"
      ],
      "metadata": {
        "colab": {
          "base_uri": "https://localhost:8080/",
          "height": 614
        },
        "id": "qU05G2fZ3O9p",
        "outputId": "c78832c4-d057-4ae5-e908-351028b60db2"
      },
      "execution_count": 464,
      "outputs": [
        {
          "output_type": "execute_result",
          "data": {
            "text/plain": [
              "                         count          mean           std      min       25%  \\\n",
              "loan_amnt             393465.0  14117.269960   8353.190693   500.00   8000.00   \n",
              "term                  393465.0     41.699577     10.212979    36.00     36.00   \n",
              "int_rate              393465.0     13.638728      4.468866     5.32     10.49   \n",
              "installment           393465.0    431.946979    250.582348    16.08    250.33   \n",
              "sub_grade             393465.0      2.972028      1.406815     1.00      2.00   \n",
              "annual_inc            393465.0  74212.294265  61628.502516     0.00  45000.00   \n",
              "loan_status           393465.0      0.196190      0.397115     0.00      0.00   \n",
              "dti                   393465.0     17.383396     18.061993     0.00     11.29   \n",
              "open_acc              393465.0     11.317601      5.133143     1.00      8.00   \n",
              "pub_rec               393465.0      0.145860      0.352967     0.00      0.00   \n",
              "revol_bal             393465.0  15849.758057  20552.685648     0.00   6042.00   \n",
              "revol_util            393465.0     53.828586     24.434544     0.00     35.90   \n",
              "total_acc             393465.0     25.425893     11.883416     2.00     17.00   \n",
              "mort_acc              393465.0      0.646591      0.478029     0.00      0.00   \n",
              "pub_rec_bankruptcies  393465.0      0.114028      0.317846     0.00      0.00   \n",
              "emp_duration          393465.0      5.941098      3.644620     0.00      3.00   \n",
              "credit_line_age       390920.0   9039.645475   2628.481210  3410.00   7246.00   \n",
              "loan_age              390920.0   3285.639087    522.848005  2253.00   2894.00   \n",
              "\n",
              "                           50%       75%         max  \n",
              "loan_amnt             12000.00  20000.00    40000.00  \n",
              "term                     36.00     36.00       60.00  \n",
              "int_rate                 13.33     16.49       30.99  \n",
              "installment             375.43    567.49     1533.81  \n",
              "sub_grade                 3.00      4.00        5.00  \n",
              "annual_inc            64000.00  90000.00  8706582.00  \n",
              "loan_status               0.00      0.00        1.00  \n",
              "dti                      16.91     22.98     9999.00  \n",
              "open_acc                 10.00     14.00       90.00  \n",
              "pub_rec                   0.00      0.00        1.00  \n",
              "revol_bal             11194.00  19630.00  1743266.00  \n",
              "revol_util               54.90     72.90      892.30  \n",
              "total_acc                24.00     32.00      151.00  \n",
              "mort_acc                  1.00      1.00        1.00  \n",
              "pub_rec_bankruptcies      0.00      0.00        1.00  \n",
              "emp_duration              6.00     10.00       10.00  \n",
              "credit_line_age        8554.00  10350.00    28886.00  \n",
              "loan_age               3228.00   3563.00     5663.00  "
            ],
            "text/html": [
              "\n",
              "  <div id=\"df-a4157c72-708c-4c81-83d1-1a01d5507b5d\">\n",
              "    <div class=\"colab-df-container\">\n",
              "      <div>\n",
              "<style scoped>\n",
              "    .dataframe tbody tr th:only-of-type {\n",
              "        vertical-align: middle;\n",
              "    }\n",
              "\n",
              "    .dataframe tbody tr th {\n",
              "        vertical-align: top;\n",
              "    }\n",
              "\n",
              "    .dataframe thead th {\n",
              "        text-align: right;\n",
              "    }\n",
              "</style>\n",
              "<table border=\"1\" class=\"dataframe\">\n",
              "  <thead>\n",
              "    <tr style=\"text-align: right;\">\n",
              "      <th></th>\n",
              "      <th>count</th>\n",
              "      <th>mean</th>\n",
              "      <th>std</th>\n",
              "      <th>min</th>\n",
              "      <th>25%</th>\n",
              "      <th>50%</th>\n",
              "      <th>75%</th>\n",
              "      <th>max</th>\n",
              "    </tr>\n",
              "  </thead>\n",
              "  <tbody>\n",
              "    <tr>\n",
              "      <th>loan_amnt</th>\n",
              "      <td>393465.0</td>\n",
              "      <td>14117.269960</td>\n",
              "      <td>8353.190693</td>\n",
              "      <td>500.00</td>\n",
              "      <td>8000.00</td>\n",
              "      <td>12000.00</td>\n",
              "      <td>20000.00</td>\n",
              "      <td>40000.00</td>\n",
              "    </tr>\n",
              "    <tr>\n",
              "      <th>term</th>\n",
              "      <td>393465.0</td>\n",
              "      <td>41.699577</td>\n",
              "      <td>10.212979</td>\n",
              "      <td>36.00</td>\n",
              "      <td>36.00</td>\n",
              "      <td>36.00</td>\n",
              "      <td>36.00</td>\n",
              "      <td>60.00</td>\n",
              "    </tr>\n",
              "    <tr>\n",
              "      <th>int_rate</th>\n",
              "      <td>393465.0</td>\n",
              "      <td>13.638728</td>\n",
              "      <td>4.468866</td>\n",
              "      <td>5.32</td>\n",
              "      <td>10.49</td>\n",
              "      <td>13.33</td>\n",
              "      <td>16.49</td>\n",
              "      <td>30.99</td>\n",
              "    </tr>\n",
              "    <tr>\n",
              "      <th>installment</th>\n",
              "      <td>393465.0</td>\n",
              "      <td>431.946979</td>\n",
              "      <td>250.582348</td>\n",
              "      <td>16.08</td>\n",
              "      <td>250.33</td>\n",
              "      <td>375.43</td>\n",
              "      <td>567.49</td>\n",
              "      <td>1533.81</td>\n",
              "    </tr>\n",
              "    <tr>\n",
              "      <th>sub_grade</th>\n",
              "      <td>393465.0</td>\n",
              "      <td>2.972028</td>\n",
              "      <td>1.406815</td>\n",
              "      <td>1.00</td>\n",
              "      <td>2.00</td>\n",
              "      <td>3.00</td>\n",
              "      <td>4.00</td>\n",
              "      <td>5.00</td>\n",
              "    </tr>\n",
              "    <tr>\n",
              "      <th>annual_inc</th>\n",
              "      <td>393465.0</td>\n",
              "      <td>74212.294265</td>\n",
              "      <td>61628.502516</td>\n",
              "      <td>0.00</td>\n",
              "      <td>45000.00</td>\n",
              "      <td>64000.00</td>\n",
              "      <td>90000.00</td>\n",
              "      <td>8706582.00</td>\n",
              "    </tr>\n",
              "    <tr>\n",
              "      <th>loan_status</th>\n",
              "      <td>393465.0</td>\n",
              "      <td>0.196190</td>\n",
              "      <td>0.397115</td>\n",
              "      <td>0.00</td>\n",
              "      <td>0.00</td>\n",
              "      <td>0.00</td>\n",
              "      <td>0.00</td>\n",
              "      <td>1.00</td>\n",
              "    </tr>\n",
              "    <tr>\n",
              "      <th>dti</th>\n",
              "      <td>393465.0</td>\n",
              "      <td>17.383396</td>\n",
              "      <td>18.061993</td>\n",
              "      <td>0.00</td>\n",
              "      <td>11.29</td>\n",
              "      <td>16.91</td>\n",
              "      <td>22.98</td>\n",
              "      <td>9999.00</td>\n",
              "    </tr>\n",
              "    <tr>\n",
              "      <th>open_acc</th>\n",
              "      <td>393465.0</td>\n",
              "      <td>11.317601</td>\n",
              "      <td>5.133143</td>\n",
              "      <td>1.00</td>\n",
              "      <td>8.00</td>\n",
              "      <td>10.00</td>\n",
              "      <td>14.00</td>\n",
              "      <td>90.00</td>\n",
              "    </tr>\n",
              "    <tr>\n",
              "      <th>pub_rec</th>\n",
              "      <td>393465.0</td>\n",
              "      <td>0.145860</td>\n",
              "      <td>0.352967</td>\n",
              "      <td>0.00</td>\n",
              "      <td>0.00</td>\n",
              "      <td>0.00</td>\n",
              "      <td>0.00</td>\n",
              "      <td>1.00</td>\n",
              "    </tr>\n",
              "    <tr>\n",
              "      <th>revol_bal</th>\n",
              "      <td>393465.0</td>\n",
              "      <td>15849.758057</td>\n",
              "      <td>20552.685648</td>\n",
              "      <td>0.00</td>\n",
              "      <td>6042.00</td>\n",
              "      <td>11194.00</td>\n",
              "      <td>19630.00</td>\n",
              "      <td>1743266.00</td>\n",
              "    </tr>\n",
              "    <tr>\n",
              "      <th>revol_util</th>\n",
              "      <td>393465.0</td>\n",
              "      <td>53.828586</td>\n",
              "      <td>24.434544</td>\n",
              "      <td>0.00</td>\n",
              "      <td>35.90</td>\n",
              "      <td>54.90</td>\n",
              "      <td>72.90</td>\n",
              "      <td>892.30</td>\n",
              "    </tr>\n",
              "    <tr>\n",
              "      <th>total_acc</th>\n",
              "      <td>393465.0</td>\n",
              "      <td>25.425893</td>\n",
              "      <td>11.883416</td>\n",
              "      <td>2.00</td>\n",
              "      <td>17.00</td>\n",
              "      <td>24.00</td>\n",
              "      <td>32.00</td>\n",
              "      <td>151.00</td>\n",
              "    </tr>\n",
              "    <tr>\n",
              "      <th>mort_acc</th>\n",
              "      <td>393465.0</td>\n",
              "      <td>0.646591</td>\n",
              "      <td>0.478029</td>\n",
              "      <td>0.00</td>\n",
              "      <td>0.00</td>\n",
              "      <td>1.00</td>\n",
              "      <td>1.00</td>\n",
              "      <td>1.00</td>\n",
              "    </tr>\n",
              "    <tr>\n",
              "      <th>pub_rec_bankruptcies</th>\n",
              "      <td>393465.0</td>\n",
              "      <td>0.114028</td>\n",
              "      <td>0.317846</td>\n",
              "      <td>0.00</td>\n",
              "      <td>0.00</td>\n",
              "      <td>0.00</td>\n",
              "      <td>0.00</td>\n",
              "      <td>1.00</td>\n",
              "    </tr>\n",
              "    <tr>\n",
              "      <th>emp_duration</th>\n",
              "      <td>393465.0</td>\n",
              "      <td>5.941098</td>\n",
              "      <td>3.644620</td>\n",
              "      <td>0.00</td>\n",
              "      <td>3.00</td>\n",
              "      <td>6.00</td>\n",
              "      <td>10.00</td>\n",
              "      <td>10.00</td>\n",
              "    </tr>\n",
              "    <tr>\n",
              "      <th>credit_line_age</th>\n",
              "      <td>390920.0</td>\n",
              "      <td>9039.645475</td>\n",
              "      <td>2628.481210</td>\n",
              "      <td>3410.00</td>\n",
              "      <td>7246.00</td>\n",
              "      <td>8554.00</td>\n",
              "      <td>10350.00</td>\n",
              "      <td>28886.00</td>\n",
              "    </tr>\n",
              "    <tr>\n",
              "      <th>loan_age</th>\n",
              "      <td>390920.0</td>\n",
              "      <td>3285.639087</td>\n",
              "      <td>522.848005</td>\n",
              "      <td>2253.00</td>\n",
              "      <td>2894.00</td>\n",
              "      <td>3228.00</td>\n",
              "      <td>3563.00</td>\n",
              "      <td>5663.00</td>\n",
              "    </tr>\n",
              "  </tbody>\n",
              "</table>\n",
              "</div>\n",
              "      <button class=\"colab-df-convert\" onclick=\"convertToInteractive('df-a4157c72-708c-4c81-83d1-1a01d5507b5d')\"\n",
              "              title=\"Convert this dataframe to an interactive table.\"\n",
              "              style=\"display:none;\">\n",
              "        \n",
              "  <svg xmlns=\"http://www.w3.org/2000/svg\" height=\"24px\"viewBox=\"0 0 24 24\"\n",
              "       width=\"24px\">\n",
              "    <path d=\"M0 0h24v24H0V0z\" fill=\"none\"/>\n",
              "    <path d=\"M18.56 5.44l.94 2.06.94-2.06 2.06-.94-2.06-.94-.94-2.06-.94 2.06-2.06.94zm-11 1L8.5 8.5l.94-2.06 2.06-.94-2.06-.94L8.5 2.5l-.94 2.06-2.06.94zm10 10l.94 2.06.94-2.06 2.06-.94-2.06-.94-.94-2.06-.94 2.06-2.06.94z\"/><path d=\"M17.41 7.96l-1.37-1.37c-.4-.4-.92-.59-1.43-.59-.52 0-1.04.2-1.43.59L10.3 9.45l-7.72 7.72c-.78.78-.78 2.05 0 2.83L4 21.41c.39.39.9.59 1.41.59.51 0 1.02-.2 1.41-.59l7.78-7.78 2.81-2.81c.8-.78.8-2.07 0-2.86zM5.41 20L4 18.59l7.72-7.72 1.47 1.35L5.41 20z\"/>\n",
              "  </svg>\n",
              "      </button>\n",
              "      \n",
              "  <style>\n",
              "    .colab-df-container {\n",
              "      display:flex;\n",
              "      flex-wrap:wrap;\n",
              "      gap: 12px;\n",
              "    }\n",
              "\n",
              "    .colab-df-convert {\n",
              "      background-color: #E8F0FE;\n",
              "      border: none;\n",
              "      border-radius: 50%;\n",
              "      cursor: pointer;\n",
              "      display: none;\n",
              "      fill: #1967D2;\n",
              "      height: 32px;\n",
              "      padding: 0 0 0 0;\n",
              "      width: 32px;\n",
              "    }\n",
              "\n",
              "    .colab-df-convert:hover {\n",
              "      background-color: #E2EBFA;\n",
              "      box-shadow: 0px 1px 2px rgba(60, 64, 67, 0.3), 0px 1px 3px 1px rgba(60, 64, 67, 0.15);\n",
              "      fill: #174EA6;\n",
              "    }\n",
              "\n",
              "    [theme=dark] .colab-df-convert {\n",
              "      background-color: #3B4455;\n",
              "      fill: #D2E3FC;\n",
              "    }\n",
              "\n",
              "    [theme=dark] .colab-df-convert:hover {\n",
              "      background-color: #434B5C;\n",
              "      box-shadow: 0px 1px 3px 1px rgba(0, 0, 0, 0.15);\n",
              "      filter: drop-shadow(0px 1px 2px rgba(0, 0, 0, 0.3));\n",
              "      fill: #FFFFFF;\n",
              "    }\n",
              "  </style>\n",
              "\n",
              "      <script>\n",
              "        const buttonEl =\n",
              "          document.querySelector('#df-a4157c72-708c-4c81-83d1-1a01d5507b5d button.colab-df-convert');\n",
              "        buttonEl.style.display =\n",
              "          google.colab.kernel.accessAllowed ? 'block' : 'none';\n",
              "\n",
              "        async function convertToInteractive(key) {\n",
              "          const element = document.querySelector('#df-a4157c72-708c-4c81-83d1-1a01d5507b5d');\n",
              "          const dataTable =\n",
              "            await google.colab.kernel.invokeFunction('convertToInteractive',\n",
              "                                                     [key], {});\n",
              "          if (!dataTable) return;\n",
              "\n",
              "          const docLinkHtml = 'Like what you see? Visit the ' +\n",
              "            '<a target=\"_blank\" href=https://colab.research.google.com/notebooks/data_table.ipynb>data table notebook</a>'\n",
              "            + ' to learn more about interactive tables.';\n",
              "          element.innerHTML = '';\n",
              "          dataTable['output_type'] = 'display_data';\n",
              "          await google.colab.output.renderOutput(dataTable, element);\n",
              "          const docLink = document.createElement('div');\n",
              "          docLink.innerHTML = docLinkHtml;\n",
              "          element.appendChild(docLink);\n",
              "        }\n",
              "      </script>\n",
              "    </div>\n",
              "  </div>\n",
              "  "
            ]
          },
          "metadata": {},
          "execution_count": 464
        }
      ]
    },
    {
      "cell_type": "markdown",
      "source": [
        "#### **Observation**: \n",
        "Loan Amount, Installment, Annual Income , revol_bal : These columns have large differnece b/w mean and median. This means outliers exist in these features."
      ],
      "metadata": {
        "id": "paTaiLwD8yGk"
      }
    },
    {
      "cell_type": "code",
      "source": [
        "# Segregate Numerical Features\n",
        "num_features = work_df.select_dtypes('number')\n",
        "num_features.columns"
      ],
      "metadata": {
        "id": "OlpY-13EBsGz",
        "colab": {
          "base_uri": "https://localhost:8080/"
        },
        "outputId": "57d3ea37-c658-46f1-87d9-2fe43762de11"
      },
      "execution_count": 465,
      "outputs": [
        {
          "output_type": "execute_result",
          "data": {
            "text/plain": [
              "Index(['loan_amnt', 'term', 'int_rate', 'installment', 'sub_grade',\n",
              "       'annual_inc', 'loan_status', 'dti', 'open_acc', 'pub_rec', 'revol_bal',\n",
              "       'revol_util', 'total_acc', 'mort_acc', 'pub_rec_bankruptcies',\n",
              "       'emp_duration', 'credit_line_age', 'loan_age'],\n",
              "      dtype='object')"
            ]
          },
          "metadata": {},
          "execution_count": 465
        }
      ]
    },
    {
      "cell_type": "code",
      "source": [
        "# Box plots before removing outliers\n",
        "for col in num_features:\n",
        "  plt.figure(figsize=(10, 5))\n",
        "  sns.boxplot(y=work_df[col])\n",
        "  plt.title(f\"Boxplot of {col} before removing outliers\")\n",
        "\n",
        "  plt.show()"
      ],
      "metadata": {
        "colab": {
          "base_uri": "https://localhost:8080/",
          "height": 1000
        },
        "id": "EM0f6GkzGpca",
        "outputId": "f3a04108-b7f6-4377-b0e5-7364997dfffd"
      },
      "execution_count": 466,
      "outputs": [
        {
          "output_type": "display_data",
          "data": {
            "text/plain": [
              "<Figure size 720x360 with 1 Axes>"
            ],
            "image/png": "[encoded data removed]"
          },
          "metadata": {
            "needs_background": "light"
          }
        },
        {
          "output_type": "display_data",
          "data": {
            "text/plain": [
              "<Figure size 720x360 with 1 Axes>"
            ],
            "image/png": "[encoded data removed]"
          },
          "metadata": {
            "needs_background": "light"
          }
        },
        {
          "output_type": "display_data",
          "data": {
            "text/plain": [
              "<Figure size 720x360 with 1 Axes>"
            ],
            "image/png": "[encoded data removed]"
          },
          "metadata": {
            "needs_background": "light"
          }
        },
        {
          "output_type": "display_data",
          "data": {
            "text/plain": [
              "<Figure size 720x360 with 1 Axes>"
            ],
            "image/png": "[encoded data removed]"
          },
          "metadata": {
            "needs_background": "light"
          }
        },
        {
          "output_type": "display_data",
          "data": {
            "text/plain": [
              "<Figure size 720x360 with 1 Axes>"
            ],
            "image/png": "[encoded data removed]"
          },
          "metadata": {
            "needs_background": "light"
          }
        },
        {
          "output_type": "display_data",
          "data": {
            "text/plain": [
              "<Figure size 720x360 with 1 Axes>"
            ],
            "image/png": "[encoded data removed]"
          },
          "metadata": {
            "needs_background": "light"
          }
        },
        {
          "output_type": "display_data",
          "data": {
            "text/plain": [
              "<Figure size 720x360 with 1 Axes>"
            ],
            "image/png": "[encoded data removed]"
          },
          "metadata": {
            "needs_background": "light"
          }
        },
        {
          "output_type": "display_data",
          "data": {
            "text/plain": [
              "<Figure size 720x360 with 1 Axes>"
            ],
            "image/png": "[encoded data removed]"
          },
          "metadata": {
            "needs_background": "light"
          }
        },
        {
          "output_type": "display_data",
          "data": {
            "text/plain": [
              "<Figure size 720x360 with 1 Axes>"
            ],
            "image/png": "[encoded data removed]"
          },
          "metadata": {
            "needs_background": "light"
          }
        },
        {
          "output_type": "display_data",
          "data": {
            "text/plain": [
              "<Figure size 720x360 with 1 Axes>"
            ],
            "image/png": "[encoded data removed]"
          },
          "metadata": {
            "needs_background": "light"
          }
        },
        {
          "output_type": "display_data",
          "data": {
            "text/plain": [
              "<Figure size 720x360 with 1 Axes>"
            ],
            "image/png": "[encoded data removed]"
          },
          "metadata": {
            "needs_background": "light"
          }
        },
        {
          "output_type": "display_data",
          "data": {
            "text/plain": [
              "<Figure size 720x360 with 1 Axes>"
            ],
            "image/png": "[encoded data removed]"
          },
          "metadata": {
            "needs_background": "light"
          }
        },
        {
          "output_type": "display_data",
          "data": {
            "text/plain": [
              "<Figure size 720x360 with 1 Axes>"
            ],
            "image/png": "[encoded data removed]"
          },
          "metadata": {
            "needs_background": "light"
          }
        },
        {
          "output_type": "display_data",
          "data": {
            "text/plain": [
              "<Figure size 720x360 with 1 Axes>"
            ],
            "image/png": "[encoded data removed]"
          },
          "metadata": {
            "needs_background": "light"
          }
        },
        {
          "output_type": "display_data",
          "data": {
            "text/plain": [
              "<Figure size 720x360 with 1 Axes>"
            ],
            "image/png": "[encoded data removed]"
          },
          "metadata": {
            "needs_background": "light"
          }
        },
        {
          "output_type": "display_data",
          "data": {
            "text/plain": [
              "<Figure size 720x360 with 1 Axes>"
            ],
            "image/png": "[encoded data removed]"
          },
          "metadata": {
            "needs_background": "light"
          }
        },
        {
          "output_type": "display_data",
          "data": {
            "text/plain": [
              "<Figure size 720x360 with 1 Axes>"
            ],
            "image/png": "[encoded data removed]"
          },
          "metadata": {
            "needs_background": "light"
          }
        },
        {
          "output_type": "display_data",
          "data": {
            "text/plain": [
              "<Figure size 720x360 with 1 Axes>"
            ],
            "image/png": "[encoded data removed]"
          },
          "metadata": {
            "needs_background": "light"
          }
        }
      ]
    },
    {
      "cell_type": "code",
      "source": [
        "outliers_list = []\n",
        "for col in num_features.columns:\n",
        "  # print(num_features[col].mean())\n",
        "  mean_value = num_features[col].mean()\n",
        "  median_value = num_features[col].median()\n",
        "  mean_median_diff = mean_value - median_value\n",
        "  if mean_median_diff > 5:\n",
        "    outliers_list.append(col)\n",
        "  print('{0} has mean_median_diff of {1}'.format(col, mean_median_diff))\n",
        "print(outliers_list)"
      ],
      "metadata": {
        "colab": {
          "base_uri": "https://localhost:8080/"
        },
        "id": "xmqBxVJq5lJ9",
        "outputId": "f1e42fce-2eca-4404-d74f-61a37cdf5e62"
      },
      "execution_count": 467,
      "outputs": [
        {
          "output_type": "stream",
          "name": "stdout",
          "text": [
            "loan_amnt has mean_median_diff of 2117.2699604793306\n",
            "term has mean_median_diff of 5.699576836567424\n",
            "int_rate has mean_median_diff of 0.30872751070615934\n",
            "installment has mean_median_diff of 56.516978994319686\n",
            "sub_grade has mean_median_diff of -0.027971992426264247\n",
            "annual_inc has mean_median_diff of 10212.294264928263\n",
            "loan_status has mean_median_diff of 0.19619025834572326\n",
            "dti has mean_median_diff of 0.47339646474273067\n",
            "open_acc has mean_median_diff of 1.3176013114254133\n",
            "pub_rec has mean_median_diff of 0.14586049585096514\n",
            "revol_bal has mean_median_diff of 4655.758057260493\n",
            "revol_util has mean_median_diff of -1.0714142553975776\n",
            "total_acc has mean_median_diff of 1.4258930273340695\n",
            "mort_acc has mean_median_diff of -0.35340881654022593\n",
            "pub_rec_bankruptcies has mean_median_diff of 0.11402793132807239\n",
            "emp_duration has mean_median_diff of -0.0589023165974103\n",
            "credit_line_age has mean_median_diff of 485.6454747774478\n",
            "loan_age has mean_median_diff of 57.639087281285356\n",
            "['loan_amnt', 'term', 'installment', 'annual_inc', 'revol_bal', 'credit_line_age', 'loan_age']\n"
          ]
        }
      ]
    },
    {
      "cell_type": "code",
      "source": [
        "# Treat Outliers using Capping method\n",
        "for col in outliers_list:\n",
        "  percentiles = work_df[col].quantile([0.01, 0.99]).values\n",
        "  work_df[col] = np.clip(work_df[col], percentiles[0], percentiles[1])"
      ],
      "metadata": {
        "id": "9llKz_IXHeRP"
      },
      "execution_count": 468,
      "outputs": []
    },
    {
      "cell_type": "code",
      "source": [
        "# Box plots after removing outliers\n",
        "for i, j in enumerate(outliers_list):\n",
        "  plt.figure(figsize=(10, 6))\n",
        "  sns.boxplot(work_df[j])\n",
        "  plt.title(f\"Boxplot of {j} after removing outliers\")\n",
        "\n",
        "  plt.show()"
      ],
      "metadata": {
        "colab": {
          "base_uri": "https://localhost:8080/",
          "height": 1000
        },
        "id": "lnjAI3A_IL4X",
        "outputId": "f3ad7700-8f44-4ec6-a109-34d7d4af97f8"
      },
      "execution_count": 469,
      "outputs": [
        {
          "output_type": "display_data",
          "data": {
            "text/plain": [
              "<Figure size 720x432 with 1 Axes>"
            ],
            "image/png": "[encoded data removed]"
          },
          "metadata": {
            "needs_background": "light"
          }
        },
        {
          "output_type": "display_data",
          "data": {
            "text/plain": [
              "<Figure size 720x432 with 1 Axes>"
            ],
            "image/png": "[encoded data removed]"
          },
          "metadata": {
            "needs_background": "light"
          }
        },
        {
          "output_type": "display_data",
          "data": {
            "text/plain": [
              "<Figure size 720x432 with 1 Axes>"
            ],
            "image/png": "[encoded data removed]"
          },
          "metadata": {
            "needs_background": "light"
          }
        },
        {
          "output_type": "display_data",
          "data": {
            "text/plain": [
              "<Figure size 720x432 with 1 Axes>"
            ],
            "image/png": "[encoded data removed]"
          },
          "metadata": {
            "needs_background": "light"
          }
        },
        {
          "output_type": "display_data",
          "data": {
            "text/plain": [
              "<Figure size 720x432 with 1 Axes>"
            ],
            "image/png": "[encoded data removed]"
          },
          "metadata": {
            "needs_background": "light"
          }
        },
        {
          "output_type": "display_data",
          "data": {
            "text/plain": [
              "<Figure size 720x432 with 1 Axes>"
            ],
            "image/png": "[encoded data removed]"
          },
          "metadata": {
            "needs_background": "light"
          }
        },
        {
          "output_type": "display_data",
          "data": {
            "text/plain": [
              "<Figure size 720x432 with 1 Axes>"
            ],
            "image/png": "[encoded data removed]"
          },
          "metadata": {
            "needs_background": "light"
          }
        }
      ]
    },
    {
      "cell_type": "code",
      "source": [
        "# Treat Outliers with IQR method\n",
        "for i, j in enumerate(outliers_list):\n",
        "  q1 = work_df[j].quantile(0.25)\n",
        "  q3 = work_df[j].quantile(0.75)\n",
        "  iqr = q3 - q1\n",
        "  work_df = work_df[(work_df[j] >= q1-1.5*iqr) & (work_df[j] <= q3+1.5*iqr)]"
      ],
      "metadata": {
        "id": "rIDu-76FFW5-"
      },
      "execution_count": 470,
      "outputs": []
    },
    {
      "cell_type": "code",
      "source": [
        "# Box plots after removing outliers\n",
        "for i, j in enumerate(outliers_list):\n",
        "  plt.figure(figsize=(10, 6))\n",
        "  sns.boxplot(work_df[j])\n",
        "  plt.title(f\"Boxplot of {j} after removing outliers\")\n",
        "\n",
        "  plt.show()"
      ],
      "metadata": {
        "colab": {
          "base_uri": "https://localhost:8080/",
          "height": 1000
        },
        "id": "q29XzqAfLOSx",
        "outputId": "b7ae4486-d17e-4976-8b3c-fc49c908126d"
      },
      "execution_count": 471,
      "outputs": [
        {
          "output_type": "display_data",
          "data": {
            "text/plain": [
              "<Figure size 720x432 with 1 Axes>"
            ],
            "image/png": "[encoded data removed]"
          },
          "metadata": {
            "needs_background": "light"
          }
        },
        {
          "output_type": "display_data",
          "data": {
            "text/plain": [
              "<Figure size 720x432 with 1 Axes>"
            ],
            "image/png": "[encoded data removed]"
          },
          "metadata": {
            "needs_background": "light"
          }
        },
        {
          "output_type": "display_data",
          "data": {
            "text/plain": [
              "<Figure size 720x432 with 1 Axes>"
            ],
            "image/png": "[encoded data removed]"
          },
          "metadata": {
            "needs_background": "light"
          }
        },
        {
          "output_type": "display_data",
          "data": {
            "text/plain": [
              "<Figure size 720x432 with 1 Axes>"
            ],
            "image/png": "[encoded data removed]"
          },
          "metadata": {
            "needs_background": "light"
          }
        },
        {
          "output_type": "display_data",
          "data": {
            "text/plain": [
              "<Figure size 720x432 with 1 Axes>"
            ],
            "image/png": "[encoded data removed]"
          },
          "metadata": {
            "needs_background": "light"
          }
        },
        {
          "output_type": "display_data",
          "data": {
            "text/plain": [
              "<Figure size 720x432 with 1 Axes>"
            ],
            "image/png": "[encoded data removed]"
          },
          "metadata": {
            "needs_background": "light"
          }
        },
        {
          "output_type": "display_data",
          "data": {
            "text/plain": [
              "<Figure size 720x432 with 1 Axes>"
            ],
            "image/png": "[encoded data removed]"
          },
          "metadata": {
            "needs_background": "light"
          }
        }
      ]
    },
    {
      "cell_type": "code",
      "source": [
        "work_df.describe().T"
      ],
      "metadata": {
        "colab": {
          "base_uri": "https://localhost:8080/",
          "height": 614
        },
        "id": "imticzAWD4cT",
        "outputId": "f7a5d2c0-768e-4ce4-c3a0-3dcd82b46776"
      },
      "execution_count": 472,
      "outputs": [
        {
          "output_type": "execute_result",
          "data": {
            "text/plain": [
              "                         count          mean           std       min  \\\n",
              "loan_amnt             243454.0  10891.374551   6036.061297   1600.00   \n",
              "term                  243454.0     36.000000      0.000000     36.00   \n",
              "int_rate              243454.0     12.647265      3.919426      5.32   \n",
              "installment           243454.0    363.904166    200.705427     54.66   \n",
              "sub_grade             243454.0      2.947485      1.407712      1.00   \n",
              "annual_inc            243454.0  61362.188853  26719.041305  19000.00   \n",
              "loan_status           243454.0      0.161681      0.368159      0.00   \n",
              "dti                   243454.0     17.135749      8.687251      0.00   \n",
              "open_acc              243454.0     10.771337      4.855060      1.00   \n",
              "pub_rec               243454.0      0.161476      0.367970      0.00   \n",
              "revol_bal             243454.0  10946.611343   7466.653332    184.00   \n",
              "revol_util            243454.0     52.434176     24.154904      0.00   \n",
              "total_acc             243454.0     23.797937     11.381256      2.00   \n",
              "mort_acc              243454.0      0.568814      0.495243      0.00   \n",
              "pub_rec_bankruptcies  243454.0      0.129790      0.336073      0.00   \n",
              "emp_duration          243454.0      5.743496      3.628832      0.00   \n",
              "credit_line_age       243454.0   8509.506428   2147.576261   4536.00   \n",
              "loan_age              243454.0   3273.913433    461.659337   2375.00   \n",
              "\n",
              "                           25%       50%        75%        max  \n",
              "loan_amnt              6000.00  10000.00  15000.000   35000.00  \n",
              "term                     36.00     36.00     36.000      36.00  \n",
              "int_rate                  9.71     12.49     15.220      30.99  \n",
              "installment             208.54    328.06    486.705    1013.43  \n",
              "sub_grade                 2.00      3.00      4.000       5.00  \n",
              "annual_inc            41000.00  56000.00  77000.000  147000.00  \n",
              "loan_status               0.00      0.00      0.000       1.00  \n",
              "dti                      11.09     16.66     22.740    1622.00  \n",
              "open_acc                  7.00     10.00     13.000      54.00  \n",
              "pub_rec                   0.00      0.00      0.000       1.00  \n",
              "revol_bal              5240.00   9261.00  15156.000   33694.00  \n",
              "revol_util               34.60     53.00     71.000     892.30  \n",
              "total_acc                15.00     22.00     30.000     118.00  \n",
              "mort_acc                  0.00      1.00      1.000       1.00  \n",
              "pub_rec_bankruptcies      0.00      0.00      0.000       1.00  \n",
              "emp_duration              2.00      6.00     10.000      10.00  \n",
              "credit_line_age        6971.00   8219.00   9833.000   14490.00  \n",
              "loan_age               2922.00   3259.00   3563.000    4598.00  "
            ],
            "text/html": [
              "\n",
              "  <div id=\"df-65091ea3-2876-4f3e-8068-ad6df2061950\">\n",
              "    <div class=\"colab-df-container\">\n",
              "      <div>\n",
              "<style scoped>\n",
              "    .dataframe tbody tr th:only-of-type {\n",
              "        vertical-align: middle;\n",
              "    }\n",
              "\n",
              "    .dataframe tbody tr th {\n",
              "        vertical-align: top;\n",
              "    }\n",
              "\n",
              "    .dataframe thead th {\n",
              "        text-align: right;\n",
              "    }\n",
              "</style>\n",
              "<table border=\"1\" class=\"dataframe\">\n",
              "  <thead>\n",
              "    <tr style=\"text-align: right;\">\n",
              "      <th></th>\n",
              "      <th>count</th>\n",
              "      <th>mean</th>\n",
              "      <th>std</th>\n",
              "      <th>min</th>\n",
              "      <th>25%</th>\n",
              "      <th>50%</th>\n",
              "      <th>75%</th>\n",
              "      <th>max</th>\n",
              "    </tr>\n",
              "  </thead>\n",
              "  <tbody>\n",
              "    <tr>\n",
              "      <th>loan_amnt</th>\n",
              "      <td>243454.0</td>\n",
              "      <td>10891.374551</td>\n",
              "      <td>6036.061297</td>\n",
              "      <td>1600.00</td>\n",
              "      <td>6000.00</td>\n",
              "      <td>10000.00</td>\n",
              "      <td>15000.000</td>\n",
              "      <td>35000.00</td>\n",
              "    </tr>\n",
              "    <tr>\n",
              "      <th>term</th>\n",
              "      <td>243454.0</td>\n",
              "      <td>36.000000</td>\n",
              "      <td>0.000000</td>\n",
              "      <td>36.00</td>\n",
              "      <td>36.00</td>\n",
              "      <td>36.00</td>\n",
              "      <td>36.000</td>\n",
              "      <td>36.00</td>\n",
              "    </tr>\n",
              "    <tr>\n",
              "      <th>int_rate</th>\n",
              "      <td>243454.0</td>\n",
              "      <td>12.647265</td>\n",
              "      <td>3.919426</td>\n",
              "      <td>5.32</td>\n",
              "      <td>9.71</td>\n",
              "      <td>12.49</td>\n",
              "      <td>15.220</td>\n",
              "      <td>30.99</td>\n",
              "    </tr>\n",
              "    <tr>\n",
              "      <th>installment</th>\n",
              "      <td>243454.0</td>\n",
              "      <td>363.904166</td>\n",
              "      <td>200.705427</td>\n",
              "      <td>54.66</td>\n",
              "      <td>208.54</td>\n",
              "      <td>328.06</td>\n",
              "      <td>486.705</td>\n",
              "      <td>1013.43</td>\n",
              "    </tr>\n",
              "    <tr>\n",
              "      <th>sub_grade</th>\n",
              "      <td>243454.0</td>\n",
              "      <td>2.947485</td>\n",
              "      <td>1.407712</td>\n",
              "      <td>1.00</td>\n",
              "      <td>2.00</td>\n",
              "      <td>3.00</td>\n",
              "      <td>4.000</td>\n",
              "      <td>5.00</td>\n",
              "    </tr>\n",
              "    <tr>\n",
              "      <th>annual_inc</th>\n",
              "      <td>243454.0</td>\n",
              "      <td>61362.188853</td>\n",
              "      <td>26719.041305</td>\n",
              "      <td>19000.00</td>\n",
              "      <td>41000.00</td>\n",
              "      <td>56000.00</td>\n",
              "      <td>77000.000</td>\n",
              "      <td>147000.00</td>\n",
              "    </tr>\n",
              "    <tr>\n",
              "      <th>loan_status</th>\n",
              "      <td>243454.0</td>\n",
              "      <td>0.161681</td>\n",
              "      <td>0.368159</td>\n",
              "      <td>0.00</td>\n",
              "      <td>0.00</td>\n",
              "      <td>0.00</td>\n",
              "      <td>0.000</td>\n",
              "      <td>1.00</td>\n",
              "    </tr>\n",
              "    <tr>\n",
              "      <th>dti</th>\n",
              "      <td>243454.0</td>\n",
              "      <td>17.135749</td>\n",
              "      <td>8.687251</td>\n",
              "      <td>0.00</td>\n",
              "      <td>11.09</td>\n",
              "      <td>16.66</td>\n",
              "      <td>22.740</td>\n",
              "      <td>1622.00</td>\n",
              "    </tr>\n",
              "    <tr>\n",
              "      <th>open_acc</th>\n",
              "      <td>243454.0</td>\n",
              "      <td>10.771337</td>\n",
              "      <td>4.855060</td>\n",
              "      <td>1.00</td>\n",
              "      <td>7.00</td>\n",
              "      <td>10.00</td>\n",
              "      <td>13.000</td>\n",
              "      <td>54.00</td>\n",
              "    </tr>\n",
              "    <tr>\n",
              "      <th>pub_rec</th>\n",
              "      <td>243454.0</td>\n",
              "      <td>0.161476</td>\n",
              "      <td>0.367970</td>\n",
              "      <td>0.00</td>\n",
              "      <td>0.00</td>\n",
              "      <td>0.00</td>\n",
              "      <td>0.000</td>\n",
              "      <td>1.00</td>\n",
              "    </tr>\n",
              "    <tr>\n",
              "      <th>revol_bal</th>\n",
              "      <td>243454.0</td>\n",
              "      <td>10946.611343</td>\n",
              "      <td>7466.653332</td>\n",
              "      <td>184.00</td>\n",
              "      <td>5240.00</td>\n",
              "      <td>9261.00</td>\n",
              "      <td>15156.000</td>\n",
              "      <td>33694.00</td>\n",
              "    </tr>\n",
              "    <tr>\n",
              "      <th>revol_util</th>\n",
              "      <td>243454.0</td>\n",
              "      <td>52.434176</td>\n",
              "      <td>24.154904</td>\n",
              "      <td>0.00</td>\n",
              "      <td>34.60</td>\n",
              "      <td>53.00</td>\n",
              "      <td>71.000</td>\n",
              "      <td>892.30</td>\n",
              "    </tr>\n",
              "    <tr>\n",
              "      <th>total_acc</th>\n",
              "      <td>243454.0</td>\n",
              "      <td>23.797937</td>\n",
              "      <td>11.381256</td>\n",
              "      <td>2.00</td>\n",
              "      <td>15.00</td>\n",
              "      <td>22.00</td>\n",
              "      <td>30.000</td>\n",
              "      <td>118.00</td>\n",
              "    </tr>\n",
              "    <tr>\n",
              "      <th>mort_acc</th>\n",
              "      <td>243454.0</td>\n",
              "      <td>0.568814</td>\n",
              "      <td>0.495243</td>\n",
              "      <td>0.00</td>\n",
              "      <td>0.00</td>\n",
              "      <td>1.00</td>\n",
              "      <td>1.000</td>\n",
              "      <td>1.00</td>\n",
              "    </tr>\n",
              "    <tr>\n",
              "      <th>pub_rec_bankruptcies</th>\n",
              "      <td>243454.0</td>\n",
              "      <td>0.129790</td>\n",
              "      <td>0.336073</td>\n",
              "      <td>0.00</td>\n",
              "      <td>0.00</td>\n",
              "      <td>0.00</td>\n",
              "      <td>0.000</td>\n",
              "      <td>1.00</td>\n",
              "    </tr>\n",
              "    <tr>\n",
              "      <th>emp_duration</th>\n",
              "      <td>243454.0</td>\n",
              "      <td>5.743496</td>\n",
              "      <td>3.628832</td>\n",
              "      <td>0.00</td>\n",
              "      <td>2.00</td>\n",
              "      <td>6.00</td>\n",
              "      <td>10.000</td>\n",
              "      <td>10.00</td>\n",
              "    </tr>\n",
              "    <tr>\n",
              "      <th>credit_line_age</th>\n",
              "      <td>243454.0</td>\n",
              "      <td>8509.506428</td>\n",
              "      <td>2147.576261</td>\n",
              "      <td>4536.00</td>\n",
              "      <td>6971.00</td>\n",
              "      <td>8219.00</td>\n",
              "      <td>9833.000</td>\n",
              "      <td>14490.00</td>\n",
              "    </tr>\n",
              "    <tr>\n",
              "      <th>loan_age</th>\n",
              "      <td>243454.0</td>\n",
              "      <td>3273.913433</td>\n",
              "      <td>461.659337</td>\n",
              "      <td>2375.00</td>\n",
              "      <td>2922.00</td>\n",
              "      <td>3259.00</td>\n",
              "      <td>3563.000</td>\n",
              "      <td>4598.00</td>\n",
              "    </tr>\n",
              "  </tbody>\n",
              "</table>\n",
              "</div>\n",
              "      <button class=\"colab-df-convert\" onclick=\"convertToInteractive('df-65091ea3-2876-4f3e-8068-ad6df2061950')\"\n",
              "              title=\"Convert this dataframe to an interactive table.\"\n",
              "              style=\"display:none;\">\n",
              "        \n",
              "  <svg xmlns=\"http://www.w3.org/2000/svg\" height=\"24px\"viewBox=\"0 0 24 24\"\n",
              "       width=\"24px\">\n",
              "    <path d=\"M0 0h24v24H0V0z\" fill=\"none\"/>\n",
              "    <path d=\"M18.56 5.44l.94 2.06.94-2.06 2.06-.94-2.06-.94-.94-2.06-.94 2.06-2.06.94zm-11 1L8.5 8.5l.94-2.06 2.06-.94-2.06-.94L8.5 2.5l-.94 2.06-2.06.94zm10 10l.94 2.06.94-2.06 2.06-.94-2.06-.94-.94-2.06-.94 2.06-2.06.94z\"/><path d=\"M17.41 7.96l-1.37-1.37c-.4-.4-.92-.59-1.43-.59-.52 0-1.04.2-1.43.59L10.3 9.45l-7.72 7.72c-.78.78-.78 2.05 0 2.83L4 21.41c.39.39.9.59 1.41.59.51 0 1.02-.2 1.41-.59l7.78-7.78 2.81-2.81c.8-.78.8-2.07 0-2.86zM5.41 20L4 18.59l7.72-7.72 1.47 1.35L5.41 20z\"/>\n",
              "  </svg>\n",
              "      </button>\n",
              "      \n",
              "  <style>\n",
              "    .colab-df-container {\n",
              "      display:flex;\n",
              "      flex-wrap:wrap;\n",
              "      gap: 12px;\n",
              "    }\n",
              "\n",
              "    .colab-df-convert {\n",
              "      background-color: #E8F0FE;\n",
              "      border: none;\n",
              "      border-radius: 50%;\n",
              "      cursor: pointer;\n",
              "      display: none;\n",
              "      fill: #1967D2;\n",
              "      height: 32px;\n",
              "      padding: 0 0 0 0;\n",
              "      width: 32px;\n",
              "    }\n",
              "\n",
              "    .colab-df-convert:hover {\n",
              "      background-color: #E2EBFA;\n",
              "      box-shadow: 0px 1px 2px rgba(60, 64, 67, 0.3), 0px 1px 3px 1px rgba(60, 64, 67, 0.15);\n",
              "      fill: #174EA6;\n",
              "    }\n",
              "\n",
              "    [theme=dark] .colab-df-convert {\n",
              "      background-color: #3B4455;\n",
              "      fill: #D2E3FC;\n",
              "    }\n",
              "\n",
              "    [theme=dark] .colab-df-convert:hover {\n",
              "      background-color: #434B5C;\n",
              "      box-shadow: 0px 1px 3px 1px rgba(0, 0, 0, 0.15);\n",
              "      filter: drop-shadow(0px 1px 2px rgba(0, 0, 0, 0.3));\n",
              "      fill: #FFFFFF;\n",
              "    }\n",
              "  </style>\n",
              "\n",
              "      <script>\n",
              "        const buttonEl =\n",
              "          document.querySelector('#df-65091ea3-2876-4f3e-8068-ad6df2061950 button.colab-df-convert');\n",
              "        buttonEl.style.display =\n",
              "          google.colab.kernel.accessAllowed ? 'block' : 'none';\n",
              "\n",
              "        async function convertToInteractive(key) {\n",
              "          const element = document.querySelector('#df-65091ea3-2876-4f3e-8068-ad6df2061950');\n",
              "          const dataTable =\n",
              "            await google.colab.kernel.invokeFunction('convertToInteractive',\n",
              "                                                     [key], {});\n",
              "          if (!dataTable) return;\n",
              "\n",
              "          const docLinkHtml = 'Like what you see? Visit the ' +\n",
              "            '<a target=\"_blank\" href=https://colab.research.google.com/notebooks/data_table.ipynb>data table notebook</a>'\n",
              "            + ' to learn more about interactive tables.';\n",
              "          element.innerHTML = '';\n",
              "          dataTable['output_type'] = 'display_data';\n",
              "          await google.colab.output.renderOutput(dataTable, element);\n",
              "          const docLink = document.createElement('div');\n",
              "          docLink.innerHTML = docLinkHtml;\n",
              "          element.appendChild(docLink);\n",
              "        }\n",
              "      </script>\n",
              "    </div>\n",
              "  </div>\n",
              "  "
            ]
          },
          "metadata": {},
          "execution_count": 472
        }
      ]
    },
    {
      "cell_type": "markdown",
      "source": [
        "### Exploratory Data Analysis (EDA)"
      ],
      "metadata": {
        "id": "7MD2DtV1Xiug"
      }
    },
    {
      "cell_type": "code",
      "source": [
        "work_df.groupby(by = \"loan_status\")[\"loan_amnt\"].describe()"
      ],
      "metadata": {
        "colab": {
          "base_uri": "https://localhost:8080/",
          "height": 143
        },
        "id": "KvvPLbpbgtIS",
        "outputId": "ccb53ed1-24d2-4ea7-ba94-f2e23e8c7e47"
      },
      "execution_count": 473,
      "outputs": [
        {
          "output_type": "execute_result",
          "data": {
            "text/plain": [
              "                count          mean          std     min     25%      50%  \\\n",
              "loan_status                                                                 \n",
              "0            204092.0  10927.141069  6072.380153  1600.0  6000.0  10000.0   \n",
              "1             39362.0  10705.925131  5840.694217  1600.0  6000.0  10000.0   \n",
              "\n",
              "                 75%      max  \n",
              "loan_status                    \n",
              "0            15000.0  35000.0  \n",
              "1            14650.0  32350.0  "
            ],
            "text/html": [
              "\n",
              "  <div id=\"df-b0dbc712-8e5a-4dac-a008-71f491835339\">\n",
              "    <div class=\"colab-df-container\">\n",
              "      <div>\n",
              "<style scoped>\n",
              "    .dataframe tbody tr th:only-of-type {\n",
              "        vertical-align: middle;\n",
              "    }\n",
              "\n",
              "    .dataframe tbody tr th {\n",
              "        vertical-align: top;\n",
              "    }\n",
              "\n",
              "    .dataframe thead th {\n",
              "        text-align: right;\n",
              "    }\n",
              "</style>\n",
              "<table border=\"1\" class=\"dataframe\">\n",
              "  <thead>\n",
              "    <tr style=\"text-align: right;\">\n",
              "      <th></th>\n",
              "      <th>count</th>\n",
              "      <th>mean</th>\n",
              "      <th>std</th>\n",
              "      <th>min</th>\n",
              "      <th>25%</th>\n",
              "      <th>50%</th>\n",
              "      <th>75%</th>\n",
              "      <th>max</th>\n",
              "    </tr>\n",
              "    <tr>\n",
              "      <th>loan_status</th>\n",
              "      <th></th>\n",
              "      <th></th>\n",
              "      <th></th>\n",
              "      <th></th>\n",
              "      <th></th>\n",
              "      <th></th>\n",
              "      <th></th>\n",
              "      <th></th>\n",
              "    </tr>\n",
              "  </thead>\n",
              "  <tbody>\n",
              "    <tr>\n",
              "      <th>0</th>\n",
              "      <td>204092.0</td>\n",
              "      <td>10927.141069</td>\n",
              "      <td>6072.380153</td>\n",
              "      <td>1600.0</td>\n",
              "      <td>6000.0</td>\n",
              "      <td>10000.0</td>\n",
              "      <td>15000.0</td>\n",
              "      <td>35000.0</td>\n",
              "    </tr>\n",
              "    <tr>\n",
              "      <th>1</th>\n",
              "      <td>39362.0</td>\n",
              "      <td>10705.925131</td>\n",
              "      <td>5840.694217</td>\n",
              "      <td>1600.0</td>\n",
              "      <td>6000.0</td>\n",
              "      <td>10000.0</td>\n",
              "      <td>14650.0</td>\n",
              "      <td>32350.0</td>\n",
              "    </tr>\n",
              "  </tbody>\n",
              "</table>\n",
              "</div>\n",
              "      <button class=\"colab-df-convert\" onclick=\"convertToInteractive('df-b0dbc712-8e5a-4dac-a008-71f491835339')\"\n",
              "              title=\"Convert this dataframe to an interactive table.\"\n",
              "              style=\"display:none;\">\n",
              "        \n",
              "  <svg xmlns=\"http://www.w3.org/2000/svg\" height=\"24px\"viewBox=\"0 0 24 24\"\n",
              "       width=\"24px\">\n",
              "    <path d=\"M0 0h24v24H0V0z\" fill=\"none\"/>\n",
              "    <path d=\"M18.56 5.44l.94 2.06.94-2.06 2.06-.94-2.06-.94-.94-2.06-.94 2.06-2.06.94zm-11 1L8.5 8.5l.94-2.06 2.06-.94-2.06-.94L8.5 2.5l-.94 2.06-2.06.94zm10 10l.94 2.06.94-2.06 2.06-.94-2.06-.94-.94-2.06-.94 2.06-2.06.94z\"/><path d=\"M17.41 7.96l-1.37-1.37c-.4-.4-.92-.59-1.43-.59-.52 0-1.04.2-1.43.59L10.3 9.45l-7.72 7.72c-.78.78-.78 2.05 0 2.83L4 21.41c.39.39.9.59 1.41.59.51 0 1.02-.2 1.41-.59l7.78-7.78 2.81-2.81c.8-.78.8-2.07 0-2.86zM5.41 20L4 18.59l7.72-7.72 1.47 1.35L5.41 20z\"/>\n",
              "  </svg>\n",
              "      </button>\n",
              "      \n",
              "  <style>\n",
              "    .colab-df-container {\n",
              "      display:flex;\n",
              "      flex-wrap:wrap;\n",
              "      gap: 12px;\n",
              "    }\n",
              "\n",
              "    .colab-df-convert {\n",
              "      background-color: #E8F0FE;\n",
              "      border: none;\n",
              "      border-radius: 50%;\n",
              "      cursor: pointer;\n",
              "      display: none;\n",
              "      fill: #1967D2;\n",
              "      height: 32px;\n",
              "      padding: 0 0 0 0;\n",
              "      width: 32px;\n",
              "    }\n",
              "\n",
              "    .colab-df-convert:hover {\n",
              "      background-color: #E2EBFA;\n",
              "      box-shadow: 0px 1px 2px rgba(60, 64, 67, 0.3), 0px 1px 3px 1px rgba(60, 64, 67, 0.15);\n",
              "      fill: #174EA6;\n",
              "    }\n",
              "\n",
              "    [theme=dark] .colab-df-convert {\n",
              "      background-color: #3B4455;\n",
              "      fill: #D2E3FC;\n",
              "    }\n",
              "\n",
              "    [theme=dark] .colab-df-convert:hover {\n",
              "      background-color: #434B5C;\n",
              "      box-shadow: 0px 1px 3px 1px rgba(0, 0, 0, 0.15);\n",
              "      filter: drop-shadow(0px 1px 2px rgba(0, 0, 0, 0.3));\n",
              "      fill: #FFFFFF;\n",
              "    }\n",
              "  </style>\n",
              "\n",
              "      <script>\n",
              "        const buttonEl =\n",
              "          document.querySelector('#df-b0dbc712-8e5a-4dac-a008-71f491835339 button.colab-df-convert');\n",
              "        buttonEl.style.display =\n",
              "          google.colab.kernel.accessAllowed ? 'block' : 'none';\n",
              "\n",
              "        async function convertToInteractive(key) {\n",
              "          const element = document.querySelector('#df-b0dbc712-8e5a-4dac-a008-71f491835339');\n",
              "          const dataTable =\n",
              "            await google.colab.kernel.invokeFunction('convertToInteractive',\n",
              "                                                     [key], {});\n",
              "          if (!dataTable) return;\n",
              "\n",
              "          const docLinkHtml = 'Like what you see? Visit the ' +\n",
              "            '<a target=\"_blank\" href=https://colab.research.google.com/notebooks/data_table.ipynb>data table notebook</a>'\n",
              "            + ' to learn more about interactive tables.';\n",
              "          element.innerHTML = '';\n",
              "          dataTable['output_type'] = 'display_data';\n",
              "          await google.colab.output.renderOutput(dataTable, element);\n",
              "          const docLink = document.createElement('div');\n",
              "          docLink.innerHTML = docLinkHtml;\n",
              "          element.appendChild(docLink);\n",
              "        }\n",
              "      </script>\n",
              "    </div>\n",
              "  </div>\n",
              "  "
            ]
          },
          "metadata": {},
          "execution_count": 473
        }
      ]
    },
    {
      "cell_type": "code",
      "source": [
        "pd.crosstab(columns = work_df[\"loan_status\"],\n",
        "           index=work_df[\"home_ownership\"], \n",
        "           normalize=\"index\").plot(kind=\"bar\")"
      ],
      "metadata": {
        "colab": {
          "base_uri": "https://localhost:8080/",
          "height": 345
        },
        "id": "AATjH9uhlPJP",
        "outputId": "cf045ebc-c057-4c3f-eea7-7ecc0ba21048"
      },
      "execution_count": 474,
      "outputs": [
        {
          "output_type": "execute_result",
          "data": {
            "text/plain": [
              "<matplotlib.axes._subplots.AxesSubplot at 0x7f6929162e20>"
            ]
          },
          "metadata": {},
          "execution_count": 474
        },
        {
          "output_type": "display_data",
          "data": {
            "text/plain": [
              "<Figure size 432x288 with 1 Axes>"
            ],
            "image/png": "[encoded data removed]"
          },
          "metadata": {
            "needs_background": "light"
          }
        }
      ]
    },
    {
      "cell_type": "code",
      "source": [
        "work_df.groupby(by = \"loan_status\")[\"home_ownership\"].describe()"
      ],
      "metadata": {
        "colab": {
          "base_uri": "https://localhost:8080/",
          "height": 143
        },
        "id": "brC3y2qGlj8o",
        "outputId": "a7e4041b-ab4f-494e-a283-ff71d5c98d7e"
      },
      "execution_count": 475,
      "outputs": [
        {
          "output_type": "execute_result",
          "data": {
            "text/plain": [
              "              count unique       top   freq\n",
              "loan_status                                \n",
              "0            204092      4  MORTGAGE  93616\n",
              "1             39362      4      RENT  21311"
            ],
            "text/html": [
              "\n",
              "  <div id=\"df-544646c2-c8c4-408d-bb76-03ab5bb5c5c8\">\n",
              "    <div class=\"colab-df-container\">\n",
              "      <div>\n",
              "<style scoped>\n",
              "    .dataframe tbody tr th:only-of-type {\n",
              "        vertical-align: middle;\n",
              "    }\n",
              "\n",
              "    .dataframe tbody tr th {\n",
              "        vertical-align: top;\n",
              "    }\n",
              "\n",
              "    .dataframe thead th {\n",
              "        text-align: right;\n",
              "    }\n",
              "</style>\n",
              "<table border=\"1\" class=\"dataframe\">\n",
              "  <thead>\n",
              "    <tr style=\"text-align: right;\">\n",
              "      <th></th>\n",
              "      <th>count</th>\n",
              "      <th>unique</th>\n",
              "      <th>top</th>\n",
              "      <th>freq</th>\n",
              "    </tr>\n",
              "    <tr>\n",
              "      <th>loan_status</th>\n",
              "      <th></th>\n",
              "      <th></th>\n",
              "      <th></th>\n",
              "      <th></th>\n",
              "    </tr>\n",
              "  </thead>\n",
              "  <tbody>\n",
              "    <tr>\n",
              "      <th>0</th>\n",
              "      <td>204092</td>\n",
              "      <td>4</td>\n",
              "      <td>MORTGAGE</td>\n",
              "      <td>93616</td>\n",
              "    </tr>\n",
              "    <tr>\n",
              "      <th>1</th>\n",
              "      <td>39362</td>\n",
              "      <td>4</td>\n",
              "      <td>RENT</td>\n",
              "      <td>21311</td>\n",
              "    </tr>\n",
              "  </tbody>\n",
              "</table>\n",
              "</div>\n",
              "      <button class=\"colab-df-convert\" onclick=\"convertToInteractive('df-544646c2-c8c4-408d-bb76-03ab5bb5c5c8')\"\n",
              "              title=\"Convert this dataframe to an interactive table.\"\n",
              "              style=\"display:none;\">\n",
              "        \n",
              "  <svg xmlns=\"http://www.w3.org/2000/svg\" height=\"24px\"viewBox=\"0 0 24 24\"\n",
              "       width=\"24px\">\n",
              "    <path d=\"M0 0h24v24H0V0z\" fill=\"none\"/>\n",
              "    <path d=\"M18.56 5.44l.94 2.06.94-2.06 2.06-.94-2.06-.94-.94-2.06-.94 2.06-2.06.94zm-11 1L8.5 8.5l.94-2.06 2.06-.94-2.06-.94L8.5 2.5l-.94 2.06-2.06.94zm10 10l.94 2.06.94-2.06 2.06-.94-2.06-.94-.94-2.06-.94 2.06-2.06.94z\"/><path d=\"M17.41 7.96l-1.37-1.37c-.4-.4-.92-.59-1.43-.59-.52 0-1.04.2-1.43.59L10.3 9.45l-7.72 7.72c-.78.78-.78 2.05 0 2.83L4 21.41c.39.39.9.59 1.41.59.51 0 1.02-.2 1.41-.59l7.78-7.78 2.81-2.81c.8-.78.8-2.07 0-2.86zM5.41 20L4 18.59l7.72-7.72 1.47 1.35L5.41 20z\"/>\n",
              "  </svg>\n",
              "      </button>\n",
              "      \n",
              "  <style>\n",
              "    .colab-df-container {\n",
              "      display:flex;\n",
              "      flex-wrap:wrap;\n",
              "      gap: 12px;\n",
              "    }\n",
              "\n",
              "    .colab-df-convert {\n",
              "      background-color: #E8F0FE;\n",
              "      border: none;\n",
              "      border-radius: 50%;\n",
              "      cursor: pointer;\n",
              "      display: none;\n",
              "      fill: #1967D2;\n",
              "      height: 32px;\n",
              "      padding: 0 0 0 0;\n",
              "      width: 32px;\n",
              "    }\n",
              "\n",
              "    .colab-df-convert:hover {\n",
              "      background-color: #E2EBFA;\n",
              "      box-shadow: 0px 1px 2px rgba(60, 64, 67, 0.3), 0px 1px 3px 1px rgba(60, 64, 67, 0.15);\n",
              "      fill: #174EA6;\n",
              "    }\n",
              "\n",
              "    [theme=dark] .colab-df-convert {\n",
              "      background-color: #3B4455;\n",
              "      fill: #D2E3FC;\n",
              "    }\n",
              "\n",
              "    [theme=dark] .colab-df-convert:hover {\n",
              "      background-color: #434B5C;\n",
              "      box-shadow: 0px 1px 3px 1px rgba(0, 0, 0, 0.15);\n",
              "      filter: drop-shadow(0px 1px 2px rgba(0, 0, 0, 0.3));\n",
              "      fill: #FFFFFF;\n",
              "    }\n",
              "  </style>\n",
              "\n",
              "      <script>\n",
              "        const buttonEl =\n",
              "          document.querySelector('#df-544646c2-c8c4-408d-bb76-03ab5bb5c5c8 button.colab-df-convert');\n",
              "        buttonEl.style.display =\n",
              "          google.colab.kernel.accessAllowed ? 'block' : 'none';\n",
              "\n",
              "        async function convertToInteractive(key) {\n",
              "          const element = document.querySelector('#df-544646c2-c8c4-408d-bb76-03ab5bb5c5c8');\n",
              "          const dataTable =\n",
              "            await google.colab.kernel.invokeFunction('convertToInteractive',\n",
              "                                                     [key], {});\n",
              "          if (!dataTable) return;\n",
              "\n",
              "          const docLinkHtml = 'Like what you see? Visit the ' +\n",
              "            '<a target=\"_blank\" href=https://colab.research.google.com/notebooks/data_table.ipynb>data table notebook</a>'\n",
              "            + ' to learn more about interactive tables.';\n",
              "          element.innerHTML = '';\n",
              "          dataTable['output_type'] = 'display_data';\n",
              "          await google.colab.output.renderOutput(dataTable, element);\n",
              "          const docLink = document.createElement('div');\n",
              "          docLink.innerHTML = docLinkHtml;\n",
              "          element.appendChild(docLink);\n",
              "        }\n",
              "      </script>\n",
              "    </div>\n",
              "  </div>\n",
              "  "
            ]
          },
          "metadata": {},
          "execution_count": 475
        }
      ]
    },
    {
      "cell_type": "markdown",
      "source": [
        "##### **Observation**: The major home ownership types are - Mortgage and Rental. "
      ],
      "metadata": {
        "id": "NU5KSfd6mPF_"
      }
    },
    {
      "cell_type": "code",
      "source": [
        "work_df.groupby(by = \"loan_status\")[\"int_rate\"].describe()"
      ],
      "metadata": {
        "colab": {
          "base_uri": "https://localhost:8080/",
          "height": 143
        },
        "id": "4DmaQpwsmgkW",
        "outputId": "472e405a-9dcd-4346-edd4-97f9355d5627"
      },
      "execution_count": 476,
      "outputs": [
        {
          "output_type": "execute_result",
          "data": {
            "text/plain": [
              "                count       mean       std   min    25%    50%    75%    max\n",
              "loan_status                                                                 \n",
              "0            204092.0  12.313627  3.852737  5.32   9.17  12.12  14.65  30.99\n",
              "1             39362.0  14.377174  3.805262  5.32  11.99  14.09  16.99  29.67"
            ],
            "text/html": [
              "\n",
              "  <div id=\"df-e2d9ccd2-774a-4ea2-b28c-4c0429cb6ad6\">\n",
              "    <div class=\"colab-df-container\">\n",
              "      <div>\n",
              "<style scoped>\n",
              "    .dataframe tbody tr th:only-of-type {\n",
              "        vertical-align: middle;\n",
              "    }\n",
              "\n",
              "    .dataframe tbody tr th {\n",
              "        vertical-align: top;\n",
              "    }\n",
              "\n",
              "    .dataframe thead th {\n",
              "        text-align: right;\n",
              "    }\n",
              "</style>\n",
              "<table border=\"1\" class=\"dataframe\">\n",
              "  <thead>\n",
              "    <tr style=\"text-align: right;\">\n",
              "      <th></th>\n",
              "      <th>count</th>\n",
              "      <th>mean</th>\n",
              "      <th>std</th>\n",
              "      <th>min</th>\n",
              "      <th>25%</th>\n",
              "      <th>50%</th>\n",
              "      <th>75%</th>\n",
              "      <th>max</th>\n",
              "    </tr>\n",
              "    <tr>\n",
              "      <th>loan_status</th>\n",
              "      <th></th>\n",
              "      <th></th>\n",
              "      <th></th>\n",
              "      <th></th>\n",
              "      <th></th>\n",
              "      <th></th>\n",
              "      <th></th>\n",
              "      <th></th>\n",
              "    </tr>\n",
              "  </thead>\n",
              "  <tbody>\n",
              "    <tr>\n",
              "      <th>0</th>\n",
              "      <td>204092.0</td>\n",
              "      <td>12.313627</td>\n",
              "      <td>3.852737</td>\n",
              "      <td>5.32</td>\n",
              "      <td>9.17</td>\n",
              "      <td>12.12</td>\n",
              "      <td>14.65</td>\n",
              "      <td>30.99</td>\n",
              "    </tr>\n",
              "    <tr>\n",
              "      <th>1</th>\n",
              "      <td>39362.0</td>\n",
              "      <td>14.377174</td>\n",
              "      <td>3.805262</td>\n",
              "      <td>5.32</td>\n",
              "      <td>11.99</td>\n",
              "      <td>14.09</td>\n",
              "      <td>16.99</td>\n",
              "      <td>29.67</td>\n",
              "    </tr>\n",
              "  </tbody>\n",
              "</table>\n",
              "</div>\n",
              "      <button class=\"colab-df-convert\" onclick=\"convertToInteractive('df-e2d9ccd2-774a-4ea2-b28c-4c0429cb6ad6')\"\n",
              "              title=\"Convert this dataframe to an interactive table.\"\n",
              "              style=\"display:none;\">\n",
              "        \n",
              "  <svg xmlns=\"http://www.w3.org/2000/svg\" height=\"24px\"viewBox=\"0 0 24 24\"\n",
              "       width=\"24px\">\n",
              "    <path d=\"M0 0h24v24H0V0z\" fill=\"none\"/>\n",
              "    <path d=\"M18.56 5.44l.94 2.06.94-2.06 2.06-.94-2.06-.94-.94-2.06-.94 2.06-2.06.94zm-11 1L8.5 8.5l.94-2.06 2.06-.94-2.06-.94L8.5 2.5l-.94 2.06-2.06.94zm10 10l.94 2.06.94-2.06 2.06-.94-2.06-.94-.94-2.06-.94 2.06-2.06.94z\"/><path d=\"M17.41 7.96l-1.37-1.37c-.4-.4-.92-.59-1.43-.59-.52 0-1.04.2-1.43.59L10.3 9.45l-7.72 7.72c-.78.78-.78 2.05 0 2.83L4 21.41c.39.39.9.59 1.41.59.51 0 1.02-.2 1.41-.59l7.78-7.78 2.81-2.81c.8-.78.8-2.07 0-2.86zM5.41 20L4 18.59l7.72-7.72 1.47 1.35L5.41 20z\"/>\n",
              "  </svg>\n",
              "      </button>\n",
              "      \n",
              "  <style>\n",
              "    .colab-df-container {\n",
              "      display:flex;\n",
              "      flex-wrap:wrap;\n",
              "      gap: 12px;\n",
              "    }\n",
              "\n",
              "    .colab-df-convert {\n",
              "      background-color: #E8F0FE;\n",
              "      border: none;\n",
              "      border-radius: 50%;\n",
              "      cursor: pointer;\n",
              "      display: none;\n",
              "      fill: #1967D2;\n",
              "      height: 32px;\n",
              "      padding: 0 0 0 0;\n",
              "      width: 32px;\n",
              "    }\n",
              "\n",
              "    .colab-df-convert:hover {\n",
              "      background-color: #E2EBFA;\n",
              "      box-shadow: 0px 1px 2px rgba(60, 64, 67, 0.3), 0px 1px 3px 1px rgba(60, 64, 67, 0.15);\n",
              "      fill: #174EA6;\n",
              "    }\n",
              "\n",
              "    [theme=dark] .colab-df-convert {\n",
              "      background-color: #3B4455;\n",
              "      fill: #D2E3FC;\n",
              "    }\n",
              "\n",
              "    [theme=dark] .colab-df-convert:hover {\n",
              "      background-color: #434B5C;\n",
              "      box-shadow: 0px 1px 3px 1px rgba(0, 0, 0, 0.15);\n",
              "      filter: drop-shadow(0px 1px 2px rgba(0, 0, 0, 0.3));\n",
              "      fill: #FFFFFF;\n",
              "    }\n",
              "  </style>\n",
              "\n",
              "      <script>\n",
              "        const buttonEl =\n",
              "          document.querySelector('#df-e2d9ccd2-774a-4ea2-b28c-4c0429cb6ad6 button.colab-df-convert');\n",
              "        buttonEl.style.display =\n",
              "          google.colab.kernel.accessAllowed ? 'block' : 'none';\n",
              "\n",
              "        async function convertToInteractive(key) {\n",
              "          const element = document.querySelector('#df-e2d9ccd2-774a-4ea2-b28c-4c0429cb6ad6');\n",
              "          const dataTable =\n",
              "            await google.colab.kernel.invokeFunction('convertToInteractive',\n",
              "                                                     [key], {});\n",
              "          if (!dataTable) return;\n",
              "\n",
              "          const docLinkHtml = 'Like what you see? Visit the ' +\n",
              "            '<a target=\"_blank\" href=https://colab.research.google.com/notebooks/data_table.ipynb>data table notebook</a>'\n",
              "            + ' to learn more about interactive tables.';\n",
              "          element.innerHTML = '';\n",
              "          dataTable['output_type'] = 'display_data';\n",
              "          await google.colab.output.renderOutput(dataTable, element);\n",
              "          const docLink = document.createElement('div');\n",
              "          docLink.innerHTML = docLinkHtml;\n",
              "          element.appendChild(docLink);\n",
              "        }\n",
              "      </script>\n",
              "    </div>\n",
              "  </div>\n",
              "  "
            ]
          },
          "metadata": {},
          "execution_count": 476
        }
      ]
    },
    {
      "cell_type": "code",
      "source": [
        "for col in work_df.columns:\n",
        "  print(blue(\"Loan Status vs {0} \\n\", ['bold']).format(col))\n",
        "  print(work_df.groupby(by='loan_status')[col].describe().round(1), '\\n')"
      ],
      "metadata": {
        "colab": {
          "base_uri": "https://localhost:8080/"
        },
        "id": "l5xNAHGemm14",
        "outputId": "6a5bd470-4809-4c6d-b896-b68eec8e0bbd"
      },
      "execution_count": 477,
      "outputs": [
        {
          "output_type": "stream",
          "name": "stdout",
          "text": [
            "\u001b[1;34mLoan Status vs loan_amnt \n",
            "\u001b[0m\n",
            "                count     mean     std     min     25%      50%      75%  \\\n",
            "loan_status                                                                \n",
            "0            204092.0  10927.1  6072.4  1600.0  6000.0  10000.0  15000.0   \n",
            "1             39362.0  10705.9  5840.7  1600.0  6000.0  10000.0  14650.0   \n",
            "\n",
            "                 max  \n",
            "loan_status           \n",
            "0            35000.0  \n",
            "1            32350.0   \n",
            "\n",
            "\u001b[1;34mLoan Status vs term \n",
            "\u001b[0m\n",
            "                count  mean  std   min   25%   50%   75%   max\n",
            "loan_status                                                   \n",
            "0            204092.0  36.0  0.0  36.0  36.0  36.0  36.0  36.0\n",
            "1             39362.0  36.0  0.0  36.0  36.0  36.0  36.0  36.0 \n",
            "\n",
            "\u001b[1;34mLoan Status vs int_rate \n",
            "\u001b[0m\n",
            "                count  mean  std  min   25%   50%   75%   max\n",
            "loan_status                                                  \n",
            "0            204092.0  12.3  3.9  5.3   9.2  12.1  14.6  31.0\n",
            "1             39362.0  14.4  3.8  5.3  12.0  14.1  17.0  29.7 \n",
            "\n",
            "\u001b[1;34mLoan Status vs installment \n",
            "\u001b[0m\n",
            "                count   mean    std   min    25%    50%    75%     max\n",
            "loan_status                                                           \n",
            "0            204092.0  363.3  200.9  54.7  207.2  327.3  485.2  1013.4\n",
            "1             39362.0  367.1  199.9  54.7  213.2  332.0  491.0  1013.4 \n",
            "\n",
            "\u001b[1;34mLoan Status vs grade \n",
            "\u001b[0m\n",
            "              count unique top   freq\n",
            "loan_status                          \n",
            "0            204092      7   B  75278\n",
            "1             39362      7   C  13088 \n",
            "\n",
            "\u001b[1;34mLoan Status vs sub_grade \n",
            "\u001b[0m\n",
            "                count  mean  std  min  25%  50%  75%  max\n",
            "loan_status                                              \n",
            "0            204092.0   2.9  1.4  1.0  2.0  3.0  4.0  5.0\n",
            "1             39362.0   3.0  1.4  1.0  2.0  3.0  4.0  5.0 \n",
            "\n",
            "\u001b[1;34mLoan Status vs emp_title \n",
            "\u001b[0m\n",
            "              count  unique            top   freq\n",
            "loan_status                                      \n",
            "0            204092  101065  unknown_title  11017\n",
            "1             39362   22131  unknown_title   3559 \n",
            "\n",
            "\u001b[1;34mLoan Status vs home_ownership \n",
            "\u001b[0m\n",
            "              count unique       top   freq\n",
            "loan_status                                \n",
            "0            204092      4  MORTGAGE  93616\n",
            "1             39362      4      RENT  21311 \n",
            "\n",
            "\u001b[1;34mLoan Status vs annual_inc \n",
            "\u001b[0m\n",
            "                count     mean      std      min      25%      50%      75%  \\\n",
            "loan_status                                                                   \n",
            "0            204092.0  62667.8  26892.1  19000.0  42000.0  58214.5  80000.0   \n",
            "1             39362.0  54592.6  24721.6  19000.0  36000.0  50000.0  68000.0   \n",
            "\n",
            "                  max  \n",
            "loan_status            \n",
            "0            147000.0  \n",
            "1            147000.0   \n",
            "\n",
            "\u001b[1;34mLoan Status vs verification_status \n",
            "\u001b[0m\n",
            "              count unique           top   freq\n",
            "loan_status                                    \n",
            "0            204092      3  Not Verified  83087\n",
            "1             39362      3  Not Verified  13260 \n",
            "\n",
            "\u001b[1;34mLoan Status vs loan_status \n",
            "\u001b[0m\n",
            "                count  mean  std  min  25%  50%  75%  max\n",
            "loan_status                                              \n",
            "0            204092.0   0.0  0.0  0.0  0.0  0.0  0.0  0.0\n",
            "1             39362.0   1.0  0.0  1.0  1.0  1.0  1.0  1.0 \n",
            "\n",
            "\u001b[1;34mLoan Status vs purpose \n",
            "\u001b[0m\n",
            "              count unique                 top    freq\n",
            "loan_status                                           \n",
            "0            204092     14  debt_consolidation  117963\n",
            "1             39362     14  debt_consolidation   23702 \n",
            "\n",
            "\u001b[1;34mLoan Status vs dti \n",
            "\u001b[0m\n",
            "                count  mean  std  min   25%   50%   75%     max\n",
            "loan_status                                                    \n",
            "0            204092.0  16.7  8.7  0.0  10.8  16.2  22.2  1622.0\n",
            "1             39362.0  19.2  8.3  0.0  13.0  19.0  25.2    93.9 \n",
            "\n",
            "\u001b[1;34mLoan Status vs open_acc \n",
            "\u001b[0m\n",
            "                count  mean  std  min  25%   50%   75%   max\n",
            "loan_status                                                 \n",
            "0            204092.0  10.7  4.8  1.0  7.0  10.0  13.0  54.0\n",
            "1             39362.0  10.9  5.0  1.0  7.0  10.0  13.0  52.0 \n",
            "\n",
            "\u001b[1;34mLoan Status vs pub_rec \n",
            "\u001b[0m\n",
            "                count  mean  std  min  25%  50%  75%  max\n",
            "loan_status                                              \n",
            "0            204092.0   0.2  0.4  0.0  0.0  0.0  0.0  1.0\n",
            "1             39362.0   0.2  0.4  0.0  0.0  0.0  0.0  1.0 \n",
            "\n",
            "\u001b[1;34mLoan Status vs revol_bal \n",
            "\u001b[0m\n",
            "                count     mean     std    min     25%     50%      75%  \\\n",
            "loan_status                                                              \n",
            "0            204092.0  11004.3  7501.2  184.0  5266.0  9320.0  15260.0   \n",
            "1             39362.0  10647.7  7277.7  184.0  5116.0  8996.5  14651.8   \n",
            "\n",
            "                 max  \n",
            "loan_status           \n",
            "0            33694.0  \n",
            "1            33685.0   \n",
            "\n",
            "\u001b[1;34mLoan Status vs revol_util \n",
            "\u001b[0m\n",
            "                count  mean   std  min   25%   50%   75%    max\n",
            "loan_status                                                    \n",
            "0            204092.0  51.6  24.2  0.0  33.6  52.1  70.2  892.3\n",
            "1             39362.0  56.5  23.2  0.0  39.8  57.4  74.4  132.1 \n",
            "\n",
            "\u001b[1;34mLoan Status vs total_acc \n",
            "\u001b[0m\n",
            "                count  mean   std  min   25%   50%   75%    max\n",
            "loan_status                                                    \n",
            "0            204092.0  24.0  11.4  2.0  16.0  22.0  30.0  118.0\n",
            "1             39362.0  22.9  11.3  2.0  15.0  21.0  29.0   95.0 \n",
            "\n",
            "\u001b[1;34mLoan Status vs initial_list_status \n",
            "\u001b[0m\n",
            "              count unique top    freq\n",
            "loan_status                           \n",
            "0            204092      2   f  127411\n",
            "1             39362      2   f   24774 \n",
            "\n",
            "\u001b[1;34mLoan Status vs application_type \n",
            "\u001b[0m\n",
            "              count unique         top    freq\n",
            "loan_status                                   \n",
            "0            204092      3  INDIVIDUAL  203848\n",
            "1             39362      3  INDIVIDUAL   39305 \n",
            "\n",
            "\u001b[1;34mLoan Status vs mort_acc \n",
            "\u001b[0m\n",
            "                count  mean  std  min  25%  50%  75%  max\n",
            "loan_status                                              \n",
            "0            204092.0   0.6  0.5  0.0  0.0  1.0  1.0  1.0\n",
            "1             39362.0   0.5  0.5  0.0  0.0  0.0  1.0  1.0 \n",
            "\n",
            "\u001b[1;34mLoan Status vs pub_rec_bankruptcies \n",
            "\u001b[0m\n",
            "                count  mean  std  min  25%  50%  75%  max\n",
            "loan_status                                              \n",
            "0            204092.0   0.1  0.3  0.0  0.0  0.0  0.0  1.0\n",
            "1             39362.0   0.1  0.3  0.0  0.0  0.0  0.0  1.0 \n",
            "\n",
            "\u001b[1;34mLoan Status vs emp_duration \n",
            "\u001b[0m\n",
            "                count  mean  std  min  25%  50%   75%   max\n",
            "loan_status                                                \n",
            "0            204092.0   5.8  3.6  0.0  2.0  6.0  10.0  10.0\n",
            "1             39362.0   5.6  3.6  0.0  2.0  5.0  10.0  10.0 \n",
            "\n",
            "\u001b[1;34mLoan Status vs credit_line_age \n",
            "\u001b[0m\n",
            "                count    mean     std     min     25%     50%     75%      max\n",
            "loan_status                                                                   \n",
            "0            204092.0  8555.2  2142.0  4536.0  7032.0  8250.0  9862.0  14490.0\n",
            "1             39362.0  8272.7  2160.6  4536.0  6697.0  8007.0  9558.0  14490.0 \n",
            "\n",
            "\u001b[1;34mLoan Status vs loan_age \n",
            "\u001b[0m\n",
            "                count    mean    std     min     25%     50%     75%     max\n",
            "loan_status                                                                 \n",
            "0            204092.0  3285.9  467.6  2375.0  2922.0  3287.0  3593.0  4598.0\n",
            "1             39362.0  3211.8  424.0  2375.0  2894.0  3167.0  3502.0  4598.0 \n",
            "\n"
          ]
        }
      ]
    },
    {
      "cell_type": "code",
      "source": [
        "plt.figure(figsize=(15, 10))\n",
        "plt.subplot(2, 2, 1)\n",
        "grade = sorted(work_df.grade.unique().tolist())\n",
        "sns.countplot(x='grade', data=work_df, hue='loan_status', order=grade)\n",
        "plt.subplot(2, 2, 2)\n",
        "sub_grade = sorted(work_df.sub_grade.unique().tolist())\n",
        "g = sns.countplot(x='sub_grade', data=work_df, hue='loan_status', order=sub_grade)\n",
        "g.set_xticklabels(g.get_xticklabels(), rotation=90);"
      ],
      "metadata": {
        "colab": {
          "base_uri": "https://localhost:8080/",
          "height": 309
        },
        "id": "9SPnVTTS52LU",
        "outputId": "0442660d-628a-4428-a232-849784ff70a1"
      },
      "execution_count": 478,
      "outputs": [
        {
          "output_type": "display_data",
          "data": {
            "text/plain": [
              "<Figure size 1080x720 with 2 Axes>"
            ],
            "image/png": "[encoded data removed]"
          },
          "metadata": {
            "needs_background": "light"
          }
        }
      ]
    },
    {
      "cell_type": "code",
      "source": [
        "plt.figure(figsize=(15, 20))\n",
        "plt.subplot(4, 2, 1)\n",
        "sns.countplot(x='term', data=work_df, hue='loan_status')\n",
        "plt.subplot(4, 2, 2)\n",
        "sns.countplot(x='home_ownership', data=work_df, hue='loan_status')\n",
        "plt.subplot(4, 2, 3)\n",
        "sns.countplot(x='verification_status', data=work_df, hue='loan_status')\n",
        "plt.subplot(4, 2, 4)\n",
        "g = sns.countplot(x='purpose', data=work_df, hue='loan_status')\n",
        "g.set_xticklabels(g.get_xticklabels(), rotation=90);"
      ],
      "metadata": {
        "colab": {
          "base_uri": "https://localhost:8080/",
          "height": 672
        },
        "id": "-dlCazd4s00k",
        "outputId": "57196961-0731-45ff-8b7c-55a5aa639bdb"
      },
      "execution_count": 479,
      "outputs": [
        {
          "output_type": "display_data",
          "data": {
            "text/plain": [
              "<Figure size 1080x1440 with 4 Axes>"
            ],
            "image/png": "[encoded data removed]"
          },
          "metadata": {
            "needs_background": "light"
          }
        }
      ]
    },
    {
      "cell_type": "markdown",
      "source": [
        "##### **Observation**: Loan taken for the porposes like dept_consolidation, credit card payments, small business investments, have high probability of borrowers"
      ],
      "metadata": {
        "id": "EXYTTFjv8bJ4"
      }
    },
    {
      "cell_type": "code",
      "source": [
        "plt.figure(figsize=(15, 12))\n",
        "\n",
        "plt.subplot(2, 2, 1)\n",
        "g = sns.countplot(x='emp_duration', data=work_df, hue='loan_status')\n",
        "g.set_xticklabels(g.get_xticklabels(), rotation=90);\n",
        "plt.title(\"Loan Status Vs the Duration\")\n",
        "\n",
        "plt.subplot(2, 2, 2)\n",
        "plt.barh(data_df.emp_title.value_counts()[:30].index,\n",
        "         data_df.emp_title.value_counts()[:30])\n",
        "plt.title(\"The most 30 jobs title borrowed a loan\")\n",
        "plt.tight_layout()\n"
      ],
      "metadata": {
        "colab": {
          "base_uri": "https://localhost:8080/",
          "height": 472
        },
        "id": "D67mdE0JHmct",
        "outputId": "5728f30f-19c0-4291-d6b2-240e9735102c"
      },
      "execution_count": 480,
      "outputs": [
        {
          "output_type": "display_data",
          "data": {
            "text/plain": [
              "<Figure size 1080x864 with 2 Axes>"
            ],
            "image/png": "[encoded data removed]"
          },
          "metadata": {
            "needs_background": "light"
          }
        }
      ]
    },
    {
      "cell_type": "code",
      "source": [
        "plt.figure(figsize=(15,12))\n",
        "pd.crosstab(columns = work_df[\"loan_status\"],\n",
        "           index=pd.qcut(work_df[\"annual_inc\"],10)).plot(kind=\"bar\")"
      ],
      "metadata": {
        "colab": {
          "base_uri": "https://localhost:8080/",
          "height": 415
        },
        "id": "VNuyw6wzJwRM",
        "outputId": "bc175e80-8f10-4e0e-8d91-c00ca300b137"
      },
      "execution_count": 481,
      "outputs": [
        {
          "output_type": "execute_result",
          "data": {
            "text/plain": [
              "<matplotlib.axes._subplots.AxesSubplot at 0x7f6928dbb310>"
            ]
          },
          "metadata": {},
          "execution_count": 481
        },
        {
          "output_type": "display_data",
          "data": {
            "text/plain": [
              "<Figure size 1080x864 with 0 Axes>"
            ]
          },
          "metadata": {}
        },
        {
          "output_type": "display_data",
          "data": {
            "text/plain": [
              "<Figure size 432x288 with 1 Axes>"
            ],
            "image/png": "[encoded data removed]"
          },
          "metadata": {
            "needs_background": "light"
          }
        }
      ]
    },
    {
      "cell_type": "code",
      "source": [
        "pd.crosstab(columns = work_df[\"loan_status\"],\n",
        "           index=pd.qcut(work_df[\"total_acc\"],10)).plot(kind=\"bar\")\n"
      ],
      "metadata": {
        "colab": {
          "base_uri": "https://localhost:8080/",
          "height": 355
        },
        "id": "hh6Owgv6MxjD",
        "outputId": "abb890e4-0785-4f5e-88b6-db728b84c817"
      },
      "execution_count": 482,
      "outputs": [
        {
          "output_type": "execute_result",
          "data": {
            "text/plain": [
              "<matplotlib.axes._subplots.AxesSubplot at 0x7f69291234f0>"
            ]
          },
          "metadata": {},
          "execution_count": 482
        },
        {
          "output_type": "display_data",
          "data": {
            "text/plain": [
              "<Figure size 432x288 with 1 Axes>"
            ],
            "image/png": "[encoded data removed]"
          },
          "metadata": {
            "needs_background": "light"
          }
        }
      ]
    },
    {
      "cell_type": "code",
      "source": [
        "print(work_df[\"application_type\"].value_counts(dropna=False))\n",
        "\n",
        "pd.crosstab(index = work_df[\"application_type\"],\n",
        "            columns= work_df[\"loan_status\"],normalize= \"index\").plot(kind = \"bar\")"
      ],
      "metadata": {
        "colab": {
          "base_uri": "https://localhost:8080/",
          "height": 418
        },
        "id": "hCmGCfoHKtsb",
        "outputId": "762047cd-eeed-4160-e1a1-5308d83634e7"
      },
      "execution_count": 483,
      "outputs": [
        {
          "output_type": "stream",
          "name": "stdout",
          "text": [
            "INDIVIDUAL    243153\n",
            "DIRECT_PAY       152\n",
            "JOINT            149\n",
            "Name: application_type, dtype: int64\n"
          ]
        },
        {
          "output_type": "execute_result",
          "data": {
            "text/plain": [
              "<matplotlib.axes._subplots.AxesSubplot at 0x7f692d6f81f0>"
            ]
          },
          "metadata": {},
          "execution_count": 483
        },
        {
          "output_type": "display_data",
          "data": {
            "text/plain": [
              "<Figure size 432x288 with 1 Axes>"
            ],
            "image/png": "[encoded data removed]"
          },
          "metadata": {
            "needs_background": "light"
          }
        }
      ]
    },
    {
      "cell_type": "code",
      "source": [
        "plt.figure(figsize=(12, 30))\n",
        "plt.subplot(6, 2, 1)\n",
        "sns.countplot(x='pub_rec', data=work_df, hue='loan_status')\n",
        "plt.title(\"Loan Status Vs pub_rec\")\n",
        "plt.subplot(6, 2, 2)\n",
        "sns.countplot(x='initial_list_status', data=work_df, hue='loan_status')\n",
        "plt.title(\"Loan Status Vs Initial List Status\")\n",
        "plt.subplot(6, 2, 3)\n",
        "sns.countplot(x='application_type', data=work_df, hue='loan_status')\n",
        "plt.title(\"Loan Status Vs Application Type\")\n",
        "plt.subplot(6, 2, 4)\n",
        "sns.countplot(x='mort_acc', data=work_df, hue='loan_status')\n",
        "plt.title(\"Loan Status Vs mort acc\")\n",
        "plt.subplot(6, 2, 5)\n",
        "sns.countplot(x='pub_rec_bankruptcies', data=work_df, hue='loan_status')\n",
        "plt.title(\"Loan Status Vs pub rec bankruptcy\")\n",
        "plt.show()"
      ],
      "metadata": {
        "colab": {
          "base_uri": "https://localhost:8080/",
          "height": 871
        },
        "id": "BL-NmhgRuRBz",
        "outputId": "e3d6ecfd-5bc1-4c92-cc93-68d8b03e4948"
      },
      "execution_count": 484,
      "outputs": [
        {
          "output_type": "display_data",
          "data": {
            "text/plain": [
              "<Figure size 864x2160 with 5 Axes>"
            ],
            "image/png": "[encoded data removed]"
          },
          "metadata": {
            "needs_background": "light"
          }
        }
      ]
    },
    {
      "cell_type": "code",
      "source": [
        "sns.distplot(work_df['loan_amnt'])"
      ],
      "metadata": {
        "id": "WKIXl-UhuUBw",
        "colab": {
          "base_uri": "https://localhost:8080/",
          "height": 298
        },
        "outputId": "6326dbf5-afed-40cb-9a58-ba46e8daa787"
      },
      "execution_count": 485,
      "outputs": [
        {
          "output_type": "execute_result",
          "data": {
            "text/plain": [
              "<matplotlib.axes._subplots.AxesSubplot at 0x7f6929c99130>"
            ]
          },
          "metadata": {},
          "execution_count": 485
        },
        {
          "output_type": "display_data",
          "data": {
            "text/plain": [
              "<Figure size 432x288 with 1 Axes>"
            ],
            "image/png": "[encoded data removed]"
          },
          "metadata": {
            "needs_background": "light"
          }
        }
      ]
    },
    {
      "cell_type": "code",
      "source": [
        "# Correlation check\n",
        "plt.figure(figsize=(24,15))\n",
        "sns.heatmap(work_df.corr(),annot=True,cmap='BrBG_r')\n",
        "\n",
        "plt.show()"
      ],
      "metadata": {
        "id": "C7D9Hg4PHHk5",
        "colab": {
          "base_uri": "https://localhost:8080/",
          "height": 967
        },
        "outputId": "14c84133-4b22-497b-a39c-5e322b14573a"
      },
      "execution_count": 486,
      "outputs": [
        {
          "output_type": "display_data",
          "data": {
            "text/plain": [
              "<Figure size 1728x1080 with 2 Axes>"
            ],
            "image/png": "[encoded data removed]"
          },
          "metadata": {
            "needs_background": "light"
          }
        }
      ]
    },
    {
      "cell_type": "markdown",
      "source": [
        "### Encoding Categorical Variables"
      ],
      "metadata": {
        "id": "rsRL7_WZXqMN"
      }
    },
    {
      "cell_type": "code",
      "source": [
        "from sklearn.preprocessing import LabelEncoder"
      ],
      "metadata": {
        "id": "1CtqlD5bXuiV"
      },
      "execution_count": 502,
      "outputs": []
    },
    {
      "cell_type": "code",
      "source": [
        "lab_encoder = LabelEncoder()\n",
        "work_df['loan_status'] = lab_encoder.fit_transform(work_df.loan_status)\n",
        "work_df['grade'] = lab_encoder.fit_transform(work_df.grade)\n",
        "work_df['home_ownership'] = lab_encoder.fit_transform(work_df.home_ownership)\n",
        "work_df['verification_status'] = lab_encoder.fit_transform(work_df.verification_status)"
      ],
      "metadata": {
        "id": "krPIFjFCX0We"
      },
      "execution_count": 503,
      "outputs": []
    },
    {
      "cell_type": "code",
      "source": [
        "!pip install category_encoders"
      ],
      "metadata": {
        "colab": {
          "base_uri": "https://localhost:8080/"
        },
        "id": "J8hQTGSQaQp6",
        "outputId": "523aaed0-9be9-4370-e9c7-05203ecc6e7f"
      },
      "execution_count": 504,
      "outputs": [
        {
          "output_type": "stream",
          "name": "stdout",
          "text": [
            "Looking in indexes: https://pypi.org/simple, https://us-python.pkg.dev/colab-wheels/public/simple/\n",
            "Requirement already satisfied: category_encoders in /usr/local/lib/python3.8/dist-packages (2.6.0)\n",
            "Requirement already satisfied: scikit-learn>=0.20.0 in /usr/local/lib/python3.8/dist-packages (from category_encoders) (1.0.2)\n",
            "Requirement already satisfied: patsy>=0.5.1 in /usr/local/lib/python3.8/dist-packages (from category_encoders) (0.5.3)\n",
            "Requirement already satisfied: statsmodels>=0.9.0 in /usr/local/lib/python3.8/dist-packages (from category_encoders) (0.12.2)\n",
            "Requirement already satisfied: pandas>=1.0.5 in /usr/local/lib/python3.8/dist-packages (from category_encoders) (1.3.5)\n",
            "Requirement already satisfied: numpy>=1.14.0 in /usr/local/lib/python3.8/dist-packages (from category_encoders) (1.21.6)\n",
            "Requirement already satisfied: scipy>=1.0.0 in /usr/local/lib/python3.8/dist-packages (from category_encoders) (1.7.3)\n",
            "Requirement already satisfied: pytz>=2017.3 in /usr/local/lib/python3.8/dist-packages (from pandas>=1.0.5->category_encoders) (2022.7)\n",
            "Requirement already satisfied: python-dateutil>=2.7.3 in /usr/local/lib/python3.8/dist-packages (from pandas>=1.0.5->category_encoders) (2.8.2)\n",
            "Requirement already satisfied: six in /usr/local/lib/python3.8/dist-packages (from patsy>=0.5.1->category_encoders) (1.15.0)\n",
            "Requirement already satisfied: joblib>=0.11 in /usr/local/lib/python3.8/dist-packages (from scikit-learn>=0.20.0->category_encoders) (1.2.0)\n",
            "Requirement already satisfied: threadpoolctl>=2.0.0 in /usr/local/lib/python3.8/dist-packages (from scikit-learn>=0.20.0->category_encoders) (3.1.0)\n"
          ]
        }
      ]
    },
    {
      "cell_type": "code",
      "source": [
        "from category_encoders import TargetEncoder\n",
        "encoder = TargetEncoder()\n",
        "work_df['emp_title'] = encoder.fit_transform(work_df['emp_title'], work_df['loan_status'])\n",
        "work_df['purpose'] = encoder.fit_transform(work_df['purpose'], work_df['loan_status'])"
      ],
      "metadata": {
        "colab": {
          "base_uri": "https://localhost:8080/"
        },
        "id": "L7OxjlNcZPPR",
        "outputId": "43628e49-8d51-47f9-b050-d4e7178c30f9"
      },
      "execution_count": 505,
      "outputs": [
        {
          "output_type": "stream",
          "name": "stdout",
          "text": [
            "Warning: No categorical columns found. Calling 'transform' will only return input data.\n",
            "Warning: No categorical columns found. Calling 'transform' will only return input data.\n"
          ]
        }
      ]
    },
    {
      "cell_type": "code",
      "source": [
        "# Data with no order between categories\n",
        "temp = pd.get_dummies(work_df, columns=['application_type', 'initial_list_status', 'term'], drop_first=True)\n",
        "work_df = pd.concat([work_df, temp], axis=1)\n",
        "\n",
        "work_df.drop(['term', 'initial_list_status', 'application_type'], axis='columns', inplace=True)"
      ],
      "metadata": {
        "id": "HwUGuVbraW9H"
      },
      "execution_count": 510,
      "outputs": []
    },
    {
      "cell_type": "markdown",
      "source": [
        "### Model building"
      ],
      "metadata": {
        "id": "9RUHpcjxcQU2"
      }
    },
    {
      "cell_type": "code",
      "source": [
        "# Split the Independent (Input) & Dependent (Target) Variables\n",
        "X = work_df.drop(['loan_status'], axis=1)\n",
        "y = work_df['loan_status']\n",
        "y = y.iloc[:, 1].values"
      ],
      "metadata": {
        "id": "mWm2pP5L4M_L"
      },
      "execution_count": 518,
      "outputs": []
    },
    {
      "cell_type": "code",
      "source": [
        "# Get the Train-Test split\n",
        "from sklearn.model_selection import train_test_split"
      ],
      "metadata": {
        "id": "qZEHnByu48KV"
      },
      "execution_count": 519,
      "outputs": []
    },
    {
      "cell_type": "code",
      "source": [
        "X_train, X_test, y_train, y_test = train_test_split(X, y, test_size=0.2, random_state=0)"
      ],
      "metadata": {
        "id": "UzP0tdXV5Ni7"
      },
      "execution_count": 520,
      "outputs": []
    },
    {
      "cell_type": "code",
      "source": [
        "# Scale the Data\n",
        "from sklearn.preprocessing import StandardScaler\n",
        "sc = StandardScaler()\n",
        "X_train = sc.fit_transform(X_train)\n",
        "X_test = sc.transform(X_test)"
      ],
      "metadata": {
        "id": "N4H0fUzhgHCk"
      },
      "execution_count": 521,
      "outputs": []
    },
    {
      "cell_type": "markdown",
      "source": [
        "### Logistic Regression on non-standardized data"
      ],
      "metadata": {
        "id": "uqd6ZILY5rpP"
      }
    },
    {
      "cell_type": "code",
      "source": [
        "from sklearn.linear_model import LogisticRegression"
      ],
      "metadata": {
        "id": "IGwZ_5pze2P5"
      },
      "execution_count": 522,
      "outputs": []
    },
    {
      "cell_type": "code",
      "source": [
        "classifier = LogisticRegression(random_state = 0)\n",
        "classifier.fit(X_train, y_train)"
      ],
      "metadata": {
        "colab": {
          "base_uri": "https://localhost:8080/"
        },
        "id": "a5PToqyVfSBH",
        "outputId": "cfee2ab0-9c55-4c6a-8945-72b57432bd6d"
      },
      "execution_count": 523,
      "outputs": [
        {
          "output_type": "execute_result",
          "data": {
            "text/plain": [
              "LogisticRegression(random_state=0)"
            ]
          },
          "metadata": {},
          "execution_count": 523
        }
      ]
    },
    {
      "cell_type": "code",
      "source": [
        "classifier.get_params(deep=True)"
      ],
      "metadata": {
        "colab": {
          "base_uri": "https://localhost:8080/"
        },
        "id": "Sj3Ci793fdLy",
        "outputId": "b63d53f1-0b65-4ead-c1bc-18cedad84843"
      },
      "execution_count": 524,
      "outputs": [
        {
          "output_type": "execute_result",
          "data": {
            "text/plain": [
              "{'C': 1.0,\n",
              " 'class_weight': None,\n",
              " 'dual': False,\n",
              " 'fit_intercept': True,\n",
              " 'intercept_scaling': 1,\n",
              " 'l1_ratio': None,\n",
              " 'max_iter': 100,\n",
              " 'multi_class': 'auto',\n",
              " 'n_jobs': None,\n",
              " 'penalty': 'l2',\n",
              " 'random_state': 0,\n",
              " 'solver': 'lbfgs',\n",
              " 'tol': 0.0001,\n",
              " 'verbose': 0,\n",
              " 'warm_start': False}"
            ]
          },
          "metadata": {},
          "execution_count": 524
        }
      ]
    },
    {
      "cell_type": "code",
      "source": [
        "weight = classifier.coef_\n",
        "weight"
      ],
      "metadata": {
        "colab": {
          "base_uri": "https://localhost:8080/"
        },
        "id": "2iXoBy4TrKsw",
        "outputId": "853281fb-d70e-4b3f-f573-da73531bf3e8"
      },
      "execution_count": 525,
      "outputs": [
        {
          "output_type": "execute_result",
          "data": {
            "text/plain": [
              "array([[-0.35439649, -0.34884025,  0.42599237,  0.50382102,  0.12713263,\n",
              "         0.72867242,  0.05890353,  0.02901183, -0.04585802,  0.01832458,\n",
              "         0.09074298,  0.09461238,  0.00996231, -0.03346158,  0.09989464,\n",
              "        -0.02195795, -0.02433002, -0.02893309, -0.01899549, -0.01650691,\n",
              "         0.05160198, -0.35439649, -0.34884025,  0.42599237,  0.50382102,\n",
              "         0.12713263,  0.72867242,  0.05890353,  0.02901183, -0.04585802,\n",
              "         0.01832458,  0.09074298,  0.09461238,  0.00996231, -0.03346158,\n",
              "         0.09989464, -0.02195795, -0.02433002, -0.02893309, -0.01899549,\n",
              "        -0.01650691,  0.05160198,  0.03491341, -0.00552307, -0.01912935]])"
            ]
          },
          "metadata": {},
          "execution_count": 525
        }
      ]
    },
    {
      "cell_type": "code",
      "source": [
        "def logreg_to_dict(clf, feature_names):\n",
        "  coefs = np.concatenate([clf.intercept_, clf.coef_.squeeze()])\n",
        "  return dict(zip([\"intercept\"] + feature_names, coefs))\n",
        "\n",
        "print(logreg_to_dict(classifier, X.columns.tolist()))\n"
      ],
      "metadata": {
        "colab": {
          "base_uri": "https://localhost:8080/"
        },
        "id": "HxWa9sWSrRYJ",
        "outputId": "edd4af76-0e42-4b70-ff56-87885dad41b5"
      },
      "execution_count": 526,
      "outputs": [
        {
          "output_type": "stream",
          "name": "stdout",
          "text": [
            "{'intercept': -2.3926974853306184, 'loan_amnt': -0.35439648621925984, 'int_rate': -0.3488402466342704, 'installment': 0.42599236674917385, 'grade': 0.5038210176922596, 'sub_grade': 0.1271326258635427, 'emp_title': 0.7286724217905405, 'home_ownership': 0.05890353096466558, 'annual_inc': 0.029011830578835798, 'verification_status': -0.04585801794596382, 'purpose': 0.018324575773369947, 'dti': 0.09074298194780987, 'open_acc': 0.09461237555154917, 'pub_rec': 0.009962309182153569, 'revol_bal': -0.033461582635030025, 'revol_util': 0.09989463645793052, 'total_acc': -0.021957946596498086, 'mort_acc': -0.024330022317003746, 'pub_rec_bankruptcies': -0.028933094396341216, 'emp_duration': -0.018995485967829275, 'credit_line_age': -0.01650690774502955, 'loan_age': 0.05160198106925419, 'application_type_INDIVIDUAL': 0.03491341092235009, 'application_type_JOINT': -0.0055230706690407765, 'initial_list_status_w': -0.019129353662620672}\n"
          ]
        }
      ]
    },
    {
      "cell_type": "code",
      "source": [
        "y_pred = classifier.predict(X_test)"
      ],
      "metadata": {
        "id": "hIFzy6r0r2A6"
      },
      "execution_count": 527,
      "outputs": []
    },
    {
      "cell_type": "code",
      "source": [
        "from sklearn.metrics import confusion_matrix, precision_score, recall_score, f1_score\n",
        "cm = confusion_matrix(y_test, y_pred)"
      ],
      "metadata": {
        "id": "UN3VrWwJr-Qr"
      },
      "execution_count": 528,
      "outputs": []
    },
    {
      "cell_type": "code",
      "source": [
        "cm"
      ],
      "metadata": {
        "colab": {
          "base_uri": "https://localhost:8080/"
        },
        "id": "ia6Ju04DsKBE",
        "outputId": "a3f4ac6b-b56e-4364-b0ed-3db73b1fc9dc"
      },
      "execution_count": 529,
      "outputs": [
        {
          "output_type": "execute_result",
          "data": {
            "text/plain": [
              "array([[39200,  1608],\n",
              "       [ 3945,  3938]])"
            ]
          },
          "metadata": {},
          "execution_count": 529
        }
      ]
    },
    {
      "cell_type": "code",
      "source": [
        "precision_score(y_test, y_pred)"
      ],
      "metadata": {
        "colab": {
          "base_uri": "https://localhost:8080/"
        },
        "id": "g5_S9CIXsK5z",
        "outputId": "8fed17e5-4dfb-4389-e43a-61a71785569d"
      },
      "execution_count": 530,
      "outputs": [
        {
          "output_type": "execute_result",
          "data": {
            "text/plain": [
              "0.710061305445366"
            ]
          },
          "metadata": {},
          "execution_count": 530
        }
      ]
    },
    {
      "cell_type": "code",
      "source": [
        "recall_score(y_test, y_pred)"
      ],
      "metadata": {
        "colab": {
          "base_uri": "https://localhost:8080/"
        },
        "id": "Q4HYktgesTQW",
        "outputId": "c48ad711-e455-4ba5-f6ae-be84d2a32735"
      },
      "execution_count": 531,
      "outputs": [
        {
          "output_type": "execute_result",
          "data": {
            "text/plain": [
              "0.4995560065964734"
            ]
          },
          "metadata": {},
          "execution_count": 531
        }
      ]
    },
    {
      "cell_type": "code",
      "source": [
        "f1_score(y_test, y_pred)"
      ],
      "metadata": {
        "colab": {
          "base_uri": "https://localhost:8080/"
        },
        "id": "9lM8EssHsbmQ",
        "outputId": "9fd7d681-5457-4fbe-99b9-c1620fa55b24"
      },
      "execution_count": 532,
      "outputs": [
        {
          "output_type": "execute_result",
          "data": {
            "text/plain": [
              "0.5864919204706233"
            ]
          },
          "metadata": {},
          "execution_count": 532
        }
      ]
    },
    {
      "cell_type": "code",
      "source": [
        "# Estimate the probability of belonging to Class 1\n",
        "probs = classifier.predict_proba(X_test)[:, 1]"
      ],
      "metadata": {
        "id": "bSlzWDDhsity"
      },
      "execution_count": 533,
      "outputs": []
    },
    {
      "cell_type": "code",
      "source": [
        "from sklearn.metrics import roc_auc_score, roc_curve\n",
        "fpr, tpr, thres = roc_curve(y_test, probs)\n",
        "plt.plot(fpr, tpr)\n",
        "roc_auc_score(y_test, probs)"
      ],
      "metadata": {
        "colab": {
          "base_uri": "https://localhost:8080/",
          "height": 283
        },
        "id": "UiE3Z3HWswfS",
        "outputId": "b99a0d37-eb8e-4dd8-d1f3-30fbcab412ba"
      },
      "execution_count": 534,
      "outputs": [
        {
          "output_type": "execute_result",
          "data": {
            "text/plain": [
              "0.8793112322758574"
            ]
          },
          "metadata": {},
          "execution_count": 534
        },
        {
          "output_type": "display_data",
          "data": {
            "text/plain": [
              "<Figure size 432x288 with 1 Axes>"
            ],
            "image/png": "[encoded data removed]"
          },
          "metadata": {
            "needs_background": "light"
          }
        }
      ]
    },
    {
      "cell_type": "code",
      "source": [],
      "metadata": {
        "id": "07qDd1rttEC9"
      },
      "execution_count": null,
      "outputs": []
    }
  ]
}
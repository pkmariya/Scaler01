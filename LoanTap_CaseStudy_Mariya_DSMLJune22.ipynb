{
  "nbformat": 4,
  "nbformat_minor": 0,
  "metadata": {
    "colab": {
      "provenance": [],
      "authorship_tag": "ABX9TyOZTxr33jSygQMMfoTJB7oD",
      "include_colab_link": true
    },
    "kernelspec": {
      "name": "python3",
      "display_name": "Python 3"
    },
    "language_info": {
      "name": "python"
    }
  },
  "cells": [
    {
      "cell_type": "markdown",
      "metadata": {
        "id": "view-in-github",
        "colab_type": "text"
      },
      "source": [
        "<a href=\"https://colab.research.google.com/github/pkmariya/Scaler01/blob/master/LoanTap_CaseStudy_Mariya_DSMLJune22.ipynb\" target=\"_parent\"><img src=\"https://colab.research.google.com/assets/colab-badge.svg\" alt=\"Open In Colab\"/></a>"
      ]
    },
    {
      "cell_type": "markdown",
      "source": [
        "# Problem Statement:\n",
        "\n",
        "Given a set of attributes for an Individual, determine if a credit line should be extended to them. If so, what should the repayment terms be in business recommendations?"
      ],
      "metadata": {
        "id": "yn4I9gfTT1iP"
      }
    },
    {
      "cell_type": "markdown",
      "source": [
        "# Import required Libraries"
      ],
      "metadata": {
        "id": "HHCgChDYn8U0"
      }
    },
    {
      "cell_type": "code",
      "execution_count": 1,
      "metadata": {
        "id": "5Bb6zOw6YXNH"
      },
      "outputs": [],
      "source": [
        "# Import libraries\n",
        "import numpy as np\n",
        "import pandas as pd\n",
        "import matplotlib.pyplot as plt\n",
        "import seaborn as sns\n",
        "import warnings\n",
        "warnings.filterwarnings('ignore')\n",
        "\n",
        "import datetime"
      ]
    },
    {
      "cell_type": "code",
      "source": [
        "!pip install simple_colors"
      ],
      "metadata": {
        "colab": {
          "base_uri": "https://localhost:8080/"
        },
        "id": "xHr906nzWwb9",
        "outputId": "487b6a1b-60ab-44c4-e802-831c4a4f65e5"
      },
      "execution_count": 3,
      "outputs": [
        {
          "output_type": "stream",
          "name": "stdout",
          "text": [
            "Looking in indexes: https://pypi.org/simple, https://us-python.pkg.dev/colab-wheels/public/simple/\n",
            "Collecting simple_colors\n",
            "  Downloading simple_colors-0.1.5-py3-none-any.whl (2.8 kB)\n",
            "Installing collected packages: simple_colors\n",
            "Successfully installed simple_colors-0.1.5\n"
          ]
        }
      ]
    },
    {
      "cell_type": "code",
      "source": [
        "from simple_colors import *"
      ],
      "metadata": {
        "id": "Q6dMLbvNW1Ey"
      },
      "execution_count": 4,
      "outputs": []
    },
    {
      "cell_type": "markdown",
      "source": [
        "# Load the Dataset"
      ],
      "metadata": {
        "id": "nCcFnlVPn6C1"
      }
    },
    {
      "cell_type": "code",
      "source": [
        "# Load the dataset\n",
        "data_df = pd.read_csv('https://d2beiqkhq929f0.cloudfront.net/public_assets/assets/000/003/549/original/logistic_regression.csv?1651045921')"
      ],
      "metadata": {
        "id": "s4l8JTKiYf7y"
      },
      "execution_count": 5,
      "outputs": []
    },
    {
      "cell_type": "markdown",
      "source": [
        "# Statistical Summary of the Dataset"
      ],
      "metadata": {
        "id": "ryzpJv5Cn2xS"
      }
    },
    {
      "cell_type": "code",
      "source": [
        "# Meta data of dataset\n",
        "data_df.info()"
      ],
      "metadata": {
        "colab": {
          "base_uri": "https://localhost:8080/"
        },
        "id": "Do1k_EJJZZPz",
        "outputId": "f3117567-097f-4b9e-c60e-5fd485e61d8a"
      },
      "execution_count": null,
      "outputs": [
        {
          "output_type": "stream",
          "name": "stdout",
          "text": [
            "<class 'pandas.core.frame.DataFrame'>\n",
            "RangeIndex: 396030 entries, 0 to 396029\n",
            "Data columns (total 27 columns):\n",
            " #   Column                Non-Null Count   Dtype  \n",
            "---  ------                --------------   -----  \n",
            " 0   loan_amnt             396030 non-null  float64\n",
            " 1   term                  396030 non-null  object \n",
            " 2   int_rate              396030 non-null  float64\n",
            " 3   installment           396030 non-null  float64\n",
            " 4   grade                 396030 non-null  object \n",
            " 5   sub_grade             396030 non-null  object \n",
            " 6   emp_title             373103 non-null  object \n",
            " 7   emp_length            377729 non-null  object \n",
            " 8   home_ownership        396030 non-null  object \n",
            " 9   annual_inc            396030 non-null  float64\n",
            " 10  verification_status   396030 non-null  object \n",
            " 11  issue_d               396030 non-null  object \n",
            " 12  loan_status           396030 non-null  object \n",
            " 13  purpose               396030 non-null  object \n",
            " 14  title                 394275 non-null  object \n",
            " 15  dti                   396030 non-null  float64\n",
            " 16  earliest_cr_line      396030 non-null  object \n",
            " 17  open_acc              396030 non-null  float64\n",
            " 18  pub_rec               396030 non-null  float64\n",
            " 19  revol_bal             396030 non-null  float64\n",
            " 20  revol_util            395754 non-null  float64\n",
            " 21  total_acc             396030 non-null  float64\n",
            " 22  initial_list_status   396030 non-null  object \n",
            " 23  application_type      396030 non-null  object \n",
            " 24  mort_acc              358235 non-null  float64\n",
            " 25  pub_rec_bankruptcies  395495 non-null  float64\n",
            " 26  address               396030 non-null  object \n",
            "dtypes: float64(12), object(15)\n",
            "memory usage: 81.6+ MB\n"
          ]
        }
      ]
    },
    {
      "cell_type": "code",
      "source": [
        "# Description of the dataset\n",
        "data_df.describe()"
      ],
      "metadata": {
        "colab": {
          "base_uri": "https://localhost:8080/",
          "height": 364
        },
        "id": "vR-CGZaJZkoC",
        "outputId": "160c9975-139b-4457-8190-d0e20bdc495d"
      },
      "execution_count": null,
      "outputs": [
        {
          "output_type": "execute_result",
          "data": {
            "text/plain": [
              "           loan_amnt       int_rate    installment    annual_inc  \\\n",
              "count  396030.000000  396030.000000  396030.000000  3.960300e+05   \n",
              "mean    14113.888089      13.639400     431.849698  7.420318e+04   \n",
              "std      8357.441341       4.472157     250.727790  6.163762e+04   \n",
              "min       500.000000       5.320000      16.080000  0.000000e+00   \n",
              "25%      8000.000000      10.490000     250.330000  4.500000e+04   \n",
              "50%     12000.000000      13.330000     375.430000  6.400000e+04   \n",
              "75%     20000.000000      16.490000     567.300000  9.000000e+04   \n",
              "max     40000.000000      30.990000    1533.810000  8.706582e+06   \n",
              "\n",
              "                 dti       open_acc        pub_rec     revol_bal  \\\n",
              "count  396030.000000  396030.000000  396030.000000  3.960300e+05   \n",
              "mean       17.379514      11.311153       0.178191  1.584454e+04   \n",
              "std        18.019092       5.137649       0.530671  2.059184e+04   \n",
              "min         0.000000       0.000000       0.000000  0.000000e+00   \n",
              "25%        11.280000       8.000000       0.000000  6.025000e+03   \n",
              "50%        16.910000      10.000000       0.000000  1.118100e+04   \n",
              "75%        22.980000      14.000000       0.000000  1.962000e+04   \n",
              "max      9999.000000      90.000000      86.000000  1.743266e+06   \n",
              "\n",
              "          revol_util      total_acc       mort_acc  pub_rec_bankruptcies  \n",
              "count  395754.000000  396030.000000  358235.000000         395495.000000  \n",
              "mean       53.791749      25.414744       1.813991              0.121648  \n",
              "std        24.452193      11.886991       2.147930              0.356174  \n",
              "min         0.000000       2.000000       0.000000              0.000000  \n",
              "25%        35.800000      17.000000       0.000000              0.000000  \n",
              "50%        54.800000      24.000000       1.000000              0.000000  \n",
              "75%        72.900000      32.000000       3.000000              0.000000  \n",
              "max       892.300000     151.000000      34.000000              8.000000  "
            ],
            "text/html": [
              "\n",
              "  <div id=\"df-966e2579-27a0-4256-86ea-38d64297ceb2\">\n",
              "    <div class=\"colab-df-container\">\n",
              "      <div>\n",
              "<style scoped>\n",
              "    .dataframe tbody tr th:only-of-type {\n",
              "        vertical-align: middle;\n",
              "    }\n",
              "\n",
              "    .dataframe tbody tr th {\n",
              "        vertical-align: top;\n",
              "    }\n",
              "\n",
              "    .dataframe thead th {\n",
              "        text-align: right;\n",
              "    }\n",
              "</style>\n",
              "<table border=\"1\" class=\"dataframe\">\n",
              "  <thead>\n",
              "    <tr style=\"text-align: right;\">\n",
              "      <th></th>\n",
              "      <th>loan_amnt</th>\n",
              "      <th>int_rate</th>\n",
              "      <th>installment</th>\n",
              "      <th>annual_inc</th>\n",
              "      <th>dti</th>\n",
              "      <th>open_acc</th>\n",
              "      <th>pub_rec</th>\n",
              "      <th>revol_bal</th>\n",
              "      <th>revol_util</th>\n",
              "      <th>total_acc</th>\n",
              "      <th>mort_acc</th>\n",
              "      <th>pub_rec_bankruptcies</th>\n",
              "    </tr>\n",
              "  </thead>\n",
              "  <tbody>\n",
              "    <tr>\n",
              "      <th>count</th>\n",
              "      <td>396030.000000</td>\n",
              "      <td>396030.000000</td>\n",
              "      <td>396030.000000</td>\n",
              "      <td>3.960300e+05</td>\n",
              "      <td>396030.000000</td>\n",
              "      <td>396030.000000</td>\n",
              "      <td>396030.000000</td>\n",
              "      <td>3.960300e+05</td>\n",
              "      <td>395754.000000</td>\n",
              "      <td>396030.000000</td>\n",
              "      <td>358235.000000</td>\n",
              "      <td>395495.000000</td>\n",
              "    </tr>\n",
              "    <tr>\n",
              "      <th>mean</th>\n",
              "      <td>14113.888089</td>\n",
              "      <td>13.639400</td>\n",
              "      <td>431.849698</td>\n",
              "      <td>7.420318e+04</td>\n",
              "      <td>17.379514</td>\n",
              "      <td>11.311153</td>\n",
              "      <td>0.178191</td>\n",
              "      <td>1.584454e+04</td>\n",
              "      <td>53.791749</td>\n",
              "      <td>25.414744</td>\n",
              "      <td>1.813991</td>\n",
              "      <td>0.121648</td>\n",
              "    </tr>\n",
              "    <tr>\n",
              "      <th>std</th>\n",
              "      <td>8357.441341</td>\n",
              "      <td>4.472157</td>\n",
              "      <td>250.727790</td>\n",
              "      <td>6.163762e+04</td>\n",
              "      <td>18.019092</td>\n",
              "      <td>5.137649</td>\n",
              "      <td>0.530671</td>\n",
              "      <td>2.059184e+04</td>\n",
              "      <td>24.452193</td>\n",
              "      <td>11.886991</td>\n",
              "      <td>2.147930</td>\n",
              "      <td>0.356174</td>\n",
              "    </tr>\n",
              "    <tr>\n",
              "      <th>min</th>\n",
              "      <td>500.000000</td>\n",
              "      <td>5.320000</td>\n",
              "      <td>16.080000</td>\n",
              "      <td>0.000000e+00</td>\n",
              "      <td>0.000000</td>\n",
              "      <td>0.000000</td>\n",
              "      <td>0.000000</td>\n",
              "      <td>0.000000e+00</td>\n",
              "      <td>0.000000</td>\n",
              "      <td>2.000000</td>\n",
              "      <td>0.000000</td>\n",
              "      <td>0.000000</td>\n",
              "    </tr>\n",
              "    <tr>\n",
              "      <th>25%</th>\n",
              "      <td>8000.000000</td>\n",
              "      <td>10.490000</td>\n",
              "      <td>250.330000</td>\n",
              "      <td>4.500000e+04</td>\n",
              "      <td>11.280000</td>\n",
              "      <td>8.000000</td>\n",
              "      <td>0.000000</td>\n",
              "      <td>6.025000e+03</td>\n",
              "      <td>35.800000</td>\n",
              "      <td>17.000000</td>\n",
              "      <td>0.000000</td>\n",
              "      <td>0.000000</td>\n",
              "    </tr>\n",
              "    <tr>\n",
              "      <th>50%</th>\n",
              "      <td>12000.000000</td>\n",
              "      <td>13.330000</td>\n",
              "      <td>375.430000</td>\n",
              "      <td>6.400000e+04</td>\n",
              "      <td>16.910000</td>\n",
              "      <td>10.000000</td>\n",
              "      <td>0.000000</td>\n",
              "      <td>1.118100e+04</td>\n",
              "      <td>54.800000</td>\n",
              "      <td>24.000000</td>\n",
              "      <td>1.000000</td>\n",
              "      <td>0.000000</td>\n",
              "    </tr>\n",
              "    <tr>\n",
              "      <th>75%</th>\n",
              "      <td>20000.000000</td>\n",
              "      <td>16.490000</td>\n",
              "      <td>567.300000</td>\n",
              "      <td>9.000000e+04</td>\n",
              "      <td>22.980000</td>\n",
              "      <td>14.000000</td>\n",
              "      <td>0.000000</td>\n",
              "      <td>1.962000e+04</td>\n",
              "      <td>72.900000</td>\n",
              "      <td>32.000000</td>\n",
              "      <td>3.000000</td>\n",
              "      <td>0.000000</td>\n",
              "    </tr>\n",
              "    <tr>\n",
              "      <th>max</th>\n",
              "      <td>40000.000000</td>\n",
              "      <td>30.990000</td>\n",
              "      <td>1533.810000</td>\n",
              "      <td>8.706582e+06</td>\n",
              "      <td>9999.000000</td>\n",
              "      <td>90.000000</td>\n",
              "      <td>86.000000</td>\n",
              "      <td>1.743266e+06</td>\n",
              "      <td>892.300000</td>\n",
              "      <td>151.000000</td>\n",
              "      <td>34.000000</td>\n",
              "      <td>8.000000</td>\n",
              "    </tr>\n",
              "  </tbody>\n",
              "</table>\n",
              "</div>\n",
              "      <button class=\"colab-df-convert\" onclick=\"convertToInteractive('df-966e2579-27a0-4256-86ea-38d64297ceb2')\"\n",
              "              title=\"Convert this dataframe to an interactive table.\"\n",
              "              style=\"display:none;\">\n",
              "        \n",
              "  <svg xmlns=\"http://www.w3.org/2000/svg\" height=\"24px\"viewBox=\"0 0 24 24\"\n",
              "       width=\"24px\">\n",
              "    <path d=\"M0 0h24v24H0V0z\" fill=\"none\"/>\n",
              "    <path d=\"M18.56 5.44l.94 2.06.94-2.06 2.06-.94-2.06-.94-.94-2.06-.94 2.06-2.06.94zm-11 1L8.5 8.5l.94-2.06 2.06-.94-2.06-.94L8.5 2.5l-.94 2.06-2.06.94zm10 10l.94 2.06.94-2.06 2.06-.94-2.06-.94-.94-2.06-.94 2.06-2.06.94z\"/><path d=\"M17.41 7.96l-1.37-1.37c-.4-.4-.92-.59-1.43-.59-.52 0-1.04.2-1.43.59L10.3 9.45l-7.72 7.72c-.78.78-.78 2.05 0 2.83L4 21.41c.39.39.9.59 1.41.59.51 0 1.02-.2 1.41-.59l7.78-7.78 2.81-2.81c.8-.78.8-2.07 0-2.86zM5.41 20L4 18.59l7.72-7.72 1.47 1.35L5.41 20z\"/>\n",
              "  </svg>\n",
              "      </button>\n",
              "      \n",
              "  <style>\n",
              "    .colab-df-container {\n",
              "      display:flex;\n",
              "      flex-wrap:wrap;\n",
              "      gap: 12px;\n",
              "    }\n",
              "\n",
              "    .colab-df-convert {\n",
              "      background-color: #E8F0FE;\n",
              "      border: none;\n",
              "      border-radius: 50%;\n",
              "      cursor: pointer;\n",
              "      display: none;\n",
              "      fill: #1967D2;\n",
              "      height: 32px;\n",
              "      padding: 0 0 0 0;\n",
              "      width: 32px;\n",
              "    }\n",
              "\n",
              "    .colab-df-convert:hover {\n",
              "      background-color: #E2EBFA;\n",
              "      box-shadow: 0px 1px 2px rgba(60, 64, 67, 0.3), 0px 1px 3px 1px rgba(60, 64, 67, 0.15);\n",
              "      fill: #174EA6;\n",
              "    }\n",
              "\n",
              "    [theme=dark] .colab-df-convert {\n",
              "      background-color: #3B4455;\n",
              "      fill: #D2E3FC;\n",
              "    }\n",
              "\n",
              "    [theme=dark] .colab-df-convert:hover {\n",
              "      background-color: #434B5C;\n",
              "      box-shadow: 0px 1px 3px 1px rgba(0, 0, 0, 0.15);\n",
              "      filter: drop-shadow(0px 1px 2px rgba(0, 0, 0, 0.3));\n",
              "      fill: #FFFFFF;\n",
              "    }\n",
              "  </style>\n",
              "\n",
              "      <script>\n",
              "        const buttonEl =\n",
              "          document.querySelector('#df-966e2579-27a0-4256-86ea-38d64297ceb2 button.colab-df-convert');\n",
              "        buttonEl.style.display =\n",
              "          google.colab.kernel.accessAllowed ? 'block' : 'none';\n",
              "\n",
              "        async function convertToInteractive(key) {\n",
              "          const element = document.querySelector('#df-966e2579-27a0-4256-86ea-38d64297ceb2');\n",
              "          const dataTable =\n",
              "            await google.colab.kernel.invokeFunction('convertToInteractive',\n",
              "                                                     [key], {});\n",
              "          if (!dataTable) return;\n",
              "\n",
              "          const docLinkHtml = 'Like what you see? Visit the ' +\n",
              "            '<a target=\"_blank\" href=https://colab.research.google.com/notebooks/data_table.ipynb>data table notebook</a>'\n",
              "            + ' to learn more about interactive tables.';\n",
              "          element.innerHTML = '';\n",
              "          dataTable['output_type'] = 'display_data';\n",
              "          await google.colab.output.renderOutput(dataTable, element);\n",
              "          const docLink = document.createElement('div');\n",
              "          docLink.innerHTML = docLinkHtml;\n",
              "          element.appendChild(docLink);\n",
              "        }\n",
              "      </script>\n",
              "    </div>\n",
              "  </div>\n",
              "  "
            ]
          },
          "metadata": {},
          "execution_count": 5
        }
      ]
    },
    {
      "cell_type": "code",
      "source": [
        "data_df.dtypes"
      ],
      "metadata": {
        "colab": {
          "base_uri": "https://localhost:8080/"
        },
        "id": "yv2SY9eHZmz-",
        "outputId": "eafd44d7-f896-490b-a702-aeb39059db61"
      },
      "execution_count": null,
      "outputs": [
        {
          "output_type": "execute_result",
          "data": {
            "text/plain": [
              "loan_amnt               float64\n",
              "term                     object\n",
              "int_rate                float64\n",
              "installment             float64\n",
              "grade                    object\n",
              "sub_grade                object\n",
              "emp_title                object\n",
              "emp_length               object\n",
              "home_ownership           object\n",
              "annual_inc              float64\n",
              "verification_status      object\n",
              "issue_d                  object\n",
              "loan_status              object\n",
              "purpose                  object\n",
              "title                    object\n",
              "dti                     float64\n",
              "earliest_cr_line         object\n",
              "open_acc                float64\n",
              "pub_rec                 float64\n",
              "revol_bal               float64\n",
              "revol_util              float64\n",
              "total_acc               float64\n",
              "initial_list_status      object\n",
              "application_type         object\n",
              "mort_acc                float64\n",
              "pub_rec_bankruptcies    float64\n",
              "address                  object\n",
              "dtype: object"
            ]
          },
          "metadata": {},
          "execution_count": 8
        }
      ]
    },
    {
      "cell_type": "code",
      "source": [
        "# Shape of the dataset\n",
        "print(\"Given dataset contains {0} Rows and {1} Columns \".format(data_df.shape[0], data_df.shape[1]))"
      ],
      "metadata": {
        "colab": {
          "base_uri": "https://localhost:8080/"
        },
        "id": "sIntJTZZaG4b",
        "outputId": "3c2b7aa8-5feb-41fe-cbf9-377aef211af3"
      },
      "execution_count": null,
      "outputs": [
        {
          "output_type": "stream",
          "name": "stdout",
          "text": [
            "Given dataset contains 396030 Rows and 27 Columns \n"
          ]
        }
      ]
    },
    {
      "cell_type": "code",
      "source": [
        "# Unique value counts\n",
        "data_df.nunique()"
      ],
      "metadata": {
        "colab": {
          "base_uri": "https://localhost:8080/"
        },
        "id": "BhXtmsWwaKhv",
        "outputId": "9824d2b9-2527-4484-c36e-e0f073c2b1ea"
      },
      "execution_count": null,
      "outputs": [
        {
          "output_type": "execute_result",
          "data": {
            "text/plain": [
              "loan_amnt                 1397\n",
              "term                         2\n",
              "int_rate                   566\n",
              "installment              55706\n",
              "grade                        7\n",
              "sub_grade                   35\n",
              "emp_title               173105\n",
              "emp_length                  11\n",
              "home_ownership               6\n",
              "annual_inc               27197\n",
              "verification_status          3\n",
              "issue_d                    115\n",
              "loan_status                  2\n",
              "purpose                     14\n",
              "title                    48817\n",
              "dti                       4262\n",
              "earliest_cr_line           684\n",
              "open_acc                    61\n",
              "pub_rec                     20\n",
              "revol_bal                55622\n",
              "revol_util                1226\n",
              "total_acc                  118\n",
              "initial_list_status          2\n",
              "application_type             3\n",
              "mort_acc                    33\n",
              "pub_rec_bankruptcies         9\n",
              "address                 393700\n",
              "dtype: int64"
            ]
          },
          "metadata": {},
          "execution_count": 12
        }
      ]
    },
    {
      "cell_type": "code",
      "source": [
        "# Value types and their unique counts of Categorical Variables\n",
        "for col in data_df.astype('object').columns:\n",
        "  if len(data_df[col].value_counts())<10:\n",
        "    print(blue(col, ['bold']))\n",
        "    print(data_df[col].value_counts().to_string(),'\\n')"
      ],
      "metadata": {
        "colab": {
          "base_uri": "https://localhost:8080/"
        },
        "id": "HPsE07Waazyk",
        "outputId": "4016d0b1-580a-4bca-83f3-976c62123799"
      },
      "execution_count": null,
      "outputs": [
        {
          "output_type": "stream",
          "name": "stdout",
          "text": [
            "\u001b[1;34mterm\u001b[0m\n",
            " 36 months    302005\n",
            " 60 months     94025 \n",
            "\n",
            "\u001b[1;34mgrade\u001b[0m\n",
            "B    116018\n",
            "C    105987\n",
            "A     64187\n",
            "D     63524\n",
            "E     31488\n",
            "F     11772\n",
            "G      3054 \n",
            "\n",
            "\u001b[1;34mhome_ownership\u001b[0m\n",
            "MORTGAGE    198348\n",
            "RENT        159790\n",
            "OWN          37746\n",
            "OTHER          112\n",
            "NONE            31\n",
            "ANY              3 \n",
            "\n",
            "\u001b[1;34mverification_status\u001b[0m\n",
            "Verified           139563\n",
            "Source Verified    131385\n",
            "Not Verified       125082 \n",
            "\n",
            "\u001b[1;34mloan_status\u001b[0m\n",
            "Fully Paid     318357\n",
            "Charged Off     77673 \n",
            "\n",
            "\u001b[1;34minitial_list_status\u001b[0m\n",
            "f    238066\n",
            "w    157964 \n",
            "\n",
            "\u001b[1;34mapplication_type\u001b[0m\n",
            "INDIVIDUAL    395319\n",
            "JOINT            425\n",
            "DIRECT_PAY       286 \n",
            "\n",
            "\u001b[1;34mpub_rec_bankruptcies\u001b[0m\n",
            "0.0    350380\n",
            "1.0     42790\n",
            "2.0      1847\n",
            "3.0       351\n",
            "4.0        82\n",
            "5.0        32\n",
            "6.0         7\n",
            "7.0         4\n",
            "8.0         2 \n",
            "\n"
          ]
        }
      ]
    },
    {
      "cell_type": "markdown",
      "source": [
        "#### **Observations**: \n",
        "*   Loan Term 36 months is more predominant than 60 months\n",
        "*   Grade B and C has more counts than other grades\n",
        "*   In terms of Ownership, 'Mortgage' tops the list\n",
        "*   3/4th of the Customers have fully paid back the loan\n",
        "*   \"Individual\" seems to be the popular amongst the application type  \n",
        "\n",
        "\n"
      ],
      "metadata": {
        "id": "rHeLqLp_lcL6"
      }
    },
    {
      "cell_type": "code",
      "source": [
        "data_df.describe(include='object').T"
      ],
      "metadata": {
        "colab": {
          "base_uri": "https://localhost:8080/",
          "height": 520
        },
        "id": "7vdDh2hTcr8e",
        "outputId": "54f3650b-b3a7-4a8b-f0e0-819aac02bda0"
      },
      "execution_count": null,
      "outputs": [
        {
          "output_type": "execute_result",
          "data": {
            "text/plain": [
              "                      count  unique                          top    freq\n",
              "term                 396030       2                    36 months  302005\n",
              "grade                396030       7                            B  116018\n",
              "sub_grade            396030      35                           B3   26655\n",
              "emp_title            373103  173105                      Teacher    4389\n",
              "emp_length           377729      11                    10+ years  126041\n",
              "home_ownership       396030       6                     MORTGAGE  198348\n",
              "verification_status  396030       3                     Verified  139563\n",
              "issue_d              396030     115                     Oct-2014   14846\n",
              "loan_status          396030       2                   Fully Paid  318357\n",
              "purpose              396030      14           debt_consolidation  234507\n",
              "title                394275   48817           Debt consolidation  152472\n",
              "earliest_cr_line     396030     684                     Oct-2000    3017\n",
              "initial_list_status  396030       2                            f  238066\n",
              "application_type     396030       3                   INDIVIDUAL  395319\n",
              "address              396030  393700  USCGC Smith\\r\\nFPO AE 70466       8"
            ],
            "text/html": [
              "\n",
              "  <div id=\"df-b59d89b6-97f4-4c3c-a2d3-9cfbe62dfd59\">\n",
              "    <div class=\"colab-df-container\">\n",
              "      <div>\n",
              "<style scoped>\n",
              "    .dataframe tbody tr th:only-of-type {\n",
              "        vertical-align: middle;\n",
              "    }\n",
              "\n",
              "    .dataframe tbody tr th {\n",
              "        vertical-align: top;\n",
              "    }\n",
              "\n",
              "    .dataframe thead th {\n",
              "        text-align: right;\n",
              "    }\n",
              "</style>\n",
              "<table border=\"1\" class=\"dataframe\">\n",
              "  <thead>\n",
              "    <tr style=\"text-align: right;\">\n",
              "      <th></th>\n",
              "      <th>count</th>\n",
              "      <th>unique</th>\n",
              "      <th>top</th>\n",
              "      <th>freq</th>\n",
              "    </tr>\n",
              "  </thead>\n",
              "  <tbody>\n",
              "    <tr>\n",
              "      <th>term</th>\n",
              "      <td>396030</td>\n",
              "      <td>2</td>\n",
              "      <td>36 months</td>\n",
              "      <td>302005</td>\n",
              "    </tr>\n",
              "    <tr>\n",
              "      <th>grade</th>\n",
              "      <td>396030</td>\n",
              "      <td>7</td>\n",
              "      <td>B</td>\n",
              "      <td>116018</td>\n",
              "    </tr>\n",
              "    <tr>\n",
              "      <th>sub_grade</th>\n",
              "      <td>396030</td>\n",
              "      <td>35</td>\n",
              "      <td>B3</td>\n",
              "      <td>26655</td>\n",
              "    </tr>\n",
              "    <tr>\n",
              "      <th>emp_title</th>\n",
              "      <td>373103</td>\n",
              "      <td>173105</td>\n",
              "      <td>Teacher</td>\n",
              "      <td>4389</td>\n",
              "    </tr>\n",
              "    <tr>\n",
              "      <th>emp_length</th>\n",
              "      <td>377729</td>\n",
              "      <td>11</td>\n",
              "      <td>10+ years</td>\n",
              "      <td>126041</td>\n",
              "    </tr>\n",
              "    <tr>\n",
              "      <th>home_ownership</th>\n",
              "      <td>396030</td>\n",
              "      <td>6</td>\n",
              "      <td>MORTGAGE</td>\n",
              "      <td>198348</td>\n",
              "    </tr>\n",
              "    <tr>\n",
              "      <th>verification_status</th>\n",
              "      <td>396030</td>\n",
              "      <td>3</td>\n",
              "      <td>Verified</td>\n",
              "      <td>139563</td>\n",
              "    </tr>\n",
              "    <tr>\n",
              "      <th>issue_d</th>\n",
              "      <td>396030</td>\n",
              "      <td>115</td>\n",
              "      <td>Oct-2014</td>\n",
              "      <td>14846</td>\n",
              "    </tr>\n",
              "    <tr>\n",
              "      <th>loan_status</th>\n",
              "      <td>396030</td>\n",
              "      <td>2</td>\n",
              "      <td>Fully Paid</td>\n",
              "      <td>318357</td>\n",
              "    </tr>\n",
              "    <tr>\n",
              "      <th>purpose</th>\n",
              "      <td>396030</td>\n",
              "      <td>14</td>\n",
              "      <td>debt_consolidation</td>\n",
              "      <td>234507</td>\n",
              "    </tr>\n",
              "    <tr>\n",
              "      <th>title</th>\n",
              "      <td>394275</td>\n",
              "      <td>48817</td>\n",
              "      <td>Debt consolidation</td>\n",
              "      <td>152472</td>\n",
              "    </tr>\n",
              "    <tr>\n",
              "      <th>earliest_cr_line</th>\n",
              "      <td>396030</td>\n",
              "      <td>684</td>\n",
              "      <td>Oct-2000</td>\n",
              "      <td>3017</td>\n",
              "    </tr>\n",
              "    <tr>\n",
              "      <th>initial_list_status</th>\n",
              "      <td>396030</td>\n",
              "      <td>2</td>\n",
              "      <td>f</td>\n",
              "      <td>238066</td>\n",
              "    </tr>\n",
              "    <tr>\n",
              "      <th>application_type</th>\n",
              "      <td>396030</td>\n",
              "      <td>3</td>\n",
              "      <td>INDIVIDUAL</td>\n",
              "      <td>395319</td>\n",
              "    </tr>\n",
              "    <tr>\n",
              "      <th>address</th>\n",
              "      <td>396030</td>\n",
              "      <td>393700</td>\n",
              "      <td>USCGC Smith\\r\\nFPO AE 70466</td>\n",
              "      <td>8</td>\n",
              "    </tr>\n",
              "  </tbody>\n",
              "</table>\n",
              "</div>\n",
              "      <button class=\"colab-df-convert\" onclick=\"convertToInteractive('df-b59d89b6-97f4-4c3c-a2d3-9cfbe62dfd59')\"\n",
              "              title=\"Convert this dataframe to an interactive table.\"\n",
              "              style=\"display:none;\">\n",
              "        \n",
              "  <svg xmlns=\"http://www.w3.org/2000/svg\" height=\"24px\"viewBox=\"0 0 24 24\"\n",
              "       width=\"24px\">\n",
              "    <path d=\"M0 0h24v24H0V0z\" fill=\"none\"/>\n",
              "    <path d=\"M18.56 5.44l.94 2.06.94-2.06 2.06-.94-2.06-.94-.94-2.06-.94 2.06-2.06.94zm-11 1L8.5 8.5l.94-2.06 2.06-.94-2.06-.94L8.5 2.5l-.94 2.06-2.06.94zm10 10l.94 2.06.94-2.06 2.06-.94-2.06-.94-.94-2.06-.94 2.06-2.06.94z\"/><path d=\"M17.41 7.96l-1.37-1.37c-.4-.4-.92-.59-1.43-.59-.52 0-1.04.2-1.43.59L10.3 9.45l-7.72 7.72c-.78.78-.78 2.05 0 2.83L4 21.41c.39.39.9.59 1.41.59.51 0 1.02-.2 1.41-.59l7.78-7.78 2.81-2.81c.8-.78.8-2.07 0-2.86zM5.41 20L4 18.59l7.72-7.72 1.47 1.35L5.41 20z\"/>\n",
              "  </svg>\n",
              "      </button>\n",
              "      \n",
              "  <style>\n",
              "    .colab-df-container {\n",
              "      display:flex;\n",
              "      flex-wrap:wrap;\n",
              "      gap: 12px;\n",
              "    }\n",
              "\n",
              "    .colab-df-convert {\n",
              "      background-color: #E8F0FE;\n",
              "      border: none;\n",
              "      border-radius: 50%;\n",
              "      cursor: pointer;\n",
              "      display: none;\n",
              "      fill: #1967D2;\n",
              "      height: 32px;\n",
              "      padding: 0 0 0 0;\n",
              "      width: 32px;\n",
              "    }\n",
              "\n",
              "    .colab-df-convert:hover {\n",
              "      background-color: #E2EBFA;\n",
              "      box-shadow: 0px 1px 2px rgba(60, 64, 67, 0.3), 0px 1px 3px 1px rgba(60, 64, 67, 0.15);\n",
              "      fill: #174EA6;\n",
              "    }\n",
              "\n",
              "    [theme=dark] .colab-df-convert {\n",
              "      background-color: #3B4455;\n",
              "      fill: #D2E3FC;\n",
              "    }\n",
              "\n",
              "    [theme=dark] .colab-df-convert:hover {\n",
              "      background-color: #434B5C;\n",
              "      box-shadow: 0px 1px 3px 1px rgba(0, 0, 0, 0.15);\n",
              "      filter: drop-shadow(0px 1px 2px rgba(0, 0, 0, 0.3));\n",
              "      fill: #FFFFFF;\n",
              "    }\n",
              "  </style>\n",
              "\n",
              "      <script>\n",
              "        const buttonEl =\n",
              "          document.querySelector('#df-b59d89b6-97f4-4c3c-a2d3-9cfbe62dfd59 button.colab-df-convert');\n",
              "        buttonEl.style.display =\n",
              "          google.colab.kernel.accessAllowed ? 'block' : 'none';\n",
              "\n",
              "        async function convertToInteractive(key) {\n",
              "          const element = document.querySelector('#df-b59d89b6-97f4-4c3c-a2d3-9cfbe62dfd59');\n",
              "          const dataTable =\n",
              "            await google.colab.kernel.invokeFunction('convertToInteractive',\n",
              "                                                     [key], {});\n",
              "          if (!dataTable) return;\n",
              "\n",
              "          const docLinkHtml = 'Like what you see? Visit the ' +\n",
              "            '<a target=\"_blank\" href=https://colab.research.google.com/notebooks/data_table.ipynb>data table notebook</a>'\n",
              "            + ' to learn more about interactive tables.';\n",
              "          element.innerHTML = '';\n",
              "          dataTable['output_type'] = 'display_data';\n",
              "          await google.colab.output.renderOutput(dataTable, element);\n",
              "          const docLink = document.createElement('div');\n",
              "          docLink.innerHTML = docLinkHtml;\n",
              "          element.appendChild(docLink);\n",
              "        }\n",
              "      </script>\n",
              "    </div>\n",
              "  </div>\n",
              "  "
            ]
          },
          "metadata": {},
          "execution_count": 49
        }
      ]
    },
    {
      "cell_type": "code",
      "source": [
        "# Top 5 Rows\n",
        "data_df.head()"
      ],
      "metadata": {
        "colab": {
          "base_uri": "https://localhost:8080/",
          "height": 473
        },
        "id": "k4YYzer0ahi3",
        "outputId": "de232c57-b2d9-4a4e-ddd2-bd24f92ae5fe"
      },
      "execution_count": null,
      "outputs": [
        {
          "output_type": "execute_result",
          "data": {
            "text/plain": [
              "   loan_amnt        term  int_rate  installment grade sub_grade  \\\n",
              "0    10000.0   36 months     11.44       329.48     B        B4   \n",
              "1     8000.0   36 months     11.99       265.68     B        B5   \n",
              "2    15600.0   36 months     10.49       506.97     B        B3   \n",
              "3     7200.0   36 months      6.49       220.65     A        A2   \n",
              "4    24375.0   60 months     17.27       609.33     C        C5   \n",
              "\n",
              "                 emp_title emp_length home_ownership  annual_inc  ...  \\\n",
              "0                Marketing  10+ years           RENT    117000.0  ...   \n",
              "1          Credit analyst     4 years       MORTGAGE     65000.0  ...   \n",
              "2             Statistician   < 1 year           RENT     43057.0  ...   \n",
              "3          Client Advocate    6 years           RENT     54000.0  ...   \n",
              "4  Destiny Management Inc.    9 years       MORTGAGE     55000.0  ...   \n",
              "\n",
              "  open_acc pub_rec revol_bal revol_util total_acc  initial_list_status  \\\n",
              "0     16.0     0.0   36369.0       41.8      25.0                    w   \n",
              "1     17.0     0.0   20131.0       53.3      27.0                    f   \n",
              "2     13.0     0.0   11987.0       92.2      26.0                    f   \n",
              "3      6.0     0.0    5472.0       21.5      13.0                    f   \n",
              "4     13.0     0.0   24584.0       69.8      43.0                    f   \n",
              "\n",
              "  application_type  mort_acc  pub_rec_bankruptcies  \\\n",
              "0       INDIVIDUAL       0.0                   0.0   \n",
              "1       INDIVIDUAL       3.0                   0.0   \n",
              "2       INDIVIDUAL       0.0                   0.0   \n",
              "3       INDIVIDUAL       0.0                   0.0   \n",
              "4       INDIVIDUAL       1.0                   0.0   \n",
              "\n",
              "                                             address  \n",
              "0     0174 Michelle Gateway\\r\\nMendozaberg, OK 22690  \n",
              "1  1076 Carney Fort Apt. 347\\r\\nLoganmouth, SD 05113  \n",
              "2  87025 Mark Dale Apt. 269\\r\\nNew Sabrina, WV 05113  \n",
              "3            823 Reid Ford\\r\\nDelacruzside, MA 00813  \n",
              "4             679 Luna Roads\\r\\nGreggshire, VA 11650  \n",
              "\n",
              "[5 rows x 27 columns]"
            ],
            "text/html": [
              "\n",
              "  <div id=\"df-6639638b-92f6-42f0-95bd-05e68c4be6cc\">\n",
              "    <div class=\"colab-df-container\">\n",
              "      <div>\n",
              "<style scoped>\n",
              "    .dataframe tbody tr th:only-of-type {\n",
              "        vertical-align: middle;\n",
              "    }\n",
              "\n",
              "    .dataframe tbody tr th {\n",
              "        vertical-align: top;\n",
              "    }\n",
              "\n",
              "    .dataframe thead th {\n",
              "        text-align: right;\n",
              "    }\n",
              "</style>\n",
              "<table border=\"1\" class=\"dataframe\">\n",
              "  <thead>\n",
              "    <tr style=\"text-align: right;\">\n",
              "      <th></th>\n",
              "      <th>loan_amnt</th>\n",
              "      <th>term</th>\n",
              "      <th>int_rate</th>\n",
              "      <th>installment</th>\n",
              "      <th>grade</th>\n",
              "      <th>sub_grade</th>\n",
              "      <th>emp_title</th>\n",
              "      <th>emp_length</th>\n",
              "      <th>home_ownership</th>\n",
              "      <th>annual_inc</th>\n",
              "      <th>...</th>\n",
              "      <th>open_acc</th>\n",
              "      <th>pub_rec</th>\n",
              "      <th>revol_bal</th>\n",
              "      <th>revol_util</th>\n",
              "      <th>total_acc</th>\n",
              "      <th>initial_list_status</th>\n",
              "      <th>application_type</th>\n",
              "      <th>mort_acc</th>\n",
              "      <th>pub_rec_bankruptcies</th>\n",
              "      <th>address</th>\n",
              "    </tr>\n",
              "  </thead>\n",
              "  <tbody>\n",
              "    <tr>\n",
              "      <th>0</th>\n",
              "      <td>10000.0</td>\n",
              "      <td>36 months</td>\n",
              "      <td>11.44</td>\n",
              "      <td>329.48</td>\n",
              "      <td>B</td>\n",
              "      <td>B4</td>\n",
              "      <td>Marketing</td>\n",
              "      <td>10+ years</td>\n",
              "      <td>RENT</td>\n",
              "      <td>117000.0</td>\n",
              "      <td>...</td>\n",
              "      <td>16.0</td>\n",
              "      <td>0.0</td>\n",
              "      <td>36369.0</td>\n",
              "      <td>41.8</td>\n",
              "      <td>25.0</td>\n",
              "      <td>w</td>\n",
              "      <td>INDIVIDUAL</td>\n",
              "      <td>0.0</td>\n",
              "      <td>0.0</td>\n",
              "      <td>0174 Michelle Gateway\\r\\nMendozaberg, OK 22690</td>\n",
              "    </tr>\n",
              "    <tr>\n",
              "      <th>1</th>\n",
              "      <td>8000.0</td>\n",
              "      <td>36 months</td>\n",
              "      <td>11.99</td>\n",
              "      <td>265.68</td>\n",
              "      <td>B</td>\n",
              "      <td>B5</td>\n",
              "      <td>Credit analyst</td>\n",
              "      <td>4 years</td>\n",
              "      <td>MORTGAGE</td>\n",
              "      <td>65000.0</td>\n",
              "      <td>...</td>\n",
              "      <td>17.0</td>\n",
              "      <td>0.0</td>\n",
              "      <td>20131.0</td>\n",
              "      <td>53.3</td>\n",
              "      <td>27.0</td>\n",
              "      <td>f</td>\n",
              "      <td>INDIVIDUAL</td>\n",
              "      <td>3.0</td>\n",
              "      <td>0.0</td>\n",
              "      <td>1076 Carney Fort Apt. 347\\r\\nLoganmouth, SD 05113</td>\n",
              "    </tr>\n",
              "    <tr>\n",
              "      <th>2</th>\n",
              "      <td>15600.0</td>\n",
              "      <td>36 months</td>\n",
              "      <td>10.49</td>\n",
              "      <td>506.97</td>\n",
              "      <td>B</td>\n",
              "      <td>B3</td>\n",
              "      <td>Statistician</td>\n",
              "      <td>&lt; 1 year</td>\n",
              "      <td>RENT</td>\n",
              "      <td>43057.0</td>\n",
              "      <td>...</td>\n",
              "      <td>13.0</td>\n",
              "      <td>0.0</td>\n",
              "      <td>11987.0</td>\n",
              "      <td>92.2</td>\n",
              "      <td>26.0</td>\n",
              "      <td>f</td>\n",
              "      <td>INDIVIDUAL</td>\n",
              "      <td>0.0</td>\n",
              "      <td>0.0</td>\n",
              "      <td>87025 Mark Dale Apt. 269\\r\\nNew Sabrina, WV 05113</td>\n",
              "    </tr>\n",
              "    <tr>\n",
              "      <th>3</th>\n",
              "      <td>7200.0</td>\n",
              "      <td>36 months</td>\n",
              "      <td>6.49</td>\n",
              "      <td>220.65</td>\n",
              "      <td>A</td>\n",
              "      <td>A2</td>\n",
              "      <td>Client Advocate</td>\n",
              "      <td>6 years</td>\n",
              "      <td>RENT</td>\n",
              "      <td>54000.0</td>\n",
              "      <td>...</td>\n",
              "      <td>6.0</td>\n",
              "      <td>0.0</td>\n",
              "      <td>5472.0</td>\n",
              "      <td>21.5</td>\n",
              "      <td>13.0</td>\n",
              "      <td>f</td>\n",
              "      <td>INDIVIDUAL</td>\n",
              "      <td>0.0</td>\n",
              "      <td>0.0</td>\n",
              "      <td>823 Reid Ford\\r\\nDelacruzside, MA 00813</td>\n",
              "    </tr>\n",
              "    <tr>\n",
              "      <th>4</th>\n",
              "      <td>24375.0</td>\n",
              "      <td>60 months</td>\n",
              "      <td>17.27</td>\n",
              "      <td>609.33</td>\n",
              "      <td>C</td>\n",
              "      <td>C5</td>\n",
              "      <td>Destiny Management Inc.</td>\n",
              "      <td>9 years</td>\n",
              "      <td>MORTGAGE</td>\n",
              "      <td>55000.0</td>\n",
              "      <td>...</td>\n",
              "      <td>13.0</td>\n",
              "      <td>0.0</td>\n",
              "      <td>24584.0</td>\n",
              "      <td>69.8</td>\n",
              "      <td>43.0</td>\n",
              "      <td>f</td>\n",
              "      <td>INDIVIDUAL</td>\n",
              "      <td>1.0</td>\n",
              "      <td>0.0</td>\n",
              "      <td>679 Luna Roads\\r\\nGreggshire, VA 11650</td>\n",
              "    </tr>\n",
              "  </tbody>\n",
              "</table>\n",
              "<p>5 rows × 27 columns</p>\n",
              "</div>\n",
              "      <button class=\"colab-df-convert\" onclick=\"convertToInteractive('df-6639638b-92f6-42f0-95bd-05e68c4be6cc')\"\n",
              "              title=\"Convert this dataframe to an interactive table.\"\n",
              "              style=\"display:none;\">\n",
              "        \n",
              "  <svg xmlns=\"http://www.w3.org/2000/svg\" height=\"24px\"viewBox=\"0 0 24 24\"\n",
              "       width=\"24px\">\n",
              "    <path d=\"M0 0h24v24H0V0z\" fill=\"none\"/>\n",
              "    <path d=\"M18.56 5.44l.94 2.06.94-2.06 2.06-.94-2.06-.94-.94-2.06-.94 2.06-2.06.94zm-11 1L8.5 8.5l.94-2.06 2.06-.94-2.06-.94L8.5 2.5l-.94 2.06-2.06.94zm10 10l.94 2.06.94-2.06 2.06-.94-2.06-.94-.94-2.06-.94 2.06-2.06.94z\"/><path d=\"M17.41 7.96l-1.37-1.37c-.4-.4-.92-.59-1.43-.59-.52 0-1.04.2-1.43.59L10.3 9.45l-7.72 7.72c-.78.78-.78 2.05 0 2.83L4 21.41c.39.39.9.59 1.41.59.51 0 1.02-.2 1.41-.59l7.78-7.78 2.81-2.81c.8-.78.8-2.07 0-2.86zM5.41 20L4 18.59l7.72-7.72 1.47 1.35L5.41 20z\"/>\n",
              "  </svg>\n",
              "      </button>\n",
              "      \n",
              "  <style>\n",
              "    .colab-df-container {\n",
              "      display:flex;\n",
              "      flex-wrap:wrap;\n",
              "      gap: 12px;\n",
              "    }\n",
              "\n",
              "    .colab-df-convert {\n",
              "      background-color: #E8F0FE;\n",
              "      border: none;\n",
              "      border-radius: 50%;\n",
              "      cursor: pointer;\n",
              "      display: none;\n",
              "      fill: #1967D2;\n",
              "      height: 32px;\n",
              "      padding: 0 0 0 0;\n",
              "      width: 32px;\n",
              "    }\n",
              "\n",
              "    .colab-df-convert:hover {\n",
              "      background-color: #E2EBFA;\n",
              "      box-shadow: 0px 1px 2px rgba(60, 64, 67, 0.3), 0px 1px 3px 1px rgba(60, 64, 67, 0.15);\n",
              "      fill: #174EA6;\n",
              "    }\n",
              "\n",
              "    [theme=dark] .colab-df-convert {\n",
              "      background-color: #3B4455;\n",
              "      fill: #D2E3FC;\n",
              "    }\n",
              "\n",
              "    [theme=dark] .colab-df-convert:hover {\n",
              "      background-color: #434B5C;\n",
              "      box-shadow: 0px 1px 3px 1px rgba(0, 0, 0, 0.15);\n",
              "      filter: drop-shadow(0px 1px 2px rgba(0, 0, 0, 0.3));\n",
              "      fill: #FFFFFF;\n",
              "    }\n",
              "  </style>\n",
              "\n",
              "      <script>\n",
              "        const buttonEl =\n",
              "          document.querySelector('#df-6639638b-92f6-42f0-95bd-05e68c4be6cc button.colab-df-convert');\n",
              "        buttonEl.style.display =\n",
              "          google.colab.kernel.accessAllowed ? 'block' : 'none';\n",
              "\n",
              "        async function convertToInteractive(key) {\n",
              "          const element = document.querySelector('#df-6639638b-92f6-42f0-95bd-05e68c4be6cc');\n",
              "          const dataTable =\n",
              "            await google.colab.kernel.invokeFunction('convertToInteractive',\n",
              "                                                     [key], {});\n",
              "          if (!dataTable) return;\n",
              "\n",
              "          const docLinkHtml = 'Like what you see? Visit the ' +\n",
              "            '<a target=\"_blank\" href=https://colab.research.google.com/notebooks/data_table.ipynb>data table notebook</a>'\n",
              "            + ' to learn more about interactive tables.';\n",
              "          element.innerHTML = '';\n",
              "          dataTable['output_type'] = 'display_data';\n",
              "          await google.colab.output.renderOutput(dataTable, element);\n",
              "          const docLink = document.createElement('div');\n",
              "          docLink.innerHTML = docLinkHtml;\n",
              "          element.appendChild(docLink);\n",
              "        }\n",
              "      </script>\n",
              "    </div>\n",
              "  </div>\n",
              "  "
            ]
          },
          "metadata": {},
          "execution_count": 13
        }
      ]
    },
    {
      "cell_type": "markdown",
      "source": [
        "# Data Pre-Processing and Data Engineering"
      ],
      "metadata": {
        "id": "basyJQZ5ns7Q"
      }
    },
    {
      "cell_type": "markdown",
      "source": [
        "### Missing Values check"
      ],
      "metadata": {
        "id": "iMhuoooNoE5J"
      }
    },
    {
      "cell_type": "code",
      "source": [
        "# Method to check for Missing Values\n",
        "def check_for_missing_values():\n",
        "  output = data_df.columns[data_df.isna().any()]\n",
        "  if output.size>0:\n",
        "    print(blue(\"Following Columns have Missing Values \\n\",['bold']))\n",
        "    print(blue(\"Column_Name \\t Missing_Values_Count \\t Percentage\"))\n",
        "    for col in data_df.columns:\n",
        "      if data_df[col].isna().sum()!=0:\n",
        "        print(col, \" \\t\\t \", data_df[col].isna().sum(), \" \\t\\t \", round(data_df[col].isnull().sum()/len(data_df.index)*100, 2))\n",
        "  else:\n",
        "    print(\"Given dataset doesn't have any missing values\")\n",
        "    print(data_df.isna().sum())"
      ],
      "metadata": {
        "id": "9fbo-izfal-T"
      },
      "execution_count": 11,
      "outputs": []
    },
    {
      "cell_type": "code",
      "source": [
        "check_for_missing_values()"
      ],
      "metadata": {
        "colab": {
          "base_uri": "https://localhost:8080/"
        },
        "id": "eRHo5ES8qcQF",
        "outputId": "230ef1b3-f600-470f-862e-09c0b49ec893"
      },
      "execution_count": null,
      "outputs": [
        {
          "output_type": "stream",
          "name": "stdout",
          "text": [
            "\u001b[1;34mFollowing Columns have Missing Values \n",
            "\u001b[0m\n",
            "\u001b[34mColumn_Name \t Missing_Values_Count \t Percentage\u001b[0m\n",
            "emp_title  \t  22927  \t\t  5.79\n",
            "emp_length  \t  18301  \t\t  4.62\n",
            "title  \t  1755  \t\t  0.44\n",
            "revol_util  \t  276  \t\t  0.07\n",
            "mort_acc  \t  37795  \t\t  9.54\n",
            "pub_rec_bankruptcies  \t  535  \t\t  0.14\n"
          ]
        }
      ]
    },
    {
      "cell_type": "markdown",
      "source": [
        "#### **Observation**: \n",
        "*   Clearly 'emp_title', 'emp_length' and 'mort_acc' have significant null values. Remaining features have negligible null values which can be dropped.\n",
        "*   Null values in 'emp_title' can be filled with 'Unknown title'\n",
        "*   Null values in 'emp_length' can be imputed with mean value\n",
        "*   'mort_acc' is number of mortgage accounts. We have to impute it with median to it's null values"
      ],
      "metadata": {
        "id": "KPwDuSrcboQo"
      }
    },
    {
      "cell_type": "code",
      "source": [
        "# Imputing missing values of 'emp_title' with 'unknown_title'\n",
        "data_df['emp_title'].fillna('unknown_title', inplace=True)"
      ],
      "metadata": {
        "id": "54BMQlJXetZf"
      },
      "execution_count": 6,
      "outputs": []
    },
    {
      "cell_type": "code",
      "source": [
        "# Imputing null values of 'emp_length' with forward fill method\n",
        "data_df['emp_length'] = data_df['emp_length'].fillna(method='ffill')"
      ],
      "metadata": {
        "id": "85D_enfhhPqA"
      },
      "execution_count": 7,
      "outputs": []
    },
    {
      "cell_type": "code",
      "source": [
        "# Filling null values of 'mort_acc' with median value of 'mort_acc'\n",
        "data_df['mort_acc'].fillna(data_df['mort_acc'].median(), inplace=True)"
      ],
      "metadata": {
        "id": "xuRLmaDAcgmy"
      },
      "execution_count": 8,
      "outputs": []
    },
    {
      "cell_type": "code",
      "source": [
        "check_for_missing_values()"
      ],
      "metadata": {
        "colab": {
          "base_uri": "https://localhost:8080/"
        },
        "id": "Q55pOzbBeRv3",
        "outputId": "0c8a7f3c-9906-487d-aae4-d9aef140bd39"
      },
      "execution_count": null,
      "outputs": [
        {
          "output_type": "stream",
          "name": "stdout",
          "text": [
            "\u001b[1;34mFollowing Columns have Missing Values \n",
            "\u001b[0m\n",
            "\u001b[34mColumn_Name \t Missing_Values_Count \t Percentage\u001b[0m\n",
            "title  \t\t  1755  \t\t  0.44\n",
            "revol_util  \t\t  276  \t\t  0.07\n",
            "pub_rec_bankruptcies  \t\t  535  \t\t  0.14\n"
          ]
        }
      ]
    },
    {
      "cell_type": "code",
      "source": [
        "# As the above columns have compartively less null values, these can be dropped. \n",
        "data_df = data_df.dropna()"
      ],
      "metadata": {
        "id": "WOJMymZAi9g_"
      },
      "execution_count": 9,
      "outputs": []
    },
    {
      "cell_type": "code",
      "source": [
        "check_for_missing_values()"
      ],
      "metadata": {
        "colab": {
          "base_uri": "https://localhost:8080/"
        },
        "id": "scGGde9ljKre",
        "outputId": "2eed1a41-8c73-4132-bdac-babeec590383"
      },
      "execution_count": 12,
      "outputs": [
        {
          "output_type": "stream",
          "name": "stdout",
          "text": [
            "Given dataset doesn't have any missing values\n",
            "loan_amnt               0\n",
            "term                    0\n",
            "int_rate                0\n",
            "installment             0\n",
            "grade                   0\n",
            "sub_grade               0\n",
            "emp_title               0\n",
            "emp_length              0\n",
            "home_ownership          0\n",
            "annual_inc              0\n",
            "verification_status     0\n",
            "issue_d                 0\n",
            "loan_status             0\n",
            "purpose                 0\n",
            "title                   0\n",
            "dti                     0\n",
            "earliest_cr_line        0\n",
            "open_acc                0\n",
            "pub_rec                 0\n",
            "revol_bal               0\n",
            "revol_util              0\n",
            "total_acc               0\n",
            "initial_list_status     0\n",
            "application_type        0\n",
            "mort_acc                0\n",
            "pub_rec_bankruptcies    0\n",
            "address                 0\n",
            "dtype: int64\n"
          ]
        }
      ]
    },
    {
      "cell_type": "code",
      "source": [
        "# Check for duplicates\n",
        "dup_rows = data_df[data_df.duplicated()]\n",
        "print(blue(\"# of duplicate rows: {0} \".format(dup_rows.shape[0])))"
      ],
      "metadata": {
        "colab": {
          "base_uri": "https://localhost:8080/"
        },
        "id": "gGN5sUh-qeF-",
        "outputId": "684f3db2-38b1-409f-b752-fb0d9debce35"
      },
      "execution_count": null,
      "outputs": [
        {
          "output_type": "stream",
          "name": "stdout",
          "text": [
            "\u001b[34m# of duplicate rows: 0 \u001b[0m\n"
          ]
        }
      ]
    },
    {
      "cell_type": "code",
      "source": [
        "data_df['emp_length'].value_counts()"
      ],
      "metadata": {
        "colab": {
          "base_uri": "https://localhost:8080/"
        },
        "id": "m-5W3j_wkqyH",
        "outputId": "af99b35f-50fa-44c9-c27b-db2ae2fa0a83"
      },
      "execution_count": null,
      "outputs": [
        {
          "output_type": "execute_result",
          "data": {
            "text/plain": [
              "10+ years    131320\n",
              "2 years       37294\n",
              "< 1 year      33030\n",
              "3 years       32987\n",
              "5 years       27662\n",
              "1 year        26856\n",
              "4 years       24908\n",
              "7 years       21766\n",
              "6 years       21698\n",
              "8 years       19979\n",
              "9 years       15965\n",
              "Name: emp_length, dtype: int64"
            ]
          },
          "metadata": {},
          "execution_count": 50
        }
      ]
    },
    {
      "cell_type": "code",
      "source": [
        "# Convert the emp_length to a numerical column\n",
        "# Before converting the datatype, let's make <1 yrs as 0 years and 10+ yrs to 10 years\n",
        "data_df['emp_length'] = data_df['emp_length'].replace(['< 1 year'], '0 year')\n",
        "data_df['emp_length'] = data_df['emp_length'].replace(['10+ years'], '10 years')"
      ],
      "metadata": {
        "id": "tdX9Pem8tBtc"
      },
      "execution_count": 13,
      "outputs": []
    },
    {
      "cell_type": "code",
      "source": [
        "data_df['emp_length'].value_counts()"
      ],
      "metadata": {
        "colab": {
          "base_uri": "https://localhost:8080/"
        },
        "id": "pxz-ZOOLkzos",
        "outputId": "2f5b8d0b-aa92-4177-fa9a-6da08bc4e957"
      },
      "execution_count": 14,
      "outputs": [
        {
          "output_type": "execute_result",
          "data": {
            "text/plain": [
              "10 years    131320\n",
              "2 years      37294\n",
              "0 year       33030\n",
              "3 years      32987\n",
              "5 years      27662\n",
              "1 year       26856\n",
              "4 years      24908\n",
              "7 years      21766\n",
              "6 years      21698\n",
              "8 years      19979\n",
              "9 years      15965\n",
              "Name: emp_length, dtype: int64"
            ]
          },
          "metadata": {},
          "execution_count": 14
        }
      ]
    },
    {
      "cell_type": "code",
      "source": [
        "data_df[['emp_duration', 'emp_years']] = data_df['emp_length'].str.split(' ', expand=True)"
      ],
      "metadata": {
        "id": "QbGPAjRpk2tP"
      },
      "execution_count": 15,
      "outputs": []
    },
    {
      "cell_type": "code",
      "source": [
        "data_df.drop(['emp_length', 'emp_years'], axis='columns', inplace=True)"
      ],
      "metadata": {
        "id": "z4SeyqLXlmU9"
      },
      "execution_count": 16,
      "outputs": []
    },
    {
      "cell_type": "code",
      "source": [
        "data_df['emp_duration'].value_counts()"
      ],
      "metadata": {
        "colab": {
          "base_uri": "https://localhost:8080/"
        },
        "id": "CJxHJQxFlo5b",
        "outputId": "33cccf55-b7af-40bc-c8db-dd10f18b8433"
      },
      "execution_count": 17,
      "outputs": [
        {
          "output_type": "execute_result",
          "data": {
            "text/plain": [
              "10    131320\n",
              "2      37294\n",
              "0      33030\n",
              "3      32987\n",
              "5      27662\n",
              "1      26856\n",
              "4      24908\n",
              "7      21766\n",
              "6      21698\n",
              "8      19979\n",
              "9      15965\n",
              "Name: emp_duration, dtype: int64"
            ]
          },
          "metadata": {},
          "execution_count": 17
        }
      ]
    },
    {
      "cell_type": "code",
      "source": [
        "data_df['emp_duration'] = data_df['emp_duration'].astype(int)"
      ],
      "metadata": {
        "id": "YwbZZzVmmOH-"
      },
      "execution_count": 18,
      "outputs": []
    },
    {
      "cell_type": "code",
      "source": [
        "data_df.describe(include='object').T"
      ],
      "metadata": {
        "colab": {
          "base_uri": "https://localhost:8080/",
          "height": 488
        },
        "id": "C1SW9V8qmgzT",
        "outputId": "0d2f572f-0710-4e25-ed1d-37bb2c876769"
      },
      "execution_count": 19,
      "outputs": [
        {
          "output_type": "execute_result",
          "data": {
            "text/plain": [
              "                      count  unique                        top    freq\n",
              "term                 393465       2                  36 months  300024\n",
              "grade                393465       7                          B  115395\n",
              "sub_grade            393465      35                         B3   26518\n",
              "emp_title            393465  172227              unknown_title   22668\n",
              "home_ownership       393465       6                   MORTGAGE  197110\n",
              "verification_status  393465       3                   Verified  138867\n",
              "issue_d              393465     112                   Oct-2014   14838\n",
              "loan_status          393465       2                 Fully Paid  316271\n",
              "purpose              393465      14         debt_consolidation  233108\n",
              "title                393465   48472         Debt consolidation  152392\n",
              "earliest_cr_line     393465     683                   Oct-2000    2999\n",
              "initial_list_status  393465       2                          f  236947\n",
              "application_type     393465       3                 INDIVIDUAL  392844\n",
              "address              393465  391162  USS Smith\\r\\nFPO AP 70466       8"
            ],
            "text/html": [
              "\n",
              "  <div id=\"df-bfac9715-af98-458a-883b-35bed850226b\">\n",
              "    <div class=\"colab-df-container\">\n",
              "      <div>\n",
              "<style scoped>\n",
              "    .dataframe tbody tr th:only-of-type {\n",
              "        vertical-align: middle;\n",
              "    }\n",
              "\n",
              "    .dataframe tbody tr th {\n",
              "        vertical-align: top;\n",
              "    }\n",
              "\n",
              "    .dataframe thead th {\n",
              "        text-align: right;\n",
              "    }\n",
              "</style>\n",
              "<table border=\"1\" class=\"dataframe\">\n",
              "  <thead>\n",
              "    <tr style=\"text-align: right;\">\n",
              "      <th></th>\n",
              "      <th>count</th>\n",
              "      <th>unique</th>\n",
              "      <th>top</th>\n",
              "      <th>freq</th>\n",
              "    </tr>\n",
              "  </thead>\n",
              "  <tbody>\n",
              "    <tr>\n",
              "      <th>term</th>\n",
              "      <td>393465</td>\n",
              "      <td>2</td>\n",
              "      <td>36 months</td>\n",
              "      <td>300024</td>\n",
              "    </tr>\n",
              "    <tr>\n",
              "      <th>grade</th>\n",
              "      <td>393465</td>\n",
              "      <td>7</td>\n",
              "      <td>B</td>\n",
              "      <td>115395</td>\n",
              "    </tr>\n",
              "    <tr>\n",
              "      <th>sub_grade</th>\n",
              "      <td>393465</td>\n",
              "      <td>35</td>\n",
              "      <td>B3</td>\n",
              "      <td>26518</td>\n",
              "    </tr>\n",
              "    <tr>\n",
              "      <th>emp_title</th>\n",
              "      <td>393465</td>\n",
              "      <td>172227</td>\n",
              "      <td>unknown_title</td>\n",
              "      <td>22668</td>\n",
              "    </tr>\n",
              "    <tr>\n",
              "      <th>home_ownership</th>\n",
              "      <td>393465</td>\n",
              "      <td>6</td>\n",
              "      <td>MORTGAGE</td>\n",
              "      <td>197110</td>\n",
              "    </tr>\n",
              "    <tr>\n",
              "      <th>verification_status</th>\n",
              "      <td>393465</td>\n",
              "      <td>3</td>\n",
              "      <td>Verified</td>\n",
              "      <td>138867</td>\n",
              "    </tr>\n",
              "    <tr>\n",
              "      <th>issue_d</th>\n",
              "      <td>393465</td>\n",
              "      <td>112</td>\n",
              "      <td>Oct-2014</td>\n",
              "      <td>14838</td>\n",
              "    </tr>\n",
              "    <tr>\n",
              "      <th>loan_status</th>\n",
              "      <td>393465</td>\n",
              "      <td>2</td>\n",
              "      <td>Fully Paid</td>\n",
              "      <td>316271</td>\n",
              "    </tr>\n",
              "    <tr>\n",
              "      <th>purpose</th>\n",
              "      <td>393465</td>\n",
              "      <td>14</td>\n",
              "      <td>debt_consolidation</td>\n",
              "      <td>233108</td>\n",
              "    </tr>\n",
              "    <tr>\n",
              "      <th>title</th>\n",
              "      <td>393465</td>\n",
              "      <td>48472</td>\n",
              "      <td>Debt consolidation</td>\n",
              "      <td>152392</td>\n",
              "    </tr>\n",
              "    <tr>\n",
              "      <th>earliest_cr_line</th>\n",
              "      <td>393465</td>\n",
              "      <td>683</td>\n",
              "      <td>Oct-2000</td>\n",
              "      <td>2999</td>\n",
              "    </tr>\n",
              "    <tr>\n",
              "      <th>initial_list_status</th>\n",
              "      <td>393465</td>\n",
              "      <td>2</td>\n",
              "      <td>f</td>\n",
              "      <td>236947</td>\n",
              "    </tr>\n",
              "    <tr>\n",
              "      <th>application_type</th>\n",
              "      <td>393465</td>\n",
              "      <td>3</td>\n",
              "      <td>INDIVIDUAL</td>\n",
              "      <td>392844</td>\n",
              "    </tr>\n",
              "    <tr>\n",
              "      <th>address</th>\n",
              "      <td>393465</td>\n",
              "      <td>391162</td>\n",
              "      <td>USS Smith\\r\\nFPO AP 70466</td>\n",
              "      <td>8</td>\n",
              "    </tr>\n",
              "  </tbody>\n",
              "</table>\n",
              "</div>\n",
              "      <button class=\"colab-df-convert\" onclick=\"convertToInteractive('df-bfac9715-af98-458a-883b-35bed850226b')\"\n",
              "              title=\"Convert this dataframe to an interactive table.\"\n",
              "              style=\"display:none;\">\n",
              "        \n",
              "  <svg xmlns=\"http://www.w3.org/2000/svg\" height=\"24px\"viewBox=\"0 0 24 24\"\n",
              "       width=\"24px\">\n",
              "    <path d=\"M0 0h24v24H0V0z\" fill=\"none\"/>\n",
              "    <path d=\"M18.56 5.44l.94 2.06.94-2.06 2.06-.94-2.06-.94-.94-2.06-.94 2.06-2.06.94zm-11 1L8.5 8.5l.94-2.06 2.06-.94-2.06-.94L8.5 2.5l-.94 2.06-2.06.94zm10 10l.94 2.06.94-2.06 2.06-.94-2.06-.94-.94-2.06-.94 2.06-2.06.94z\"/><path d=\"M17.41 7.96l-1.37-1.37c-.4-.4-.92-.59-1.43-.59-.52 0-1.04.2-1.43.59L10.3 9.45l-7.72 7.72c-.78.78-.78 2.05 0 2.83L4 21.41c.39.39.9.59 1.41.59.51 0 1.02-.2 1.41-.59l7.78-7.78 2.81-2.81c.8-.78.8-2.07 0-2.86zM5.41 20L4 18.59l7.72-7.72 1.47 1.35L5.41 20z\"/>\n",
              "  </svg>\n",
              "      </button>\n",
              "      \n",
              "  <style>\n",
              "    .colab-df-container {\n",
              "      display:flex;\n",
              "      flex-wrap:wrap;\n",
              "      gap: 12px;\n",
              "    }\n",
              "\n",
              "    .colab-df-convert {\n",
              "      background-color: #E8F0FE;\n",
              "      border: none;\n",
              "      border-radius: 50%;\n",
              "      cursor: pointer;\n",
              "      display: none;\n",
              "      fill: #1967D2;\n",
              "      height: 32px;\n",
              "      padding: 0 0 0 0;\n",
              "      width: 32px;\n",
              "    }\n",
              "\n",
              "    .colab-df-convert:hover {\n",
              "      background-color: #E2EBFA;\n",
              "      box-shadow: 0px 1px 2px rgba(60, 64, 67, 0.3), 0px 1px 3px 1px rgba(60, 64, 67, 0.15);\n",
              "      fill: #174EA6;\n",
              "    }\n",
              "\n",
              "    [theme=dark] .colab-df-convert {\n",
              "      background-color: #3B4455;\n",
              "      fill: #D2E3FC;\n",
              "    }\n",
              "\n",
              "    [theme=dark] .colab-df-convert:hover {\n",
              "      background-color: #434B5C;\n",
              "      box-shadow: 0px 1px 3px 1px rgba(0, 0, 0, 0.15);\n",
              "      filter: drop-shadow(0px 1px 2px rgba(0, 0, 0, 0.3));\n",
              "      fill: #FFFFFF;\n",
              "    }\n",
              "  </style>\n",
              "\n",
              "      <script>\n",
              "        const buttonEl =\n",
              "          document.querySelector('#df-bfac9715-af98-458a-883b-35bed850226b button.colab-df-convert');\n",
              "        buttonEl.style.display =\n",
              "          google.colab.kernel.accessAllowed ? 'block' : 'none';\n",
              "\n",
              "        async function convertToInteractive(key) {\n",
              "          const element = document.querySelector('#df-bfac9715-af98-458a-883b-35bed850226b');\n",
              "          const dataTable =\n",
              "            await google.colab.kernel.invokeFunction('convertToInteractive',\n",
              "                                                     [key], {});\n",
              "          if (!dataTable) return;\n",
              "\n",
              "          const docLinkHtml = 'Like what you see? Visit the ' +\n",
              "            '<a target=\"_blank\" href=https://colab.research.google.com/notebooks/data_table.ipynb>data table notebook</a>'\n",
              "            + ' to learn more about interactive tables.';\n",
              "          element.innerHTML = '';\n",
              "          dataTable['output_type'] = 'display_data';\n",
              "          await google.colab.output.renderOutput(dataTable, element);\n",
              "          const docLink = document.createElement('div');\n",
              "          docLink.innerHTML = docLinkHtml;\n",
              "          element.appendChild(docLink);\n",
              "        }\n",
              "      </script>\n",
              "    </div>\n",
              "  </div>\n",
              "  "
            ]
          },
          "metadata": {},
          "execution_count": 19
        }
      ]
    },
    {
      "cell_type": "code",
      "source": [
        "# Let's convert 'issue_dt' and 'earliest_cr_line' into datatime type\n",
        "data_df['issue_d'] = data_df['issue_d'].astype('datetime64[ns]')\n",
        "data_df['earliest_cr_line'] = data_df['earliest_cr_line'].astype('datetime64[ns]')"
      ],
      "metadata": {
        "id": "hnlnkB05mtiO"
      },
      "execution_count": 20,
      "outputs": []
    },
    {
      "cell_type": "code",
      "source": [
        "now = datetime.datetime.now()\n",
        "data_df['current_date'] = pd.Series([now.date() for x in range(len(data_df.index))])\n",
        "data_df['current_date'] = data_df['current_date'].astype('datetime64[ns]')\n",
        "data_df['credit_line_age'] = (data_df['current_date'] - data_df['earliest_cr_line']) / np.timedelta64(1, 'D')\n",
        "data_df['loan_age'] = (data_df['current_date'] - data_df['issue_d']) / np.timedelta64(1, 'D')\n",
        "data_df.head()\n"
      ],
      "metadata": {
        "colab": {
          "base_uri": "https://localhost:8080/",
          "height": 473
        },
        "id": "N5FJKA6ynHL8",
        "outputId": "85082800-a73b-47e7-c3c1-1d6543690b4e"
      },
      "execution_count": 21,
      "outputs": [
        {
          "output_type": "execute_result",
          "data": {
            "text/plain": [
              "   loan_amnt        term  int_rate  installment grade sub_grade  \\\n",
              "0    10000.0   36 months     11.44       329.48     B        B4   \n",
              "1     8000.0   36 months     11.99       265.68     B        B5   \n",
              "2    15600.0   36 months     10.49       506.97     B        B3   \n",
              "3     7200.0   36 months      6.49       220.65     A        A2   \n",
              "4    24375.0   60 months     17.27       609.33     C        C5   \n",
              "\n",
              "                 emp_title home_ownership  annual_inc verification_status  \\\n",
              "0                Marketing           RENT    117000.0        Not Verified   \n",
              "1          Credit analyst        MORTGAGE     65000.0        Not Verified   \n",
              "2             Statistician           RENT     43057.0     Source Verified   \n",
              "3          Client Advocate           RENT     54000.0        Not Verified   \n",
              "4  Destiny Management Inc.       MORTGAGE     55000.0            Verified   \n",
              "\n",
              "   ... total_acc initial_list_status application_type mort_acc  \\\n",
              "0  ...      25.0                   w       INDIVIDUAL      0.0   \n",
              "1  ...      27.0                   f       INDIVIDUAL      3.0   \n",
              "2  ...      26.0                   f       INDIVIDUAL      0.0   \n",
              "3  ...      13.0                   f       INDIVIDUAL      0.0   \n",
              "4  ...      43.0                   f       INDIVIDUAL      1.0   \n",
              "\n",
              "   pub_rec_bankruptcies                                            address  \\\n",
              "0                   0.0     0174 Michelle Gateway\\r\\nMendozaberg, OK 22690   \n",
              "1                   0.0  1076 Carney Fort Apt. 347\\r\\nLoganmouth, SD 05113   \n",
              "2                   0.0  87025 Mark Dale Apt. 269\\r\\nNew Sabrina, WV 05113   \n",
              "3                   0.0            823 Reid Ford\\r\\nDelacruzside, MA 00813   \n",
              "4                   0.0             679 Luna Roads\\r\\nGreggshire, VA 11650   \n",
              "\n",
              "   emp_duration  current_date  credit_line_age  loan_age  \n",
              "0            10    2023-01-29          11930.0    2950.0  \n",
              "1             4    2023-01-29           6786.0    2950.0  \n",
              "2             0    2023-01-29           5660.0    2950.0  \n",
              "3             6    2023-01-29           5994.0    3011.0  \n",
              "4             9    2023-01-29           8735.0    3590.0  \n",
              "\n",
              "[5 rows x 30 columns]"
            ],
            "text/html": [
              "\n",
              "  <div id=\"df-fddac23d-7df0-4c72-ab81-f153cf8675f2\">\n",
              "    <div class=\"colab-df-container\">\n",
              "      <div>\n",
              "<style scoped>\n",
              "    .dataframe tbody tr th:only-of-type {\n",
              "        vertical-align: middle;\n",
              "    }\n",
              "\n",
              "    .dataframe tbody tr th {\n",
              "        vertical-align: top;\n",
              "    }\n",
              "\n",
              "    .dataframe thead th {\n",
              "        text-align: right;\n",
              "    }\n",
              "</style>\n",
              "<table border=\"1\" class=\"dataframe\">\n",
              "  <thead>\n",
              "    <tr style=\"text-align: right;\">\n",
              "      <th></th>\n",
              "      <th>loan_amnt</th>\n",
              "      <th>term</th>\n",
              "      <th>int_rate</th>\n",
              "      <th>installment</th>\n",
              "      <th>grade</th>\n",
              "      <th>sub_grade</th>\n",
              "      <th>emp_title</th>\n",
              "      <th>home_ownership</th>\n",
              "      <th>annual_inc</th>\n",
              "      <th>verification_status</th>\n",
              "      <th>...</th>\n",
              "      <th>total_acc</th>\n",
              "      <th>initial_list_status</th>\n",
              "      <th>application_type</th>\n",
              "      <th>mort_acc</th>\n",
              "      <th>pub_rec_bankruptcies</th>\n",
              "      <th>address</th>\n",
              "      <th>emp_duration</th>\n",
              "      <th>current_date</th>\n",
              "      <th>credit_line_age</th>\n",
              "      <th>loan_age</th>\n",
              "    </tr>\n",
              "  </thead>\n",
              "  <tbody>\n",
              "    <tr>\n",
              "      <th>0</th>\n",
              "      <td>10000.0</td>\n",
              "      <td>36 months</td>\n",
              "      <td>11.44</td>\n",
              "      <td>329.48</td>\n",
              "      <td>B</td>\n",
              "      <td>B4</td>\n",
              "      <td>Marketing</td>\n",
              "      <td>RENT</td>\n",
              "      <td>117000.0</td>\n",
              "      <td>Not Verified</td>\n",
              "      <td>...</td>\n",
              "      <td>25.0</td>\n",
              "      <td>w</td>\n",
              "      <td>INDIVIDUAL</td>\n",
              "      <td>0.0</td>\n",
              "      <td>0.0</td>\n",
              "      <td>0174 Michelle Gateway\\r\\nMendozaberg, OK 22690</td>\n",
              "      <td>10</td>\n",
              "      <td>2023-01-29</td>\n",
              "      <td>11930.0</td>\n",
              "      <td>2950.0</td>\n",
              "    </tr>\n",
              "    <tr>\n",
              "      <th>1</th>\n",
              "      <td>8000.0</td>\n",
              "      <td>36 months</td>\n",
              "      <td>11.99</td>\n",
              "      <td>265.68</td>\n",
              "      <td>B</td>\n",
              "      <td>B5</td>\n",
              "      <td>Credit analyst</td>\n",
              "      <td>MORTGAGE</td>\n",
              "      <td>65000.0</td>\n",
              "      <td>Not Verified</td>\n",
              "      <td>...</td>\n",
              "      <td>27.0</td>\n",
              "      <td>f</td>\n",
              "      <td>INDIVIDUAL</td>\n",
              "      <td>3.0</td>\n",
              "      <td>0.0</td>\n",
              "      <td>1076 Carney Fort Apt. 347\\r\\nLoganmouth, SD 05113</td>\n",
              "      <td>4</td>\n",
              "      <td>2023-01-29</td>\n",
              "      <td>6786.0</td>\n",
              "      <td>2950.0</td>\n",
              "    </tr>\n",
              "    <tr>\n",
              "      <th>2</th>\n",
              "      <td>15600.0</td>\n",
              "      <td>36 months</td>\n",
              "      <td>10.49</td>\n",
              "      <td>506.97</td>\n",
              "      <td>B</td>\n",
              "      <td>B3</td>\n",
              "      <td>Statistician</td>\n",
              "      <td>RENT</td>\n",
              "      <td>43057.0</td>\n",
              "      <td>Source Verified</td>\n",
              "      <td>...</td>\n",
              "      <td>26.0</td>\n",
              "      <td>f</td>\n",
              "      <td>INDIVIDUAL</td>\n",
              "      <td>0.0</td>\n",
              "      <td>0.0</td>\n",
              "      <td>87025 Mark Dale Apt. 269\\r\\nNew Sabrina, WV 05113</td>\n",
              "      <td>0</td>\n",
              "      <td>2023-01-29</td>\n",
              "      <td>5660.0</td>\n",
              "      <td>2950.0</td>\n",
              "    </tr>\n",
              "    <tr>\n",
              "      <th>3</th>\n",
              "      <td>7200.0</td>\n",
              "      <td>36 months</td>\n",
              "      <td>6.49</td>\n",
              "      <td>220.65</td>\n",
              "      <td>A</td>\n",
              "      <td>A2</td>\n",
              "      <td>Client Advocate</td>\n",
              "      <td>RENT</td>\n",
              "      <td>54000.0</td>\n",
              "      <td>Not Verified</td>\n",
              "      <td>...</td>\n",
              "      <td>13.0</td>\n",
              "      <td>f</td>\n",
              "      <td>INDIVIDUAL</td>\n",
              "      <td>0.0</td>\n",
              "      <td>0.0</td>\n",
              "      <td>823 Reid Ford\\r\\nDelacruzside, MA 00813</td>\n",
              "      <td>6</td>\n",
              "      <td>2023-01-29</td>\n",
              "      <td>5994.0</td>\n",
              "      <td>3011.0</td>\n",
              "    </tr>\n",
              "    <tr>\n",
              "      <th>4</th>\n",
              "      <td>24375.0</td>\n",
              "      <td>60 months</td>\n",
              "      <td>17.27</td>\n",
              "      <td>609.33</td>\n",
              "      <td>C</td>\n",
              "      <td>C5</td>\n",
              "      <td>Destiny Management Inc.</td>\n",
              "      <td>MORTGAGE</td>\n",
              "      <td>55000.0</td>\n",
              "      <td>Verified</td>\n",
              "      <td>...</td>\n",
              "      <td>43.0</td>\n",
              "      <td>f</td>\n",
              "      <td>INDIVIDUAL</td>\n",
              "      <td>1.0</td>\n",
              "      <td>0.0</td>\n",
              "      <td>679 Luna Roads\\r\\nGreggshire, VA 11650</td>\n",
              "      <td>9</td>\n",
              "      <td>2023-01-29</td>\n",
              "      <td>8735.0</td>\n",
              "      <td>3590.0</td>\n",
              "    </tr>\n",
              "  </tbody>\n",
              "</table>\n",
              "<p>5 rows × 30 columns</p>\n",
              "</div>\n",
              "      <button class=\"colab-df-convert\" onclick=\"convertToInteractive('df-fddac23d-7df0-4c72-ab81-f153cf8675f2')\"\n",
              "              title=\"Convert this dataframe to an interactive table.\"\n",
              "              style=\"display:none;\">\n",
              "        \n",
              "  <svg xmlns=\"http://www.w3.org/2000/svg\" height=\"24px\"viewBox=\"0 0 24 24\"\n",
              "       width=\"24px\">\n",
              "    <path d=\"M0 0h24v24H0V0z\" fill=\"none\"/>\n",
              "    <path d=\"M18.56 5.44l.94 2.06.94-2.06 2.06-.94-2.06-.94-.94-2.06-.94 2.06-2.06.94zm-11 1L8.5 8.5l.94-2.06 2.06-.94-2.06-.94L8.5 2.5l-.94 2.06-2.06.94zm10 10l.94 2.06.94-2.06 2.06-.94-2.06-.94-.94-2.06-.94 2.06-2.06.94z\"/><path d=\"M17.41 7.96l-1.37-1.37c-.4-.4-.92-.59-1.43-.59-.52 0-1.04.2-1.43.59L10.3 9.45l-7.72 7.72c-.78.78-.78 2.05 0 2.83L4 21.41c.39.39.9.59 1.41.59.51 0 1.02-.2 1.41-.59l7.78-7.78 2.81-2.81c.8-.78.8-2.07 0-2.86zM5.41 20L4 18.59l7.72-7.72 1.47 1.35L5.41 20z\"/>\n",
              "  </svg>\n",
              "      </button>\n",
              "      \n",
              "  <style>\n",
              "    .colab-df-container {\n",
              "      display:flex;\n",
              "      flex-wrap:wrap;\n",
              "      gap: 12px;\n",
              "    }\n",
              "\n",
              "    .colab-df-convert {\n",
              "      background-color: #E8F0FE;\n",
              "      border: none;\n",
              "      border-radius: 50%;\n",
              "      cursor: pointer;\n",
              "      display: none;\n",
              "      fill: #1967D2;\n",
              "      height: 32px;\n",
              "      padding: 0 0 0 0;\n",
              "      width: 32px;\n",
              "    }\n",
              "\n",
              "    .colab-df-convert:hover {\n",
              "      background-color: #E2EBFA;\n",
              "      box-shadow: 0px 1px 2px rgba(60, 64, 67, 0.3), 0px 1px 3px 1px rgba(60, 64, 67, 0.15);\n",
              "      fill: #174EA6;\n",
              "    }\n",
              "\n",
              "    [theme=dark] .colab-df-convert {\n",
              "      background-color: #3B4455;\n",
              "      fill: #D2E3FC;\n",
              "    }\n",
              "\n",
              "    [theme=dark] .colab-df-convert:hover {\n",
              "      background-color: #434B5C;\n",
              "      box-shadow: 0px 1px 3px 1px rgba(0, 0, 0, 0.15);\n",
              "      filter: drop-shadow(0px 1px 2px rgba(0, 0, 0, 0.3));\n",
              "      fill: #FFFFFF;\n",
              "    }\n",
              "  </style>\n",
              "\n",
              "      <script>\n",
              "        const buttonEl =\n",
              "          document.querySelector('#df-fddac23d-7df0-4c72-ab81-f153cf8675f2 button.colab-df-convert');\n",
              "        buttonEl.style.display =\n",
              "          google.colab.kernel.accessAllowed ? 'block' : 'none';\n",
              "\n",
              "        async function convertToInteractive(key) {\n",
              "          const element = document.querySelector('#df-fddac23d-7df0-4c72-ab81-f153cf8675f2');\n",
              "          const dataTable =\n",
              "            await google.colab.kernel.invokeFunction('convertToInteractive',\n",
              "                                                     [key], {});\n",
              "          if (!dataTable) return;\n",
              "\n",
              "          const docLinkHtml = 'Like what you see? Visit the ' +\n",
              "            '<a target=\"_blank\" href=https://colab.research.google.com/notebooks/data_table.ipynb>data table notebook</a>'\n",
              "            + ' to learn more about interactive tables.';\n",
              "          element.innerHTML = '';\n",
              "          dataTable['output_type'] = 'display_data';\n",
              "          await google.colab.output.renderOutput(dataTable, element);\n",
              "          const docLink = document.createElement('div');\n",
              "          docLink.innerHTML = docLinkHtml;\n",
              "          element.appendChild(docLink);\n",
              "        }\n",
              "      </script>\n",
              "    </div>\n",
              "  </div>\n",
              "  "
            ]
          },
          "metadata": {},
          "execution_count": 21
        }
      ]
    },
    {
      "cell_type": "code",
      "source": [
        "data_df.drop(['current_date', 'earliest_cr_line', 'issue_d'], axis='columns', inplace=True)"
      ],
      "metadata": {
        "id": "Hhta8ZrwoAT0"
      },
      "execution_count": 22,
      "outputs": []
    },
    {
      "cell_type": "code",
      "source": [
        "# Drop the address column as it may not have much significant for our analysis\n",
        "data_df.drop(['address'], axis='columns', inplace=True)"
      ],
      "metadata": {
        "id": "__CVxXXlqWPE"
      },
      "execution_count": 23,
      "outputs": []
    },
    {
      "cell_type": "code",
      "source": [
        "# Let's drop the 'title' column as well\n",
        "data_df.drop(['title'], axis='columns', inplace=True)"
      ],
      "metadata": {
        "id": "U_lVa7cMqX9C"
      },
      "execution_count": 24,
      "outputs": []
    },
    {
      "cell_type": "code",
      "source": [
        "# Segregate Categorical Features\n",
        "cat_features = list(data_df.select_dtypes('object').columns)\n",
        "for col in cat_features:\n",
        "  print('Unique values in {0} are {1}'.format(col, data_df[col].unique()))"
      ],
      "metadata": {
        "colab": {
          "base_uri": "https://localhost:8080/"
        },
        "id": "Tl1ZW-hAq0_a",
        "outputId": "a04b061b-fdfd-484a-c67c-5f0c8cbe5ca3"
      },
      "execution_count": null,
      "outputs": [
        {
          "output_type": "stream",
          "name": "stdout",
          "text": [
            "Unique values in term are [' 36 months' ' 60 months']\n",
            "Unique values in grade are ['B' 'A' 'C' 'E' 'D' 'F' 'G']\n",
            "Unique values in sub_grade are ['B4' 'B5' 'B3' 'A2' 'C5' 'C3' 'A1' 'B2' 'C1' 'A5' 'E4' 'A4' 'A3' 'D1'\n",
            " 'C2' 'B1' 'D3' 'D5' 'D2' 'E1' 'E2' 'E5' 'F4' 'E3' 'D4' 'G1' 'F5' 'G2'\n",
            " 'C4' 'F1' 'F3' 'G5' 'G4' 'F2' 'G3']\n",
            "Unique values in emp_title are ['Marketing' 'Credit analyst ' 'Statistician' ...\n",
            " \"Michael's Arts & Crafts\" 'licensed bankere' 'Gracon Services, Inc']\n",
            "Unique values in home_ownership are ['RENT' 'MORTGAGE' 'OWN' 'OTHER' 'ANY' 'NONE']\n",
            "Unique values in verification_status are ['Not Verified' 'Source Verified' 'Verified']\n",
            "Unique values in loan_status are ['Fully Paid' 'Charged Off']\n",
            "Unique values in purpose are ['vacation' 'debt_consolidation' 'credit_card' 'home_improvement'\n",
            " 'small_business' 'major_purchase' 'other' 'medical' 'wedding' 'car'\n",
            " 'moving' 'house' 'educational' 'renewable_energy']\n",
            "Unique values in initial_list_status are ['w' 'f']\n",
            "Unique values in application_type are ['INDIVIDUAL' 'JOINT' 'DIRECT_PAY']\n"
          ]
        }
      ]
    },
    {
      "cell_type": "code",
      "source": [
        "# Sub grade is secondary level categorization of grade, so we can ignore the first part and convert it to int type\n",
        "data_df['sub_grade'] = data_df['sub_grade'].str[1:]"
      ],
      "metadata": {
        "id": "XvDVEKwZsWMg"
      },
      "execution_count": 25,
      "outputs": []
    },
    {
      "cell_type": "code",
      "source": [
        "data_df['sub_grade'] = data_df['sub_grade'].astype(int)"
      ],
      "metadata": {
        "id": "4lMcHKL4tJAq"
      },
      "execution_count": 26,
      "outputs": []
    },
    {
      "cell_type": "code",
      "source": [
        "# Segregate Numerical Features\n",
        "num_features = data_df.select_dtypes('number')\n"
      ],
      "metadata": {
        "id": "N-sqg4JEtNB4"
      },
      "execution_count": 27,
      "outputs": []
    },
    {
      "cell_type": "code",
      "source": [
        "sns.distplot(data_df['loan_amnt'])"
      ],
      "metadata": {
        "id": "WKIXl-UhuUBw",
        "colab": {
          "base_uri": "https://localhost:8080/",
          "height": 298
        },
        "outputId": "86d230ad-c749-4f51-9abd-102c312f8a4b"
      },
      "execution_count": 29,
      "outputs": [
        {
          "output_type": "execute_result",
          "data": {
            "text/plain": [
              "<matplotlib.axes._subplots.AxesSubplot at 0x7f9e31179730>"
            ]
          },
          "metadata": {},
          "execution_count": 29
        },
        {
          "output_type": "display_data",
          "data": {
            "text/plain": [
              "<Figure size 432x288 with 1 Axes>"
            ],
            "image/png": "[encoded data removed]"
          },
          "metadata": {
            "needs_background": "light"
          }
        }
      ]
    },
    {
      "cell_type": "code",
      "source": [
        "sns.boxplot(data_df['loan_amnt'])"
      ],
      "metadata": {
        "colab": {
          "base_uri": "https://localhost:8080/",
          "height": 298
        },
        "id": "9rW25OA03Fwo",
        "outputId": "27a20957-13dd-45df-b8fc-24ffb8f5bdeb"
      },
      "execution_count": 30,
      "outputs": [
        {
          "output_type": "execute_result",
          "data": {
            "text/plain": [
              "<matplotlib.axes._subplots.AxesSubplot at 0x7f9e30564430>"
            ]
          },
          "metadata": {},
          "execution_count": 30
        },
        {
          "output_type": "display_data",
          "data": {
            "text/plain": [
              "<Figure size 432x288 with 1 Axes>"
            ],
            "image/png": "[encoded data removed]"
          },
          "metadata": {
            "needs_background": "light"
          }
        }
      ]
    },
    {
      "cell_type": "code",
      "source": [
        "# Check for Outliers\n",
        "num_features.columns"
      ],
      "metadata": {
        "colab": {
          "base_uri": "https://localhost:8080/"
        },
        "id": "k4jgxNGhtZAP",
        "outputId": "f825e1e5-b6ef-4975-ed69-33c616d67be7"
      },
      "execution_count": 28,
      "outputs": [
        {
          "output_type": "execute_result",
          "data": {
            "text/plain": [
              "Index(['loan_amnt', 'int_rate', 'installment', 'sub_grade', 'annual_inc',\n",
              "       'dti', 'open_acc', 'pub_rec', 'revol_bal', 'revol_util', 'total_acc',\n",
              "       'mort_acc', 'pub_rec_bankruptcies', 'emp_duration', 'credit_line_age',\n",
              "       'loan_age'],\n",
              "      dtype='object')"
            ]
          },
          "metadata": {},
          "execution_count": 28
        }
      ]
    },
    {
      "cell_type": "code",
      "source": [
        "data_df.describe().T"
      ],
      "metadata": {
        "colab": {
          "base_uri": "https://localhost:8080/",
          "height": 551
        },
        "id": "qU05G2fZ3O9p",
        "outputId": "5e5ba290-ffdd-4b7d-cdee-2689bb5b7005"
      },
      "execution_count": 32,
      "outputs": [
        {
          "output_type": "execute_result",
          "data": {
            "text/plain": [
              "                         count          mean           std      min       25%  \\\n",
              "loan_amnt             393465.0  14117.269960   8353.190693   500.00   8000.00   \n",
              "int_rate              393465.0     13.638728      4.468866     5.32     10.49   \n",
              "installment           393465.0    431.946979    250.582348    16.08    250.33   \n",
              "sub_grade             393465.0      2.972028      1.406815     1.00      2.00   \n",
              "annual_inc            393465.0  74212.294265  61628.502516     0.00  45000.00   \n",
              "dti                   393465.0     17.383396     18.061993     0.00     11.29   \n",
              "open_acc              393465.0     11.317601      5.133143     1.00      8.00   \n",
              "pub_rec               393465.0      0.178189      0.530628     0.00      0.00   \n",
              "revol_bal             393465.0  15849.758057  20552.685648     0.00   6042.00   \n",
              "revol_util            393465.0     53.828586     24.434544     0.00     35.90   \n",
              "total_acc             393465.0     25.425893     11.883416     2.00     17.00   \n",
              "mort_acc              393465.0      1.737064      2.058347     0.00      0.00   \n",
              "pub_rec_bankruptcies  393465.0      0.121597      0.356108     0.00      0.00   \n",
              "emp_duration          393465.0      5.941098      3.644620     0.00      3.00   \n",
              "credit_line_age       390920.0   9036.645475   2628.481210  3407.00   7243.00   \n",
              "loan_age              390920.0   3282.639087    522.848005  2250.00   2891.00   \n",
              "\n",
              "                           50%       75%         max  \n",
              "loan_amnt             12000.00  20000.00    40000.00  \n",
              "int_rate                 13.33     16.49       30.99  \n",
              "installment             375.43    567.49     1533.81  \n",
              "sub_grade                 3.00      4.00        5.00  \n",
              "annual_inc            64000.00  90000.00  8706582.00  \n",
              "dti                      16.91     22.98     9999.00  \n",
              "open_acc                 10.00     14.00       90.00  \n",
              "pub_rec                   0.00      0.00       86.00  \n",
              "revol_bal             11194.00  19630.00  1743266.00  \n",
              "revol_util               54.90     72.90      892.30  \n",
              "total_acc                24.00     32.00      151.00  \n",
              "mort_acc                  1.00      3.00       34.00  \n",
              "pub_rec_bankruptcies      0.00      0.00        8.00  \n",
              "emp_duration              6.00     10.00       10.00  \n",
              "credit_line_age        8551.00  10347.00    28883.00  \n",
              "loan_age               3225.00   3560.00     5660.00  "
            ],
            "text/html": [
              "\n",
              "  <div id=\"df-a327d7b2-32ed-42ef-b931-cca9a0c49682\">\n",
              "    <div class=\"colab-df-container\">\n",
              "      <div>\n",
              "<style scoped>\n",
              "    .dataframe tbody tr th:only-of-type {\n",
              "        vertical-align: middle;\n",
              "    }\n",
              "\n",
              "    .dataframe tbody tr th {\n",
              "        vertical-align: top;\n",
              "    }\n",
              "\n",
              "    .dataframe thead th {\n",
              "        text-align: right;\n",
              "    }\n",
              "</style>\n",
              "<table border=\"1\" class=\"dataframe\">\n",
              "  <thead>\n",
              "    <tr style=\"text-align: right;\">\n",
              "      <th></th>\n",
              "      <th>count</th>\n",
              "      <th>mean</th>\n",
              "      <th>std</th>\n",
              "      <th>min</th>\n",
              "      <th>25%</th>\n",
              "      <th>50%</th>\n",
              "      <th>75%</th>\n",
              "      <th>max</th>\n",
              "    </tr>\n",
              "  </thead>\n",
              "  <tbody>\n",
              "    <tr>\n",
              "      <th>loan_amnt</th>\n",
              "      <td>393465.0</td>\n",
              "      <td>14117.269960</td>\n",
              "      <td>8353.190693</td>\n",
              "      <td>500.00</td>\n",
              "      <td>8000.00</td>\n",
              "      <td>12000.00</td>\n",
              "      <td>20000.00</td>\n",
              "      <td>40000.00</td>\n",
              "    </tr>\n",
              "    <tr>\n",
              "      <th>int_rate</th>\n",
              "      <td>393465.0</td>\n",
              "      <td>13.638728</td>\n",
              "      <td>4.468866</td>\n",
              "      <td>5.32</td>\n",
              "      <td>10.49</td>\n",
              "      <td>13.33</td>\n",
              "      <td>16.49</td>\n",
              "      <td>30.99</td>\n",
              "    </tr>\n",
              "    <tr>\n",
              "      <th>installment</th>\n",
              "      <td>393465.0</td>\n",
              "      <td>431.946979</td>\n",
              "      <td>250.582348</td>\n",
              "      <td>16.08</td>\n",
              "      <td>250.33</td>\n",
              "      <td>375.43</td>\n",
              "      <td>567.49</td>\n",
              "      <td>1533.81</td>\n",
              "    </tr>\n",
              "    <tr>\n",
              "      <th>sub_grade</th>\n",
              "      <td>393465.0</td>\n",
              "      <td>2.972028</td>\n",
              "      <td>1.406815</td>\n",
              "      <td>1.00</td>\n",
              "      <td>2.00</td>\n",
              "      <td>3.00</td>\n",
              "      <td>4.00</td>\n",
              "      <td>5.00</td>\n",
              "    </tr>\n",
              "    <tr>\n",
              "      <th>annual_inc</th>\n",
              "      <td>393465.0</td>\n",
              "      <td>74212.294265</td>\n",
              "      <td>61628.502516</td>\n",
              "      <td>0.00</td>\n",
              "      <td>45000.00</td>\n",
              "      <td>64000.00</td>\n",
              "      <td>90000.00</td>\n",
              "      <td>8706582.00</td>\n",
              "    </tr>\n",
              "    <tr>\n",
              "      <th>dti</th>\n",
              "      <td>393465.0</td>\n",
              "      <td>17.383396</td>\n",
              "      <td>18.061993</td>\n",
              "      <td>0.00</td>\n",
              "      <td>11.29</td>\n",
              "      <td>16.91</td>\n",
              "      <td>22.98</td>\n",
              "      <td>9999.00</td>\n",
              "    </tr>\n",
              "    <tr>\n",
              "      <th>open_acc</th>\n",
              "      <td>393465.0</td>\n",
              "      <td>11.317601</td>\n",
              "      <td>5.133143</td>\n",
              "      <td>1.00</td>\n",
              "      <td>8.00</td>\n",
              "      <td>10.00</td>\n",
              "      <td>14.00</td>\n",
              "      <td>90.00</td>\n",
              "    </tr>\n",
              "    <tr>\n",
              "      <th>pub_rec</th>\n",
              "      <td>393465.0</td>\n",
              "      <td>0.178189</td>\n",
              "      <td>0.530628</td>\n",
              "      <td>0.00</td>\n",
              "      <td>0.00</td>\n",
              "      <td>0.00</td>\n",
              "      <td>0.00</td>\n",
              "      <td>86.00</td>\n",
              "    </tr>\n",
              "    <tr>\n",
              "      <th>revol_bal</th>\n",
              "      <td>393465.0</td>\n",
              "      <td>15849.758057</td>\n",
              "      <td>20552.685648</td>\n",
              "      <td>0.00</td>\n",
              "      <td>6042.00</td>\n",
              "      <td>11194.00</td>\n",
              "      <td>19630.00</td>\n",
              "      <td>1743266.00</td>\n",
              "    </tr>\n",
              "    <tr>\n",
              "      <th>revol_util</th>\n",
              "      <td>393465.0</td>\n",
              "      <td>53.828586</td>\n",
              "      <td>24.434544</td>\n",
              "      <td>0.00</td>\n",
              "      <td>35.90</td>\n",
              "      <td>54.90</td>\n",
              "      <td>72.90</td>\n",
              "      <td>892.30</td>\n",
              "    </tr>\n",
              "    <tr>\n",
              "      <th>total_acc</th>\n",
              "      <td>393465.0</td>\n",
              "      <td>25.425893</td>\n",
              "      <td>11.883416</td>\n",
              "      <td>2.00</td>\n",
              "      <td>17.00</td>\n",
              "      <td>24.00</td>\n",
              "      <td>32.00</td>\n",
              "      <td>151.00</td>\n",
              "    </tr>\n",
              "    <tr>\n",
              "      <th>mort_acc</th>\n",
              "      <td>393465.0</td>\n",
              "      <td>1.737064</td>\n",
              "      <td>2.058347</td>\n",
              "      <td>0.00</td>\n",
              "      <td>0.00</td>\n",
              "      <td>1.00</td>\n",
              "      <td>3.00</td>\n",
              "      <td>34.00</td>\n",
              "    </tr>\n",
              "    <tr>\n",
              "      <th>pub_rec_bankruptcies</th>\n",
              "      <td>393465.0</td>\n",
              "      <td>0.121597</td>\n",
              "      <td>0.356108</td>\n",
              "      <td>0.00</td>\n",
              "      <td>0.00</td>\n",
              "      <td>0.00</td>\n",
              "      <td>0.00</td>\n",
              "      <td>8.00</td>\n",
              "    </tr>\n",
              "    <tr>\n",
              "      <th>emp_duration</th>\n",
              "      <td>393465.0</td>\n",
              "      <td>5.941098</td>\n",
              "      <td>3.644620</td>\n",
              "      <td>0.00</td>\n",
              "      <td>3.00</td>\n",
              "      <td>6.00</td>\n",
              "      <td>10.00</td>\n",
              "      <td>10.00</td>\n",
              "    </tr>\n",
              "    <tr>\n",
              "      <th>credit_line_age</th>\n",
              "      <td>390920.0</td>\n",
              "      <td>9036.645475</td>\n",
              "      <td>2628.481210</td>\n",
              "      <td>3407.00</td>\n",
              "      <td>7243.00</td>\n",
              "      <td>8551.00</td>\n",
              "      <td>10347.00</td>\n",
              "      <td>28883.00</td>\n",
              "    </tr>\n",
              "    <tr>\n",
              "      <th>loan_age</th>\n",
              "      <td>390920.0</td>\n",
              "      <td>3282.639087</td>\n",
              "      <td>522.848005</td>\n",
              "      <td>2250.00</td>\n",
              "      <td>2891.00</td>\n",
              "      <td>3225.00</td>\n",
              "      <td>3560.00</td>\n",
              "      <td>5660.00</td>\n",
              "    </tr>\n",
              "  </tbody>\n",
              "</table>\n",
              "</div>\n",
              "      <button class=\"colab-df-convert\" onclick=\"convertToInteractive('df-a327d7b2-32ed-42ef-b931-cca9a0c49682')\"\n",
              "              title=\"Convert this dataframe to an interactive table.\"\n",
              "              style=\"display:none;\">\n",
              "        \n",
              "  <svg xmlns=\"http://www.w3.org/2000/svg\" height=\"24px\"viewBox=\"0 0 24 24\"\n",
              "       width=\"24px\">\n",
              "    <path d=\"M0 0h24v24H0V0z\" fill=\"none\"/>\n",
              "    <path d=\"M18.56 5.44l.94 2.06.94-2.06 2.06-.94-2.06-.94-.94-2.06-.94 2.06-2.06.94zm-11 1L8.5 8.5l.94-2.06 2.06-.94-2.06-.94L8.5 2.5l-.94 2.06-2.06.94zm10 10l.94 2.06.94-2.06 2.06-.94-2.06-.94-.94-2.06-.94 2.06-2.06.94z\"/><path d=\"M17.41 7.96l-1.37-1.37c-.4-.4-.92-.59-1.43-.59-.52 0-1.04.2-1.43.59L10.3 9.45l-7.72 7.72c-.78.78-.78 2.05 0 2.83L4 21.41c.39.39.9.59 1.41.59.51 0 1.02-.2 1.41-.59l7.78-7.78 2.81-2.81c.8-.78.8-2.07 0-2.86zM5.41 20L4 18.59l7.72-7.72 1.47 1.35L5.41 20z\"/>\n",
              "  </svg>\n",
              "      </button>\n",
              "      \n",
              "  <style>\n",
              "    .colab-df-container {\n",
              "      display:flex;\n",
              "      flex-wrap:wrap;\n",
              "      gap: 12px;\n",
              "    }\n",
              "\n",
              "    .colab-df-convert {\n",
              "      background-color: #E8F0FE;\n",
              "      border: none;\n",
              "      border-radius: 50%;\n",
              "      cursor: pointer;\n",
              "      display: none;\n",
              "      fill: #1967D2;\n",
              "      height: 32px;\n",
              "      padding: 0 0 0 0;\n",
              "      width: 32px;\n",
              "    }\n",
              "\n",
              "    .colab-df-convert:hover {\n",
              "      background-color: #E2EBFA;\n",
              "      box-shadow: 0px 1px 2px rgba(60, 64, 67, 0.3), 0px 1px 3px 1px rgba(60, 64, 67, 0.15);\n",
              "      fill: #174EA6;\n",
              "    }\n",
              "\n",
              "    [theme=dark] .colab-df-convert {\n",
              "      background-color: #3B4455;\n",
              "      fill: #D2E3FC;\n",
              "    }\n",
              "\n",
              "    [theme=dark] .colab-df-convert:hover {\n",
              "      background-color: #434B5C;\n",
              "      box-shadow: 0px 1px 3px 1px rgba(0, 0, 0, 0.15);\n",
              "      filter: drop-shadow(0px 1px 2px rgba(0, 0, 0, 0.3));\n",
              "      fill: #FFFFFF;\n",
              "    }\n",
              "  </style>\n",
              "\n",
              "      <script>\n",
              "        const buttonEl =\n",
              "          document.querySelector('#df-a327d7b2-32ed-42ef-b931-cca9a0c49682 button.colab-df-convert');\n",
              "        buttonEl.style.display =\n",
              "          google.colab.kernel.accessAllowed ? 'block' : 'none';\n",
              "\n",
              "        async function convertToInteractive(key) {\n",
              "          const element = document.querySelector('#df-a327d7b2-32ed-42ef-b931-cca9a0c49682');\n",
              "          const dataTable =\n",
              "            await google.colab.kernel.invokeFunction('convertToInteractive',\n",
              "                                                     [key], {});\n",
              "          if (!dataTable) return;\n",
              "\n",
              "          const docLinkHtml = 'Like what you see? Visit the ' +\n",
              "            '<a target=\"_blank\" href=https://colab.research.google.com/notebooks/data_table.ipynb>data table notebook</a>'\n",
              "            + ' to learn more about interactive tables.';\n",
              "          element.innerHTML = '';\n",
              "          dataTable['output_type'] = 'display_data';\n",
              "          await google.colab.output.renderOutput(dataTable, element);\n",
              "          const docLink = document.createElement('div');\n",
              "          docLink.innerHTML = docLinkHtml;\n",
              "          element.appendChild(docLink);\n",
              "        }\n",
              "      </script>\n",
              "    </div>\n",
              "  </div>\n",
              "  "
            ]
          },
          "metadata": {},
          "execution_count": 32
        }
      ]
    },
    {
      "cell_type": "code",
      "source": [
        "# Outlier detection\n",
        "def check_outliers(df, col):\n",
        "  q1 = np.quantile(df[col], 0.25)\n",
        "  q3 = np.quantile(df[col], 0.75)\n",
        "  iqr = q3 - q1\n",
        "  lower_bound = q1 - 1.5*iqr\n",
        "  upper_bound = q3 + 1.5*iqr\n",
        "\n",
        "  outlier = df.loc[(df[col] < lower_bound) | (df[col] > upper_bound)]\n",
        "  return outlier.shape[0] / df.shape[0]*100"
      ],
      "metadata": {
        "id": "V_-4bD5D6gbw"
      },
      "execution_count": 43,
      "outputs": []
    },
    {
      "cell_type": "code",
      "source": [
        "# Store outliers\n",
        "outliers_list = []\n",
        "def print_outliers():\n",
        "  cols = num_features.columns\n",
        "  for i, j in enumerate(cols):\n",
        "    print(f\"{j} = {round(check_outliers(data_df, j),2)}%\")\n",
        "    if check_outliers(data_df, j) > 0:\n",
        "      outliers_list.append(j)\n"
      ],
      "metadata": {
        "id": "VHtpFgy8_mcb"
      },
      "execution_count": 64,
      "outputs": []
    },
    {
      "cell_type": "code",
      "source": [
        "# print outlier percentages\n",
        "print_outliers()"
      ],
      "metadata": {
        "colab": {
          "base_uri": "https://localhost:8080/"
        },
        "id": "HGF3rvjHAB1i",
        "outputId": "c161b402-c842-4513-9c87-f242937ca26b"
      },
      "execution_count": 65,
      "outputs": [
        {
          "output_type": "stream",
          "name": "stdout",
          "text": [
            "loan_amnt = 0.05%\n",
            "int_rate = 0.94%\n",
            "installment = 2.83%\n",
            "sub_grade = 0.0%\n",
            "annual_inc = 4.21%\n",
            "dti = 0.07%\n",
            "open_acc = 2.6%\n",
            "pub_rec = 14.59%\n",
            "revol_bal = 5.36%\n",
            "revol_util = 0.0%\n",
            "total_acc = 2.15%\n",
            "mort_acc = 1.73%\n",
            "pub_rec_bankruptcies = 11.4%\n",
            "emp_duration = 0.0%\n",
            "credit_line_age = 0.0%\n",
            "loan_age = 0.0%\n"
          ]
        }
      ]
    },
    {
      "cell_type": "code",
      "source": [
        "# List of features that have outliers\n",
        "outliers_list"
      ],
      "metadata": {
        "colab": {
          "base_uri": "https://localhost:8080/"
        },
        "id": "hfatxZKFB4pj",
        "outputId": "a4bdde0d-697b-4454-be62-cb46bb1f0937"
      },
      "execution_count": 66,
      "outputs": [
        {
          "output_type": "execute_result",
          "data": {
            "text/plain": [
              "['loan_amnt',\n",
              " 'int_rate',\n",
              " 'installment',\n",
              " 'annual_inc',\n",
              " 'dti',\n",
              " 'open_acc',\n",
              " 'pub_rec',\n",
              " 'revol_bal',\n",
              " 'revol_util',\n",
              " 'total_acc',\n",
              " 'mort_acc',\n",
              " 'pub_rec_bankruptcies']"
            ]
          },
          "metadata": {},
          "execution_count": 66
        }
      ]
    },
    {
      "cell_type": "code",
      "source": [
        "#Removing outliers\n",
        "# outliers_removed_df = data_df.copy()\n",
        "def remove_outliers(df, col):\n",
        "  q1=df[col].quantile(.25)\n",
        "  q3=df[col].quantile(.75)\n",
        "  iqr=q3-q1\n",
        "  outliers_removed_df=df[(df[col]>q1-1.5*iqr)&(df[col]<q3+1.5*iqr)]\n",
        "  return outliers_removed_df"
      ],
      "metadata": {
        "id": "DbOAvCskDmf-"
      },
      "execution_count": 81,
      "outputs": []
    },
    {
      "cell_type": "code",
      "source": [
        "for col in outliers_list:\n",
        "  plt.figure(figsize=(15, 3))\n",
        "  plt.subplot(121)\n",
        "  sns.boxplot(y=data_df[col])\n",
        "  plt.title(f\"Boxplot of {col} before removing outliers\")\n",
        "  plt.subplot(122)\n",
        "  new_df = remove_outliers(data_df, col)\n",
        "  sns.boxplot(y=new_df[col])\n",
        "  plt.title(f\"Boxplot of {col} after removing outliers\")\n",
        "\n",
        "  plt.show()"
      ],
      "metadata": {
        "colab": {
          "base_uri": "https://localhost:8080/",
          "height": 1000
        },
        "id": "pIBD3VWI3hu5",
        "outputId": "3901f992-316f-497e-ecf5-7e3cdf6e39b3"
      },
      "execution_count": 82,
      "outputs": [
        {
          "output_type": "display_data",
          "data": {
            "text/plain": [
              "<Figure size 1080x216 with 2 Axes>"
            ],
            "image/png": "[encoded data removed]"
          },
          "metadata": {
            "needs_background": "light"
          }
        },
        {
          "output_type": "display_data",
          "data": {
            "text/plain": [
              "<Figure size 1080x216 with 2 Axes>"
            ],
            "image/png": "[encoded data removed]"
          },
          "metadata": {
            "needs_background": "light"
          }
        },
        {
          "output_type": "display_data",
          "data": {
            "text/plain": [
              "<Figure size 1080x216 with 2 Axes>"
            ],
            "image/png": "[encoded data removed]"
          },
          "metadata": {
            "needs_background": "light"
          }
        },
        {
          "output_type": "display_data",
          "data": {
            "text/plain": [
              "<Figure size 1080x216 with 2 Axes>"
            ],
            "image/png": "[encoded data removed]"
          },
          "metadata": {
            "needs_background": "light"
          }
        },
        {
          "output_type": "display_data",
          "data": {
            "text/plain": [
              "<Figure size 1080x216 with 2 Axes>"
            ],
            "image/png": "[encoded data removed]"
          },
          "metadata": {
            "needs_background": "light"
          }
        },
        {
          "output_type": "display_data",
          "data": {
            "text/plain": [
              "<Figure size 1080x216 with 2 Axes>"
            ],
            "image/png": "[encoded data removed]"
          },
          "metadata": {
            "needs_background": "light"
          }
        },
        {
          "output_type": "display_data",
          "data": {
            "text/plain": [
              "<Figure size 1080x216 with 2 Axes>"
            ],
            "image/png": "[encoded data removed]"
          },
          "metadata": {
            "needs_background": "light"
          }
        },
        {
          "output_type": "display_data",
          "data": {
            "text/plain": [
              "<Figure size 1080x216 with 2 Axes>"
            ],
            "image/png": "[encoded data removed]"
          },
          "metadata": {
            "needs_background": "light"
          }
        },
        {
          "output_type": "display_data",
          "data": {
            "text/plain": [
              "<Figure size 1080x216 with 2 Axes>"
            ],
            "image/png": "[encoded data removed]"
          },
          "metadata": {
            "needs_background": "light"
          }
        },
        {
          "output_type": "display_data",
          "data": {
            "text/plain": [
              "<Figure size 1080x216 with 2 Axes>"
            ],
            "image/png": "[encoded data removed]"
          },
          "metadata": {
            "needs_background": "light"
          }
        },
        {
          "output_type": "display_data",
          "data": {
            "text/plain": [
              "<Figure size 1080x216 with 2 Axes>"
            ],
            "image/png": "[encoded data removed]"
          },
          "metadata": {
            "needs_background": "light"
          }
        },
        {
          "output_type": "display_data",
          "data": {
            "text/plain": [
              "<Figure size 1080x216 with 2 Axes>"
            ],
            "image/png": "[encoded data removed]"
          },
          "metadata": {
            "needs_background": "light"
          }
        }
      ]
    },
    {
      "cell_type": "code",
      "source": [],
      "metadata": {
        "id": "C7D9Hg4PHHk5"
      },
      "execution_count": null,
      "outputs": []
    }
  ]
}
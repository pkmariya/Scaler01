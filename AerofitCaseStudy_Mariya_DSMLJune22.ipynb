{
  "nbformat": 4,
  "nbformat_minor": 0,
  "metadata": {
    "colab": {
      "provenance": [],
      "collapsed_sections": [
        "JydkaYzYf4NK",
        "_Yv8XU0ojN1s",
        "CCoDKI2wNq_f",
        "qhjlVcwjmii1",
        "YyXfu2kubVFw"
      ],
      "authorship_tag": "ABX9TyNuipT0lXAEnuOPMpOtVkra",
      "include_colab_link": true
    },
    "kernelspec": {
      "name": "python3",
      "display_name": "Python 3"
    },
    "language_info": {
      "name": "python"
    }
  },
  "cells": [
    {
      "cell_type": "markdown",
      "metadata": {
        "id": "view-in-github",
        "colab_type": "text"
      },
      "source": [
        "<a href=\"https://colab.research.google.com/github/pkmariya/Scaler01/blob/master/AerofitCaseStudy_Mariya_DSMLJune22.ipynb\" target=\"_parent\"><img src=\"https://colab.research.google.com/assets/colab-badge.svg\" alt=\"Open In Colab\"/></a>"
      ]
    },
    {
      "cell_type": "markdown",
      "source": [
        "# **Aerofit Case Study**\n"
      ],
      "metadata": {
        "id": "CFl4-inPf13I"
      }
    },
    {
      "cell_type": "markdown",
      "source": [
        "# **1. Objective**\n",
        "## Identify the customer characteristics for each type of treadmill offered by Aerofit, so as to provide a better recommendation to the new customers."
      ],
      "metadata": {
        "id": "M5uPCdGdiCqm"
      }
    },
    {
      "cell_type": "markdown",
      "source": [
        "## Importing the Packages"
      ],
      "metadata": {
        "id": "9Qhjo-d7KFXg"
      }
    },
    {
      "cell_type": "code",
      "execution_count": null,
      "metadata": {
        "id": "Me7wRBtqfr1y"
      },
      "outputs": [],
      "source": [
        "# import required librariies & packages\n",
        "\n",
        "import numpy as np\n",
        "import pandas as pd\n",
        "import matplotlib.pyplot as plt\n",
        "import seaborn as sns\n",
        "from scipy.stats import norm, poisson"
      ]
    },
    {
      "cell_type": "markdown",
      "source": [
        "## Import and read the dataset"
      ],
      "metadata": {
        "id": "YlbQzQbLKVxt"
      }
    },
    {
      "cell_type": "code",
      "source": [
        "# import dataset\n",
        "\n",
        "dataset_url = \"https://d2beiqkhq929f0.cloudfront.net/public_assets/assets/000/001/125/original/aerofit_treadmill.csv?1639992749\"\n",
        "aero_df = pd.read_csv(dataset_url)"
      ],
      "metadata": {
        "id": "Gw93vN-ogY2P"
      },
      "execution_count": null,
      "outputs": []
    },
    {
      "cell_type": "markdown",
      "source": [
        "# **2. Statistical Summary**\n",
        "## List the data properties"
      ],
      "metadata": {
        "id": "wPnmgp5KKub-"
      }
    },
    {
      "cell_type": "markdown",
      "source": [
        "#### Basic info of the dataset"
      ],
      "metadata": {
        "id": "vEhyycCfLDdL"
      }
    },
    {
      "cell_type": "code",
      "source": [
        "# Basic info of the dataset\n",
        "aero_df.info()"
      ],
      "metadata": {
        "colab": {
          "base_uri": "https://localhost:8080/"
        },
        "id": "6VMWMtGfhxFk",
        "outputId": "dc24ae90-566a-4364-f8ac-62004fe2364e"
      },
      "execution_count": null,
      "outputs": [
        {
          "output_type": "stream",
          "name": "stdout",
          "text": [
            "<class 'pandas.core.frame.DataFrame'>\n",
            "RangeIndex: 180 entries, 0 to 179\n",
            "Data columns (total 9 columns):\n",
            " #   Column         Non-Null Count  Dtype \n",
            "---  ------         --------------  ----- \n",
            " 0   Product        180 non-null    object\n",
            " 1   Age            180 non-null    int64 \n",
            " 2   Gender         180 non-null    object\n",
            " 3   Education      180 non-null    int64 \n",
            " 4   MaritalStatus  180 non-null    object\n",
            " 5   Usage          180 non-null    int64 \n",
            " 6   Fitness        180 non-null    int64 \n",
            " 7   Income         180 non-null    int64 \n",
            " 8   Miles          180 non-null    int64 \n",
            "dtypes: int64(6), object(3)\n",
            "memory usage: 12.8+ KB\n"
          ]
        }
      ]
    },
    {
      "cell_type": "markdown",
      "source": [
        "#### Description of the dataset"
      ],
      "metadata": {
        "id": "AQurMpj-LIHu"
      }
    },
    {
      "cell_type": "code",
      "source": [
        "# Description of the dataset\n",
        "aero_df.describe()"
      ],
      "metadata": {
        "colab": {
          "base_uri": "https://localhost:8080/",
          "height": 300
        },
        "id": "gVfQzon8h2dQ",
        "outputId": "3b7e4d8c-4a1f-41d0-fe48-c637a2655e6f"
      },
      "execution_count": null,
      "outputs": [
        {
          "output_type": "execute_result",
          "data": {
            "text/plain": [
              "              Age   Education       Usage     Fitness         Income  \\\n",
              "count  180.000000  180.000000  180.000000  180.000000     180.000000   \n",
              "mean    28.788889   15.572222    3.455556    3.311111   53719.577778   \n",
              "std      6.943498    1.617055    1.084797    0.958869   16506.684226   \n",
              "min     18.000000   12.000000    2.000000    1.000000   29562.000000   \n",
              "25%     24.000000   14.000000    3.000000    3.000000   44058.750000   \n",
              "50%     26.000000   16.000000    3.000000    3.000000   50596.500000   \n",
              "75%     33.000000   16.000000    4.000000    4.000000   58668.000000   \n",
              "max     50.000000   21.000000    7.000000    5.000000  104581.000000   \n",
              "\n",
              "            Miles  \n",
              "count  180.000000  \n",
              "mean   103.194444  \n",
              "std     51.863605  \n",
              "min     21.000000  \n",
              "25%     66.000000  \n",
              "50%     94.000000  \n",
              "75%    114.750000  \n",
              "max    360.000000  "
            ],
            "text/html": [
              "\n",
              "  <div id=\"df-5e0623f8-2e0a-4b48-9656-8a8d6a97dac4\">\n",
              "    <div class=\"colab-df-container\">\n",
              "      <div>\n",
              "<style scoped>\n",
              "    .dataframe tbody tr th:only-of-type {\n",
              "        vertical-align: middle;\n",
              "    }\n",
              "\n",
              "    .dataframe tbody tr th {\n",
              "        vertical-align: top;\n",
              "    }\n",
              "\n",
              "    .dataframe thead th {\n",
              "        text-align: right;\n",
              "    }\n",
              "</style>\n",
              "<table border=\"1\" class=\"dataframe\">\n",
              "  <thead>\n",
              "    <tr style=\"text-align: right;\">\n",
              "      <th></th>\n",
              "      <th>Age</th>\n",
              "      <th>Education</th>\n",
              "      <th>Usage</th>\n",
              "      <th>Fitness</th>\n",
              "      <th>Income</th>\n",
              "      <th>Miles</th>\n",
              "    </tr>\n",
              "  </thead>\n",
              "  <tbody>\n",
              "    <tr>\n",
              "      <th>count</th>\n",
              "      <td>180.000000</td>\n",
              "      <td>180.000000</td>\n",
              "      <td>180.000000</td>\n",
              "      <td>180.000000</td>\n",
              "      <td>180.000000</td>\n",
              "      <td>180.000000</td>\n",
              "    </tr>\n",
              "    <tr>\n",
              "      <th>mean</th>\n",
              "      <td>28.788889</td>\n",
              "      <td>15.572222</td>\n",
              "      <td>3.455556</td>\n",
              "      <td>3.311111</td>\n",
              "      <td>53719.577778</td>\n",
              "      <td>103.194444</td>\n",
              "    </tr>\n",
              "    <tr>\n",
              "      <th>std</th>\n",
              "      <td>6.943498</td>\n",
              "      <td>1.617055</td>\n",
              "      <td>1.084797</td>\n",
              "      <td>0.958869</td>\n",
              "      <td>16506.684226</td>\n",
              "      <td>51.863605</td>\n",
              "    </tr>\n",
              "    <tr>\n",
              "      <th>min</th>\n",
              "      <td>18.000000</td>\n",
              "      <td>12.000000</td>\n",
              "      <td>2.000000</td>\n",
              "      <td>1.000000</td>\n",
              "      <td>29562.000000</td>\n",
              "      <td>21.000000</td>\n",
              "    </tr>\n",
              "    <tr>\n",
              "      <th>25%</th>\n",
              "      <td>24.000000</td>\n",
              "      <td>14.000000</td>\n",
              "      <td>3.000000</td>\n",
              "      <td>3.000000</td>\n",
              "      <td>44058.750000</td>\n",
              "      <td>66.000000</td>\n",
              "    </tr>\n",
              "    <tr>\n",
              "      <th>50%</th>\n",
              "      <td>26.000000</td>\n",
              "      <td>16.000000</td>\n",
              "      <td>3.000000</td>\n",
              "      <td>3.000000</td>\n",
              "      <td>50596.500000</td>\n",
              "      <td>94.000000</td>\n",
              "    </tr>\n",
              "    <tr>\n",
              "      <th>75%</th>\n",
              "      <td>33.000000</td>\n",
              "      <td>16.000000</td>\n",
              "      <td>4.000000</td>\n",
              "      <td>4.000000</td>\n",
              "      <td>58668.000000</td>\n",
              "      <td>114.750000</td>\n",
              "    </tr>\n",
              "    <tr>\n",
              "      <th>max</th>\n",
              "      <td>50.000000</td>\n",
              "      <td>21.000000</td>\n",
              "      <td>7.000000</td>\n",
              "      <td>5.000000</td>\n",
              "      <td>104581.000000</td>\n",
              "      <td>360.000000</td>\n",
              "    </tr>\n",
              "  </tbody>\n",
              "</table>\n",
              "</div>\n",
              "      <button class=\"colab-df-convert\" onclick=\"convertToInteractive('df-5e0623f8-2e0a-4b48-9656-8a8d6a97dac4')\"\n",
              "              title=\"Convert this dataframe to an interactive table.\"\n",
              "              style=\"display:none;\">\n",
              "        \n",
              "  <svg xmlns=\"http://www.w3.org/2000/svg\" height=\"24px\"viewBox=\"0 0 24 24\"\n",
              "       width=\"24px\">\n",
              "    <path d=\"M0 0h24v24H0V0z\" fill=\"none\"/>\n",
              "    <path d=\"M18.56 5.44l.94 2.06.94-2.06 2.06-.94-2.06-.94-.94-2.06-.94 2.06-2.06.94zm-11 1L8.5 8.5l.94-2.06 2.06-.94-2.06-.94L8.5 2.5l-.94 2.06-2.06.94zm10 10l.94 2.06.94-2.06 2.06-.94-2.06-.94-.94-2.06-.94 2.06-2.06.94z\"/><path d=\"M17.41 7.96l-1.37-1.37c-.4-.4-.92-.59-1.43-.59-.52 0-1.04.2-1.43.59L10.3 9.45l-7.72 7.72c-.78.78-.78 2.05 0 2.83L4 21.41c.39.39.9.59 1.41.59.51 0 1.02-.2 1.41-.59l7.78-7.78 2.81-2.81c.8-.78.8-2.07 0-2.86zM5.41 20L4 18.59l7.72-7.72 1.47 1.35L5.41 20z\"/>\n",
              "  </svg>\n",
              "      </button>\n",
              "      \n",
              "  <style>\n",
              "    .colab-df-container {\n",
              "      display:flex;\n",
              "      flex-wrap:wrap;\n",
              "      gap: 12px;\n",
              "    }\n",
              "\n",
              "    .colab-df-convert {\n",
              "      background-color: #E8F0FE;\n",
              "      border: none;\n",
              "      border-radius: 50%;\n",
              "      cursor: pointer;\n",
              "      display: none;\n",
              "      fill: #1967D2;\n",
              "      height: 32px;\n",
              "      padding: 0 0 0 0;\n",
              "      width: 32px;\n",
              "    }\n",
              "\n",
              "    .colab-df-convert:hover {\n",
              "      background-color: #E2EBFA;\n",
              "      box-shadow: 0px 1px 2px rgba(60, 64, 67, 0.3), 0px 1px 3px 1px rgba(60, 64, 67, 0.15);\n",
              "      fill: #174EA6;\n",
              "    }\n",
              "\n",
              "    [theme=dark] .colab-df-convert {\n",
              "      background-color: #3B4455;\n",
              "      fill: #D2E3FC;\n",
              "    }\n",
              "\n",
              "    [theme=dark] .colab-df-convert:hover {\n",
              "      background-color: #434B5C;\n",
              "      box-shadow: 0px 1px 3px 1px rgba(0, 0, 0, 0.15);\n",
              "      filter: drop-shadow(0px 1px 2px rgba(0, 0, 0, 0.3));\n",
              "      fill: #FFFFFF;\n",
              "    }\n",
              "  </style>\n",
              "\n",
              "      <script>\n",
              "        const buttonEl =\n",
              "          document.querySelector('#df-5e0623f8-2e0a-4b48-9656-8a8d6a97dac4 button.colab-df-convert');\n",
              "        buttonEl.style.display =\n",
              "          google.colab.kernel.accessAllowed ? 'block' : 'none';\n",
              "\n",
              "        async function convertToInteractive(key) {\n",
              "          const element = document.querySelector('#df-5e0623f8-2e0a-4b48-9656-8a8d6a97dac4');\n",
              "          const dataTable =\n",
              "            await google.colab.kernel.invokeFunction('convertToInteractive',\n",
              "                                                     [key], {});\n",
              "          if (!dataTable) return;\n",
              "\n",
              "          const docLinkHtml = 'Like what you see? Visit the ' +\n",
              "            '<a target=\"_blank\" href=https://colab.research.google.com/notebooks/data_table.ipynb>data table notebook</a>'\n",
              "            + ' to learn more about interactive tables.';\n",
              "          element.innerHTML = '';\n",
              "          dataTable['output_type'] = 'display_data';\n",
              "          await google.colab.output.renderOutput(dataTable, element);\n",
              "          const docLink = document.createElement('div');\n",
              "          docLink.innerHTML = docLinkHtml;\n",
              "          element.appendChild(docLink);\n",
              "        }\n",
              "      </script>\n",
              "    </div>\n",
              "  </div>\n",
              "  "
            ]
          },
          "metadata": {},
          "execution_count": 10
        }
      ]
    },
    {
      "cell_type": "markdown",
      "source": [
        "#### Size of the dataset"
      ],
      "metadata": {
        "id": "mj-oHrqLLL8p"
      }
    },
    {
      "cell_type": "code",
      "source": [
        "# Size of the dataset\n",
        "aero_df.size"
      ],
      "metadata": {
        "colab": {
          "base_uri": "https://localhost:8080/"
        },
        "id": "qxHskHDEmIP4",
        "outputId": "80ef1742-e0df-460a-dd22-6a4c95a66d9e"
      },
      "execution_count": null,
      "outputs": [
        {
          "output_type": "execute_result",
          "data": {
            "text/plain": [
              "1620"
            ]
          },
          "metadata": {},
          "execution_count": 16
        }
      ]
    },
    {
      "cell_type": "markdown",
      "source": [
        "#### Shape of the dataset"
      ],
      "metadata": {
        "id": "MBgBtJPJLPVQ"
      }
    },
    {
      "cell_type": "code",
      "source": [
        "# Shape of the dataset\n",
        "aero_df.shape"
      ],
      "metadata": {
        "colab": {
          "base_uri": "https://localhost:8080/"
        },
        "id": "9kckl7BHmtkv",
        "outputId": "dbc1e1a1-0929-4bd3-a88c-de562767ac5e"
      },
      "execution_count": null,
      "outputs": [
        {
          "output_type": "execute_result",
          "data": {
            "text/plain": [
              "(180, 9)"
            ]
          },
          "metadata": {},
          "execution_count": 17
        }
      ]
    },
    {
      "cell_type": "markdown",
      "source": [
        "##### Shape of the dataset shows there are 180 records with 9 attributes"
      ],
      "metadata": {
        "id": "wVJRUd7NiZFo"
      }
    },
    {
      "cell_type": "markdown",
      "source": [
        "#### Columns/Product Attributes"
      ],
      "metadata": {
        "id": "GLyd_knVMQcF"
      }
    },
    {
      "cell_type": "code",
      "source": [
        "# Column names in the dataset\n",
        "aero_df.columns"
      ],
      "metadata": {
        "colab": {
          "base_uri": "https://localhost:8080/"
        },
        "id": "9UqCKsGRoZM6",
        "outputId": "0075394c-9aee-44b5-df85-d2ae48568e72"
      },
      "execution_count": null,
      "outputs": [
        {
          "output_type": "execute_result",
          "data": {
            "text/plain": [
              "Index(['Product', 'Age', 'Gender', 'Education', 'MaritalStatus', 'Usage',\n",
              "       'Fitness', 'Income', 'Miles'],\n",
              "      dtype='object')"
            ]
          },
          "metadata": {},
          "execution_count": 20
        }
      ]
    },
    {
      "cell_type": "markdown",
      "source": [
        "##### the 9 attributes of the given dataset are - Product, Age, Gender, Education, Marital Status, Usage, Fitness, Income and Miles. These attributes will help to identify the characterisitcs associated with each Product."
      ],
      "metadata": {
        "id": "3y79LFjNii2w"
      }
    },
    {
      "cell_type": "markdown",
      "source": [
        "#### Data Types of Product Attributes"
      ],
      "metadata": {
        "id": "lbCJObCqMeAt"
      }
    },
    {
      "cell_type": "code",
      "source": [
        "# Data types of all the attributes\n",
        "aero_df.dtypes"
      ],
      "metadata": {
        "colab": {
          "base_uri": "https://localhost:8080/"
        },
        "id": "NyDhtqkNpdbH",
        "outputId": "564a0de3-6b72-48ae-c0c0-9cd9db486ca6"
      },
      "execution_count": null,
      "outputs": [
        {
          "output_type": "execute_result",
          "data": {
            "text/plain": [
              "Product          object\n",
              "Age               int64\n",
              "Gender           object\n",
              "Education         int64\n",
              "MaritalStatus    object\n",
              "Usage             int64\n",
              "Fitness           int64\n",
              "Income            int64\n",
              "Miles             int64\n",
              "dtype: object"
            ]
          },
          "metadata": {},
          "execution_count": 21
        }
      ]
    },
    {
      "cell_type": "markdown",
      "source": [
        "#### Top 5 rows of dataset"
      ],
      "metadata": {
        "id": "S6JODD92MjuL"
      }
    },
    {
      "cell_type": "code",
      "source": [
        "# top 5 rows from the dataset\n",
        "aero_df.head()"
      ],
      "metadata": {
        "colab": {
          "base_uri": "https://localhost:8080/",
          "height": 206
        },
        "id": "xPBjlnedqBJm",
        "outputId": "baff6f31-e671-494b-afd1-f65702b5bc78"
      },
      "execution_count": null,
      "outputs": [
        {
          "output_type": "execute_result",
          "data": {
            "text/plain": [
              "  Product  Age  Gender  Education MaritalStatus  Usage  Fitness  Income  Miles\n",
              "0   KP281   18    Male         14        Single      3        4   29562    112\n",
              "1   KP281   19    Male         15        Single      2        3   31836     75\n",
              "2   KP281   19  Female         14     Partnered      4        3   30699     66\n",
              "3   KP281   19    Male         12        Single      3        3   32973     85\n",
              "4   KP281   20    Male         13     Partnered      4        2   35247     47"
            ],
            "text/html": [
              "\n",
              "  <div id=\"df-8864e9da-0784-4684-a441-69a9ba4ba6c2\">\n",
              "    <div class=\"colab-df-container\">\n",
              "      <div>\n",
              "<style scoped>\n",
              "    .dataframe tbody tr th:only-of-type {\n",
              "        vertical-align: middle;\n",
              "    }\n",
              "\n",
              "    .dataframe tbody tr th {\n",
              "        vertical-align: top;\n",
              "    }\n",
              "\n",
              "    .dataframe thead th {\n",
              "        text-align: right;\n",
              "    }\n",
              "</style>\n",
              "<table border=\"1\" class=\"dataframe\">\n",
              "  <thead>\n",
              "    <tr style=\"text-align: right;\">\n",
              "      <th></th>\n",
              "      <th>Product</th>\n",
              "      <th>Age</th>\n",
              "      <th>Gender</th>\n",
              "      <th>Education</th>\n",
              "      <th>MaritalStatus</th>\n",
              "      <th>Usage</th>\n",
              "      <th>Fitness</th>\n",
              "      <th>Income</th>\n",
              "      <th>Miles</th>\n",
              "    </tr>\n",
              "  </thead>\n",
              "  <tbody>\n",
              "    <tr>\n",
              "      <th>0</th>\n",
              "      <td>KP281</td>\n",
              "      <td>18</td>\n",
              "      <td>Male</td>\n",
              "      <td>14</td>\n",
              "      <td>Single</td>\n",
              "      <td>3</td>\n",
              "      <td>4</td>\n",
              "      <td>29562</td>\n",
              "      <td>112</td>\n",
              "    </tr>\n",
              "    <tr>\n",
              "      <th>1</th>\n",
              "      <td>KP281</td>\n",
              "      <td>19</td>\n",
              "      <td>Male</td>\n",
              "      <td>15</td>\n",
              "      <td>Single</td>\n",
              "      <td>2</td>\n",
              "      <td>3</td>\n",
              "      <td>31836</td>\n",
              "      <td>75</td>\n",
              "    </tr>\n",
              "    <tr>\n",
              "      <th>2</th>\n",
              "      <td>KP281</td>\n",
              "      <td>19</td>\n",
              "      <td>Female</td>\n",
              "      <td>14</td>\n",
              "      <td>Partnered</td>\n",
              "      <td>4</td>\n",
              "      <td>3</td>\n",
              "      <td>30699</td>\n",
              "      <td>66</td>\n",
              "    </tr>\n",
              "    <tr>\n",
              "      <th>3</th>\n",
              "      <td>KP281</td>\n",
              "      <td>19</td>\n",
              "      <td>Male</td>\n",
              "      <td>12</td>\n",
              "      <td>Single</td>\n",
              "      <td>3</td>\n",
              "      <td>3</td>\n",
              "      <td>32973</td>\n",
              "      <td>85</td>\n",
              "    </tr>\n",
              "    <tr>\n",
              "      <th>4</th>\n",
              "      <td>KP281</td>\n",
              "      <td>20</td>\n",
              "      <td>Male</td>\n",
              "      <td>13</td>\n",
              "      <td>Partnered</td>\n",
              "      <td>4</td>\n",
              "      <td>2</td>\n",
              "      <td>35247</td>\n",
              "      <td>47</td>\n",
              "    </tr>\n",
              "  </tbody>\n",
              "</table>\n",
              "</div>\n",
              "      <button class=\"colab-df-convert\" onclick=\"convertToInteractive('df-8864e9da-0784-4684-a441-69a9ba4ba6c2')\"\n",
              "              title=\"Convert this dataframe to an interactive table.\"\n",
              "              style=\"display:none;\">\n",
              "        \n",
              "  <svg xmlns=\"http://www.w3.org/2000/svg\" height=\"24px\"viewBox=\"0 0 24 24\"\n",
              "       width=\"24px\">\n",
              "    <path d=\"M0 0h24v24H0V0z\" fill=\"none\"/>\n",
              "    <path d=\"M18.56 5.44l.94 2.06.94-2.06 2.06-.94-2.06-.94-.94-2.06-.94 2.06-2.06.94zm-11 1L8.5 8.5l.94-2.06 2.06-.94-2.06-.94L8.5 2.5l-.94 2.06-2.06.94zm10 10l.94 2.06.94-2.06 2.06-.94-2.06-.94-.94-2.06-.94 2.06-2.06.94z\"/><path d=\"M17.41 7.96l-1.37-1.37c-.4-.4-.92-.59-1.43-.59-.52 0-1.04.2-1.43.59L10.3 9.45l-7.72 7.72c-.78.78-.78 2.05 0 2.83L4 21.41c.39.39.9.59 1.41.59.51 0 1.02-.2 1.41-.59l7.78-7.78 2.81-2.81c.8-.78.8-2.07 0-2.86zM5.41 20L4 18.59l7.72-7.72 1.47 1.35L5.41 20z\"/>\n",
              "  </svg>\n",
              "      </button>\n",
              "      \n",
              "  <style>\n",
              "    .colab-df-container {\n",
              "      display:flex;\n",
              "      flex-wrap:wrap;\n",
              "      gap: 12px;\n",
              "    }\n",
              "\n",
              "    .colab-df-convert {\n",
              "      background-color: #E8F0FE;\n",
              "      border: none;\n",
              "      border-radius: 50%;\n",
              "      cursor: pointer;\n",
              "      display: none;\n",
              "      fill: #1967D2;\n",
              "      height: 32px;\n",
              "      padding: 0 0 0 0;\n",
              "      width: 32px;\n",
              "    }\n",
              "\n",
              "    .colab-df-convert:hover {\n",
              "      background-color: #E2EBFA;\n",
              "      box-shadow: 0px 1px 2px rgba(60, 64, 67, 0.3), 0px 1px 3px 1px rgba(60, 64, 67, 0.15);\n",
              "      fill: #174EA6;\n",
              "    }\n",
              "\n",
              "    [theme=dark] .colab-df-convert {\n",
              "      background-color: #3B4455;\n",
              "      fill: #D2E3FC;\n",
              "    }\n",
              "\n",
              "    [theme=dark] .colab-df-convert:hover {\n",
              "      background-color: #434B5C;\n",
              "      box-shadow: 0px 1px 3px 1px rgba(0, 0, 0, 0.15);\n",
              "      filter: drop-shadow(0px 1px 2px rgba(0, 0, 0, 0.3));\n",
              "      fill: #FFFFFF;\n",
              "    }\n",
              "  </style>\n",
              "\n",
              "      <script>\n",
              "        const buttonEl =\n",
              "          document.querySelector('#df-8864e9da-0784-4684-a441-69a9ba4ba6c2 button.colab-df-convert');\n",
              "        buttonEl.style.display =\n",
              "          google.colab.kernel.accessAllowed ? 'block' : 'none';\n",
              "\n",
              "        async function convertToInteractive(key) {\n",
              "          const element = document.querySelector('#df-8864e9da-0784-4684-a441-69a9ba4ba6c2');\n",
              "          const dataTable =\n",
              "            await google.colab.kernel.invokeFunction('convertToInteractive',\n",
              "                                                     [key], {});\n",
              "          if (!dataTable) return;\n",
              "\n",
              "          const docLinkHtml = 'Like what you see? Visit the ' +\n",
              "            '<a target=\"_blank\" href=https://colab.research.google.com/notebooks/data_table.ipynb>data table notebook</a>'\n",
              "            + ' to learn more about interactive tables.';\n",
              "          element.innerHTML = '';\n",
              "          dataTable['output_type'] = 'display_data';\n",
              "          await google.colab.output.renderOutput(dataTable, element);\n",
              "          const docLink = document.createElement('div');\n",
              "          docLink.innerHTML = docLinkHtml;\n",
              "          element.appendChild(docLink);\n",
              "        }\n",
              "      </script>\n",
              "    </div>\n",
              "  </div>\n",
              "  "
            ]
          },
          "metadata": {},
          "execution_count": 24
        }
      ]
    },
    {
      "cell_type": "markdown",
      "source": [
        "#### Bottom 5 rows of dataset"
      ],
      "metadata": {
        "id": "YjdYU2phMrtl"
      }
    },
    {
      "cell_type": "code",
      "source": [
        "# bottom 5 rows\n",
        "aero_df.tail()"
      ],
      "metadata": {
        "colab": {
          "base_uri": "https://localhost:8080/",
          "height": 206
        },
        "id": "8oo0i72lr9r2",
        "outputId": "473e8410-a158-41df-b894-81199c970922"
      },
      "execution_count": null,
      "outputs": [
        {
          "output_type": "execute_result",
          "data": {
            "text/plain": [
              "    Product  Age Gender  Education MaritalStatus  Usage  Fitness  Income  \\\n",
              "175   KP781   40   Male         21        Single      6        5   83416   \n",
              "176   KP781   42   Male         18        Single      5        4   89641   \n",
              "177   KP781   45   Male         16        Single      5        5   90886   \n",
              "178   KP781   47   Male         18     Partnered      4        5  104581   \n",
              "179   KP781   48   Male         18     Partnered      4        5   95508   \n",
              "\n",
              "     Miles  \n",
              "175    200  \n",
              "176    200  \n",
              "177    160  \n",
              "178    120  \n",
              "179    180  "
            ],
            "text/html": [
              "\n",
              "  <div id=\"df-039f4df4-1bee-4d46-8e8b-faedb194c371\">\n",
              "    <div class=\"colab-df-container\">\n",
              "      <div>\n",
              "<style scoped>\n",
              "    .dataframe tbody tr th:only-of-type {\n",
              "        vertical-align: middle;\n",
              "    }\n",
              "\n",
              "    .dataframe tbody tr th {\n",
              "        vertical-align: top;\n",
              "    }\n",
              "\n",
              "    .dataframe thead th {\n",
              "        text-align: right;\n",
              "    }\n",
              "</style>\n",
              "<table border=\"1\" class=\"dataframe\">\n",
              "  <thead>\n",
              "    <tr style=\"text-align: right;\">\n",
              "      <th></th>\n",
              "      <th>Product</th>\n",
              "      <th>Age</th>\n",
              "      <th>Gender</th>\n",
              "      <th>Education</th>\n",
              "      <th>MaritalStatus</th>\n",
              "      <th>Usage</th>\n",
              "      <th>Fitness</th>\n",
              "      <th>Income</th>\n",
              "      <th>Miles</th>\n",
              "    </tr>\n",
              "  </thead>\n",
              "  <tbody>\n",
              "    <tr>\n",
              "      <th>175</th>\n",
              "      <td>KP781</td>\n",
              "      <td>40</td>\n",
              "      <td>Male</td>\n",
              "      <td>21</td>\n",
              "      <td>Single</td>\n",
              "      <td>6</td>\n",
              "      <td>5</td>\n",
              "      <td>83416</td>\n",
              "      <td>200</td>\n",
              "    </tr>\n",
              "    <tr>\n",
              "      <th>176</th>\n",
              "      <td>KP781</td>\n",
              "      <td>42</td>\n",
              "      <td>Male</td>\n",
              "      <td>18</td>\n",
              "      <td>Single</td>\n",
              "      <td>5</td>\n",
              "      <td>4</td>\n",
              "      <td>89641</td>\n",
              "      <td>200</td>\n",
              "    </tr>\n",
              "    <tr>\n",
              "      <th>177</th>\n",
              "      <td>KP781</td>\n",
              "      <td>45</td>\n",
              "      <td>Male</td>\n",
              "      <td>16</td>\n",
              "      <td>Single</td>\n",
              "      <td>5</td>\n",
              "      <td>5</td>\n",
              "      <td>90886</td>\n",
              "      <td>160</td>\n",
              "    </tr>\n",
              "    <tr>\n",
              "      <th>178</th>\n",
              "      <td>KP781</td>\n",
              "      <td>47</td>\n",
              "      <td>Male</td>\n",
              "      <td>18</td>\n",
              "      <td>Partnered</td>\n",
              "      <td>4</td>\n",
              "      <td>5</td>\n",
              "      <td>104581</td>\n",
              "      <td>120</td>\n",
              "    </tr>\n",
              "    <tr>\n",
              "      <th>179</th>\n",
              "      <td>KP781</td>\n",
              "      <td>48</td>\n",
              "      <td>Male</td>\n",
              "      <td>18</td>\n",
              "      <td>Partnered</td>\n",
              "      <td>4</td>\n",
              "      <td>5</td>\n",
              "      <td>95508</td>\n",
              "      <td>180</td>\n",
              "    </tr>\n",
              "  </tbody>\n",
              "</table>\n",
              "</div>\n",
              "      <button class=\"colab-df-convert\" onclick=\"convertToInteractive('df-039f4df4-1bee-4d46-8e8b-faedb194c371')\"\n",
              "              title=\"Convert this dataframe to an interactive table.\"\n",
              "              style=\"display:none;\">\n",
              "        \n",
              "  <svg xmlns=\"http://www.w3.org/2000/svg\" height=\"24px\"viewBox=\"0 0 24 24\"\n",
              "       width=\"24px\">\n",
              "    <path d=\"M0 0h24v24H0V0z\" fill=\"none\"/>\n",
              "    <path d=\"M18.56 5.44l.94 2.06.94-2.06 2.06-.94-2.06-.94-.94-2.06-.94 2.06-2.06.94zm-11 1L8.5 8.5l.94-2.06 2.06-.94-2.06-.94L8.5 2.5l-.94 2.06-2.06.94zm10 10l.94 2.06.94-2.06 2.06-.94-2.06-.94-.94-2.06-.94 2.06-2.06.94z\"/><path d=\"M17.41 7.96l-1.37-1.37c-.4-.4-.92-.59-1.43-.59-.52 0-1.04.2-1.43.59L10.3 9.45l-7.72 7.72c-.78.78-.78 2.05 0 2.83L4 21.41c.39.39.9.59 1.41.59.51 0 1.02-.2 1.41-.59l7.78-7.78 2.81-2.81c.8-.78.8-2.07 0-2.86zM5.41 20L4 18.59l7.72-7.72 1.47 1.35L5.41 20z\"/>\n",
              "  </svg>\n",
              "      </button>\n",
              "      \n",
              "  <style>\n",
              "    .colab-df-container {\n",
              "      display:flex;\n",
              "      flex-wrap:wrap;\n",
              "      gap: 12px;\n",
              "    }\n",
              "\n",
              "    .colab-df-convert {\n",
              "      background-color: #E8F0FE;\n",
              "      border: none;\n",
              "      border-radius: 50%;\n",
              "      cursor: pointer;\n",
              "      display: none;\n",
              "      fill: #1967D2;\n",
              "      height: 32px;\n",
              "      padding: 0 0 0 0;\n",
              "      width: 32px;\n",
              "    }\n",
              "\n",
              "    .colab-df-convert:hover {\n",
              "      background-color: #E2EBFA;\n",
              "      box-shadow: 0px 1px 2px rgba(60, 64, 67, 0.3), 0px 1px 3px 1px rgba(60, 64, 67, 0.15);\n",
              "      fill: #174EA6;\n",
              "    }\n",
              "\n",
              "    [theme=dark] .colab-df-convert {\n",
              "      background-color: #3B4455;\n",
              "      fill: #D2E3FC;\n",
              "    }\n",
              "\n",
              "    [theme=dark] .colab-df-convert:hover {\n",
              "      background-color: #434B5C;\n",
              "      box-shadow: 0px 1px 3px 1px rgba(0, 0, 0, 0.15);\n",
              "      filter: drop-shadow(0px 1px 2px rgba(0, 0, 0, 0.3));\n",
              "      fill: #FFFFFF;\n",
              "    }\n",
              "  </style>\n",
              "\n",
              "      <script>\n",
              "        const buttonEl =\n",
              "          document.querySelector('#df-039f4df4-1bee-4d46-8e8b-faedb194c371 button.colab-df-convert');\n",
              "        buttonEl.style.display =\n",
              "          google.colab.kernel.accessAllowed ? 'block' : 'none';\n",
              "\n",
              "        async function convertToInteractive(key) {\n",
              "          const element = document.querySelector('#df-039f4df4-1bee-4d46-8e8b-faedb194c371');\n",
              "          const dataTable =\n",
              "            await google.colab.kernel.invokeFunction('convertToInteractive',\n",
              "                                                     [key], {});\n",
              "          if (!dataTable) return;\n",
              "\n",
              "          const docLinkHtml = 'Like what you see? Visit the ' +\n",
              "            '<a target=\"_blank\" href=https://colab.research.google.com/notebooks/data_table.ipynb>data table notebook</a>'\n",
              "            + ' to learn more about interactive tables.';\n",
              "          element.innerHTML = '';\n",
              "          dataTable['output_type'] = 'display_data';\n",
              "          await google.colab.output.renderOutput(dataTable, element);\n",
              "          const docLink = document.createElement('div');\n",
              "          docLink.innerHTML = docLinkHtml;\n",
              "          element.appendChild(docLink);\n",
              "        }\n",
              "      </script>\n",
              "    </div>\n",
              "  </div>\n",
              "  "
            ]
          },
          "metadata": {},
          "execution_count": 25
        }
      ]
    },
    {
      "cell_type": "markdown",
      "source": [
        "# **3. Data Pre-processing**\n",
        "## Data Preparation"
      ],
      "metadata": {
        "id": "115dZFONM640"
      }
    },
    {
      "cell_type": "markdown",
      "source": [
        "#### Check for Null Values"
      ],
      "metadata": {
        "id": "IpXEaTMeNGkS"
      }
    },
    {
      "cell_type": "code",
      "source": [
        "# Check for Null values\n",
        "aero_df.isnull().sum()"
      ],
      "metadata": {
        "colab": {
          "base_uri": "https://localhost:8080/"
        },
        "id": "mBmcPlL-sqzU",
        "outputId": "39fa1fe5-1a47-4325-d8bb-3f68e05e0f18"
      },
      "execution_count": null,
      "outputs": [
        {
          "output_type": "execute_result",
          "data": {
            "text/plain": [
              "Product          0\n",
              "Age              0\n",
              "Gender           0\n",
              "Education        0\n",
              "MaritalStatus    0\n",
              "Usage            0\n",
              "Fitness          0\n",
              "Income           0\n",
              "Miles            0\n",
              "dtype: int64"
            ]
          },
          "metadata": {},
          "execution_count": 27
        }
      ]
    },
    {
      "cell_type": "markdown",
      "source": [
        "##### The above result indicates that, there is no null value for any attribute in the given dataset, which is good. "
      ],
      "metadata": {
        "id": "SsLCtnTqi-7a"
      }
    },
    {
      "cell_type": "markdown",
      "source": [
        "#### Data Types & Sanctity\n",
        "\n",
        "##### The Usage and Fitness attribute values don't indicate anything significant  "
      ],
      "metadata": {
        "id": "JydkaYzYf4NK"
      }
    },
    {
      "cell_type": "markdown",
      "source": [
        "# **4. Exploratory Data Analysis**\n",
        "## Graphical & non-graphical analysis of Uni & Bi variate elements"
      ],
      "metadata": {
        "id": "pr3-4sVCtGAM"
      }
    },
    {
      "cell_type": "markdown",
      "source": [
        "#### Count by Products"
      ],
      "metadata": {
        "id": "O4hoq0XBNUa3"
      }
    },
    {
      "cell_type": "code",
      "source": [
        "# Count of each products\n",
        "product_cnt = {'Products Count ' : aero_df['Product'].value_counts()}\n",
        "product_cnt = pd.DataFrame(product_cnt)\n",
        "product_cnt"
      ],
      "metadata": {
        "colab": {
          "base_uri": "https://localhost:8080/",
          "height": 143
        },
        "id": "4FbcUfzP87LJ",
        "outputId": "501124df-d691-4d07-b478-e0e8f18a5bcc"
      },
      "execution_count": null,
      "outputs": [
        {
          "output_type": "execute_result",
          "data": {
            "text/plain": [
              "       Products Count \n",
              "KP281               80\n",
              "KP481               60\n",
              "KP781               40"
            ],
            "text/html": [
              "\n",
              "  <div id=\"df-89793708-cbc5-4af1-8a38-75f1e16e2d32\">\n",
              "    <div class=\"colab-df-container\">\n",
              "      <div>\n",
              "<style scoped>\n",
              "    .dataframe tbody tr th:only-of-type {\n",
              "        vertical-align: middle;\n",
              "    }\n",
              "\n",
              "    .dataframe tbody tr th {\n",
              "        vertical-align: top;\n",
              "    }\n",
              "\n",
              "    .dataframe thead th {\n",
              "        text-align: right;\n",
              "    }\n",
              "</style>\n",
              "<table border=\"1\" class=\"dataframe\">\n",
              "  <thead>\n",
              "    <tr style=\"text-align: right;\">\n",
              "      <th></th>\n",
              "      <th>Products Count</th>\n",
              "    </tr>\n",
              "  </thead>\n",
              "  <tbody>\n",
              "    <tr>\n",
              "      <th>KP281</th>\n",
              "      <td>80</td>\n",
              "    </tr>\n",
              "    <tr>\n",
              "      <th>KP481</th>\n",
              "      <td>60</td>\n",
              "    </tr>\n",
              "    <tr>\n",
              "      <th>KP781</th>\n",
              "      <td>40</td>\n",
              "    </tr>\n",
              "  </tbody>\n",
              "</table>\n",
              "</div>\n",
              "      <button class=\"colab-df-convert\" onclick=\"convertToInteractive('df-89793708-cbc5-4af1-8a38-75f1e16e2d32')\"\n",
              "              title=\"Convert this dataframe to an interactive table.\"\n",
              "              style=\"display:none;\">\n",
              "        \n",
              "  <svg xmlns=\"http://www.w3.org/2000/svg\" height=\"24px\"viewBox=\"0 0 24 24\"\n",
              "       width=\"24px\">\n",
              "    <path d=\"M0 0h24v24H0V0z\" fill=\"none\"/>\n",
              "    <path d=\"M18.56 5.44l.94 2.06.94-2.06 2.06-.94-2.06-.94-.94-2.06-.94 2.06-2.06.94zm-11 1L8.5 8.5l.94-2.06 2.06-.94-2.06-.94L8.5 2.5l-.94 2.06-2.06.94zm10 10l.94 2.06.94-2.06 2.06-.94-2.06-.94-.94-2.06-.94 2.06-2.06.94z\"/><path d=\"M17.41 7.96l-1.37-1.37c-.4-.4-.92-.59-1.43-.59-.52 0-1.04.2-1.43.59L10.3 9.45l-7.72 7.72c-.78.78-.78 2.05 0 2.83L4 21.41c.39.39.9.59 1.41.59.51 0 1.02-.2 1.41-.59l7.78-7.78 2.81-2.81c.8-.78.8-2.07 0-2.86zM5.41 20L4 18.59l7.72-7.72 1.47 1.35L5.41 20z\"/>\n",
              "  </svg>\n",
              "      </button>\n",
              "      \n",
              "  <style>\n",
              "    .colab-df-container {\n",
              "      display:flex;\n",
              "      flex-wrap:wrap;\n",
              "      gap: 12px;\n",
              "    }\n",
              "\n",
              "    .colab-df-convert {\n",
              "      background-color: #E8F0FE;\n",
              "      border: none;\n",
              "      border-radius: 50%;\n",
              "      cursor: pointer;\n",
              "      display: none;\n",
              "      fill: #1967D2;\n",
              "      height: 32px;\n",
              "      padding: 0 0 0 0;\n",
              "      width: 32px;\n",
              "    }\n",
              "\n",
              "    .colab-df-convert:hover {\n",
              "      background-color: #E2EBFA;\n",
              "      box-shadow: 0px 1px 2px rgba(60, 64, 67, 0.3), 0px 1px 3px 1px rgba(60, 64, 67, 0.15);\n",
              "      fill: #174EA6;\n",
              "    }\n",
              "\n",
              "    [theme=dark] .colab-df-convert {\n",
              "      background-color: #3B4455;\n",
              "      fill: #D2E3FC;\n",
              "    }\n",
              "\n",
              "    [theme=dark] .colab-df-convert:hover {\n",
              "      background-color: #434B5C;\n",
              "      box-shadow: 0px 1px 3px 1px rgba(0, 0, 0, 0.15);\n",
              "      filter: drop-shadow(0px 1px 2px rgba(0, 0, 0, 0.3));\n",
              "      fill: #FFFFFF;\n",
              "    }\n",
              "  </style>\n",
              "\n",
              "      <script>\n",
              "        const buttonEl =\n",
              "          document.querySelector('#df-89793708-cbc5-4af1-8a38-75f1e16e2d32 button.colab-df-convert');\n",
              "        buttonEl.style.display =\n",
              "          google.colab.kernel.accessAllowed ? 'block' : 'none';\n",
              "\n",
              "        async function convertToInteractive(key) {\n",
              "          const element = document.querySelector('#df-89793708-cbc5-4af1-8a38-75f1e16e2d32');\n",
              "          const dataTable =\n",
              "            await google.colab.kernel.invokeFunction('convertToInteractive',\n",
              "                                                     [key], {});\n",
              "          if (!dataTable) return;\n",
              "\n",
              "          const docLinkHtml = 'Like what you see? Visit the ' +\n",
              "            '<a target=\"_blank\" href=https://colab.research.google.com/notebooks/data_table.ipynb>data table notebook</a>'\n",
              "            + ' to learn more about interactive tables.';\n",
              "          element.innerHTML = '';\n",
              "          dataTable['output_type'] = 'display_data';\n",
              "          await google.colab.output.renderOutput(dataTable, element);\n",
              "          const docLink = document.createElement('div');\n",
              "          docLink.innerHTML = docLinkHtml;\n",
              "          element.appendChild(docLink);\n",
              "        }\n",
              "      </script>\n",
              "    </div>\n",
              "  </div>\n",
              "  "
            ]
          },
          "metadata": {},
          "execution_count": 54
        }
      ]
    },
    {
      "cell_type": "markdown",
      "source": [
        "#### *As we can see, KP281 is sold more and KP781 is sold less amongst three products*"
      ],
      "metadata": {
        "id": "_Yv8XU0ojN1s"
      }
    },
    {
      "cell_type": "markdown",
      "source": [
        "#### Customers count by Age"
      ],
      "metadata": {
        "id": "CCoDKI2wNq_f"
      }
    },
    {
      "cell_type": "code",
      "source": [
        "# Customers count by age group\n",
        "age_group_cnt = {'Age Count': aero_df['Age'].value_counts()}\n",
        "age_group_cnt = pd.DataFrame(age_group_cnt)\n",
        "age_group_cnt"
      ],
      "metadata": {
        "colab": {
          "base_uri": "https://localhost:8080/",
          "height": 1000
        },
        "id": "y4Rr0hpR6Yrt",
        "outputId": "7d7a8496-29b0-4b4f-d43d-932180659dd3"
      },
      "execution_count": null,
      "outputs": [
        {
          "output_type": "execute_result",
          "data": {
            "text/plain": [
              "    Age Count\n",
              "25         25\n",
              "23         18\n",
              "24         12\n",
              "26         12\n",
              "28          9\n",
              "35          8\n",
              "33          8\n",
              "30          7\n",
              "38          7\n",
              "21          7\n",
              "22          7\n",
              "27          7\n",
              "31          6\n",
              "34          6\n",
              "29          6\n",
              "20          5\n",
              "40          5\n",
              "32          4\n",
              "19          4\n",
              "48          2\n",
              "37          2\n",
              "45          2\n",
              "47          2\n",
              "46          1\n",
              "50          1\n",
              "18          1\n",
              "44          1\n",
              "43          1\n",
              "41          1\n",
              "39          1\n",
              "36          1\n",
              "42          1"
            ],
            "text/html": [
              "\n",
              "  <div id=\"df-9eed112c-54a9-4c36-b71e-cbd3355bdfd4\">\n",
              "    <div class=\"colab-df-container\">\n",
              "      <div>\n",
              "<style scoped>\n",
              "    .dataframe tbody tr th:only-of-type {\n",
              "        vertical-align: middle;\n",
              "    }\n",
              "\n",
              "    .dataframe tbody tr th {\n",
              "        vertical-align: top;\n",
              "    }\n",
              "\n",
              "    .dataframe thead th {\n",
              "        text-align: right;\n",
              "    }\n",
              "</style>\n",
              "<table border=\"1\" class=\"dataframe\">\n",
              "  <thead>\n",
              "    <tr style=\"text-align: right;\">\n",
              "      <th></th>\n",
              "      <th>Age Count</th>\n",
              "    </tr>\n",
              "  </thead>\n",
              "  <tbody>\n",
              "    <tr>\n",
              "      <th>25</th>\n",
              "      <td>25</td>\n",
              "    </tr>\n",
              "    <tr>\n",
              "      <th>23</th>\n",
              "      <td>18</td>\n",
              "    </tr>\n",
              "    <tr>\n",
              "      <th>24</th>\n",
              "      <td>12</td>\n",
              "    </tr>\n",
              "    <tr>\n",
              "      <th>26</th>\n",
              "      <td>12</td>\n",
              "    </tr>\n",
              "    <tr>\n",
              "      <th>28</th>\n",
              "      <td>9</td>\n",
              "    </tr>\n",
              "    <tr>\n",
              "      <th>35</th>\n",
              "      <td>8</td>\n",
              "    </tr>\n",
              "    <tr>\n",
              "      <th>33</th>\n",
              "      <td>8</td>\n",
              "    </tr>\n",
              "    <tr>\n",
              "      <th>30</th>\n",
              "      <td>7</td>\n",
              "    </tr>\n",
              "    <tr>\n",
              "      <th>38</th>\n",
              "      <td>7</td>\n",
              "    </tr>\n",
              "    <tr>\n",
              "      <th>21</th>\n",
              "      <td>7</td>\n",
              "    </tr>\n",
              "    <tr>\n",
              "      <th>22</th>\n",
              "      <td>7</td>\n",
              "    </tr>\n",
              "    <tr>\n",
              "      <th>27</th>\n",
              "      <td>7</td>\n",
              "    </tr>\n",
              "    <tr>\n",
              "      <th>31</th>\n",
              "      <td>6</td>\n",
              "    </tr>\n",
              "    <tr>\n",
              "      <th>34</th>\n",
              "      <td>6</td>\n",
              "    </tr>\n",
              "    <tr>\n",
              "      <th>29</th>\n",
              "      <td>6</td>\n",
              "    </tr>\n",
              "    <tr>\n",
              "      <th>20</th>\n",
              "      <td>5</td>\n",
              "    </tr>\n",
              "    <tr>\n",
              "      <th>40</th>\n",
              "      <td>5</td>\n",
              "    </tr>\n",
              "    <tr>\n",
              "      <th>32</th>\n",
              "      <td>4</td>\n",
              "    </tr>\n",
              "    <tr>\n",
              "      <th>19</th>\n",
              "      <td>4</td>\n",
              "    </tr>\n",
              "    <tr>\n",
              "      <th>48</th>\n",
              "      <td>2</td>\n",
              "    </tr>\n",
              "    <tr>\n",
              "      <th>37</th>\n",
              "      <td>2</td>\n",
              "    </tr>\n",
              "    <tr>\n",
              "      <th>45</th>\n",
              "      <td>2</td>\n",
              "    </tr>\n",
              "    <tr>\n",
              "      <th>47</th>\n",
              "      <td>2</td>\n",
              "    </tr>\n",
              "    <tr>\n",
              "      <th>46</th>\n",
              "      <td>1</td>\n",
              "    </tr>\n",
              "    <tr>\n",
              "      <th>50</th>\n",
              "      <td>1</td>\n",
              "    </tr>\n",
              "    <tr>\n",
              "      <th>18</th>\n",
              "      <td>1</td>\n",
              "    </tr>\n",
              "    <tr>\n",
              "      <th>44</th>\n",
              "      <td>1</td>\n",
              "    </tr>\n",
              "    <tr>\n",
              "      <th>43</th>\n",
              "      <td>1</td>\n",
              "    </tr>\n",
              "    <tr>\n",
              "      <th>41</th>\n",
              "      <td>1</td>\n",
              "    </tr>\n",
              "    <tr>\n",
              "      <th>39</th>\n",
              "      <td>1</td>\n",
              "    </tr>\n",
              "    <tr>\n",
              "      <th>36</th>\n",
              "      <td>1</td>\n",
              "    </tr>\n",
              "    <tr>\n",
              "      <th>42</th>\n",
              "      <td>1</td>\n",
              "    </tr>\n",
              "  </tbody>\n",
              "</table>\n",
              "</div>\n",
              "      <button class=\"colab-df-convert\" onclick=\"convertToInteractive('df-9eed112c-54a9-4c36-b71e-cbd3355bdfd4')\"\n",
              "              title=\"Convert this dataframe to an interactive table.\"\n",
              "              style=\"display:none;\">\n",
              "        \n",
              "  <svg xmlns=\"http://www.w3.org/2000/svg\" height=\"24px\"viewBox=\"0 0 24 24\"\n",
              "       width=\"24px\">\n",
              "    <path d=\"M0 0h24v24H0V0z\" fill=\"none\"/>\n",
              "    <path d=\"M18.56 5.44l.94 2.06.94-2.06 2.06-.94-2.06-.94-.94-2.06-.94 2.06-2.06.94zm-11 1L8.5 8.5l.94-2.06 2.06-.94-2.06-.94L8.5 2.5l-.94 2.06-2.06.94zm10 10l.94 2.06.94-2.06 2.06-.94-2.06-.94-.94-2.06-.94 2.06-2.06.94z\"/><path d=\"M17.41 7.96l-1.37-1.37c-.4-.4-.92-.59-1.43-.59-.52 0-1.04.2-1.43.59L10.3 9.45l-7.72 7.72c-.78.78-.78 2.05 0 2.83L4 21.41c.39.39.9.59 1.41.59.51 0 1.02-.2 1.41-.59l7.78-7.78 2.81-2.81c.8-.78.8-2.07 0-2.86zM5.41 20L4 18.59l7.72-7.72 1.47 1.35L5.41 20z\"/>\n",
              "  </svg>\n",
              "      </button>\n",
              "      \n",
              "  <style>\n",
              "    .colab-df-container {\n",
              "      display:flex;\n",
              "      flex-wrap:wrap;\n",
              "      gap: 12px;\n",
              "    }\n",
              "\n",
              "    .colab-df-convert {\n",
              "      background-color: #E8F0FE;\n",
              "      border: none;\n",
              "      border-radius: 50%;\n",
              "      cursor: pointer;\n",
              "      display: none;\n",
              "      fill: #1967D2;\n",
              "      height: 32px;\n",
              "      padding: 0 0 0 0;\n",
              "      width: 32px;\n",
              "    }\n",
              "\n",
              "    .colab-df-convert:hover {\n",
              "      background-color: #E2EBFA;\n",
              "      box-shadow: 0px 1px 2px rgba(60, 64, 67, 0.3), 0px 1px 3px 1px rgba(60, 64, 67, 0.15);\n",
              "      fill: #174EA6;\n",
              "    }\n",
              "\n",
              "    [theme=dark] .colab-df-convert {\n",
              "      background-color: #3B4455;\n",
              "      fill: #D2E3FC;\n",
              "    }\n",
              "\n",
              "    [theme=dark] .colab-df-convert:hover {\n",
              "      background-color: #434B5C;\n",
              "      box-shadow: 0px 1px 3px 1px rgba(0, 0, 0, 0.15);\n",
              "      filter: drop-shadow(0px 1px 2px rgba(0, 0, 0, 0.3));\n",
              "      fill: #FFFFFF;\n",
              "    }\n",
              "  </style>\n",
              "\n",
              "      <script>\n",
              "        const buttonEl =\n",
              "          document.querySelector('#df-9eed112c-54a9-4c36-b71e-cbd3355bdfd4 button.colab-df-convert');\n",
              "        buttonEl.style.display =\n",
              "          google.colab.kernel.accessAllowed ? 'block' : 'none';\n",
              "\n",
              "        async function convertToInteractive(key) {\n",
              "          const element = document.querySelector('#df-9eed112c-54a9-4c36-b71e-cbd3355bdfd4');\n",
              "          const dataTable =\n",
              "            await google.colab.kernel.invokeFunction('convertToInteractive',\n",
              "                                                     [key], {});\n",
              "          if (!dataTable) return;\n",
              "\n",
              "          const docLinkHtml = 'Like what you see? Visit the ' +\n",
              "            '<a target=\"_blank\" href=https://colab.research.google.com/notebooks/data_table.ipynb>data table notebook</a>'\n",
              "            + ' to learn more about interactive tables.';\n",
              "          element.innerHTML = '';\n",
              "          dataTable['output_type'] = 'display_data';\n",
              "          await google.colab.output.renderOutput(dataTable, element);\n",
              "          const docLink = document.createElement('div');\n",
              "          docLink.innerHTML = docLinkHtml;\n",
              "          element.appendChild(docLink);\n",
              "        }\n",
              "      </script>\n",
              "    </div>\n",
              "  </div>\n",
              "  "
            ]
          },
          "metadata": {},
          "execution_count": 302
        }
      ]
    },
    {
      "cell_type": "markdown",
      "source": [
        "#### *The above result indicates that the most popular age group which purchased threadmill is between 23 & 26*"
      ],
      "metadata": {
        "id": "Gm52YzzRmI5S"
      }
    },
    {
      "cell_type": "code",
      "source": [
        "#### Customers count by Gender"
      ],
      "metadata": {
        "id": "42jsApFoN1_T"
      },
      "execution_count": null,
      "outputs": []
    },
    {
      "cell_type": "code",
      "source": [
        "# Customers by Gender\n",
        "gender_cnt = {'Male Female': aero_df['Gender'].value_counts()}\n",
        "gender_cnt = pd.DataFrame(gender_cnt)\n",
        "gender_cnt"
      ],
      "metadata": {
        "id": "qTgxQz5f724-",
        "colab": {
          "base_uri": "https://localhost:8080/",
          "height": 112
        },
        "outputId": "d35caec9-dfd9-477e-bc4c-cf066dee2a81"
      },
      "execution_count": null,
      "outputs": [
        {
          "output_type": "execute_result",
          "data": {
            "text/plain": [
              "        Male Female\n",
              "Male            104\n",
              "Female           76"
            ],
            "text/html": [
              "\n",
              "  <div id=\"df-cec62d82-9796-4f74-9da3-aa2325aa39e5\">\n",
              "    <div class=\"colab-df-container\">\n",
              "      <div>\n",
              "<style scoped>\n",
              "    .dataframe tbody tr th:only-of-type {\n",
              "        vertical-align: middle;\n",
              "    }\n",
              "\n",
              "    .dataframe tbody tr th {\n",
              "        vertical-align: top;\n",
              "    }\n",
              "\n",
              "    .dataframe thead th {\n",
              "        text-align: right;\n",
              "    }\n",
              "</style>\n",
              "<table border=\"1\" class=\"dataframe\">\n",
              "  <thead>\n",
              "    <tr style=\"text-align: right;\">\n",
              "      <th></th>\n",
              "      <th>Male Female</th>\n",
              "    </tr>\n",
              "  </thead>\n",
              "  <tbody>\n",
              "    <tr>\n",
              "      <th>Male</th>\n",
              "      <td>104</td>\n",
              "    </tr>\n",
              "    <tr>\n",
              "      <th>Female</th>\n",
              "      <td>76</td>\n",
              "    </tr>\n",
              "  </tbody>\n",
              "</table>\n",
              "</div>\n",
              "      <button class=\"colab-df-convert\" onclick=\"convertToInteractive('df-cec62d82-9796-4f74-9da3-aa2325aa39e5')\"\n",
              "              title=\"Convert this dataframe to an interactive table.\"\n",
              "              style=\"display:none;\">\n",
              "        \n",
              "  <svg xmlns=\"http://www.w3.org/2000/svg\" height=\"24px\"viewBox=\"0 0 24 24\"\n",
              "       width=\"24px\">\n",
              "    <path d=\"M0 0h24v24H0V0z\" fill=\"none\"/>\n",
              "    <path d=\"M18.56 5.44l.94 2.06.94-2.06 2.06-.94-2.06-.94-.94-2.06-.94 2.06-2.06.94zm-11 1L8.5 8.5l.94-2.06 2.06-.94-2.06-.94L8.5 2.5l-.94 2.06-2.06.94zm10 10l.94 2.06.94-2.06 2.06-.94-2.06-.94-.94-2.06-.94 2.06-2.06.94z\"/><path d=\"M17.41 7.96l-1.37-1.37c-.4-.4-.92-.59-1.43-.59-.52 0-1.04.2-1.43.59L10.3 9.45l-7.72 7.72c-.78.78-.78 2.05 0 2.83L4 21.41c.39.39.9.59 1.41.59.51 0 1.02-.2 1.41-.59l7.78-7.78 2.81-2.81c.8-.78.8-2.07 0-2.86zM5.41 20L4 18.59l7.72-7.72 1.47 1.35L5.41 20z\"/>\n",
              "  </svg>\n",
              "      </button>\n",
              "      \n",
              "  <style>\n",
              "    .colab-df-container {\n",
              "      display:flex;\n",
              "      flex-wrap:wrap;\n",
              "      gap: 12px;\n",
              "    }\n",
              "\n",
              "    .colab-df-convert {\n",
              "      background-color: #E8F0FE;\n",
              "      border: none;\n",
              "      border-radius: 50%;\n",
              "      cursor: pointer;\n",
              "      display: none;\n",
              "      fill: #1967D2;\n",
              "      height: 32px;\n",
              "      padding: 0 0 0 0;\n",
              "      width: 32px;\n",
              "    }\n",
              "\n",
              "    .colab-df-convert:hover {\n",
              "      background-color: #E2EBFA;\n",
              "      box-shadow: 0px 1px 2px rgba(60, 64, 67, 0.3), 0px 1px 3px 1px rgba(60, 64, 67, 0.15);\n",
              "      fill: #174EA6;\n",
              "    }\n",
              "\n",
              "    [theme=dark] .colab-df-convert {\n",
              "      background-color: #3B4455;\n",
              "      fill: #D2E3FC;\n",
              "    }\n",
              "\n",
              "    [theme=dark] .colab-df-convert:hover {\n",
              "      background-color: #434B5C;\n",
              "      box-shadow: 0px 1px 3px 1px rgba(0, 0, 0, 0.15);\n",
              "      filter: drop-shadow(0px 1px 2px rgba(0, 0, 0, 0.3));\n",
              "      fill: #FFFFFF;\n",
              "    }\n",
              "  </style>\n",
              "\n",
              "      <script>\n",
              "        const buttonEl =\n",
              "          document.querySelector('#df-cec62d82-9796-4f74-9da3-aa2325aa39e5 button.colab-df-convert');\n",
              "        buttonEl.style.display =\n",
              "          google.colab.kernel.accessAllowed ? 'block' : 'none';\n",
              "\n",
              "        async function convertToInteractive(key) {\n",
              "          const element = document.querySelector('#df-cec62d82-9796-4f74-9da3-aa2325aa39e5');\n",
              "          const dataTable =\n",
              "            await google.colab.kernel.invokeFunction('convertToInteractive',\n",
              "                                                     [key], {});\n",
              "          if (!dataTable) return;\n",
              "\n",
              "          const docLinkHtml = 'Like what you see? Visit the ' +\n",
              "            '<a target=\"_blank\" href=https://colab.research.google.com/notebooks/data_table.ipynb>data table notebook</a>'\n",
              "            + ' to learn more about interactive tables.';\n",
              "          element.innerHTML = '';\n",
              "          dataTable['output_type'] = 'display_data';\n",
              "          await google.colab.output.renderOutput(dataTable, element);\n",
              "          const docLink = document.createElement('div');\n",
              "          docLink.innerHTML = docLinkHtml;\n",
              "          element.appendChild(docLink);\n",
              "        }\n",
              "      </script>\n",
              "    </div>\n",
              "  </div>\n",
              "  "
            ]
          },
          "metadata": {},
          "execution_count": 5
        }
      ]
    },
    {
      "cell_type": "code",
      "source": [
        "ax = sns.countplot(data=aero_df, x='Gender')\n",
        "for p in ax.patches:\n",
        "  ax.annotate(p.get_height(), (p.get_x()+0.40, p.get_height()+0.05))\n",
        "plt.title(\"Count by Gender\")\n",
        "plt.show()"
      ],
      "metadata": {
        "colab": {
          "base_uri": "https://localhost:8080/",
          "height": 295
        },
        "id": "c3-48ohxizah",
        "outputId": "bdd7a7e1-6fbc-4d66-dfc9-1b6a5213e42e"
      },
      "execution_count": null,
      "outputs": [
        {
          "output_type": "display_data",
          "data": {
            "text/plain": [
              "<Figure size 432x288 with 1 Axes>"
            ],
            "image/png": "[encoded data removed]"
          },
          "metadata": {
            "needs_background": "light"
          }
        }
      ]
    },
    {
      "cell_type": "markdown",
      "source": [
        "#### *From the buyers list the Male community is large in number than Females*"
      ],
      "metadata": {
        "id": "qhjlVcwjmii1"
      }
    },
    {
      "cell_type": "markdown",
      "source": [
        "#### Customers count by Marital Status"
      ],
      "metadata": {
        "id": "Xulg9GZ3ODuG"
      }
    },
    {
      "cell_type": "code",
      "source": [
        "# Customers count by their marital status\n",
        "marital_status_cnt = aero_df['MaritalStatus'].value_counts()\n",
        "marital_status_cnt"
      ],
      "metadata": {
        "colab": {
          "base_uri": "https://localhost:8080/"
        },
        "id": "_XI4hury1s04",
        "outputId": "21bbef1a-88f3-441f-e704-af97cbc8bab6"
      },
      "execution_count": null,
      "outputs": [
        {
          "output_type": "execute_result",
          "data": {
            "text/plain": [
              "Partnered    107\n",
              "Single        73\n",
              "Name: MaritalStatus, dtype: int64"
            ]
          },
          "metadata": {},
          "execution_count": 69
        }
      ]
    },
    {
      "cell_type": "code",
      "source": [
        "ax = sns.countplot(data=aero_df, x='MaritalStatus')\n",
        "for p in ax.patches:\n",
        "  ax.annotate(p.get_height(), (p.get_x()+0.35, p.get_height()+0.05))\n",
        "plt.title('Customers by Marital Status')\n",
        "plt.show()"
      ],
      "metadata": {
        "colab": {
          "base_uri": "https://localhost:8080/",
          "height": 295
        },
        "id": "KukbsnNB2b7s",
        "outputId": "32044fdf-14d8-44e2-8fb4-c44dd9604880"
      },
      "execution_count": null,
      "outputs": [
        {
          "output_type": "display_data",
          "data": {
            "text/plain": [
              "<Figure size 432x288 with 1 Axes>"
            ],
            "image/png": "[encoded data removed]"
          },
          "metadata": {
            "needs_background": "light"
          }
        }
      ]
    },
    {
      "cell_type": "markdown",
      "source": [
        "#### *Interestingly 'Partnered' seem to have purchased the Threadmill more than the Singles*"
      ],
      "metadata": {
        "id": "DGB2g2jvnKAp"
      }
    },
    {
      "cell_type": "code",
      "source": [
        "mari_status_gender = aero_df.groupby('Gender')['MaritalStatus'].value_counts()\n",
        "temp_df = pd.DataFrame(mari_status_gender)\n",
        "mari_status_gender"
      ],
      "metadata": {
        "id": "SiE27OWcAzv-",
        "colab": {
          "base_uri": "https://localhost:8080/"
        },
        "outputId": "5dc7ae58-80df-488a-89ec-ec72fd702b8f"
      },
      "execution_count": null,
      "outputs": [
        {
          "output_type": "execute_result",
          "data": {
            "text/plain": [
              "Gender  MaritalStatus\n",
              "Female  Partnered        46\n",
              "        Single           30\n",
              "Male    Partnered        61\n",
              "        Single           43\n",
              "Name: MaritalStatus, dtype: int64"
            ]
          },
          "metadata": {},
          "execution_count": 110
        }
      ]
    },
    {
      "cell_type": "markdown",
      "source": [
        "#### *About 61% females who are partnered have purchased Threadmills. Similarly amongst partnered males percentage is: 59. Amongst the Singles - Male Vs Female percentages are 41% and 39%. This indicates that purchase of Threadmill is higher amonghs male singles compared to female singles; wherease it becomes reverse amongnst 'partnered' community*"
      ],
      "metadata": {
        "id": "TF-hcFC3nmrI"
      }
    },
    {
      "cell_type": "code",
      "source": [
        "aero_df.hist()\n",
        "plt.show()"
      ],
      "metadata": {
        "colab": {
          "base_uri": "https://localhost:8080/",
          "height": 281
        },
        "id": "bgECBA5uhdmV",
        "outputId": "d8e269e4-09c5-44c9-8347-f4de6e83a138"
      },
      "execution_count": null,
      "outputs": [
        {
          "output_type": "display_data",
          "data": {
            "text/plain": [
              "<Figure size 432x288 with 6 Axes>"
            ],
            "image/png": "[encoded data removed]"
          },
          "metadata": {
            "needs_background": "light"
          }
        }
      ]
    },
    {
      "cell_type": "code",
      "source": [
        "ax = mari_status_gender.hist()\n",
        "plt.title(\"Gender & MaritalStatus\")\n",
        "plt.show()"
      ],
      "metadata": {
        "colab": {
          "base_uri": "https://localhost:8080/",
          "height": 281
        },
        "id": "bLJbdiy5d7yZ",
        "outputId": "7acd41d1-745e-4ddd-b414-18046b9dd10f"
      },
      "execution_count": null,
      "outputs": [
        {
          "output_type": "display_data",
          "data": {
            "text/plain": [
              "<Figure size 432x288 with 1 Axes>"
            ],
            "image/png": "[encoded data removed]"
          },
          "metadata": {
            "needs_background": "light"
          }
        }
      ]
    },
    {
      "cell_type": "code",
      "source": [
        "sns.displot(data=aero_df, x='Gender', y='MaritalStatus')\n",
        "plt.title('Gender Vs MaritalStatus')\n",
        "plt.show()"
      ],
      "metadata": {
        "colab": {
          "base_uri": "https://localhost:8080/",
          "height": 385
        },
        "id": "Sag2c5DSgi53",
        "outputId": "a7b83783-6d43-4a10-e327-796df3db80a9"
      },
      "execution_count": null,
      "outputs": [
        {
          "output_type": "display_data",
          "data": {
            "text/plain": [
              "<Figure size 360x360 with 1 Axes>"
            ],
            "image/png": "[encoded data removed]"
          },
          "metadata": {
            "needs_background": "light"
          }
        }
      ]
    },
    {
      "cell_type": "code",
      "source": [
        "# Usage Count\n",
        "usage_count = aero_df['Usage'].value_counts()\n",
        "usage_count"
      ],
      "metadata": {
        "colab": {
          "base_uri": "https://localhost:8080/"
        },
        "id": "YMD2MxLAQWDL",
        "outputId": "79e4030c-d8c4-400f-d628-6eb2ec486088"
      },
      "execution_count": null,
      "outputs": [
        {
          "output_type": "execute_result",
          "data": {
            "text/plain": [
              "3    69\n",
              "4    52\n",
              "2    33\n",
              "5    17\n",
              "6     7\n",
              "7     2\n",
              "Name: Usage, dtype: int64"
            ]
          },
          "metadata": {},
          "execution_count": 99
        }
      ]
    },
    {
      "cell_type": "code",
      "source": [
        "ax = sns.countplot(data=aero_df, x='Usage')\n",
        "for p in ax.patches:\n",
        "  ax.annotate(p.get_height(), (p.get_x()+0.30, p.get_height()+0.03))\n",
        "plt.title('Count by Usage')\n",
        "plt.show()"
      ],
      "metadata": {
        "colab": {
          "base_uri": "https://localhost:8080/",
          "height": 295
        },
        "id": "4f0rbqLUQrhp",
        "outputId": "104ac01d-a959-49ba-83a4-289285ccfcaa"
      },
      "execution_count": null,
      "outputs": [
        {
          "output_type": "display_data",
          "data": {
            "text/plain": [
              "<Figure size 432x288 with 1 Axes>"
            ],
            "image/png": "[encoded data removed]"
          },
          "metadata": {
            "needs_background": "light"
          }
        }
      ]
    },
    {
      "cell_type": "markdown",
      "source": [
        "#### *Usage of 3 or 4 times per day is higher.*"
      ],
      "metadata": {
        "id": "8YncFehsQtrM"
      }
    },
    {
      "cell_type": "code",
      "source": [
        "usage_df = aero_df['Usage']\n",
        "sns.distplot(usage_df, kde=False)"
      ],
      "metadata": {
        "colab": {
          "base_uri": "https://localhost:8080/",
          "height": 297
        },
        "id": "mb0tEQ3SOZXD",
        "outputId": "c70e942c-f430-4396-b61c-593850527119"
      },
      "execution_count": null,
      "outputs": [
        {
          "output_type": "execute_result",
          "data": {
            "text/plain": [
              "<matplotlib.axes._subplots.AxesSubplot at 0x7faa7df86710>"
            ]
          },
          "metadata": {},
          "execution_count": 44
        },
        {
          "output_type": "display_data",
          "data": {
            "text/plain": [
              "<Figure size 432x288 with 1 Axes>"
            ],
            "image/png": "[encoded data removed]"
          },
          "metadata": {
            "needs_background": "light"
          }
        }
      ]
    },
    {
      "cell_type": "markdown",
      "source": [
        "#### *Usage Units - Assuming the given Usage numbers are of number of times usage per day, majority of the customers use 3 times.*"
      ],
      "metadata": {
        "id": "mOIfE_CmE51J"
      }
    },
    {
      "cell_type": "code",
      "source": [
        "# KP281 Product by Usage\n",
        "KP1_Usage = {'Usage Count': aero_df[aero_df['Product']=='KP281']['Usage'].value_counts()}\n",
        "KP1_Usage_df = pd.DataFrame(KP1_Usage)\n",
        "KP1_Usage_df"
      ],
      "metadata": {
        "colab": {
          "base_uri": "https://localhost:8080/",
          "height": 175
        },
        "id": "reI1spdxTAgV",
        "outputId": "9e475730-58d7-4276-96eb-9452e9526549"
      },
      "execution_count": null,
      "outputs": [
        {
          "output_type": "execute_result",
          "data": {
            "text/plain": [
              "   Usage Count\n",
              "3           37\n",
              "4           22\n",
              "2           19\n",
              "5            2"
            ],
            "text/html": [
              "\n",
              "  <div id=\"df-88d15cf9-8ce0-4692-8fb6-d5b22fa540d2\">\n",
              "    <div class=\"colab-df-container\">\n",
              "      <div>\n",
              "<style scoped>\n",
              "    .dataframe tbody tr th:only-of-type {\n",
              "        vertical-align: middle;\n",
              "    }\n",
              "\n",
              "    .dataframe tbody tr th {\n",
              "        vertical-align: top;\n",
              "    }\n",
              "\n",
              "    .dataframe thead th {\n",
              "        text-align: right;\n",
              "    }\n",
              "</style>\n",
              "<table border=\"1\" class=\"dataframe\">\n",
              "  <thead>\n",
              "    <tr style=\"text-align: right;\">\n",
              "      <th></th>\n",
              "      <th>Usage Count</th>\n",
              "    </tr>\n",
              "  </thead>\n",
              "  <tbody>\n",
              "    <tr>\n",
              "      <th>3</th>\n",
              "      <td>37</td>\n",
              "    </tr>\n",
              "    <tr>\n",
              "      <th>4</th>\n",
              "      <td>22</td>\n",
              "    </tr>\n",
              "    <tr>\n",
              "      <th>2</th>\n",
              "      <td>19</td>\n",
              "    </tr>\n",
              "    <tr>\n",
              "      <th>5</th>\n",
              "      <td>2</td>\n",
              "    </tr>\n",
              "  </tbody>\n",
              "</table>\n",
              "</div>\n",
              "      <button class=\"colab-df-convert\" onclick=\"convertToInteractive('df-88d15cf9-8ce0-4692-8fb6-d5b22fa540d2')\"\n",
              "              title=\"Convert this dataframe to an interactive table.\"\n",
              "              style=\"display:none;\">\n",
              "        \n",
              "  <svg xmlns=\"http://www.w3.org/2000/svg\" height=\"24px\"viewBox=\"0 0 24 24\"\n",
              "       width=\"24px\">\n",
              "    <path d=\"M0 0h24v24H0V0z\" fill=\"none\"/>\n",
              "    <path d=\"M18.56 5.44l.94 2.06.94-2.06 2.06-.94-2.06-.94-.94-2.06-.94 2.06-2.06.94zm-11 1L8.5 8.5l.94-2.06 2.06-.94-2.06-.94L8.5 2.5l-.94 2.06-2.06.94zm10 10l.94 2.06.94-2.06 2.06-.94-2.06-.94-.94-2.06-.94 2.06-2.06.94z\"/><path d=\"M17.41 7.96l-1.37-1.37c-.4-.4-.92-.59-1.43-.59-.52 0-1.04.2-1.43.59L10.3 9.45l-7.72 7.72c-.78.78-.78 2.05 0 2.83L4 21.41c.39.39.9.59 1.41.59.51 0 1.02-.2 1.41-.59l7.78-7.78 2.81-2.81c.8-.78.8-2.07 0-2.86zM5.41 20L4 18.59l7.72-7.72 1.47 1.35L5.41 20z\"/>\n",
              "  </svg>\n",
              "      </button>\n",
              "      \n",
              "  <style>\n",
              "    .colab-df-container {\n",
              "      display:flex;\n",
              "      flex-wrap:wrap;\n",
              "      gap: 12px;\n",
              "    }\n",
              "\n",
              "    .colab-df-convert {\n",
              "      background-color: #E8F0FE;\n",
              "      border: none;\n",
              "      border-radius: 50%;\n",
              "      cursor: pointer;\n",
              "      display: none;\n",
              "      fill: #1967D2;\n",
              "      height: 32px;\n",
              "      padding: 0 0 0 0;\n",
              "      width: 32px;\n",
              "    }\n",
              "\n",
              "    .colab-df-convert:hover {\n",
              "      background-color: #E2EBFA;\n",
              "      box-shadow: 0px 1px 2px rgba(60, 64, 67, 0.3), 0px 1px 3px 1px rgba(60, 64, 67, 0.15);\n",
              "      fill: #174EA6;\n",
              "    }\n",
              "\n",
              "    [theme=dark] .colab-df-convert {\n",
              "      background-color: #3B4455;\n",
              "      fill: #D2E3FC;\n",
              "    }\n",
              "\n",
              "    [theme=dark] .colab-df-convert:hover {\n",
              "      background-color: #434B5C;\n",
              "      box-shadow: 0px 1px 3px 1px rgba(0, 0, 0, 0.15);\n",
              "      filter: drop-shadow(0px 1px 2px rgba(0, 0, 0, 0.3));\n",
              "      fill: #FFFFFF;\n",
              "    }\n",
              "  </style>\n",
              "\n",
              "      <script>\n",
              "        const buttonEl =\n",
              "          document.querySelector('#df-88d15cf9-8ce0-4692-8fb6-d5b22fa540d2 button.colab-df-convert');\n",
              "        buttonEl.style.display =\n",
              "          google.colab.kernel.accessAllowed ? 'block' : 'none';\n",
              "\n",
              "        async function convertToInteractive(key) {\n",
              "          const element = document.querySelector('#df-88d15cf9-8ce0-4692-8fb6-d5b22fa540d2');\n",
              "          const dataTable =\n",
              "            await google.colab.kernel.invokeFunction('convertToInteractive',\n",
              "                                                     [key], {});\n",
              "          if (!dataTable) return;\n",
              "\n",
              "          const docLinkHtml = 'Like what you see? Visit the ' +\n",
              "            '<a target=\"_blank\" href=https://colab.research.google.com/notebooks/data_table.ipynb>data table notebook</a>'\n",
              "            + ' to learn more about interactive tables.';\n",
              "          element.innerHTML = '';\n",
              "          dataTable['output_type'] = 'display_data';\n",
              "          await google.colab.output.renderOutput(dataTable, element);\n",
              "          const docLink = document.createElement('div');\n",
              "          docLink.innerHTML = docLinkHtml;\n",
              "          element.appendChild(docLink);\n",
              "        }\n",
              "      </script>\n",
              "    </div>\n",
              "  </div>\n",
              "  "
            ]
          },
          "metadata": {},
          "execution_count": 32
        }
      ]
    },
    {
      "cell_type": "code",
      "source": [
        "sns.distplot(KP1_Usage_df, bins=5, kde=False)\n",
        "plt.title(\"Prodcut KP281 Usage\")\n",
        "plt.xlabel(\"Usage\")\n",
        "plt.ylabel('Count')\n",
        "\n",
        "plt.show()"
      ],
      "metadata": {
        "colab": {
          "base_uri": "https://localhost:8080/",
          "height": 295
        },
        "id": "q4bAd1kaPRQM",
        "outputId": "aa0357ff-70f6-46f5-fa75-16bec9bdff16"
      },
      "execution_count": null,
      "outputs": [
        {
          "output_type": "display_data",
          "data": {
            "text/plain": [
              "<Figure size 432x288 with 1 Axes>"
            ],
            "image/png": "[encoded data removed]"
          },
          "metadata": {
            "needs_background": "light"
          }
        }
      ]
    },
    {
      "cell_type": "code",
      "source": [
        "# KP481 Product by Usage\n",
        "KP2_Usage = {'Usage Count': aero_df[aero_df['Product']=='KP481']['Usage'].value_counts()}\n",
        "KP2_Usage_df = pd.DataFrame(KP2_Usage)\n",
        "KP2_Usage_df"
      ],
      "metadata": {
        "colab": {
          "base_uri": "https://localhost:8080/",
          "height": 175
        },
        "id": "17g-5gUtRlja",
        "outputId": "c6b11fea-8968-4966-b1fc-004310f1eb6d"
      },
      "execution_count": null,
      "outputs": [
        {
          "output_type": "execute_result",
          "data": {
            "text/plain": [
              "   Usage Count\n",
              "3           31\n",
              "2           14\n",
              "4           12\n",
              "5            3"
            ],
            "text/html": [
              "\n",
              "  <div id=\"df-c764db5a-2981-4376-86af-c11f1c9ea1fe\">\n",
              "    <div class=\"colab-df-container\">\n",
              "      <div>\n",
              "<style scoped>\n",
              "    .dataframe tbody tr th:only-of-type {\n",
              "        vertical-align: middle;\n",
              "    }\n",
              "\n",
              "    .dataframe tbody tr th {\n",
              "        vertical-align: top;\n",
              "    }\n",
              "\n",
              "    .dataframe thead th {\n",
              "        text-align: right;\n",
              "    }\n",
              "</style>\n",
              "<table border=\"1\" class=\"dataframe\">\n",
              "  <thead>\n",
              "    <tr style=\"text-align: right;\">\n",
              "      <th></th>\n",
              "      <th>Usage Count</th>\n",
              "    </tr>\n",
              "  </thead>\n",
              "  <tbody>\n",
              "    <tr>\n",
              "      <th>3</th>\n",
              "      <td>31</td>\n",
              "    </tr>\n",
              "    <tr>\n",
              "      <th>2</th>\n",
              "      <td>14</td>\n",
              "    </tr>\n",
              "    <tr>\n",
              "      <th>4</th>\n",
              "      <td>12</td>\n",
              "    </tr>\n",
              "    <tr>\n",
              "      <th>5</th>\n",
              "      <td>3</td>\n",
              "    </tr>\n",
              "  </tbody>\n",
              "</table>\n",
              "</div>\n",
              "      <button class=\"colab-df-convert\" onclick=\"convertToInteractive('df-c764db5a-2981-4376-86af-c11f1c9ea1fe')\"\n",
              "              title=\"Convert this dataframe to an interactive table.\"\n",
              "              style=\"display:none;\">\n",
              "        \n",
              "  <svg xmlns=\"http://www.w3.org/2000/svg\" height=\"24px\"viewBox=\"0 0 24 24\"\n",
              "       width=\"24px\">\n",
              "    <path d=\"M0 0h24v24H0V0z\" fill=\"none\"/>\n",
              "    <path d=\"M18.56 5.44l.94 2.06.94-2.06 2.06-.94-2.06-.94-.94-2.06-.94 2.06-2.06.94zm-11 1L8.5 8.5l.94-2.06 2.06-.94-2.06-.94L8.5 2.5l-.94 2.06-2.06.94zm10 10l.94 2.06.94-2.06 2.06-.94-2.06-.94-.94-2.06-.94 2.06-2.06.94z\"/><path d=\"M17.41 7.96l-1.37-1.37c-.4-.4-.92-.59-1.43-.59-.52 0-1.04.2-1.43.59L10.3 9.45l-7.72 7.72c-.78.78-.78 2.05 0 2.83L4 21.41c.39.39.9.59 1.41.59.51 0 1.02-.2 1.41-.59l7.78-7.78 2.81-2.81c.8-.78.8-2.07 0-2.86zM5.41 20L4 18.59l7.72-7.72 1.47 1.35L5.41 20z\"/>\n",
              "  </svg>\n",
              "      </button>\n",
              "      \n",
              "  <style>\n",
              "    .colab-df-container {\n",
              "      display:flex;\n",
              "      flex-wrap:wrap;\n",
              "      gap: 12px;\n",
              "    }\n",
              "\n",
              "    .colab-df-convert {\n",
              "      background-color: #E8F0FE;\n",
              "      border: none;\n",
              "      border-radius: 50%;\n",
              "      cursor: pointer;\n",
              "      display: none;\n",
              "      fill: #1967D2;\n",
              "      height: 32px;\n",
              "      padding: 0 0 0 0;\n",
              "      width: 32px;\n",
              "    }\n",
              "\n",
              "    .colab-df-convert:hover {\n",
              "      background-color: #E2EBFA;\n",
              "      box-shadow: 0px 1px 2px rgba(60, 64, 67, 0.3), 0px 1px 3px 1px rgba(60, 64, 67, 0.15);\n",
              "      fill: #174EA6;\n",
              "    }\n",
              "\n",
              "    [theme=dark] .colab-df-convert {\n",
              "      background-color: #3B4455;\n",
              "      fill: #D2E3FC;\n",
              "    }\n",
              "\n",
              "    [theme=dark] .colab-df-convert:hover {\n",
              "      background-color: #434B5C;\n",
              "      box-shadow: 0px 1px 3px 1px rgba(0, 0, 0, 0.15);\n",
              "      filter: drop-shadow(0px 1px 2px rgba(0, 0, 0, 0.3));\n",
              "      fill: #FFFFFF;\n",
              "    }\n",
              "  </style>\n",
              "\n",
              "      <script>\n",
              "        const buttonEl =\n",
              "          document.querySelector('#df-c764db5a-2981-4376-86af-c11f1c9ea1fe button.colab-df-convert');\n",
              "        buttonEl.style.display =\n",
              "          google.colab.kernel.accessAllowed ? 'block' : 'none';\n",
              "\n",
              "        async function convertToInteractive(key) {\n",
              "          const element = document.querySelector('#df-c764db5a-2981-4376-86af-c11f1c9ea1fe');\n",
              "          const dataTable =\n",
              "            await google.colab.kernel.invokeFunction('convertToInteractive',\n",
              "                                                     [key], {});\n",
              "          if (!dataTable) return;\n",
              "\n",
              "          const docLinkHtml = 'Like what you see? Visit the ' +\n",
              "            '<a target=\"_blank\" href=https://colab.research.google.com/notebooks/data_table.ipynb>data table notebook</a>'\n",
              "            + ' to learn more about interactive tables.';\n",
              "          element.innerHTML = '';\n",
              "          dataTable['output_type'] = 'display_data';\n",
              "          await google.colab.output.renderOutput(dataTable, element);\n",
              "          const docLink = document.createElement('div');\n",
              "          docLink.innerHTML = docLinkHtml;\n",
              "          element.appendChild(docLink);\n",
              "        }\n",
              "      </script>\n",
              "    </div>\n",
              "  </div>\n",
              "  "
            ]
          },
          "metadata": {},
          "execution_count": 106
        }
      ]
    },
    {
      "cell_type": "code",
      "source": [
        "# KP781 Product by Usage\n",
        "KP3_Usage = {'Usage Count': aero_df[aero_df['Product']=='KP781']['Usage'].value_counts()}\n",
        "KP3_Usage_df = pd.DataFrame(KP3_Usage)\n",
        "KP3_Usage_df"
      ],
      "metadata": {
        "colab": {
          "base_uri": "https://localhost:8080/",
          "height": 206
        },
        "id": "EkMEGifZTJPU",
        "outputId": "2b554899-a85f-4eba-89a0-9d9a3f958f52"
      },
      "execution_count": null,
      "outputs": [
        {
          "output_type": "execute_result",
          "data": {
            "text/plain": [
              "   Usage Count\n",
              "4           18\n",
              "5           12\n",
              "6            7\n",
              "7            2\n",
              "3            1"
            ],
            "text/html": [
              "\n",
              "  <div id=\"df-90111dd6-15b3-4a2b-9a53-f41091957f74\">\n",
              "    <div class=\"colab-df-container\">\n",
              "      <div>\n",
              "<style scoped>\n",
              "    .dataframe tbody tr th:only-of-type {\n",
              "        vertical-align: middle;\n",
              "    }\n",
              "\n",
              "    .dataframe tbody tr th {\n",
              "        vertical-align: top;\n",
              "    }\n",
              "\n",
              "    .dataframe thead th {\n",
              "        text-align: right;\n",
              "    }\n",
              "</style>\n",
              "<table border=\"1\" class=\"dataframe\">\n",
              "  <thead>\n",
              "    <tr style=\"text-align: right;\">\n",
              "      <th></th>\n",
              "      <th>Usage Count</th>\n",
              "    </tr>\n",
              "  </thead>\n",
              "  <tbody>\n",
              "    <tr>\n",
              "      <th>4</th>\n",
              "      <td>18</td>\n",
              "    </tr>\n",
              "    <tr>\n",
              "      <th>5</th>\n",
              "      <td>12</td>\n",
              "    </tr>\n",
              "    <tr>\n",
              "      <th>6</th>\n",
              "      <td>7</td>\n",
              "    </tr>\n",
              "    <tr>\n",
              "      <th>7</th>\n",
              "      <td>2</td>\n",
              "    </tr>\n",
              "    <tr>\n",
              "      <th>3</th>\n",
              "      <td>1</td>\n",
              "    </tr>\n",
              "  </tbody>\n",
              "</table>\n",
              "</div>\n",
              "      <button class=\"colab-df-convert\" onclick=\"convertToInteractive('df-90111dd6-15b3-4a2b-9a53-f41091957f74')\"\n",
              "              title=\"Convert this dataframe to an interactive table.\"\n",
              "              style=\"display:none;\">\n",
              "        \n",
              "  <svg xmlns=\"http://www.w3.org/2000/svg\" height=\"24px\"viewBox=\"0 0 24 24\"\n",
              "       width=\"24px\">\n",
              "    <path d=\"M0 0h24v24H0V0z\" fill=\"none\"/>\n",
              "    <path d=\"M18.56 5.44l.94 2.06.94-2.06 2.06-.94-2.06-.94-.94-2.06-.94 2.06-2.06.94zm-11 1L8.5 8.5l.94-2.06 2.06-.94-2.06-.94L8.5 2.5l-.94 2.06-2.06.94zm10 10l.94 2.06.94-2.06 2.06-.94-2.06-.94-.94-2.06-.94 2.06-2.06.94z\"/><path d=\"M17.41 7.96l-1.37-1.37c-.4-.4-.92-.59-1.43-.59-.52 0-1.04.2-1.43.59L10.3 9.45l-7.72 7.72c-.78.78-.78 2.05 0 2.83L4 21.41c.39.39.9.59 1.41.59.51 0 1.02-.2 1.41-.59l7.78-7.78 2.81-2.81c.8-.78.8-2.07 0-2.86zM5.41 20L4 18.59l7.72-7.72 1.47 1.35L5.41 20z\"/>\n",
              "  </svg>\n",
              "      </button>\n",
              "      \n",
              "  <style>\n",
              "    .colab-df-container {\n",
              "      display:flex;\n",
              "      flex-wrap:wrap;\n",
              "      gap: 12px;\n",
              "    }\n",
              "\n",
              "    .colab-df-convert {\n",
              "      background-color: #E8F0FE;\n",
              "      border: none;\n",
              "      border-radius: 50%;\n",
              "      cursor: pointer;\n",
              "      display: none;\n",
              "      fill: #1967D2;\n",
              "      height: 32px;\n",
              "      padding: 0 0 0 0;\n",
              "      width: 32px;\n",
              "    }\n",
              "\n",
              "    .colab-df-convert:hover {\n",
              "      background-color: #E2EBFA;\n",
              "      box-shadow: 0px 1px 2px rgba(60, 64, 67, 0.3), 0px 1px 3px 1px rgba(60, 64, 67, 0.15);\n",
              "      fill: #174EA6;\n",
              "    }\n",
              "\n",
              "    [theme=dark] .colab-df-convert {\n",
              "      background-color: #3B4455;\n",
              "      fill: #D2E3FC;\n",
              "    }\n",
              "\n",
              "    [theme=dark] .colab-df-convert:hover {\n",
              "      background-color: #434B5C;\n",
              "      box-shadow: 0px 1px 3px 1px rgba(0, 0, 0, 0.15);\n",
              "      filter: drop-shadow(0px 1px 2px rgba(0, 0, 0, 0.3));\n",
              "      fill: #FFFFFF;\n",
              "    }\n",
              "  </style>\n",
              "\n",
              "      <script>\n",
              "        const buttonEl =\n",
              "          document.querySelector('#df-90111dd6-15b3-4a2b-9a53-f41091957f74 button.colab-df-convert');\n",
              "        buttonEl.style.display =\n",
              "          google.colab.kernel.accessAllowed ? 'block' : 'none';\n",
              "\n",
              "        async function convertToInteractive(key) {\n",
              "          const element = document.querySelector('#df-90111dd6-15b3-4a2b-9a53-f41091957f74');\n",
              "          const dataTable =\n",
              "            await google.colab.kernel.invokeFunction('convertToInteractive',\n",
              "                                                     [key], {});\n",
              "          if (!dataTable) return;\n",
              "\n",
              "          const docLinkHtml = 'Like what you see? Visit the ' +\n",
              "            '<a target=\"_blank\" href=https://colab.research.google.com/notebooks/data_table.ipynb>data table notebook</a>'\n",
              "            + ' to learn more about interactive tables.';\n",
              "          element.innerHTML = '';\n",
              "          dataTable['output_type'] = 'display_data';\n",
              "          await google.colab.output.renderOutput(dataTable, element);\n",
              "          const docLink = document.createElement('div');\n",
              "          docLink.innerHTML = docLinkHtml;\n",
              "          element.appendChild(docLink);\n",
              "        }\n",
              "      </script>\n",
              "    </div>\n",
              "  </div>\n",
              "  "
            ]
          },
          "metadata": {},
          "execution_count": 108
        }
      ]
    },
    {
      "cell_type": "markdown",
      "source": [
        "#### *Interestingly the product KP781 is used 4 or more times a day, but that's the one lowest number sold. The other two products are sold in high numbers but mostly used 3 times a day.*"
      ],
      "metadata": {
        "id": "bbfBQhZ8HeY_"
      }
    },
    {
      "cell_type": "code",
      "source": [
        "# Top 10 users of the product KP281 by Age\n",
        "top10_KP1 = {'Age Count': aero_df[aero_df['Product']=='KP281']['Age'].value_counts()}\n",
        "top10_KP1_df = pd.DataFrame(top10_KP1)\n",
        "top10_KP1_df.head(10)"
      ],
      "metadata": {
        "colab": {
          "base_uri": "https://localhost:8080/",
          "height": 363
        },
        "id": "2vyP8BxWpNAo",
        "outputId": "e1a3f7cc-a4a0-40f6-d9a0-525c79a52b52"
      },
      "execution_count": null,
      "outputs": [
        {
          "output_type": "execute_result",
          "data": {
            "text/plain": [
              "    Age Count\n",
              "23          8\n",
              "25          7\n",
              "26          7\n",
              "28          6\n",
              "24          5\n",
              "38          4\n",
              "21          4\n",
              "22          4\n",
              "29          3\n",
              "19          3"
            ],
            "text/html": [
              "\n",
              "  <div id=\"df-1ead755d-9aa3-4b23-b4fa-44a10fcac9e2\">\n",
              "    <div class=\"colab-df-container\">\n",
              "      <div>\n",
              "<style scoped>\n",
              "    .dataframe tbody tr th:only-of-type {\n",
              "        vertical-align: middle;\n",
              "    }\n",
              "\n",
              "    .dataframe tbody tr th {\n",
              "        vertical-align: top;\n",
              "    }\n",
              "\n",
              "    .dataframe thead th {\n",
              "        text-align: right;\n",
              "    }\n",
              "</style>\n",
              "<table border=\"1\" class=\"dataframe\">\n",
              "  <thead>\n",
              "    <tr style=\"text-align: right;\">\n",
              "      <th></th>\n",
              "      <th>Age Count</th>\n",
              "    </tr>\n",
              "  </thead>\n",
              "  <tbody>\n",
              "    <tr>\n",
              "      <th>23</th>\n",
              "      <td>8</td>\n",
              "    </tr>\n",
              "    <tr>\n",
              "      <th>25</th>\n",
              "      <td>7</td>\n",
              "    </tr>\n",
              "    <tr>\n",
              "      <th>26</th>\n",
              "      <td>7</td>\n",
              "    </tr>\n",
              "    <tr>\n",
              "      <th>28</th>\n",
              "      <td>6</td>\n",
              "    </tr>\n",
              "    <tr>\n",
              "      <th>24</th>\n",
              "      <td>5</td>\n",
              "    </tr>\n",
              "    <tr>\n",
              "      <th>38</th>\n",
              "      <td>4</td>\n",
              "    </tr>\n",
              "    <tr>\n",
              "      <th>21</th>\n",
              "      <td>4</td>\n",
              "    </tr>\n",
              "    <tr>\n",
              "      <th>22</th>\n",
              "      <td>4</td>\n",
              "    </tr>\n",
              "    <tr>\n",
              "      <th>29</th>\n",
              "      <td>3</td>\n",
              "    </tr>\n",
              "    <tr>\n",
              "      <th>19</th>\n",
              "      <td>3</td>\n",
              "    </tr>\n",
              "  </tbody>\n",
              "</table>\n",
              "</div>\n",
              "      <button class=\"colab-df-convert\" onclick=\"convertToInteractive('df-1ead755d-9aa3-4b23-b4fa-44a10fcac9e2')\"\n",
              "              title=\"Convert this dataframe to an interactive table.\"\n",
              "              style=\"display:none;\">\n",
              "        \n",
              "  <svg xmlns=\"http://www.w3.org/2000/svg\" height=\"24px\"viewBox=\"0 0 24 24\"\n",
              "       width=\"24px\">\n",
              "    <path d=\"M0 0h24v24H0V0z\" fill=\"none\"/>\n",
              "    <path d=\"M18.56 5.44l.94 2.06.94-2.06 2.06-.94-2.06-.94-.94-2.06-.94 2.06-2.06.94zm-11 1L8.5 8.5l.94-2.06 2.06-.94-2.06-.94L8.5 2.5l-.94 2.06-2.06.94zm10 10l.94 2.06.94-2.06 2.06-.94-2.06-.94-.94-2.06-.94 2.06-2.06.94z\"/><path d=\"M17.41 7.96l-1.37-1.37c-.4-.4-.92-.59-1.43-.59-.52 0-1.04.2-1.43.59L10.3 9.45l-7.72 7.72c-.78.78-.78 2.05 0 2.83L4 21.41c.39.39.9.59 1.41.59.51 0 1.02-.2 1.41-.59l7.78-7.78 2.81-2.81c.8-.78.8-2.07 0-2.86zM5.41 20L4 18.59l7.72-7.72 1.47 1.35L5.41 20z\"/>\n",
              "  </svg>\n",
              "      </button>\n",
              "      \n",
              "  <style>\n",
              "    .colab-df-container {\n",
              "      display:flex;\n",
              "      flex-wrap:wrap;\n",
              "      gap: 12px;\n",
              "    }\n",
              "\n",
              "    .colab-df-convert {\n",
              "      background-color: #E8F0FE;\n",
              "      border: none;\n",
              "      border-radius: 50%;\n",
              "      cursor: pointer;\n",
              "      display: none;\n",
              "      fill: #1967D2;\n",
              "      height: 32px;\n",
              "      padding: 0 0 0 0;\n",
              "      width: 32px;\n",
              "    }\n",
              "\n",
              "    .colab-df-convert:hover {\n",
              "      background-color: #E2EBFA;\n",
              "      box-shadow: 0px 1px 2px rgba(60, 64, 67, 0.3), 0px 1px 3px 1px rgba(60, 64, 67, 0.15);\n",
              "      fill: #174EA6;\n",
              "    }\n",
              "\n",
              "    [theme=dark] .colab-df-convert {\n",
              "      background-color: #3B4455;\n",
              "      fill: #D2E3FC;\n",
              "    }\n",
              "\n",
              "    [theme=dark] .colab-df-convert:hover {\n",
              "      background-color: #434B5C;\n",
              "      box-shadow: 0px 1px 3px 1px rgba(0, 0, 0, 0.15);\n",
              "      filter: drop-shadow(0px 1px 2px rgba(0, 0, 0, 0.3));\n",
              "      fill: #FFFFFF;\n",
              "    }\n",
              "  </style>\n",
              "\n",
              "      <script>\n",
              "        const buttonEl =\n",
              "          document.querySelector('#df-1ead755d-9aa3-4b23-b4fa-44a10fcac9e2 button.colab-df-convert');\n",
              "        buttonEl.style.display =\n",
              "          google.colab.kernel.accessAllowed ? 'block' : 'none';\n",
              "\n",
              "        async function convertToInteractive(key) {\n",
              "          const element = document.querySelector('#df-1ead755d-9aa3-4b23-b4fa-44a10fcac9e2');\n",
              "          const dataTable =\n",
              "            await google.colab.kernel.invokeFunction('convertToInteractive',\n",
              "                                                     [key], {});\n",
              "          if (!dataTable) return;\n",
              "\n",
              "          const docLinkHtml = 'Like what you see? Visit the ' +\n",
              "            '<a target=\"_blank\" href=https://colab.research.google.com/notebooks/data_table.ipynb>data table notebook</a>'\n",
              "            + ' to learn more about interactive tables.';\n",
              "          element.innerHTML = '';\n",
              "          dataTable['output_type'] = 'display_data';\n",
              "          await google.colab.output.renderOutput(dataTable, element);\n",
              "          const docLink = document.createElement('div');\n",
              "          docLink.innerHTML = docLinkHtml;\n",
              "          element.appendChild(docLink);\n",
              "        }\n",
              "      </script>\n",
              "    </div>\n",
              "  </div>\n",
              "  "
            ]
          },
          "metadata": {},
          "execution_count": 74
        }
      ]
    },
    {
      "cell_type": "markdown",
      "source": [
        "#### *The first product KP281 seems to be popular amongst the age groups 23 to 28.*"
      ],
      "metadata": {
        "id": "LAam2ZV681ea"
      }
    },
    {
      "cell_type": "code",
      "source": [
        "# Top 10 users of the product KP481 by Age\n",
        "top10_KP2 = {'Age Count': aero_df[aero_df['Product']=='KP481']['Age'].value_counts()}\n",
        "top10_KP2_df = pd.DataFrame(top10_KP2)\n",
        "top10_KP2_df.head(10)"
      ],
      "metadata": {
        "colab": {
          "base_uri": "https://localhost:8080/",
          "height": 363
        },
        "id": "hQTTWWC7q7NX",
        "outputId": "f810d58e-b1c1-41dc-988f-90fcaaad24ad"
      },
      "execution_count": null,
      "outputs": [
        {
          "output_type": "execute_result",
          "data": {
            "text/plain": [
              "    Age Count\n",
              "25         11\n",
              "23          7\n",
              "33          5\n",
              "35          4\n",
              "31          3\n",
              "21          3\n",
              "24          3\n",
              "26          3\n",
              "40          3\n",
              "20          3"
            ],
            "text/html": [
              "\n",
              "  <div id=\"df-ec230e8c-332a-4395-a8ef-7ca98bc08254\">\n",
              "    <div class=\"colab-df-container\">\n",
              "      <div>\n",
              "<style scoped>\n",
              "    .dataframe tbody tr th:only-of-type {\n",
              "        vertical-align: middle;\n",
              "    }\n",
              "\n",
              "    .dataframe tbody tr th {\n",
              "        vertical-align: top;\n",
              "    }\n",
              "\n",
              "    .dataframe thead th {\n",
              "        text-align: right;\n",
              "    }\n",
              "</style>\n",
              "<table border=\"1\" class=\"dataframe\">\n",
              "  <thead>\n",
              "    <tr style=\"text-align: right;\">\n",
              "      <th></th>\n",
              "      <th>Age Count</th>\n",
              "    </tr>\n",
              "  </thead>\n",
              "  <tbody>\n",
              "    <tr>\n",
              "      <th>25</th>\n",
              "      <td>11</td>\n",
              "    </tr>\n",
              "    <tr>\n",
              "      <th>23</th>\n",
              "      <td>7</td>\n",
              "    </tr>\n",
              "    <tr>\n",
              "      <th>33</th>\n",
              "      <td>5</td>\n",
              "    </tr>\n",
              "    <tr>\n",
              "      <th>35</th>\n",
              "      <td>4</td>\n",
              "    </tr>\n",
              "    <tr>\n",
              "      <th>31</th>\n",
              "      <td>3</td>\n",
              "    </tr>\n",
              "    <tr>\n",
              "      <th>21</th>\n",
              "      <td>3</td>\n",
              "    </tr>\n",
              "    <tr>\n",
              "      <th>24</th>\n",
              "      <td>3</td>\n",
              "    </tr>\n",
              "    <tr>\n",
              "      <th>26</th>\n",
              "      <td>3</td>\n",
              "    </tr>\n",
              "    <tr>\n",
              "      <th>40</th>\n",
              "      <td>3</td>\n",
              "    </tr>\n",
              "    <tr>\n",
              "      <th>20</th>\n",
              "      <td>3</td>\n",
              "    </tr>\n",
              "  </tbody>\n",
              "</table>\n",
              "</div>\n",
              "      <button class=\"colab-df-convert\" onclick=\"convertToInteractive('df-ec230e8c-332a-4395-a8ef-7ca98bc08254')\"\n",
              "              title=\"Convert this dataframe to an interactive table.\"\n",
              "              style=\"display:none;\">\n",
              "        \n",
              "  <svg xmlns=\"http://www.w3.org/2000/svg\" height=\"24px\"viewBox=\"0 0 24 24\"\n",
              "       width=\"24px\">\n",
              "    <path d=\"M0 0h24v24H0V0z\" fill=\"none\"/>\n",
              "    <path d=\"M18.56 5.44l.94 2.06.94-2.06 2.06-.94-2.06-.94-.94-2.06-.94 2.06-2.06.94zm-11 1L8.5 8.5l.94-2.06 2.06-.94-2.06-.94L8.5 2.5l-.94 2.06-2.06.94zm10 10l.94 2.06.94-2.06 2.06-.94-2.06-.94-.94-2.06-.94 2.06-2.06.94z\"/><path d=\"M17.41 7.96l-1.37-1.37c-.4-.4-.92-.59-1.43-.59-.52 0-1.04.2-1.43.59L10.3 9.45l-7.72 7.72c-.78.78-.78 2.05 0 2.83L4 21.41c.39.39.9.59 1.41.59.51 0 1.02-.2 1.41-.59l7.78-7.78 2.81-2.81c.8-.78.8-2.07 0-2.86zM5.41 20L4 18.59l7.72-7.72 1.47 1.35L5.41 20z\"/>\n",
              "  </svg>\n",
              "      </button>\n",
              "      \n",
              "  <style>\n",
              "    .colab-df-container {\n",
              "      display:flex;\n",
              "      flex-wrap:wrap;\n",
              "      gap: 12px;\n",
              "    }\n",
              "\n",
              "    .colab-df-convert {\n",
              "      background-color: #E8F0FE;\n",
              "      border: none;\n",
              "      border-radius: 50%;\n",
              "      cursor: pointer;\n",
              "      display: none;\n",
              "      fill: #1967D2;\n",
              "      height: 32px;\n",
              "      padding: 0 0 0 0;\n",
              "      width: 32px;\n",
              "    }\n",
              "\n",
              "    .colab-df-convert:hover {\n",
              "      background-color: #E2EBFA;\n",
              "      box-shadow: 0px 1px 2px rgba(60, 64, 67, 0.3), 0px 1px 3px 1px rgba(60, 64, 67, 0.15);\n",
              "      fill: #174EA6;\n",
              "    }\n",
              "\n",
              "    [theme=dark] .colab-df-convert {\n",
              "      background-color: #3B4455;\n",
              "      fill: #D2E3FC;\n",
              "    }\n",
              "\n",
              "    [theme=dark] .colab-df-convert:hover {\n",
              "      background-color: #434B5C;\n",
              "      box-shadow: 0px 1px 3px 1px rgba(0, 0, 0, 0.15);\n",
              "      filter: drop-shadow(0px 1px 2px rgba(0, 0, 0, 0.3));\n",
              "      fill: #FFFFFF;\n",
              "    }\n",
              "  </style>\n",
              "\n",
              "      <script>\n",
              "        const buttonEl =\n",
              "          document.querySelector('#df-ec230e8c-332a-4395-a8ef-7ca98bc08254 button.colab-df-convert');\n",
              "        buttonEl.style.display =\n",
              "          google.colab.kernel.accessAllowed ? 'block' : 'none';\n",
              "\n",
              "        async function convertToInteractive(key) {\n",
              "          const element = document.querySelector('#df-ec230e8c-332a-4395-a8ef-7ca98bc08254');\n",
              "          const dataTable =\n",
              "            await google.colab.kernel.invokeFunction('convertToInteractive',\n",
              "                                                     [key], {});\n",
              "          if (!dataTable) return;\n",
              "\n",
              "          const docLinkHtml = 'Like what you see? Visit the ' +\n",
              "            '<a target=\"_blank\" href=https://colab.research.google.com/notebooks/data_table.ipynb>data table notebook</a>'\n",
              "            + ' to learn more about interactive tables.';\n",
              "          element.innerHTML = '';\n",
              "          dataTable['output_type'] = 'display_data';\n",
              "          await google.colab.output.renderOutput(dataTable, element);\n",
              "          const docLink = document.createElement('div');\n",
              "          docLink.innerHTML = docLinkHtml;\n",
              "          element.appendChild(docLink);\n",
              "        }\n",
              "      </script>\n",
              "    </div>\n",
              "  </div>\n",
              "  "
            ]
          },
          "metadata": {},
          "execution_count": 76
        }
      ]
    },
    {
      "cell_type": "markdown",
      "source": [
        "#### *The second product KP481 seems to be popular amongst the age groups 25 and 23.*"
      ],
      "metadata": {
        "id": "Y8_SkreK9e1x"
      }
    },
    {
      "cell_type": "code",
      "source": [
        "# Top 10 users of the product KP781 by Age\n",
        "top10_KP3 = {'Age Count': aero_df[aero_df['Product']=='KP781']['Age'].value_counts()}\n",
        "top10_KP3_df = pd.DataFrame(top10_KP3)\n",
        "top10_KP3_df.head(10)"
      ],
      "metadata": {
        "colab": {
          "base_uri": "https://localhost:8080/",
          "height": 363
        },
        "id": "NXFNojOtrNYX",
        "outputId": "c0393bbe-e390-49ce-dd3f-d06e0f5bff81"
      },
      "execution_count": null,
      "outputs": [
        {
          "output_type": "execute_result",
          "data": {
            "text/plain": [
              "    Age Count\n",
              "25          7\n",
              "24          4\n",
              "22          3\n",
              "27          3\n",
              "28          3\n",
              "30          3\n",
              "23          3\n",
              "26          2\n",
              "29          2\n",
              "40          1"
            ],
            "text/html": [
              "\n",
              "  <div id=\"df-95389067-b668-4948-a8d7-17ae0a2749df\">\n",
              "    <div class=\"colab-df-container\">\n",
              "      <div>\n",
              "<style scoped>\n",
              "    .dataframe tbody tr th:only-of-type {\n",
              "        vertical-align: middle;\n",
              "    }\n",
              "\n",
              "    .dataframe tbody tr th {\n",
              "        vertical-align: top;\n",
              "    }\n",
              "\n",
              "    .dataframe thead th {\n",
              "        text-align: right;\n",
              "    }\n",
              "</style>\n",
              "<table border=\"1\" class=\"dataframe\">\n",
              "  <thead>\n",
              "    <tr style=\"text-align: right;\">\n",
              "      <th></th>\n",
              "      <th>Age Count</th>\n",
              "    </tr>\n",
              "  </thead>\n",
              "  <tbody>\n",
              "    <tr>\n",
              "      <th>25</th>\n",
              "      <td>7</td>\n",
              "    </tr>\n",
              "    <tr>\n",
              "      <th>24</th>\n",
              "      <td>4</td>\n",
              "    </tr>\n",
              "    <tr>\n",
              "      <th>22</th>\n",
              "      <td>3</td>\n",
              "    </tr>\n",
              "    <tr>\n",
              "      <th>27</th>\n",
              "      <td>3</td>\n",
              "    </tr>\n",
              "    <tr>\n",
              "      <th>28</th>\n",
              "      <td>3</td>\n",
              "    </tr>\n",
              "    <tr>\n",
              "      <th>30</th>\n",
              "      <td>3</td>\n",
              "    </tr>\n",
              "    <tr>\n",
              "      <th>23</th>\n",
              "      <td>3</td>\n",
              "    </tr>\n",
              "    <tr>\n",
              "      <th>26</th>\n",
              "      <td>2</td>\n",
              "    </tr>\n",
              "    <tr>\n",
              "      <th>29</th>\n",
              "      <td>2</td>\n",
              "    </tr>\n",
              "    <tr>\n",
              "      <th>40</th>\n",
              "      <td>1</td>\n",
              "    </tr>\n",
              "  </tbody>\n",
              "</table>\n",
              "</div>\n",
              "      <button class=\"colab-df-convert\" onclick=\"convertToInteractive('df-95389067-b668-4948-a8d7-17ae0a2749df')\"\n",
              "              title=\"Convert this dataframe to an interactive table.\"\n",
              "              style=\"display:none;\">\n",
              "        \n",
              "  <svg xmlns=\"http://www.w3.org/2000/svg\" height=\"24px\"viewBox=\"0 0 24 24\"\n",
              "       width=\"24px\">\n",
              "    <path d=\"M0 0h24v24H0V0z\" fill=\"none\"/>\n",
              "    <path d=\"M18.56 5.44l.94 2.06.94-2.06 2.06-.94-2.06-.94-.94-2.06-.94 2.06-2.06.94zm-11 1L8.5 8.5l.94-2.06 2.06-.94-2.06-.94L8.5 2.5l-.94 2.06-2.06.94zm10 10l.94 2.06.94-2.06 2.06-.94-2.06-.94-.94-2.06-.94 2.06-2.06.94z\"/><path d=\"M17.41 7.96l-1.37-1.37c-.4-.4-.92-.59-1.43-.59-.52 0-1.04.2-1.43.59L10.3 9.45l-7.72 7.72c-.78.78-.78 2.05 0 2.83L4 21.41c.39.39.9.59 1.41.59.51 0 1.02-.2 1.41-.59l7.78-7.78 2.81-2.81c.8-.78.8-2.07 0-2.86zM5.41 20L4 18.59l7.72-7.72 1.47 1.35L5.41 20z\"/>\n",
              "  </svg>\n",
              "      </button>\n",
              "      \n",
              "  <style>\n",
              "    .colab-df-container {\n",
              "      display:flex;\n",
              "      flex-wrap:wrap;\n",
              "      gap: 12px;\n",
              "    }\n",
              "\n",
              "    .colab-df-convert {\n",
              "      background-color: #E8F0FE;\n",
              "      border: none;\n",
              "      border-radius: 50%;\n",
              "      cursor: pointer;\n",
              "      display: none;\n",
              "      fill: #1967D2;\n",
              "      height: 32px;\n",
              "      padding: 0 0 0 0;\n",
              "      width: 32px;\n",
              "    }\n",
              "\n",
              "    .colab-df-convert:hover {\n",
              "      background-color: #E2EBFA;\n",
              "      box-shadow: 0px 1px 2px rgba(60, 64, 67, 0.3), 0px 1px 3px 1px rgba(60, 64, 67, 0.15);\n",
              "      fill: #174EA6;\n",
              "    }\n",
              "\n",
              "    [theme=dark] .colab-df-convert {\n",
              "      background-color: #3B4455;\n",
              "      fill: #D2E3FC;\n",
              "    }\n",
              "\n",
              "    [theme=dark] .colab-df-convert:hover {\n",
              "      background-color: #434B5C;\n",
              "      box-shadow: 0px 1px 3px 1px rgba(0, 0, 0, 0.15);\n",
              "      filter: drop-shadow(0px 1px 2px rgba(0, 0, 0, 0.3));\n",
              "      fill: #FFFFFF;\n",
              "    }\n",
              "  </style>\n",
              "\n",
              "      <script>\n",
              "        const buttonEl =\n",
              "          document.querySelector('#df-95389067-b668-4948-a8d7-17ae0a2749df button.colab-df-convert');\n",
              "        buttonEl.style.display =\n",
              "          google.colab.kernel.accessAllowed ? 'block' : 'none';\n",
              "\n",
              "        async function convertToInteractive(key) {\n",
              "          const element = document.querySelector('#df-95389067-b668-4948-a8d7-17ae0a2749df');\n",
              "          const dataTable =\n",
              "            await google.colab.kernel.invokeFunction('convertToInteractive',\n",
              "                                                     [key], {});\n",
              "          if (!dataTable) return;\n",
              "\n",
              "          const docLinkHtml = 'Like what you see? Visit the ' +\n",
              "            '<a target=\"_blank\" href=https://colab.research.google.com/notebooks/data_table.ipynb>data table notebook</a>'\n",
              "            + ' to learn more about interactive tables.';\n",
              "          element.innerHTML = '';\n",
              "          dataTable['output_type'] = 'display_data';\n",
              "          await google.colab.output.renderOutput(dataTable, element);\n",
              "          const docLink = document.createElement('div');\n",
              "          docLink.innerHTML = docLinkHtml;\n",
              "          element.appendChild(docLink);\n",
              "        }\n",
              "      </script>\n",
              "    </div>\n",
              "  </div>\n",
              "  "
            ]
          },
          "metadata": {},
          "execution_count": 77
        }
      ]
    },
    {
      "cell_type": "markdown",
      "source": [
        "#### *The third product KP781 seems to be popular amongst the age group 25 and 24.*"
      ],
      "metadata": {
        "id": "gdtBtVRH9xQw"
      }
    },
    {
      "cell_type": "code",
      "source": [
        "# top age group which purchased the threadmils\n",
        "top_age_group = aero_df[['Product', 'Age']].value_counts()\n",
        "top_age_group.head(10)"
      ],
      "metadata": {
        "colab": {
          "base_uri": "https://localhost:8080/"
        },
        "id": "Zpg0Rqj6-Hm2",
        "outputId": "bb3ae2e8-bcc4-4340-8245-a1f43de4e8c4"
      },
      "execution_count": null,
      "outputs": [
        {
          "output_type": "execute_result",
          "data": {
            "text/plain": [
              "Product  Age\n",
              "KP481    25     11\n",
              "KP281    23      8\n",
              "KP481    23      7\n",
              "KP281    25      7\n",
              "         26      7\n",
              "KP781    25      7\n",
              "KP281    28      6\n",
              "KP481    33      5\n",
              "KP281    24      5\n",
              "         38      4\n",
              "dtype: int64"
            ]
          },
          "metadata": {},
          "execution_count": 10
        }
      ]
    },
    {
      "cell_type": "code",
      "source": [
        "sns.countplot(data=aero_df, x=\"Age\")\n",
        "plt.show()"
      ],
      "metadata": {
        "colab": {
          "base_uri": "https://localhost:8080/",
          "height": 279
        },
        "id": "tpTE-4pqH8wM",
        "outputId": "4980ef61-6f4c-4db1-895b-5695ab04f54b"
      },
      "execution_count": null,
      "outputs": [
        {
          "output_type": "display_data",
          "data": {
            "text/plain": [
              "<Figure size 432x288 with 1 Axes>"
            ],
            "image/png": "[encoded data removed]"
          },
          "metadata": {
            "needs_background": "light"
          }
        }
      ]
    },
    {
      "cell_type": "code",
      "source": [
        "from pandas.core.ops.dispatch import Any\n",
        "sns.displot(data=aero_df, x='Age')\n",
        "plt.show()"
      ],
      "metadata": {
        "colab": {
          "base_uri": "https://localhost:8080/",
          "height": 369
        },
        "id": "JkXQ1iwrVimH",
        "outputId": "3ecdc2f8-eb71-4c82-dff5-9220240215d8"
      },
      "execution_count": null,
      "outputs": [
        {
          "output_type": "display_data",
          "data": {
            "text/plain": [
              "<Figure size 360x360 with 1 Axes>"
            ],
            "image/png": "[encoded data removed]"
          },
          "metadata": {
            "needs_background": "light"
          }
        }
      ]
    },
    {
      "cell_type": "markdown",
      "source": [
        "#### *This indicates that generally threadmills are mostly bought by the age groups between 23 to 28.*"
      ],
      "metadata": {
        "id": "5tjFkt1a_NUO"
      }
    },
    {
      "cell_type": "code",
      "source": [
        "# Top 10 users of KP281 by gender & by Age\n",
        "count_by_gender = aero_df[aero_df['Product']=='KP281']['Gender'].value_counts()\n",
        "count_by_gender_by_age = aero_df[aero_df['Product']==\"KP281\"][['Gender', 'Age']].sort_values(by='Gender').value_counts()\n",
        "print(\"*** KP281 Count by Gender ***\\n\", count_by_gender)\n",
        "print()\n",
        "print(\"*** KP281 Count by gender & age ***\\n\", count_by_gender_by_age.head(10))"
      ],
      "metadata": {
        "colab": {
          "base_uri": "https://localhost:8080/"
        },
        "id": "CkO3qZAa-X6J",
        "outputId": "ab79f4a3-d8a8-44f3-978b-e2f200219f5a"
      },
      "execution_count": null,
      "outputs": [
        {
          "output_type": "stream",
          "name": "stdout",
          "text": [
            "*** KP281 Count by Gender ***\n",
            " Male      40\n",
            "Female    40\n",
            "Name: Gender, dtype: int64\n",
            "\n",
            "*** KP281 Count by gender & age ***\n",
            " Gender  Age\n",
            "Male    23     5\n",
            "        26     4\n",
            "Female  25     4\n",
            "        28     4\n",
            "Male    25     3\n",
            "Female  22     3\n",
            "        23     3\n",
            "        24     3\n",
            "        26     3\n",
            "Male    38     3\n",
            "dtype: int64\n"
          ]
        }
      ]
    },
    {
      "cell_type": "markdown",
      "source": [
        "#### *the Product KP281 is equally purchased by both Male & Females. Amongst the Age group for Male it is 23 & 26; for Female it is 25 & 28.*"
      ],
      "metadata": {
        "id": "sf8yb18eS7IS"
      }
    },
    {
      "cell_type": "code",
      "source": [
        "# Top 10 users of KP481 by gender & by Age\n",
        "count_by_gender = aero_df[aero_df['Product']=='KP481']['Gender'].value_counts()\n",
        "count_by_gender_by_age = aero_df[aero_df['Product']==\"KP481\"][['Gender', 'Age']].sort_values(by='Gender').value_counts()\n",
        "print(\"*** KP281 Count by Gender ***\\n\", count_by_gender)\n",
        "print()\n",
        "print(\"*** KP281 Count by gender & age ***\\n\", count_by_gender_by_age.head(10))"
      ],
      "metadata": {
        "colab": {
          "base_uri": "https://localhost:8080/"
        },
        "id": "4TNnGGbpSwtR",
        "outputId": "9f209570-23c9-4678-9110-1c176be3cee5"
      },
      "execution_count": null,
      "outputs": [
        {
          "output_type": "stream",
          "name": "stdout",
          "text": [
            "*** KP281 Count by Gender ***\n",
            " Male      31\n",
            "Female    29\n",
            "Name: Gender, dtype: int64\n",
            "\n",
            "*** KP281 Count by gender & age ***\n",
            " Gender  Age\n",
            "Male    25     6\n",
            "Female  25     5\n",
            "Male    23     4\n",
            "Female  23     3\n",
            "        33     3\n",
            "Male    20     2\n",
            "        35     2\n",
            "        32     2\n",
            "        21     2\n",
            "        33     2\n",
            "dtype: int64\n"
          ]
        }
      ]
    },
    {
      "cell_type": "markdown",
      "source": [
        "#### *More Males have purchased the Product KP481 than Females. Amongst the Age group for both Male & Female it is 25 and 23 who purchased in high numbers.*"
      ],
      "metadata": {
        "id": "9n0AacefHWr8"
      }
    },
    {
      "cell_type": "code",
      "source": [
        "# Top 10 users of KP781 by gender & by Age\n",
        "count_by_gender = aero_df[aero_df['Product']=='KP781']['Gender'].value_counts()\n",
        "count_by_gender_by_age = aero_df[aero_df['Product']==\"KP781\"][['Gender', 'Age']].sort_values(by='Gender').value_counts()\n",
        "print(\"*** KP281 Count by Gender ***\\n\", count_by_gender)\n",
        "print()\n",
        "print(\"*** KP281 Count by gender & age ***\\n\", count_by_gender_by_age.head(10))"
      ],
      "metadata": {
        "colab": {
          "base_uri": "https://localhost:8080/"
        },
        "id": "9l1OkY-NTZGn",
        "outputId": "35c07434-4b86-484a-a570-29215755adcb"
      },
      "execution_count": null,
      "outputs": [
        {
          "output_type": "stream",
          "name": "stdout",
          "text": [
            "*** KP281 Count by Gender ***\n",
            " Male      33\n",
            "Female     7\n",
            "Name: Gender, dtype: int64\n",
            "\n",
            "*** KP281 Count by gender & age ***\n",
            " Gender  Age\n",
            "Male    25     6\n",
            "        27     3\n",
            "        22     3\n",
            "        24     3\n",
            "        23     2\n",
            "        28     2\n",
            "        29     2\n",
            "        30     2\n",
            "        31     1\n",
            "        47     1\n",
            "dtype: int64\n"
          ]
        }
      ]
    },
    {
      "cell_type": "markdown",
      "source": [
        "#### *Interestingly the product KP781 seems to be highly popular with 75% of Males buying it. Only 25% of females have bought KP781.* "
      ],
      "metadata": {
        "id": "d9UnJ5mMTn27"
      }
    },
    {
      "cell_type": "code",
      "source": [
        "# Fitness impact due to Usage amongst the Gender\n",
        "sns.barplot(data=aero_df, x='Usage', y='Fitness', hue='Gender')\n",
        "plt.title(\"Usage Vs Fitness (Gender)\")\n",
        "plt.show()"
      ],
      "metadata": {
        "colab": {
          "base_uri": "https://localhost:8080/",
          "height": 295
        },
        "id": "ILhYaY5w_nj_",
        "outputId": "260d10bd-e69c-4bac-e3cd-6875df401c0f"
      },
      "execution_count": null,
      "outputs": [
        {
          "output_type": "display_data",
          "data": {
            "text/plain": [
              "<Figure size 432x288 with 1 Axes>"
            ],
            "image/png": "[encoded data removed]"
          },
          "metadata": {
            "needs_background": "light"
          }
        }
      ]
    },
    {
      "cell_type": "markdown",
      "source": [
        "#### *This correleation indicates high usage & fitness is amongst Male community.*"
      ],
      "metadata": {
        "id": "LxYj3H9U_q2b"
      }
    },
    {
      "cell_type": "code",
      "source": [
        "# Fitness impact due to Usage based on Marital Status\n",
        "sns.barplot(data=aero_df, x='Usage', y='Fitness', hue='MaritalStatus')\n",
        "plt.title(\"Usage Vs Fitness (MaritalStatus)\")\n",
        "plt.show()"
      ],
      "metadata": {
        "colab": {
          "base_uri": "https://localhost:8080/",
          "height": 295
        },
        "id": "OMIik6LpN7rL",
        "outputId": "8fe842a8-cbd1-474e-e3f6-d794e14eb27b"
      },
      "execution_count": null,
      "outputs": [
        {
          "output_type": "display_data",
          "data": {
            "text/plain": [
              "<Figure size 432x288 with 1 Axes>"
            ],
            "image/png": "[encoded data removed]"
          },
          "metadata": {
            "needs_background": "light"
          }
        }
      ]
    },
    {
      "cell_type": "markdown",
      "source": [
        "#### *This correleation indicates high usage & fitness is amongst those who are 'Single'; at the same time, interestingly the top Usage & high Fitness is recorded by 'Partenered'.*"
      ],
      "metadata": {
        "id": "FzvtQl3pAdmL"
      }
    },
    {
      "cell_type": "code",
      "source": [
        "# cust_mask = aero_df['Age']\n",
        "cust_list = aero_df[aero_df['Product']=='KP281'][['Gender','Miles']].sort_values(by='Miles', ascending=False).head(10)\n",
        "cust_list\n"
      ],
      "metadata": {
        "colab": {
          "base_uri": "https://localhost:8080/",
          "height": 363
        },
        "id": "LHcg3JYB-9lQ",
        "outputId": "9db92322-81f0-404f-b874-80743290ac35"
      },
      "execution_count": null,
      "outputs": [
        {
          "output_type": "execute_result",
          "data": {
            "text/plain": [
              "    Gender  Miles\n",
              "23  Female    188\n",
              "61    Male    169\n",
              "8     Male    141\n",
              "53    Male    141\n",
              "39    Male    132\n",
              "72    Male    132\n",
              "34  Female    113\n",
              "57  Female    113\n",
              "31    Male    113\n",
              "48    Male    113"
            ],
            "text/html": [
              "\n",
              "  <div id=\"df-6180a52a-a263-45e5-bf69-724c47de5f8e\">\n",
              "    <div class=\"colab-df-container\">\n",
              "      <div>\n",
              "<style scoped>\n",
              "    .dataframe tbody tr th:only-of-type {\n",
              "        vertical-align: middle;\n",
              "    }\n",
              "\n",
              "    .dataframe tbody tr th {\n",
              "        vertical-align: top;\n",
              "    }\n",
              "\n",
              "    .dataframe thead th {\n",
              "        text-align: right;\n",
              "    }\n",
              "</style>\n",
              "<table border=\"1\" class=\"dataframe\">\n",
              "  <thead>\n",
              "    <tr style=\"text-align: right;\">\n",
              "      <th></th>\n",
              "      <th>Gender</th>\n",
              "      <th>Miles</th>\n",
              "    </tr>\n",
              "  </thead>\n",
              "  <tbody>\n",
              "    <tr>\n",
              "      <th>23</th>\n",
              "      <td>Female</td>\n",
              "      <td>188</td>\n",
              "    </tr>\n",
              "    <tr>\n",
              "      <th>61</th>\n",
              "      <td>Male</td>\n",
              "      <td>169</td>\n",
              "    </tr>\n",
              "    <tr>\n",
              "      <th>8</th>\n",
              "      <td>Male</td>\n",
              "      <td>141</td>\n",
              "    </tr>\n",
              "    <tr>\n",
              "      <th>53</th>\n",
              "      <td>Male</td>\n",
              "      <td>141</td>\n",
              "    </tr>\n",
              "    <tr>\n",
              "      <th>39</th>\n",
              "      <td>Male</td>\n",
              "      <td>132</td>\n",
              "    </tr>\n",
              "    <tr>\n",
              "      <th>72</th>\n",
              "      <td>Male</td>\n",
              "      <td>132</td>\n",
              "    </tr>\n",
              "    <tr>\n",
              "      <th>34</th>\n",
              "      <td>Female</td>\n",
              "      <td>113</td>\n",
              "    </tr>\n",
              "    <tr>\n",
              "      <th>57</th>\n",
              "      <td>Female</td>\n",
              "      <td>113</td>\n",
              "    </tr>\n",
              "    <tr>\n",
              "      <th>31</th>\n",
              "      <td>Male</td>\n",
              "      <td>113</td>\n",
              "    </tr>\n",
              "    <tr>\n",
              "      <th>48</th>\n",
              "      <td>Male</td>\n",
              "      <td>113</td>\n",
              "    </tr>\n",
              "  </tbody>\n",
              "</table>\n",
              "</div>\n",
              "      <button class=\"colab-df-convert\" onclick=\"convertToInteractive('df-6180a52a-a263-45e5-bf69-724c47de5f8e')\"\n",
              "              title=\"Convert this dataframe to an interactive table.\"\n",
              "              style=\"display:none;\">\n",
              "        \n",
              "  <svg xmlns=\"http://www.w3.org/2000/svg\" height=\"24px\"viewBox=\"0 0 24 24\"\n",
              "       width=\"24px\">\n",
              "    <path d=\"M0 0h24v24H0V0z\" fill=\"none\"/>\n",
              "    <path d=\"M18.56 5.44l.94 2.06.94-2.06 2.06-.94-2.06-.94-.94-2.06-.94 2.06-2.06.94zm-11 1L8.5 8.5l.94-2.06 2.06-.94-2.06-.94L8.5 2.5l-.94 2.06-2.06.94zm10 10l.94 2.06.94-2.06 2.06-.94-2.06-.94-.94-2.06-.94 2.06-2.06.94z\"/><path d=\"M17.41 7.96l-1.37-1.37c-.4-.4-.92-.59-1.43-.59-.52 0-1.04.2-1.43.59L10.3 9.45l-7.72 7.72c-.78.78-.78 2.05 0 2.83L4 21.41c.39.39.9.59 1.41.59.51 0 1.02-.2 1.41-.59l7.78-7.78 2.81-2.81c.8-.78.8-2.07 0-2.86zM5.41 20L4 18.59l7.72-7.72 1.47 1.35L5.41 20z\"/>\n",
              "  </svg>\n",
              "      </button>\n",
              "      \n",
              "  <style>\n",
              "    .colab-df-container {\n",
              "      display:flex;\n",
              "      flex-wrap:wrap;\n",
              "      gap: 12px;\n",
              "    }\n",
              "\n",
              "    .colab-df-convert {\n",
              "      background-color: #E8F0FE;\n",
              "      border: none;\n",
              "      border-radius: 50%;\n",
              "      cursor: pointer;\n",
              "      display: none;\n",
              "      fill: #1967D2;\n",
              "      height: 32px;\n",
              "      padding: 0 0 0 0;\n",
              "      width: 32px;\n",
              "    }\n",
              "\n",
              "    .colab-df-convert:hover {\n",
              "      background-color: #E2EBFA;\n",
              "      box-shadow: 0px 1px 2px rgba(60, 64, 67, 0.3), 0px 1px 3px 1px rgba(60, 64, 67, 0.15);\n",
              "      fill: #174EA6;\n",
              "    }\n",
              "\n",
              "    [theme=dark] .colab-df-convert {\n",
              "      background-color: #3B4455;\n",
              "      fill: #D2E3FC;\n",
              "    }\n",
              "\n",
              "    [theme=dark] .colab-df-convert:hover {\n",
              "      background-color: #434B5C;\n",
              "      box-shadow: 0px 1px 3px 1px rgba(0, 0, 0, 0.15);\n",
              "      filter: drop-shadow(0px 1px 2px rgba(0, 0, 0, 0.3));\n",
              "      fill: #FFFFFF;\n",
              "    }\n",
              "  </style>\n",
              "\n",
              "      <script>\n",
              "        const buttonEl =\n",
              "          document.querySelector('#df-6180a52a-a263-45e5-bf69-724c47de5f8e button.colab-df-convert');\n",
              "        buttonEl.style.display =\n",
              "          google.colab.kernel.accessAllowed ? 'block' : 'none';\n",
              "\n",
              "        async function convertToInteractive(key) {\n",
              "          const element = document.querySelector('#df-6180a52a-a263-45e5-bf69-724c47de5f8e');\n",
              "          const dataTable =\n",
              "            await google.colab.kernel.invokeFunction('convertToInteractive',\n",
              "                                                     [key], {});\n",
              "          if (!dataTable) return;\n",
              "\n",
              "          const docLinkHtml = 'Like what you see? Visit the ' +\n",
              "            '<a target=\"_blank\" href=https://colab.research.google.com/notebooks/data_table.ipynb>data table notebook</a>'\n",
              "            + ' to learn more about interactive tables.';\n",
              "          element.innerHTML = '';\n",
              "          dataTable['output_type'] = 'display_data';\n",
              "          await google.colab.output.renderOutput(dataTable, element);\n",
              "          const docLink = document.createElement('div');\n",
              "          docLink.innerHTML = docLinkHtml;\n",
              "          element.appendChild(docLink);\n",
              "        }\n",
              "      </script>\n",
              "    </div>\n",
              "  </div>\n",
              "  "
            ]
          },
          "metadata": {},
          "execution_count": 26
        }
      ]
    },
    {
      "cell_type": "markdown",
      "source": [
        "#### *this indicates that for the product KP281, the more miles are run predominantly by Males.*"
      ],
      "metadata": {
        "id": "tbxP8qt0sZDl"
      }
    },
    {
      "cell_type": "code",
      "source": [
        "# Fitness impact due to Usage based on Marital Status\n",
        "sns.boxplot(data=aero_df, x='Gender', y='Miles', hue='MaritalStatus')\n",
        "plt.title(\"Gender Vs Miles\")\n",
        "plt.show()"
      ],
      "metadata": {
        "colab": {
          "base_uri": "https://localhost:8080/",
          "height": 295
        },
        "id": "jEfJP8BkR-Iu",
        "outputId": "fb898d73-1f77-4436-fdd7-985727ac770f"
      },
      "execution_count": null,
      "outputs": [
        {
          "output_type": "display_data",
          "data": {
            "text/plain": [
              "<Figure size 432x288 with 1 Axes>"
            ],
            "image/png": "[encoded data removed]"
          },
          "metadata": {
            "needs_background": "light"
          }
        }
      ]
    },
    {
      "cell_type": "markdown",
      "source": [
        "#### *Miles run seems to be quite stable amongst Males irrespective of their Marital Status. But, there are good number of outliers in female partnered segment.*"
      ],
      "metadata": {
        "id": "K_pfOU89EggI"
      }
    },
    {
      "cell_type": "code",
      "source": [
        "# Usage based on Marital Status\n",
        "sns.boxplot(data=aero_df, x='Gender', y='Usage', hue='MaritalStatus')\n",
        "plt.title(\"Gender Vs Usage\")\n",
        "plt.show()"
      ],
      "metadata": {
        "colab": {
          "base_uri": "https://localhost:8080/",
          "height": 295
        },
        "id": "gKPHuYtUTcyR",
        "outputId": "82c094d5-0af3-4ac3-f2ae-7f0a04ba42ed"
      },
      "execution_count": null,
      "outputs": [
        {
          "output_type": "display_data",
          "data": {
            "text/plain": [
              "<Figure size 432x288 with 1 Axes>"
            ],
            "image/png": "[encoded data removed]"
          },
          "metadata": {
            "needs_background": "light"
          }
        }
      ]
    },
    {
      "cell_type": "markdown",
      "source": [
        "#### *On Usage, there is a stable usage of 3 to 4 times a day by Females. But there are outliers amongst Male and that too Male Partnered segment.*"
      ],
      "metadata": {
        "id": "zgcSKkgiFHJF"
      }
    },
    {
      "cell_type": "code",
      "source": [
        " sns.boxplot(data=aero_df, x='Gender', y='Age')\n",
        " plt.show()"
      ],
      "metadata": {
        "colab": {
          "base_uri": "https://localhost:8080/",
          "height": 279
        },
        "id": "eXqfc9-r839T",
        "outputId": "45613e58-3954-4082-aac1-1dcb792faff7"
      },
      "execution_count": null,
      "outputs": [
        {
          "output_type": "display_data",
          "data": {
            "text/plain": [
              "<Figure size 432x288 with 1 Axes>"
            ],
            "image/png": "[encoded data removed]"
          },
          "metadata": {
            "needs_background": "light"
          }
        }
      ]
    },
    {
      "cell_type": "markdown",
      "source": [
        "#### *Amongst the purchasers age group the outlier lies in female category.*"
      ],
      "metadata": {
        "id": "WgicJMTyXkgh"
      }
    },
    {
      "cell_type": "code",
      "source": [
        " sns.boxplot(data=aero_df, x='Product', y='Usage')\n",
        " plt.title('Products by Usage')\n",
        " plt.show()"
      ],
      "metadata": {
        "colab": {
          "base_uri": "https://localhost:8080/",
          "height": 295
        },
        "id": "pwOZxhKR-BLs",
        "outputId": "d07b3824-60a7-41aa-92f1-bf6f394119a5"
      },
      "execution_count": null,
      "outputs": [
        {
          "output_type": "display_data",
          "data": {
            "text/plain": [
              "<Figure size 432x288 with 1 Axes>"
            ],
            "image/png": "[encoded data removed]"
          },
          "metadata": {
            "needs_background": "light"
          }
        }
      ]
    },
    {
      "cell_type": "markdown",
      "source": [
        "#### *The third product KP781 seem to have more frequent usage than others; and the second product KP481 is less used*"
      ],
      "metadata": {
        "id": "FpwQ5Fpcr8wV"
      }
    },
    {
      "cell_type": "code",
      "source": [
        "prod_by_age = aero_df[aero_df['Product']=='KP781'].sort_values('Miles', ascending=False)\n",
        "prod_by_age.head(10)"
      ],
      "metadata": {
        "colab": {
          "base_uri": "https://localhost:8080/",
          "height": 363
        },
        "id": "bhllEz4tmFKG",
        "outputId": "58cb226b-74d0-471a-8485-aae921086af4"
      },
      "execution_count": null,
      "outputs": [
        {
          "output_type": "execute_result",
          "data": {
            "text/plain": [
              "    Product  Age  Gender  Education MaritalStatus  Usage  Fitness  Income  \\\n",
              "173   KP781   35    Male         16     Partnered      4        5   92131   \n",
              "166   KP781   29    Male         14     Partnered      7        5   85906   \n",
              "167   KP781   30  Female         16     Partnered      6        5   90886   \n",
              "170   KP781   31    Male         16     Partnered      6        5   89641   \n",
              "155   KP781   25    Male         18     Partnered      6        5   75946   \n",
              "171   KP781   33  Female         18     Partnered      4        5   95866   \n",
              "175   KP781   40    Male         21        Single      6        5   83416   \n",
              "148   KP781   24  Female         16        Single      5        5   52291   \n",
              "142   KP781   22    Male         18        Single      4        5   48556   \n",
              "152   KP781   25  Female         18     Partnered      5        5   61006   \n",
              "\n",
              "     Miles  \n",
              "173    360  \n",
              "166    300  \n",
              "167    280  \n",
              "170    260  \n",
              "155    240  \n",
              "171    200  \n",
              "175    200  \n",
              "148    200  \n",
              "142    200  \n",
              "152    200  "
            ],
            "text/html": [
              "\n",
              "  <div id=\"df-0cc9905f-8258-44e2-94d8-76bca4f011e8\">\n",
              "    <div class=\"colab-df-container\">\n",
              "      <div>\n",
              "<style scoped>\n",
              "    .dataframe tbody tr th:only-of-type {\n",
              "        vertical-align: middle;\n",
              "    }\n",
              "\n",
              "    .dataframe tbody tr th {\n",
              "        vertical-align: top;\n",
              "    }\n",
              "\n",
              "    .dataframe thead th {\n",
              "        text-align: right;\n",
              "    }\n",
              "</style>\n",
              "<table border=\"1\" class=\"dataframe\">\n",
              "  <thead>\n",
              "    <tr style=\"text-align: right;\">\n",
              "      <th></th>\n",
              "      <th>Product</th>\n",
              "      <th>Age</th>\n",
              "      <th>Gender</th>\n",
              "      <th>Education</th>\n",
              "      <th>MaritalStatus</th>\n",
              "      <th>Usage</th>\n",
              "      <th>Fitness</th>\n",
              "      <th>Income</th>\n",
              "      <th>Miles</th>\n",
              "    </tr>\n",
              "  </thead>\n",
              "  <tbody>\n",
              "    <tr>\n",
              "      <th>173</th>\n",
              "      <td>KP781</td>\n",
              "      <td>35</td>\n",
              "      <td>Male</td>\n",
              "      <td>16</td>\n",
              "      <td>Partnered</td>\n",
              "      <td>4</td>\n",
              "      <td>5</td>\n",
              "      <td>92131</td>\n",
              "      <td>360</td>\n",
              "    </tr>\n",
              "    <tr>\n",
              "      <th>166</th>\n",
              "      <td>KP781</td>\n",
              "      <td>29</td>\n",
              "      <td>Male</td>\n",
              "      <td>14</td>\n",
              "      <td>Partnered</td>\n",
              "      <td>7</td>\n",
              "      <td>5</td>\n",
              "      <td>85906</td>\n",
              "      <td>300</td>\n",
              "    </tr>\n",
              "    <tr>\n",
              "      <th>167</th>\n",
              "      <td>KP781</td>\n",
              "      <td>30</td>\n",
              "      <td>Female</td>\n",
              "      <td>16</td>\n",
              "      <td>Partnered</td>\n",
              "      <td>6</td>\n",
              "      <td>5</td>\n",
              "      <td>90886</td>\n",
              "      <td>280</td>\n",
              "    </tr>\n",
              "    <tr>\n",
              "      <th>170</th>\n",
              "      <td>KP781</td>\n",
              "      <td>31</td>\n",
              "      <td>Male</td>\n",
              "      <td>16</td>\n",
              "      <td>Partnered</td>\n",
              "      <td>6</td>\n",
              "      <td>5</td>\n",
              "      <td>89641</td>\n",
              "      <td>260</td>\n",
              "    </tr>\n",
              "    <tr>\n",
              "      <th>155</th>\n",
              "      <td>KP781</td>\n",
              "      <td>25</td>\n",
              "      <td>Male</td>\n",
              "      <td>18</td>\n",
              "      <td>Partnered</td>\n",
              "      <td>6</td>\n",
              "      <td>5</td>\n",
              "      <td>75946</td>\n",
              "      <td>240</td>\n",
              "    </tr>\n",
              "    <tr>\n",
              "      <th>171</th>\n",
              "      <td>KP781</td>\n",
              "      <td>33</td>\n",
              "      <td>Female</td>\n",
              "      <td>18</td>\n",
              "      <td>Partnered</td>\n",
              "      <td>4</td>\n",
              "      <td>5</td>\n",
              "      <td>95866</td>\n",
              "      <td>200</td>\n",
              "    </tr>\n",
              "    <tr>\n",
              "      <th>175</th>\n",
              "      <td>KP781</td>\n",
              "      <td>40</td>\n",
              "      <td>Male</td>\n",
              "      <td>21</td>\n",
              "      <td>Single</td>\n",
              "      <td>6</td>\n",
              "      <td>5</td>\n",
              "      <td>83416</td>\n",
              "      <td>200</td>\n",
              "    </tr>\n",
              "    <tr>\n",
              "      <th>148</th>\n",
              "      <td>KP781</td>\n",
              "      <td>24</td>\n",
              "      <td>Female</td>\n",
              "      <td>16</td>\n",
              "      <td>Single</td>\n",
              "      <td>5</td>\n",
              "      <td>5</td>\n",
              "      <td>52291</td>\n",
              "      <td>200</td>\n",
              "    </tr>\n",
              "    <tr>\n",
              "      <th>142</th>\n",
              "      <td>KP781</td>\n",
              "      <td>22</td>\n",
              "      <td>Male</td>\n",
              "      <td>18</td>\n",
              "      <td>Single</td>\n",
              "      <td>4</td>\n",
              "      <td>5</td>\n",
              "      <td>48556</td>\n",
              "      <td>200</td>\n",
              "    </tr>\n",
              "    <tr>\n",
              "      <th>152</th>\n",
              "      <td>KP781</td>\n",
              "      <td>25</td>\n",
              "      <td>Female</td>\n",
              "      <td>18</td>\n",
              "      <td>Partnered</td>\n",
              "      <td>5</td>\n",
              "      <td>5</td>\n",
              "      <td>61006</td>\n",
              "      <td>200</td>\n",
              "    </tr>\n",
              "  </tbody>\n",
              "</table>\n",
              "</div>\n",
              "      <button class=\"colab-df-convert\" onclick=\"convertToInteractive('df-0cc9905f-8258-44e2-94d8-76bca4f011e8')\"\n",
              "              title=\"Convert this dataframe to an interactive table.\"\n",
              "              style=\"display:none;\">\n",
              "        \n",
              "  <svg xmlns=\"http://www.w3.org/2000/svg\" height=\"24px\"viewBox=\"0 0 24 24\"\n",
              "       width=\"24px\">\n",
              "    <path d=\"M0 0h24v24H0V0z\" fill=\"none\"/>\n",
              "    <path d=\"M18.56 5.44l.94 2.06.94-2.06 2.06-.94-2.06-.94-.94-2.06-.94 2.06-2.06.94zm-11 1L8.5 8.5l.94-2.06 2.06-.94-2.06-.94L8.5 2.5l-.94 2.06-2.06.94zm10 10l.94 2.06.94-2.06 2.06-.94-2.06-.94-.94-2.06-.94 2.06-2.06.94z\"/><path d=\"M17.41 7.96l-1.37-1.37c-.4-.4-.92-.59-1.43-.59-.52 0-1.04.2-1.43.59L10.3 9.45l-7.72 7.72c-.78.78-.78 2.05 0 2.83L4 21.41c.39.39.9.59 1.41.59.51 0 1.02-.2 1.41-.59l7.78-7.78 2.81-2.81c.8-.78.8-2.07 0-2.86zM5.41 20L4 18.59l7.72-7.72 1.47 1.35L5.41 20z\"/>\n",
              "  </svg>\n",
              "      </button>\n",
              "      \n",
              "  <style>\n",
              "    .colab-df-container {\n",
              "      display:flex;\n",
              "      flex-wrap:wrap;\n",
              "      gap: 12px;\n",
              "    }\n",
              "\n",
              "    .colab-df-convert {\n",
              "      background-color: #E8F0FE;\n",
              "      border: none;\n",
              "      border-radius: 50%;\n",
              "      cursor: pointer;\n",
              "      display: none;\n",
              "      fill: #1967D2;\n",
              "      height: 32px;\n",
              "      padding: 0 0 0 0;\n",
              "      width: 32px;\n",
              "    }\n",
              "\n",
              "    .colab-df-convert:hover {\n",
              "      background-color: #E2EBFA;\n",
              "      box-shadow: 0px 1px 2px rgba(60, 64, 67, 0.3), 0px 1px 3px 1px rgba(60, 64, 67, 0.15);\n",
              "      fill: #174EA6;\n",
              "    }\n",
              "\n",
              "    [theme=dark] .colab-df-convert {\n",
              "      background-color: #3B4455;\n",
              "      fill: #D2E3FC;\n",
              "    }\n",
              "\n",
              "    [theme=dark] .colab-df-convert:hover {\n",
              "      background-color: #434B5C;\n",
              "      box-shadow: 0px 1px 3px 1px rgba(0, 0, 0, 0.15);\n",
              "      filter: drop-shadow(0px 1px 2px rgba(0, 0, 0, 0.3));\n",
              "      fill: #FFFFFF;\n",
              "    }\n",
              "  </style>\n",
              "\n",
              "      <script>\n",
              "        const buttonEl =\n",
              "          document.querySelector('#df-0cc9905f-8258-44e2-94d8-76bca4f011e8 button.colab-df-convert');\n",
              "        buttonEl.style.display =\n",
              "          google.colab.kernel.accessAllowed ? 'block' : 'none';\n",
              "\n",
              "        async function convertToInteractive(key) {\n",
              "          const element = document.querySelector('#df-0cc9905f-8258-44e2-94d8-76bca4f011e8');\n",
              "          const dataTable =\n",
              "            await google.colab.kernel.invokeFunction('convertToInteractive',\n",
              "                                                     [key], {});\n",
              "          if (!dataTable) return;\n",
              "\n",
              "          const docLinkHtml = 'Like what you see? Visit the ' +\n",
              "            '<a target=\"_blank\" href=https://colab.research.google.com/notebooks/data_table.ipynb>data table notebook</a>'\n",
              "            + ' to learn more about interactive tables.';\n",
              "          element.innerHTML = '';\n",
              "          dataTable['output_type'] = 'display_data';\n",
              "          await google.colab.output.renderOutput(dataTable, element);\n",
              "          const docLink = document.createElement('div');\n",
              "          docLink.innerHTML = docLinkHtml;\n",
              "          element.appendChild(docLink);\n",
              "        }\n",
              "      </script>\n",
              "    </div>\n",
              "  </div>\n",
              "  "
            ]
          },
          "metadata": {},
          "execution_count": 130
        }
      ]
    },
    {
      "cell_type": "code",
      "source": [
        "prod_by_age = aero_df[aero_df['Product']=='KP781'].sort_values('Miles', ascending=False)\n",
        "prod_by_age.tail(10)"
      ],
      "metadata": {
        "colab": {
          "base_uri": "https://localhost:8080/",
          "height": 363
        },
        "id": "ZRlPJju2rlzf",
        "outputId": "0a02326c-58f7-48f1-9f18-ef71bc58a796"
      },
      "execution_count": null,
      "outputs": [
        {
          "output_type": "execute_result",
          "data": {
            "text/plain": [
              "    Product  Age  Gender  Education MaritalStatus  Usage  Fitness  Income  \\\n",
              "150   KP781   25    Male         16     Partnered      4        5   49801   \n",
              "140   KP781   22    Male         14        Single      4        3   48658   \n",
              "161   KP781   27    Male         21     Partnered      4        4   90886   \n",
              "157   KP781   26  Female         21        Single      4        3   69721   \n",
              "153   KP781   25    Male         18     Partnered      4        3   64741   \n",
              "146   KP781   24    Male         16        Single      4        5   61006   \n",
              "145   KP781   23    Male         16        Single      4        5   48556   \n",
              "144   KP781   23  Female         18        Single      5        4   53536   \n",
              "160   KP781   27    Male         18        Single      4        3   88396   \n",
              "147   KP781   24    Male         18     Partnered      4        5   57271   \n",
              "\n",
              "     Miles  \n",
              "150    120  \n",
              "140    106  \n",
              "161    100  \n",
              "157    100  \n",
              "153    100  \n",
              "146    100  \n",
              "145    100  \n",
              "144    100  \n",
              "160    100  \n",
              "147     80  "
            ],
            "text/html": [
              "\n",
              "  <div id=\"df-e113a96f-3f97-4ca8-a7a0-121c4e0bb3e1\">\n",
              "    <div class=\"colab-df-container\">\n",
              "      <div>\n",
              "<style scoped>\n",
              "    .dataframe tbody tr th:only-of-type {\n",
              "        vertical-align: middle;\n",
              "    }\n",
              "\n",
              "    .dataframe tbody tr th {\n",
              "        vertical-align: top;\n",
              "    }\n",
              "\n",
              "    .dataframe thead th {\n",
              "        text-align: right;\n",
              "    }\n",
              "</style>\n",
              "<table border=\"1\" class=\"dataframe\">\n",
              "  <thead>\n",
              "    <tr style=\"text-align: right;\">\n",
              "      <th></th>\n",
              "      <th>Product</th>\n",
              "      <th>Age</th>\n",
              "      <th>Gender</th>\n",
              "      <th>Education</th>\n",
              "      <th>MaritalStatus</th>\n",
              "      <th>Usage</th>\n",
              "      <th>Fitness</th>\n",
              "      <th>Income</th>\n",
              "      <th>Miles</th>\n",
              "    </tr>\n",
              "  </thead>\n",
              "  <tbody>\n",
              "    <tr>\n",
              "      <th>150</th>\n",
              "      <td>KP781</td>\n",
              "      <td>25</td>\n",
              "      <td>Male</td>\n",
              "      <td>16</td>\n",
              "      <td>Partnered</td>\n",
              "      <td>4</td>\n",
              "      <td>5</td>\n",
              "      <td>49801</td>\n",
              "      <td>120</td>\n",
              "    </tr>\n",
              "    <tr>\n",
              "      <th>140</th>\n",
              "      <td>KP781</td>\n",
              "      <td>22</td>\n",
              "      <td>Male</td>\n",
              "      <td>14</td>\n",
              "      <td>Single</td>\n",
              "      <td>4</td>\n",
              "      <td>3</td>\n",
              "      <td>48658</td>\n",
              "      <td>106</td>\n",
              "    </tr>\n",
              "    <tr>\n",
              "      <th>161</th>\n",
              "      <td>KP781</td>\n",
              "      <td>27</td>\n",
              "      <td>Male</td>\n",
              "      <td>21</td>\n",
              "      <td>Partnered</td>\n",
              "      <td>4</td>\n",
              "      <td>4</td>\n",
              "      <td>90886</td>\n",
              "      <td>100</td>\n",
              "    </tr>\n",
              "    <tr>\n",
              "      <th>157</th>\n",
              "      <td>KP781</td>\n",
              "      <td>26</td>\n",
              "      <td>Female</td>\n",
              "      <td>21</td>\n",
              "      <td>Single</td>\n",
              "      <td>4</td>\n",
              "      <td>3</td>\n",
              "      <td>69721</td>\n",
              "      <td>100</td>\n",
              "    </tr>\n",
              "    <tr>\n",
              "      <th>153</th>\n",
              "      <td>KP781</td>\n",
              "      <td>25</td>\n",
              "      <td>Male</td>\n",
              "      <td>18</td>\n",
              "      <td>Partnered</td>\n",
              "      <td>4</td>\n",
              "      <td>3</td>\n",
              "      <td>64741</td>\n",
              "      <td>100</td>\n",
              "    </tr>\n",
              "    <tr>\n",
              "      <th>146</th>\n",
              "      <td>KP781</td>\n",
              "      <td>24</td>\n",
              "      <td>Male</td>\n",
              "      <td>16</td>\n",
              "      <td>Single</td>\n",
              "      <td>4</td>\n",
              "      <td>5</td>\n",
              "      <td>61006</td>\n",
              "      <td>100</td>\n",
              "    </tr>\n",
              "    <tr>\n",
              "      <th>145</th>\n",
              "      <td>KP781</td>\n",
              "      <td>23</td>\n",
              "      <td>Male</td>\n",
              "      <td>16</td>\n",
              "      <td>Single</td>\n",
              "      <td>4</td>\n",
              "      <td>5</td>\n",
              "      <td>48556</td>\n",
              "      <td>100</td>\n",
              "    </tr>\n",
              "    <tr>\n",
              "      <th>144</th>\n",
              "      <td>KP781</td>\n",
              "      <td>23</td>\n",
              "      <td>Female</td>\n",
              "      <td>18</td>\n",
              "      <td>Single</td>\n",
              "      <td>5</td>\n",
              "      <td>4</td>\n",
              "      <td>53536</td>\n",
              "      <td>100</td>\n",
              "    </tr>\n",
              "    <tr>\n",
              "      <th>160</th>\n",
              "      <td>KP781</td>\n",
              "      <td>27</td>\n",
              "      <td>Male</td>\n",
              "      <td>18</td>\n",
              "      <td>Single</td>\n",
              "      <td>4</td>\n",
              "      <td>3</td>\n",
              "      <td>88396</td>\n",
              "      <td>100</td>\n",
              "    </tr>\n",
              "    <tr>\n",
              "      <th>147</th>\n",
              "      <td>KP781</td>\n",
              "      <td>24</td>\n",
              "      <td>Male</td>\n",
              "      <td>18</td>\n",
              "      <td>Partnered</td>\n",
              "      <td>4</td>\n",
              "      <td>5</td>\n",
              "      <td>57271</td>\n",
              "      <td>80</td>\n",
              "    </tr>\n",
              "  </tbody>\n",
              "</table>\n",
              "</div>\n",
              "      <button class=\"colab-df-convert\" onclick=\"convertToInteractive('df-e113a96f-3f97-4ca8-a7a0-121c4e0bb3e1')\"\n",
              "              title=\"Convert this dataframe to an interactive table.\"\n",
              "              style=\"display:none;\">\n",
              "        \n",
              "  <svg xmlns=\"http://www.w3.org/2000/svg\" height=\"24px\"viewBox=\"0 0 24 24\"\n",
              "       width=\"24px\">\n",
              "    <path d=\"M0 0h24v24H0V0z\" fill=\"none\"/>\n",
              "    <path d=\"M18.56 5.44l.94 2.06.94-2.06 2.06-.94-2.06-.94-.94-2.06-.94 2.06-2.06.94zm-11 1L8.5 8.5l.94-2.06 2.06-.94-2.06-.94L8.5 2.5l-.94 2.06-2.06.94zm10 10l.94 2.06.94-2.06 2.06-.94-2.06-.94-.94-2.06-.94 2.06-2.06.94z\"/><path d=\"M17.41 7.96l-1.37-1.37c-.4-.4-.92-.59-1.43-.59-.52 0-1.04.2-1.43.59L10.3 9.45l-7.72 7.72c-.78.78-.78 2.05 0 2.83L4 21.41c.39.39.9.59 1.41.59.51 0 1.02-.2 1.41-.59l7.78-7.78 2.81-2.81c.8-.78.8-2.07 0-2.86zM5.41 20L4 18.59l7.72-7.72 1.47 1.35L5.41 20z\"/>\n",
              "  </svg>\n",
              "      </button>\n",
              "      \n",
              "  <style>\n",
              "    .colab-df-container {\n",
              "      display:flex;\n",
              "      flex-wrap:wrap;\n",
              "      gap: 12px;\n",
              "    }\n",
              "\n",
              "    .colab-df-convert {\n",
              "      background-color: #E8F0FE;\n",
              "      border: none;\n",
              "      border-radius: 50%;\n",
              "      cursor: pointer;\n",
              "      display: none;\n",
              "      fill: #1967D2;\n",
              "      height: 32px;\n",
              "      padding: 0 0 0 0;\n",
              "      width: 32px;\n",
              "    }\n",
              "\n",
              "    .colab-df-convert:hover {\n",
              "      background-color: #E2EBFA;\n",
              "      box-shadow: 0px 1px 2px rgba(60, 64, 67, 0.3), 0px 1px 3px 1px rgba(60, 64, 67, 0.15);\n",
              "      fill: #174EA6;\n",
              "    }\n",
              "\n",
              "    [theme=dark] .colab-df-convert {\n",
              "      background-color: #3B4455;\n",
              "      fill: #D2E3FC;\n",
              "    }\n",
              "\n",
              "    [theme=dark] .colab-df-convert:hover {\n",
              "      background-color: #434B5C;\n",
              "      box-shadow: 0px 1px 3px 1px rgba(0, 0, 0, 0.15);\n",
              "      filter: drop-shadow(0px 1px 2px rgba(0, 0, 0, 0.3));\n",
              "      fill: #FFFFFF;\n",
              "    }\n",
              "  </style>\n",
              "\n",
              "      <script>\n",
              "        const buttonEl =\n",
              "          document.querySelector('#df-e113a96f-3f97-4ca8-a7a0-121c4e0bb3e1 button.colab-df-convert');\n",
              "        buttonEl.style.display =\n",
              "          google.colab.kernel.accessAllowed ? 'block' : 'none';\n",
              "\n",
              "        async function convertToInteractive(key) {\n",
              "          const element = document.querySelector('#df-e113a96f-3f97-4ca8-a7a0-121c4e0bb3e1');\n",
              "          const dataTable =\n",
              "            await google.colab.kernel.invokeFunction('convertToInteractive',\n",
              "                                                     [key], {});\n",
              "          if (!dataTable) return;\n",
              "\n",
              "          const docLinkHtml = 'Like what you see? Visit the ' +\n",
              "            '<a target=\"_blank\" href=https://colab.research.google.com/notebooks/data_table.ipynb>data table notebook</a>'\n",
              "            + ' to learn more about interactive tables.';\n",
              "          element.innerHTML = '';\n",
              "          dataTable['output_type'] = 'display_data';\n",
              "          await google.colab.output.renderOutput(dataTable, element);\n",
              "          const docLink = document.createElement('div');\n",
              "          docLink.innerHTML = docLinkHtml;\n",
              "          element.appendChild(docLink);\n",
              "        }\n",
              "      </script>\n",
              "    </div>\n",
              "  </div>\n",
              "  "
            ]
          },
          "metadata": {},
          "execution_count": 131
        }
      ]
    },
    {
      "cell_type": "markdown",
      "source": [
        "#### *The above result set indicate that the product KP781 has got more miles run by 'Partnered' and less miles by 'Singles'*"
      ],
      "metadata": {
        "id": "TtAc9cWcrohv"
      }
    },
    {
      "cell_type": "code",
      "source": [
        " sns.boxplot(data=aero_df, x='Product', y='Age')\n",
        " plt.title(\"Products by Age group\")\n",
        " plt.show()"
      ],
      "metadata": {
        "colab": {
          "base_uri": "https://localhost:8080/",
          "height": 295
        },
        "id": "VZB43P2NX3zi",
        "outputId": "403c14f5-c9f7-4f58-ace4-9eb1fdf7dcb2"
      },
      "execution_count": null,
      "outputs": [
        {
          "output_type": "display_data",
          "data": {
            "text/plain": [
              "<Figure size 432x288 with 1 Axes>"
            ],
            "image/png": "[encoded data removed]"
          },
          "metadata": {
            "needs_background": "light"
          }
        }
      ]
    },
    {
      "cell_type": "markdown",
      "source": [
        "#### *The first two products seem to be quite popular amongst age groups b/w 25 to 35; whereas the third product attracts higher age group* "
      ],
      "metadata": {
        "id": "ONu1wRU2lyFb"
      }
    },
    {
      "cell_type": "code",
      "source": [
        " sns.boxplot(data=aero_df, x='Product', y='Miles')\n",
        " plt.title(\"Products by Miles Run\")\n",
        " plt.show()"
      ],
      "metadata": {
        "colab": {
          "base_uri": "https://localhost:8080/",
          "height": 295
        },
        "id": "DFuelVd3YWjd",
        "outputId": "f3553246-83d9-403d-92ab-5c3bbbcb0d97"
      },
      "execution_count": null,
      "outputs": [
        {
          "output_type": "display_data",
          "data": {
            "text/plain": [
              "<Figure size 432x288 with 1 Axes>"
            ],
            "image/png": "[encoded data removed]"
          },
          "metadata": {
            "needs_background": "light"
          }
        }
      ]
    },
    {
      "cell_type": "markdown",
      "source": [
        "#### *Interestingly, though the third product KP781 is bought by less number of people, the miles run in it is higher than the other two products*"
      ],
      "metadata": {
        "id": "lO5tj7stliEr"
      }
    },
    {
      "cell_type": "code",
      "source": [
        " sns.boxplot(data=aero_df, x='Gender', y='Miles')\n",
        " plt.title(\"Miles run by Gender\")\n",
        " plt.show()"
      ],
      "metadata": {
        "colab": {
          "base_uri": "https://localhost:8080/",
          "height": 295
        },
        "id": "g2GUHR1gYkIc",
        "outputId": "92b7d602-b101-4d5f-d055-98e2ac827d97"
      },
      "execution_count": null,
      "outputs": [
        {
          "output_type": "display_data",
          "data": {
            "text/plain": [
              "<Figure size 432x288 with 1 Axes>"
            ],
            "image/png": "[encoded data removed]"
          },
          "metadata": {
            "needs_background": "light"
          }
        }
      ]
    },
    {
      "cell_type": "markdown",
      "source": [
        "#### *this graph shows Males run more miles in the threadmill than Females*"
      ],
      "metadata": {
        "id": "sm4KqAc8lVAQ"
      }
    },
    {
      "cell_type": "code",
      "source": [
        " sns.boxplot(data=aero_df, x='Gender', y='Fitness')\n",
        " plt.title(\"Fitness by Gender\")\n",
        " plt.show()"
      ],
      "metadata": {
        "colab": {
          "base_uri": "https://localhost:8080/",
          "height": 295
        },
        "id": "VURetSBuYMIV",
        "outputId": "822603e6-56f5-4884-8480-904c9f8e63ff"
      },
      "execution_count": null,
      "outputs": [
        {
          "output_type": "display_data",
          "data": {
            "text/plain": [
              "<Figure size 432x288 with 1 Axes>"
            ],
            "image/png": "[encoded data removed]"
          },
          "metadata": {
            "needs_background": "light"
          }
        }
      ]
    },
    {
      "cell_type": "markdown",
      "source": [
        "#### *Amongst the gender, Males are of more Fitness freak than Females*"
      ],
      "metadata": {
        "id": "5g5GeDAVlKEg"
      }
    },
    {
      "cell_type": "code",
      "source": [
        " sns.boxplot(data=aero_df, x='MaritalStatus', y='Fitness')\n",
        " plt.title(\"Fitness by Marital Status\")\n",
        " plt.show()"
      ],
      "metadata": {
        "colab": {
          "base_uri": "https://localhost:8080/",
          "height": 295
        },
        "id": "nnQhTWnuYup6",
        "outputId": "7c0a2168-efb9-4185-a80d-f5ce495cbf18"
      },
      "execution_count": null,
      "outputs": [
        {
          "output_type": "display_data",
          "data": {
            "text/plain": [
              "<Figure size 432x288 with 1 Axes>"
            ],
            "image/png": "[encoded data removed]"
          },
          "metadata": {
            "needs_background": "light"
          }
        }
      ]
    },
    {
      "cell_type": "markdown",
      "source": [
        "#### *this indicates that both Singles & Partnered seem to be equally Fitness freak*"
      ],
      "metadata": {
        "id": "1w0pNIOuk-N8"
      }
    },
    {
      "cell_type": "code",
      "source": [
        "# Usage based on Marital Status\n",
        "sns.barplot(data=aero_df, x='Product', y='Usage', hue='MaritalStatus')\n",
        "plt.title(\"Product Usage by MaritalStatus\")\n",
        "plt.show()"
      ],
      "metadata": {
        "id": "9pKoY14u-62O",
        "colab": {
          "base_uri": "https://localhost:8080/",
          "height": 295
        },
        "outputId": "26156584-7fd4-464c-a91e-33bdc0c367a2"
      },
      "execution_count": null,
      "outputs": [
        {
          "output_type": "display_data",
          "data": {
            "text/plain": [
              "<Figure size 432x288 with 1 Axes>"
            ],
            "image/png": "[encoded data removed]"
          },
          "metadata": {
            "needs_background": "light"
          }
        }
      ]
    },
    {
      "cell_type": "code",
      "source": [
        "# Fitness based on Marital Status\n",
        "sns.barplot(data=aero_df, x='Gender', y='Fitness', hue='Product')\n",
        "plt.title(\"Fitness by Gender\")\n",
        "plt.show()"
      ],
      "metadata": {
        "colab": {
          "base_uri": "https://localhost:8080/",
          "height": 295
        },
        "id": "Z5uW0s-sVixj",
        "outputId": "adcc6569-815f-47a3-dea8-3cef5c29a487"
      },
      "execution_count": null,
      "outputs": [
        {
          "output_type": "display_data",
          "data": {
            "text/plain": [
              "<Figure size 432x288 with 1 Axes>"
            ],
            "image/png": "[encoded data removed]"
          },
          "metadata": {
            "needs_background": "light"
          }
        }
      ]
    },
    {
      "cell_type": "markdown",
      "source": [
        "#### *the above graphs indicate that both from Fitness and Usage point of view the third product KP781 seems to be popular amongst both the genders irrespective of marital status*\n",
        "\n",
        "#### *the other two products are equally used*"
      ],
      "metadata": {
        "id": "mb8qhfHbkfSn"
      }
    },
    {
      "cell_type": "code",
      "source": [
        "# Count based on Marital Status & Age\n",
        "prod_cnt = aero_df['Product'].value_counts()\n",
        "sns.barplot(data=aero_df, x='MaritalStatus', y='Age', hue='Gender')\n",
        "plt.title(\"Age by Marital Status\")\n",
        "plt.show()"
      ],
      "metadata": {
        "colab": {
          "base_uri": "https://localhost:8080/",
          "height": 295
        },
        "id": "7YCoerXICdNE",
        "outputId": "1aad826c-32ab-4fbf-8d10-831ed2239140"
      },
      "execution_count": null,
      "outputs": [
        {
          "output_type": "display_data",
          "data": {
            "text/plain": [
              "<Figure size 432x288 with 1 Axes>"
            ],
            "image/png": "[encoded data removed]"
          },
          "metadata": {
            "needs_background": "light"
          }
        }
      ]
    },
    {
      "cell_type": "markdown",
      "source": [
        "#### *Male Singles seem to be younger compared Female Singles from those who purchased Threadmills. On the otherhand Partnered Males are of elder as compared to Partnered Females. This indicates Young females purchase threadmills more and male community buy them after they become partnered.*"
      ],
      "metadata": {
        "id": "tal8SM2rChOh"
      }
    },
    {
      "cell_type": "code",
      "source": [
        "# Count based on Marital Status & Fitness\n",
        "prod_cnt = aero_df['Product'].value_counts()\n",
        "sns.barplot(data=aero_df, x='MaritalStatus', y='Fitness', hue='Gender')\n",
        "plt.title(\"Fitness by Marital Status\")\n",
        "plt.show()"
      ],
      "metadata": {
        "id": "8nmW2MdECe4i",
        "colab": {
          "base_uri": "https://localhost:8080/",
          "height": 295
        },
        "outputId": "6385b695-2dda-47aa-e7ad-56dcb6dd9322"
      },
      "execution_count": null,
      "outputs": [
        {
          "output_type": "display_data",
          "data": {
            "text/plain": [
              "<Figure size 432x288 with 1 Axes>"
            ],
            "image/png": "[encoded data removed]"
          },
          "metadata": {
            "needs_background": "light"
          }
        }
      ]
    },
    {
      "cell_type": "markdown",
      "source": [
        "#### *Clearly males are more of Fitness oriented. Irrespective of Marital Status females seem to be at average fitness of 3.0*"
      ],
      "metadata": {
        "id": "3fx1UArYewwk"
      }
    },
    {
      "cell_type": "code",
      "source": [
        "# Education Vs Gender Vs Marital Status\n",
        "sns.barplot(data=aero_df, x='Gender', y='Education', hue='MaritalStatus')\n",
        "plt.title(\"Usage Vs Fitness (MaritalStatus)\")\n",
        "plt.show()"
      ],
      "metadata": {
        "colab": {
          "base_uri": "https://localhost:8080/",
          "height": 295
        },
        "id": "JhvssWTGaEKe",
        "outputId": "ff6f3e0d-73fa-4a46-c930-de52c23f5165"
      },
      "execution_count": null,
      "outputs": [
        {
          "output_type": "display_data",
          "data": {
            "text/plain": [
              "<Figure size 432x288 with 1 Axes>"
            ],
            "image/png": "[encoded data removed]"
          },
          "metadata": {
            "needs_background": "light"
          }
        }
      ]
    },
    {
      "cell_type": "markdown",
      "source": [
        "#### *Amongst the buyers, hightly educated ones are 'Male-Partnered' and 'Female-Singles'.*"
      ],
      "metadata": {
        "id": "qepp-K72abJr"
      }
    },
    {
      "cell_type": "code",
      "source": [
        "# Education Vs Gender Vs Marital Status\n",
        "sns.barplot(data=aero_df, x='Gender', y='Income', hue='MaritalStatus')\n",
        "plt.title(\"Usage Vs Fitness (MaritalStatus)\")\n",
        "plt.show()"
      ],
      "metadata": {
        "colab": {
          "base_uri": "https://localhost:8080/",
          "height": 295
        },
        "id": "EOmLdde2aHv3",
        "outputId": "e6f5e056-7284-497d-e1c7-848227de1163"
      },
      "execution_count": null,
      "outputs": [
        {
          "output_type": "display_data",
          "data": {
            "text/plain": [
              "<Figure size 432x288 with 1 Axes>"
            ],
            "image/png": "[encoded data removed]"
          },
          "metadata": {
            "needs_background": "light"
          }
        }
      ]
    },
    {
      "cell_type": "markdown",
      "source": [
        "#### *Amongst the buyers, the top earning segment is Male.*"
      ],
      "metadata": {
        "id": "PvcXBL7Ga5QI"
      }
    },
    {
      "cell_type": "code",
      "source": [
        "# Education Vs Gender Vs Marital Status\n",
        "sns.barplot(data=aero_df, x='Education', y='Income', hue='Gender')\n",
        "plt.title(\"Usage Vs Fitness (MaritalStatus)\")\n",
        "plt.show()"
      ],
      "metadata": {
        "colab": {
          "base_uri": "https://localhost:8080/",
          "height": 295
        },
        "id": "OfkTnTdhazDv",
        "outputId": "ce3e77cb-a2ba-496f-9c24-795b5d8ec919"
      },
      "execution_count": null,
      "outputs": [
        {
          "output_type": "display_data",
          "data": {
            "text/plain": [
              "<Figure size 432x288 with 1 Axes>"
            ],
            "image/png": "[encoded data removed]"
          },
          "metadata": {
            "needs_background": "light"
          }
        }
      ]
    },
    {
      "cell_type": "markdown",
      "source": [
        "#### *this graph clearly indicates Male community topping both in Education & Income amongst the buyers.*\n",
        "\n",
        "#### *while Male community is present at all Education levels, Females don't seem to have the lower Education (12) and one of the higher education (20)*"
      ],
      "metadata": {
        "id": "YyXfu2kubVFw"
      }
    },
    {
      "cell_type": "markdown",
      "source": [
        "# **5. Business Insights**\n",
        "## From the given dataset and based on the above analysis the following insights are drawn:\n",
        "\n",
        "*   As can be seen from the data, KP281 is sold more and KP781 is sold less amongst three products\n",
        "*   The age group who purchased high number of threadmills is between 23 & 26\n",
        "*   From the buyers list the Male community is large in number than Females\n",
        "*   Interestingly 'Partnered' category seem to have purchased the Threadmill more than the Singles\n",
        "*   About 61% females who are partnered have purchased Threadmills. Similarly amongst partnered males percentage is: 59. Amongst the Singles - Male Vs Female percentages are 41% and 39%. This indicates that purchase of Threadmill is higher among male singles compared to female singles; wherease it becomes reverse amongnst 'partnered' community\n",
        "*   Assuming the given Usage numbers are of number of times usage per day, majority of the customers use 3 times; Usage frequency of 3 or 4 times per day is more than others\n",
        "*   Interestingly the product KP781 is used 4 or more times a day, but that's the lowest sold among 3 threadmills. The other two products are sold in high numbers but mostly used 3 times a day\n",
        "*   There is a stable usage of 3 to 4 times a day by Females. But there are outliers amongst Male and that too Male Partnered segment\n",
        "*   The first product KP281 seems to be popular amongst the age groups 23 to 28\n",
        "*   The second product KP481 seems to be popular amongst the age groups 25 and 23\n",
        "*   The third product KP781 seems to be popular amongst the age group 25 and 24\n",
        "*   This indicates that generally threadmills are mostly bought by the age groups between 23 to 28\n",
        "*   The Product KP281 is equally purchased by both Male & Females. Amongst the Age group for Male it is 23 & 26; for Female it is 25 & 28\n",
        "*   More Males have purchased the Product KP481 than Females. Amongst the Age group for both Male & Female it is 25 and 23 who purchased in high numbers\n",
        "*   Interestingly the product KP781 seems to be highly popular with 75% of Males buying it. Only 25% of females have bought KP781.\n",
        "*   Correleation indicates high usage & fitness is amongst Male community\n",
        "*   Correleation indicates high usage & fitness is amongst those who are 'Single'; at the same time, interestingly the top Usage & high Fitness is recorded by 'Partenered'\n",
        "*   For the product KP281, the more miles are run predominantly by Males\n",
        "*   Miles run seems to be quite stable amongst Males irrespective of their Marital Status. But, there are good number of outliers in female partnered segment\n",
        "*   Amongst the purchaser's age group the outlier lies in female category\n",
        "*   The third product KP781 seem to have more frequent usage than others; and the second product KP481 is less used\n",
        "*   One of the result set indicates that the product KP781 has got more miles run by 'Partnered' and less miles by 'Singles'\n",
        "*   The first two products seem to be quite popular amongst age groups b/w 25 to 35; whereas the third product attracts higher age group\n",
        "*   Interestingly, though the third product KP781 is bought by less number of people, the miles run in it is higher than the other two products\n",
        "*   this graph shows Males run more miles in the threadmill than Females\n",
        "*   Amongst the gender, Males are of more Fitness freak than Females\n",
        "*   Both Singles & Partnered seem to be equally Fitness freak\n",
        "*   From Fitness and Usage point of view the third product KP781 seems to be popular amongst both the genders irrespective of marital status. The other two products are equally less used\n",
        "*   Male Singles seem to be younger compared Female Singles from those who purchased Threadmills. On the otherhand Partnered Males are more elder than Partnered Females. This indicates Young females purchase threadmills more and male community buy them after they become partnered\n",
        "*   Clearly males are more of Fitness oriented. Irrespective of Marital Status females seem to be at average fitness of 3.0\n",
        "*   Amongst the buyers, hightly educated ones are 'Male-Partnered' and 'Female-Singles'\n",
        "*   Amongst the buyers, the top earning segment is Male\n",
        "*   Male community tops both in Education & Income amongst the buyers\n",
        "*   while Male community is present in all Education levels, Females don't seem to present in the lower Education (12) and one of the higher education (20) segments.\n",
        "\n",
        "\n",
        "\n",
        "\n",
        "\n",
        "\n",
        "\n",
        "\n",
        "\n",
        "\n",
        "\n",
        "\n",
        "\n",
        "\n",
        "\n",
        "\n",
        "\n",
        "\n"
      ],
      "metadata": {
        "id": "_ugbdyF5uZxC"
      }
    },
    {
      "cell_type": "markdown",
      "source": [
        "# **6. Recommendations & Conclusion**\n",
        "## The closer look at the existing customers and the detailed analysis of given parameters have helped in deriving the below recommendations:\n",
        "\n",
        "*   **Product Type**: The product 'KP781' is more frequently used and those who \n",
        "    have used have higher % of Fitness. But it has less sales compared to other \n",
        "    two products\n",
        "    > Special features of 'KP781' can be highlighted prominently in the \n",
        "      marketing to attract more sales\n",
        "\n",
        "    > Product 'KP281' sold in more numbers. So, it's product features can be\n",
        "      more highlighted and sale numbers can be pubished to induce more buyers\n",
        "\n",
        "    > Introduce 'Friends & Family' referral discount program to increase the sales of products like 'KP481' and 'KP781'\n",
        "    \n",
        "\n",
        "*   **Age-Group**: High # of current customers fall in age group b/w 23 to 28. \n",
        "    > Special promotions like Student/Sportsman/Youth Package can be introduced \n",
        "      to attract more customers in this segment\n",
        "\n",
        "    > For the other age group customers, seasonal discounts can be given\n",
        "\n",
        "*   **Education & Income Segment**: Male community tops both in Education & \n",
        "    Income amongst the buyers\n",
        "    > Special programs like 'Graduation day' discount, 'Salary day' discount \n",
        "      can be offered to reward this particular segment\n",
        "    \n",
        "    > Uniquely designed discounts can be offered Female community to attract \n",
        "      more purchases  \n",
        "    \n",
        "    > Especially the females at the Education category (12) and (20) can be \n",
        "      given speical discounts as this segment is an untapped space\n",
        "      \n",
        "*   **Gender & Marital Status**: Male customers are higher than female.\n",
        "    > Uniquely designed products for female community will help. For eg: \n",
        "      features like, more softer handles, video screen in the center area to \n",
        "      watch their favorite programs, cell phone holders with ease of access, \n",
        "      etc., will help  \n",
        "    \n",
        "    > There should be always an added discount % of price for female\n",
        "    \n",
        "    > Special 'wedding day' discount can be given for couples\n",
        "\n",
        "    > Offer best 'Male ally' discount to those who buy product for their spouse\n",
        "    \n",
        "    > Conduct Qly/Hly/Annual events like half/full marathon with the customers and reward them with T-Shirts, goodies, etc.,\n",
        "\n",
        "*   **High Usage & Fitness Category**: From the given data it is evident that \n",
        "    males are using the threadmills higher than females and their fitness also \n",
        "    high.\n",
        "    > Introduce systems like 'Elite/Premium' membership, Credit points and \n",
        "      things like that to recognize the high usage, more miles & fitness \n",
        "    \n",
        "    > Supplement with add-ons to attract new customers\n",
        "    \n",
        "    > Free 'fitness classes' can be offered \n",
        "\n",
        "    > Reward the customers with consistent usage and those who maintain the streak \n",
        "    \n"
      ],
      "metadata": {
        "id": "1MBZ5Kl0u0o9"
      }
    },
    {
      "cell_type": "markdown",
      "source": [
        "\n",
        "\n",
        "---\n",
        "\n",
        "\n",
        "\n",
        "---\n",
        "\n"
      ],
      "metadata": {
        "id": "l1gTzGuKfkmw"
      }
    },
    {
      "cell_type": "code",
      "source": [],
      "metadata": {
        "id": "yb7r89PdbKYI"
      },
      "execution_count": null,
      "outputs": []
    }
  ]
}